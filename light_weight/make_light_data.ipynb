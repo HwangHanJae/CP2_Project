{
 "cells": [
  {
   "cell_type": "code",
   "execution_count": 3,
   "id": "6739de7a",
   "metadata": {
    "ExecuteTime": {
     "end_time": "2022-09-16T01:33:47.997545Z",
     "start_time": "2022-09-16T01:33:47.206109Z"
    }
   },
   "outputs": [],
   "source": [
    "import pandas as pd"
   ]
  },
  {
   "cell_type": "markdown",
   "id": "abbb809f",
   "metadata": {},
   "source": [
    "# 데이터 로드"
   ]
  },
  {
   "cell_type": "code",
   "execution_count": 22,
   "id": "4bec327a",
   "metadata": {
    "ExecuteTime": {
     "end_time": "2022-09-16T01:46:03.369981Z",
     "start_time": "2022-09-16T01:45:08.769930Z"
    }
   },
   "outputs": [
    {
     "data": {
      "text/html": [
       "<div>\n",
       "<style scoped>\n",
       "    .dataframe tbody tr th:only-of-type {\n",
       "        vertical-align: middle;\n",
       "    }\n",
       "\n",
       "    .dataframe tbody tr th {\n",
       "        vertical-align: top;\n",
       "    }\n",
       "\n",
       "    .dataframe thead th {\n",
       "        text-align: right;\n",
       "    }\n",
       "</style>\n",
       "<table border=\"1\" class=\"dataframe\">\n",
       "  <thead>\n",
       "    <tr style=\"text-align: right;\">\n",
       "      <th></th>\n",
       "      <th>event_time</th>\n",
       "      <th>event_type</th>\n",
       "      <th>product_id</th>\n",
       "      <th>category_id</th>\n",
       "      <th>category_code</th>\n",
       "      <th>brand</th>\n",
       "      <th>price</th>\n",
       "      <th>user_id</th>\n",
       "      <th>user_session</th>\n",
       "    </tr>\n",
       "  </thead>\n",
       "  <tbody>\n",
       "    <tr>\n",
       "      <th>0</th>\n",
       "      <td>2019-10-01 00:00:00 UTC</td>\n",
       "      <td>view</td>\n",
       "      <td>44600062</td>\n",
       "      <td>2103807459595387724</td>\n",
       "      <td>NaN</td>\n",
       "      <td>shiseido</td>\n",
       "      <td>35.79</td>\n",
       "      <td>541312140</td>\n",
       "      <td>72d76fde-8bb3-4e00-8c23-a032dfed738c</td>\n",
       "    </tr>\n",
       "    <tr>\n",
       "      <th>1</th>\n",
       "      <td>2019-10-01 00:00:00 UTC</td>\n",
       "      <td>view</td>\n",
       "      <td>3900821</td>\n",
       "      <td>2053013552326770905</td>\n",
       "      <td>appliances.environment.water_heater</td>\n",
       "      <td>aqua</td>\n",
       "      <td>33.20</td>\n",
       "      <td>554748717</td>\n",
       "      <td>9333dfbd-b87a-4708-9857-6336556b0fcc</td>\n",
       "    </tr>\n",
       "    <tr>\n",
       "      <th>2</th>\n",
       "      <td>2019-10-01 00:00:01 UTC</td>\n",
       "      <td>view</td>\n",
       "      <td>17200506</td>\n",
       "      <td>2053013559792632471</td>\n",
       "      <td>furniture.living_room.sofa</td>\n",
       "      <td>NaN</td>\n",
       "      <td>543.10</td>\n",
       "      <td>519107250</td>\n",
       "      <td>566511c2-e2e3-422b-b695-cf8e6e792ca8</td>\n",
       "    </tr>\n",
       "    <tr>\n",
       "      <th>3</th>\n",
       "      <td>2019-10-01 00:00:01 UTC</td>\n",
       "      <td>view</td>\n",
       "      <td>1307067</td>\n",
       "      <td>2053013558920217191</td>\n",
       "      <td>computers.notebook</td>\n",
       "      <td>lenovo</td>\n",
       "      <td>251.74</td>\n",
       "      <td>550050854</td>\n",
       "      <td>7c90fc70-0e80-4590-96f3-13c02c18c713</td>\n",
       "    </tr>\n",
       "    <tr>\n",
       "      <th>4</th>\n",
       "      <td>2019-10-01 00:00:04 UTC</td>\n",
       "      <td>view</td>\n",
       "      <td>1004237</td>\n",
       "      <td>2053013555631882655</td>\n",
       "      <td>electronics.smartphone</td>\n",
       "      <td>apple</td>\n",
       "      <td>1081.98</td>\n",
       "      <td>535871217</td>\n",
       "      <td>c6bd7419-2748-4c56-95b4-8cec9ff8b80d</td>\n",
       "    </tr>\n",
       "  </tbody>\n",
       "</table>\n",
       "</div>"
      ],
      "text/plain": [
       "                event_time event_type  product_id          category_id  \\\n",
       "0  2019-10-01 00:00:00 UTC       view    44600062  2103807459595387724   \n",
       "1  2019-10-01 00:00:00 UTC       view     3900821  2053013552326770905   \n",
       "2  2019-10-01 00:00:01 UTC       view    17200506  2053013559792632471   \n",
       "3  2019-10-01 00:00:01 UTC       view     1307067  2053013558920217191   \n",
       "4  2019-10-01 00:00:04 UTC       view     1004237  2053013555631882655   \n",
       "\n",
       "                         category_code     brand    price    user_id  \\\n",
       "0                                  NaN  shiseido    35.79  541312140   \n",
       "1  appliances.environment.water_heater      aqua    33.20  554748717   \n",
       "2           furniture.living_room.sofa       NaN   543.10  519107250   \n",
       "3                   computers.notebook    lenovo   251.74  550050854   \n",
       "4               electronics.smartphone     apple  1081.98  535871217   \n",
       "\n",
       "                           user_session  \n",
       "0  72d76fde-8bb3-4e00-8c23-a032dfed738c  \n",
       "1  9333dfbd-b87a-4708-9857-6336556b0fcc  \n",
       "2  566511c2-e2e3-422b-b695-cf8e6e792ca8  \n",
       "3  7c90fc70-0e80-4590-96f3-13c02c18c713  \n",
       "4  c6bd7419-2748-4c56-95b4-8cec9ff8b80d  "
      ]
     },
     "execution_count": 22,
     "metadata": {},
     "output_type": "execute_result"
    }
   ],
   "source": [
    "data_path ='C:/Users/User/Desktop/AIB_13/CP2/raw_data/'\n",
    "df= pd.read_csv(data_path+'2019-Oct.csv')\n",
    "df.head()"
   ]
  },
  {
   "cell_type": "code",
   "execution_count": 23,
   "id": "53e2d984",
   "metadata": {
    "ExecuteTime": {
     "end_time": "2022-09-16T01:46:03.414993Z",
     "start_time": "2022-09-16T01:46:03.401983Z"
    }
   },
   "outputs": [
    {
     "data": {
      "text/plain": [
       "(42448764, 9)"
      ]
     },
     "execution_count": 23,
     "metadata": {},
     "output_type": "execute_result"
    }
   ],
   "source": [
    "df.shape"
   ]
  },
  {
   "cell_type": "markdown",
   "id": "83336bf2",
   "metadata": {},
   "source": [
    "# 데이터 확인"
   ]
  },
  {
   "cell_type": "code",
   "execution_count": 24,
   "id": "b6b636e7",
   "metadata": {
    "ExecuteTime": {
     "end_time": "2022-09-16T01:46:03.459999Z",
     "start_time": "2022-09-16T01:46:03.447002Z"
    }
   },
   "outputs": [
    {
     "name": "stdout",
     "output_type": "stream",
     "text": [
      "<class 'pandas.core.frame.DataFrame'>\n",
      "RangeIndex: 42448764 entries, 0 to 42448763\n",
      "Data columns (total 9 columns):\n",
      " #   Column         Dtype  \n",
      "---  ------         -----  \n",
      " 0   event_time     object \n",
      " 1   event_type     object \n",
      " 2   product_id     int64  \n",
      " 3   category_id    int64  \n",
      " 4   category_code  object \n",
      " 5   brand          object \n",
      " 6   price          float64\n",
      " 7   user_id        int64  \n",
      " 8   user_session   object \n",
      "dtypes: float64(1), int64(3), object(5)\n",
      "memory usage: 2.8+ GB\n"
     ]
    }
   ],
   "source": [
    "df.info()"
   ]
  },
  {
   "cell_type": "markdown",
   "id": "5cf83798",
   "metadata": {},
   "source": [
    "## 데이터의 타입 변경 후 확인"
   ]
  },
  {
   "cell_type": "code",
   "execution_count": 45,
   "id": "86f0eb05",
   "metadata": {
    "ExecuteTime": {
     "end_time": "2022-09-16T01:51:52.144113Z",
     "start_time": "2022-09-16T01:51:51.475137Z"
    }
   },
   "outputs": [
    {
     "data": {
      "text/plain": [
       "166794"
      ]
     },
     "execution_count": 45,
     "metadata": {},
     "output_type": "execute_result"
    }
   ],
   "source": [
    "df['product_id'].nunique()"
   ]
  },
  {
   "cell_type": "code",
   "execution_count": 47,
   "id": "65fa4a39",
   "metadata": {
    "ExecuteTime": {
     "end_time": "2022-09-16T01:52:17.136054Z",
     "start_time": "2022-09-16T01:52:16.790054Z"
    }
   },
   "outputs": [
    {
     "data": {
      "text/plain": [
       "166794"
      ]
     },
     "execution_count": 47,
     "metadata": {},
     "output_type": "execute_result"
    }
   ],
   "source": [
    "df['product_id'].astype('int32').nunique()"
   ]
  },
  {
   "cell_type": "code",
   "execution_count": 26,
   "id": "0dab7041",
   "metadata": {
    "ExecuteTime": {
     "end_time": "2022-09-16T01:46:48.898167Z",
     "start_time": "2022-09-16T01:46:48.641168Z"
    },
    "scrolled": true
   },
   "outputs": [
    {
     "data": {
      "text/plain": [
       "624"
      ]
     },
     "execution_count": 26,
     "metadata": {},
     "output_type": "execute_result"
    }
   ],
   "source": [
    "df['category_id'].nunique()"
   ]
  },
  {
   "cell_type": "code",
   "execution_count": 39,
   "id": "bcbf261b",
   "metadata": {
    "ExecuteTime": {
     "end_time": "2022-09-16T01:49:26.514553Z",
     "start_time": "2022-09-16T01:49:26.220553Z"
    }
   },
   "outputs": [
    {
     "data": {
      "text/plain": [
       "624"
      ]
     },
     "execution_count": 39,
     "metadata": {},
     "output_type": "execute_result"
    }
   ],
   "source": [
    "df['category_id'].astype('int32').nunique()"
   ]
  },
  {
   "cell_type": "code",
   "execution_count": 40,
   "id": "d1417081",
   "metadata": {
    "ExecuteTime": {
     "end_time": "2022-09-16T01:49:53.010592Z",
     "start_time": "2022-09-16T01:49:52.401596Z"
    }
   },
   "outputs": [
    {
     "data": {
      "text/plain": [
       "65298"
      ]
     },
     "execution_count": 40,
     "metadata": {},
     "output_type": "execute_result"
    }
   ],
   "source": [
    "df['price'].nunique()"
   ]
  },
  {
   "cell_type": "code",
   "execution_count": 43,
   "id": "c9cb78cc",
   "metadata": {
    "ExecuteTime": {
     "end_time": "2022-09-16T01:50:15.004285Z",
     "start_time": "2022-09-16T01:50:14.482557Z"
    }
   },
   "outputs": [
    {
     "data": {
      "text/plain": [
       "65298"
      ]
     },
     "execution_count": 43,
     "metadata": {},
     "output_type": "execute_result"
    }
   ],
   "source": [
    "df['price'].astype('float32').nunique()"
   ]
  },
  {
   "cell_type": "code",
   "execution_count": 49,
   "id": "f535ae7a",
   "metadata": {
    "ExecuteTime": {
     "end_time": "2022-09-16T01:52:44.132554Z",
     "start_time": "2022-09-16T01:52:42.676558Z"
    }
   },
   "outputs": [
    {
     "data": {
      "text/plain": [
       "3022290"
      ]
     },
     "execution_count": 49,
     "metadata": {},
     "output_type": "execute_result"
    }
   ],
   "source": [
    "df['user_id'].nunique()"
   ]
  },
  {
   "cell_type": "code",
   "execution_count": 51,
   "id": "28259572",
   "metadata": {
    "ExecuteTime": {
     "end_time": "2022-09-16T01:53:04.212442Z",
     "start_time": "2022-09-16T01:53:02.946356Z"
    }
   },
   "outputs": [
    {
     "data": {
      "text/plain": [
       "3022290"
      ]
     },
     "execution_count": 51,
     "metadata": {},
     "output_type": "execute_result"
    }
   ],
   "source": [
    "df['user_id'].astype('int32').nunique()"
   ]
  },
  {
   "cell_type": "markdown",
   "id": "89fed2ea",
   "metadata": {
    "ExecuteTime": {
     "end_time": "2022-09-16T02:36:27.915899Z",
     "start_time": "2022-09-16T02:36:27.903899Z"
    }
   },
   "source": [
    "데이터의 유니크 수가 변화하지 않는 것으로 경량화 작업을 진행해도 좋을 것 같습니다."
   ]
  },
  {
   "cell_type": "markdown",
   "id": "84f2c536",
   "metadata": {},
   "source": [
    "# 데이터 경량화"
   ]
  },
  {
   "cell_type": "code",
   "execution_count": 52,
   "id": "e46358a0",
   "metadata": {
    "ExecuteTime": {
     "end_time": "2022-09-16T01:54:48.667273Z",
     "start_time": "2022-09-16T01:53:38.629662Z"
    }
   },
   "outputs": [
    {
     "name": "stderr",
     "output_type": "stream",
     "text": [
      "100%|██████████| 9/9 [01:10<00:00,  7.78s/it]\n"
     ]
    }
   ],
   "source": [
    "from tqdm import tqdm\n",
    "columns =df.columns\n",
    "for column in tqdm(columns):\n",
    "    if df[column].dtype == 'object':\n",
    "        df[column] = df[column].astype('category')\n",
    "    elif df[column].dtype == 'int64':\n",
    "        df[column] = df[column].astype('int32')\n",
    "    elif df[column].dtype == 'float64':\n",
    "        df[column] = df[column].astype('float32')"
   ]
  },
  {
   "cell_type": "code",
   "execution_count": 53,
   "id": "542c0976",
   "metadata": {
    "ExecuteTime": {
     "end_time": "2022-09-16T01:54:56.036385Z",
     "start_time": "2022-09-16T01:54:55.288169Z"
    }
   },
   "outputs": [
    {
     "name": "stdout",
     "output_type": "stream",
     "text": [
      "<class 'pandas.core.frame.DataFrame'>\n",
      "RangeIndex: 42448764 entries, 0 to 42448763\n",
      "Data columns (total 9 columns):\n",
      " #   Column         Dtype   \n",
      "---  ------         -----   \n",
      " 0   event_time     category\n",
      " 1   event_type     category\n",
      " 2   product_id     int32   \n",
      " 3   category_id    int32   \n",
      " 4   category_code  category\n",
      " 5   brand          category\n",
      " 6   price          float32 \n",
      " 7   user_id        int32   \n",
      " 8   user_session   category\n",
      "dtypes: category(5), float32(1), int32(3)\n",
      "memory usage: 1.5 GB\n"
     ]
    }
   ],
   "source": [
    "df.info()"
   ]
  },
  {
   "cell_type": "code",
   "execution_count": null,
   "id": "1422807d",
   "metadata": {
    "ExecuteTime": {
     "end_time": "2022-09-16T02:12:02.635609Z",
     "start_time": "2022-09-16T02:11:30.770527Z"
    }
   },
   "outputs": [],
   "source": [
    "df.to_parquet('light_2019-Oct.parquet')"
   ]
  },
  {
   "cell_type": "markdown",
   "id": "3dc09284",
   "metadata": {},
   "source": [
    "parquet 파일을 read 할때는 아마 pip install fastparquet로 설치 진행 후에  \n",
    "```\n",
    "df.read_parquet('경로', engine='fastparquet')\n",
    "```\n",
    "로 불러와야 할 것입니다."
   ]
  }
 ],
 "metadata": {
  "kernelspec": {
   "display_name": "Python 3 (ipykernel)",
   "language": "python",
   "name": "python3"
  },
  "language_info": {
   "codemirror_mode": {
    "name": "ipython",
    "version": 3
   },
   "file_extension": ".py",
   "mimetype": "text/x-python",
   "name": "python",
   "nbconvert_exporter": "python",
   "pygments_lexer": "ipython3",
   "version": "3.7.13"
  },
  "toc": {
   "base_numbering": 1,
   "nav_menu": {},
   "number_sections": true,
   "sideBar": true,
   "skip_h1_title": false,
   "title_cell": "Table of Contents",
   "title_sidebar": "Contents",
   "toc_cell": false,
   "toc_position": {},
   "toc_section_display": true,
   "toc_window_display": false
  },
  "varInspector": {
   "cols": {
    "lenName": 16,
    "lenType": 16,
    "lenVar": 40
   },
   "kernels_config": {
    "python": {
     "delete_cmd_postfix": "",
     "delete_cmd_prefix": "del ",
     "library": "var_list.py",
     "varRefreshCmd": "print(var_dic_list())"
    },
    "r": {
     "delete_cmd_postfix": ") ",
     "delete_cmd_prefix": "rm(",
     "library": "var_list.r",
     "varRefreshCmd": "cat(var_dic_list()) "
    }
   },
   "types_to_exclude": [
    "module",
    "function",
    "builtin_function_or_method",
    "instance",
    "_Feature"
   ],
   "window_display": false
  }
 },
 "nbformat": 4,
 "nbformat_minor": 5
}
