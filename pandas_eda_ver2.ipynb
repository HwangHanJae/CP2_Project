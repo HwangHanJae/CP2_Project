{
 "cells": [
  {
   "cell_type": "markdown",
   "id": "c839e1ec",
   "metadata": {},
   "source": [
    "# 가정\n",
    "국가는 **아랍에미리트**, 이커머스 사이트를 **아마존**이라고 가정\n",
    "\n",
    "- 참고링크1 : https://blog.naver.com/fedex_kr/222697326719\n",
    "- 참고링크2 : https://blog.naver.com/dhzhdapxk/222279313175\n",
    "\n",
    "아랍에미리트의 전자상거래시장의 성장률을 19년도 이후부터 상승하고 있으며,  \n",
    "2017년도 7월 중동 최대 온라인 쇼핑몰인 수크 닷컴을 아마존에서 인수하였음."
   ]
  },
  {
   "cell_type": "markdown",
   "id": "843beba8",
   "metadata": {},
   "source": [
    "# 라이브러리 로드"
   ]
  },
  {
   "cell_type": "code",
   "execution_count": 1,
   "id": "c0383da7",
   "metadata": {
    "ExecuteTime": {
     "end_time": "2022-09-21T15:03:24.709744Z",
     "start_time": "2022-09-21T15:03:22.789738Z"
    }
   },
   "outputs": [],
   "source": [
    "import pandas as pd\n",
    "import numpy as np\n",
    "from tqdm import tqdm\n",
    "import matplotlib.pyplot as plt\n",
    "import seaborn as sns\n",
    "import datetime\n",
    "plt.style.use('ggplot')"
   ]
  },
  {
   "cell_type": "markdown",
   "id": "9abb4d32",
   "metadata": {},
   "source": [
    "# 데이터 로드"
   ]
  },
  {
   "cell_type": "code",
   "execution_count": 4,
   "id": "3d9bff9f",
   "metadata": {
    "ExecuteTime": {
     "end_time": "2022-09-21T15:03:38.687549Z",
     "start_time": "2022-09-21T15:03:32.817552Z"
    }
   },
   "outputs": [
    {
     "data": {
      "text/html": [
       "<div>\n",
       "<style scoped>\n",
       "    .dataframe tbody tr th:only-of-type {\n",
       "        vertical-align: middle;\n",
       "    }\n",
       "\n",
       "    .dataframe tbody tr th {\n",
       "        vertical-align: top;\n",
       "    }\n",
       "\n",
       "    .dataframe thead th {\n",
       "        text-align: right;\n",
       "    }\n",
       "</style>\n",
       "<table border=\"1\" class=\"dataframe\">\n",
       "  <thead>\n",
       "    <tr style=\"text-align: right;\">\n",
       "      <th></th>\n",
       "      <th>event_time</th>\n",
       "      <th>event_type</th>\n",
       "      <th>product_id</th>\n",
       "      <th>category_id</th>\n",
       "      <th>category_code</th>\n",
       "      <th>brand</th>\n",
       "      <th>price</th>\n",
       "      <th>user_id</th>\n",
       "      <th>user_session</th>\n",
       "    </tr>\n",
       "  </thead>\n",
       "  <tbody>\n",
       "    <tr>\n",
       "      <th>0</th>\n",
       "      <td>2019-10-01 00:00:00 UTC</td>\n",
       "      <td>view</td>\n",
       "      <td>44600062</td>\n",
       "      <td>-251657396</td>\n",
       "      <td>NaN</td>\n",
       "      <td>shiseido</td>\n",
       "      <td>35.790001</td>\n",
       "      <td>541312140</td>\n",
       "      <td>72d76fde-8bb3-4e00-8c23-a032dfed738c</td>\n",
       "    </tr>\n",
       "    <tr>\n",
       "      <th>1</th>\n",
       "      <td>2019-10-01 00:00:00 UTC</td>\n",
       "      <td>view</td>\n",
       "      <td>3900821</td>\n",
       "      <td>-780140327</td>\n",
       "      <td>appliances.environment.water_heater</td>\n",
       "      <td>aqua</td>\n",
       "      <td>33.200001</td>\n",
       "      <td>554748717</td>\n",
       "      <td>9333dfbd-b87a-4708-9857-6336556b0fcc</td>\n",
       "    </tr>\n",
       "    <tr>\n",
       "      <th>2</th>\n",
       "      <td>2019-10-01 00:00:01 UTC</td>\n",
       "      <td>view</td>\n",
       "      <td>17200506</td>\n",
       "      <td>-1904213353</td>\n",
       "      <td>furniture.living_room.sofa</td>\n",
       "      <td>NaN</td>\n",
       "      <td>543.099976</td>\n",
       "      <td>519107250</td>\n",
       "      <td>566511c2-e2e3-422b-b695-cf8e6e792ca8</td>\n",
       "    </tr>\n",
       "    <tr>\n",
       "      <th>3</th>\n",
       "      <td>2019-10-01 00:00:01 UTC</td>\n",
       "      <td>view</td>\n",
       "      <td>1307067</td>\n",
       "      <td>1518338663</td>\n",
       "      <td>computers.notebook</td>\n",
       "      <td>lenovo</td>\n",
       "      <td>251.740005</td>\n",
       "      <td>550050854</td>\n",
       "      <td>7c90fc70-0e80-4590-96f3-13c02c18c713</td>\n",
       "    </tr>\n",
       "    <tr>\n",
       "      <th>4</th>\n",
       "      <td>2019-10-01 00:00:04 UTC</td>\n",
       "      <td>view</td>\n",
       "      <td>1004237</td>\n",
       "      <td>-1769995873</td>\n",
       "      <td>electronics.smartphone</td>\n",
       "      <td>apple</td>\n",
       "      <td>1081.979980</td>\n",
       "      <td>535871217</td>\n",
       "      <td>c6bd7419-2748-4c56-95b4-8cec9ff8b80d</td>\n",
       "    </tr>\n",
       "  </tbody>\n",
       "</table>\n",
       "</div>"
      ],
      "text/plain": [
       "                event_time event_type  product_id  category_id  \\\n",
       "0  2019-10-01 00:00:00 UTC       view    44600062   -251657396   \n",
       "1  2019-10-01 00:00:00 UTC       view     3900821   -780140327   \n",
       "2  2019-10-01 00:00:01 UTC       view    17200506  -1904213353   \n",
       "3  2019-10-01 00:00:01 UTC       view     1307067   1518338663   \n",
       "4  2019-10-01 00:00:04 UTC       view     1004237  -1769995873   \n",
       "\n",
       "                         category_code     brand        price    user_id  \\\n",
       "0                                  NaN  shiseido    35.790001  541312140   \n",
       "1  appliances.environment.water_heater      aqua    33.200001  554748717   \n",
       "2           furniture.living_room.sofa       NaN   543.099976  519107250   \n",
       "3                   computers.notebook    lenovo   251.740005  550050854   \n",
       "4               electronics.smartphone     apple  1081.979980  535871217   \n",
       "\n",
       "                           user_session  \n",
       "0  72d76fde-8bb3-4e00-8c23-a032dfed738c  \n",
       "1  9333dfbd-b87a-4708-9857-6336556b0fcc  \n",
       "2  566511c2-e2e3-422b-b695-cf8e6e792ca8  \n",
       "3  7c90fc70-0e80-4590-96f3-13c02c18c713  \n",
       "4  c6bd7419-2748-4c56-95b4-8cec9ff8b80d  "
      ]
     },
     "execution_count": 4,
     "metadata": {},
     "output_type": "execute_result"
    }
   ],
   "source": [
    "try:\n",
    "  path = 'C:/Users/User/Desktop/AIB_13/CP2/data/'\n",
    "  df = pd.read_parquet(path + 'light_2019-Oct.parquet', engine='fastparquet')\n",
    "except:\n",
    "  path = '/content/drive/MyDrive/CP2/data/'\n",
    "  df = pd.read_parquet(path + 'light_2019-Oct.parquet', engine='fastparquet')\n",
    "\n",
    "df.head()"
   ]
  },
  {
   "cell_type": "markdown",
   "id": "ff31a5e0",
   "metadata": {},
   "source": [
    "# 필요 데이터 전처리"
   ]
  },
  {
   "cell_type": "code",
   "execution_count": 5,
   "id": "4965b475",
   "metadata": {
    "ExecuteTime": {
     "end_time": "2022-09-21T15:03:47.698122Z",
     "start_time": "2022-09-21T15:03:40.557091Z"
    }
   },
   "outputs": [
    {
     "data": {
      "text/plain": [
       "dtype('<M8[ns]')"
      ]
     },
     "execution_count": 5,
     "metadata": {},
     "output_type": "execute_result"
    }
   ],
   "source": [
    "df['event_time'] = df['event_time'].apply(lambda x : x[:-4]).astype('datetime64')\n",
    "df['event_time'].dtype"
   ]
  },
  {
   "cell_type": "code",
   "execution_count": 6,
   "id": "1252421d",
   "metadata": {
    "ExecuteTime": {
     "end_time": "2022-09-21T15:03:49.432055Z",
     "start_time": "2022-09-21T15:03:48.913058Z"
    }
   },
   "outputs": [
    {
     "data": {
      "text/plain": [
       "42448759   2019-11-01 03:59:58\n",
       "42448760   2019-11-01 03:59:58\n",
       "42448761   2019-11-01 03:59:58\n",
       "42448762   2019-11-01 03:59:59\n",
       "42448763   2019-11-01 03:59:59\n",
       "Name: event_time, dtype: datetime64[ns]"
      ]
     },
     "execution_count": 6,
     "metadata": {},
     "output_type": "execute_result"
    }
   ],
   "source": [
    "df['event_time'] = df['event_time'] + datetime.timedelta(hours=4)\n",
    "df['event_time'].tail()"
   ]
  },
  {
   "cell_type": "code",
   "execution_count": 7,
   "id": "0eea10e2",
   "metadata": {
    "ExecuteTime": {
     "end_time": "2022-09-21T15:03:52.605113Z",
     "start_time": "2022-09-21T15:03:50.641902Z"
    }
   },
   "outputs": [],
   "source": [
    "df = df.loc[df['event_time'] < '2019-11-01']"
   ]
  },
  {
   "cell_type": "code",
   "execution_count": 8,
   "id": "54b4a62c",
   "metadata": {
    "ExecuteTime": {
     "end_time": "2022-09-21T15:04:02.242813Z",
     "start_time": "2022-09-21T15:04:02.229813Z"
    }
   },
   "outputs": [
    {
     "data": {
      "text/html": [
       "<div>\n",
       "<style scoped>\n",
       "    .dataframe tbody tr th:only-of-type {\n",
       "        vertical-align: middle;\n",
       "    }\n",
       "\n",
       "    .dataframe tbody tr th {\n",
       "        vertical-align: top;\n",
       "    }\n",
       "\n",
       "    .dataframe thead th {\n",
       "        text-align: right;\n",
       "    }\n",
       "</style>\n",
       "<table border=\"1\" class=\"dataframe\">\n",
       "  <thead>\n",
       "    <tr style=\"text-align: right;\">\n",
       "      <th></th>\n",
       "      <th>event_time</th>\n",
       "      <th>event_type</th>\n",
       "      <th>product_id</th>\n",
       "      <th>category_id</th>\n",
       "      <th>category_code</th>\n",
       "      <th>brand</th>\n",
       "      <th>price</th>\n",
       "      <th>user_id</th>\n",
       "      <th>user_session</th>\n",
       "    </tr>\n",
       "  </thead>\n",
       "  <tbody>\n",
       "    <tr>\n",
       "      <th>0</th>\n",
       "      <td>2019-10-01 04:00:00</td>\n",
       "      <td>view</td>\n",
       "      <td>44600062</td>\n",
       "      <td>-251657396</td>\n",
       "      <td>NaN</td>\n",
       "      <td>shiseido</td>\n",
       "      <td>35.790001</td>\n",
       "      <td>541312140</td>\n",
       "      <td>72d76fde-8bb3-4e00-8c23-a032dfed738c</td>\n",
       "    </tr>\n",
       "    <tr>\n",
       "      <th>1</th>\n",
       "      <td>2019-10-01 04:00:00</td>\n",
       "      <td>view</td>\n",
       "      <td>3900821</td>\n",
       "      <td>-780140327</td>\n",
       "      <td>appliances.environment.water_heater</td>\n",
       "      <td>aqua</td>\n",
       "      <td>33.200001</td>\n",
       "      <td>554748717</td>\n",
       "      <td>9333dfbd-b87a-4708-9857-6336556b0fcc</td>\n",
       "    </tr>\n",
       "    <tr>\n",
       "      <th>2</th>\n",
       "      <td>2019-10-01 04:00:01</td>\n",
       "      <td>view</td>\n",
       "      <td>17200506</td>\n",
       "      <td>-1904213353</td>\n",
       "      <td>furniture.living_room.sofa</td>\n",
       "      <td>NaN</td>\n",
       "      <td>543.099976</td>\n",
       "      <td>519107250</td>\n",
       "      <td>566511c2-e2e3-422b-b695-cf8e6e792ca8</td>\n",
       "    </tr>\n",
       "    <tr>\n",
       "      <th>3</th>\n",
       "      <td>2019-10-01 04:00:01</td>\n",
       "      <td>view</td>\n",
       "      <td>1307067</td>\n",
       "      <td>1518338663</td>\n",
       "      <td>computers.notebook</td>\n",
       "      <td>lenovo</td>\n",
       "      <td>251.740005</td>\n",
       "      <td>550050854</td>\n",
       "      <td>7c90fc70-0e80-4590-96f3-13c02c18c713</td>\n",
       "    </tr>\n",
       "    <tr>\n",
       "      <th>4</th>\n",
       "      <td>2019-10-01 04:00:04</td>\n",
       "      <td>view</td>\n",
       "      <td>1004237</td>\n",
       "      <td>-1769995873</td>\n",
       "      <td>electronics.smartphone</td>\n",
       "      <td>apple</td>\n",
       "      <td>1081.979980</td>\n",
       "      <td>535871217</td>\n",
       "      <td>c6bd7419-2748-4c56-95b4-8cec9ff8b80d</td>\n",
       "    </tr>\n",
       "  </tbody>\n",
       "</table>\n",
       "</div>"
      ],
      "text/plain": [
       "           event_time event_type  product_id  category_id  \\\n",
       "0 2019-10-01 04:00:00       view    44600062   -251657396   \n",
       "1 2019-10-01 04:00:00       view     3900821   -780140327   \n",
       "2 2019-10-01 04:00:01       view    17200506  -1904213353   \n",
       "3 2019-10-01 04:00:01       view     1307067   1518338663   \n",
       "4 2019-10-01 04:00:04       view     1004237  -1769995873   \n",
       "\n",
       "                         category_code     brand        price    user_id  \\\n",
       "0                                  NaN  shiseido    35.790001  541312140   \n",
       "1  appliances.environment.water_heater      aqua    33.200001  554748717   \n",
       "2           furniture.living_room.sofa       NaN   543.099976  519107250   \n",
       "3                   computers.notebook    lenovo   251.740005  550050854   \n",
       "4               electronics.smartphone     apple  1081.979980  535871217   \n",
       "\n",
       "                           user_session  \n",
       "0  72d76fde-8bb3-4e00-8c23-a032dfed738c  \n",
       "1  9333dfbd-b87a-4708-9857-6336556b0fcc  \n",
       "2  566511c2-e2e3-422b-b695-cf8e6e792ca8  \n",
       "3  7c90fc70-0e80-4590-96f3-13c02c18c713  \n",
       "4  c6bd7419-2748-4c56-95b4-8cec9ff8b80d  "
      ]
     },
     "execution_count": 8,
     "metadata": {},
     "output_type": "execute_result"
    }
   ],
   "source": [
    "df.head()"
   ]
  },
  {
   "cell_type": "markdown",
   "id": "0743afb3",
   "metadata": {},
   "source": [
    "# user_id를 기준으로  index 설정"
   ]
  },
  {
   "cell_type": "code",
   "execution_count": 9,
   "id": "6c0fd3d3",
   "metadata": {
    "ExecuteTime": {
     "end_time": "2022-09-21T15:04:06.392296Z",
     "start_time": "2022-09-21T15:04:06.020295Z"
    }
   },
   "outputs": [
    {
     "data": {
      "text/html": [
       "<div>\n",
       "<style scoped>\n",
       "    .dataframe tbody tr th:only-of-type {\n",
       "        vertical-align: middle;\n",
       "    }\n",
       "\n",
       "    .dataframe tbody tr th {\n",
       "        vertical-align: top;\n",
       "    }\n",
       "\n",
       "    .dataframe thead th {\n",
       "        text-align: right;\n",
       "    }\n",
       "</style>\n",
       "<table border=\"1\" class=\"dataframe\">\n",
       "  <thead>\n",
       "    <tr style=\"text-align: right;\">\n",
       "      <th></th>\n",
       "      <th>event_time</th>\n",
       "      <th>event_type</th>\n",
       "      <th>product_id</th>\n",
       "      <th>category_id</th>\n",
       "      <th>category_code</th>\n",
       "      <th>brand</th>\n",
       "      <th>price</th>\n",
       "      <th>user_session</th>\n",
       "    </tr>\n",
       "    <tr>\n",
       "      <th>user_id</th>\n",
       "      <th></th>\n",
       "      <th></th>\n",
       "      <th></th>\n",
       "      <th></th>\n",
       "      <th></th>\n",
       "      <th></th>\n",
       "      <th></th>\n",
       "      <th></th>\n",
       "    </tr>\n",
       "  </thead>\n",
       "  <tbody>\n",
       "    <tr>\n",
       "      <th>541312140</th>\n",
       "      <td>2019-10-01 04:00:00</td>\n",
       "      <td>view</td>\n",
       "      <td>44600062</td>\n",
       "      <td>-251657396</td>\n",
       "      <td>NaN</td>\n",
       "      <td>shiseido</td>\n",
       "      <td>35.790001</td>\n",
       "      <td>72d76fde-8bb3-4e00-8c23-a032dfed738c</td>\n",
       "    </tr>\n",
       "    <tr>\n",
       "      <th>554748717</th>\n",
       "      <td>2019-10-01 04:00:00</td>\n",
       "      <td>view</td>\n",
       "      <td>3900821</td>\n",
       "      <td>-780140327</td>\n",
       "      <td>appliances.environment.water_heater</td>\n",
       "      <td>aqua</td>\n",
       "      <td>33.200001</td>\n",
       "      <td>9333dfbd-b87a-4708-9857-6336556b0fcc</td>\n",
       "    </tr>\n",
       "    <tr>\n",
       "      <th>519107250</th>\n",
       "      <td>2019-10-01 04:00:01</td>\n",
       "      <td>view</td>\n",
       "      <td>17200506</td>\n",
       "      <td>-1904213353</td>\n",
       "      <td>furniture.living_room.sofa</td>\n",
       "      <td>NaN</td>\n",
       "      <td>543.099976</td>\n",
       "      <td>566511c2-e2e3-422b-b695-cf8e6e792ca8</td>\n",
       "    </tr>\n",
       "    <tr>\n",
       "      <th>550050854</th>\n",
       "      <td>2019-10-01 04:00:01</td>\n",
       "      <td>view</td>\n",
       "      <td>1307067</td>\n",
       "      <td>1518338663</td>\n",
       "      <td>computers.notebook</td>\n",
       "      <td>lenovo</td>\n",
       "      <td>251.740005</td>\n",
       "      <td>7c90fc70-0e80-4590-96f3-13c02c18c713</td>\n",
       "    </tr>\n",
       "    <tr>\n",
       "      <th>535871217</th>\n",
       "      <td>2019-10-01 04:00:04</td>\n",
       "      <td>view</td>\n",
       "      <td>1004237</td>\n",
       "      <td>-1769995873</td>\n",
       "      <td>electronics.smartphone</td>\n",
       "      <td>apple</td>\n",
       "      <td>1081.979980</td>\n",
       "      <td>c6bd7419-2748-4c56-95b4-8cec9ff8b80d</td>\n",
       "    </tr>\n",
       "  </tbody>\n",
       "</table>\n",
       "</div>"
      ],
      "text/plain": [
       "                   event_time event_type  product_id  category_id  \\\n",
       "user_id                                                             \n",
       "541312140 2019-10-01 04:00:00       view    44600062   -251657396   \n",
       "554748717 2019-10-01 04:00:00       view     3900821   -780140327   \n",
       "519107250 2019-10-01 04:00:01       view    17200506  -1904213353   \n",
       "550050854 2019-10-01 04:00:01       view     1307067   1518338663   \n",
       "535871217 2019-10-01 04:00:04       view     1004237  -1769995873   \n",
       "\n",
       "                                 category_code     brand        price  \\\n",
       "user_id                                                                 \n",
       "541312140                                  NaN  shiseido    35.790001   \n",
       "554748717  appliances.environment.water_heater      aqua    33.200001   \n",
       "519107250           furniture.living_room.sofa       NaN   543.099976   \n",
       "550050854                   computers.notebook    lenovo   251.740005   \n",
       "535871217               electronics.smartphone     apple  1081.979980   \n",
       "\n",
       "                                   user_session  \n",
       "user_id                                          \n",
       "541312140  72d76fde-8bb3-4e00-8c23-a032dfed738c  \n",
       "554748717  9333dfbd-b87a-4708-9857-6336556b0fcc  \n",
       "519107250  566511c2-e2e3-422b-b695-cf8e6e792ca8  \n",
       "550050854  7c90fc70-0e80-4590-96f3-13c02c18c713  \n",
       "535871217  c6bd7419-2748-4c56-95b4-8cec9ff8b80d  "
      ]
     },
     "execution_count": 9,
     "metadata": {},
     "output_type": "execute_result"
    }
   ],
   "source": [
    "user_df = df.set_index('user_id')\n",
    "user_df.head()"
   ]
  },
  {
   "cell_type": "code",
   "execution_count": 10,
   "id": "abb72f74",
   "metadata": {
    "ExecuteTime": {
     "end_time": "2022-09-21T15:04:21.130228Z",
     "start_time": "2022-09-21T15:04:07.146824Z"
    }
   },
   "outputs": [
    {
     "data": {
      "text/html": [
       "<div>\n",
       "<style scoped>\n",
       "    .dataframe tbody tr th:only-of-type {\n",
       "        vertical-align: middle;\n",
       "    }\n",
       "\n",
       "    .dataframe tbody tr th {\n",
       "        vertical-align: top;\n",
       "    }\n",
       "\n",
       "    .dataframe thead th {\n",
       "        text-align: right;\n",
       "    }\n",
       "</style>\n",
       "<table border=\"1\" class=\"dataframe\">\n",
       "  <thead>\n",
       "    <tr style=\"text-align: right;\">\n",
       "      <th></th>\n",
       "      <th>event_time</th>\n",
       "      <th>event_type</th>\n",
       "      <th>product_id</th>\n",
       "      <th>category_id</th>\n",
       "      <th>category_code</th>\n",
       "      <th>brand</th>\n",
       "      <th>price</th>\n",
       "      <th>user_session</th>\n",
       "    </tr>\n",
       "    <tr>\n",
       "      <th>user_id</th>\n",
       "      <th></th>\n",
       "      <th></th>\n",
       "      <th></th>\n",
       "      <th></th>\n",
       "      <th></th>\n",
       "      <th></th>\n",
       "      <th></th>\n",
       "      <th></th>\n",
       "    </tr>\n",
       "  </thead>\n",
       "  <tbody>\n",
       "    <tr>\n",
       "      <th>33869381</th>\n",
       "      <td>2019-10-24 00:04:08</td>\n",
       "      <td>view</td>\n",
       "      <td>7002639</td>\n",
       "      <td>-1350565191</td>\n",
       "      <td>kids.carriage</td>\n",
       "      <td>bumbleride</td>\n",
       "      <td>769.650024</td>\n",
       "      <td>d83dc524-8a2c-4780-bbe0-f8aee03b54df</td>\n",
       "    </tr>\n",
       "    <tr>\n",
       "      <th>64078358</th>\n",
       "      <td>2019-10-13 04:13:46</td>\n",
       "      <td>view</td>\n",
       "      <td>10600284</td>\n",
       "      <td>-142605577</td>\n",
       "      <td>NaN</td>\n",
       "      <td>NaN</td>\n",
       "      <td>0.000000</td>\n",
       "      <td>6183edb9-f592-4bb8-9913-67bb4711694d</td>\n",
       "    </tr>\n",
       "    <tr>\n",
       "      <th>183503497</th>\n",
       "      <td>2019-10-03 01:43:00</td>\n",
       "      <td>view</td>\n",
       "      <td>22200103</td>\n",
       "      <td>1384120925</td>\n",
       "      <td>NaN</td>\n",
       "      <td>NaN</td>\n",
       "      <td>15.770000</td>\n",
       "      <td>884233e8-8b9f-4970-808b-4e1c81f8a5fc</td>\n",
       "    </tr>\n",
       "    <tr>\n",
       "      <th>184265397</th>\n",
       "      <td>2019-10-15 21:19:28</td>\n",
       "      <td>view</td>\n",
       "      <td>27400002</td>\n",
       "      <td>1694499675</td>\n",
       "      <td>NaN</td>\n",
       "      <td>oral-b</td>\n",
       "      <td>79.769997</td>\n",
       "      <td>c4ddb5b7-3185-453b-8e02-45d48a9775be</td>\n",
       "    </tr>\n",
       "    <tr>\n",
       "      <th>184265397</th>\n",
       "      <td>2019-10-04 21:50:50</td>\n",
       "      <td>view</td>\n",
       "      <td>6902303</td>\n",
       "      <td>-1384119625</td>\n",
       "      <td>furniture.living_room.chair</td>\n",
       "      <td>joie</td>\n",
       "      <td>111.459999</td>\n",
       "      <td>2c5d0468-32e1-42f7-9b4e-b17c1d387247</td>\n",
       "    </tr>\n",
       "  </tbody>\n",
       "</table>\n",
       "</div>"
      ],
      "text/plain": [
       "                   event_time event_type  product_id  category_id  \\\n",
       "user_id                                                             \n",
       "33869381  2019-10-24 00:04:08       view     7002639  -1350565191   \n",
       "64078358  2019-10-13 04:13:46       view    10600284   -142605577   \n",
       "183503497 2019-10-03 01:43:00       view    22200103   1384120925   \n",
       "184265397 2019-10-15 21:19:28       view    27400002   1694499675   \n",
       "184265397 2019-10-04 21:50:50       view     6902303  -1384119625   \n",
       "\n",
       "                         category_code       brand       price  \\\n",
       "user_id                                                          \n",
       "33869381                 kids.carriage  bumbleride  769.650024   \n",
       "64078358                           NaN         NaN    0.000000   \n",
       "183503497                          NaN         NaN   15.770000   \n",
       "184265397                          NaN      oral-b   79.769997   \n",
       "184265397  furniture.living_room.chair        joie  111.459999   \n",
       "\n",
       "                                   user_session  \n",
       "user_id                                          \n",
       "33869381   d83dc524-8a2c-4780-bbe0-f8aee03b54df  \n",
       "64078358   6183edb9-f592-4bb8-9913-67bb4711694d  \n",
       "183503497  884233e8-8b9f-4970-808b-4e1c81f8a5fc  \n",
       "184265397  c4ddb5b7-3185-453b-8e02-45d48a9775be  \n",
       "184265397  2c5d0468-32e1-42f7-9b4e-b17c1d387247  "
      ]
     },
     "execution_count": 10,
     "metadata": {},
     "output_type": "execute_result"
    }
   ],
   "source": [
    "user_df = user_df.sort_index()\n",
    "user_df.head()"
   ]
  },
  {
   "cell_type": "code",
   "execution_count": 11,
   "id": "3b9bf932",
   "metadata": {
    "ExecuteTime": {
     "end_time": "2022-09-21T15:04:21.685234Z",
     "start_time": "2022-09-21T15:04:21.431230Z"
    },
    "scrolled": true
   },
   "outputs": [
    {
     "data": {
      "text/html": [
       "<div>\n",
       "<style scoped>\n",
       "    .dataframe tbody tr th:only-of-type {\n",
       "        vertical-align: middle;\n",
       "    }\n",
       "\n",
       "    .dataframe tbody tr th {\n",
       "        vertical-align: top;\n",
       "    }\n",
       "\n",
       "    .dataframe thead th {\n",
       "        text-align: right;\n",
       "    }\n",
       "</style>\n",
       "<table border=\"1\" class=\"dataframe\">\n",
       "  <thead>\n",
       "    <tr style=\"text-align: right;\">\n",
       "      <th></th>\n",
       "      <th>user_id</th>\n",
       "      <th>event_time</th>\n",
       "      <th>event_type</th>\n",
       "      <th>product_id</th>\n",
       "      <th>category_id</th>\n",
       "      <th>category_code</th>\n",
       "      <th>brand</th>\n",
       "      <th>price</th>\n",
       "      <th>user_session</th>\n",
       "    </tr>\n",
       "  </thead>\n",
       "  <tbody>\n",
       "    <tr>\n",
       "      <th>0</th>\n",
       "      <td>33869381</td>\n",
       "      <td>2019-10-24 00:04:08</td>\n",
       "      <td>view</td>\n",
       "      <td>7002639</td>\n",
       "      <td>-1350565191</td>\n",
       "      <td>kids.carriage</td>\n",
       "      <td>bumbleride</td>\n",
       "      <td>769.650024</td>\n",
       "      <td>d83dc524-8a2c-4780-bbe0-f8aee03b54df</td>\n",
       "    </tr>\n",
       "    <tr>\n",
       "      <th>1</th>\n",
       "      <td>64078358</td>\n",
       "      <td>2019-10-13 04:13:46</td>\n",
       "      <td>view</td>\n",
       "      <td>10600284</td>\n",
       "      <td>-142605577</td>\n",
       "      <td>NaN</td>\n",
       "      <td>NaN</td>\n",
       "      <td>0.000000</td>\n",
       "      <td>6183edb9-f592-4bb8-9913-67bb4711694d</td>\n",
       "    </tr>\n",
       "    <tr>\n",
       "      <th>2</th>\n",
       "      <td>183503497</td>\n",
       "      <td>2019-10-03 01:43:00</td>\n",
       "      <td>view</td>\n",
       "      <td>22200103</td>\n",
       "      <td>1384120925</td>\n",
       "      <td>NaN</td>\n",
       "      <td>NaN</td>\n",
       "      <td>15.770000</td>\n",
       "      <td>884233e8-8b9f-4970-808b-4e1c81f8a5fc</td>\n",
       "    </tr>\n",
       "    <tr>\n",
       "      <th>3</th>\n",
       "      <td>184265397</td>\n",
       "      <td>2019-10-15 21:19:28</td>\n",
       "      <td>view</td>\n",
       "      <td>27400002</td>\n",
       "      <td>1694499675</td>\n",
       "      <td>NaN</td>\n",
       "      <td>oral-b</td>\n",
       "      <td>79.769997</td>\n",
       "      <td>c4ddb5b7-3185-453b-8e02-45d48a9775be</td>\n",
       "    </tr>\n",
       "    <tr>\n",
       "      <th>4</th>\n",
       "      <td>184265397</td>\n",
       "      <td>2019-10-04 21:50:50</td>\n",
       "      <td>view</td>\n",
       "      <td>6902303</td>\n",
       "      <td>-1384119625</td>\n",
       "      <td>furniture.living_room.chair</td>\n",
       "      <td>joie</td>\n",
       "      <td>111.459999</td>\n",
       "      <td>2c5d0468-32e1-42f7-9b4e-b17c1d387247</td>\n",
       "    </tr>\n",
       "  </tbody>\n",
       "</table>\n",
       "</div>"
      ],
      "text/plain": [
       "     user_id          event_time event_type  product_id  category_id  \\\n",
       "0   33869381 2019-10-24 00:04:08       view     7002639  -1350565191   \n",
       "1   64078358 2019-10-13 04:13:46       view    10600284   -142605577   \n",
       "2  183503497 2019-10-03 01:43:00       view    22200103   1384120925   \n",
       "3  184265397 2019-10-15 21:19:28       view    27400002   1694499675   \n",
       "4  184265397 2019-10-04 21:50:50       view     6902303  -1384119625   \n",
       "\n",
       "                 category_code       brand       price  \\\n",
       "0                kids.carriage  bumbleride  769.650024   \n",
       "1                          NaN         NaN    0.000000   \n",
       "2                          NaN         NaN   15.770000   \n",
       "3                          NaN      oral-b   79.769997   \n",
       "4  furniture.living_room.chair        joie  111.459999   \n",
       "\n",
       "                           user_session  \n",
       "0  d83dc524-8a2c-4780-bbe0-f8aee03b54df  \n",
       "1  6183edb9-f592-4bb8-9913-67bb4711694d  \n",
       "2  884233e8-8b9f-4970-808b-4e1c81f8a5fc  \n",
       "3  c4ddb5b7-3185-453b-8e02-45d48a9775be  \n",
       "4  2c5d0468-32e1-42f7-9b4e-b17c1d387247  "
      ]
     },
     "execution_count": 11,
     "metadata": {},
     "output_type": "execute_result"
    }
   ],
   "source": [
    "user_df = user_df.reset_index()\n",
    "user_df.head()"
   ]
  },
  {
   "cell_type": "markdown",
   "id": "35760ad8",
   "metadata": {},
   "source": [
    "# 사용자 중 view만 존재하는 사용자 확인"
   ]
  },
  {
   "cell_type": "code",
   "execution_count": 47,
   "id": "cba60958",
   "metadata": {
    "ExecuteTime": {
     "end_time": "2022-09-21T15:26:56.454680Z",
     "start_time": "2022-09-21T15:26:55.921866Z"
    }
   },
   "outputs": [],
   "source": [
    "cart_user_id = set(user_df.loc[user_df['event_type'] == 'cart']['user_id'].unique())\n",
    "purchase_user_id = set(user_df.loc[user_df['event_type'] == 'purchase']['user_id'].unique())\n",
    "\n",
    "cart_or_purchase_users = cart_user_id.union(purchase_user_id)"
   ]
  },
  {
   "cell_type": "code",
   "execution_count": 48,
   "id": "2fe1fa62",
   "metadata": {
    "ExecuteTime": {
     "end_time": "2022-09-21T15:27:04.660383Z",
     "start_time": "2022-09-21T15:27:03.026365Z"
    }
   },
   "outputs": [
    {
     "data": {
      "text/html": [
       "<div>\n",
       "<style scoped>\n",
       "    .dataframe tbody tr th:only-of-type {\n",
       "        vertical-align: middle;\n",
       "    }\n",
       "\n",
       "    .dataframe tbody tr th {\n",
       "        vertical-align: top;\n",
       "    }\n",
       "\n",
       "    .dataframe thead th {\n",
       "        text-align: right;\n",
       "    }\n",
       "</style>\n",
       "<table border=\"1\" class=\"dataframe\">\n",
       "  <thead>\n",
       "    <tr style=\"text-align: right;\">\n",
       "      <th></th>\n",
       "      <th>user_id</th>\n",
       "      <th>event_time</th>\n",
       "      <th>event_type</th>\n",
       "      <th>product_id</th>\n",
       "      <th>category_id</th>\n",
       "      <th>category_code</th>\n",
       "      <th>brand</th>\n",
       "      <th>price</th>\n",
       "      <th>user_session</th>\n",
       "    </tr>\n",
       "  </thead>\n",
       "  <tbody>\n",
       "    <tr>\n",
       "      <th>0</th>\n",
       "      <td>33869381</td>\n",
       "      <td>2019-10-24 00:04:08</td>\n",
       "      <td>view</td>\n",
       "      <td>7002639</td>\n",
       "      <td>-1350565191</td>\n",
       "      <td>kids.carriage</td>\n",
       "      <td>bumbleride</td>\n",
       "      <td>769.650024</td>\n",
       "      <td>d83dc524-8a2c-4780-bbe0-f8aee03b54df</td>\n",
       "    </tr>\n",
       "    <tr>\n",
       "      <th>1</th>\n",
       "      <td>64078358</td>\n",
       "      <td>2019-10-13 04:13:46</td>\n",
       "      <td>view</td>\n",
       "      <td>10600284</td>\n",
       "      <td>-142605577</td>\n",
       "      <td>NaN</td>\n",
       "      <td>NaN</td>\n",
       "      <td>0.000000</td>\n",
       "      <td>6183edb9-f592-4bb8-9913-67bb4711694d</td>\n",
       "    </tr>\n",
       "    <tr>\n",
       "      <th>2</th>\n",
       "      <td>183503497</td>\n",
       "      <td>2019-10-03 01:43:00</td>\n",
       "      <td>view</td>\n",
       "      <td>22200103</td>\n",
       "      <td>1384120925</td>\n",
       "      <td>NaN</td>\n",
       "      <td>NaN</td>\n",
       "      <td>15.770000</td>\n",
       "      <td>884233e8-8b9f-4970-808b-4e1c81f8a5fc</td>\n",
       "    </tr>\n",
       "    <tr>\n",
       "      <th>3</th>\n",
       "      <td>184265397</td>\n",
       "      <td>2019-10-15 21:19:28</td>\n",
       "      <td>view</td>\n",
       "      <td>27400002</td>\n",
       "      <td>1694499675</td>\n",
       "      <td>NaN</td>\n",
       "      <td>oral-b</td>\n",
       "      <td>79.769997</td>\n",
       "      <td>c4ddb5b7-3185-453b-8e02-45d48a9775be</td>\n",
       "    </tr>\n",
       "    <tr>\n",
       "      <th>4</th>\n",
       "      <td>184265397</td>\n",
       "      <td>2019-10-04 21:50:50</td>\n",
       "      <td>view</td>\n",
       "      <td>6902303</td>\n",
       "      <td>-1384119625</td>\n",
       "      <td>furniture.living_room.chair</td>\n",
       "      <td>joie</td>\n",
       "      <td>111.459999</td>\n",
       "      <td>2c5d0468-32e1-42f7-9b4e-b17c1d387247</td>\n",
       "    </tr>\n",
       "  </tbody>\n",
       "</table>\n",
       "</div>"
      ],
      "text/plain": [
       "     user_id          event_time event_type  product_id  category_id  \\\n",
       "0   33869381 2019-10-24 00:04:08       view     7002639  -1350565191   \n",
       "1   64078358 2019-10-13 04:13:46       view    10600284   -142605577   \n",
       "2  183503497 2019-10-03 01:43:00       view    22200103   1384120925   \n",
       "3  184265397 2019-10-15 21:19:28       view    27400002   1694499675   \n",
       "4  184265397 2019-10-04 21:50:50       view     6902303  -1384119625   \n",
       "\n",
       "                 category_code       brand       price  \\\n",
       "0                kids.carriage  bumbleride  769.650024   \n",
       "1                          NaN         NaN    0.000000   \n",
       "2                          NaN         NaN   15.770000   \n",
       "3                          NaN      oral-b   79.769997   \n",
       "4  furniture.living_room.chair        joie  111.459999   \n",
       "\n",
       "                           user_session  \n",
       "0  d83dc524-8a2c-4780-bbe0-f8aee03b54df  \n",
       "1  6183edb9-f592-4bb8-9913-67bb4711694d  \n",
       "2  884233e8-8b9f-4970-808b-4e1c81f8a5fc  \n",
       "3  c4ddb5b7-3185-453b-8e02-45d48a9775be  \n",
       "4  2c5d0468-32e1-42f7-9b4e-b17c1d387247  "
      ]
     },
     "execution_count": 48,
     "metadata": {},
     "output_type": "execute_result"
    }
   ],
   "source": [
    "only_view_user_df = user_df.loc[~user_df['user_id'].isin(list(cart_or_purchase_users))]\n",
    "only_view_user_df.head()"
   ]
  },
  {
   "cell_type": "code",
   "execution_count": 49,
   "id": "f25b3cd3",
   "metadata": {
    "ExecuteTime": {
     "end_time": "2022-09-21T15:27:12.313241Z",
     "start_time": "2022-09-21T15:27:11.160243Z"
    }
   },
   "outputs": [
    {
     "data": {
      "text/plain": [
       "84.06265877161199"
      ]
     },
     "execution_count": 49,
     "metadata": {},
     "output_type": "execute_result"
    }
   ],
   "source": [
    "(only_view_user_df['user_id'].nunique() / user_df['user_id'].nunique()) * 100"
   ]
  },
  {
   "cell_type": "markdown",
   "id": "2e81e7f0",
   "metadata": {},
   "source": [
    "view만 존재하는 사용자는 전체 사용자의 약 84% 정도입니다.  \n",
    "이 사용자들을 장바구니 담기나 판매로 전환할 수 있다면 매출이 증가할 것입니다."
   ]
  },
  {
   "cell_type": "markdown",
   "id": "9ff6136e",
   "metadata": {},
   "source": [
    "# 사용자 중 cart 혹은 purchase가 반드시 하나는 포함된 사용자"
   ]
  },
  {
   "cell_type": "code",
   "execution_count": 52,
   "id": "444c55f9",
   "metadata": {
    "ExecuteTime": {
     "end_time": "2022-09-21T15:27:52.685317Z",
     "start_time": "2022-09-21T15:27:51.276220Z"
    }
   },
   "outputs": [],
   "source": [
    "cart_or_purchase_user_df = user_df.loc[user_df['user_id'].isin(list(cart_or_purchase_users))]"
   ]
  },
  {
   "cell_type": "code",
   "execution_count": 54,
   "id": "c1de24fc",
   "metadata": {
    "ExecuteTime": {
     "end_time": "2022-09-21T15:28:27.916977Z",
     "start_time": "2022-09-21T15:28:27.092856Z"
    }
   },
   "outputs": [
    {
     "data": {
      "text/plain": [
       "15.937341228388016"
      ]
     },
     "execution_count": 54,
     "metadata": {},
     "output_type": "execute_result"
    }
   ],
   "source": [
    "(cart_or_purchase_user_df['user_id'].nunique() / user_df['user_id'].nunique()) * 100"
   ]
  }
 ],
 "metadata": {
  "kernelspec": {
   "display_name": "Python 3 (ipykernel)",
   "language": "python",
   "name": "python3"
  },
  "language_info": {
   "codemirror_mode": {
    "name": "ipython",
    "version": 3
   },
   "file_extension": ".py",
   "mimetype": "text/x-python",
   "name": "python",
   "nbconvert_exporter": "python",
   "pygments_lexer": "ipython3",
   "version": "3.7.13"
  },
  "toc": {
   "base_numbering": 1,
   "nav_menu": {},
   "number_sections": true,
   "sideBar": true,
   "skip_h1_title": false,
   "title_cell": "Table of Contents",
   "title_sidebar": "Contents",
   "toc_cell": false,
   "toc_position": {},
   "toc_section_display": true,
   "toc_window_display": false
  },
  "varInspector": {
   "cols": {
    "lenName": 16,
    "lenType": 16,
    "lenVar": 40
   },
   "kernels_config": {
    "python": {
     "delete_cmd_postfix": "",
     "delete_cmd_prefix": "del ",
     "library": "var_list.py",
     "varRefreshCmd": "print(var_dic_list())"
    },
    "r": {
     "delete_cmd_postfix": ") ",
     "delete_cmd_prefix": "rm(",
     "library": "var_list.r",
     "varRefreshCmd": "cat(var_dic_list()) "
    }
   },
   "types_to_exclude": [
    "module",
    "function",
    "builtin_function_or_method",
    "instance",
    "_Feature"
   ],
   "window_display": false
  }
 },
 "nbformat": 4,
 "nbformat_minor": 5
}
