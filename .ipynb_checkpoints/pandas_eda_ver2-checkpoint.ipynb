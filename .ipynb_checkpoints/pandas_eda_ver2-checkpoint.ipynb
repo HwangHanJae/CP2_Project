{
 "cells": [
  {
   "cell_type": "markdown",
   "id": "c839e1ec",
   "metadata": {},
   "source": [
    "# 가정\n",
    "국가는 **러시아**"
   ]
  },
  {
   "cell_type": "markdown",
   "id": "843beba8",
   "metadata": {},
   "source": [
    "# 라이브러리 로드"
   ]
  },
  {
   "cell_type": "code",
   "execution_count": 43,
   "id": "c0383da7",
   "metadata": {
    "ExecuteTime": {
     "end_time": "2022-09-25T14:58:14.844078Z",
     "start_time": "2022-09-25T14:58:14.836080Z"
    }
   },
   "outputs": [],
   "source": [
    "import pandas as pd\n",
    "import numpy as np\n",
    "from tqdm import tqdm\n",
    "import matplotlib.pyplot as plt\n",
    "import seaborn as sns\n",
    "import datetime\n",
    "plt.style.use('ggplot')"
   ]
  },
  {
   "cell_type": "markdown",
   "id": "9abb4d32",
   "metadata": {},
   "source": [
    "# 데이터 로드"
   ]
  },
  {
   "cell_type": "code",
   "execution_count": 44,
   "id": "3d9bff9f",
   "metadata": {
    "ExecuteTime": {
     "end_time": "2022-09-25T14:58:19.104081Z",
     "start_time": "2022-09-25T14:58:15.386081Z"
    }
   },
   "outputs": [
    {
     "data": {
      "text/html": [
       "<div>\n",
       "<style scoped>\n",
       "    .dataframe tbody tr th:only-of-type {\n",
       "        vertical-align: middle;\n",
       "    }\n",
       "\n",
       "    .dataframe tbody tr th {\n",
       "        vertical-align: top;\n",
       "    }\n",
       "\n",
       "    .dataframe thead th {\n",
       "        text-align: right;\n",
       "    }\n",
       "</style>\n",
       "<table border=\"1\" class=\"dataframe\">\n",
       "  <thead>\n",
       "    <tr style=\"text-align: right;\">\n",
       "      <th></th>\n",
       "      <th>event_time</th>\n",
       "      <th>event_type</th>\n",
       "      <th>product_id</th>\n",
       "      <th>category_id</th>\n",
       "      <th>category_code</th>\n",
       "      <th>brand</th>\n",
       "      <th>price</th>\n",
       "      <th>user_id</th>\n",
       "      <th>user_session</th>\n",
       "    </tr>\n",
       "  </thead>\n",
       "  <tbody>\n",
       "    <tr>\n",
       "      <th>0</th>\n",
       "      <td>2019-10-01 00:00:00 UTC</td>\n",
       "      <td>view</td>\n",
       "      <td>44600062</td>\n",
       "      <td>-251657396</td>\n",
       "      <td>NaN</td>\n",
       "      <td>shiseido</td>\n",
       "      <td>35.790001</td>\n",
       "      <td>541312140</td>\n",
       "      <td>72d76fde-8bb3-4e00-8c23-a032dfed738c</td>\n",
       "    </tr>\n",
       "    <tr>\n",
       "      <th>1</th>\n",
       "      <td>2019-10-01 00:00:00 UTC</td>\n",
       "      <td>view</td>\n",
       "      <td>3900821</td>\n",
       "      <td>-780140327</td>\n",
       "      <td>appliances.environment.water_heater</td>\n",
       "      <td>aqua</td>\n",
       "      <td>33.200001</td>\n",
       "      <td>554748717</td>\n",
       "      <td>9333dfbd-b87a-4708-9857-6336556b0fcc</td>\n",
       "    </tr>\n",
       "    <tr>\n",
       "      <th>2</th>\n",
       "      <td>2019-10-01 00:00:01 UTC</td>\n",
       "      <td>view</td>\n",
       "      <td>17200506</td>\n",
       "      <td>-1904213353</td>\n",
       "      <td>furniture.living_room.sofa</td>\n",
       "      <td>NaN</td>\n",
       "      <td>543.099976</td>\n",
       "      <td>519107250</td>\n",
       "      <td>566511c2-e2e3-422b-b695-cf8e6e792ca8</td>\n",
       "    </tr>\n",
       "    <tr>\n",
       "      <th>3</th>\n",
       "      <td>2019-10-01 00:00:01 UTC</td>\n",
       "      <td>view</td>\n",
       "      <td>1307067</td>\n",
       "      <td>1518338663</td>\n",
       "      <td>computers.notebook</td>\n",
       "      <td>lenovo</td>\n",
       "      <td>251.740005</td>\n",
       "      <td>550050854</td>\n",
       "      <td>7c90fc70-0e80-4590-96f3-13c02c18c713</td>\n",
       "    </tr>\n",
       "    <tr>\n",
       "      <th>4</th>\n",
       "      <td>2019-10-01 00:00:04 UTC</td>\n",
       "      <td>view</td>\n",
       "      <td>1004237</td>\n",
       "      <td>-1769995873</td>\n",
       "      <td>electronics.smartphone</td>\n",
       "      <td>apple</td>\n",
       "      <td>1081.979980</td>\n",
       "      <td>535871217</td>\n",
       "      <td>c6bd7419-2748-4c56-95b4-8cec9ff8b80d</td>\n",
       "    </tr>\n",
       "  </tbody>\n",
       "</table>\n",
       "</div>"
      ],
      "text/plain": [
       "                event_time event_type  product_id  category_id  \\\n",
       "0  2019-10-01 00:00:00 UTC       view    44600062   -251657396   \n",
       "1  2019-10-01 00:00:00 UTC       view     3900821   -780140327   \n",
       "2  2019-10-01 00:00:01 UTC       view    17200506  -1904213353   \n",
       "3  2019-10-01 00:00:01 UTC       view     1307067   1518338663   \n",
       "4  2019-10-01 00:00:04 UTC       view     1004237  -1769995873   \n",
       "\n",
       "                         category_code     brand        price    user_id  \\\n",
       "0                                  NaN  shiseido    35.790001  541312140   \n",
       "1  appliances.environment.water_heater      aqua    33.200001  554748717   \n",
       "2           furniture.living_room.sofa       NaN   543.099976  519107250   \n",
       "3                   computers.notebook    lenovo   251.740005  550050854   \n",
       "4               electronics.smartphone     apple  1081.979980  535871217   \n",
       "\n",
       "                           user_session  \n",
       "0  72d76fde-8bb3-4e00-8c23-a032dfed738c  \n",
       "1  9333dfbd-b87a-4708-9857-6336556b0fcc  \n",
       "2  566511c2-e2e3-422b-b695-cf8e6e792ca8  \n",
       "3  7c90fc70-0e80-4590-96f3-13c02c18c713  \n",
       "4  c6bd7419-2748-4c56-95b4-8cec9ff8b80d  "
      ]
     },
     "execution_count": 44,
     "metadata": {},
     "output_type": "execute_result"
    }
   ],
   "source": [
    "try:\n",
    "  path = 'C:/Users/User/Desktop/AIB_13/CP2/data/'\n",
    "  df = pd.read_parquet(path + 'light_2019-Oct.parquet', engine='fastparquet')\n",
    "except:\n",
    "  path = '/content/drive/MyDrive/CP2/data/'\n",
    "  df = pd.read_parquet(path + 'light_2019-Oct.parquet', engine='fastparquet')\n",
    "\n",
    "df.head()"
   ]
  },
  {
   "cell_type": "markdown",
   "id": "ff31a5e0",
   "metadata": {},
   "source": [
    "# 필요 데이터 전처리"
   ]
  },
  {
   "cell_type": "code",
   "execution_count": 45,
   "id": "4965b475",
   "metadata": {
    "ExecuteTime": {
     "end_time": "2022-09-25T14:58:37.945078Z",
     "start_time": "2022-09-25T14:58:30.972079Z"
    }
   },
   "outputs": [
    {
     "data": {
      "text/plain": [
       "dtype('<M8[ns]')"
      ]
     },
     "execution_count": 45,
     "metadata": {},
     "output_type": "execute_result"
    }
   ],
   "source": [
    "df['event_time'] = df['event_time'].apply(lambda x : x[:-4]).astype('datetime64')\n",
    "df['event_time'].dtype"
   ]
  },
  {
   "cell_type": "code",
   "execution_count": 46,
   "id": "1252421d",
   "metadata": {
    "ExecuteTime": {
     "end_time": "2022-09-25T14:58:38.995079Z",
     "start_time": "2022-09-25T14:58:38.441081Z"
    }
   },
   "outputs": [
    {
     "data": {
      "text/plain": [
       "42448759   2019-11-01 03:59:58\n",
       "42448760   2019-11-01 03:59:58\n",
       "42448761   2019-11-01 03:59:58\n",
       "42448762   2019-11-01 03:59:59\n",
       "42448763   2019-11-01 03:59:59\n",
       "Name: event_time, dtype: datetime64[ns]"
      ]
     },
     "execution_count": 46,
     "metadata": {},
     "output_type": "execute_result"
    }
   ],
   "source": [
    "df['event_time'] = df['event_time'] + datetime.timedelta(hours=4)\n",
    "df['event_time'].tail()"
   ]
  },
  {
   "cell_type": "code",
   "execution_count": 47,
   "id": "0eea10e2",
   "metadata": {
    "ExecuteTime": {
     "end_time": "2022-09-25T14:58:41.485080Z",
     "start_time": "2022-09-25T14:58:39.521080Z"
    }
   },
   "outputs": [],
   "source": [
    "df = df.loc[df['event_time'] < '2019-11-01']"
   ]
  },
  {
   "cell_type": "code",
   "execution_count": 48,
   "id": "54b4a62c",
   "metadata": {
    "ExecuteTime": {
     "end_time": "2022-09-25T14:58:42.026121Z",
     "start_time": "2022-09-25T14:58:42.014121Z"
    }
   },
   "outputs": [
    {
     "data": {
      "text/html": [
       "<div>\n",
       "<style scoped>\n",
       "    .dataframe tbody tr th:only-of-type {\n",
       "        vertical-align: middle;\n",
       "    }\n",
       "\n",
       "    .dataframe tbody tr th {\n",
       "        vertical-align: top;\n",
       "    }\n",
       "\n",
       "    .dataframe thead th {\n",
       "        text-align: right;\n",
       "    }\n",
       "</style>\n",
       "<table border=\"1\" class=\"dataframe\">\n",
       "  <thead>\n",
       "    <tr style=\"text-align: right;\">\n",
       "      <th></th>\n",
       "      <th>event_time</th>\n",
       "      <th>event_type</th>\n",
       "      <th>product_id</th>\n",
       "      <th>category_id</th>\n",
       "      <th>category_code</th>\n",
       "      <th>brand</th>\n",
       "      <th>price</th>\n",
       "      <th>user_id</th>\n",
       "      <th>user_session</th>\n",
       "    </tr>\n",
       "  </thead>\n",
       "  <tbody>\n",
       "    <tr>\n",
       "      <th>0</th>\n",
       "      <td>2019-10-01 04:00:00</td>\n",
       "      <td>view</td>\n",
       "      <td>44600062</td>\n",
       "      <td>-251657396</td>\n",
       "      <td>NaN</td>\n",
       "      <td>shiseido</td>\n",
       "      <td>35.790001</td>\n",
       "      <td>541312140</td>\n",
       "      <td>72d76fde-8bb3-4e00-8c23-a032dfed738c</td>\n",
       "    </tr>\n",
       "    <tr>\n",
       "      <th>1</th>\n",
       "      <td>2019-10-01 04:00:00</td>\n",
       "      <td>view</td>\n",
       "      <td>3900821</td>\n",
       "      <td>-780140327</td>\n",
       "      <td>appliances.environment.water_heater</td>\n",
       "      <td>aqua</td>\n",
       "      <td>33.200001</td>\n",
       "      <td>554748717</td>\n",
       "      <td>9333dfbd-b87a-4708-9857-6336556b0fcc</td>\n",
       "    </tr>\n",
       "    <tr>\n",
       "      <th>2</th>\n",
       "      <td>2019-10-01 04:00:01</td>\n",
       "      <td>view</td>\n",
       "      <td>17200506</td>\n",
       "      <td>-1904213353</td>\n",
       "      <td>furniture.living_room.sofa</td>\n",
       "      <td>NaN</td>\n",
       "      <td>543.099976</td>\n",
       "      <td>519107250</td>\n",
       "      <td>566511c2-e2e3-422b-b695-cf8e6e792ca8</td>\n",
       "    </tr>\n",
       "    <tr>\n",
       "      <th>3</th>\n",
       "      <td>2019-10-01 04:00:01</td>\n",
       "      <td>view</td>\n",
       "      <td>1307067</td>\n",
       "      <td>1518338663</td>\n",
       "      <td>computers.notebook</td>\n",
       "      <td>lenovo</td>\n",
       "      <td>251.740005</td>\n",
       "      <td>550050854</td>\n",
       "      <td>7c90fc70-0e80-4590-96f3-13c02c18c713</td>\n",
       "    </tr>\n",
       "    <tr>\n",
       "      <th>4</th>\n",
       "      <td>2019-10-01 04:00:04</td>\n",
       "      <td>view</td>\n",
       "      <td>1004237</td>\n",
       "      <td>-1769995873</td>\n",
       "      <td>electronics.smartphone</td>\n",
       "      <td>apple</td>\n",
       "      <td>1081.979980</td>\n",
       "      <td>535871217</td>\n",
       "      <td>c6bd7419-2748-4c56-95b4-8cec9ff8b80d</td>\n",
       "    </tr>\n",
       "  </tbody>\n",
       "</table>\n",
       "</div>"
      ],
      "text/plain": [
       "           event_time event_type  product_id  category_id  \\\n",
       "0 2019-10-01 04:00:00       view    44600062   -251657396   \n",
       "1 2019-10-01 04:00:00       view     3900821   -780140327   \n",
       "2 2019-10-01 04:00:01       view    17200506  -1904213353   \n",
       "3 2019-10-01 04:00:01       view     1307067   1518338663   \n",
       "4 2019-10-01 04:00:04       view     1004237  -1769995873   \n",
       "\n",
       "                         category_code     brand        price    user_id  \\\n",
       "0                                  NaN  shiseido    35.790001  541312140   \n",
       "1  appliances.environment.water_heater      aqua    33.200001  554748717   \n",
       "2           furniture.living_room.sofa       NaN   543.099976  519107250   \n",
       "3                   computers.notebook    lenovo   251.740005  550050854   \n",
       "4               electronics.smartphone     apple  1081.979980  535871217   \n",
       "\n",
       "                           user_session  \n",
       "0  72d76fde-8bb3-4e00-8c23-a032dfed738c  \n",
       "1  9333dfbd-b87a-4708-9857-6336556b0fcc  \n",
       "2  566511c2-e2e3-422b-b695-cf8e6e792ca8  \n",
       "3  7c90fc70-0e80-4590-96f3-13c02c18c713  \n",
       "4  c6bd7419-2748-4c56-95b4-8cec9ff8b80d  "
      ]
     },
     "execution_count": 48,
     "metadata": {},
     "output_type": "execute_result"
    }
   ],
   "source": [
    "df.head()"
   ]
  },
  {
   "cell_type": "markdown",
   "id": "0743afb3",
   "metadata": {},
   "source": [
    "# user_id를 기준으로  index 설정"
   ]
  },
  {
   "cell_type": "code",
   "execution_count": 49,
   "id": "6c0fd3d3",
   "metadata": {
    "ExecuteTime": {
     "end_time": "2022-09-25T14:58:43.016120Z",
     "start_time": "2022-09-25T14:58:42.567122Z"
    }
   },
   "outputs": [
    {
     "data": {
      "text/html": [
       "<div>\n",
       "<style scoped>\n",
       "    .dataframe tbody tr th:only-of-type {\n",
       "        vertical-align: middle;\n",
       "    }\n",
       "\n",
       "    .dataframe tbody tr th {\n",
       "        vertical-align: top;\n",
       "    }\n",
       "\n",
       "    .dataframe thead th {\n",
       "        text-align: right;\n",
       "    }\n",
       "</style>\n",
       "<table border=\"1\" class=\"dataframe\">\n",
       "  <thead>\n",
       "    <tr style=\"text-align: right;\">\n",
       "      <th></th>\n",
       "      <th>event_time</th>\n",
       "      <th>event_type</th>\n",
       "      <th>product_id</th>\n",
       "      <th>category_id</th>\n",
       "      <th>category_code</th>\n",
       "      <th>brand</th>\n",
       "      <th>price</th>\n",
       "      <th>user_session</th>\n",
       "    </tr>\n",
       "    <tr>\n",
       "      <th>user_id</th>\n",
       "      <th></th>\n",
       "      <th></th>\n",
       "      <th></th>\n",
       "      <th></th>\n",
       "      <th></th>\n",
       "      <th></th>\n",
       "      <th></th>\n",
       "      <th></th>\n",
       "    </tr>\n",
       "  </thead>\n",
       "  <tbody>\n",
       "    <tr>\n",
       "      <th>541312140</th>\n",
       "      <td>2019-10-01 04:00:00</td>\n",
       "      <td>view</td>\n",
       "      <td>44600062</td>\n",
       "      <td>-251657396</td>\n",
       "      <td>NaN</td>\n",
       "      <td>shiseido</td>\n",
       "      <td>35.790001</td>\n",
       "      <td>72d76fde-8bb3-4e00-8c23-a032dfed738c</td>\n",
       "    </tr>\n",
       "    <tr>\n",
       "      <th>554748717</th>\n",
       "      <td>2019-10-01 04:00:00</td>\n",
       "      <td>view</td>\n",
       "      <td>3900821</td>\n",
       "      <td>-780140327</td>\n",
       "      <td>appliances.environment.water_heater</td>\n",
       "      <td>aqua</td>\n",
       "      <td>33.200001</td>\n",
       "      <td>9333dfbd-b87a-4708-9857-6336556b0fcc</td>\n",
       "    </tr>\n",
       "    <tr>\n",
       "      <th>519107250</th>\n",
       "      <td>2019-10-01 04:00:01</td>\n",
       "      <td>view</td>\n",
       "      <td>17200506</td>\n",
       "      <td>-1904213353</td>\n",
       "      <td>furniture.living_room.sofa</td>\n",
       "      <td>NaN</td>\n",
       "      <td>543.099976</td>\n",
       "      <td>566511c2-e2e3-422b-b695-cf8e6e792ca8</td>\n",
       "    </tr>\n",
       "    <tr>\n",
       "      <th>550050854</th>\n",
       "      <td>2019-10-01 04:00:01</td>\n",
       "      <td>view</td>\n",
       "      <td>1307067</td>\n",
       "      <td>1518338663</td>\n",
       "      <td>computers.notebook</td>\n",
       "      <td>lenovo</td>\n",
       "      <td>251.740005</td>\n",
       "      <td>7c90fc70-0e80-4590-96f3-13c02c18c713</td>\n",
       "    </tr>\n",
       "    <tr>\n",
       "      <th>535871217</th>\n",
       "      <td>2019-10-01 04:00:04</td>\n",
       "      <td>view</td>\n",
       "      <td>1004237</td>\n",
       "      <td>-1769995873</td>\n",
       "      <td>electronics.smartphone</td>\n",
       "      <td>apple</td>\n",
       "      <td>1081.979980</td>\n",
       "      <td>c6bd7419-2748-4c56-95b4-8cec9ff8b80d</td>\n",
       "    </tr>\n",
       "  </tbody>\n",
       "</table>\n",
       "</div>"
      ],
      "text/plain": [
       "                   event_time event_type  product_id  category_id  \\\n",
       "user_id                                                             \n",
       "541312140 2019-10-01 04:00:00       view    44600062   -251657396   \n",
       "554748717 2019-10-01 04:00:00       view     3900821   -780140327   \n",
       "519107250 2019-10-01 04:00:01       view    17200506  -1904213353   \n",
       "550050854 2019-10-01 04:00:01       view     1307067   1518338663   \n",
       "535871217 2019-10-01 04:00:04       view     1004237  -1769995873   \n",
       "\n",
       "                                 category_code     brand        price  \\\n",
       "user_id                                                                 \n",
       "541312140                                  NaN  shiseido    35.790001   \n",
       "554748717  appliances.environment.water_heater      aqua    33.200001   \n",
       "519107250           furniture.living_room.sofa       NaN   543.099976   \n",
       "550050854                   computers.notebook    lenovo   251.740005   \n",
       "535871217               electronics.smartphone     apple  1081.979980   \n",
       "\n",
       "                                   user_session  \n",
       "user_id                                          \n",
       "541312140  72d76fde-8bb3-4e00-8c23-a032dfed738c  \n",
       "554748717  9333dfbd-b87a-4708-9857-6336556b0fcc  \n",
       "519107250  566511c2-e2e3-422b-b695-cf8e6e792ca8  \n",
       "550050854  7c90fc70-0e80-4590-96f3-13c02c18c713  \n",
       "535871217  c6bd7419-2748-4c56-95b4-8cec9ff8b80d  "
      ]
     },
     "execution_count": 49,
     "metadata": {},
     "output_type": "execute_result"
    }
   ],
   "source": [
    "user_df = df.set_index('user_id')\n",
    "user_df.head()"
   ]
  },
  {
   "cell_type": "code",
   "execution_count": 50,
   "id": "abb72f74",
   "metadata": {
    "ExecuteTime": {
     "end_time": "2022-09-25T14:58:57.572859Z",
     "start_time": "2022-09-25T14:58:43.543122Z"
    }
   },
   "outputs": [
    {
     "data": {
      "text/html": [
       "<div>\n",
       "<style scoped>\n",
       "    .dataframe tbody tr th:only-of-type {\n",
       "        vertical-align: middle;\n",
       "    }\n",
       "\n",
       "    .dataframe tbody tr th {\n",
       "        vertical-align: top;\n",
       "    }\n",
       "\n",
       "    .dataframe thead th {\n",
       "        text-align: right;\n",
       "    }\n",
       "</style>\n",
       "<table border=\"1\" class=\"dataframe\">\n",
       "  <thead>\n",
       "    <tr style=\"text-align: right;\">\n",
       "      <th></th>\n",
       "      <th>event_time</th>\n",
       "      <th>event_type</th>\n",
       "      <th>product_id</th>\n",
       "      <th>category_id</th>\n",
       "      <th>category_code</th>\n",
       "      <th>brand</th>\n",
       "      <th>price</th>\n",
       "      <th>user_session</th>\n",
       "    </tr>\n",
       "    <tr>\n",
       "      <th>user_id</th>\n",
       "      <th></th>\n",
       "      <th></th>\n",
       "      <th></th>\n",
       "      <th></th>\n",
       "      <th></th>\n",
       "      <th></th>\n",
       "      <th></th>\n",
       "      <th></th>\n",
       "    </tr>\n",
       "  </thead>\n",
       "  <tbody>\n",
       "    <tr>\n",
       "      <th>33869381</th>\n",
       "      <td>2019-10-24 00:04:08</td>\n",
       "      <td>view</td>\n",
       "      <td>7002639</td>\n",
       "      <td>-1350565191</td>\n",
       "      <td>kids.carriage</td>\n",
       "      <td>bumbleride</td>\n",
       "      <td>769.650024</td>\n",
       "      <td>d83dc524-8a2c-4780-bbe0-f8aee03b54df</td>\n",
       "    </tr>\n",
       "    <tr>\n",
       "      <th>64078358</th>\n",
       "      <td>2019-10-13 04:13:46</td>\n",
       "      <td>view</td>\n",
       "      <td>10600284</td>\n",
       "      <td>-142605577</td>\n",
       "      <td>NaN</td>\n",
       "      <td>NaN</td>\n",
       "      <td>0.000000</td>\n",
       "      <td>6183edb9-f592-4bb8-9913-67bb4711694d</td>\n",
       "    </tr>\n",
       "    <tr>\n",
       "      <th>183503497</th>\n",
       "      <td>2019-10-03 01:43:00</td>\n",
       "      <td>view</td>\n",
       "      <td>22200103</td>\n",
       "      <td>1384120925</td>\n",
       "      <td>NaN</td>\n",
       "      <td>NaN</td>\n",
       "      <td>15.770000</td>\n",
       "      <td>884233e8-8b9f-4970-808b-4e1c81f8a5fc</td>\n",
       "    </tr>\n",
       "    <tr>\n",
       "      <th>184265397</th>\n",
       "      <td>2019-10-15 21:19:28</td>\n",
       "      <td>view</td>\n",
       "      <td>27400002</td>\n",
       "      <td>1694499675</td>\n",
       "      <td>NaN</td>\n",
       "      <td>oral-b</td>\n",
       "      <td>79.769997</td>\n",
       "      <td>c4ddb5b7-3185-453b-8e02-45d48a9775be</td>\n",
       "    </tr>\n",
       "    <tr>\n",
       "      <th>184265397</th>\n",
       "      <td>2019-10-04 21:50:50</td>\n",
       "      <td>view</td>\n",
       "      <td>6902303</td>\n",
       "      <td>-1384119625</td>\n",
       "      <td>furniture.living_room.chair</td>\n",
       "      <td>joie</td>\n",
       "      <td>111.459999</td>\n",
       "      <td>2c5d0468-32e1-42f7-9b4e-b17c1d387247</td>\n",
       "    </tr>\n",
       "  </tbody>\n",
       "</table>\n",
       "</div>"
      ],
      "text/plain": [
       "                   event_time event_type  product_id  category_id  \\\n",
       "user_id                                                             \n",
       "33869381  2019-10-24 00:04:08       view     7002639  -1350565191   \n",
       "64078358  2019-10-13 04:13:46       view    10600284   -142605577   \n",
       "183503497 2019-10-03 01:43:00       view    22200103   1384120925   \n",
       "184265397 2019-10-15 21:19:28       view    27400002   1694499675   \n",
       "184265397 2019-10-04 21:50:50       view     6902303  -1384119625   \n",
       "\n",
       "                         category_code       brand       price  \\\n",
       "user_id                                                          \n",
       "33869381                 kids.carriage  bumbleride  769.650024   \n",
       "64078358                           NaN         NaN    0.000000   \n",
       "183503497                          NaN         NaN   15.770000   \n",
       "184265397                          NaN      oral-b   79.769997   \n",
       "184265397  furniture.living_room.chair        joie  111.459999   \n",
       "\n",
       "                                   user_session  \n",
       "user_id                                          \n",
       "33869381   d83dc524-8a2c-4780-bbe0-f8aee03b54df  \n",
       "64078358   6183edb9-f592-4bb8-9913-67bb4711694d  \n",
       "183503497  884233e8-8b9f-4970-808b-4e1c81f8a5fc  \n",
       "184265397  c4ddb5b7-3185-453b-8e02-45d48a9775be  \n",
       "184265397  2c5d0468-32e1-42f7-9b4e-b17c1d387247  "
      ]
     },
     "execution_count": 50,
     "metadata": {},
     "output_type": "execute_result"
    }
   ],
   "source": [
    "user_df = user_df.sort_index()\n",
    "user_df.head()"
   ]
  },
  {
   "cell_type": "code",
   "execution_count": 51,
   "id": "3b9bf932",
   "metadata": {
    "ExecuteTime": {
     "end_time": "2022-09-25T14:58:58.518923Z",
     "start_time": "2022-09-25T14:58:58.130872Z"
    },
    "scrolled": true
   },
   "outputs": [
    {
     "data": {
      "text/html": [
       "<div>\n",
       "<style scoped>\n",
       "    .dataframe tbody tr th:only-of-type {\n",
       "        vertical-align: middle;\n",
       "    }\n",
       "\n",
       "    .dataframe tbody tr th {\n",
       "        vertical-align: top;\n",
       "    }\n",
       "\n",
       "    .dataframe thead th {\n",
       "        text-align: right;\n",
       "    }\n",
       "</style>\n",
       "<table border=\"1\" class=\"dataframe\">\n",
       "  <thead>\n",
       "    <tr style=\"text-align: right;\">\n",
       "      <th></th>\n",
       "      <th>user_id</th>\n",
       "      <th>event_time</th>\n",
       "      <th>event_type</th>\n",
       "      <th>product_id</th>\n",
       "      <th>category_id</th>\n",
       "      <th>category_code</th>\n",
       "      <th>brand</th>\n",
       "      <th>price</th>\n",
       "      <th>user_session</th>\n",
       "    </tr>\n",
       "  </thead>\n",
       "  <tbody>\n",
       "    <tr>\n",
       "      <th>0</th>\n",
       "      <td>33869381</td>\n",
       "      <td>2019-10-24 00:04:08</td>\n",
       "      <td>view</td>\n",
       "      <td>7002639</td>\n",
       "      <td>-1350565191</td>\n",
       "      <td>kids.carriage</td>\n",
       "      <td>bumbleride</td>\n",
       "      <td>769.650024</td>\n",
       "      <td>d83dc524-8a2c-4780-bbe0-f8aee03b54df</td>\n",
       "    </tr>\n",
       "    <tr>\n",
       "      <th>1</th>\n",
       "      <td>64078358</td>\n",
       "      <td>2019-10-13 04:13:46</td>\n",
       "      <td>view</td>\n",
       "      <td>10600284</td>\n",
       "      <td>-142605577</td>\n",
       "      <td>NaN</td>\n",
       "      <td>NaN</td>\n",
       "      <td>0.000000</td>\n",
       "      <td>6183edb9-f592-4bb8-9913-67bb4711694d</td>\n",
       "    </tr>\n",
       "    <tr>\n",
       "      <th>2</th>\n",
       "      <td>183503497</td>\n",
       "      <td>2019-10-03 01:43:00</td>\n",
       "      <td>view</td>\n",
       "      <td>22200103</td>\n",
       "      <td>1384120925</td>\n",
       "      <td>NaN</td>\n",
       "      <td>NaN</td>\n",
       "      <td>15.770000</td>\n",
       "      <td>884233e8-8b9f-4970-808b-4e1c81f8a5fc</td>\n",
       "    </tr>\n",
       "    <tr>\n",
       "      <th>3</th>\n",
       "      <td>184265397</td>\n",
       "      <td>2019-10-15 21:19:28</td>\n",
       "      <td>view</td>\n",
       "      <td>27400002</td>\n",
       "      <td>1694499675</td>\n",
       "      <td>NaN</td>\n",
       "      <td>oral-b</td>\n",
       "      <td>79.769997</td>\n",
       "      <td>c4ddb5b7-3185-453b-8e02-45d48a9775be</td>\n",
       "    </tr>\n",
       "    <tr>\n",
       "      <th>4</th>\n",
       "      <td>184265397</td>\n",
       "      <td>2019-10-04 21:50:50</td>\n",
       "      <td>view</td>\n",
       "      <td>6902303</td>\n",
       "      <td>-1384119625</td>\n",
       "      <td>furniture.living_room.chair</td>\n",
       "      <td>joie</td>\n",
       "      <td>111.459999</td>\n",
       "      <td>2c5d0468-32e1-42f7-9b4e-b17c1d387247</td>\n",
       "    </tr>\n",
       "  </tbody>\n",
       "</table>\n",
       "</div>"
      ],
      "text/plain": [
       "     user_id          event_time event_type  product_id  category_id  \\\n",
       "0   33869381 2019-10-24 00:04:08       view     7002639  -1350565191   \n",
       "1   64078358 2019-10-13 04:13:46       view    10600284   -142605577   \n",
       "2  183503497 2019-10-03 01:43:00       view    22200103   1384120925   \n",
       "3  184265397 2019-10-15 21:19:28       view    27400002   1694499675   \n",
       "4  184265397 2019-10-04 21:50:50       view     6902303  -1384119625   \n",
       "\n",
       "                 category_code       brand       price  \\\n",
       "0                kids.carriage  bumbleride  769.650024   \n",
       "1                          NaN         NaN    0.000000   \n",
       "2                          NaN         NaN   15.770000   \n",
       "3                          NaN      oral-b   79.769997   \n",
       "4  furniture.living_room.chair        joie  111.459999   \n",
       "\n",
       "                           user_session  \n",
       "0  d83dc524-8a2c-4780-bbe0-f8aee03b54df  \n",
       "1  6183edb9-f592-4bb8-9913-67bb4711694d  \n",
       "2  884233e8-8b9f-4970-808b-4e1c81f8a5fc  \n",
       "3  c4ddb5b7-3185-453b-8e02-45d48a9775be  \n",
       "4  2c5d0468-32e1-42f7-9b4e-b17c1d387247  "
      ]
     },
     "execution_count": 51,
     "metadata": {},
     "output_type": "execute_result"
    }
   ],
   "source": [
    "user_df = user_df.reset_index()\n",
    "user_df.head()"
   ]
  },
  {
   "cell_type": "markdown",
   "id": "35760ad8",
   "metadata": {},
   "source": [
    "# 사용자 중 view만 존재하는 사용자 확인"
   ]
  },
  {
   "cell_type": "code",
   "execution_count": 52,
   "id": "cba60958",
   "metadata": {
    "ExecuteTime": {
     "end_time": "2022-09-25T14:58:59.812175Z",
     "start_time": "2022-09-25T14:58:59.153674Z"
    }
   },
   "outputs": [],
   "source": [
    "cart_user_id = set(user_df.loc[user_df['event_type'] == 'cart']['user_id'].unique())\n",
    "purchase_user_id = set(user_df.loc[user_df['event_type'] == 'purchase']['user_id'].unique())\n",
    "\n",
    "cart_or_purchase_users = cart_user_id.union(purchase_user_id)"
   ]
  },
  {
   "cell_type": "code",
   "execution_count": 53,
   "id": "2fe1fa62",
   "metadata": {
    "ExecuteTime": {
     "end_time": "2022-09-25T14:59:02.079224Z",
     "start_time": "2022-09-25T14:59:00.339952Z"
    }
   },
   "outputs": [
    {
     "data": {
      "text/html": [
       "<div>\n",
       "<style scoped>\n",
       "    .dataframe tbody tr th:only-of-type {\n",
       "        vertical-align: middle;\n",
       "    }\n",
       "\n",
       "    .dataframe tbody tr th {\n",
       "        vertical-align: top;\n",
       "    }\n",
       "\n",
       "    .dataframe thead th {\n",
       "        text-align: right;\n",
       "    }\n",
       "</style>\n",
       "<table border=\"1\" class=\"dataframe\">\n",
       "  <thead>\n",
       "    <tr style=\"text-align: right;\">\n",
       "      <th></th>\n",
       "      <th>user_id</th>\n",
       "      <th>event_time</th>\n",
       "      <th>event_type</th>\n",
       "      <th>product_id</th>\n",
       "      <th>category_id</th>\n",
       "      <th>category_code</th>\n",
       "      <th>brand</th>\n",
       "      <th>price</th>\n",
       "      <th>user_session</th>\n",
       "    </tr>\n",
       "  </thead>\n",
       "  <tbody>\n",
       "    <tr>\n",
       "      <th>0</th>\n",
       "      <td>33869381</td>\n",
       "      <td>2019-10-24 00:04:08</td>\n",
       "      <td>view</td>\n",
       "      <td>7002639</td>\n",
       "      <td>-1350565191</td>\n",
       "      <td>kids.carriage</td>\n",
       "      <td>bumbleride</td>\n",
       "      <td>769.650024</td>\n",
       "      <td>d83dc524-8a2c-4780-bbe0-f8aee03b54df</td>\n",
       "    </tr>\n",
       "    <tr>\n",
       "      <th>1</th>\n",
       "      <td>64078358</td>\n",
       "      <td>2019-10-13 04:13:46</td>\n",
       "      <td>view</td>\n",
       "      <td>10600284</td>\n",
       "      <td>-142605577</td>\n",
       "      <td>NaN</td>\n",
       "      <td>NaN</td>\n",
       "      <td>0.000000</td>\n",
       "      <td>6183edb9-f592-4bb8-9913-67bb4711694d</td>\n",
       "    </tr>\n",
       "    <tr>\n",
       "      <th>2</th>\n",
       "      <td>183503497</td>\n",
       "      <td>2019-10-03 01:43:00</td>\n",
       "      <td>view</td>\n",
       "      <td>22200103</td>\n",
       "      <td>1384120925</td>\n",
       "      <td>NaN</td>\n",
       "      <td>NaN</td>\n",
       "      <td>15.770000</td>\n",
       "      <td>884233e8-8b9f-4970-808b-4e1c81f8a5fc</td>\n",
       "    </tr>\n",
       "    <tr>\n",
       "      <th>3</th>\n",
       "      <td>184265397</td>\n",
       "      <td>2019-10-15 21:19:28</td>\n",
       "      <td>view</td>\n",
       "      <td>27400002</td>\n",
       "      <td>1694499675</td>\n",
       "      <td>NaN</td>\n",
       "      <td>oral-b</td>\n",
       "      <td>79.769997</td>\n",
       "      <td>c4ddb5b7-3185-453b-8e02-45d48a9775be</td>\n",
       "    </tr>\n",
       "    <tr>\n",
       "      <th>4</th>\n",
       "      <td>184265397</td>\n",
       "      <td>2019-10-04 21:50:50</td>\n",
       "      <td>view</td>\n",
       "      <td>6902303</td>\n",
       "      <td>-1384119625</td>\n",
       "      <td>furniture.living_room.chair</td>\n",
       "      <td>joie</td>\n",
       "      <td>111.459999</td>\n",
       "      <td>2c5d0468-32e1-42f7-9b4e-b17c1d387247</td>\n",
       "    </tr>\n",
       "  </tbody>\n",
       "</table>\n",
       "</div>"
      ],
      "text/plain": [
       "     user_id          event_time event_type  product_id  category_id  \\\n",
       "0   33869381 2019-10-24 00:04:08       view     7002639  -1350565191   \n",
       "1   64078358 2019-10-13 04:13:46       view    10600284   -142605577   \n",
       "2  183503497 2019-10-03 01:43:00       view    22200103   1384120925   \n",
       "3  184265397 2019-10-15 21:19:28       view    27400002   1694499675   \n",
       "4  184265397 2019-10-04 21:50:50       view     6902303  -1384119625   \n",
       "\n",
       "                 category_code       brand       price  \\\n",
       "0                kids.carriage  bumbleride  769.650024   \n",
       "1                          NaN         NaN    0.000000   \n",
       "2                          NaN         NaN   15.770000   \n",
       "3                          NaN      oral-b   79.769997   \n",
       "4  furniture.living_room.chair        joie  111.459999   \n",
       "\n",
       "                           user_session  \n",
       "0  d83dc524-8a2c-4780-bbe0-f8aee03b54df  \n",
       "1  6183edb9-f592-4bb8-9913-67bb4711694d  \n",
       "2  884233e8-8b9f-4970-808b-4e1c81f8a5fc  \n",
       "3  c4ddb5b7-3185-453b-8e02-45d48a9775be  \n",
       "4  2c5d0468-32e1-42f7-9b4e-b17c1d387247  "
      ]
     },
     "execution_count": 53,
     "metadata": {},
     "output_type": "execute_result"
    }
   ],
   "source": [
    "only_view_user_df = user_df.loc[~user_df['user_id'].isin(list(cart_or_purchase_users))]\n",
    "only_view_user_df.head()"
   ]
  },
  {
   "cell_type": "code",
   "execution_count": 54,
   "id": "f25b3cd3",
   "metadata": {
    "ExecuteTime": {
     "end_time": "2022-09-25T14:59:04.083844Z",
     "start_time": "2022-09-25T14:59:02.682047Z"
    }
   },
   "outputs": [
    {
     "data": {
      "text/plain": [
       "84.06265877161199"
      ]
     },
     "execution_count": 54,
     "metadata": {},
     "output_type": "execute_result"
    }
   ],
   "source": [
    "(only_view_user_df['user_id'].nunique() / user_df['user_id'].nunique()) * 100"
   ]
  },
  {
   "cell_type": "markdown",
   "id": "2e81e7f0",
   "metadata": {},
   "source": [
    "view만 존재하는 사용자는 전체 사용자의 약 84% 정도입니다.  \n",
    "이 사용자들을 장바구니 담기나 판매로 전환할 수 있다면 매출이 증가할 것입니다."
   ]
  },
  {
   "cell_type": "markdown",
   "id": "9ff6136e",
   "metadata": {},
   "source": [
    "# 사용자 중 cart 혹은 purchase가 반드시 하나는 포함된 사용자 확인"
   ]
  },
  {
   "cell_type": "code",
   "execution_count": 55,
   "id": "444c55f9",
   "metadata": {
    "ExecuteTime": {
     "end_time": "2022-09-25T14:59:06.177185Z",
     "start_time": "2022-09-25T14:59:04.612698Z"
    }
   },
   "outputs": [],
   "source": [
    "cart_or_purchase_user_df = user_df.loc[user_df['user_id'].isin(list(cart_or_purchase_users))]"
   ]
  },
  {
   "cell_type": "code",
   "execution_count": 56,
   "id": "c1de24fc",
   "metadata": {
    "ExecuteTime": {
     "end_time": "2022-09-25T14:59:07.604807Z",
     "start_time": "2022-09-25T14:59:06.734710Z"
    }
   },
   "outputs": [
    {
     "data": {
      "text/plain": [
       "15.937341228388016"
      ]
     },
     "execution_count": 56,
     "metadata": {},
     "output_type": "execute_result"
    }
   ],
   "source": [
    "(cart_or_purchase_user_df['user_id'].nunique() / user_df['user_id'].nunique()) * 100"
   ]
  },
  {
   "cell_type": "markdown",
   "id": "052b655c",
   "metadata": {},
   "source": [
    "# view만 존재하는 사용자의 사이트 유지율\n",
    "- 코호트 분석을 통하여 view만 존재하는 사용자들을 하루 단위로 분석하여 지속적으로 우리 사이트를 이용하고 있는지 파악합니다."
   ]
  },
  {
   "cell_type": "code",
   "execution_count": 57,
   "id": "fd388ae5",
   "metadata": {
    "ExecuteTime": {
     "end_time": "2022-09-25T14:59:08.296902Z",
     "start_time": "2022-09-25T14:59:08.172901Z"
    }
   },
   "outputs": [],
   "source": [
    "cohort_view_data = only_view_user_df[['user_id','event_time']]"
   ]
  },
  {
   "cell_type": "code",
   "execution_count": 58,
   "id": "3d6a61ad",
   "metadata": {
    "ExecuteTime": {
     "end_time": "2022-09-25T14:59:09.834402Z",
     "start_time": "2022-09-25T14:59:08.854913Z"
    }
   },
   "outputs": [
    {
     "name": "stderr",
     "output_type": "stream",
     "text": [
      "C:\\Users\\User\\anaconda3\\envs\\CP2\\lib\\site-packages\\ipykernel_launcher.py:1: SettingWithCopyWarning: \n",
      "A value is trying to be set on a copy of a slice from a DataFrame.\n",
      "Try using .loc[row_indexer,col_indexer] = value instead\n",
      "\n",
      "See the caveats in the documentation: https://pandas.pydata.org/pandas-docs/stable/user_guide/indexing.html#returning-a-view-versus-a-copy\n",
      "  \"\"\"Entry point for launching an IPython kernel.\n"
     ]
    }
   ],
   "source": [
    "cohort_view_data['event_period'] = cohort_view_data['event_time'].dt.day"
   ]
  },
  {
   "cell_type": "code",
   "execution_count": 59,
   "id": "814ccf1e",
   "metadata": {
    "ExecuteTime": {
     "end_time": "2022-09-25T14:59:11.052478Z",
     "start_time": "2022-09-25T14:59:10.345287Z"
    }
   },
   "outputs": [],
   "source": [
    "cohort_view_data =cohort_view_data.set_index('user_id')"
   ]
  },
  {
   "cell_type": "code",
   "execution_count": 60,
   "id": "58cc0d69",
   "metadata": {
    "ExecuteTime": {
     "end_time": "2022-09-25T14:59:14.940956Z",
     "start_time": "2022-09-25T14:59:11.807677Z"
    }
   },
   "outputs": [],
   "source": [
    "first_event = cohort_view_data.groupby('user_id')['event_time'].min()\n",
    "first_event = first_event.dt.day"
   ]
  },
  {
   "cell_type": "code",
   "execution_count": 61,
   "id": "ab9d88aa",
   "metadata": {
    "ExecuteTime": {
     "end_time": "2022-09-25T14:59:16.925019Z",
     "start_time": "2022-09-25T14:59:15.454701Z"
    }
   },
   "outputs": [],
   "source": [
    "cohort_view_data['first_event'] = first_event\n",
    "cohort_view_data = cohort_view_data.reset_index()"
   ]
  },
  {
   "cell_type": "code",
   "execution_count": 62,
   "id": "202e0f41",
   "metadata": {
    "ExecuteTime": {
     "end_time": "2022-09-25T14:59:17.555871Z",
     "start_time": "2022-09-25T14:59:17.497872Z"
    }
   },
   "outputs": [],
   "source": [
    "grouped = cohort_view_data.groupby(['first_event','event_period'])"
   ]
  },
  {
   "cell_type": "code",
   "execution_count": 63,
   "id": "d6734079",
   "metadata": {
    "ExecuteTime": {
     "end_time": "2022-09-25T14:59:21.950906Z",
     "start_time": "2022-09-25T14:59:18.096870Z"
    },
    "scrolled": true
   },
   "outputs": [],
   "source": [
    "cohorts_view = grouped['user_id'].nunique()\n",
    "cohorts_view = cohorts_view.reset_index()\n",
    "cohorts_view = cohorts_view.rename({'user_id' : 'total_users'}, axis=1)"
   ]
  },
  {
   "cell_type": "code",
   "execution_count": 64,
   "id": "fd4c653c",
   "metadata": {
    "ExecuteTime": {
     "end_time": "2022-09-25T14:59:22.460906Z",
     "start_time": "2022-09-25T14:59:22.446909Z"
    }
   },
   "outputs": [
    {
     "data": {
      "text/html": [
       "<div>\n",
       "<style scoped>\n",
       "    .dataframe tbody tr th:only-of-type {\n",
       "        vertical-align: middle;\n",
       "    }\n",
       "\n",
       "    .dataframe tbody tr th {\n",
       "        vertical-align: top;\n",
       "    }\n",
       "\n",
       "    .dataframe thead th {\n",
       "        text-align: right;\n",
       "    }\n",
       "</style>\n",
       "<table border=\"1\" class=\"dataframe\">\n",
       "  <thead>\n",
       "    <tr style=\"text-align: right;\">\n",
       "      <th></th>\n",
       "      <th>first_event</th>\n",
       "      <th>event_period</th>\n",
       "      <th>total_users</th>\n",
       "    </tr>\n",
       "  </thead>\n",
       "  <tbody>\n",
       "    <tr>\n",
       "      <th>0</th>\n",
       "      <td>1</td>\n",
       "      <td>1</td>\n",
       "      <td>136525</td>\n",
       "    </tr>\n",
       "    <tr>\n",
       "      <th>1</th>\n",
       "      <td>1</td>\n",
       "      <td>2</td>\n",
       "      <td>17575</td>\n",
       "    </tr>\n",
       "    <tr>\n",
       "      <th>2</th>\n",
       "      <td>1</td>\n",
       "      <td>3</td>\n",
       "      <td>12860</td>\n",
       "    </tr>\n",
       "    <tr>\n",
       "      <th>3</th>\n",
       "      <td>1</td>\n",
       "      <td>4</td>\n",
       "      <td>13238</td>\n",
       "    </tr>\n",
       "    <tr>\n",
       "      <th>4</th>\n",
       "      <td>1</td>\n",
       "      <td>5</td>\n",
       "      <td>11070</td>\n",
       "    </tr>\n",
       "  </tbody>\n",
       "</table>\n",
       "</div>"
      ],
      "text/plain": [
       "   first_event  event_period  total_users\n",
       "0            1             1       136525\n",
       "1            1             2        17575\n",
       "2            1             3        12860\n",
       "3            1             4        13238\n",
       "4            1             5        11070"
      ]
     },
     "execution_count": 64,
     "metadata": {},
     "output_type": "execute_result"
    }
   ],
   "source": [
    "cohorts_view.head()"
   ]
  },
  {
   "cell_type": "code",
   "execution_count": 65,
   "id": "de5817f8",
   "metadata": {
    "ExecuteTime": {
     "end_time": "2022-09-25T14:59:22.970927Z",
     "start_time": "2022-09-25T14:59:22.957909Z"
    }
   },
   "outputs": [],
   "source": [
    "each_period = cohorts_view['first_event'].value_counts().sort_index()"
   ]
  },
  {
   "cell_type": "code",
   "execution_count": 66,
   "id": "bb87a83b",
   "metadata": {
    "ExecuteTime": {
     "end_time": "2022-09-25T14:59:23.481903Z",
     "start_time": "2022-09-25T14:59:23.468904Z"
    }
   },
   "outputs": [],
   "source": [
    "cohort_period = []\n",
    "for x in each_period:\n",
    "    for y in range(x):\n",
    "        cohort_period.append(y)"
   ]
  },
  {
   "cell_type": "code",
   "execution_count": 67,
   "id": "00a52165",
   "metadata": {
    "ExecuteTime": {
     "end_time": "2022-09-25T14:59:23.991714Z",
     "start_time": "2022-09-25T14:59:23.978714Z"
    }
   },
   "outputs": [],
   "source": [
    "cohorts_view['cohort_period'] = cohort_period"
   ]
  },
  {
   "cell_type": "code",
   "execution_count": 68,
   "id": "d39057c5",
   "metadata": {
    "ExecuteTime": {
     "end_time": "2022-09-25T14:59:24.561632Z",
     "start_time": "2022-09-25T14:59:24.534632Z"
    }
   },
   "outputs": [
    {
     "data": {
      "text/html": [
       "<div>\n",
       "<style scoped>\n",
       "    .dataframe tbody tr th:only-of-type {\n",
       "        vertical-align: middle;\n",
       "    }\n",
       "\n",
       "    .dataframe tbody tr th {\n",
       "        vertical-align: top;\n",
       "    }\n",
       "\n",
       "    .dataframe thead th {\n",
       "        text-align: right;\n",
       "    }\n",
       "</style>\n",
       "<table border=\"1\" class=\"dataframe\">\n",
       "  <thead>\n",
       "    <tr style=\"text-align: right;\">\n",
       "      <th></th>\n",
       "      <th></th>\n",
       "      <th>event_period</th>\n",
       "      <th>total_users</th>\n",
       "    </tr>\n",
       "    <tr>\n",
       "      <th>first_event</th>\n",
       "      <th>cohort_period</th>\n",
       "      <th></th>\n",
       "      <th></th>\n",
       "    </tr>\n",
       "  </thead>\n",
       "  <tbody>\n",
       "    <tr>\n",
       "      <th rowspan=\"5\" valign=\"top\">1</th>\n",
       "      <th>0</th>\n",
       "      <td>1</td>\n",
       "      <td>136525</td>\n",
       "    </tr>\n",
       "    <tr>\n",
       "      <th>1</th>\n",
       "      <td>2</td>\n",
       "      <td>17575</td>\n",
       "    </tr>\n",
       "    <tr>\n",
       "      <th>2</th>\n",
       "      <td>3</td>\n",
       "      <td>12860</td>\n",
       "    </tr>\n",
       "    <tr>\n",
       "      <th>3</th>\n",
       "      <td>4</td>\n",
       "      <td>13238</td>\n",
       "    </tr>\n",
       "    <tr>\n",
       "      <th>4</th>\n",
       "      <td>5</td>\n",
       "      <td>11070</td>\n",
       "    </tr>\n",
       "  </tbody>\n",
       "</table>\n",
       "</div>"
      ],
      "text/plain": [
       "                           event_period  total_users\n",
       "first_event cohort_period                           \n",
       "1           0                         1       136525\n",
       "            1                         2        17575\n",
       "            2                         3        12860\n",
       "            3                         4        13238\n",
       "            4                         5        11070"
      ]
     },
     "execution_count": 68,
     "metadata": {},
     "output_type": "execute_result"
    }
   ],
   "source": [
    "cohorts_view = cohorts_view.set_index(['first_event','cohort_period'])\n",
    "cohorts_view.head()"
   ]
  },
  {
   "cell_type": "code",
   "execution_count": 69,
   "id": "fab91091",
   "metadata": {
    "ExecuteTime": {
     "end_time": "2022-09-25T14:59:25.117124Z",
     "start_time": "2022-09-25T14:59:25.089124Z"
    }
   },
   "outputs": [],
   "source": [
    "cohorts_view = cohorts_view['total_users'].unstack(1)"
   ]
  },
  {
   "cell_type": "code",
   "execution_count": 70,
   "id": "d0a6f8b8",
   "metadata": {
    "ExecuteTime": {
     "end_time": "2022-09-25T14:59:25.688157Z",
     "start_time": "2022-09-25T14:59:25.660156Z"
    }
   },
   "outputs": [
    {
     "data": {
      "text/html": [
       "<div>\n",
       "<style scoped>\n",
       "    .dataframe tbody tr th:only-of-type {\n",
       "        vertical-align: middle;\n",
       "    }\n",
       "\n",
       "    .dataframe tbody tr th {\n",
       "        vertical-align: top;\n",
       "    }\n",
       "\n",
       "    .dataframe thead th {\n",
       "        text-align: right;\n",
       "    }\n",
       "</style>\n",
       "<table border=\"1\" class=\"dataframe\">\n",
       "  <thead>\n",
       "    <tr style=\"text-align: right;\">\n",
       "      <th>cohort_period</th>\n",
       "      <th>0</th>\n",
       "      <th>1</th>\n",
       "      <th>2</th>\n",
       "      <th>3</th>\n",
       "      <th>4</th>\n",
       "      <th>5</th>\n",
       "      <th>6</th>\n",
       "      <th>7</th>\n",
       "      <th>8</th>\n",
       "      <th>9</th>\n",
       "      <th>...</th>\n",
       "      <th>21</th>\n",
       "      <th>22</th>\n",
       "      <th>23</th>\n",
       "      <th>24</th>\n",
       "      <th>25</th>\n",
       "      <th>26</th>\n",
       "      <th>27</th>\n",
       "      <th>28</th>\n",
       "      <th>29</th>\n",
       "      <th>30</th>\n",
       "    </tr>\n",
       "    <tr>\n",
       "      <th>first_event</th>\n",
       "      <th></th>\n",
       "      <th></th>\n",
       "      <th></th>\n",
       "      <th></th>\n",
       "      <th></th>\n",
       "      <th></th>\n",
       "      <th></th>\n",
       "      <th></th>\n",
       "      <th></th>\n",
       "      <th></th>\n",
       "      <th></th>\n",
       "      <th></th>\n",
       "      <th></th>\n",
       "      <th></th>\n",
       "      <th></th>\n",
       "      <th></th>\n",
       "      <th></th>\n",
       "      <th></th>\n",
       "      <th></th>\n",
       "      <th></th>\n",
       "      <th></th>\n",
       "    </tr>\n",
       "  </thead>\n",
       "  <tbody>\n",
       "    <tr>\n",
       "      <th>1</th>\n",
       "      <td>1.0</td>\n",
       "      <td>0.128731</td>\n",
       "      <td>0.094195</td>\n",
       "      <td>0.096964</td>\n",
       "      <td>0.081084</td>\n",
       "      <td>0.078337</td>\n",
       "      <td>0.075715</td>\n",
       "      <td>0.080872</td>\n",
       "      <td>0.077561</td>\n",
       "      <td>0.072749</td>\n",
       "      <td>...</td>\n",
       "      <td>0.058758</td>\n",
       "      <td>0.058290</td>\n",
       "      <td>0.054664</td>\n",
       "      <td>0.062333</td>\n",
       "      <td>0.054759</td>\n",
       "      <td>0.054166</td>\n",
       "      <td>0.055235</td>\n",
       "      <td>0.053162</td>\n",
       "      <td>0.051998</td>\n",
       "      <td>0.05473</td>\n",
       "    </tr>\n",
       "    <tr>\n",
       "      <th>2</th>\n",
       "      <td>1.0</td>\n",
       "      <td>0.102125</td>\n",
       "      <td>0.089899</td>\n",
       "      <td>0.074242</td>\n",
       "      <td>0.069657</td>\n",
       "      <td>0.066397</td>\n",
       "      <td>0.070820</td>\n",
       "      <td>0.069105</td>\n",
       "      <td>0.063799</td>\n",
       "      <td>0.071899</td>\n",
       "      <td>...</td>\n",
       "      <td>0.051750</td>\n",
       "      <td>0.047114</td>\n",
       "      <td>0.051725</td>\n",
       "      <td>0.046647</td>\n",
       "      <td>0.047242</td>\n",
       "      <td>0.048677</td>\n",
       "      <td>0.046503</td>\n",
       "      <td>0.046783</td>\n",
       "      <td>0.049398</td>\n",
       "      <td>NaN</td>\n",
       "    </tr>\n",
       "    <tr>\n",
       "      <th>3</th>\n",
       "      <td>1.0</td>\n",
       "      <td>0.109910</td>\n",
       "      <td>0.076516</td>\n",
       "      <td>0.068805</td>\n",
       "      <td>0.065715</td>\n",
       "      <td>0.070731</td>\n",
       "      <td>0.067848</td>\n",
       "      <td>0.061813</td>\n",
       "      <td>0.067827</td>\n",
       "      <td>0.059190</td>\n",
       "      <td>...</td>\n",
       "      <td>0.046141</td>\n",
       "      <td>0.052749</td>\n",
       "      <td>0.045475</td>\n",
       "      <td>0.045735</td>\n",
       "      <td>0.046515</td>\n",
       "      <td>0.045100</td>\n",
       "      <td>0.043519</td>\n",
       "      <td>0.046214</td>\n",
       "      <td>NaN</td>\n",
       "      <td>NaN</td>\n",
       "    </tr>\n",
       "    <tr>\n",
       "      <th>4</th>\n",
       "      <td>1.0</td>\n",
       "      <td>0.092225</td>\n",
       "      <td>0.068893</td>\n",
       "      <td>0.060721</td>\n",
       "      <td>0.066108</td>\n",
       "      <td>0.060656</td>\n",
       "      <td>0.057080</td>\n",
       "      <td>0.066944</td>\n",
       "      <td>0.056483</td>\n",
       "      <td>0.060573</td>\n",
       "      <td>...</td>\n",
       "      <td>0.050075</td>\n",
       "      <td>0.042003</td>\n",
       "      <td>0.042077</td>\n",
       "      <td>0.041084</td>\n",
       "      <td>0.039402</td>\n",
       "      <td>0.039521</td>\n",
       "      <td>0.043180</td>\n",
       "      <td>NaN</td>\n",
       "      <td>NaN</td>\n",
       "      <td>NaN</td>\n",
       "    </tr>\n",
       "    <tr>\n",
       "      <th>5</th>\n",
       "      <td>1.0</td>\n",
       "      <td>0.091373</td>\n",
       "      <td>0.061471</td>\n",
       "      <td>0.060360</td>\n",
       "      <td>0.056004</td>\n",
       "      <td>0.052518</td>\n",
       "      <td>0.059824</td>\n",
       "      <td>0.053872</td>\n",
       "      <td>0.057166</td>\n",
       "      <td>0.048001</td>\n",
       "      <td>...</td>\n",
       "      <td>0.041412</td>\n",
       "      <td>0.040705</td>\n",
       "      <td>0.037501</td>\n",
       "      <td>0.037218</td>\n",
       "      <td>0.035157</td>\n",
       "      <td>0.037814</td>\n",
       "      <td>NaN</td>\n",
       "      <td>NaN</td>\n",
       "      <td>NaN</td>\n",
       "      <td>NaN</td>\n",
       "    </tr>\n",
       "  </tbody>\n",
       "</table>\n",
       "<p>5 rows × 31 columns</p>\n",
       "</div>"
      ],
      "text/plain": [
       "cohort_period   0         1         2         3         4         5   \\\n",
       "first_event                                                            \n",
       "1              1.0  0.128731  0.094195  0.096964  0.081084  0.078337   \n",
       "2              1.0  0.102125  0.089899  0.074242  0.069657  0.066397   \n",
       "3              1.0  0.109910  0.076516  0.068805  0.065715  0.070731   \n",
       "4              1.0  0.092225  0.068893  0.060721  0.066108  0.060656   \n",
       "5              1.0  0.091373  0.061471  0.060360  0.056004  0.052518   \n",
       "\n",
       "cohort_period        6         7         8         9   ...        21  \\\n",
       "first_event                                            ...             \n",
       "1              0.075715  0.080872  0.077561  0.072749  ...  0.058758   \n",
       "2              0.070820  0.069105  0.063799  0.071899  ...  0.051750   \n",
       "3              0.067848  0.061813  0.067827  0.059190  ...  0.046141   \n",
       "4              0.057080  0.066944  0.056483  0.060573  ...  0.050075   \n",
       "5              0.059824  0.053872  0.057166  0.048001  ...  0.041412   \n",
       "\n",
       "cohort_period        22        23        24        25        26        27  \\\n",
       "first_event                                                                 \n",
       "1              0.058290  0.054664  0.062333  0.054759  0.054166  0.055235   \n",
       "2              0.047114  0.051725  0.046647  0.047242  0.048677  0.046503   \n",
       "3              0.052749  0.045475  0.045735  0.046515  0.045100  0.043519   \n",
       "4              0.042003  0.042077  0.041084  0.039402  0.039521  0.043180   \n",
       "5              0.040705  0.037501  0.037218  0.035157  0.037814       NaN   \n",
       "\n",
       "cohort_period        28        29       30  \n",
       "first_event                                 \n",
       "1              0.053162  0.051998  0.05473  \n",
       "2              0.046783  0.049398      NaN  \n",
       "3              0.046214       NaN      NaN  \n",
       "4                   NaN       NaN      NaN  \n",
       "5                   NaN       NaN      NaN  \n",
       "\n",
       "[5 rows x 31 columns]"
      ]
     },
     "execution_count": 70,
     "metadata": {},
     "output_type": "execute_result"
    }
   ],
   "source": [
    "user_retention = cohorts_view.divide(cohorts_view[0], axis=0)\n",
    "user_retention.head()"
   ]
  },
  {
   "cell_type": "code",
   "execution_count": 71,
   "id": "f7c00f22",
   "metadata": {
    "ExecuteTime": {
     "end_time": "2022-09-25T14:59:27.773155Z",
     "start_time": "2022-09-25T14:59:26.199157Z"
    }
   },
   "outputs": [
    {
     "data": {
      "image/png": "[encoded data removed]",
      "text/plain": [
       "<Figure size 2500x1000 with 2 Axes>"
      ]
     },
     "metadata": {},
     "output_type": "display_data"
    }
   ],
   "source": [
    "plt.figure(figsize=(25, 10))\n",
    "plt.title('Cohort Analysis')\n",
    "sns.heatmap(user_retention, annot=True, fmt='.0%')\n",
    "plt.show()"
   ]
  },
  {
   "cell_type": "markdown",
   "id": "0d3cba7e",
   "metadata": {},
   "source": [
    "위의 과정을 함수로 만들기"
   ]
  },
  {
   "cell_type": "code",
   "execution_count": 72,
   "id": "3e4f47c4",
   "metadata": {
    "ExecuteTime": {
     "end_time": "2022-09-25T14:59:28.298155Z",
     "start_time": "2022-09-25T14:59:28.284156Z"
    }
   },
   "outputs": [],
   "source": [
    "def cohort_analysis(df):\n",
    "    df['event_period'] = df['event_time'].dt.day\n",
    "    df =df.set_index('user_id')\n",
    "    \n",
    "    first_event = df.groupby('user_id')['event_time'].min().dt.day\n",
    "    df['first_event'] = first_event\n",
    "    df = df.reset_index()\n",
    "    \n",
    "    grouped = df.groupby(['first_event','event_period'])\n",
    "    \n",
    "    cohorts = grouped['user_id'].nunique()\n",
    "    cohorts = cohorts.reset_index().rename({'user_id' : 'total_users'}, axis=1)\n",
    "    \n",
    "    each_period = cohorts['first_event'].value_counts().sort_index()\n",
    "    cohort_period = []\n",
    "    for x in each_period:\n",
    "        for y in range(x):\n",
    "            cohort_period.append(y)\n",
    "    cohorts['cohort_period'] = cohort_period\n",
    "    cohorts = cohorts.set_index(['first_event','cohort_period'])\n",
    "    cohorts = cohorts['total_users'].unstack(1)\n",
    "    \n",
    "    user_retention = cohorts.divide(cohorts[0], axis=0)\n",
    "    return user_retention"
   ]
  },
  {
   "cell_type": "code",
   "execution_count": 73,
   "id": "73ed861e",
   "metadata": {
    "ExecuteTime": {
     "end_time": "2022-09-25T14:59:28.823177Z",
     "start_time": "2022-09-25T14:59:28.810156Z"
    }
   },
   "outputs": [],
   "source": [
    "def plot_cohort_heatmap(user_retention):\n",
    "    plt.figure(figsize=(25, 10))\n",
    "    plt.title('Cohort Analysis')\n",
    "    sns.heatmap(user_retention, annot=True, fmt='.0%')\n",
    "    plt.show()"
   ]
  },
  {
   "cell_type": "markdown",
   "id": "02e57bae",
   "metadata": {},
   "source": [
    "# cart 혹은 purchase가 반드시 존재하는 사용자의 사이트 유지율\n",
    "- 우리사이트에서 제품을 장바구니에 담았거나 구매를 한 경험이 있는 사용자\n",
    "- 코호트 분석을 통하여 cart 혹은 purchase만 존재하는 사용자들을 하루 단위로 분석하여 지속적으로 우리 사이트를 이용하고 있는지 파악합니다."
   ]
  },
  {
   "cell_type": "code",
   "execution_count": 74,
   "id": "44146aeb",
   "metadata": {
    "ExecuteTime": {
     "end_time": "2022-09-25T14:59:34.111660Z",
     "start_time": "2022-09-25T14:59:29.334185Z"
    }
   },
   "outputs": [
    {
     "name": "stderr",
     "output_type": "stream",
     "text": [
      "C:\\Users\\User\\anaconda3\\envs\\CP2\\lib\\site-packages\\ipykernel_launcher.py:2: SettingWithCopyWarning: \n",
      "A value is trying to be set on a copy of a slice from a DataFrame.\n",
      "Try using .loc[row_indexer,col_indexer] = value instead\n",
      "\n",
      "See the caveats in the documentation: https://pandas.pydata.org/pandas-docs/stable/user_guide/indexing.html#returning-a-view-versus-a-copy\n",
      "  \n"
     ]
    }
   ],
   "source": [
    "user_retention = cohort_analysis(cart_or_purchase_user_df[['user_id','event_time']])"
   ]
  },
  {
   "cell_type": "code",
   "execution_count": 75,
   "id": "88329465",
   "metadata": {
    "ExecuteTime": {
     "end_time": "2022-09-25T14:59:36.381915Z",
     "start_time": "2022-09-25T14:59:34.640111Z"
    }
   },
   "outputs": [
    {
     "data": {
      "image/png": "[encoded data removed]",
      "text/plain": [
       "<Figure size 2500x1000 with 2 Axes>"
      ]
     },
     "metadata": {},
     "output_type": "display_data"
    }
   ],
   "source": [
    "plot_cohort_heatmap(user_retention)"
   ]
  },
  {
   "cell_type": "markdown",
   "id": "1ea8dfb9",
   "metadata": {},
   "source": [
    "# cart 혹은 purchase가 반드시 존재하는 사용자들이 가장 많이 본(view) 것은?"
   ]
  },
  {
   "cell_type": "markdown",
   "id": "6aaf5450",
   "metadata": {},
   "source": [
    "## 제품(product_id)"
   ]
  },
  {
   "cell_type": "code",
   "execution_count": 76,
   "id": "3253381a",
   "metadata": {
    "ExecuteTime": {
     "end_time": "2022-09-25T14:59:36.907616Z",
     "start_time": "2022-09-25T14:59:36.893580Z"
    }
   },
   "outputs": [],
   "source": [
    "def top10_product(df, column):\n",
    "    view = df.loc[df['event_type'] == 'view']\n",
    "    top10 = view[column].value_counts()[:10]\n",
    "    data = []\n",
    "    for index, count in top10.to_dict().items():\n",
    "        category = view.loc[view[column] == index, 'category_code'].unique()[0]\n",
    "        brand = view.loc[view[column] == index, 'brand'].unique()[0]\n",
    "        data.append([index, category, brand, count])\n",
    "    return pd.DataFrame(data, columns=[column, 'category_code','brand','count'])\n",
    "    "
   ]
  },
  {
   "cell_type": "code",
   "execution_count": 77,
   "id": "718071fe",
   "metadata": {
    "ExecuteTime": {
     "end_time": "2022-09-25T14:59:38.867205Z",
     "start_time": "2022-09-25T14:59:37.465430Z"
    },
    "scrolled": true
   },
   "outputs": [
    {
     "data": {
      "text/html": [
       "<div>\n",
       "<style scoped>\n",
       "    .dataframe tbody tr th:only-of-type {\n",
       "        vertical-align: middle;\n",
       "    }\n",
       "\n",
       "    .dataframe tbody tr th {\n",
       "        vertical-align: top;\n",
       "    }\n",
       "\n",
       "    .dataframe thead th {\n",
       "        text-align: right;\n",
       "    }\n",
       "</style>\n",
       "<table border=\"1\" class=\"dataframe\">\n",
       "  <thead>\n",
       "    <tr style=\"text-align: right;\">\n",
       "      <th></th>\n",
       "      <th>product_id</th>\n",
       "      <th>category_code</th>\n",
       "      <th>brand</th>\n",
       "      <th>count</th>\n",
       "    </tr>\n",
       "  </thead>\n",
       "  <tbody>\n",
       "    <tr>\n",
       "      <th>0</th>\n",
       "      <td>1004856</td>\n",
       "      <td>electronics.smartphone</td>\n",
       "      <td>samsung</td>\n",
       "      <td>203335</td>\n",
       "    </tr>\n",
       "    <tr>\n",
       "      <th>1</th>\n",
       "      <td>1004767</td>\n",
       "      <td>electronics.smartphone</td>\n",
       "      <td>samsung</td>\n",
       "      <td>175773</td>\n",
       "    </tr>\n",
       "    <tr>\n",
       "      <th>2</th>\n",
       "      <td>1005115</td>\n",
       "      <td>electronics.smartphone</td>\n",
       "      <td>apple</td>\n",
       "      <td>140542</td>\n",
       "    </tr>\n",
       "    <tr>\n",
       "      <th>3</th>\n",
       "      <td>1004833</td>\n",
       "      <td>electronics.smartphone</td>\n",
       "      <td>samsung</td>\n",
       "      <td>101548</td>\n",
       "    </tr>\n",
       "    <tr>\n",
       "      <th>4</th>\n",
       "      <td>4804056</td>\n",
       "      <td>electronics.audio.headphone</td>\n",
       "      <td>apple</td>\n",
       "      <td>97661</td>\n",
       "    </tr>\n",
       "    <tr>\n",
       "      <th>5</th>\n",
       "      <td>1004249</td>\n",
       "      <td>electronics.smartphone</td>\n",
       "      <td>apple</td>\n",
       "      <td>97585</td>\n",
       "    </tr>\n",
       "    <tr>\n",
       "      <th>6</th>\n",
       "      <td>1004870</td>\n",
       "      <td>electronics.smartphone</td>\n",
       "      <td>samsung</td>\n",
       "      <td>95603</td>\n",
       "    </tr>\n",
       "    <tr>\n",
       "      <th>7</th>\n",
       "      <td>5100816</td>\n",
       "      <td>NaN</td>\n",
       "      <td>xiaomi</td>\n",
       "      <td>84593</td>\n",
       "    </tr>\n",
       "    <tr>\n",
       "      <th>8</th>\n",
       "      <td>1002544</td>\n",
       "      <td>electronics.smartphone</td>\n",
       "      <td>apple</td>\n",
       "      <td>82976</td>\n",
       "    </tr>\n",
       "    <tr>\n",
       "      <th>9</th>\n",
       "      <td>1005105</td>\n",
       "      <td>electronics.smartphone</td>\n",
       "      <td>apple</td>\n",
       "      <td>78789</td>\n",
       "    </tr>\n",
       "  </tbody>\n",
       "</table>\n",
       "</div>"
      ],
      "text/plain": [
       "   product_id                category_code    brand   count\n",
       "0     1004856       electronics.smartphone  samsung  203335\n",
       "1     1004767       electronics.smartphone  samsung  175773\n",
       "2     1005115       electronics.smartphone    apple  140542\n",
       "3     1004833       electronics.smartphone  samsung  101548\n",
       "4     4804056  electronics.audio.headphone    apple   97661\n",
       "5     1004249       electronics.smartphone    apple   97585\n",
       "6     1004870       electronics.smartphone  samsung   95603\n",
       "7     5100816                          NaN   xiaomi   84593\n",
       "8     1002544       electronics.smartphone    apple   82976\n",
       "9     1005105       electronics.smartphone    apple   78789"
      ]
     },
     "metadata": {},
     "output_type": "display_data"
    }
   ],
   "source": [
    "display(top10_product(cart_or_purchase_user_df, 'product_id'))"
   ]
  },
  {
   "cell_type": "markdown",
   "id": "d7a660f9",
   "metadata": {},
   "source": [
    "## 카테고리(category_id)"
   ]
  },
  {
   "cell_type": "code",
   "execution_count": 78,
   "id": "67e349f5",
   "metadata": {
    "ExecuteTime": {
     "end_time": "2022-09-25T14:59:39.424795Z",
     "start_time": "2022-09-25T14:59:39.411833Z"
    }
   },
   "outputs": [],
   "source": [
    "def top10_category(df, column):\n",
    "    view = df.loc[df['event_type'] == 'view']\n",
    "    top10 = view[column].value_counts()[:10]\n",
    "    data = []\n",
    "    for index, count in top10.to_dict().items():\n",
    "        category_id = view.loc[view[column] == index, 'category_id'].unique()[0]\n",
    "        category_code = view.loc[view[column] == index, 'category_code'].unique()[0]\n",
    "        data.append([category_id,category_code, count])\n",
    "    return pd.DataFrame(data, columns=[column,'category_code','count'])\n",
    "    "
   ]
  },
  {
   "cell_type": "code",
   "execution_count": 79,
   "id": "e42b80de",
   "metadata": {
    "ExecuteTime": {
     "end_time": "2022-09-25T14:59:41.682824Z",
     "start_time": "2022-09-25T14:59:39.982846Z"
    }
   },
   "outputs": [
    {
     "data": {
      "text/html": [
       "<div>\n",
       "<style scoped>\n",
       "    .dataframe tbody tr th:only-of-type {\n",
       "        vertical-align: middle;\n",
       "    }\n",
       "\n",
       "    .dataframe tbody tr th {\n",
       "        vertical-align: top;\n",
       "    }\n",
       "\n",
       "    .dataframe thead th {\n",
       "        text-align: right;\n",
       "    }\n",
       "</style>\n",
       "<table border=\"1\" class=\"dataframe\">\n",
       "  <thead>\n",
       "    <tr style=\"text-align: right;\">\n",
       "      <th></th>\n",
       "      <th>category_id</th>\n",
       "      <th>category_code</th>\n",
       "      <th>count</th>\n",
       "    </tr>\n",
       "  </thead>\n",
       "  <tbody>\n",
       "    <tr>\n",
       "      <th>0</th>\n",
       "      <td>-1769995873</td>\n",
       "      <td>electronics.smartphone</td>\n",
       "      <td>4750406</td>\n",
       "    </tr>\n",
       "    <tr>\n",
       "      <th>1</th>\n",
       "      <td>452985123</td>\n",
       "      <td>NaN</td>\n",
       "      <td>815789</td>\n",
       "    </tr>\n",
       "    <tr>\n",
       "      <th>2</th>\n",
       "      <td>1551892843</td>\n",
       "      <td>electronics.audio.headphone</td>\n",
       "      <td>482560</td>\n",
       "    </tr>\n",
       "    <tr>\n",
       "      <th>3</th>\n",
       "      <td>1308623195</td>\n",
       "      <td>electronics.video.tv</td>\n",
       "      <td>475907</td>\n",
       "    </tr>\n",
       "    <tr>\n",
       "      <th>4</th>\n",
       "      <td>1518338663</td>\n",
       "      <td>computers.notebook</td>\n",
       "      <td>447895</td>\n",
       "    </tr>\n",
       "    <tr>\n",
       "      <th>5</th>\n",
       "      <td>2113930099</td>\n",
       "      <td>appliances.kitchen.washer</td>\n",
       "      <td>362613</td>\n",
       "    </tr>\n",
       "    <tr>\n",
       "      <th>6</th>\n",
       "      <td>-8387603</td>\n",
       "      <td>appliances.environment.vacuum</td>\n",
       "      <td>328000</td>\n",
       "    </tr>\n",
       "    <tr>\n",
       "      <th>7</th>\n",
       "      <td>234881301</td>\n",
       "      <td>electronics.clocks</td>\n",
       "      <td>289362</td>\n",
       "    </tr>\n",
       "    <tr>\n",
       "      <th>8</th>\n",
       "      <td>1954546537</td>\n",
       "      <td>NaN</td>\n",
       "      <td>283367</td>\n",
       "    </tr>\n",
       "    <tr>\n",
       "      <th>9</th>\n",
       "      <td>-2080373895</td>\n",
       "      <td>appliances.kitchen.refrigerators</td>\n",
       "      <td>226580</td>\n",
       "    </tr>\n",
       "  </tbody>\n",
       "</table>\n",
       "</div>"
      ],
      "text/plain": [
       "   category_id                     category_code    count\n",
       "0  -1769995873            electronics.smartphone  4750406\n",
       "1    452985123                               NaN   815789\n",
       "2   1551892843       electronics.audio.headphone   482560\n",
       "3   1308623195              electronics.video.tv   475907\n",
       "4   1518338663                computers.notebook   447895\n",
       "5   2113930099         appliances.kitchen.washer   362613\n",
       "6     -8387603     appliances.environment.vacuum   328000\n",
       "7    234881301                electronics.clocks   289362\n",
       "8   1954546537                               NaN   283367\n",
       "9  -2080373895  appliances.kitchen.refrigerators   226580"
      ]
     },
     "metadata": {},
     "output_type": "display_data"
    }
   ],
   "source": [
    "display(top10_category(cart_or_purchase_user_df, 'category_id'))"
   ]
  },
  {
   "cell_type": "markdown",
   "id": "f53e5fb9",
   "metadata": {},
   "source": [
    "## 브랜드(brand)"
   ]
  },
  {
   "cell_type": "code",
   "execution_count": 80,
   "id": "97fe3568",
   "metadata": {
    "ExecuteTime": {
     "end_time": "2022-09-25T14:59:42.207608Z",
     "start_time": "2022-09-25T14:59:42.193793Z"
    }
   },
   "outputs": [],
   "source": [
    "def top10_brand(df, column):\n",
    "    view = df.loc[df['event_type'] == 'view']\n",
    "    top10 = view[column].value_counts()[:10]\n",
    "    data = []\n",
    "    for index, count in top10.to_dict().items():\n",
    "        brand = view.loc[view[column] == index, 'brand'].unique()[0]\n",
    "        data.append([brand, count])\n",
    "    return pd.DataFrame(data, columns=[column,'count'])\n",
    "    "
   ]
  },
  {
   "cell_type": "code",
   "execution_count": 81,
   "id": "c97ffdd4",
   "metadata": {
    "ExecuteTime": {
     "end_time": "2022-09-25T14:59:43.977533Z",
     "start_time": "2022-09-25T14:59:42.718611Z"
    }
   },
   "outputs": [
    {
     "data": {
      "text/html": [
       "<div>\n",
       "<style scoped>\n",
       "    .dataframe tbody tr th:only-of-type {\n",
       "        vertical-align: middle;\n",
       "    }\n",
       "\n",
       "    .dataframe tbody tr th {\n",
       "        vertical-align: top;\n",
       "    }\n",
       "\n",
       "    .dataframe thead th {\n",
       "        text-align: right;\n",
       "    }\n",
       "</style>\n",
       "<table border=\"1\" class=\"dataframe\">\n",
       "  <thead>\n",
       "    <tr style=\"text-align: right;\">\n",
       "      <th></th>\n",
       "      <th>brand</th>\n",
       "      <th>count</th>\n",
       "    </tr>\n",
       "  </thead>\n",
       "  <tbody>\n",
       "    <tr>\n",
       "      <th>0</th>\n",
       "      <td>samsung</td>\n",
       "      <td>2155591</td>\n",
       "    </tr>\n",
       "    <tr>\n",
       "      <th>1</th>\n",
       "      <td>apple</td>\n",
       "      <td>1691312</td>\n",
       "    </tr>\n",
       "    <tr>\n",
       "      <th>2</th>\n",
       "      <td>xiaomi</td>\n",
       "      <td>1334202</td>\n",
       "    </tr>\n",
       "    <tr>\n",
       "      <th>3</th>\n",
       "      <td>huawei</td>\n",
       "      <td>455473</td>\n",
       "    </tr>\n",
       "    <tr>\n",
       "      <th>4</th>\n",
       "      <td>lucente</td>\n",
       "      <td>234513</td>\n",
       "    </tr>\n",
       "    <tr>\n",
       "      <th>5</th>\n",
       "      <td>lg</td>\n",
       "      <td>231226</td>\n",
       "    </tr>\n",
       "    <tr>\n",
       "      <th>6</th>\n",
       "      <td>bosch</td>\n",
       "      <td>218232</td>\n",
       "    </tr>\n",
       "    <tr>\n",
       "      <th>7</th>\n",
       "      <td>oppo</td>\n",
       "      <td>194744</td>\n",
       "    </tr>\n",
       "    <tr>\n",
       "      <th>8</th>\n",
       "      <td>sony</td>\n",
       "      <td>185568</td>\n",
       "    </tr>\n",
       "    <tr>\n",
       "      <th>9</th>\n",
       "      <td>acer</td>\n",
       "      <td>172585</td>\n",
       "    </tr>\n",
       "  </tbody>\n",
       "</table>\n",
       "</div>"
      ],
      "text/plain": [
       "     brand    count\n",
       "0  samsung  2155591\n",
       "1    apple  1691312\n",
       "2   xiaomi  1334202\n",
       "3   huawei   455473\n",
       "4  lucente   234513\n",
       "5       lg   231226\n",
       "6    bosch   218232\n",
       "7     oppo   194744\n",
       "8     sony   185568\n",
       "9     acer   172585"
      ]
     },
     "execution_count": 81,
     "metadata": {},
     "output_type": "execute_result"
    }
   ],
   "source": [
    "top10_brand(cart_or_purchase_user_df, 'brand')"
   ]
  },
  {
   "cell_type": "markdown",
   "id": "7bf97973",
   "metadata": {},
   "source": [
    "# cart 혹은 purchase가 반드시 존재하는 사용자들이 가장 많이 cart에 담은 것은?"
   ]
  },
  {
   "cell_type": "markdown",
   "id": "38c7cc53",
   "metadata": {},
   "source": [
    "## 제품(product_id)"
   ]
  },
  {
   "cell_type": "code",
   "execution_count": 82,
   "id": "5d8f7fcb",
   "metadata": {
    "ExecuteTime": {
     "end_time": "2022-09-25T14:59:44.502533Z",
     "start_time": "2022-09-25T14:59:44.489534Z"
    }
   },
   "outputs": [],
   "source": [
    "def top10_product(df, column):\n",
    "    cart = df.loc[df['event_type'] == 'cart']\n",
    "    top10 = cart[column].value_counts()[:10]\n",
    "    data = []\n",
    "    for index, count in top10.to_dict().items():\n",
    "        category = cart.loc[cart[column] == index, 'category_code'].unique()[0]\n",
    "        brand = cart.loc[cart[column] == index, 'brand'].unique()[0]\n",
    "        data.append([index, category, brand, count])\n",
    "    return pd.DataFrame(data, columns=[column, 'category_code','brand','count'])\n",
    "    "
   ]
  },
  {
   "cell_type": "code",
   "execution_count": 83,
   "id": "2f942a13",
   "metadata": {
    "ExecuteTime": {
     "end_time": "2022-09-25T14:59:45.222533Z",
     "start_time": "2022-09-25T14:59:45.029534Z"
    },
    "scrolled": true
   },
   "outputs": [
    {
     "data": {
      "text/html": [
       "<div>\n",
       "<style scoped>\n",
       "    .dataframe tbody tr th:only-of-type {\n",
       "        vertical-align: middle;\n",
       "    }\n",
       "\n",
       "    .dataframe tbody tr th {\n",
       "        vertical-align: top;\n",
       "    }\n",
       "\n",
       "    .dataframe thead th {\n",
       "        text-align: right;\n",
       "    }\n",
       "</style>\n",
       "<table border=\"1\" class=\"dataframe\">\n",
       "  <thead>\n",
       "    <tr style=\"text-align: right;\">\n",
       "      <th></th>\n",
       "      <th>product_id</th>\n",
       "      <th>category_code</th>\n",
       "      <th>brand</th>\n",
       "      <th>count</th>\n",
       "    </tr>\n",
       "  </thead>\n",
       "  <tbody>\n",
       "    <tr>\n",
       "      <th>0</th>\n",
       "      <td>1004856</td>\n",
       "      <td>electronics.smartphone</td>\n",
       "      <td>samsung</td>\n",
       "      <td>52114</td>\n",
       "    </tr>\n",
       "    <tr>\n",
       "      <th>1</th>\n",
       "      <td>1004767</td>\n",
       "      <td>electronics.smartphone</td>\n",
       "      <td>samsung</td>\n",
       "      <td>37608</td>\n",
       "    </tr>\n",
       "    <tr>\n",
       "      <th>2</th>\n",
       "      <td>4804056</td>\n",
       "      <td>electronics.audio.headphone</td>\n",
       "      <td>apple</td>\n",
       "      <td>22738</td>\n",
       "    </tr>\n",
       "    <tr>\n",
       "      <th>3</th>\n",
       "      <td>1004833</td>\n",
       "      <td>electronics.smartphone</td>\n",
       "      <td>samsung</td>\n",
       "      <td>21817</td>\n",
       "    </tr>\n",
       "    <tr>\n",
       "      <th>4</th>\n",
       "      <td>1004870</td>\n",
       "      <td>electronics.smartphone</td>\n",
       "      <td>samsung</td>\n",
       "      <td>19436</td>\n",
       "    </tr>\n",
       "    <tr>\n",
       "      <th>5</th>\n",
       "      <td>5100816</td>\n",
       "      <td>NaN</td>\n",
       "      <td>xiaomi</td>\n",
       "      <td>17569</td>\n",
       "    </tr>\n",
       "    <tr>\n",
       "      <th>6</th>\n",
       "      <td>1002544</td>\n",
       "      <td>electronics.smartphone</td>\n",
       "      <td>apple</td>\n",
       "      <td>15794</td>\n",
       "    </tr>\n",
       "    <tr>\n",
       "      <th>7</th>\n",
       "      <td>1005115</td>\n",
       "      <td>electronics.smartphone</td>\n",
       "      <td>apple</td>\n",
       "      <td>15513</td>\n",
       "    </tr>\n",
       "    <tr>\n",
       "      <th>8</th>\n",
       "      <td>1004249</td>\n",
       "      <td>electronics.smartphone</td>\n",
       "      <td>apple</td>\n",
       "      <td>14546</td>\n",
       "    </tr>\n",
       "    <tr>\n",
       "      <th>9</th>\n",
       "      <td>1004836</td>\n",
       "      <td>electronics.smartphone</td>\n",
       "      <td>samsung</td>\n",
       "      <td>14089</td>\n",
       "    </tr>\n",
       "  </tbody>\n",
       "</table>\n",
       "</div>"
      ],
      "text/plain": [
       "   product_id                category_code    brand  count\n",
       "0     1004856       electronics.smartphone  samsung  52114\n",
       "1     1004767       electronics.smartphone  samsung  37608\n",
       "2     4804056  electronics.audio.headphone    apple  22738\n",
       "3     1004833       electronics.smartphone  samsung  21817\n",
       "4     1004870       electronics.smartphone  samsung  19436\n",
       "5     5100816                          NaN   xiaomi  17569\n",
       "6     1002544       electronics.smartphone    apple  15794\n",
       "7     1005115       electronics.smartphone    apple  15513\n",
       "8     1004249       electronics.smartphone    apple  14546\n",
       "9     1004836       electronics.smartphone  samsung  14089"
      ]
     },
     "execution_count": 83,
     "metadata": {},
     "output_type": "execute_result"
    }
   ],
   "source": [
    "top10_product(cart_or_purchase_user_df, 'product_id')"
   ]
  },
  {
   "cell_type": "markdown",
   "id": "0eb82f58",
   "metadata": {},
   "source": [
    "## 카테고리(category_id)"
   ]
  },
  {
   "cell_type": "code",
   "execution_count": 84,
   "id": "d8b7cd82",
   "metadata": {
    "ExecuteTime": {
     "end_time": "2022-09-25T14:59:45.762535Z",
     "start_time": "2022-09-25T14:59:45.745532Z"
    }
   },
   "outputs": [],
   "source": [
    "def top10_category(df, column):\n",
    "    cart = df.loc[df['event_type'] == 'cart']\n",
    "    top10 = cart[column].value_counts()[:10]\n",
    "    data = []\n",
    "    for index, count in top10.to_dict().items():\n",
    "        category_id = cart.loc[cart[column] == index, 'category_id'].unique()[0]\n",
    "        category_code = cart.loc[cart[column] == index, 'category_code'].unique()[0]\n",
    "        data.append([category_id,category_code, count])\n",
    "    return pd.DataFrame(data, columns=[column,'category_code','count'])\n",
    "    "
   ]
  },
  {
   "cell_type": "code",
   "execution_count": 85,
   "id": "ccfa1889",
   "metadata": {
    "ExecuteTime": {
     "end_time": "2022-09-25T14:59:46.452224Z",
     "start_time": "2022-09-25T14:59:46.259547Z"
    },
    "scrolled": true
   },
   "outputs": [
    {
     "data": {
      "text/html": [
       "<div>\n",
       "<style scoped>\n",
       "    .dataframe tbody tr th:only-of-type {\n",
       "        vertical-align: middle;\n",
       "    }\n",
       "\n",
       "    .dataframe tbody tr th {\n",
       "        vertical-align: top;\n",
       "    }\n",
       "\n",
       "    .dataframe thead th {\n",
       "        text-align: right;\n",
       "    }\n",
       "</style>\n",
       "<table border=\"1\" class=\"dataframe\">\n",
       "  <thead>\n",
       "    <tr style=\"text-align: right;\">\n",
       "      <th></th>\n",
       "      <th>category_id</th>\n",
       "      <th>category_code</th>\n",
       "      <th>count</th>\n",
       "    </tr>\n",
       "  </thead>\n",
       "  <tbody>\n",
       "    <tr>\n",
       "      <th>0</th>\n",
       "      <td>-1769995873</td>\n",
       "      <td>electronics.smartphone</td>\n",
       "      <td>549435</td>\n",
       "    </tr>\n",
       "    <tr>\n",
       "      <th>1</th>\n",
       "      <td>1551892843</td>\n",
       "      <td>electronics.audio.headphone</td>\n",
       "      <td>51097</td>\n",
       "    </tr>\n",
       "    <tr>\n",
       "      <th>2</th>\n",
       "      <td>1308623195</td>\n",
       "      <td>electronics.video.tv</td>\n",
       "      <td>36128</td>\n",
       "    </tr>\n",
       "    <tr>\n",
       "      <th>3</th>\n",
       "      <td>2113930099</td>\n",
       "      <td>appliances.kitchen.washer</td>\n",
       "      <td>21975</td>\n",
       "    </tr>\n",
       "    <tr>\n",
       "      <th>4</th>\n",
       "      <td>452985123</td>\n",
       "      <td>NaN</td>\n",
       "      <td>20855</td>\n",
       "    </tr>\n",
       "    <tr>\n",
       "      <th>5</th>\n",
       "      <td>234881301</td>\n",
       "      <td>electronics.clocks</td>\n",
       "      <td>20234</td>\n",
       "    </tr>\n",
       "    <tr>\n",
       "      <th>6</th>\n",
       "      <td>268435735</td>\n",
       "      <td>NaN</td>\n",
       "      <td>19938</td>\n",
       "    </tr>\n",
       "    <tr>\n",
       "      <th>7</th>\n",
       "      <td>-8387603</td>\n",
       "      <td>appliances.environment.vacuum</td>\n",
       "      <td>17182</td>\n",
       "    </tr>\n",
       "    <tr>\n",
       "      <th>8</th>\n",
       "      <td>1518338663</td>\n",
       "      <td>computers.notebook</td>\n",
       "      <td>15591</td>\n",
       "    </tr>\n",
       "    <tr>\n",
       "      <th>9</th>\n",
       "      <td>-2080373895</td>\n",
       "      <td>appliances.kitchen.refrigerators</td>\n",
       "      <td>10385</td>\n",
       "    </tr>\n",
       "  </tbody>\n",
       "</table>\n",
       "</div>"
      ],
      "text/plain": [
       "   category_id                     category_code   count\n",
       "0  -1769995873            electronics.smartphone  549435\n",
       "1   1551892843       electronics.audio.headphone   51097\n",
       "2   1308623195              electronics.video.tv   36128\n",
       "3   2113930099         appliances.kitchen.washer   21975\n",
       "4    452985123                               NaN   20855\n",
       "5    234881301                electronics.clocks   20234\n",
       "6    268435735                               NaN   19938\n",
       "7     -8387603     appliances.environment.vacuum   17182\n",
       "8   1518338663                computers.notebook   15591\n",
       "9  -2080373895  appliances.kitchen.refrigerators   10385"
      ]
     },
     "execution_count": 85,
     "metadata": {},
     "output_type": "execute_result"
    }
   ],
   "source": [
    "top10_category(cart_or_purchase_user_df, 'category_id')"
   ]
  },
  {
   "cell_type": "markdown",
   "id": "a8b5ffa2",
   "metadata": {},
   "source": [
    "## 브랜드(brand)"
   ]
  },
  {
   "cell_type": "code",
   "execution_count": 86,
   "id": "33fe2305",
   "metadata": {
    "ExecuteTime": {
     "end_time": "2022-09-25T14:59:46.962654Z",
     "start_time": "2022-09-25T14:59:46.948660Z"
    }
   },
   "outputs": [],
   "source": [
    "def top10_brand(df, column):\n",
    "    cart = df.loc[df['event_type'] == 'cart']\n",
    "    top10 = cart[column].value_counts()[:10]\n",
    "    data = []\n",
    "    for index, count in top10.to_dict().items():\n",
    "        brand = cart.loc[cart[column] == index, 'brand'].unique()[0]\n",
    "        data.append([brand, count])\n",
    "    return pd.DataFrame(data, columns=[column,'count'])"
   ]
  },
  {
   "cell_type": "code",
   "execution_count": 87,
   "id": "d7a0ddfb",
   "metadata": {
    "ExecuteTime": {
     "end_time": "2022-09-25T14:59:47.652973Z",
     "start_time": "2022-09-25T14:59:47.489958Z"
    }
   },
   "outputs": [
    {
     "data": {
      "text/html": [
       "<div>\n",
       "<style scoped>\n",
       "    .dataframe tbody tr th:only-of-type {\n",
       "        vertical-align: middle;\n",
       "    }\n",
       "\n",
       "    .dataframe tbody tr th {\n",
       "        vertical-align: top;\n",
       "    }\n",
       "\n",
       "    .dataframe thead th {\n",
       "        text-align: right;\n",
       "    }\n",
       "</style>\n",
       "<table border=\"1\" class=\"dataframe\">\n",
       "  <thead>\n",
       "    <tr style=\"text-align: right;\">\n",
       "      <th></th>\n",
       "      <th>brand</th>\n",
       "      <th>count</th>\n",
       "    </tr>\n",
       "  </thead>\n",
       "  <tbody>\n",
       "    <tr>\n",
       "      <th>0</th>\n",
       "      <td>samsung</td>\n",
       "      <td>303080</td>\n",
       "    </tr>\n",
       "    <tr>\n",
       "      <th>1</th>\n",
       "      <td>apple</td>\n",
       "      <td>208924</td>\n",
       "    </tr>\n",
       "    <tr>\n",
       "      <th>2</th>\n",
       "      <td>xiaomi</td>\n",
       "      <td>104430</td>\n",
       "    </tr>\n",
       "    <tr>\n",
       "      <th>3</th>\n",
       "      <td>huawei</td>\n",
       "      <td>42108</td>\n",
       "    </tr>\n",
       "    <tr>\n",
       "      <th>4</th>\n",
       "      <td>oppo</td>\n",
       "      <td>20540</td>\n",
       "    </tr>\n",
       "    <tr>\n",
       "      <th>5</th>\n",
       "      <td>lg</td>\n",
       "      <td>13543</td>\n",
       "    </tr>\n",
       "    <tr>\n",
       "      <th>6</th>\n",
       "      <td>sony</td>\n",
       "      <td>10060</td>\n",
       "    </tr>\n",
       "    <tr>\n",
       "      <th>7</th>\n",
       "      <td>acer</td>\n",
       "      <td>9396</td>\n",
       "    </tr>\n",
       "    <tr>\n",
       "      <th>8</th>\n",
       "      <td>elenberg</td>\n",
       "      <td>8598</td>\n",
       "    </tr>\n",
       "    <tr>\n",
       "      <th>9</th>\n",
       "      <td>bosch</td>\n",
       "      <td>7150</td>\n",
       "    </tr>\n",
       "  </tbody>\n",
       "</table>\n",
       "</div>"
      ],
      "text/plain": [
       "      brand   count\n",
       "0   samsung  303080\n",
       "1     apple  208924\n",
       "2    xiaomi  104430\n",
       "3    huawei   42108\n",
       "4      oppo   20540\n",
       "5        lg   13543\n",
       "6      sony   10060\n",
       "7      acer    9396\n",
       "8  elenberg    8598\n",
       "9     bosch    7150"
      ]
     },
     "execution_count": 87,
     "metadata": {},
     "output_type": "execute_result"
    }
   ],
   "source": [
    "top10_brand(cart_or_purchase_user_df, 'brand')"
   ]
  },
  {
   "cell_type": "markdown",
   "id": "d62316e0",
   "metadata": {},
   "source": [
    "# cart 혹은 purchase가 반드시 존재하는 사용자들이 가장 많이 구매(purchase)한 것은?"
   ]
  },
  {
   "cell_type": "markdown",
   "id": "ad6abe63",
   "metadata": {},
   "source": [
    "## 제품(product_id)"
   ]
  },
  {
   "cell_type": "code",
   "execution_count": 88,
   "id": "ab8ad9a3",
   "metadata": {
    "ExecuteTime": {
     "end_time": "2022-09-25T14:59:48.178503Z",
     "start_time": "2022-09-25T14:59:48.165505Z"
    }
   },
   "outputs": [],
   "source": [
    "def top10_product(df, column):\n",
    "    purchase = df.loc[df['event_type'] == 'purchase']\n",
    "    top10 = purchase[column].value_counts()[:10]\n",
    "    data = []\n",
    "    for index, count in top10.to_dict().items():\n",
    "        category = purchase.loc[purchase[column] == index, 'category_code'].unique()[0]\n",
    "        brand = purchase.loc[purchase[column] == index, 'brand'].unique()[0]\n",
    "        data.append([index, category, brand, count])\n",
    "    return pd.DataFrame(data, columns=[column, 'category_code','brand','count'])\n",
    "    "
   ]
  },
  {
   "cell_type": "code",
   "execution_count": 89,
   "id": "6669f759",
   "metadata": {
    "ExecuteTime": {
     "end_time": "2022-09-25T14:59:48.853504Z",
     "start_time": "2022-09-25T14:59:48.690506Z"
    }
   },
   "outputs": [
    {
     "data": {
      "text/html": [
       "<div>\n",
       "<style scoped>\n",
       "    .dataframe tbody tr th:only-of-type {\n",
       "        vertical-align: middle;\n",
       "    }\n",
       "\n",
       "    .dataframe tbody tr th {\n",
       "        vertical-align: top;\n",
       "    }\n",
       "\n",
       "    .dataframe thead th {\n",
       "        text-align: right;\n",
       "    }\n",
       "</style>\n",
       "<table border=\"1\" class=\"dataframe\">\n",
       "  <thead>\n",
       "    <tr style=\"text-align: right;\">\n",
       "      <th></th>\n",
       "      <th>product_id</th>\n",
       "      <th>category_code</th>\n",
       "      <th>brand</th>\n",
       "      <th>count</th>\n",
       "    </tr>\n",
       "  </thead>\n",
       "  <tbody>\n",
       "    <tr>\n",
       "      <th>0</th>\n",
       "      <td>1004856</td>\n",
       "      <td>electronics.smartphone</td>\n",
       "      <td>samsung</td>\n",
       "      <td>28922</td>\n",
       "    </tr>\n",
       "    <tr>\n",
       "      <th>1</th>\n",
       "      <td>1004767</td>\n",
       "      <td>electronics.smartphone</td>\n",
       "      <td>samsung</td>\n",
       "      <td>21779</td>\n",
       "    </tr>\n",
       "    <tr>\n",
       "      <th>2</th>\n",
       "      <td>1004833</td>\n",
       "      <td>electronics.smartphone</td>\n",
       "      <td>samsung</td>\n",
       "      <td>12690</td>\n",
       "    </tr>\n",
       "    <tr>\n",
       "      <th>3</th>\n",
       "      <td>1005115</td>\n",
       "      <td>electronics.smartphone</td>\n",
       "      <td>apple</td>\n",
       "      <td>12527</td>\n",
       "    </tr>\n",
       "    <tr>\n",
       "      <th>4</th>\n",
       "      <td>4804056</td>\n",
       "      <td>electronics.audio.headphone</td>\n",
       "      <td>apple</td>\n",
       "      <td>12368</td>\n",
       "    </tr>\n",
       "    <tr>\n",
       "      <th>5</th>\n",
       "      <td>1004870</td>\n",
       "      <td>electronics.smartphone</td>\n",
       "      <td>samsung</td>\n",
       "      <td>10605</td>\n",
       "    </tr>\n",
       "    <tr>\n",
       "      <th>6</th>\n",
       "      <td>1002544</td>\n",
       "      <td>electronics.smartphone</td>\n",
       "      <td>apple</td>\n",
       "      <td>10545</td>\n",
       "    </tr>\n",
       "    <tr>\n",
       "      <th>7</th>\n",
       "      <td>1004249</td>\n",
       "      <td>electronics.smartphone</td>\n",
       "      <td>apple</td>\n",
       "      <td>9081</td>\n",
       "    </tr>\n",
       "    <tr>\n",
       "      <th>8</th>\n",
       "      <td>1004836</td>\n",
       "      <td>electronics.smartphone</td>\n",
       "      <td>samsung</td>\n",
       "      <td>7688</td>\n",
       "    </tr>\n",
       "    <tr>\n",
       "      <th>9</th>\n",
       "      <td>1005105</td>\n",
       "      <td>electronics.smartphone</td>\n",
       "      <td>apple</td>\n",
       "      <td>7281</td>\n",
       "    </tr>\n",
       "  </tbody>\n",
       "</table>\n",
       "</div>"
      ],
      "text/plain": [
       "   product_id                category_code    brand  count\n",
       "0     1004856       electronics.smartphone  samsung  28922\n",
       "1     1004767       electronics.smartphone  samsung  21779\n",
       "2     1004833       electronics.smartphone  samsung  12690\n",
       "3     1005115       electronics.smartphone    apple  12527\n",
       "4     4804056  electronics.audio.headphone    apple  12368\n",
       "5     1004870       electronics.smartphone  samsung  10605\n",
       "6     1002544       electronics.smartphone    apple  10545\n",
       "7     1004249       electronics.smartphone    apple   9081\n",
       "8     1004836       electronics.smartphone  samsung   7688\n",
       "9     1005105       electronics.smartphone    apple   7281"
      ]
     },
     "execution_count": 89,
     "metadata": {},
     "output_type": "execute_result"
    }
   ],
   "source": [
    "top10_product(cart_or_purchase_user_df, 'product_id')"
   ]
  },
  {
   "cell_type": "markdown",
   "id": "9147fd4f",
   "metadata": {},
   "source": [
    "## 카테고리(category_id)"
   ]
  },
  {
   "cell_type": "code",
   "execution_count": 90,
   "id": "06e0eda5",
   "metadata": {
    "ExecuteTime": {
     "end_time": "2022-09-25T14:59:49.409298Z",
     "start_time": "2022-09-25T14:59:49.396288Z"
    }
   },
   "outputs": [],
   "source": [
    "def top10_category(df, column):\n",
    "    purchase = df.loc[df['event_type'] == 'purchase']\n",
    "    top10 = purchase[column].value_counts()[:10]\n",
    "    data = []\n",
    "    for index, count in top10.to_dict().items():\n",
    "        category_id = purchase.loc[purchase[column] == index, 'category_id'].unique()[0]\n",
    "        category_code = purchase.loc[purchase[column] == index, 'category_code'].unique()[0]\n",
    "        data.append([category_id,category_code, count])\n",
    "    return pd.DataFrame(data, columns=[column,'category_code','count'])"
   ]
  },
  {
   "cell_type": "code",
   "execution_count": 91,
   "id": "c13eeb9c",
   "metadata": {
    "ExecuteTime": {
     "end_time": "2022-09-25T14:59:50.116430Z",
     "start_time": "2022-09-25T14:59:49.936766Z"
    }
   },
   "outputs": [
    {
     "data": {
      "text/html": [
       "<div>\n",
       "<style scoped>\n",
       "    .dataframe tbody tr th:only-of-type {\n",
       "        vertical-align: middle;\n",
       "    }\n",
       "\n",
       "    .dataframe tbody tr th {\n",
       "        vertical-align: top;\n",
       "    }\n",
       "\n",
       "    .dataframe thead th {\n",
       "        text-align: right;\n",
       "    }\n",
       "</style>\n",
       "<table border=\"1\" class=\"dataframe\">\n",
       "  <thead>\n",
       "    <tr style=\"text-align: right;\">\n",
       "      <th></th>\n",
       "      <th>category_id</th>\n",
       "      <th>category_code</th>\n",
       "      <th>count</th>\n",
       "    </tr>\n",
       "  </thead>\n",
       "  <tbody>\n",
       "    <tr>\n",
       "      <th>0</th>\n",
       "      <td>-1769995873</td>\n",
       "      <td>electronics.smartphone</td>\n",
       "      <td>337713</td>\n",
       "    </tr>\n",
       "    <tr>\n",
       "      <th>1</th>\n",
       "      <td>452985123</td>\n",
       "      <td>NaN</td>\n",
       "      <td>43997</td>\n",
       "    </tr>\n",
       "    <tr>\n",
       "      <th>2</th>\n",
       "      <td>1551892843</td>\n",
       "      <td>electronics.audio.headphone</td>\n",
       "      <td>30461</td>\n",
       "    </tr>\n",
       "    <tr>\n",
       "      <th>3</th>\n",
       "      <td>1308623195</td>\n",
       "      <td>electronics.video.tv</td>\n",
       "      <td>21520</td>\n",
       "    </tr>\n",
       "    <tr>\n",
       "      <th>4</th>\n",
       "      <td>2113930099</td>\n",
       "      <td>appliances.kitchen.washer</td>\n",
       "      <td>16143</td>\n",
       "    </tr>\n",
       "    <tr>\n",
       "      <th>5</th>\n",
       "      <td>1518338663</td>\n",
       "      <td>computers.notebook</td>\n",
       "      <td>15487</td>\n",
       "    </tr>\n",
       "    <tr>\n",
       "      <th>6</th>\n",
       "      <td>234881301</td>\n",
       "      <td>electronics.clocks</td>\n",
       "      <td>13177</td>\n",
       "    </tr>\n",
       "    <tr>\n",
       "      <th>7</th>\n",
       "      <td>-8387603</td>\n",
       "      <td>appliances.environment.vacuum</td>\n",
       "      <td>12111</td>\n",
       "    </tr>\n",
       "    <tr>\n",
       "      <th>8</th>\n",
       "      <td>1954546537</td>\n",
       "      <td>NaN</td>\n",
       "      <td>10538</td>\n",
       "    </tr>\n",
       "    <tr>\n",
       "      <th>9</th>\n",
       "      <td>268435735</td>\n",
       "      <td>NaN</td>\n",
       "      <td>8599</td>\n",
       "    </tr>\n",
       "  </tbody>\n",
       "</table>\n",
       "</div>"
      ],
      "text/plain": [
       "   category_id                  category_code   count\n",
       "0  -1769995873         electronics.smartphone  337713\n",
       "1    452985123                            NaN   43997\n",
       "2   1551892843    electronics.audio.headphone   30461\n",
       "3   1308623195           electronics.video.tv   21520\n",
       "4   2113930099      appliances.kitchen.washer   16143\n",
       "5   1518338663             computers.notebook   15487\n",
       "6    234881301             electronics.clocks   13177\n",
       "7     -8387603  appliances.environment.vacuum   12111\n",
       "8   1954546537                            NaN   10538\n",
       "9    268435735                            NaN    8599"
      ]
     },
     "execution_count": 91,
     "metadata": {},
     "output_type": "execute_result"
    }
   ],
   "source": [
    "top10_category(cart_or_purchase_user_df, 'category_id')"
   ]
  },
  {
   "cell_type": "markdown",
   "id": "82f81c28",
   "metadata": {},
   "source": [
    "## 브랜드(brand)"
   ]
  },
  {
   "cell_type": "code",
   "execution_count": 92,
   "id": "be16a5bd",
   "metadata": {
    "ExecuteTime": {
     "end_time": "2022-09-25T14:59:50.656492Z",
     "start_time": "2022-09-25T14:59:50.642584Z"
    }
   },
   "outputs": [],
   "source": [
    "def top10_brand(df, column):\n",
    "    purchase = df.loc[df['event_type'] == 'purchase']\n",
    "    top10 = purchase[column].value_counts()[:10]\n",
    "    data = []\n",
    "    for index, count in top10.to_dict().items():\n",
    "        brand = purchase.loc[purchase[column] == index, 'brand'].unique()[0]\n",
    "        data.append([brand, count])\n",
    "    return pd.DataFrame(data, columns=[column,'count'])"
   ]
  },
  {
   "cell_type": "code",
   "execution_count": 93,
   "id": "d935a107",
   "metadata": {
    "ExecuteTime": {
     "end_time": "2022-09-25T14:59:51.316710Z",
     "start_time": "2022-09-25T14:59:51.168689Z"
    }
   },
   "outputs": [
    {
     "data": {
      "text/html": [
       "<div>\n",
       "<style scoped>\n",
       "    .dataframe tbody tr th:only-of-type {\n",
       "        vertical-align: middle;\n",
       "    }\n",
       "\n",
       "    .dataframe tbody tr th {\n",
       "        vertical-align: top;\n",
       "    }\n",
       "\n",
       "    .dataframe thead th {\n",
       "        text-align: right;\n",
       "    }\n",
       "</style>\n",
       "<table border=\"1\" class=\"dataframe\">\n",
       "  <thead>\n",
       "    <tr style=\"text-align: right;\">\n",
       "      <th></th>\n",
       "      <th>brand</th>\n",
       "      <th>count</th>\n",
       "    </tr>\n",
       "  </thead>\n",
       "  <tbody>\n",
       "    <tr>\n",
       "      <th>0</th>\n",
       "      <td>samsung</td>\n",
       "      <td>172747</td>\n",
       "    </tr>\n",
       "    <tr>\n",
       "      <th>1</th>\n",
       "      <td>apple</td>\n",
       "      <td>142703</td>\n",
       "    </tr>\n",
       "    <tr>\n",
       "      <th>2</th>\n",
       "      <td>xiaomi</td>\n",
       "      <td>56571</td>\n",
       "    </tr>\n",
       "    <tr>\n",
       "      <th>3</th>\n",
       "      <td>huawei</td>\n",
       "      <td>23489</td>\n",
       "    </tr>\n",
       "    <tr>\n",
       "      <th>4</th>\n",
       "      <td>lucente</td>\n",
       "      <td>11573</td>\n",
       "    </tr>\n",
       "    <tr>\n",
       "      <th>5</th>\n",
       "      <td>oppo</td>\n",
       "      <td>10885</td>\n",
       "    </tr>\n",
       "    <tr>\n",
       "      <th>6</th>\n",
       "      <td>cordiant</td>\n",
       "      <td>10543</td>\n",
       "    </tr>\n",
       "    <tr>\n",
       "      <th>7</th>\n",
       "      <td>lg</td>\n",
       "      <td>8727</td>\n",
       "    </tr>\n",
       "    <tr>\n",
       "      <th>8</th>\n",
       "      <td>acer</td>\n",
       "      <td>6875</td>\n",
       "    </tr>\n",
       "    <tr>\n",
       "      <th>9</th>\n",
       "      <td>sony</td>\n",
       "      <td>6723</td>\n",
       "    </tr>\n",
       "  </tbody>\n",
       "</table>\n",
       "</div>"
      ],
      "text/plain": [
       "      brand   count\n",
       "0   samsung  172747\n",
       "1     apple  142703\n",
       "2    xiaomi   56571\n",
       "3    huawei   23489\n",
       "4   lucente   11573\n",
       "5      oppo   10885\n",
       "6  cordiant   10543\n",
       "7        lg    8727\n",
       "8      acer    6875\n",
       "9      sony    6723"
      ]
     },
     "execution_count": 93,
     "metadata": {},
     "output_type": "execute_result"
    }
   ],
   "source": [
    "top10_brand(cart_or_purchase_user_df, 'brand')"
   ]
  },
  {
   "cell_type": "markdown",
   "id": "59241502",
   "metadata": {},
   "source": [
    "# category_code를 . 기준으로 split"
   ]
  },
  {
   "cell_type": "code",
   "execution_count": 94,
   "id": "43a57ad5",
   "metadata": {
    "ExecuteTime": {
     "end_time": "2022-09-25T14:59:51.857029Z",
     "start_time": "2022-09-25T14:59:51.843759Z"
    }
   },
   "outputs": [],
   "source": [
    "def get_category3(x):\n",
    "    try:\n",
    "        return x.split('.')[2]\n",
    "    except:\n",
    "        return None"
   ]
  },
  {
   "cell_type": "code",
   "execution_count": 95,
   "id": "4c6e6e48",
   "metadata": {
    "ExecuteTime": {
     "end_time": "2022-09-25T14:59:54.737404Z",
     "start_time": "2022-09-25T14:59:52.369162Z"
    }
   },
   "outputs": [],
   "source": [
    "df['category1'] = df['category_code'].apply(lambda x : x.split('.')[0])\n",
    "df['category2'] = df['category_code'].apply(lambda x : x.split('.')[1])\n",
    "df['category3'] = df['category_code'].apply(get_category3)"
   ]
  },
  {
   "cell_type": "code",
   "execution_count": 96,
   "id": "7fd50c23",
   "metadata": {
    "ExecuteTime": {
     "end_time": "2022-09-25T14:59:57.107404Z",
     "start_time": "2022-09-25T14:59:55.249403Z"
    }
   },
   "outputs": [
    {
     "data": {
      "text/plain": [
       "13"
      ]
     },
     "execution_count": 96,
     "metadata": {},
     "output_type": "execute_result"
    }
   ],
   "source": [
    "df['category1'].nunique()"
   ]
  },
  {
   "cell_type": "code",
   "execution_count": 97,
   "id": "51ec4b87",
   "metadata": {
    "ExecuteTime": {
     "end_time": "2022-09-25T14:59:59.702402Z",
     "start_time": "2022-09-25T14:59:57.649404Z"
    }
   },
   "outputs": [
    {
     "data": {
      "text/plain": [
       "electronics     16116477\n",
       "appliances       4963360\n",
       "computers        2320490\n",
       "apparel          1540913\n",
       "furniture        1245243\n",
       "auto             1011887\n",
       "construction      730124\n",
       "kids              519908\n",
       "accessories       237816\n",
       "sport             176426\n",
       "medicine           14796\n",
       "country_yard       14080\n",
       "stationery          7619\n",
       "Name: category1, dtype: int64"
      ]
     },
     "execution_count": 97,
     "metadata": {},
     "output_type": "execute_result"
    }
   ],
   "source": [
    "df['category1'].value_counts()"
   ]
  },
  {
   "cell_type": "code",
   "execution_count": 98,
   "id": "48245963",
   "metadata": {
    "ExecuteTime": {
     "end_time": "2022-09-25T15:00:01.952401Z",
     "start_time": "2022-09-25T15:00:00.229403Z"
    }
   },
   "outputs": [
    {
     "data": {
      "text/plain": [
       "57"
      ]
     },
     "execution_count": 98,
     "metadata": {},
     "output_type": "execute_result"
    }
   ],
   "source": [
    "df['category2'].nunique()"
   ]
  },
  {
   "cell_type": "code",
   "execution_count": 99,
   "id": "7c23efb6",
   "metadata": {
    "ExecuteTime": {
     "end_time": "2022-09-25T15:00:04.277405Z",
     "start_time": "2022-09-25T15:00:02.478404Z"
    }
   },
   "outputs": [
    {
     "data": {
      "text/plain": [
       "smartphone        11494647\n",
       "kitchen            3528628\n",
       "audio              1572147\n",
       "clocks             1308763\n",
       "shoes              1206897\n",
       "environment        1146737\n",
       "notebook           1136013\n",
       "video              1125939\n",
       "accessories        1011887\n",
       "tools               719116\n",
       "living_room         589600\n",
       "desktop             423427\n",
       "bedroom             401320\n",
       "peripherals         387789\n",
       "components          369253\n",
       "tablet              316425\n",
       "telephone           247287\n",
       "carriage            220048\n",
       "bag                 190392\n",
       "iron                165270\n",
       "sewing_machine      152046\n",
       "personal            149497\n",
       "costume             134810\n",
       "bicycle             130193\n",
       "toys                110543\n",
       "skates               86213\n",
       "jeans                56681\n",
       "camera               51269\n",
       "dolls                46037\n",
       "underwear            44434\n",
       "wallet               43504\n",
       "dress                37238\n",
       "trainer              35941\n",
       "ironing_board        35245\n",
       "swing                32039\n",
       "bathroom             30303\n",
       "ebooks               29812\n",
       "fmcg                 25028\n",
       "tshirt               18936\n",
       "trousers             16075\n",
       "shirt                13489\n",
       "universal             9957\n",
       "cartrige              7619\n",
       "cultivator            7172\n",
       "lawn_mower            5501\n",
       "umbrella              3920\n",
       "snowboard             3748\n",
       "tennis                3543\n",
       "ski                   3001\n",
       "jumper                2647\n",
       "sock                  2644\n",
       "scarf                 2522\n",
       "belt                  2443\n",
       "furniture             1407\n",
       "skirt                 1029\n",
       "shorts                 632\n",
       "jacket                 436\n",
       "Name: category2, dtype: int64"
      ]
     },
     "execution_count": 99,
     "metadata": {},
     "output_type": "execute_result"
    }
   ],
   "source": [
    "df['category2'].value_counts()"
   ]
  },
  {
   "cell_type": "code",
   "execution_count": 100,
   "id": "f463961d",
   "metadata": {
    "ExecuteTime": {
     "end_time": "2022-09-25T15:00:06.377402Z",
     "start_time": "2022-09-25T15:00:04.789406Z"
    }
   },
   "outputs": [
    {
     "data": {
      "text/plain": [
       "83"
      ]
     },
     "execution_count": 100,
     "metadata": {},
     "output_type": "execute_result"
    }
   ],
   "source": [
    "df['category3'].nunique()"
   ]
  },
  {
   "cell_type": "code",
   "execution_count": 101,
   "id": "9ac1e027",
   "metadata": {
    "ExecuteTime": {
     "end_time": "2022-09-25T15:00:07.922416Z",
     "start_time": "2022-09-25T15:00:06.874416Z"
    },
    "scrolled": true
   },
   "outputs": [
    {
     "data": {
      "text/plain": [
       "tv               1112786\n",
       "headphone        1098424\n",
       "refrigerators     887043\n",
       "washer            868955\n",
       "vacuum            800950\n",
       "                  ...   \n",
       "step_ins            1332\n",
       "hammok              1217\n",
       "soldering            630\n",
       "anti_freeze          299\n",
       "bench                190\n",
       "Name: category3, Length: 83, dtype: int64"
      ]
     },
     "execution_count": 101,
     "metadata": {},
     "output_type": "execute_result"
    }
   ],
   "source": [
    "df['category3'].value_counts()"
   ]
  },
  {
   "cell_type": "markdown",
   "id": "f4d1a5f0",
   "metadata": {},
   "source": [
    "# 나무보기"
   ]
  },
  {
   "cell_type": "markdown",
   "id": "0ecba16f",
   "metadata": {},
   "source": [
    "## 가장 많이 방문한 유저는 누구인가?"
   ]
  },
  {
   "cell_type": "code",
   "execution_count": 102,
   "id": "63759ec9",
   "metadata": {
    "ExecuteTime": {
     "end_time": "2022-09-25T15:00:10.533571Z",
     "start_time": "2022-09-25T15:00:08.433513Z"
    }
   },
   "outputs": [
    {
     "data": {
      "text/plain": [
       "512475445    7436\n",
       "Name: user_id, dtype: int64"
      ]
     },
     "execution_count": 102,
     "metadata": {},
     "output_type": "execute_result"
    }
   ],
   "source": [
    "df['user_id'].value_counts()[:1]"
   ]
  },
  {
   "cell_type": "markdown",
   "id": "936dc8f3",
   "metadata": {},
   "source": [
    "## 가장 많은 방문을 한 유저의 행동은 어떠한가?"
   ]
  },
  {
   "cell_type": "code",
   "execution_count": 111,
   "id": "69564725",
   "metadata": {
    "ExecuteTime": {
     "end_time": "2022-09-25T15:02:04.638484Z",
     "start_time": "2022-09-25T15:02:04.557465Z"
    }
   },
   "outputs": [
    {
     "data": {
      "text/html": [
       "<div>\n",
       "<style scoped>\n",
       "    .dataframe tbody tr th:only-of-type {\n",
       "        vertical-align: middle;\n",
       "    }\n",
       "\n",
       "    .dataframe tbody tr th {\n",
       "        vertical-align: top;\n",
       "    }\n",
       "\n",
       "    .dataframe thead th {\n",
       "        text-align: right;\n",
       "    }\n",
       "</style>\n",
       "<table border=\"1\" class=\"dataframe\">\n",
       "  <thead>\n",
       "    <tr style=\"text-align: right;\">\n",
       "      <th></th>\n",
       "      <th>event_time</th>\n",
       "      <th>event_type</th>\n",
       "      <th>product_id</th>\n",
       "      <th>category_id</th>\n",
       "      <th>category_code</th>\n",
       "      <th>brand</th>\n",
       "      <th>price</th>\n",
       "      <th>user_id</th>\n",
       "      <th>user_session</th>\n",
       "      <th>category1</th>\n",
       "      <th>category2</th>\n",
       "      <th>category3</th>\n",
       "    </tr>\n",
       "  </thead>\n",
       "  <tbody>\n",
       "    <tr>\n",
       "      <th>382718</th>\n",
       "      <td>2019-10-01 12:43:20</td>\n",
       "      <td>view</td>\n",
       "      <td>5700619</td>\n",
       "      <td>864026943</td>\n",
       "      <td>auto.accessories.player</td>\n",
       "      <td>jvc</td>\n",
       "      <td>46.330002</td>\n",
       "      <td>512475445</td>\n",
       "      <td>37119235-82d4-46cb-add6-2cae9372303b</td>\n",
       "      <td>auto</td>\n",
       "      <td>accessories</td>\n",
       "      <td>player</td>\n",
       "    </tr>\n",
       "    <tr>\n",
       "      <th>383115</th>\n",
       "      <td>2019-10-01 12:43:39</td>\n",
       "      <td>view</td>\n",
       "      <td>5800572</td>\n",
       "      <td>838861117</td>\n",
       "      <td>electronics.audio.subwoofer</td>\n",
       "      <td>pioneer</td>\n",
       "      <td>27.030001</td>\n",
       "      <td>512475445</td>\n",
       "      <td>a23fa43f-2a0e-4305-9cae-f215bb76df13</td>\n",
       "      <td>electronics</td>\n",
       "      <td>audio</td>\n",
       "      <td>subwoofer</td>\n",
       "    </tr>\n",
       "    <tr>\n",
       "      <th>383196</th>\n",
       "      <td>2019-10-01 12:43:44</td>\n",
       "      <td>view</td>\n",
       "      <td>5800802</td>\n",
       "      <td>838861117</td>\n",
       "      <td>electronics.audio.subwoofer</td>\n",
       "      <td>kenwood</td>\n",
       "      <td>48.730000</td>\n",
       "      <td>512475445</td>\n",
       "      <td>c135cd04-d5a4-4a92-af4f-a261f39191bc</td>\n",
       "      <td>electronics</td>\n",
       "      <td>audio</td>\n",
       "      <td>subwoofer</td>\n",
       "    </tr>\n",
       "    <tr>\n",
       "      <th>383693</th>\n",
       "      <td>2019-10-01 12:44:10</td>\n",
       "      <td>view</td>\n",
       "      <td>6100194</td>\n",
       "      <td>-830471473</td>\n",
       "      <td>auto.accessories.radar</td>\n",
       "      <td>NaN</td>\n",
       "      <td>90.349998</td>\n",
       "      <td>512475445</td>\n",
       "      <td>dc73d435-98f4-4279-b411-e0245a91f35b</td>\n",
       "      <td>auto</td>\n",
       "      <td>accessories</td>\n",
       "      <td>radar</td>\n",
       "    </tr>\n",
       "    <tr>\n",
       "      <th>384116</th>\n",
       "      <td>2019-10-01 12:44:32</td>\n",
       "      <td>view</td>\n",
       "      <td>4700565</td>\n",
       "      <td>-796917039</td>\n",
       "      <td>auto.accessories.videoregister</td>\n",
       "      <td>blackvue</td>\n",
       "      <td>233.990005</td>\n",
       "      <td>512475445</td>\n",
       "      <td>07f73194-9a73-45f0-a121-8e768c9a7292</td>\n",
       "      <td>auto</td>\n",
       "      <td>accessories</td>\n",
       "      <td>videoregister</td>\n",
       "    </tr>\n",
       "    <tr>\n",
       "      <th>...</th>\n",
       "      <td>...</td>\n",
       "      <td>...</td>\n",
       "      <td>...</td>\n",
       "      <td>...</td>\n",
       "      <td>...</td>\n",
       "      <td>...</td>\n",
       "      <td>...</td>\n",
       "      <td>...</td>\n",
       "      <td>...</td>\n",
       "      <td>...</td>\n",
       "      <td>...</td>\n",
       "      <td>...</td>\n",
       "    </tr>\n",
       "    <tr>\n",
       "      <th>42350688</th>\n",
       "      <td>2019-10-31 22:52:57</td>\n",
       "      <td>view</td>\n",
       "      <td>5701127</td>\n",
       "      <td>864026943</td>\n",
       "      <td>auto.accessories.player</td>\n",
       "      <td>pioneer</td>\n",
       "      <td>215.860001</td>\n",
       "      <td>512475445</td>\n",
       "      <td>16f1a4b2-3768-4924-8bdd-7845395000d2</td>\n",
       "      <td>auto</td>\n",
       "      <td>accessories</td>\n",
       "      <td>player</td>\n",
       "    </tr>\n",
       "    <tr>\n",
       "      <th>42350778</th>\n",
       "      <td>2019-10-31 22:53:03</td>\n",
       "      <td>view</td>\n",
       "      <td>5700793</td>\n",
       "      <td>864026943</td>\n",
       "      <td>auto.accessories.player</td>\n",
       "      <td>kenwood</td>\n",
       "      <td>182.550003</td>\n",
       "      <td>512475445</td>\n",
       "      <td>5a87df37-6741-4885-91c5-1549b60814ee</td>\n",
       "      <td>auto</td>\n",
       "      <td>accessories</td>\n",
       "      <td>player</td>\n",
       "    </tr>\n",
       "    <tr>\n",
       "      <th>42350886</th>\n",
       "      <td>2019-10-31 22:53:08</td>\n",
       "      <td>view</td>\n",
       "      <td>5701197</td>\n",
       "      <td>864026943</td>\n",
       "      <td>auto.accessories.player</td>\n",
       "      <td>nakamichi</td>\n",
       "      <td>78.379997</td>\n",
       "      <td>512475445</td>\n",
       "      <td>8b646320-d39e-4198-b8bf-e77d0522fd73</td>\n",
       "      <td>auto</td>\n",
       "      <td>accessories</td>\n",
       "      <td>player</td>\n",
       "    </tr>\n",
       "    <tr>\n",
       "      <th>42350975</th>\n",
       "      <td>2019-10-31 22:53:13</td>\n",
       "      <td>view</td>\n",
       "      <td>4700478</td>\n",
       "      <td>-796917039</td>\n",
       "      <td>auto.accessories.videoregister</td>\n",
       "      <td>sho-me</td>\n",
       "      <td>141.860001</td>\n",
       "      <td>512475445</td>\n",
       "      <td>c5da95a8-20be-40fe-af2f-189e4047b0f5</td>\n",
       "      <td>auto</td>\n",
       "      <td>accessories</td>\n",
       "      <td>videoregister</td>\n",
       "    </tr>\n",
       "    <tr>\n",
       "      <th>42351050</th>\n",
       "      <td>2019-10-31 22:53:19</td>\n",
       "      <td>view</td>\n",
       "      <td>4700590</td>\n",
       "      <td>-796917039</td>\n",
       "      <td>auto.accessories.videoregister</td>\n",
       "      <td>sho-me</td>\n",
       "      <td>140.279999</td>\n",
       "      <td>512475445</td>\n",
       "      <td>df4794db-b6db-4ac3-89d6-fd50265257a4</td>\n",
       "      <td>auto</td>\n",
       "      <td>accessories</td>\n",
       "      <td>videoregister</td>\n",
       "    </tr>\n",
       "  </tbody>\n",
       "</table>\n",
       "<p>7436 rows × 12 columns</p>\n",
       "</div>"
      ],
      "text/plain": [
       "                  event_time event_type  product_id  category_id  \\\n",
       "382718   2019-10-01 12:43:20       view     5700619    864026943   \n",
       "383115   2019-10-01 12:43:39       view     5800572    838861117   \n",
       "383196   2019-10-01 12:43:44       view     5800802    838861117   \n",
       "383693   2019-10-01 12:44:10       view     6100194   -830471473   \n",
       "384116   2019-10-01 12:44:32       view     4700565   -796917039   \n",
       "...                      ...        ...         ...          ...   \n",
       "42350688 2019-10-31 22:52:57       view     5701127    864026943   \n",
       "42350778 2019-10-31 22:53:03       view     5700793    864026943   \n",
       "42350886 2019-10-31 22:53:08       view     5701197    864026943   \n",
       "42350975 2019-10-31 22:53:13       view     4700478   -796917039   \n",
       "42351050 2019-10-31 22:53:19       view     4700590   -796917039   \n",
       "\n",
       "                           category_code      brand       price    user_id  \\\n",
       "382718           auto.accessories.player        jvc   46.330002  512475445   \n",
       "383115       electronics.audio.subwoofer    pioneer   27.030001  512475445   \n",
       "383196       electronics.audio.subwoofer    kenwood   48.730000  512475445   \n",
       "383693            auto.accessories.radar        NaN   90.349998  512475445   \n",
       "384116    auto.accessories.videoregister   blackvue  233.990005  512475445   \n",
       "...                                  ...        ...         ...        ...   \n",
       "42350688         auto.accessories.player    pioneer  215.860001  512475445   \n",
       "42350778         auto.accessories.player    kenwood  182.550003  512475445   \n",
       "42350886         auto.accessories.player  nakamichi   78.379997  512475445   \n",
       "42350975  auto.accessories.videoregister     sho-me  141.860001  512475445   \n",
       "42351050  auto.accessories.videoregister     sho-me  140.279999  512475445   \n",
       "\n",
       "                                  user_session    category1    category2  \\\n",
       "382718    37119235-82d4-46cb-add6-2cae9372303b         auto  accessories   \n",
       "383115    a23fa43f-2a0e-4305-9cae-f215bb76df13  electronics        audio   \n",
       "383196    c135cd04-d5a4-4a92-af4f-a261f39191bc  electronics        audio   \n",
       "383693    dc73d435-98f4-4279-b411-e0245a91f35b         auto  accessories   \n",
       "384116    07f73194-9a73-45f0-a121-8e768c9a7292         auto  accessories   \n",
       "...                                        ...          ...          ...   \n",
       "42350688  16f1a4b2-3768-4924-8bdd-7845395000d2         auto  accessories   \n",
       "42350778  5a87df37-6741-4885-91c5-1549b60814ee         auto  accessories   \n",
       "42350886  8b646320-d39e-4198-b8bf-e77d0522fd73         auto  accessories   \n",
       "42350975  c5da95a8-20be-40fe-af2f-189e4047b0f5         auto  accessories   \n",
       "42351050  df4794db-b6db-4ac3-89d6-fd50265257a4         auto  accessories   \n",
       "\n",
       "              category3  \n",
       "382718           player  \n",
       "383115        subwoofer  \n",
       "383196        subwoofer  \n",
       "383693            radar  \n",
       "384116    videoregister  \n",
       "...                 ...  \n",
       "42350688         player  \n",
       "42350778         player  \n",
       "42350886         player  \n",
       "42350975  videoregister  \n",
       "42351050  videoregister  \n",
       "\n",
       "[7436 rows x 12 columns]"
      ]
     },
     "execution_count": 111,
     "metadata": {},
     "output_type": "execute_result"
    }
   ],
   "source": [
    "sample_user = df.loc[df['user_id']==512475445]\n",
    "sample_user"
   ]
  },
  {
   "cell_type": "markdown",
   "id": "27077efa",
   "metadata": {},
   "source": [
    "10월달에 512475445는 총 7436번 방문했습니다."
   ]
  },
  {
   "cell_type": "markdown",
   "id": "18701f32",
   "metadata": {},
   "source": [
    "### 이 유저가 가장 많이 접속한 날은 언제일까?"
   ]
  },
  {
   "cell_type": "code",
   "execution_count": 112,
   "id": "fc831ea0",
   "metadata": {
    "ExecuteTime": {
     "end_time": "2022-09-25T15:02:07.303983Z",
     "start_time": "2022-09-25T15:02:07.296985Z"
    }
   },
   "outputs": [
    {
     "name": "stderr",
     "output_type": "stream",
     "text": [
      "C:\\Users\\User\\anaconda3\\envs\\CP2\\lib\\site-packages\\ipykernel_launcher.py:1: SettingWithCopyWarning: \n",
      "A value is trying to be set on a copy of a slice from a DataFrame.\n",
      "Try using .loc[row_indexer,col_indexer] = value instead\n",
      "\n",
      "See the caveats in the documentation: https://pandas.pydata.org/pandas-docs/stable/user_guide/indexing.html#returning-a-view-versus-a-copy\n",
      "  \"\"\"Entry point for launching an IPython kernel.\n"
     ]
    }
   ],
   "source": [
    "sample_user['day'] = sample_user['event_time'].dt.day"
   ]
  },
  {
   "cell_type": "code",
   "execution_count": 113,
   "id": "6603260f",
   "metadata": {
    "ExecuteTime": {
     "end_time": "2022-09-25T15:02:08.129147Z",
     "start_time": "2022-09-25T15:02:07.876137Z"
    },
    "scrolled": true
   },
   "outputs": [
    {
     "data": {
      "image/png": "[encoded data removed]",
      "text/plain": [
       "<Figure size 1200x500 with 1 Axes>"
      ]
     },
     "metadata": {},
     "output_type": "display_data"
    }
   ],
   "source": [
    "days = sample_user.groupby('day')['event_type'].count().index\n",
    "counts = sample_user.groupby('day')['event_type'].count().values\n",
    "plt.figure(figsize=(12,5))\n",
    "plt.title('Sample User')\n",
    "sns.barplot(x=days, y=counts)\n",
    "plt.show()"
   ]
  },
  {
   "cell_type": "markdown",
   "id": "7f46d2c7",
   "metadata": {},
   "source": [
    "이 유저는 30일날 가장 많이 들어왔습니다.\n",
    "\n",
    "30일날 무엇을 했는지 확인해보겠습니다."
   ]
  },
  {
   "cell_type": "code",
   "execution_count": 114,
   "id": "a2a99f02",
   "metadata": {
    "ExecuteTime": {
     "end_time": "2022-09-25T15:02:09.631538Z",
     "start_time": "2022-09-25T15:02:09.623538Z"
    }
   },
   "outputs": [
    {
     "data": {
      "text/plain": [
       "(640, 13)"
      ]
     },
     "execution_count": 114,
     "metadata": {},
     "output_type": "execute_result"
    }
   ],
   "source": [
    "sample_user.loc[sample_user['day'] ==30].shape"
   ]
  },
  {
   "cell_type": "markdown",
   "id": "e14e72cb",
   "metadata": {},
   "source": [
    "30일날에 총 640번을 사이트를 방문했습니다.  \n",
    "'시'단위로 무엇을 했는지 확인해보겠습니다"
   ]
  },
  {
   "cell_type": "markdown",
   "id": "cefcd272",
   "metadata": {},
   "source": [
    "### 이 유저가 가장 많이 방문한 시각은?"
   ]
  },
  {
   "cell_type": "code",
   "execution_count": 115,
   "id": "637b9b18",
   "metadata": {
    "ExecuteTime": {
     "end_time": "2022-09-25T15:02:10.218477Z",
     "start_time": "2022-09-25T15:02:10.213481Z"
    }
   },
   "outputs": [
    {
     "name": "stderr",
     "output_type": "stream",
     "text": [
      "C:\\Users\\User\\anaconda3\\envs\\CP2\\lib\\site-packages\\ipykernel_launcher.py:1: SettingWithCopyWarning: \n",
      "A value is trying to be set on a copy of a slice from a DataFrame.\n",
      "Try using .loc[row_indexer,col_indexer] = value instead\n",
      "\n",
      "See the caveats in the documentation: https://pandas.pydata.org/pandas-docs/stable/user_guide/indexing.html#returning-a-view-versus-a-copy\n",
      "  \"\"\"Entry point for launching an IPython kernel.\n"
     ]
    }
   ],
   "source": [
    "sample_user['hour'] = sample_user['event_time'].dt.hour"
   ]
  },
  {
   "cell_type": "code",
   "execution_count": 116,
   "id": "f5a3c684",
   "metadata": {
    "ExecuteTime": {
     "end_time": "2022-09-25T15:02:10.819984Z",
     "start_time": "2022-09-25T15:02:10.806983Z"
    }
   },
   "outputs": [],
   "source": [
    "sample_user_day_30 = sample_user.loc[sample_user['day'] ==30]"
   ]
  },
  {
   "cell_type": "code",
   "execution_count": null,
   "id": "aa64932f",
   "metadata": {},
   "outputs": [],
   "source": []
  },
  {
   "cell_type": "code",
   "execution_count": 117,
   "id": "8cb7c5c3",
   "metadata": {
    "ExecuteTime": {
     "end_time": "2022-09-25T15:02:11.344947Z",
     "start_time": "2022-09-25T15:02:11.331947Z"
    }
   },
   "outputs": [
    {
     "data": {
      "text/plain": [
       "hour\n",
       "4      41\n",
       "6       2\n",
       "8      27\n",
       "9       6\n",
       "10     43\n",
       "12     22\n",
       "13     38\n",
       "14     56\n",
       "15     48\n",
       "16     50\n",
       "17    121\n",
       "18     33\n",
       "19     13\n",
       "20     34\n",
       "21     50\n",
       "22     42\n",
       "23     14\n",
       "Name: event_type, dtype: int64"
      ]
     },
     "execution_count": 117,
     "metadata": {},
     "output_type": "execute_result"
    }
   ],
   "source": [
    "sample_user_day_30.groupby('hour')['event_type'].count()"
   ]
  },
  {
   "cell_type": "markdown",
   "id": "3447e071",
   "metadata": {},
   "source": [
    "1, 2, 3시에는 활동이 없는것으로 확인됩니다. 0으로 채우겠습니다."
   ]
  },
  {
   "cell_type": "code",
   "execution_count": 118,
   "id": "e692592d",
   "metadata": {
    "ExecuteTime": {
     "end_time": "2022-09-25T15:02:11.899978Z",
     "start_time": "2022-09-25T15:02:11.886981Z"
    }
   },
   "outputs": [],
   "source": [
    "temp = pd.DataFrame(sample_user_day_30.groupby('hour')['event_type'].count())\n",
    "temp = temp.T\n",
    "for hour in [0,1,2,3,5,7,11]:\n",
    "    temp[hour] = 0\n",
    "temp = temp.T.sort_index()\n",
    "temp = temp.rename(columns={'event_type' : 'count'})\n",
    "temp = temp.reset_index()"
   ]
  },
  {
   "cell_type": "code",
   "execution_count": 119,
   "id": "7c318ba2",
   "metadata": {
    "ExecuteTime": {
     "end_time": "2022-09-25T15:02:12.740501Z",
     "start_time": "2022-09-25T15:02:12.426957Z"
    },
    "scrolled": true
   },
   "outputs": [
    {
     "data": {
      "image/png": "[encoded data removed]",
      "text/plain": [
       "<Figure size 1000x500 with 1 Axes>"
      ]
     },
     "metadata": {},
     "output_type": "display_data"
    }
   ],
   "source": [
    "plt.figure(figsize=(10,5))\n",
    "sns.barplot(data=temp, x='hour', y='count')\n",
    "plt.show()"
   ]
  },
  {
   "cell_type": "markdown",
   "id": "cffd7c2b",
   "metadata": {},
   "source": [
    "17시에 가장 많이 방문했습니다. 121 정도 방문했습니다."
   ]
  },
  {
   "cell_type": "markdown",
   "id": "8135589e",
   "metadata": {},
   "source": [
    "### 이 유저가 방문한 30일날 17시에는 어떤 활동은 했을까?"
   ]
  },
  {
   "cell_type": "code",
   "execution_count": 120,
   "id": "22a6e33c",
   "metadata": {
    "ExecuteTime": {
     "end_time": "2022-09-25T15:02:13.266064Z",
     "start_time": "2022-09-25T15:02:13.252970Z"
    }
   },
   "outputs": [],
   "source": [
    "sample_user_day_30_hour_17 =sample_user_day_30.loc[sample_user['hour'] == 17]"
   ]
  },
  {
   "cell_type": "code",
   "execution_count": 121,
   "id": "79b37e3a",
   "metadata": {
    "ExecuteTime": {
     "end_time": "2022-09-25T15:02:13.820969Z",
     "start_time": "2022-09-25T15:02:13.806968Z"
    }
   },
   "outputs": [
    {
     "data": {
      "text/plain": [
       "Timedelta('0 days 00:18:50')"
      ]
     },
     "execution_count": 121,
     "metadata": {},
     "output_type": "execute_result"
    }
   ],
   "source": [
    "sample_user_day_30_hour_17['event_time'].max() - sample_user_day_30_hour_17['event_time'].min()"
   ]
  },
  {
   "cell_type": "markdown",
   "id": "37e2c748",
   "metadata": {},
   "source": [
    "이 유저가 가장 많이 방문한 30일에 17시에는 총 18:50분 정도 접속을 했습니다."
   ]
  },
  {
   "cell_type": "code",
   "execution_count": 122,
   "id": "62c27269",
   "metadata": {
    "ExecuteTime": {
     "end_time": "2022-09-25T15:02:14.360974Z",
     "start_time": "2022-09-25T15:02:14.348971Z"
    },
    "scrolled": true
   },
   "outputs": [
    {
     "data": {
      "text/plain": [
       "view        121\n",
       "cart          0\n",
       "purchase      0\n",
       "Name: event_type, dtype: int64"
      ]
     },
     "execution_count": 122,
     "metadata": {},
     "output_type": "execute_result"
    }
   ],
   "source": [
    "sample_user_day_30_hour_17['event_type'].value_counts()"
   ]
  },
  {
   "cell_type": "markdown",
   "id": "be8a1a77",
   "metadata": {},
   "source": [
    "30일 17시에는 20분 정도 동안 제품을 보기만 했습니다.  \n",
    "장바구니에 담기나 구매가 일어나지 않았습니다."
   ]
  },
  {
   "cell_type": "markdown",
   "id": "09efb075",
   "metadata": {},
   "source": [
    "### 이 유저가 보고 있는 것은?"
   ]
  },
  {
   "cell_type": "code",
   "execution_count": 123,
   "id": "1a580223",
   "metadata": {
    "ExecuteTime": {
     "end_time": "2022-09-25T15:02:14.931264Z",
     "start_time": "2022-09-25T15:02:14.903264Z"
    }
   },
   "outputs": [
    {
     "data": {
      "text/html": [
       "<div>\n",
       "<style scoped>\n",
       "    .dataframe tbody tr th:only-of-type {\n",
       "        vertical-align: middle;\n",
       "    }\n",
       "\n",
       "    .dataframe tbody tr th {\n",
       "        vertical-align: top;\n",
       "    }\n",
       "\n",
       "    .dataframe thead th {\n",
       "        text-align: right;\n",
       "    }\n",
       "</style>\n",
       "<table border=\"1\" class=\"dataframe\">\n",
       "  <thead>\n",
       "    <tr style=\"text-align: right;\">\n",
       "      <th></th>\n",
       "      <th>event_time</th>\n",
       "      <th>event_type</th>\n",
       "      <th>product_id</th>\n",
       "      <th>category_id</th>\n",
       "      <th>category_code</th>\n",
       "      <th>brand</th>\n",
       "      <th>price</th>\n",
       "      <th>user_id</th>\n",
       "      <th>user_session</th>\n",
       "      <th>category1</th>\n",
       "      <th>category2</th>\n",
       "      <th>category3</th>\n",
       "      <th>day</th>\n",
       "      <th>hour</th>\n",
       "    </tr>\n",
       "  </thead>\n",
       "  <tbody>\n",
       "    <tr>\n",
       "      <th>40661825</th>\n",
       "      <td>2019-10-30 17:18:06</td>\n",
       "      <td>view</td>\n",
       "      <td>5701127</td>\n",
       "      <td>864026943</td>\n",
       "      <td>auto.accessories.player</td>\n",
       "      <td>pioneer</td>\n",
       "      <td>215.899994</td>\n",
       "      <td>512475445</td>\n",
       "      <td>faf6f994-546f-4109-a90f-e9efdc2eab2e</td>\n",
       "      <td>auto</td>\n",
       "      <td>accessories</td>\n",
       "      <td>player</td>\n",
       "      <td>30</td>\n",
       "      <td>17</td>\n",
       "    </tr>\n",
       "    <tr>\n",
       "      <th>40661945</th>\n",
       "      <td>2019-10-30 17:18:12</td>\n",
       "      <td>view</td>\n",
       "      <td>5700384</td>\n",
       "      <td>864026943</td>\n",
       "      <td>auto.accessories.player</td>\n",
       "      <td>pioneer</td>\n",
       "      <td>140.339996</td>\n",
       "      <td>512475445</td>\n",
       "      <td>731ad1ee-3de0-45bb-851f-aab68cb5c022</td>\n",
       "      <td>auto</td>\n",
       "      <td>accessories</td>\n",
       "      <td>player</td>\n",
       "      <td>30</td>\n",
       "      <td>17</td>\n",
       "    </tr>\n",
       "    <tr>\n",
       "      <th>40662059</th>\n",
       "      <td>2019-10-30 17:18:18</td>\n",
       "      <td>view</td>\n",
       "      <td>4700497</td>\n",
       "      <td>-796917039</td>\n",
       "      <td>auto.accessories.videoregister</td>\n",
       "      <td>NaN</td>\n",
       "      <td>149.279999</td>\n",
       "      <td>512475445</td>\n",
       "      <td>dda6489e-3cf1-49e3-a089-44e86eb4ebf8</td>\n",
       "      <td>auto</td>\n",
       "      <td>accessories</td>\n",
       "      <td>videoregister</td>\n",
       "      <td>30</td>\n",
       "      <td>17</td>\n",
       "    </tr>\n",
       "    <tr>\n",
       "      <th>40662145</th>\n",
       "      <td>2019-10-30 17:18:23</td>\n",
       "      <td>view</td>\n",
       "      <td>5800802</td>\n",
       "      <td>838861117</td>\n",
       "      <td>electronics.audio.subwoofer</td>\n",
       "      <td>kenwood</td>\n",
       "      <td>47.549999</td>\n",
       "      <td>512475445</td>\n",
       "      <td>69941b16-dd6d-43cc-98bd-7ef981f93867</td>\n",
       "      <td>electronics</td>\n",
       "      <td>audio</td>\n",
       "      <td>subwoofer</td>\n",
       "      <td>30</td>\n",
       "      <td>17</td>\n",
       "    </tr>\n",
       "    <tr>\n",
       "      <th>40662312</th>\n",
       "      <td>2019-10-30 17:18:33</td>\n",
       "      <td>view</td>\n",
       "      <td>5700793</td>\n",
       "      <td>864026943</td>\n",
       "      <td>auto.accessories.player</td>\n",
       "      <td>kenwood</td>\n",
       "      <td>182.589996</td>\n",
       "      <td>512475445</td>\n",
       "      <td>a00224d4-b5fb-473c-a7e7-e14ae7150d68</td>\n",
       "      <td>auto</td>\n",
       "      <td>accessories</td>\n",
       "      <td>player</td>\n",
       "      <td>30</td>\n",
       "      <td>17</td>\n",
       "    </tr>\n",
       "    <tr>\n",
       "      <th>...</th>\n",
       "      <td>...</td>\n",
       "      <td>...</td>\n",
       "      <td>...</td>\n",
       "      <td>...</td>\n",
       "      <td>...</td>\n",
       "      <td>...</td>\n",
       "      <td>...</td>\n",
       "      <td>...</td>\n",
       "      <td>...</td>\n",
       "      <td>...</td>\n",
       "      <td>...</td>\n",
       "      <td>...</td>\n",
       "      <td>...</td>\n",
       "      <td>...</td>\n",
       "    </tr>\n",
       "    <tr>\n",
       "      <th>40682342</th>\n",
       "      <td>2019-10-30 17:36:18</td>\n",
       "      <td>view</td>\n",
       "      <td>5801374</td>\n",
       "      <td>838861117</td>\n",
       "      <td>electronics.audio.subwoofer</td>\n",
       "      <td>edge</td>\n",
       "      <td>51.480000</td>\n",
       "      <td>512475445</td>\n",
       "      <td>df34f2e6-d993-40ee-a074-4efb3af7ac1f</td>\n",
       "      <td>electronics</td>\n",
       "      <td>audio</td>\n",
       "      <td>subwoofer</td>\n",
       "      <td>30</td>\n",
       "      <td>17</td>\n",
       "    </tr>\n",
       "    <tr>\n",
       "      <th>40682755</th>\n",
       "      <td>2019-10-30 17:36:40</td>\n",
       "      <td>view</td>\n",
       "      <td>6000207</td>\n",
       "      <td>-889191733</td>\n",
       "      <td>auto.accessories.alarm</td>\n",
       "      <td>starline</td>\n",
       "      <td>157.529999</td>\n",
       "      <td>512475445</td>\n",
       "      <td>8af471fd-b018-4317-a9d1-c035912f721a</td>\n",
       "      <td>auto</td>\n",
       "      <td>accessories</td>\n",
       "      <td>alarm</td>\n",
       "      <td>30</td>\n",
       "      <td>17</td>\n",
       "    </tr>\n",
       "    <tr>\n",
       "      <th>40682857</th>\n",
       "      <td>2019-10-30 17:36:46</td>\n",
       "      <td>view</td>\n",
       "      <td>6000227</td>\n",
       "      <td>-889191733</td>\n",
       "      <td>auto.accessories.alarm</td>\n",
       "      <td>starline</td>\n",
       "      <td>151.839996</td>\n",
       "      <td>512475445</td>\n",
       "      <td>82260eb3-0c90-4ef0-b839-72b8e75a0380</td>\n",
       "      <td>auto</td>\n",
       "      <td>accessories</td>\n",
       "      <td>alarm</td>\n",
       "      <td>30</td>\n",
       "      <td>17</td>\n",
       "    </tr>\n",
       "    <tr>\n",
       "      <th>40682963</th>\n",
       "      <td>2019-10-30 17:36:51</td>\n",
       "      <td>view</td>\n",
       "      <td>18400017</td>\n",
       "      <td>805306683</td>\n",
       "      <td>NaN</td>\n",
       "      <td>pioneer</td>\n",
       "      <td>101.680000</td>\n",
       "      <td>512475445</td>\n",
       "      <td>2843d0f8-1864-41f3-a693-52684b25bd00</td>\n",
       "      <td>NaN</td>\n",
       "      <td>NaN</td>\n",
       "      <td>NaN</td>\n",
       "      <td>30</td>\n",
       "      <td>17</td>\n",
       "    </tr>\n",
       "    <tr>\n",
       "      <th>40683064</th>\n",
       "      <td>2019-10-30 17:36:56</td>\n",
       "      <td>view</td>\n",
       "      <td>6100260</td>\n",
       "      <td>-830471473</td>\n",
       "      <td>auto.accessories.radar</td>\n",
       "      <td>magma</td>\n",
       "      <td>113.260002</td>\n",
       "      <td>512475445</td>\n",
       "      <td>aa22c3fa-04c7-475d-aa3b-def0eb927011</td>\n",
       "      <td>auto</td>\n",
       "      <td>accessories</td>\n",
       "      <td>radar</td>\n",
       "      <td>30</td>\n",
       "      <td>17</td>\n",
       "    </tr>\n",
       "  </tbody>\n",
       "</table>\n",
       "<p>121 rows × 14 columns</p>\n",
       "</div>"
      ],
      "text/plain": [
       "                  event_time event_type  product_id  category_id  \\\n",
       "40661825 2019-10-30 17:18:06       view     5701127    864026943   \n",
       "40661945 2019-10-30 17:18:12       view     5700384    864026943   \n",
       "40662059 2019-10-30 17:18:18       view     4700497   -796917039   \n",
       "40662145 2019-10-30 17:18:23       view     5800802    838861117   \n",
       "40662312 2019-10-30 17:18:33       view     5700793    864026943   \n",
       "...                      ...        ...         ...          ...   \n",
       "40682342 2019-10-30 17:36:18       view     5801374    838861117   \n",
       "40682755 2019-10-30 17:36:40       view     6000207   -889191733   \n",
       "40682857 2019-10-30 17:36:46       view     6000227   -889191733   \n",
       "40682963 2019-10-30 17:36:51       view    18400017    805306683   \n",
       "40683064 2019-10-30 17:36:56       view     6100260   -830471473   \n",
       "\n",
       "                           category_code     brand       price    user_id  \\\n",
       "40661825         auto.accessories.player   pioneer  215.899994  512475445   \n",
       "40661945         auto.accessories.player   pioneer  140.339996  512475445   \n",
       "40662059  auto.accessories.videoregister       NaN  149.279999  512475445   \n",
       "40662145     electronics.audio.subwoofer   kenwood   47.549999  512475445   \n",
       "40662312         auto.accessories.player   kenwood  182.589996  512475445   \n",
       "...                                  ...       ...         ...        ...   \n",
       "40682342     electronics.audio.subwoofer      edge   51.480000  512475445   \n",
       "40682755          auto.accessories.alarm  starline  157.529999  512475445   \n",
       "40682857          auto.accessories.alarm  starline  151.839996  512475445   \n",
       "40682963                             NaN   pioneer  101.680000  512475445   \n",
       "40683064          auto.accessories.radar     magma  113.260002  512475445   \n",
       "\n",
       "                                  user_session    category1    category2  \\\n",
       "40661825  faf6f994-546f-4109-a90f-e9efdc2eab2e         auto  accessories   \n",
       "40661945  731ad1ee-3de0-45bb-851f-aab68cb5c022         auto  accessories   \n",
       "40662059  dda6489e-3cf1-49e3-a089-44e86eb4ebf8         auto  accessories   \n",
       "40662145  69941b16-dd6d-43cc-98bd-7ef981f93867  electronics        audio   \n",
       "40662312  a00224d4-b5fb-473c-a7e7-e14ae7150d68         auto  accessories   \n",
       "...                                        ...          ...          ...   \n",
       "40682342  df34f2e6-d993-40ee-a074-4efb3af7ac1f  electronics        audio   \n",
       "40682755  8af471fd-b018-4317-a9d1-c035912f721a         auto  accessories   \n",
       "40682857  82260eb3-0c90-4ef0-b839-72b8e75a0380         auto  accessories   \n",
       "40682963  2843d0f8-1864-41f3-a693-52684b25bd00          NaN          NaN   \n",
       "40683064  aa22c3fa-04c7-475d-aa3b-def0eb927011         auto  accessories   \n",
       "\n",
       "              category3  day  hour  \n",
       "40661825         player   30    17  \n",
       "40661945         player   30    17  \n",
       "40662059  videoregister   30    17  \n",
       "40662145      subwoofer   30    17  \n",
       "40662312         player   30    17  \n",
       "...                 ...  ...   ...  \n",
       "40682342      subwoofer   30    17  \n",
       "40682755          alarm   30    17  \n",
       "40682857          alarm   30    17  \n",
       "40682963            NaN   30    17  \n",
       "40683064          radar   30    17  \n",
       "\n",
       "[121 rows x 14 columns]"
      ]
     },
     "execution_count": 123,
     "metadata": {},
     "output_type": "execute_result"
    }
   ],
   "source": [
    "sample_user_day_30_hour_17"
   ]
  },
  {
   "cell_type": "code",
   "execution_count": 124,
   "id": "48e3a364",
   "metadata": {
    "ExecuteTime": {
     "end_time": "2022-09-25T15:02:16.401277Z",
     "start_time": "2022-09-25T15:02:15.473264Z"
    }
   },
   "outputs": [
    {
     "data": {
      "text/plain": [
       "category_code                   brand   \n",
       "auto.accessories.player         pioneer     25\n",
       "                                kenwood      9\n",
       "auto.accessories.videoregister  sho-me       9\n",
       "auto.accessories.player         jvc          7\n",
       "auto.accessories.radar          sho-me       6\n",
       "electronics.audio.subwoofer     jbl          5\n",
       "                                pioneer      4\n",
       "                                jvc          4\n",
       "                                kenwood      3\n",
       "auto.accessories.alarm          starline     3\n",
       "Name: event_type, dtype: int64"
      ]
     },
     "execution_count": 124,
     "metadata": {},
     "output_type": "execute_result"
    }
   ],
   "source": [
    "sample_user_day_30_hour_17.groupby(['category_code','brand'])['event_type'].count().sort_values(ascending=False)[:10]"
   ]
  },
  {
   "cell_type": "markdown",
   "id": "ba13f2f1",
   "metadata": {},
   "source": [
    "이 유저는 플레이어나 스피커와 서브 우퍼와 같은 오디오 장비,  \n",
    "차량에 들어갈 블랙박스, 레이더 감지기(GPS?)를 검색했습니다."
   ]
  },
  {
   "cell_type": "code",
   "execution_count": 125,
   "id": "71da819e",
   "metadata": {
    "ExecuteTime": {
     "end_time": "2022-09-25T15:02:16.941278Z",
     "start_time": "2022-09-25T15:02:16.927277Z"
    },
    "scrolled": true
   },
   "outputs": [
    {
     "data": {
      "text/plain": [
       "77"
      ]
     },
     "execution_count": 125,
     "metadata": {},
     "output_type": "execute_result"
    }
   ],
   "source": [
    "sample_user_day_30_hour_17['product_id'].nunique()"
   ]
  },
  {
   "cell_type": "markdown",
   "id": "2d5924c9",
   "metadata": {},
   "source": [
    "이 유저는 18분 50초동안 총 77개의 제품을 보았지만 전환으로 이어지지 않았습니다."
   ]
  },
  {
   "cell_type": "markdown",
   "id": "13d10efb",
   "metadata": {},
   "source": [
    "### 이 유저가 전환이 일어났을까?"
   ]
  },
  {
   "cell_type": "code",
   "execution_count": 126,
   "id": "64691f3b",
   "metadata": {
    "ExecuteTime": {
     "end_time": "2022-09-25T15:02:17.481285Z",
     "start_time": "2022-09-25T15:02:17.468285Z"
    }
   },
   "outputs": [
    {
     "data": {
      "text/html": [
       "<div>\n",
       "<style scoped>\n",
       "    .dataframe tbody tr th:only-of-type {\n",
       "        vertical-align: middle;\n",
       "    }\n",
       "\n",
       "    .dataframe tbody tr th {\n",
       "        vertical-align: top;\n",
       "    }\n",
       "\n",
       "    .dataframe thead th {\n",
       "        text-align: right;\n",
       "    }\n",
       "</style>\n",
       "<table border=\"1\" class=\"dataframe\">\n",
       "  <thead>\n",
       "    <tr style=\"text-align: right;\">\n",
       "      <th></th>\n",
       "      <th>event_time</th>\n",
       "      <th>event_type</th>\n",
       "      <th>product_id</th>\n",
       "      <th>category_id</th>\n",
       "      <th>category_code</th>\n",
       "      <th>brand</th>\n",
       "      <th>price</th>\n",
       "      <th>user_id</th>\n",
       "      <th>user_session</th>\n",
       "      <th>category1</th>\n",
       "      <th>category2</th>\n",
       "      <th>category3</th>\n",
       "      <th>day</th>\n",
       "      <th>hour</th>\n",
       "    </tr>\n",
       "  </thead>\n",
       "  <tbody>\n",
       "  </tbody>\n",
       "</table>\n",
       "</div>"
      ],
      "text/plain": [
       "Empty DataFrame\n",
       "Columns: [event_time, event_type, product_id, category_id, category_code, brand, price, user_id, user_session, category1, category2, category3, day, hour]\n",
       "Index: []"
      ]
     },
     "execution_count": 126,
     "metadata": {},
     "output_type": "execute_result"
    }
   ],
   "source": [
    "sample_user[sample_user['event_type'] != 'view']"
   ]
  },
  {
   "cell_type": "markdown",
   "id": "8084df4a",
   "metadata": {},
   "source": [
    "10월달 동안 우리 사이트를 가장 많이 방문한 유저는 결국 전환이 일어나지 않았습니다."
   ]
  },
  {
   "cell_type": "markdown",
   "id": "333bd2bd",
   "metadata": {},
   "source": [
    "너무 많은 제품을 봐서 그런것일까요??  \n",
    "17시뿐만 아니라 30일 전체를 보겠습니다."
   ]
  },
  {
   "cell_type": "code",
   "execution_count": 127,
   "id": "7926c19f",
   "metadata": {
    "ExecuteTime": {
     "end_time": "2022-09-25T15:02:18.906798Z",
     "start_time": "2022-09-25T15:02:18.025803Z"
    },
    "scrolled": true
   },
   "outputs": [
    {
     "data": {
      "text/plain": [
       "category_code                   brand    \n",
       "auto.accessories.player         pioneer      152\n",
       "auto.accessories.videoregister  sho-me        75\n",
       "auto.accessories.player         kenwood       62\n",
       "electronics.audio.subwoofer     pioneer       32\n",
       "auto.accessories.radar          sho-me        24\n",
       "electronics.audio.subwoofer     jbl           24\n",
       "                                kenwood       20\n",
       "auto.accessories.player         jvc           16\n",
       "auto.accessories.alarm          starline      15\n",
       "auto.accessories.player         nakamichi     14\n",
       "Name: event_type, dtype: int64"
      ]
     },
     "execution_count": 127,
     "metadata": {},
     "output_type": "execute_result"
    }
   ],
   "source": [
    "sample_user_day_30.groupby(['category_code','brand'])['event_type'].count().sort_values(ascending=False)[:10]"
   ]
  },
  {
   "cell_type": "code",
   "execution_count": 128,
   "id": "973cbb6a",
   "metadata": {
    "ExecuteTime": {
     "end_time": "2022-09-25T15:02:19.446800Z",
     "start_time": "2022-09-25T15:02:19.433800Z"
    }
   },
   "outputs": [
    {
     "data": {
      "text/plain": [
       "106"
      ]
     },
     "execution_count": 128,
     "metadata": {},
     "output_type": "execute_result"
    }
   ],
   "source": [
    "sample_user_day_30['product_id'].nunique()"
   ]
  },
  {
   "cell_type": "markdown",
   "id": "aaba44e6",
   "metadata": {},
   "source": [
    "이 유저는 30일날에는 위에서 언급한 플레이어나 스피커와 서브 우퍼와 같은 오디오 장비,  \n",
    "차량에 들어갈 블랙박스, 레이더 감지기(GPS?)를 많이 보았습니다."
   ]
  },
  {
   "cell_type": "markdown",
   "id": "6fa7c15d",
   "metadata": {},
   "source": [
    "30일뿐만 아니라 10월 전체를 확인하겠습니다."
   ]
  },
  {
   "cell_type": "code",
   "execution_count": 129,
   "id": "8ff8f386",
   "metadata": {
    "ExecuteTime": {
     "end_time": "2022-09-25T15:02:20.976798Z",
     "start_time": "2022-09-25T15:02:19.972802Z"
    }
   },
   "outputs": [
    {
     "data": {
      "text/plain": [
       "category_code                   brand   \n",
       "auto.accessories.player         pioneer     1386\n",
       "auto.accessories.videoregister  sho-me       928\n",
       "auto.accessories.player         kenwood      749\n",
       "auto.accessories.radar          sho-me       383\n",
       "electronics.audio.subwoofer     pioneer      336\n",
       "auto.accessories.player         jvc          290\n",
       "electronics.audio.subwoofer     kenwood      273\n",
       "                                jbl          254\n",
       "                                jvc          215\n",
       "auto.accessories.alarm          starline     169\n",
       "Name: event_type, dtype: int64"
      ]
     },
     "execution_count": 129,
     "metadata": {},
     "output_type": "execute_result"
    }
   ],
   "source": [
    "sample_user.groupby(['category_code','brand'])['event_type'].count().sort_values(ascending=False)[:10]"
   ]
  },
  {
   "cell_type": "code",
   "execution_count": 130,
   "id": "3e789b81",
   "metadata": {
    "ExecuteTime": {
     "end_time": "2022-09-25T15:02:21.531801Z",
     "start_time": "2022-09-25T15:02:21.518802Z"
    },
    "scrolled": true
   },
   "outputs": [
    {
     "data": {
      "text/plain": [
       "153"
      ]
     },
     "execution_count": 130,
     "metadata": {},
     "output_type": "execute_result"
    }
   ],
   "source": [
    "sample_user['product_id'].nunique()"
   ]
  },
  {
   "cell_type": "markdown",
   "id": "90353906",
   "metadata": {},
   "source": [
    "결과적으로 이 유저는 10월 한달 동안\n",
    "- 오디오 장비 : 플레이어, 스피커, 서브 우퍼\n",
    "- 블랙박스, 레이더 감지기\n",
    "\n",
    "같은 제품을 153개를 보고, 7000번 이상 방문했지만 전환이 일어나지 않았습니다."
   ]
  },
  {
   "cell_type": "code",
   "execution_count": 131,
   "id": "a6762781",
   "metadata": {
    "ExecuteTime": {
     "end_time": "2022-09-25T15:02:22.071801Z",
     "start_time": "2022-09-25T15:02:22.058801Z"
    }
   },
   "outputs": [
    {
     "data": {
      "text/plain": [
       "7400"
      ]
     },
     "execution_count": 131,
     "metadata": {},
     "output_type": "execute_result"
    }
   ],
   "source": [
    "sample_user['user_session'].nunique()"
   ]
  },
  {
   "cell_type": "markdown",
   "id": "8cce4d99",
   "metadata": {},
   "source": [
    "## 가장 많이 구매한 유저는 누구인가?"
   ]
  },
  {
   "cell_type": "code",
   "execution_count": 136,
   "id": "67d62fdf",
   "metadata": {
    "ExecuteTime": {
     "end_time": "2022-09-25T15:03:53.695146Z",
     "start_time": "2022-09-25T15:03:53.324148Z"
    }
   },
   "outputs": [
    {
     "data": {
      "text/plain": [
       "512386086    322\n",
       "Name: user_id, dtype: int64"
      ]
     },
     "execution_count": 136,
     "metadata": {},
     "output_type": "execute_result"
    }
   ],
   "source": [
    "df.loc[df['event_type'] == 'purchase']['user_id'].value_counts()[:1]"
   ]
  },
  {
   "cell_type": "markdown",
   "id": "c52d0c57",
   "metadata": {},
   "source": [
    "## 가장 많이 구매한 유저의 행동은 어떠한가?"
   ]
  },
  {
   "cell_type": "code",
   "execution_count": 138,
   "id": "eec09d4b",
   "metadata": {
    "ExecuteTime": {
     "end_time": "2022-09-25T15:04:24.887009Z",
     "start_time": "2022-09-25T15:04:24.816013Z"
    }
   },
   "outputs": [
    {
     "data": {
      "text/html": [
       "<div>\n",
       "<style scoped>\n",
       "    .dataframe tbody tr th:only-of-type {\n",
       "        vertical-align: middle;\n",
       "    }\n",
       "\n",
       "    .dataframe tbody tr th {\n",
       "        vertical-align: top;\n",
       "    }\n",
       "\n",
       "    .dataframe thead th {\n",
       "        text-align: right;\n",
       "    }\n",
       "</style>\n",
       "<table border=\"1\" class=\"dataframe\">\n",
       "  <thead>\n",
       "    <tr style=\"text-align: right;\">\n",
       "      <th></th>\n",
       "      <th>event_time</th>\n",
       "      <th>event_type</th>\n",
       "      <th>product_id</th>\n",
       "      <th>category_id</th>\n",
       "      <th>category_code</th>\n",
       "      <th>brand</th>\n",
       "      <th>price</th>\n",
       "      <th>user_id</th>\n",
       "      <th>user_session</th>\n",
       "      <th>category1</th>\n",
       "      <th>category2</th>\n",
       "      <th>category3</th>\n",
       "    </tr>\n",
       "  </thead>\n",
       "  <tbody>\n",
       "    <tr>\n",
       "      <th>123116</th>\n",
       "      <td>2019-10-01 08:53:29</td>\n",
       "      <td>view</td>\n",
       "      <td>1801849</td>\n",
       "      <td>1308623195</td>\n",
       "      <td>electronics.video.tv</td>\n",
       "      <td>samsung</td>\n",
       "      <td>635.250000</td>\n",
       "      <td>512386086</td>\n",
       "      <td>cbf82c5f-b327-4457-a8ca-b547a044478a</td>\n",
       "      <td>electronics</td>\n",
       "      <td>video</td>\n",
       "      <td>tv</td>\n",
       "    </tr>\n",
       "    <tr>\n",
       "      <th>127426</th>\n",
       "      <td>2019-10-01 08:58:31</td>\n",
       "      <td>purchase</td>\n",
       "      <td>1801849</td>\n",
       "      <td>1308623195</td>\n",
       "      <td>electronics.video.tv</td>\n",
       "      <td>samsung</td>\n",
       "      <td>635.250000</td>\n",
       "      <td>512386086</td>\n",
       "      <td>cbf82c5f-b327-4457-a8ca-b547a044478a</td>\n",
       "      <td>electronics</td>\n",
       "      <td>video</td>\n",
       "      <td>tv</td>\n",
       "    </tr>\n",
       "    <tr>\n",
       "      <th>156599</th>\n",
       "      <td>2019-10-01 09:27:14</td>\n",
       "      <td>view</td>\n",
       "      <td>2701735</td>\n",
       "      <td>-2080373895</td>\n",
       "      <td>appliances.kitchen.refrigerators</td>\n",
       "      <td>lg</td>\n",
       "      <td>1297.189941</td>\n",
       "      <td>512386086</td>\n",
       "      <td>4b165444-6f67-437d-8741-a1dfb20e8035</td>\n",
       "      <td>appliances</td>\n",
       "      <td>kitchen</td>\n",
       "      <td>refrigerators</td>\n",
       "    </tr>\n",
       "    <tr>\n",
       "      <th>162012</th>\n",
       "      <td>2019-10-01 09:32:04</td>\n",
       "      <td>purchase</td>\n",
       "      <td>2701735</td>\n",
       "      <td>-2080373895</td>\n",
       "      <td>appliances.kitchen.refrigerators</td>\n",
       "      <td>lg</td>\n",
       "      <td>1297.189941</td>\n",
       "      <td>512386086</td>\n",
       "      <td>4b165444-6f67-437d-8741-a1dfb20e8035</td>\n",
       "      <td>appliances</td>\n",
       "      <td>kitchen</td>\n",
       "      <td>refrigerators</td>\n",
       "    </tr>\n",
       "    <tr>\n",
       "      <th>323331</th>\n",
       "      <td>2019-10-01 11:54:46</td>\n",
       "      <td>view</td>\n",
       "      <td>1004856</td>\n",
       "      <td>-1769995873</td>\n",
       "      <td>electronics.smartphone</td>\n",
       "      <td>samsung</td>\n",
       "      <td>130.699997</td>\n",
       "      <td>512386086</td>\n",
       "      <td>0a42fbf3-7654-44fc-8a0e-698c821c056c</td>\n",
       "      <td>electronics</td>\n",
       "      <td>smartphone</td>\n",
       "      <td>None</td>\n",
       "    </tr>\n",
       "    <tr>\n",
       "      <th>...</th>\n",
       "      <td>...</td>\n",
       "      <td>...</td>\n",
       "      <td>...</td>\n",
       "      <td>...</td>\n",
       "      <td>...</td>\n",
       "      <td>...</td>\n",
       "      <td>...</td>\n",
       "      <td>...</td>\n",
       "      <td>...</td>\n",
       "      <td>...</td>\n",
       "      <td>...</td>\n",
       "      <td>...</td>\n",
       "    </tr>\n",
       "    <tr>\n",
       "      <th>41580498</th>\n",
       "      <td>2019-10-31 12:31:12</td>\n",
       "      <td>view</td>\n",
       "      <td>1801555</td>\n",
       "      <td>1308623195</td>\n",
       "      <td>electronics.video.tv</td>\n",
       "      <td>lg</td>\n",
       "      <td>459.160004</td>\n",
       "      <td>512386086</td>\n",
       "      <td>09a07c34-31a0-49f3-b344-a3e8687c8fcf</td>\n",
       "      <td>electronics</td>\n",
       "      <td>video</td>\n",
       "      <td>tv</td>\n",
       "    </tr>\n",
       "    <tr>\n",
       "      <th>41582338</th>\n",
       "      <td>2019-10-31 12:32:48</td>\n",
       "      <td>purchase</td>\n",
       "      <td>1801555</td>\n",
       "      <td>1308623195</td>\n",
       "      <td>electronics.video.tv</td>\n",
       "      <td>lg</td>\n",
       "      <td>459.160004</td>\n",
       "      <td>512386086</td>\n",
       "      <td>09a07c34-31a0-49f3-b344-a3e8687c8fcf</td>\n",
       "      <td>electronics</td>\n",
       "      <td>video</td>\n",
       "      <td>tv</td>\n",
       "    </tr>\n",
       "    <tr>\n",
       "      <th>41671171</th>\n",
       "      <td>2019-10-31 13:49:55</td>\n",
       "      <td>view</td>\n",
       "      <td>1004836</td>\n",
       "      <td>-1769995873</td>\n",
       "      <td>electronics.smartphone</td>\n",
       "      <td>samsung</td>\n",
       "      <td>229.899994</td>\n",
       "      <td>512386086</td>\n",
       "      <td>9267b177-d20d-488a-b919-562bf2971777</td>\n",
       "      <td>electronics</td>\n",
       "      <td>smartphone</td>\n",
       "      <td>None</td>\n",
       "    </tr>\n",
       "    <tr>\n",
       "      <th>41671262</th>\n",
       "      <td>2019-10-31 13:50:00</td>\n",
       "      <td>cart</td>\n",
       "      <td>1004836</td>\n",
       "      <td>-1769995873</td>\n",
       "      <td>electronics.smartphone</td>\n",
       "      <td>samsung</td>\n",
       "      <td>229.899994</td>\n",
       "      <td>512386086</td>\n",
       "      <td>9267b177-d20d-488a-b919-562bf2971777</td>\n",
       "      <td>electronics</td>\n",
       "      <td>smartphone</td>\n",
       "      <td>None</td>\n",
       "    </tr>\n",
       "    <tr>\n",
       "      <th>41675900</th>\n",
       "      <td>2019-10-31 13:53:58</td>\n",
       "      <td>purchase</td>\n",
       "      <td>1004836</td>\n",
       "      <td>-1769995873</td>\n",
       "      <td>electronics.smartphone</td>\n",
       "      <td>samsung</td>\n",
       "      <td>229.899994</td>\n",
       "      <td>512386086</td>\n",
       "      <td>9267b177-d20d-488a-b919-562bf2971777</td>\n",
       "      <td>electronics</td>\n",
       "      <td>smartphone</td>\n",
       "      <td>None</td>\n",
       "    </tr>\n",
       "  </tbody>\n",
       "</table>\n",
       "<p>1119 rows × 12 columns</p>\n",
       "</div>"
      ],
      "text/plain": [
       "                  event_time event_type  product_id  category_id  \\\n",
       "123116   2019-10-01 08:53:29       view     1801849   1308623195   \n",
       "127426   2019-10-01 08:58:31   purchase     1801849   1308623195   \n",
       "156599   2019-10-01 09:27:14       view     2701735  -2080373895   \n",
       "162012   2019-10-01 09:32:04   purchase     2701735  -2080373895   \n",
       "323331   2019-10-01 11:54:46       view     1004856  -1769995873   \n",
       "...                      ...        ...         ...          ...   \n",
       "41580498 2019-10-31 12:31:12       view     1801555   1308623195   \n",
       "41582338 2019-10-31 12:32:48   purchase     1801555   1308623195   \n",
       "41671171 2019-10-31 13:49:55       view     1004836  -1769995873   \n",
       "41671262 2019-10-31 13:50:00       cart     1004836  -1769995873   \n",
       "41675900 2019-10-31 13:53:58   purchase     1004836  -1769995873   \n",
       "\n",
       "                             category_code    brand        price    user_id  \\\n",
       "123116                electronics.video.tv  samsung   635.250000  512386086   \n",
       "127426                electronics.video.tv  samsung   635.250000  512386086   \n",
       "156599    appliances.kitchen.refrigerators       lg  1297.189941  512386086   \n",
       "162012    appliances.kitchen.refrigerators       lg  1297.189941  512386086   \n",
       "323331              electronics.smartphone  samsung   130.699997  512386086   \n",
       "...                                    ...      ...          ...        ...   \n",
       "41580498              electronics.video.tv       lg   459.160004  512386086   \n",
       "41582338              electronics.video.tv       lg   459.160004  512386086   \n",
       "41671171            electronics.smartphone  samsung   229.899994  512386086   \n",
       "41671262            electronics.smartphone  samsung   229.899994  512386086   \n",
       "41675900            electronics.smartphone  samsung   229.899994  512386086   \n",
       "\n",
       "                                  user_session    category1   category2  \\\n",
       "123116    cbf82c5f-b327-4457-a8ca-b547a044478a  electronics       video   \n",
       "127426    cbf82c5f-b327-4457-a8ca-b547a044478a  electronics       video   \n",
       "156599    4b165444-6f67-437d-8741-a1dfb20e8035   appliances     kitchen   \n",
       "162012    4b165444-6f67-437d-8741-a1dfb20e8035   appliances     kitchen   \n",
       "323331    0a42fbf3-7654-44fc-8a0e-698c821c056c  electronics  smartphone   \n",
       "...                                        ...          ...         ...   \n",
       "41580498  09a07c34-31a0-49f3-b344-a3e8687c8fcf  electronics       video   \n",
       "41582338  09a07c34-31a0-49f3-b344-a3e8687c8fcf  electronics       video   \n",
       "41671171  9267b177-d20d-488a-b919-562bf2971777  electronics  smartphone   \n",
       "41671262  9267b177-d20d-488a-b919-562bf2971777  electronics  smartphone   \n",
       "41675900  9267b177-d20d-488a-b919-562bf2971777  electronics  smartphone   \n",
       "\n",
       "              category3  \n",
       "123116               tv  \n",
       "127426               tv  \n",
       "156599    refrigerators  \n",
       "162012    refrigerators  \n",
       "323331             None  \n",
       "...                 ...  \n",
       "41580498             tv  \n",
       "41582338             tv  \n",
       "41671171           None  \n",
       "41671262           None  \n",
       "41675900           None  \n",
       "\n",
       "[1119 rows x 12 columns]"
      ]
     },
     "execution_count": 138,
     "metadata": {},
     "output_type": "execute_result"
    }
   ],
   "source": [
    "purchase_user = df.loc[df['user_id'] == 512386086]\n",
    "purchase_user"
   ]
  },
  {
   "cell_type": "markdown",
   "id": "42b3b246",
   "metadata": {},
   "source": [
    "가장 많이 구매를 한 유저(512386086)는 10월에 총 1119번 방문하였습니다."
   ]
  },
  {
   "cell_type": "code",
   "execution_count": 139,
   "id": "93074554",
   "metadata": {
    "ExecuteTime": {
     "end_time": "2022-09-25T15:09:00.406700Z",
     "start_time": "2022-09-25T15:09:00.395701Z"
    }
   },
   "outputs": [
    {
     "data": {
      "text/plain": [
       "view        630\n",
       "purchase    322\n",
       "cart        167\n",
       "Name: event_type, dtype: int64"
      ]
     },
     "execution_count": 139,
     "metadata": {},
     "output_type": "execute_result"
    }
   ],
   "source": [
    "purchase_user['event_type'].value_counts()"
   ]
  },
  {
   "cell_type": "markdown",
   "id": "278b7b2f",
   "metadata": {},
   "source": [
    "이 유저는 10월에 630번을 제품을 보았고, 322번을 구매하였고, 167번 제품을 장바구니에 담았습니다."
   ]
  },
  {
   "cell_type": "markdown",
   "id": "6cdca054",
   "metadata": {},
   "source": [
    "### 이 유저가 가장 많이 접속한 날은 언제일까?"
   ]
  },
  {
   "cell_type": "code",
   "execution_count": 140,
   "id": "a194fcff",
   "metadata": {
    "ExecuteTime": {
     "end_time": "2022-09-25T15:10:40.111750Z",
     "start_time": "2022-09-25T15:10:40.094750Z"
    }
   },
   "outputs": [
    {
     "name": "stderr",
     "output_type": "stream",
     "text": [
      "C:\\Users\\User\\anaconda3\\envs\\CP2\\lib\\site-packages\\ipykernel_launcher.py:1: SettingWithCopyWarning: \n",
      "A value is trying to be set on a copy of a slice from a DataFrame.\n",
      "Try using .loc[row_indexer,col_indexer] = value instead\n",
      "\n",
      "See the caveats in the documentation: https://pandas.pydata.org/pandas-docs/stable/user_guide/indexing.html#returning-a-view-versus-a-copy\n",
      "  \"\"\"Entry point for launching an IPython kernel.\n"
     ]
    }
   ],
   "source": [
    "purchase_user['day'] = purchase_user['event_time'].dt.day"
   ]
  },
  {
   "cell_type": "code",
   "execution_count": 143,
   "id": "7ff2a806",
   "metadata": {
    "ExecuteTime": {
     "end_time": "2022-09-25T15:11:10.447387Z",
     "start_time": "2022-09-25T15:11:10.190487Z"
    }
   },
   "outputs": [
    {
     "data": {
      "image/png": "[encoded data removed]",
      "text/plain": [
       "<Figure size 1200x500 with 1 Axes>"
      ]
     },
     "metadata": {},
     "output_type": "display_data"
    }
   ],
   "source": [
    "days = purchase_user.groupby('day')['event_type'].count().index\n",
    "counts = purchase_user.groupby('day')['event_type'].count().values\n",
    "plt.figure(figsize=(12,5))\n",
    "sns.barplot(x=days, y=counts)\n",
    "plt.show()"
   ]
  },
  {
   "cell_type": "markdown",
   "id": "0ac930e6",
   "metadata": {},
   "source": [
    "이 유저는 21일날에 가장 많이 방문했습니다."
   ]
  },
  {
   "cell_type": "markdown",
   "id": "5f8e2580",
   "metadata": {},
   "source": [
    "### 이 유저가 가장 많이 view, purchase, cart 한날은 언제일까?"
   ]
  },
  {
   "cell_type": "code",
   "execution_count": 149,
   "id": "ea3b8f58",
   "metadata": {
    "ExecuteTime": {
     "end_time": "2022-09-25T15:16:32.656155Z",
     "start_time": "2022-09-25T15:16:32.247118Z"
    },
    "scrolled": true
   },
   "outputs": [
    {
     "data": {
      "image/png": "[encoded data removed]",
      "text/plain": [
       "<Figure size 1200x500 with 1 Axes>"
      ]
     },
     "metadata": {},
     "output_type": "display_data"
    }
   ],
   "source": [
    "plt.figure(figsize=(12,5))\n",
    "sns.countplot(data=purchase_user, x='day', hue='event_type')\n",
    "plt.show()"
   ]
  },
  {
   "cell_type": "markdown",
   "id": "5b0df336",
   "metadata": {},
   "source": [
    "위에서 보았던 21일에 가장 많은 방문을 했지만 가장 구매가 많이 일어나지는 않았습니다.  \n",
    "17일에는 cart한 날이 가장 많습니다.  \n",
    "29일에는 가장 구매가 많이 일어났습니다."
   ]
  },
  {
   "cell_type": "markdown",
   "id": "a0859338",
   "metadata": {},
   "source": [
    "#### 21일 확인"
   ]
  },
  {
   "cell_type": "code",
   "execution_count": 151,
   "id": "b4bf54ce",
   "metadata": {
    "ExecuteTime": {
     "end_time": "2022-09-25T15:20:48.126832Z",
     "start_time": "2022-09-25T15:20:48.112834Z"
    }
   },
   "outputs": [
    {
     "name": "stderr",
     "output_type": "stream",
     "text": [
      "C:\\Users\\User\\anaconda3\\envs\\CP2\\lib\\site-packages\\ipykernel_launcher.py:1: SettingWithCopyWarning: \n",
      "A value is trying to be set on a copy of a slice from a DataFrame.\n",
      "Try using .loc[row_indexer,col_indexer] = value instead\n",
      "\n",
      "See the caveats in the documentation: https://pandas.pydata.org/pandas-docs/stable/user_guide/indexing.html#returning-a-view-versus-a-copy\n",
      "  \"\"\"Entry point for launching an IPython kernel.\n"
     ]
    }
   ],
   "source": [
    "purchase_user['hour'] = purchase_user['event_time'].dt.hour"
   ]
  },
  {
   "cell_type": "code",
   "execution_count": 153,
   "id": "8ca3f43c",
   "metadata": {
    "ExecuteTime": {
     "end_time": "2022-09-25T15:21:49.011757Z",
     "start_time": "2022-09-25T15:21:48.997760Z"
    }
   },
   "outputs": [],
   "source": [
    "purchase_user_day_21 = purchase_user.loc[purchase_user['day']==21]"
   ]
  },
  {
   "cell_type": "code",
   "execution_count": 154,
   "id": "4f4df135",
   "metadata": {
    "ExecuteTime": {
     "end_time": "2022-09-25T15:21:51.265662Z",
     "start_time": "2022-09-25T15:21:51.243663Z"
    }
   },
   "outputs": [
    {
     "data": {
      "text/html": [
       "<div>\n",
       "<style scoped>\n",
       "    .dataframe tbody tr th:only-of-type {\n",
       "        vertical-align: middle;\n",
       "    }\n",
       "\n",
       "    .dataframe tbody tr th {\n",
       "        vertical-align: top;\n",
       "    }\n",
       "\n",
       "    .dataframe thead th {\n",
       "        text-align: right;\n",
       "    }\n",
       "</style>\n",
       "<table border=\"1\" class=\"dataframe\">\n",
       "  <thead>\n",
       "    <tr style=\"text-align: right;\">\n",
       "      <th></th>\n",
       "      <th>event_time</th>\n",
       "      <th>event_type</th>\n",
       "      <th>product_id</th>\n",
       "      <th>category_id</th>\n",
       "      <th>category_code</th>\n",
       "      <th>brand</th>\n",
       "      <th>price</th>\n",
       "      <th>user_id</th>\n",
       "      <th>user_session</th>\n",
       "      <th>category1</th>\n",
       "      <th>category2</th>\n",
       "      <th>category3</th>\n",
       "      <th>day</th>\n",
       "      <th>hour</th>\n",
       "    </tr>\n",
       "  </thead>\n",
       "  <tbody>\n",
       "    <tr>\n",
       "      <th>27929532</th>\n",
       "      <td>2019-10-21 07:42:08</td>\n",
       "      <td>view</td>\n",
       "      <td>1004226</td>\n",
       "      <td>-1769995873</td>\n",
       "      <td>electronics.smartphone</td>\n",
       "      <td>apple</td>\n",
       "      <td>1000.030029</td>\n",
       "      <td>512386086</td>\n",
       "      <td>91b2e5fd-6073-42c8-843d-c8434521bd07</td>\n",
       "      <td>electronics</td>\n",
       "      <td>smartphone</td>\n",
       "      <td>None</td>\n",
       "      <td>21</td>\n",
       "      <td>7</td>\n",
       "    </tr>\n",
       "    <tr>\n",
       "      <th>27929627</th>\n",
       "      <td>2019-10-21 07:42:15</td>\n",
       "      <td>cart</td>\n",
       "      <td>1004226</td>\n",
       "      <td>-1769995873</td>\n",
       "      <td>electronics.smartphone</td>\n",
       "      <td>apple</td>\n",
       "      <td>1000.030029</td>\n",
       "      <td>512386086</td>\n",
       "      <td>91b2e5fd-6073-42c8-843d-c8434521bd07</td>\n",
       "      <td>electronics</td>\n",
       "      <td>smartphone</td>\n",
       "      <td>None</td>\n",
       "      <td>21</td>\n",
       "      <td>7</td>\n",
       "    </tr>\n",
       "    <tr>\n",
       "      <th>27930778</th>\n",
       "      <td>2019-10-21 07:43:28</td>\n",
       "      <td>purchase</td>\n",
       "      <td>1004226</td>\n",
       "      <td>-1769995873</td>\n",
       "      <td>electronics.smartphone</td>\n",
       "      <td>apple</td>\n",
       "      <td>1000.030029</td>\n",
       "      <td>512386086</td>\n",
       "      <td>91b2e5fd-6073-42c8-843d-c8434521bd07</td>\n",
       "      <td>electronics</td>\n",
       "      <td>smartphone</td>\n",
       "      <td>None</td>\n",
       "      <td>21</td>\n",
       "      <td>7</td>\n",
       "    </tr>\n",
       "    <tr>\n",
       "      <th>27931212</th>\n",
       "      <td>2019-10-21 07:43:54</td>\n",
       "      <td>view</td>\n",
       "      <td>1004226</td>\n",
       "      <td>-1769995873</td>\n",
       "      <td>electronics.smartphone</td>\n",
       "      <td>apple</td>\n",
       "      <td>1000.030029</td>\n",
       "      <td>512386086</td>\n",
       "      <td>91b2e5fd-6073-42c8-843d-c8434521bd07</td>\n",
       "      <td>electronics</td>\n",
       "      <td>smartphone</td>\n",
       "      <td>None</td>\n",
       "      <td>21</td>\n",
       "      <td>7</td>\n",
       "    </tr>\n",
       "    <tr>\n",
       "      <th>27931838</th>\n",
       "      <td>2019-10-21 07:44:31</td>\n",
       "      <td>view</td>\n",
       "      <td>4201541</td>\n",
       "      <td>-754974501</td>\n",
       "      <td>appliances.environment.air_conditioner</td>\n",
       "      <td>artel</td>\n",
       "      <td>898.349976</td>\n",
       "      <td>512386086</td>\n",
       "      <td>91b2e5fd-6073-42c8-843d-c8434521bd07</td>\n",
       "      <td>appliances</td>\n",
       "      <td>environment</td>\n",
       "      <td>air_conditioner</td>\n",
       "      <td>21</td>\n",
       "      <td>7</td>\n",
       "    </tr>\n",
       "    <tr>\n",
       "      <th>...</th>\n",
       "      <td>...</td>\n",
       "      <td>...</td>\n",
       "      <td>...</td>\n",
       "      <td>...</td>\n",
       "      <td>...</td>\n",
       "      <td>...</td>\n",
       "      <td>...</td>\n",
       "      <td>...</td>\n",
       "      <td>...</td>\n",
       "      <td>...</td>\n",
       "      <td>...</td>\n",
       "      <td>...</td>\n",
       "      <td>...</td>\n",
       "      <td>...</td>\n",
       "    </tr>\n",
       "    <tr>\n",
       "      <th>28487071</th>\n",
       "      <td>2019-10-21 15:47:15</td>\n",
       "      <td>view</td>\n",
       "      <td>1004225</td>\n",
       "      <td>-1769995873</td>\n",
       "      <td>electronics.smartphone</td>\n",
       "      <td>apple</td>\n",
       "      <td>1003.539978</td>\n",
       "      <td>512386086</td>\n",
       "      <td>11b214dd-9762-4acf-9ce5-fc677d7d10b1</td>\n",
       "      <td>electronics</td>\n",
       "      <td>smartphone</td>\n",
       "      <td>None</td>\n",
       "      <td>21</td>\n",
       "      <td>15</td>\n",
       "    </tr>\n",
       "    <tr>\n",
       "      <th>28487221</th>\n",
       "      <td>2019-10-21 15:47:23</td>\n",
       "      <td>view</td>\n",
       "      <td>1004225</td>\n",
       "      <td>-1769995873</td>\n",
       "      <td>electronics.smartphone</td>\n",
       "      <td>apple</td>\n",
       "      <td>1003.539978</td>\n",
       "      <td>512386086</td>\n",
       "      <td>11b214dd-9762-4acf-9ce5-fc677d7d10b1</td>\n",
       "      <td>electronics</td>\n",
       "      <td>smartphone</td>\n",
       "      <td>None</td>\n",
       "      <td>21</td>\n",
       "      <td>15</td>\n",
       "    </tr>\n",
       "    <tr>\n",
       "      <th>28488789</th>\n",
       "      <td>2019-10-21 15:48:40</td>\n",
       "      <td>view</td>\n",
       "      <td>1004227</td>\n",
       "      <td>-1769995873</td>\n",
       "      <td>electronics.smartphone</td>\n",
       "      <td>apple</td>\n",
       "      <td>1003.059998</td>\n",
       "      <td>512386086</td>\n",
       "      <td>11b214dd-9762-4acf-9ce5-fc677d7d10b1</td>\n",
       "      <td>electronics</td>\n",
       "      <td>smartphone</td>\n",
       "      <td>None</td>\n",
       "      <td>21</td>\n",
       "      <td>15</td>\n",
       "    </tr>\n",
       "    <tr>\n",
       "      <th>28488865</th>\n",
       "      <td>2019-10-21 15:48:44</td>\n",
       "      <td>cart</td>\n",
       "      <td>1004227</td>\n",
       "      <td>-1769995873</td>\n",
       "      <td>electronics.smartphone</td>\n",
       "      <td>apple</td>\n",
       "      <td>1003.059998</td>\n",
       "      <td>512386086</td>\n",
       "      <td>11b214dd-9762-4acf-9ce5-fc677d7d10b1</td>\n",
       "      <td>electronics</td>\n",
       "      <td>smartphone</td>\n",
       "      <td>None</td>\n",
       "      <td>21</td>\n",
       "      <td>15</td>\n",
       "    </tr>\n",
       "    <tr>\n",
       "      <th>28492553</th>\n",
       "      <td>2019-10-21 15:51:41</td>\n",
       "      <td>purchase</td>\n",
       "      <td>1004227</td>\n",
       "      <td>-1769995873</td>\n",
       "      <td>electronics.smartphone</td>\n",
       "      <td>apple</td>\n",
       "      <td>1003.059998</td>\n",
       "      <td>512386086</td>\n",
       "      <td>11b214dd-9762-4acf-9ce5-fc677d7d10b1</td>\n",
       "      <td>electronics</td>\n",
       "      <td>smartphone</td>\n",
       "      <td>None</td>\n",
       "      <td>21</td>\n",
       "      <td>15</td>\n",
       "    </tr>\n",
       "  </tbody>\n",
       "</table>\n",
       "<p>77 rows × 14 columns</p>\n",
       "</div>"
      ],
      "text/plain": [
       "                  event_time event_type  product_id  category_id  \\\n",
       "27929532 2019-10-21 07:42:08       view     1004226  -1769995873   \n",
       "27929627 2019-10-21 07:42:15       cart     1004226  -1769995873   \n",
       "27930778 2019-10-21 07:43:28   purchase     1004226  -1769995873   \n",
       "27931212 2019-10-21 07:43:54       view     1004226  -1769995873   \n",
       "27931838 2019-10-21 07:44:31       view     4201541   -754974501   \n",
       "...                      ...        ...         ...          ...   \n",
       "28487071 2019-10-21 15:47:15       view     1004225  -1769995873   \n",
       "28487221 2019-10-21 15:47:23       view     1004225  -1769995873   \n",
       "28488789 2019-10-21 15:48:40       view     1004227  -1769995873   \n",
       "28488865 2019-10-21 15:48:44       cart     1004227  -1769995873   \n",
       "28492553 2019-10-21 15:51:41   purchase     1004227  -1769995873   \n",
       "\n",
       "                                   category_code  brand        price  \\\n",
       "27929532                  electronics.smartphone  apple  1000.030029   \n",
       "27929627                  electronics.smartphone  apple  1000.030029   \n",
       "27930778                  electronics.smartphone  apple  1000.030029   \n",
       "27931212                  electronics.smartphone  apple  1000.030029   \n",
       "27931838  appliances.environment.air_conditioner  artel   898.349976   \n",
       "...                                          ...    ...          ...   \n",
       "28487071                  electronics.smartphone  apple  1003.539978   \n",
       "28487221                  electronics.smartphone  apple  1003.539978   \n",
       "28488789                  electronics.smartphone  apple  1003.059998   \n",
       "28488865                  electronics.smartphone  apple  1003.059998   \n",
       "28492553                  electronics.smartphone  apple  1003.059998   \n",
       "\n",
       "            user_id                          user_session    category1  \\\n",
       "27929532  512386086  91b2e5fd-6073-42c8-843d-c8434521bd07  electronics   \n",
       "27929627  512386086  91b2e5fd-6073-42c8-843d-c8434521bd07  electronics   \n",
       "27930778  512386086  91b2e5fd-6073-42c8-843d-c8434521bd07  electronics   \n",
       "27931212  512386086  91b2e5fd-6073-42c8-843d-c8434521bd07  electronics   \n",
       "27931838  512386086  91b2e5fd-6073-42c8-843d-c8434521bd07   appliances   \n",
       "...             ...                                   ...          ...   \n",
       "28487071  512386086  11b214dd-9762-4acf-9ce5-fc677d7d10b1  electronics   \n",
       "28487221  512386086  11b214dd-9762-4acf-9ce5-fc677d7d10b1  electronics   \n",
       "28488789  512386086  11b214dd-9762-4acf-9ce5-fc677d7d10b1  electronics   \n",
       "28488865  512386086  11b214dd-9762-4acf-9ce5-fc677d7d10b1  electronics   \n",
       "28492553  512386086  11b214dd-9762-4acf-9ce5-fc677d7d10b1  electronics   \n",
       "\n",
       "            category2        category3  day  hour  \n",
       "27929532   smartphone             None   21     7  \n",
       "27929627   smartphone             None   21     7  \n",
       "27930778   smartphone             None   21     7  \n",
       "27931212   smartphone             None   21     7  \n",
       "27931838  environment  air_conditioner   21     7  \n",
       "...               ...              ...  ...   ...  \n",
       "28487071   smartphone             None   21    15  \n",
       "28487221   smartphone             None   21    15  \n",
       "28488789   smartphone             None   21    15  \n",
       "28488865   smartphone             None   21    15  \n",
       "28492553   smartphone             None   21    15  \n",
       "\n",
       "[77 rows x 14 columns]"
      ]
     },
     "execution_count": 154,
     "metadata": {},
     "output_type": "execute_result"
    }
   ],
   "source": [
    "purchase_user_day_21"
   ]
  },
  {
   "cell_type": "code",
   "execution_count": 157,
   "id": "49ffaaa6",
   "metadata": {
    "ExecuteTime": {
     "end_time": "2022-09-25T15:23:20.630576Z",
     "start_time": "2022-09-25T15:23:20.458576Z"
    }
   },
   "outputs": [
    {
     "data": {
      "image/png": "[encoded data removed]",
      "text/plain": [
       "<Figure size 1000x500 with 1 Axes>"
      ]
     },
     "metadata": {},
     "output_type": "display_data"
    }
   ],
   "source": [
    "plt.figure(figsize=(10,5))\n",
    "sns.countplot(data=purchase_user_day_21, x='hour', hue='event_type')\n",
    "plt.show()"
   ]
  },
  {
   "cell_type": "markdown",
   "id": "80555268",
   "metadata": {},
   "source": [
    "12시쯤 가장 많이 보고 cart에 담고 구매(purchase)까지 했습니다."
   ]
  },
  {
   "cell_type": "code",
   "execution_count": 164,
   "id": "203b0d8a",
   "metadata": {
    "ExecuteTime": {
     "end_time": "2022-09-25T15:27:01.231008Z",
     "start_time": "2022-09-25T15:27:01.218010Z"
    }
   },
   "outputs": [],
   "source": [
    "purchase_user_day_21_hour_12 = purchase_user_day_21.loc[purchase_user_day_21['hour']==12]"
   ]
  },
  {
   "cell_type": "code",
   "execution_count": 165,
   "id": "4cb362c8",
   "metadata": {
    "ExecuteTime": {
     "end_time": "2022-09-25T15:27:02.101122Z",
     "start_time": "2022-09-25T15:27:02.085126Z"
    }
   },
   "outputs": [
    {
     "data": {
      "text/plain": [
       "Timedelta('0 days 00:19:49')"
      ]
     },
     "execution_count": 165,
     "metadata": {},
     "output_type": "execute_result"
    }
   ],
   "source": [
    "purchase_user_day_21_hour_12['event_time'].max()-purchase_user_day_21_hour_12['event_time'].min()"
   ]
  },
  {
   "cell_type": "markdown",
   "id": "2ae921fe",
   "metadata": {},
   "source": [
    "이 유저는 12시에 19분 49초 동안 제품을 보고, 장바구니에 담고, 구매까지 이어졌습니다."
   ]
  },
  {
   "cell_type": "markdown",
   "id": "9b4ef04b",
   "metadata": {},
   "source": [
    "### 어떤 제품에 관심을 가졌는가?"
   ]
  },
  {
   "cell_type": "code",
   "execution_count": 166,
   "id": "0e354f83",
   "metadata": {
    "ExecuteTime": {
     "end_time": "2022-09-25T15:27:06.630412Z",
     "start_time": "2022-09-25T15:27:06.605414Z"
    },
    "scrolled": true
   },
   "outputs": [
    {
     "data": {
      "text/html": [
       "<div>\n",
       "<style scoped>\n",
       "    .dataframe tbody tr th:only-of-type {\n",
       "        vertical-align: middle;\n",
       "    }\n",
       "\n",
       "    .dataframe tbody tr th {\n",
       "        vertical-align: top;\n",
       "    }\n",
       "\n",
       "    .dataframe thead th {\n",
       "        text-align: right;\n",
       "    }\n",
       "</style>\n",
       "<table border=\"1\" class=\"dataframe\">\n",
       "  <thead>\n",
       "    <tr style=\"text-align: right;\">\n",
       "      <th></th>\n",
       "      <th>event_time</th>\n",
       "      <th>event_type</th>\n",
       "      <th>product_id</th>\n",
       "      <th>category_id</th>\n",
       "      <th>category_code</th>\n",
       "      <th>brand</th>\n",
       "      <th>price</th>\n",
       "      <th>user_id</th>\n",
       "      <th>user_session</th>\n",
       "      <th>category1</th>\n",
       "      <th>category2</th>\n",
       "      <th>category3</th>\n",
       "      <th>day</th>\n",
       "      <th>hour</th>\n",
       "    </tr>\n",
       "  </thead>\n",
       "  <tbody>\n",
       "    <tr>\n",
       "      <th>28248793</th>\n",
       "      <td>2019-10-21 12:29:17</td>\n",
       "      <td>view</td>\n",
       "      <td>1004227</td>\n",
       "      <td>-1769995873</td>\n",
       "      <td>electronics.smartphone</td>\n",
       "      <td>apple</td>\n",
       "      <td>1003.090027</td>\n",
       "      <td>512386086</td>\n",
       "      <td>31716816-966e-4ada-943d-53b90e993ece</td>\n",
       "      <td>electronics</td>\n",
       "      <td>smartphone</td>\n",
       "      <td>None</td>\n",
       "      <td>21</td>\n",
       "      <td>12</td>\n",
       "    </tr>\n",
       "    <tr>\n",
       "      <th>28248954</th>\n",
       "      <td>2019-10-21 12:29:24</td>\n",
       "      <td>cart</td>\n",
       "      <td>1004227</td>\n",
       "      <td>-1769995873</td>\n",
       "      <td>electronics.smartphone</td>\n",
       "      <td>apple</td>\n",
       "      <td>1003.090027</td>\n",
       "      <td>512386086</td>\n",
       "      <td>31716816-966e-4ada-943d-53b90e993ece</td>\n",
       "      <td>electronics</td>\n",
       "      <td>smartphone</td>\n",
       "      <td>None</td>\n",
       "      <td>21</td>\n",
       "      <td>12</td>\n",
       "    </tr>\n",
       "    <tr>\n",
       "      <th>28250638</th>\n",
       "      <td>2019-10-21 12:30:47</td>\n",
       "      <td>view</td>\n",
       "      <td>1004227</td>\n",
       "      <td>-1769995873</td>\n",
       "      <td>electronics.smartphone</td>\n",
       "      <td>apple</td>\n",
       "      <td>1003.090027</td>\n",
       "      <td>512386086</td>\n",
       "      <td>31716816-966e-4ada-943d-53b90e993ece</td>\n",
       "      <td>electronics</td>\n",
       "      <td>smartphone</td>\n",
       "      <td>None</td>\n",
       "      <td>21</td>\n",
       "      <td>12</td>\n",
       "    </tr>\n",
       "    <tr>\n",
       "      <th>28250698</th>\n",
       "      <td>2019-10-21 12:30:51</td>\n",
       "      <td>cart</td>\n",
       "      <td>1004227</td>\n",
       "      <td>-1769995873</td>\n",
       "      <td>electronics.smartphone</td>\n",
       "      <td>apple</td>\n",
       "      <td>1003.090027</td>\n",
       "      <td>512386086</td>\n",
       "      <td>31716816-966e-4ada-943d-53b90e993ece</td>\n",
       "      <td>electronics</td>\n",
       "      <td>smartphone</td>\n",
       "      <td>None</td>\n",
       "      <td>21</td>\n",
       "      <td>12</td>\n",
       "    </tr>\n",
       "    <tr>\n",
       "      <th>28252615</th>\n",
       "      <td>2019-10-21 12:32:56</td>\n",
       "      <td>purchase</td>\n",
       "      <td>1004227</td>\n",
       "      <td>-1769995873</td>\n",
       "      <td>electronics.smartphone</td>\n",
       "      <td>apple</td>\n",
       "      <td>1003.090027</td>\n",
       "      <td>512386086</td>\n",
       "      <td>31716816-966e-4ada-943d-53b90e993ece</td>\n",
       "      <td>electronics</td>\n",
       "      <td>smartphone</td>\n",
       "      <td>None</td>\n",
       "      <td>21</td>\n",
       "      <td>12</td>\n",
       "    </tr>\n",
       "    <tr>\n",
       "      <th>28254845</th>\n",
       "      <td>2019-10-21 12:36:23</td>\n",
       "      <td>cart</td>\n",
       "      <td>1004227</td>\n",
       "      <td>-1769995873</td>\n",
       "      <td>electronics.smartphone</td>\n",
       "      <td>apple</td>\n",
       "      <td>1003.090027</td>\n",
       "      <td>512386086</td>\n",
       "      <td>31716816-966e-4ada-943d-53b90e993ece</td>\n",
       "      <td>electronics</td>\n",
       "      <td>smartphone</td>\n",
       "      <td>None</td>\n",
       "      <td>21</td>\n",
       "      <td>12</td>\n",
       "    </tr>\n",
       "    <tr>\n",
       "      <th>28254871</th>\n",
       "      <td>2019-10-21 12:36:25</td>\n",
       "      <td>cart</td>\n",
       "      <td>1004227</td>\n",
       "      <td>-1769995873</td>\n",
       "      <td>electronics.smartphone</td>\n",
       "      <td>apple</td>\n",
       "      <td>1003.090027</td>\n",
       "      <td>512386086</td>\n",
       "      <td>31716816-966e-4ada-943d-53b90e993ece</td>\n",
       "      <td>electronics</td>\n",
       "      <td>smartphone</td>\n",
       "      <td>None</td>\n",
       "      <td>21</td>\n",
       "      <td>12</td>\n",
       "    </tr>\n",
       "    <tr>\n",
       "      <th>28254908</th>\n",
       "      <td>2019-10-21 12:36:28</td>\n",
       "      <td>cart</td>\n",
       "      <td>1004227</td>\n",
       "      <td>-1769995873</td>\n",
       "      <td>electronics.smartphone</td>\n",
       "      <td>apple</td>\n",
       "      <td>1003.090027</td>\n",
       "      <td>512386086</td>\n",
       "      <td>31716816-966e-4ada-943d-53b90e993ece</td>\n",
       "      <td>electronics</td>\n",
       "      <td>smartphone</td>\n",
       "      <td>None</td>\n",
       "      <td>21</td>\n",
       "      <td>12</td>\n",
       "    </tr>\n",
       "    <tr>\n",
       "      <th>28254940</th>\n",
       "      <td>2019-10-21 12:36:30</td>\n",
       "      <td>cart</td>\n",
       "      <td>1004227</td>\n",
       "      <td>-1769995873</td>\n",
       "      <td>electronics.smartphone</td>\n",
       "      <td>apple</td>\n",
       "      <td>1003.090027</td>\n",
       "      <td>512386086</td>\n",
       "      <td>31716816-966e-4ada-943d-53b90e993ece</td>\n",
       "      <td>electronics</td>\n",
       "      <td>smartphone</td>\n",
       "      <td>None</td>\n",
       "      <td>21</td>\n",
       "      <td>12</td>\n",
       "    </tr>\n",
       "    <tr>\n",
       "      <th>28254978</th>\n",
       "      <td>2019-10-21 12:36:33</td>\n",
       "      <td>cart</td>\n",
       "      <td>1004227</td>\n",
       "      <td>-1769995873</td>\n",
       "      <td>electronics.smartphone</td>\n",
       "      <td>apple</td>\n",
       "      <td>1003.090027</td>\n",
       "      <td>512386086</td>\n",
       "      <td>31716816-966e-4ada-943d-53b90e993ece</td>\n",
       "      <td>electronics</td>\n",
       "      <td>smartphone</td>\n",
       "      <td>None</td>\n",
       "      <td>21</td>\n",
       "      <td>12</td>\n",
       "    </tr>\n",
       "    <tr>\n",
       "      <th>28255275</th>\n",
       "      <td>2019-10-21 12:36:55</td>\n",
       "      <td>view</td>\n",
       "      <td>1004227</td>\n",
       "      <td>-1769995873</td>\n",
       "      <td>electronics.smartphone</td>\n",
       "      <td>apple</td>\n",
       "      <td>1003.090027</td>\n",
       "      <td>512386086</td>\n",
       "      <td>31716816-966e-4ada-943d-53b90e993ece</td>\n",
       "      <td>electronics</td>\n",
       "      <td>smartphone</td>\n",
       "      <td>None</td>\n",
       "      <td>21</td>\n",
       "      <td>12</td>\n",
       "    </tr>\n",
       "    <tr>\n",
       "      <th>28256474</th>\n",
       "      <td>2019-10-21 12:38:21</td>\n",
       "      <td>view</td>\n",
       "      <td>4201541</td>\n",
       "      <td>-754974501</td>\n",
       "      <td>appliances.environment.air_conditioner</td>\n",
       "      <td>artel</td>\n",
       "      <td>898.349976</td>\n",
       "      <td>512386086</td>\n",
       "      <td>31716816-966e-4ada-943d-53b90e993ece</td>\n",
       "      <td>appliances</td>\n",
       "      <td>environment</td>\n",
       "      <td>air_conditioner</td>\n",
       "      <td>21</td>\n",
       "      <td>12</td>\n",
       "    </tr>\n",
       "    <tr>\n",
       "      <th>28257568</th>\n",
       "      <td>2019-10-21 12:39:28</td>\n",
       "      <td>purchase</td>\n",
       "      <td>4201541</td>\n",
       "      <td>-754974501</td>\n",
       "      <td>appliances.environment.air_conditioner</td>\n",
       "      <td>artel</td>\n",
       "      <td>898.349976</td>\n",
       "      <td>512386086</td>\n",
       "      <td>31716816-966e-4ada-943d-53b90e993ece</td>\n",
       "      <td>appliances</td>\n",
       "      <td>environment</td>\n",
       "      <td>air_conditioner</td>\n",
       "      <td>21</td>\n",
       "      <td>12</td>\n",
       "    </tr>\n",
       "    <tr>\n",
       "      <th>28258138</th>\n",
       "      <td>2019-10-21 12:40:02</td>\n",
       "      <td>view</td>\n",
       "      <td>4201541</td>\n",
       "      <td>-754974501</td>\n",
       "      <td>appliances.environment.air_conditioner</td>\n",
       "      <td>artel</td>\n",
       "      <td>898.349976</td>\n",
       "      <td>512386086</td>\n",
       "      <td>31716816-966e-4ada-943d-53b90e993ece</td>\n",
       "      <td>appliances</td>\n",
       "      <td>environment</td>\n",
       "      <td>air_conditioner</td>\n",
       "      <td>21</td>\n",
       "      <td>12</td>\n",
       "    </tr>\n",
       "    <tr>\n",
       "      <th>28258592</th>\n",
       "      <td>2019-10-21 12:40:27</td>\n",
       "      <td>view</td>\n",
       "      <td>1801712</td>\n",
       "      <td>1308623195</td>\n",
       "      <td>electronics.video.tv</td>\n",
       "      <td>lg</td>\n",
       "      <td>386.079987</td>\n",
       "      <td>512386086</td>\n",
       "      <td>31716816-966e-4ada-943d-53b90e993ece</td>\n",
       "      <td>electronics</td>\n",
       "      <td>video</td>\n",
       "      <td>tv</td>\n",
       "      <td>21</td>\n",
       "      <td>12</td>\n",
       "    </tr>\n",
       "    <tr>\n",
       "      <th>28258673</th>\n",
       "      <td>2019-10-21 12:40:32</td>\n",
       "      <td>view</td>\n",
       "      <td>1801555</td>\n",
       "      <td>1308623195</td>\n",
       "      <td>electronics.video.tv</td>\n",
       "      <td>lg</td>\n",
       "      <td>459.209991</td>\n",
       "      <td>512386086</td>\n",
       "      <td>31716816-966e-4ada-943d-53b90e993ece</td>\n",
       "      <td>electronics</td>\n",
       "      <td>video</td>\n",
       "      <td>tv</td>\n",
       "      <td>21</td>\n",
       "      <td>12</td>\n",
       "    </tr>\n",
       "    <tr>\n",
       "      <th>28261421</th>\n",
       "      <td>2019-10-21 12:42:52</td>\n",
       "      <td>purchase</td>\n",
       "      <td>1801555</td>\n",
       "      <td>1308623195</td>\n",
       "      <td>electronics.video.tv</td>\n",
       "      <td>lg</td>\n",
       "      <td>459.209991</td>\n",
       "      <td>512386086</td>\n",
       "      <td>31716816-966e-4ada-943d-53b90e993ece</td>\n",
       "      <td>electronics</td>\n",
       "      <td>video</td>\n",
       "      <td>tv</td>\n",
       "      <td>21</td>\n",
       "      <td>12</td>\n",
       "    </tr>\n",
       "    <tr>\n",
       "      <th>28262143</th>\n",
       "      <td>2019-10-21 12:43:27</td>\n",
       "      <td>view</td>\n",
       "      <td>1801555</td>\n",
       "      <td>1308623195</td>\n",
       "      <td>electronics.video.tv</td>\n",
       "      <td>lg</td>\n",
       "      <td>459.209991</td>\n",
       "      <td>512386086</td>\n",
       "      <td>31716816-966e-4ada-943d-53b90e993ece</td>\n",
       "      <td>electronics</td>\n",
       "      <td>video</td>\n",
       "      <td>tv</td>\n",
       "      <td>21</td>\n",
       "      <td>12</td>\n",
       "    </tr>\n",
       "    <tr>\n",
       "      <th>28262540</th>\n",
       "      <td>2019-10-21 12:43:46</td>\n",
       "      <td>view</td>\n",
       "      <td>1004767</td>\n",
       "      <td>-1769995873</td>\n",
       "      <td>electronics.smartphone</td>\n",
       "      <td>samsung</td>\n",
       "      <td>247.619995</td>\n",
       "      <td>512386086</td>\n",
       "      <td>31716816-966e-4ada-943d-53b90e993ece</td>\n",
       "      <td>electronics</td>\n",
       "      <td>smartphone</td>\n",
       "      <td>None</td>\n",
       "      <td>21</td>\n",
       "      <td>12</td>\n",
       "    </tr>\n",
       "    <tr>\n",
       "      <th>28262630</th>\n",
       "      <td>2019-10-21 12:43:51</td>\n",
       "      <td>cart</td>\n",
       "      <td>1004767</td>\n",
       "      <td>-1769995873</td>\n",
       "      <td>electronics.smartphone</td>\n",
       "      <td>samsung</td>\n",
       "      <td>247.619995</td>\n",
       "      <td>512386086</td>\n",
       "      <td>31716816-966e-4ada-943d-53b90e993ece</td>\n",
       "      <td>electronics</td>\n",
       "      <td>smartphone</td>\n",
       "      <td>None</td>\n",
       "      <td>21</td>\n",
       "      <td>12</td>\n",
       "    </tr>\n",
       "    <tr>\n",
       "      <th>28264842</th>\n",
       "      <td>2019-10-21 12:45:40</td>\n",
       "      <td>purchase</td>\n",
       "      <td>1004767</td>\n",
       "      <td>-1769995873</td>\n",
       "      <td>electronics.smartphone</td>\n",
       "      <td>samsung</td>\n",
       "      <td>247.619995</td>\n",
       "      <td>512386086</td>\n",
       "      <td>31716816-966e-4ada-943d-53b90e993ece</td>\n",
       "      <td>electronics</td>\n",
       "      <td>smartphone</td>\n",
       "      <td>None</td>\n",
       "      <td>21</td>\n",
       "      <td>12</td>\n",
       "    </tr>\n",
       "    <tr>\n",
       "      <th>28265700</th>\n",
       "      <td>2019-10-21 12:46:22</td>\n",
       "      <td>view</td>\n",
       "      <td>1004767</td>\n",
       "      <td>-1769995873</td>\n",
       "      <td>electronics.smartphone</td>\n",
       "      <td>samsung</td>\n",
       "      <td>247.619995</td>\n",
       "      <td>512386086</td>\n",
       "      <td>31716816-966e-4ada-943d-53b90e993ece</td>\n",
       "      <td>electronics</td>\n",
       "      <td>smartphone</td>\n",
       "      <td>None</td>\n",
       "      <td>21</td>\n",
       "      <td>12</td>\n",
       "    </tr>\n",
       "    <tr>\n",
       "      <th>28265960</th>\n",
       "      <td>2019-10-21 12:46:35</td>\n",
       "      <td>view</td>\n",
       "      <td>1004833</td>\n",
       "      <td>-1769995873</td>\n",
       "      <td>electronics.smartphone</td>\n",
       "      <td>samsung</td>\n",
       "      <td>172.029999</td>\n",
       "      <td>512386086</td>\n",
       "      <td>31716816-966e-4ada-943d-53b90e993ece</td>\n",
       "      <td>electronics</td>\n",
       "      <td>smartphone</td>\n",
       "      <td>None</td>\n",
       "      <td>21</td>\n",
       "      <td>12</td>\n",
       "    </tr>\n",
       "    <tr>\n",
       "      <th>28266392</th>\n",
       "      <td>2019-10-21 12:46:55</td>\n",
       "      <td>view</td>\n",
       "      <td>1004833</td>\n",
       "      <td>-1769995873</td>\n",
       "      <td>electronics.smartphone</td>\n",
       "      <td>samsung</td>\n",
       "      <td>172.029999</td>\n",
       "      <td>512386086</td>\n",
       "      <td>31716816-966e-4ada-943d-53b90e993ece</td>\n",
       "      <td>electronics</td>\n",
       "      <td>smartphone</td>\n",
       "      <td>None</td>\n",
       "      <td>21</td>\n",
       "      <td>12</td>\n",
       "    </tr>\n",
       "    <tr>\n",
       "      <th>28267681</th>\n",
       "      <td>2019-10-21 12:47:57</td>\n",
       "      <td>purchase</td>\n",
       "      <td>1004833</td>\n",
       "      <td>-1769995873</td>\n",
       "      <td>electronics.smartphone</td>\n",
       "      <td>samsung</td>\n",
       "      <td>172.029999</td>\n",
       "      <td>512386086</td>\n",
       "      <td>31716816-966e-4ada-943d-53b90e993ece</td>\n",
       "      <td>electronics</td>\n",
       "      <td>smartphone</td>\n",
       "      <td>None</td>\n",
       "      <td>21</td>\n",
       "      <td>12</td>\n",
       "    </tr>\n",
       "    <tr>\n",
       "      <th>28269115</th>\n",
       "      <td>2019-10-21 12:49:06</td>\n",
       "      <td>view</td>\n",
       "      <td>1004767</td>\n",
       "      <td>-1769995873</td>\n",
       "      <td>electronics.smartphone</td>\n",
       "      <td>samsung</td>\n",
       "      <td>247.619995</td>\n",
       "      <td>512386086</td>\n",
       "      <td>31716816-966e-4ada-943d-53b90e993ece</td>\n",
       "      <td>electronics</td>\n",
       "      <td>smartphone</td>\n",
       "      <td>None</td>\n",
       "      <td>21</td>\n",
       "      <td>12</td>\n",
       "    </tr>\n",
       "  </tbody>\n",
       "</table>\n",
       "</div>"
      ],
      "text/plain": [
       "                  event_time event_type  product_id  category_id  \\\n",
       "28248793 2019-10-21 12:29:17       view     1004227  -1769995873   \n",
       "28248954 2019-10-21 12:29:24       cart     1004227  -1769995873   \n",
       "28250638 2019-10-21 12:30:47       view     1004227  -1769995873   \n",
       "28250698 2019-10-21 12:30:51       cart     1004227  -1769995873   \n",
       "28252615 2019-10-21 12:32:56   purchase     1004227  -1769995873   \n",
       "28254845 2019-10-21 12:36:23       cart     1004227  -1769995873   \n",
       "28254871 2019-10-21 12:36:25       cart     1004227  -1769995873   \n",
       "28254908 2019-10-21 12:36:28       cart     1004227  -1769995873   \n",
       "28254940 2019-10-21 12:36:30       cart     1004227  -1769995873   \n",
       "28254978 2019-10-21 12:36:33       cart     1004227  -1769995873   \n",
       "28255275 2019-10-21 12:36:55       view     1004227  -1769995873   \n",
       "28256474 2019-10-21 12:38:21       view     4201541   -754974501   \n",
       "28257568 2019-10-21 12:39:28   purchase     4201541   -754974501   \n",
       "28258138 2019-10-21 12:40:02       view     4201541   -754974501   \n",
       "28258592 2019-10-21 12:40:27       view     1801712   1308623195   \n",
       "28258673 2019-10-21 12:40:32       view     1801555   1308623195   \n",
       "28261421 2019-10-21 12:42:52   purchase     1801555   1308623195   \n",
       "28262143 2019-10-21 12:43:27       view     1801555   1308623195   \n",
       "28262540 2019-10-21 12:43:46       view     1004767  -1769995873   \n",
       "28262630 2019-10-21 12:43:51       cart     1004767  -1769995873   \n",
       "28264842 2019-10-21 12:45:40   purchase     1004767  -1769995873   \n",
       "28265700 2019-10-21 12:46:22       view     1004767  -1769995873   \n",
       "28265960 2019-10-21 12:46:35       view     1004833  -1769995873   \n",
       "28266392 2019-10-21 12:46:55       view     1004833  -1769995873   \n",
       "28267681 2019-10-21 12:47:57   purchase     1004833  -1769995873   \n",
       "28269115 2019-10-21 12:49:06       view     1004767  -1769995873   \n",
       "\n",
       "                                   category_code    brand        price  \\\n",
       "28248793                  electronics.smartphone    apple  1003.090027   \n",
       "28248954                  electronics.smartphone    apple  1003.090027   \n",
       "28250638                  electronics.smartphone    apple  1003.090027   \n",
       "28250698                  electronics.smartphone    apple  1003.090027   \n",
       "28252615                  electronics.smartphone    apple  1003.090027   \n",
       "28254845                  electronics.smartphone    apple  1003.090027   \n",
       "28254871                  electronics.smartphone    apple  1003.090027   \n",
       "28254908                  electronics.smartphone    apple  1003.090027   \n",
       "28254940                  electronics.smartphone    apple  1003.090027   \n",
       "28254978                  electronics.smartphone    apple  1003.090027   \n",
       "28255275                  electronics.smartphone    apple  1003.090027   \n",
       "28256474  appliances.environment.air_conditioner    artel   898.349976   \n",
       "28257568  appliances.environment.air_conditioner    artel   898.349976   \n",
       "28258138  appliances.environment.air_conditioner    artel   898.349976   \n",
       "28258592                    electronics.video.tv       lg   386.079987   \n",
       "28258673                    electronics.video.tv       lg   459.209991   \n",
       "28261421                    electronics.video.tv       lg   459.209991   \n",
       "28262143                    electronics.video.tv       lg   459.209991   \n",
       "28262540                  electronics.smartphone  samsung   247.619995   \n",
       "28262630                  electronics.smartphone  samsung   247.619995   \n",
       "28264842                  electronics.smartphone  samsung   247.619995   \n",
       "28265700                  electronics.smartphone  samsung   247.619995   \n",
       "28265960                  electronics.smartphone  samsung   172.029999   \n",
       "28266392                  electronics.smartphone  samsung   172.029999   \n",
       "28267681                  electronics.smartphone  samsung   172.029999   \n",
       "28269115                  electronics.smartphone  samsung   247.619995   \n",
       "\n",
       "            user_id                          user_session    category1  \\\n",
       "28248793  512386086  31716816-966e-4ada-943d-53b90e993ece  electronics   \n",
       "28248954  512386086  31716816-966e-4ada-943d-53b90e993ece  electronics   \n",
       "28250638  512386086  31716816-966e-4ada-943d-53b90e993ece  electronics   \n",
       "28250698  512386086  31716816-966e-4ada-943d-53b90e993ece  electronics   \n",
       "28252615  512386086  31716816-966e-4ada-943d-53b90e993ece  electronics   \n",
       "28254845  512386086  31716816-966e-4ada-943d-53b90e993ece  electronics   \n",
       "28254871  512386086  31716816-966e-4ada-943d-53b90e993ece  electronics   \n",
       "28254908  512386086  31716816-966e-4ada-943d-53b90e993ece  electronics   \n",
       "28254940  512386086  31716816-966e-4ada-943d-53b90e993ece  electronics   \n",
       "28254978  512386086  31716816-966e-4ada-943d-53b90e993ece  electronics   \n",
       "28255275  512386086  31716816-966e-4ada-943d-53b90e993ece  electronics   \n",
       "28256474  512386086  31716816-966e-4ada-943d-53b90e993ece   appliances   \n",
       "28257568  512386086  31716816-966e-4ada-943d-53b90e993ece   appliances   \n",
       "28258138  512386086  31716816-966e-4ada-943d-53b90e993ece   appliances   \n",
       "28258592  512386086  31716816-966e-4ada-943d-53b90e993ece  electronics   \n",
       "28258673  512386086  31716816-966e-4ada-943d-53b90e993ece  electronics   \n",
       "28261421  512386086  31716816-966e-4ada-943d-53b90e993ece  electronics   \n",
       "28262143  512386086  31716816-966e-4ada-943d-53b90e993ece  electronics   \n",
       "28262540  512386086  31716816-966e-4ada-943d-53b90e993ece  electronics   \n",
       "28262630  512386086  31716816-966e-4ada-943d-53b90e993ece  electronics   \n",
       "28264842  512386086  31716816-966e-4ada-943d-53b90e993ece  electronics   \n",
       "28265700  512386086  31716816-966e-4ada-943d-53b90e993ece  electronics   \n",
       "28265960  512386086  31716816-966e-4ada-943d-53b90e993ece  electronics   \n",
       "28266392  512386086  31716816-966e-4ada-943d-53b90e993ece  electronics   \n",
       "28267681  512386086  31716816-966e-4ada-943d-53b90e993ece  electronics   \n",
       "28269115  512386086  31716816-966e-4ada-943d-53b90e993ece  electronics   \n",
       "\n",
       "            category2        category3  day  hour  \n",
       "28248793   smartphone             None   21    12  \n",
       "28248954   smartphone             None   21    12  \n",
       "28250638   smartphone             None   21    12  \n",
       "28250698   smartphone             None   21    12  \n",
       "28252615   smartphone             None   21    12  \n",
       "28254845   smartphone             None   21    12  \n",
       "28254871   smartphone             None   21    12  \n",
       "28254908   smartphone             None   21    12  \n",
       "28254940   smartphone             None   21    12  \n",
       "28254978   smartphone             None   21    12  \n",
       "28255275   smartphone             None   21    12  \n",
       "28256474  environment  air_conditioner   21    12  \n",
       "28257568  environment  air_conditioner   21    12  \n",
       "28258138  environment  air_conditioner   21    12  \n",
       "28258592        video               tv   21    12  \n",
       "28258673        video               tv   21    12  \n",
       "28261421        video               tv   21    12  \n",
       "28262143        video               tv   21    12  \n",
       "28262540   smartphone             None   21    12  \n",
       "28262630   smartphone             None   21    12  \n",
       "28264842   smartphone             None   21    12  \n",
       "28265700   smartphone             None   21    12  \n",
       "28265960   smartphone             None   21    12  \n",
       "28266392   smartphone             None   21    12  \n",
       "28267681   smartphone             None   21    12  \n",
       "28269115   smartphone             None   21    12  "
      ]
     },
     "execution_count": 166,
     "metadata": {},
     "output_type": "execute_result"
    }
   ],
   "source": [
    "purchase_user_day_21_hour_12"
   ]
  },
  {
   "cell_type": "markdown",
   "id": "6916b988",
   "metadata": {
    "ExecuteTime": {
     "end_time": "2022-09-25T15:31:15.478709Z",
     "start_time": "2022-09-25T15:31:15.469710Z"
    }
   },
   "source": [
    "전반적으로 스마트폰, tv, 에어컨에 관심을 가지고 구매까지 이어졌습니다.\n",
    "\n",
    "애플의 스마트폰 같은 경우에는 제품을 구매한 뒤에도 장바구니에 제품을 여러번 넣는 모습을 보였습니다."
   ]
  },
  {
   "cell_type": "code",
   "execution_count": 177,
   "id": "5f1fbd95",
   "metadata": {
    "ExecuteTime": {
     "end_time": "2022-09-25T15:36:44.911540Z",
     "start_time": "2022-09-25T15:36:44.904540Z"
    }
   },
   "outputs": [
    {
     "data": {
      "text/plain": [
       "electronics.smartphone                    697\n",
       "electronics.video.tv                      242\n",
       "appliances.environment.air_conditioner    151\n",
       "appliances.kitchen.refrigerators           12\n",
       "appliances.kitchen.washer                   9\n",
       "                                         ... \n",
       "appliances.kitchen.hob                      0\n",
       "appliances.kitchen.grill                    0\n",
       "appliances.kitchen.dishwasher               0\n",
       "appliances.kitchen.coffee_machine           0\n",
       "stationery.cartrige                         0\n",
       "Name: category_code, Length: 126, dtype: int64"
      ]
     },
     "execution_count": 177,
     "metadata": {},
     "output_type": "execute_result"
    }
   ],
   "source": [
    "purchase_user['category_code'].value_counts()"
   ]
  },
  {
   "cell_type": "code",
   "execution_count": 179,
   "id": "464201b0",
   "metadata": {
    "ExecuteTime": {
     "end_time": "2022-09-25T15:36:58.977365Z",
     "start_time": "2022-09-25T15:36:58.964365Z"
    }
   },
   "outputs": [
    {
     "data": {
      "text/plain": [
       "category_code                           event_type\n",
       "electronics.smartphone                  view          364\n",
       "                                        purchase      173\n",
       "                                        cart          160\n",
       "electronics.video.tv                    view          148\n",
       "appliances.environment.air_conditioner  view           98\n",
       "electronics.video.tv                    purchase       87\n",
       "appliances.environment.air_conditioner  purchase       53\n",
       "appliances.kitchen.refrigerators        view            8\n",
       "electronics.video.tv                    cart            7\n",
       "appliances.kitchen.washer               view            7\n",
       "appliances.kitchen.refrigerators        purchase        4\n",
       "appliances.kitchen.microwave            view            3\n",
       "computers.notebook                      view            2\n",
       "appliances.kitchen.microwave            purchase        2\n",
       "appliances.kitchen.washer               purchase        2\n",
       "Name: category_code, dtype: int64"
      ]
     },
     "execution_count": 179,
     "metadata": {},
     "output_type": "execute_result"
    }
   ],
   "source": [
    "purchase_user.groupby(['category_code','event_type'])['category_code'].count().sort_values(ascending=False)[:15]"
   ]
  },
  {
   "cell_type": "markdown",
   "id": "fdee0633",
   "metadata": {},
   "source": [
    "스마트폰, 티비 ,에어컨에, 냉장고 등 가전제품에 많은 관심을 보였습니다."
   ]
  },
  {
   "cell_type": "code",
   "execution_count": 186,
   "id": "e98ddbe6",
   "metadata": {
    "ExecuteTime": {
     "end_time": "2022-09-25T15:38:55.496213Z",
     "start_time": "2022-09-25T15:38:55.481213Z"
    }
   },
   "outputs": [
    {
     "data": {
      "text/plain": [
       "51"
      ]
     },
     "execution_count": 186,
     "metadata": {},
     "output_type": "execute_result"
    }
   ],
   "source": [
    "purchase_user.loc[purchase_user['event_type']=='view']['product_id'].nunique()"
   ]
  },
  {
   "cell_type": "code",
   "execution_count": 188,
   "id": "3f9c8120",
   "metadata": {
    "ExecuteTime": {
     "end_time": "2022-09-25T15:39:11.043050Z",
     "start_time": "2022-09-25T15:39:11.035051Z"
    }
   },
   "outputs": [
    {
     "data": {
      "text/plain": [
       "30"
      ]
     },
     "execution_count": 188,
     "metadata": {},
     "output_type": "execute_result"
    }
   ],
   "source": [
    "purchase_user.loc[purchase_user['event_type']=='purchase']['product_id'].nunique()"
   ]
  },
  {
   "cell_type": "markdown",
   "id": "0a79a15e",
   "metadata": {},
   "source": [
    "이 유저가 본(view) 제품은 51개를 봤고, 30개의 제품을 구매했습니다."
   ]
  },
  {
   "cell_type": "code",
   "execution_count": 200,
   "id": "6f38419b",
   "metadata": {
    "ExecuteTime": {
     "end_time": "2022-09-25T15:55:50.669715Z",
     "start_time": "2022-09-25T15:55:50.655718Z"
    }
   },
   "outputs": [
    {
     "data": {
      "text/plain": [
       "181"
      ]
     },
     "execution_count": 200,
     "metadata": {},
     "output_type": "execute_result"
    }
   ],
   "source": [
    "purchase_user['user_session'].nunique()"
   ]
  }
 ],
 "metadata": {
  "kernelspec": {
   "display_name": "Python 3 (ipykernel)",
   "language": "python",
   "name": "python3"
  },
  "language_info": {
   "codemirror_mode": {
    "name": "ipython",
    "version": 3
   },
   "file_extension": ".py",
   "mimetype": "text/x-python",
   "name": "python",
   "nbconvert_exporter": "python",
   "pygments_lexer": "ipython3",
   "version": "3.7.13"
  },
  "toc": {
   "base_numbering": 1,
   "nav_menu": {},
   "number_sections": true,
   "sideBar": true,
   "skip_h1_title": false,
   "title_cell": "Table of Contents",
   "title_sidebar": "Contents",
   "toc_cell": false,
   "toc_position": {
    "height": "1117.31px",
    "left": "191px",
    "top": "201.667px",
    "width": "740.542px"
   },
   "toc_section_display": true,
   "toc_window_display": true
  },
  "varInspector": {
   "cols": {
    "lenName": 16,
    "lenType": 16,
    "lenVar": 40
   },
   "kernels_config": {
    "python": {
     "delete_cmd_postfix": "",
     "delete_cmd_prefix": "del ",
     "library": "var_list.py",
     "varRefreshCmd": "print(var_dic_list())"
    },
    "r": {
     "delete_cmd_postfix": ") ",
     "delete_cmd_prefix": "rm(",
     "library": "var_list.r",
     "varRefreshCmd": "cat(var_dic_list()) "
    }
   },
   "types_to_exclude": [
    "module",
    "function",
    "builtin_function_or_method",
    "instance",
    "_Feature"
   ],
   "window_display": false
  }
 },
 "nbformat": 4,
 "nbformat_minor": 5
}
