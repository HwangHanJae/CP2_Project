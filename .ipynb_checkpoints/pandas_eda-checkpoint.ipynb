{
 "cells": [
  {
   "cell_type": "markdown",
   "id": "3bbf9a2b",
   "metadata": {},
   "source": [
    "# 가정\n",
    "국가는 **아랍에미리트**, 이커머스 사이트를 **아마존**이라고 가정\n",
    "\n",
    "- 참고링크1 : https://blog.naver.com/fedex_kr/222697326719\n",
    "- 참고링크2 : https://blog.naver.com/dhzhdapxk/222279313175\n",
    "\n",
    "아랍에미리트의 전자상거래시장의 성장률을 19년도 이후부터 상승하고 있으며,  \n",
    "2017년도 7월 중동 최대 온라인 쇼핑몰인 수크 닷컴을 아마존에서 인수하였음."
   ]
  },
  {
   "cell_type": "markdown",
   "id": "f7225ce8",
   "metadata": {},
   "source": [
    "# 라이브러리 로드"
   ]
  },
  {
   "cell_type": "code",
   "execution_count": 1,
   "id": "74aaf1e5",
   "metadata": {
    "ExecuteTime": {
     "end_time": "2022-09-19T11:26:15.784379Z",
     "start_time": "2022-09-19T11:26:14.148481Z"
    }
   },
   "outputs": [],
   "source": [
    "import pandas as pd\n",
    "import numpy as np\n",
    "from tqdm import tqdm\n",
    "import matplotlib.pyplot as plt\n",
    "import seaborn as sns\n",
    "\n",
    "plt.style.use('ggplot')"
   ]
  },
  {
   "cell_type": "markdown",
   "id": "a81c8af0",
   "metadata": {},
   "source": [
    "# 데이터 로드"
   ]
  },
  {
   "cell_type": "code",
   "execution_count": 2,
   "id": "c393ac89",
   "metadata": {
    "ExecuteTime": {
     "end_time": "2022-09-19T11:26:25.394465Z",
     "start_time": "2022-09-19T11:26:19.240559Z"
    }
   },
   "outputs": [
    {
     "data": {
      "text/html": [
       "<div>\n",
       "<style scoped>\n",
       "    .dataframe tbody tr th:only-of-type {\n",
       "        vertical-align: middle;\n",
       "    }\n",
       "\n",
       "    .dataframe tbody tr th {\n",
       "        vertical-align: top;\n",
       "    }\n",
       "\n",
       "    .dataframe thead th {\n",
       "        text-align: right;\n",
       "    }\n",
       "</style>\n",
       "<table border=\"1\" class=\"dataframe\">\n",
       "  <thead>\n",
       "    <tr style=\"text-align: right;\">\n",
       "      <th></th>\n",
       "      <th>event_time</th>\n",
       "      <th>event_type</th>\n",
       "      <th>product_id</th>\n",
       "      <th>category_id</th>\n",
       "      <th>category_code</th>\n",
       "      <th>brand</th>\n",
       "      <th>price</th>\n",
       "      <th>user_id</th>\n",
       "      <th>user_session</th>\n",
       "    </tr>\n",
       "  </thead>\n",
       "  <tbody>\n",
       "    <tr>\n",
       "      <th>0</th>\n",
       "      <td>2019-10-01 00:00:00 UTC</td>\n",
       "      <td>view</td>\n",
       "      <td>44600062</td>\n",
       "      <td>-251657396</td>\n",
       "      <td>NaN</td>\n",
       "      <td>shiseido</td>\n",
       "      <td>35.790001</td>\n",
       "      <td>541312140</td>\n",
       "      <td>72d76fde-8bb3-4e00-8c23-a032dfed738c</td>\n",
       "    </tr>\n",
       "    <tr>\n",
       "      <th>1</th>\n",
       "      <td>2019-10-01 00:00:00 UTC</td>\n",
       "      <td>view</td>\n",
       "      <td>3900821</td>\n",
       "      <td>-780140327</td>\n",
       "      <td>appliances.environment.water_heater</td>\n",
       "      <td>aqua</td>\n",
       "      <td>33.200001</td>\n",
       "      <td>554748717</td>\n",
       "      <td>9333dfbd-b87a-4708-9857-6336556b0fcc</td>\n",
       "    </tr>\n",
       "    <tr>\n",
       "      <th>2</th>\n",
       "      <td>2019-10-01 00:00:01 UTC</td>\n",
       "      <td>view</td>\n",
       "      <td>17200506</td>\n",
       "      <td>-1904213353</td>\n",
       "      <td>furniture.living_room.sofa</td>\n",
       "      <td>NaN</td>\n",
       "      <td>543.099976</td>\n",
       "      <td>519107250</td>\n",
       "      <td>566511c2-e2e3-422b-b695-cf8e6e792ca8</td>\n",
       "    </tr>\n",
       "    <tr>\n",
       "      <th>3</th>\n",
       "      <td>2019-10-01 00:00:01 UTC</td>\n",
       "      <td>view</td>\n",
       "      <td>1307067</td>\n",
       "      <td>1518338663</td>\n",
       "      <td>computers.notebook</td>\n",
       "      <td>lenovo</td>\n",
       "      <td>251.740005</td>\n",
       "      <td>550050854</td>\n",
       "      <td>7c90fc70-0e80-4590-96f3-13c02c18c713</td>\n",
       "    </tr>\n",
       "    <tr>\n",
       "      <th>4</th>\n",
       "      <td>2019-10-01 00:00:04 UTC</td>\n",
       "      <td>view</td>\n",
       "      <td>1004237</td>\n",
       "      <td>-1769995873</td>\n",
       "      <td>electronics.smartphone</td>\n",
       "      <td>apple</td>\n",
       "      <td>1081.979980</td>\n",
       "      <td>535871217</td>\n",
       "      <td>c6bd7419-2748-4c56-95b4-8cec9ff8b80d</td>\n",
       "    </tr>\n",
       "  </tbody>\n",
       "</table>\n",
       "</div>"
      ],
      "text/plain": [
       "                event_time event_type  product_id  category_id  \\\n",
       "0  2019-10-01 00:00:00 UTC       view    44600062   -251657396   \n",
       "1  2019-10-01 00:00:00 UTC       view     3900821   -780140327   \n",
       "2  2019-10-01 00:00:01 UTC       view    17200506  -1904213353   \n",
       "3  2019-10-01 00:00:01 UTC       view     1307067   1518338663   \n",
       "4  2019-10-01 00:00:04 UTC       view     1004237  -1769995873   \n",
       "\n",
       "                         category_code     brand        price    user_id  \\\n",
       "0                                  NaN  shiseido    35.790001  541312140   \n",
       "1  appliances.environment.water_heater      aqua    33.200001  554748717   \n",
       "2           furniture.living_room.sofa       NaN   543.099976  519107250   \n",
       "3                   computers.notebook    lenovo   251.740005  550050854   \n",
       "4               electronics.smartphone     apple  1081.979980  535871217   \n",
       "\n",
       "                           user_session  \n",
       "0  72d76fde-8bb3-4e00-8c23-a032dfed738c  \n",
       "1  9333dfbd-b87a-4708-9857-6336556b0fcc  \n",
       "2  566511c2-e2e3-422b-b695-cf8e6e792ca8  \n",
       "3  7c90fc70-0e80-4590-96f3-13c02c18c713  \n",
       "4  c6bd7419-2748-4c56-95b4-8cec9ff8b80d  "
      ]
     },
     "execution_count": 2,
     "metadata": {},
     "output_type": "execute_result"
    }
   ],
   "source": [
    "path = 'C:/Users/User/Desktop/AIB_13/CP2/data/'\n",
    "df = pd.read_parquet(path + 'light_2019-Oct.parquet', engine='fastparquet')\n",
    "df.head()"
   ]
  },
  {
   "cell_type": "markdown",
   "id": "224b90d5",
   "metadata": {},
   "source": [
    "## 혹시 모를경우를 대비하여 df 복사"
   ]
  },
  {
   "cell_type": "code",
   "execution_count": 3,
   "id": "0d44defe",
   "metadata": {
    "ExecuteTime": {
     "end_time": "2022-09-19T11:26:37.065202Z",
     "start_time": "2022-09-19T11:26:36.842204Z"
    },
    "scrolled": true
   },
   "outputs": [
    {
     "data": {
      "text/html": [
       "<div>\n",
       "<style scoped>\n",
       "    .dataframe tbody tr th:only-of-type {\n",
       "        vertical-align: middle;\n",
       "    }\n",
       "\n",
       "    .dataframe tbody tr th {\n",
       "        vertical-align: top;\n",
       "    }\n",
       "\n",
       "    .dataframe thead th {\n",
       "        text-align: right;\n",
       "    }\n",
       "</style>\n",
       "<table border=\"1\" class=\"dataframe\">\n",
       "  <thead>\n",
       "    <tr style=\"text-align: right;\">\n",
       "      <th></th>\n",
       "      <th>event_time</th>\n",
       "      <th>event_type</th>\n",
       "      <th>product_id</th>\n",
       "      <th>category_id</th>\n",
       "      <th>category_code</th>\n",
       "      <th>brand</th>\n",
       "      <th>price</th>\n",
       "      <th>user_id</th>\n",
       "      <th>user_session</th>\n",
       "    </tr>\n",
       "  </thead>\n",
       "  <tbody>\n",
       "    <tr>\n",
       "      <th>0</th>\n",
       "      <td>2019-10-01 00:00:00 UTC</td>\n",
       "      <td>view</td>\n",
       "      <td>44600062</td>\n",
       "      <td>-251657396</td>\n",
       "      <td>NaN</td>\n",
       "      <td>shiseido</td>\n",
       "      <td>35.790001</td>\n",
       "      <td>541312140</td>\n",
       "      <td>72d76fde-8bb3-4e00-8c23-a032dfed738c</td>\n",
       "    </tr>\n",
       "    <tr>\n",
       "      <th>1</th>\n",
       "      <td>2019-10-01 00:00:00 UTC</td>\n",
       "      <td>view</td>\n",
       "      <td>3900821</td>\n",
       "      <td>-780140327</td>\n",
       "      <td>appliances.environment.water_heater</td>\n",
       "      <td>aqua</td>\n",
       "      <td>33.200001</td>\n",
       "      <td>554748717</td>\n",
       "      <td>9333dfbd-b87a-4708-9857-6336556b0fcc</td>\n",
       "    </tr>\n",
       "    <tr>\n",
       "      <th>2</th>\n",
       "      <td>2019-10-01 00:00:01 UTC</td>\n",
       "      <td>view</td>\n",
       "      <td>17200506</td>\n",
       "      <td>-1904213353</td>\n",
       "      <td>furniture.living_room.sofa</td>\n",
       "      <td>NaN</td>\n",
       "      <td>543.099976</td>\n",
       "      <td>519107250</td>\n",
       "      <td>566511c2-e2e3-422b-b695-cf8e6e792ca8</td>\n",
       "    </tr>\n",
       "    <tr>\n",
       "      <th>3</th>\n",
       "      <td>2019-10-01 00:00:01 UTC</td>\n",
       "      <td>view</td>\n",
       "      <td>1307067</td>\n",
       "      <td>1518338663</td>\n",
       "      <td>computers.notebook</td>\n",
       "      <td>lenovo</td>\n",
       "      <td>251.740005</td>\n",
       "      <td>550050854</td>\n",
       "      <td>7c90fc70-0e80-4590-96f3-13c02c18c713</td>\n",
       "    </tr>\n",
       "    <tr>\n",
       "      <th>4</th>\n",
       "      <td>2019-10-01 00:00:04 UTC</td>\n",
       "      <td>view</td>\n",
       "      <td>1004237</td>\n",
       "      <td>-1769995873</td>\n",
       "      <td>electronics.smartphone</td>\n",
       "      <td>apple</td>\n",
       "      <td>1081.979980</td>\n",
       "      <td>535871217</td>\n",
       "      <td>c6bd7419-2748-4c56-95b4-8cec9ff8b80d</td>\n",
       "    </tr>\n",
       "  </tbody>\n",
       "</table>\n",
       "</div>"
      ],
      "text/plain": [
       "                event_time event_type  product_id  category_id  \\\n",
       "0  2019-10-01 00:00:00 UTC       view    44600062   -251657396   \n",
       "1  2019-10-01 00:00:00 UTC       view     3900821   -780140327   \n",
       "2  2019-10-01 00:00:01 UTC       view    17200506  -1904213353   \n",
       "3  2019-10-01 00:00:01 UTC       view     1307067   1518338663   \n",
       "4  2019-10-01 00:00:04 UTC       view     1004237  -1769995873   \n",
       "\n",
       "                         category_code     brand        price    user_id  \\\n",
       "0                                  NaN  shiseido    35.790001  541312140   \n",
       "1  appliances.environment.water_heater      aqua    33.200001  554748717   \n",
       "2           furniture.living_room.sofa       NaN   543.099976  519107250   \n",
       "3                   computers.notebook    lenovo   251.740005  550050854   \n",
       "4               electronics.smartphone     apple  1081.979980  535871217   \n",
       "\n",
       "                           user_session  \n",
       "0  72d76fde-8bb3-4e00-8c23-a032dfed738c  \n",
       "1  9333dfbd-b87a-4708-9857-6336556b0fcc  \n",
       "2  566511c2-e2e3-422b-b695-cf8e6e792ca8  \n",
       "3  7c90fc70-0e80-4590-96f3-13c02c18c713  \n",
       "4  c6bd7419-2748-4c56-95b4-8cec9ff8b80d  "
      ]
     },
     "execution_count": 3,
     "metadata": {},
     "output_type": "execute_result"
    }
   ],
   "source": [
    "copy_df = df.copy()\n",
    "copy_df.head()"
   ]
  },
  {
   "cell_type": "markdown",
   "id": "68477f2e",
   "metadata": {},
   "source": [
    "# 데이터 확인"
   ]
  },
  {
   "cell_type": "code",
   "execution_count": 4,
   "id": "16684524",
   "metadata": {
    "ExecuteTime": {
     "end_time": "2022-09-19T11:26:37.695204Z",
     "start_time": "2022-09-19T11:26:37.097205Z"
    }
   },
   "outputs": [
    {
     "data": {
      "text/plain": [
       "event_time              0\n",
       "event_type              0\n",
       "product_id              0\n",
       "category_id             0\n",
       "category_code    13515609\n",
       "brand             6117080\n",
       "price                   0\n",
       "user_id                 0\n",
       "user_session            2\n",
       "dtype: int64"
      ]
     },
     "execution_count": 4,
     "metadata": {},
     "output_type": "execute_result"
    }
   ],
   "source": [
    "copy_df.isnull().sum()"
   ]
  },
  {
   "cell_type": "markdown",
   "id": "3530978d",
   "metadata": {},
   "source": [
    "category_code와 brand 컬럼의 결측치가 존재하는 것으로 확인됩니다."
   ]
  },
  {
   "cell_type": "code",
   "execution_count": 5,
   "id": "72771aed",
   "metadata": {
    "ExecuteTime": {
     "end_time": "2022-09-19T11:26:38.280204Z",
     "start_time": "2022-09-19T11:26:37.727205Z"
    }
   },
   "outputs": [
    {
     "data": {
      "text/plain": [
       "event_time        0.000000\n",
       "event_type        0.000000\n",
       "product_id        0.000000\n",
       "category_id       0.000000\n",
       "category_code    31.839818\n",
       "brand            14.410502\n",
       "price             0.000000\n",
       "user_id           0.000000\n",
       "user_session      0.000005\n",
       "dtype: float64"
      ]
     },
     "execution_count": 5,
     "metadata": {},
     "output_type": "execute_result"
    }
   ],
   "source": [
    "copy_df.isnull().sum() / len(copy_df) * 100"
   ]
  },
  {
   "cell_type": "markdown",
   "id": "ef03a117",
   "metadata": {},
   "source": [
    "결측치는\n",
    "- **category_code : 31%**\n",
    "- **brand : 14%**\n",
    "\n",
    "입니다."
   ]
  },
  {
   "cell_type": "markdown",
   "id": "bd9ceda8",
   "metadata": {},
   "source": [
    "## event_time"
   ]
  },
  {
   "cell_type": "markdown",
   "id": "94846bd5",
   "metadata": {},
   "source": [
    "event_time 컬럼은 현재 `str`로 되어 있습니다.  \n",
    "1. 2019-10-01 부터 2019-10-31 까지 수집했으며, 맨 뒤에 UTC가 붙어 삭제처리를 해야합니다.\n",
    "2. 날짜를 쉽게 추출할 수 있도록 datetime으로 변경합니다."
   ]
  },
  {
   "cell_type": "code",
   "execution_count": 6,
   "id": "ff9f05c1",
   "metadata": {
    "ExecuteTime": {
     "end_time": "2022-09-19T11:26:40.920203Z",
     "start_time": "2022-09-19T11:26:38.312204Z"
    }
   },
   "outputs": [],
   "source": [
    "copy_df['event_time'] = copy_df['event_time'].apply(lambda x : x[:-4])"
   ]
  },
  {
   "cell_type": "code",
   "execution_count": 7,
   "id": "343a74f8",
   "metadata": {
    "ExecuteTime": {
     "end_time": "2022-09-19T11:26:45.201042Z",
     "start_time": "2022-09-19T11:26:40.952205Z"
    }
   },
   "outputs": [],
   "source": [
    "copy_df['event_time'] = pd.to_datetime(copy_df['event_time'])"
   ]
  },
  {
   "cell_type": "markdown",
   "id": "fd7bb7c3",
   "metadata": {},
   "source": [
    "## event_type\n",
    "event_time은 사용자가 어떤 행동을 하였는지 확인할 수 있습니다.\n",
    "- view\n",
    "- purchase\n",
    "- cart"
   ]
  },
  {
   "cell_type": "code",
   "execution_count": 8,
   "id": "ac1ca238",
   "metadata": {
    "ExecuteTime": {
     "end_time": "2022-09-19T11:26:45.531613Z",
     "start_time": "2022-09-19T11:26:45.293044Z"
    }
   },
   "outputs": [
    {
     "data": {
      "text/plain": [
       "['view', 'purchase', 'cart']\n",
       "Categories (3, object): ['cart', 'purchase', 'view']"
      ]
     },
     "execution_count": 8,
     "metadata": {},
     "output_type": "execute_result"
    }
   ],
   "source": [
    "copy_df['event_type'].unique()"
   ]
  },
  {
   "cell_type": "markdown",
   "id": "1cb9af47",
   "metadata": {},
   "source": [
    "## product_id\n",
    "제품의 ID를 나타내고 있습니다."
   ]
  },
  {
   "cell_type": "code",
   "execution_count": 9,
   "id": "e64cdd87",
   "metadata": {
    "ExecuteTime": {
     "end_time": "2022-09-19T11:26:45.848231Z",
     "start_time": "2022-09-19T11:26:45.563471Z"
    }
   },
   "outputs": [
    {
     "data": {
      "text/plain": [
       "166794"
      ]
     },
     "execution_count": 9,
     "metadata": {},
     "output_type": "execute_result"
    }
   ],
   "source": [
    "copy_df['product_id'].nunique()"
   ]
  },
  {
   "cell_type": "markdown",
   "id": "3796119a",
   "metadata": {},
   "source": [
    "총 16만개 정도의 제품이 있습니다."
   ]
  },
  {
   "cell_type": "markdown",
   "id": "b6ab2a46",
   "metadata": {},
   "source": [
    "## category_id\n",
    "category_id 컬럼은 int64-> int32로 경량화 하는 작업으로 인하여  \n",
    "int32의 양수의 범위를 넘는 데이터는 음수로 바뀐것으로 추측됩니다."
   ]
  },
  {
   "cell_type": "code",
   "execution_count": 10,
   "id": "435877d3",
   "metadata": {
    "ExecuteTime": {
     "end_time": "2022-09-19T11:26:46.118232Z",
     "start_time": "2022-09-19T11:26:45.879232Z"
    }
   },
   "outputs": [
    {
     "data": {
      "text/plain": [
       "624"
      ]
     },
     "execution_count": 10,
     "metadata": {},
     "output_type": "execute_result"
    }
   ],
   "source": [
    "copy_df['category_id'].nunique()"
   ]
  },
  {
   "cell_type": "markdown",
   "id": "cbae23a0",
   "metadata": {},
   "source": [
    "총 624개의 category_id가 존재합니다."
   ]
  },
  {
   "cell_type": "markdown",
   "id": "c54e791c",
   "metadata": {},
   "source": [
    "## category_code\n",
    "category_code는 전체 컬럼중 NULL값이 가장 많은 데이터입니다.  \n",
    "NULL값을 채우는 방법에 따라 결과가 달라질 것으로 추측됩니다.  \n",
    "- category_id로 결측치를 채울 수 있는 방법이 있을 수 있습니다.\n",
    "\n",
    "category별로 '.'으로 분리 할 수있는 형태로 보이며, 전처리를 해야할 것 같습니다."
   ]
  },
  {
   "cell_type": "code",
   "execution_count": 11,
   "id": "bd815998",
   "metadata": {
    "ExecuteTime": {
     "end_time": "2022-09-19T11:26:46.388232Z",
     "start_time": "2022-09-19T11:26:46.150233Z"
    }
   },
   "outputs": [
    {
     "data": {
      "text/plain": [
       "126"
      ]
     },
     "execution_count": 11,
     "metadata": {},
     "output_type": "execute_result"
    }
   ],
   "source": [
    "copy_df['category_code'].nunique()"
   ]
  },
  {
   "cell_type": "markdown",
   "id": "a025dac0",
   "metadata": {},
   "source": [
    "아직 '.'을 기준으로 category를 분리하지 않았지만, 126개의 유니크한 값들이 존재합니다."
   ]
  },
  {
   "cell_type": "code",
   "execution_count": 12,
   "id": "edc2eb41",
   "metadata": {
    "ExecuteTime": {
     "end_time": "2022-09-19T11:26:47.318263Z",
     "start_time": "2022-09-19T11:26:46.420234Z"
    }
   },
   "outputs": [
    {
     "data": {
      "text/plain": [
       "372"
      ]
     },
     "execution_count": 12,
     "metadata": {},
     "output_type": "execute_result"
    }
   ],
   "source": [
    "copy_df.loc[copy_df['category_code'].isnull()]['category_id'].nunique()"
   ]
  },
  {
   "cell_type": "markdown",
   "id": "21a985cf",
   "metadata": {},
   "source": [
    "category_code가 NULL인 값들만 조회했을 때, 유니크한 category_id는 372개 입니다."
   ]
  },
  {
   "cell_type": "code",
   "execution_count": 13,
   "id": "b59e7813",
   "metadata": {
    "ExecuteTime": {
     "end_time": "2022-09-19T11:26:48.099393Z",
     "start_time": "2022-09-19T11:26:47.350262Z"
    }
   },
   "outputs": [
    {
     "data": {
      "text/html": [
       "<div>\n",
       "<style scoped>\n",
       "    .dataframe tbody tr th:only-of-type {\n",
       "        vertical-align: middle;\n",
       "    }\n",
       "\n",
       "    .dataframe tbody tr th {\n",
       "        vertical-align: top;\n",
       "    }\n",
       "\n",
       "    .dataframe thead th {\n",
       "        text-align: right;\n",
       "    }\n",
       "</style>\n",
       "<table border=\"1\" class=\"dataframe\">\n",
       "  <thead>\n",
       "    <tr style=\"text-align: right;\">\n",
       "      <th></th>\n",
       "      <th>event_time</th>\n",
       "      <th>event_type</th>\n",
       "      <th>product_id</th>\n",
       "      <th>category_id</th>\n",
       "      <th>category_code</th>\n",
       "      <th>brand</th>\n",
       "      <th>price</th>\n",
       "      <th>user_id</th>\n",
       "      <th>user_session</th>\n",
       "    </tr>\n",
       "  </thead>\n",
       "  <tbody>\n",
       "    <tr>\n",
       "      <th>0</th>\n",
       "      <td>2019-10-01 00:00:00</td>\n",
       "      <td>view</td>\n",
       "      <td>44600062</td>\n",
       "      <td>-251657396</td>\n",
       "      <td>NaN</td>\n",
       "      <td>shiseido</td>\n",
       "      <td>35.790001</td>\n",
       "      <td>541312140</td>\n",
       "      <td>72d76fde-8bb3-4e00-8c23-a032dfed738c</td>\n",
       "    </tr>\n",
       "    <tr>\n",
       "      <th>6</th>\n",
       "      <td>2019-10-01 00:00:08</td>\n",
       "      <td>view</td>\n",
       "      <td>17300353</td>\n",
       "      <td>746586423</td>\n",
       "      <td>NaN</td>\n",
       "      <td>creed</td>\n",
       "      <td>380.959991</td>\n",
       "      <td>555447699</td>\n",
       "      <td>4fe811e9-91de-46da-90c3-bbd87ed3a65d</td>\n",
       "    </tr>\n",
       "    <tr>\n",
       "      <th>7</th>\n",
       "      <td>2019-10-01 00:00:08</td>\n",
       "      <td>view</td>\n",
       "      <td>31500053</td>\n",
       "      <td>629146159</td>\n",
       "      <td>NaN</td>\n",
       "      <td>luminarc</td>\n",
       "      <td>41.160000</td>\n",
       "      <td>550978835</td>\n",
       "      <td>6280d577-25c8-4147-99a7-abc6048498d6</td>\n",
       "    </tr>\n",
       "    <tr>\n",
       "      <th>13</th>\n",
       "      <td>2019-10-01 00:00:15</td>\n",
       "      <td>view</td>\n",
       "      <td>44600062</td>\n",
       "      <td>-251657396</td>\n",
       "      <td>NaN</td>\n",
       "      <td>shiseido</td>\n",
       "      <td>35.790001</td>\n",
       "      <td>541312140</td>\n",
       "      <td>72d76fde-8bb3-4e00-8c23-a032dfed738c</td>\n",
       "    </tr>\n",
       "    <tr>\n",
       "      <th>15</th>\n",
       "      <td>2019-10-01 00:00:17</td>\n",
       "      <td>view</td>\n",
       "      <td>23100006</td>\n",
       "      <td>-58719491</td>\n",
       "      <td>NaN</td>\n",
       "      <td>NaN</td>\n",
       "      <td>357.790009</td>\n",
       "      <td>513642368</td>\n",
       "      <td>17566c27-0a8f-4506-9f30-c6a2ccbf583b</td>\n",
       "    </tr>\n",
       "    <tr>\n",
       "      <th>...</th>\n",
       "      <td>...</td>\n",
       "      <td>...</td>\n",
       "      <td>...</td>\n",
       "      <td>...</td>\n",
       "      <td>...</td>\n",
       "      <td>...</td>\n",
       "      <td>...</td>\n",
       "      <td>...</td>\n",
       "      <td>...</td>\n",
       "    </tr>\n",
       "    <tr>\n",
       "      <th>42448750</th>\n",
       "      <td>2019-10-31 23:59:55</td>\n",
       "      <td>view</td>\n",
       "      <td>42200036</td>\n",
       "      <td>1325400745</td>\n",
       "      <td>NaN</td>\n",
       "      <td>NaN</td>\n",
       "      <td>17.500000</td>\n",
       "      <td>515474976</td>\n",
       "      <td>222c370b-0fac-4287-982b-e340f5eaf3a1</td>\n",
       "    </tr>\n",
       "    <tr>\n",
       "      <th>42448755</th>\n",
       "      <td>2019-10-31 23:59:58</td>\n",
       "      <td>view</td>\n",
       "      <td>12800151</td>\n",
       "      <td>-318766863</td>\n",
       "      <td>NaN</td>\n",
       "      <td>sony</td>\n",
       "      <td>8.490000</td>\n",
       "      <td>544578298</td>\n",
       "      <td>fb46b2fb-493b-477c-8d18-ea1c24c04020</td>\n",
       "    </tr>\n",
       "    <tr>\n",
       "      <th>42448756</th>\n",
       "      <td>2019-10-31 23:59:58</td>\n",
       "      <td>view</td>\n",
       "      <td>5100816</td>\n",
       "      <td>268435735</td>\n",
       "      <td>NaN</td>\n",
       "      <td>xiaomi</td>\n",
       "      <td>29.580000</td>\n",
       "      <td>543653226</td>\n",
       "      <td>ab310b47-1eb2-45f8-8e5b-21ab2010925a</td>\n",
       "    </tr>\n",
       "    <tr>\n",
       "      <th>42448760</th>\n",
       "      <td>2019-10-31 23:59:58</td>\n",
       "      <td>view</td>\n",
       "      <td>10800172</td>\n",
       "      <td>1887437177</td>\n",
       "      <td>NaN</td>\n",
       "      <td>redmond</td>\n",
       "      <td>61.750000</td>\n",
       "      <td>527322328</td>\n",
       "      <td>5054190a-46cb-4211-a8f1-16fc1a060ed8</td>\n",
       "    </tr>\n",
       "    <tr>\n",
       "      <th>42448763</th>\n",
       "      <td>2019-10-31 23:59:59</td>\n",
       "      <td>view</td>\n",
       "      <td>13300120</td>\n",
       "      <td>-234880513</td>\n",
       "      <td>NaN</td>\n",
       "      <td>swisshome</td>\n",
       "      <td>155.729996</td>\n",
       "      <td>525266378</td>\n",
       "      <td>6e57d2d7-6022-46e6-81d6-fa77f14cefd8</td>\n",
       "    </tr>\n",
       "  </tbody>\n",
       "</table>\n",
       "<p>13515609 rows × 9 columns</p>\n",
       "</div>"
      ],
      "text/plain": [
       "                  event_time event_type  product_id  category_id  \\\n",
       "0        2019-10-01 00:00:00       view    44600062   -251657396   \n",
       "6        2019-10-01 00:00:08       view    17300353    746586423   \n",
       "7        2019-10-01 00:00:08       view    31500053    629146159   \n",
       "13       2019-10-01 00:00:15       view    44600062   -251657396   \n",
       "15       2019-10-01 00:00:17       view    23100006    -58719491   \n",
       "...                      ...        ...         ...          ...   \n",
       "42448750 2019-10-31 23:59:55       view    42200036   1325400745   \n",
       "42448755 2019-10-31 23:59:58       view    12800151   -318766863   \n",
       "42448756 2019-10-31 23:59:58       view     5100816    268435735   \n",
       "42448760 2019-10-31 23:59:58       view    10800172   1887437177   \n",
       "42448763 2019-10-31 23:59:59       view    13300120   -234880513   \n",
       "\n",
       "         category_code      brand       price    user_id  \\\n",
       "0                  NaN   shiseido   35.790001  541312140   \n",
       "6                  NaN      creed  380.959991  555447699   \n",
       "7                  NaN   luminarc   41.160000  550978835   \n",
       "13                 NaN   shiseido   35.790001  541312140   \n",
       "15                 NaN        NaN  357.790009  513642368   \n",
       "...                ...        ...         ...        ...   \n",
       "42448750           NaN        NaN   17.500000  515474976   \n",
       "42448755           NaN       sony    8.490000  544578298   \n",
       "42448756           NaN     xiaomi   29.580000  543653226   \n",
       "42448760           NaN    redmond   61.750000  527322328   \n",
       "42448763           NaN  swisshome  155.729996  525266378   \n",
       "\n",
       "                                  user_session  \n",
       "0         72d76fde-8bb3-4e00-8c23-a032dfed738c  \n",
       "6         4fe811e9-91de-46da-90c3-bbd87ed3a65d  \n",
       "7         6280d577-25c8-4147-99a7-abc6048498d6  \n",
       "13        72d76fde-8bb3-4e00-8c23-a032dfed738c  \n",
       "15        17566c27-0a8f-4506-9f30-c6a2ccbf583b  \n",
       "...                                        ...  \n",
       "42448750  222c370b-0fac-4287-982b-e340f5eaf3a1  \n",
       "42448755  fb46b2fb-493b-477c-8d18-ea1c24c04020  \n",
       "42448756  ab310b47-1eb2-45f8-8e5b-21ab2010925a  \n",
       "42448760  5054190a-46cb-4211-a8f1-16fc1a060ed8  \n",
       "42448763  6e57d2d7-6022-46e6-81d6-fa77f14cefd8  \n",
       "\n",
       "[13515609 rows x 9 columns]"
      ]
     },
     "execution_count": 13,
     "metadata": {},
     "output_type": "execute_result"
    }
   ],
   "source": [
    "copy_df.loc[copy_df['category_code'].isnull()]"
   ]
  },
  {
   "cell_type": "markdown",
   "id": "4f0c4e42",
   "metadata": {},
   "source": [
    "## brand\n",
    "brand 컬럼 또한 NULL값이 존재하는 컬럼입니다."
   ]
  },
  {
   "cell_type": "code",
   "execution_count": 14,
   "id": "4e09110d",
   "metadata": {
    "ExecuteTime": {
     "end_time": "2022-09-19T11:26:48.399085Z",
     "start_time": "2022-09-19T11:26:48.132570Z"
    },
    "scrolled": true
   },
   "outputs": [
    {
     "data": {
      "text/plain": [
       "3444"
      ]
     },
     "execution_count": 14,
     "metadata": {},
     "output_type": "execute_result"
    }
   ],
   "source": [
    "copy_df['brand'].nunique()"
   ]
  },
  {
   "cell_type": "markdown",
   "id": "31e00c4f",
   "metadata": {},
   "source": [
    "3천 4백개의 브랜드가 존재합니다."
   ]
  },
  {
   "cell_type": "markdown",
   "id": "804c0d36",
   "metadata": {},
   "source": [
    "## price\n",
    "price 컬럼은 수치형 데이터입니다."
   ]
  },
  {
   "cell_type": "code",
   "execution_count": 15,
   "id": "f1783068",
   "metadata": {
    "ExecuteTime": {
     "end_time": "2022-09-19T11:27:02.813418Z",
     "start_time": "2022-09-19T11:26:48.432085Z"
    },
    "scrolled": true
   },
   "outputs": [
    {
     "data": {
      "image/png": "[encoded data removed]",
      "text/plain": [
       "<Figure size 1000x500 with 1 Axes>"
      ]
     },
     "metadata": {},
     "output_type": "display_data"
    }
   ],
   "source": [
    "plt.figure(figsize=(10,5))\n",
    "sns.histplot(data=copy_df, x='price')\n",
    "plt.show()"
   ]
  },
  {
   "cell_type": "markdown",
   "id": "37b4a1dc",
   "metadata": {},
   "source": [
    "## user_id"
   ]
  },
  {
   "cell_type": "code",
   "execution_count": 16,
   "id": "5d98be92",
   "metadata": {
    "ExecuteTime": {
     "end_time": "2022-09-19T11:27:04.043418Z",
     "start_time": "2022-09-19T11:27:02.845419Z"
    }
   },
   "outputs": [
    {
     "data": {
      "text/plain": [
       "3022290"
      ]
     },
     "execution_count": 16,
     "metadata": {},
     "output_type": "execute_result"
    }
   ],
   "source": [
    "copy_df['user_id'].nunique()"
   ]
  },
  {
   "cell_type": "markdown",
   "id": "7b057035",
   "metadata": {},
   "source": [
    "약 3백만명의 유저들의 데이터가 수집된 것을 확인할 수 있습니다."
   ]
  },
  {
   "cell_type": "markdown",
   "id": "364d7d47",
   "metadata": {},
   "source": [
    "## user_session"
   ]
  },
  {
   "cell_type": "code",
   "execution_count": 17,
   "id": "716faab4",
   "metadata": {
    "ExecuteTime": {
     "end_time": "2022-09-19T11:27:05.486295Z",
     "start_time": "2022-09-19T11:27:04.075418Z"
    }
   },
   "outputs": [
    {
     "data": {
      "text/plain": [
       "9244421"
      ]
     },
     "execution_count": 17,
     "metadata": {},
     "output_type": "execute_result"
    }
   ],
   "source": [
    "copy_df['user_session'].nunique()"
   ]
  },
  {
   "cell_type": "markdown",
   "id": "47bab7a6",
   "metadata": {},
   "source": [
    "# 전체(10월 한달동안)방문자수는 얼마인가?"
   ]
  },
  {
   "cell_type": "code",
   "execution_count": 22,
   "id": "ca35f353",
   "metadata": {
    "ExecuteTime": {
     "end_time": "2022-09-19T11:28:15.431439Z",
     "start_time": "2022-09-19T11:28:14.222438Z"
    }
   },
   "outputs": [
    {
     "data": {
      "text/plain": [
       "3022290"
      ]
     },
     "execution_count": 22,
     "metadata": {},
     "output_type": "execute_result"
    }
   ],
   "source": [
    "copy_df['user_id'].nunique()"
   ]
  },
  {
   "cell_type": "markdown",
   "id": "fcb8414c",
   "metadata": {},
   "source": [
    "총 3백만명 정도의 유저가 방문한 것으로 확인됩니다."
   ]
  },
  {
   "cell_type": "markdown",
   "id": "2ad7509c",
   "metadata": {},
   "source": [
    "# 전체(10월 한달동안) 매출액은 얼마인가?"
   ]
  },
  {
   "cell_type": "code",
   "execution_count": 23,
   "id": "a1354a8a",
   "metadata": {
    "ExecuteTime": {
     "end_time": "2022-09-19T11:29:24.407443Z",
     "start_time": "2022-09-19T11:29:24.384443Z"
    }
   },
   "outputs": [
    {
     "data": {
      "text/html": [
       "<div>\n",
       "<style scoped>\n",
       "    .dataframe tbody tr th:only-of-type {\n",
       "        vertical-align: middle;\n",
       "    }\n",
       "\n",
       "    .dataframe tbody tr th {\n",
       "        vertical-align: top;\n",
       "    }\n",
       "\n",
       "    .dataframe thead th {\n",
       "        text-align: right;\n",
       "    }\n",
       "</style>\n",
       "<table border=\"1\" class=\"dataframe\">\n",
       "  <thead>\n",
       "    <tr style=\"text-align: right;\">\n",
       "      <th></th>\n",
       "      <th>event_time</th>\n",
       "      <th>event_type</th>\n",
       "      <th>product_id</th>\n",
       "      <th>category_id</th>\n",
       "      <th>category_code</th>\n",
       "      <th>brand</th>\n",
       "      <th>price</th>\n",
       "      <th>user_id</th>\n",
       "      <th>user_session</th>\n",
       "    </tr>\n",
       "  </thead>\n",
       "  <tbody>\n",
       "    <tr>\n",
       "      <th>0</th>\n",
       "      <td>2019-10-01 00:00:00</td>\n",
       "      <td>view</td>\n",
       "      <td>44600062</td>\n",
       "      <td>-251657396</td>\n",
       "      <td>NaN</td>\n",
       "      <td>shiseido</td>\n",
       "      <td>35.790001</td>\n",
       "      <td>541312140</td>\n",
       "      <td>72d76fde-8bb3-4e00-8c23-a032dfed738c</td>\n",
       "    </tr>\n",
       "    <tr>\n",
       "      <th>1</th>\n",
       "      <td>2019-10-01 00:00:00</td>\n",
       "      <td>view</td>\n",
       "      <td>3900821</td>\n",
       "      <td>-780140327</td>\n",
       "      <td>appliances.environment.water_heater</td>\n",
       "      <td>aqua</td>\n",
       "      <td>33.200001</td>\n",
       "      <td>554748717</td>\n",
       "      <td>9333dfbd-b87a-4708-9857-6336556b0fcc</td>\n",
       "    </tr>\n",
       "    <tr>\n",
       "      <th>2</th>\n",
       "      <td>2019-10-01 00:00:01</td>\n",
       "      <td>view</td>\n",
       "      <td>17200506</td>\n",
       "      <td>-1904213353</td>\n",
       "      <td>furniture.living_room.sofa</td>\n",
       "      <td>NaN</td>\n",
       "      <td>543.099976</td>\n",
       "      <td>519107250</td>\n",
       "      <td>566511c2-e2e3-422b-b695-cf8e6e792ca8</td>\n",
       "    </tr>\n",
       "    <tr>\n",
       "      <th>3</th>\n",
       "      <td>2019-10-01 00:00:01</td>\n",
       "      <td>view</td>\n",
       "      <td>1307067</td>\n",
       "      <td>1518338663</td>\n",
       "      <td>computers.notebook</td>\n",
       "      <td>lenovo</td>\n",
       "      <td>251.740005</td>\n",
       "      <td>550050854</td>\n",
       "      <td>7c90fc70-0e80-4590-96f3-13c02c18c713</td>\n",
       "    </tr>\n",
       "    <tr>\n",
       "      <th>4</th>\n",
       "      <td>2019-10-01 00:00:04</td>\n",
       "      <td>view</td>\n",
       "      <td>1004237</td>\n",
       "      <td>-1769995873</td>\n",
       "      <td>electronics.smartphone</td>\n",
       "      <td>apple</td>\n",
       "      <td>1081.979980</td>\n",
       "      <td>535871217</td>\n",
       "      <td>c6bd7419-2748-4c56-95b4-8cec9ff8b80d</td>\n",
       "    </tr>\n",
       "  </tbody>\n",
       "</table>\n",
       "</div>"
      ],
      "text/plain": [
       "           event_time event_type  product_id  category_id  \\\n",
       "0 2019-10-01 00:00:00       view    44600062   -251657396   \n",
       "1 2019-10-01 00:00:00       view     3900821   -780140327   \n",
       "2 2019-10-01 00:00:01       view    17200506  -1904213353   \n",
       "3 2019-10-01 00:00:01       view     1307067   1518338663   \n",
       "4 2019-10-01 00:00:04       view     1004237  -1769995873   \n",
       "\n",
       "                         category_code     brand        price    user_id  \\\n",
       "0                                  NaN  shiseido    35.790001  541312140   \n",
       "1  appliances.environment.water_heater      aqua    33.200001  554748717   \n",
       "2           furniture.living_room.sofa       NaN   543.099976  519107250   \n",
       "3                   computers.notebook    lenovo   251.740005  550050854   \n",
       "4               electronics.smartphone     apple  1081.979980  535871217   \n",
       "\n",
       "                           user_session  \n",
       "0  72d76fde-8bb3-4e00-8c23-a032dfed738c  \n",
       "1  9333dfbd-b87a-4708-9857-6336556b0fcc  \n",
       "2  566511c2-e2e3-422b-b695-cf8e6e792ca8  \n",
       "3  7c90fc70-0e80-4590-96f3-13c02c18c713  \n",
       "4  c6bd7419-2748-4c56-95b4-8cec9ff8b80d  "
      ]
     },
     "execution_count": 23,
     "metadata": {},
     "output_type": "execute_result"
    }
   ],
   "source": [
    "copy_df.head()"
   ]
  },
  {
   "cell_type": "code",
   "execution_count": 27,
   "id": "e0561b3e",
   "metadata": {
    "ExecuteTime": {
     "end_time": "2022-09-19T11:31:04.440074Z",
     "start_time": "2022-09-19T11:31:04.353073Z"
    }
   },
   "outputs": [
    {
     "data": {
      "text/plain": [
       "229957500.0"
      ]
     },
     "execution_count": 27,
     "metadata": {},
     "output_type": "execute_result"
    }
   ],
   "source": [
    "copy_df.loc[copy_df['event_type'] == 'purchase', 'price'].sum()"
   ]
  },
  {
   "cell_type": "markdown",
   "id": "58fdccb0",
   "metadata": {},
   "source": [
    "price의 단위가 달러라고 가정해보았을 때, 약 2억 3천만 달러가 판매가 되었습니다.  \n",
    "현재 환율로 환산하면, 약 한화로 3,206억원 정도 입니다."
   ]
  },
  {
   "cell_type": "markdown",
   "id": "b931c893",
   "metadata": {},
   "source": [
    "# DAU(일별 활동 이용자)는 평균적으로 몇명인가?"
   ]
  },
  {
   "cell_type": "code",
   "execution_count": 39,
   "id": "c93b2fb3",
   "metadata": {
    "ExecuteTime": {
     "end_time": "2022-09-19T12:19:56.750245Z",
     "start_time": "2022-09-19T12:19:05.204428Z"
    }
   },
   "outputs": [
    {
     "name": "stderr",
     "output_type": "stream",
     "text": [
      "100%|██████████| 31/31 [00:51<00:00,  1.66s/it]"
     ]
    },
    {
     "name": "stdout",
     "output_type": "stream",
     "text": [
      "208829.7741935484\n"
     ]
    },
    {
     "name": "stderr",
     "output_type": "stream",
     "text": [
      "\n"
     ]
    }
   ],
   "source": [
    "daus = []\n",
    "for day in tqdm(range(1, 32,1)):\n",
    "    dau = copy_df.loc[copy_df['event_time'].dt.day == day]['user_id'].nunique()\n",
    "    daus.append(dau)"
   ]
  },
  {
   "cell_type": "code",
   "execution_count": 42,
   "id": "1c69c2ee",
   "metadata": {
    "ExecuteTime": {
     "end_time": "2022-09-19T12:21:35.705579Z",
     "start_time": "2022-09-19T12:21:35.690579Z"
    }
   },
   "outputs": [
    {
     "name": "stdout",
     "output_type": "stream",
     "text": [
      "208830\n"
     ]
    }
   ],
   "source": [
    "print(round(np.mean(daus)))"
   ]
  },
  {
   "cell_type": "markdown",
   "id": "5434863d",
   "metadata": {},
   "source": [
    "일별 활동 이용자는 평균적으로 20만명정도 됩니다."
   ]
  },
  {
   "cell_type": "markdown",
   "id": "e049f85e",
   "metadata": {},
   "source": [
    "# WAU는 평균적으로 몇명인가?"
   ]
  },
  {
   "cell_type": "code",
   "execution_count": 54,
   "id": "05a2b66d",
   "metadata": {
    "ExecuteTime": {
     "end_time": "2022-09-19T12:58:12.181442Z",
     "start_time": "2022-09-19T12:57:59.032444Z"
    }
   },
   "outputs": [
    {
     "name": "stdout",
     "output_type": "stream",
     "text": [
      "1주 : 734691\n",
      "2주 : 1047455\n",
      "3주 : 1989498\n",
      "4주 : 1111053\n",
      "5주 : 764234\n",
      "평균 : 1129386\n"
     ]
    }
   ],
   "source": [
    "week1 = copy_df.loc[copy_df['event_time'].dt.day.isin([1,2,3,4,5])]['user_id'].nunique()\n",
    "week2 = copy_df.loc[copy_df['event_time'].dt.day.isin(list(range(6, 12+1)))]['user_id'].nunique()\n",
    "week3 = copy_df.loc[copy_df['event_time'].dt.day.isin(list(range(3, 19+1)))]['user_id'].nunique()\n",
    "week4 = copy_df.loc[copy_df['event_time'].dt.day.isin(list(range(20, 26+1)))]['user_id'].nunique()\n",
    "week5 = copy_df.loc[copy_df['event_time'].dt.day.isin(list(range(27, 31+1)))]['user_id'].nunique()\n",
    "\n",
    "print('1주 :',week1)\n",
    "print('2주 :',week2)\n",
    "print('3주 :',week3)\n",
    "print('4주 :',week4)\n",
    "print('5주 :',week5)\n",
    "waus = [week1, week2, week3, week4, week5]\n",
    "print('평균 :',round(np.mean(waus)))"
   ]
  },
  {
   "cell_type": "markdown",
   "id": "818fc3ef",
   "metadata": {},
   "source": [
    "# 1인당 평균 매입액(객단가)는 얼마인가?\n",
    "객단가 : 매출액 / 고객수\n",
    "- 고객 한명의 평균 매입액\n",
    "\n",
    "ex) \n",
    "- A : 4, 4, 5\n",
    "- B : 5\n",
    "- C : 5\n",
    "\n",
    "객단가 : 76000원 정도((4+4+5+5+5)/3)"
   ]
  },
  {
   "cell_type": "code",
   "execution_count": 45,
   "id": "271058fe",
   "metadata": {
    "ExecuteTime": {
     "end_time": "2022-09-19T12:32:35.455954Z",
     "start_time": "2022-09-19T12:32:34.133955Z"
    }
   },
   "outputs": [
    {
     "name": "stdout",
     "output_type": "stream",
     "text": [
      "76.08717363323838\n"
     ]
    }
   ],
   "source": [
    "user_number = copy_df['user_id'].nunique()\n",
    "purchase_amount = copy_df.loc[copy_df['event_type'] == 'purchase', 'price'].sum()\n",
    "\n",
    "result = purchase_amount / user_number\n",
    "print(result)"
   ]
  },
  {
   "cell_type": "markdown",
   "id": "49170977",
   "metadata": {
    "ExecuteTime": {
     "end_time": "2022-09-19T12:33:07.221724Z",
     "start_time": "2022-09-19T12:33:07.202721Z"
    }
   },
   "source": [
    "10월 한달 1인당 평균 매입액(객단가)는 약 76달러로 현재 환율로 환산하면 약 10만원 정도입니다."
   ]
  },
  {
   "cell_type": "code",
   "execution_count": null,
   "id": "5b52eb0c",
   "metadata": {},
   "outputs": [],
   "source": []
  },
  {
   "cell_type": "markdown",
   "id": "2da3bbad",
   "metadata": {},
   "source": [
    "# 사람들이 어떤 제품을 가장 많이 구매하는가?"
   ]
  },
  {
   "cell_type": "markdown",
   "id": "64006789",
   "metadata": {},
   "source": [
    "event_type 중 purchase만 가져와서 확인하겠습니다."
   ]
  },
  {
   "cell_type": "code",
   "execution_count": 165,
   "id": "15460d94",
   "metadata": {
    "ExecuteTime": {
     "end_time": "2022-09-16T08:07:58.248989Z",
     "start_time": "2022-09-16T08:07:58.112967Z"
    }
   },
   "outputs": [
    {
     "data": {
      "text/plain": [
       "(742849, 9)"
      ]
     },
     "execution_count": 165,
     "metadata": {},
     "output_type": "execute_result"
    }
   ],
   "source": [
    "purchase = copy_df.loc[copy_df['event_type'] == 'purchase']\n",
    "purchase.shape"
   ]
  },
  {
   "cell_type": "code",
   "execution_count": 166,
   "id": "fdd37f9b",
   "metadata": {
    "ExecuteTime": {
     "end_time": "2022-09-16T08:08:07.805661Z",
     "start_time": "2022-09-16T08:08:07.781661Z"
    }
   },
   "outputs": [
    {
     "data": {
      "text/html": [
       "<div>\n",
       "<style scoped>\n",
       "    .dataframe tbody tr th:only-of-type {\n",
       "        vertical-align: middle;\n",
       "    }\n",
       "\n",
       "    .dataframe tbody tr th {\n",
       "        vertical-align: top;\n",
       "    }\n",
       "\n",
       "    .dataframe thead th {\n",
       "        text-align: right;\n",
       "    }\n",
       "</style>\n",
       "<table border=\"1\" class=\"dataframe\">\n",
       "  <thead>\n",
       "    <tr style=\"text-align: right;\">\n",
       "      <th></th>\n",
       "      <th>event_time</th>\n",
       "      <th>event_type</th>\n",
       "      <th>product_id</th>\n",
       "      <th>category_id</th>\n",
       "      <th>category_code</th>\n",
       "      <th>brand</th>\n",
       "      <th>price</th>\n",
       "      <th>user_id</th>\n",
       "      <th>user_session</th>\n",
       "    </tr>\n",
       "  </thead>\n",
       "  <tbody>\n",
       "    <tr>\n",
       "      <th>162</th>\n",
       "      <td>2019-10-01 00:02:14</td>\n",
       "      <td>purchase</td>\n",
       "      <td>1004856</td>\n",
       "      <td>-1769995873</td>\n",
       "      <td>electronics.smartphone</td>\n",
       "      <td>samsung</td>\n",
       "      <td>130.759995</td>\n",
       "      <td>543272936</td>\n",
       "      <td>8187d148-3c41-46d4-b0c0-9c08cd9dc564</td>\n",
       "    </tr>\n",
       "    <tr>\n",
       "      <th>308</th>\n",
       "      <td>2019-10-01 00:04:37</td>\n",
       "      <td>purchase</td>\n",
       "      <td>1002532</td>\n",
       "      <td>-1769995873</td>\n",
       "      <td>electronics.smartphone</td>\n",
       "      <td>apple</td>\n",
       "      <td>642.690002</td>\n",
       "      <td>551377651</td>\n",
       "      <td>3c80f0d6-e9ec-4181-8c5c-837a30be2d68</td>\n",
       "    </tr>\n",
       "    <tr>\n",
       "      <th>379</th>\n",
       "      <td>2019-10-01 00:06:02</td>\n",
       "      <td>purchase</td>\n",
       "      <td>5100816</td>\n",
       "      <td>268435735</td>\n",
       "      <td>NaN</td>\n",
       "      <td>xiaomi</td>\n",
       "      <td>29.510000</td>\n",
       "      <td>514591159</td>\n",
       "      <td>0e5dfc4b-2a55-43e6-8c05-97e1f07fbb56</td>\n",
       "    </tr>\n",
       "    <tr>\n",
       "      <th>442</th>\n",
       "      <td>2019-10-01 00:07:07</td>\n",
       "      <td>purchase</td>\n",
       "      <td>13800054</td>\n",
       "      <td>16777737</td>\n",
       "      <td>furniture.bathroom.toilet</td>\n",
       "      <td>santeri</td>\n",
       "      <td>54.419998</td>\n",
       "      <td>555332717</td>\n",
       "      <td>1dea3ee2-2ded-42e8-8e7a-4e2ad6ae942f</td>\n",
       "    </tr>\n",
       "    <tr>\n",
       "      <th>574</th>\n",
       "      <td>2019-10-01 00:09:26</td>\n",
       "      <td>purchase</td>\n",
       "      <td>4804055</td>\n",
       "      <td>1551892843</td>\n",
       "      <td>electronics.audio.headphone</td>\n",
       "      <td>apple</td>\n",
       "      <td>189.910004</td>\n",
       "      <td>524601178</td>\n",
       "      <td>2af9b570-0942-4dcd-8f25-4d84fba82553</td>\n",
       "    </tr>\n",
       "  </tbody>\n",
       "</table>\n",
       "</div>"
      ],
      "text/plain": [
       "             event_time event_type  product_id  category_id  \\\n",
       "162 2019-10-01 00:02:14   purchase     1004856  -1769995873   \n",
       "308 2019-10-01 00:04:37   purchase     1002532  -1769995873   \n",
       "379 2019-10-01 00:06:02   purchase     5100816    268435735   \n",
       "442 2019-10-01 00:07:07   purchase    13800054     16777737   \n",
       "574 2019-10-01 00:09:26   purchase     4804055   1551892843   \n",
       "\n",
       "                   category_code    brand       price    user_id  \\\n",
       "162       electronics.smartphone  samsung  130.759995  543272936   \n",
       "308       electronics.smartphone    apple  642.690002  551377651   \n",
       "379                          NaN   xiaomi   29.510000  514591159   \n",
       "442    furniture.bathroom.toilet  santeri   54.419998  555332717   \n",
       "574  electronics.audio.headphone    apple  189.910004  524601178   \n",
       "\n",
       "                             user_session  \n",
       "162  8187d148-3c41-46d4-b0c0-9c08cd9dc564  \n",
       "308  3c80f0d6-e9ec-4181-8c5c-837a30be2d68  \n",
       "379  0e5dfc4b-2a55-43e6-8c05-97e1f07fbb56  \n",
       "442  1dea3ee2-2ded-42e8-8e7a-4e2ad6ae942f  \n",
       "574  2af9b570-0942-4dcd-8f25-4d84fba82553  "
      ]
     },
     "execution_count": 166,
     "metadata": {},
     "output_type": "execute_result"
    }
   ],
   "source": [
    "purchase.head()"
   ]
  },
  {
   "cell_type": "code",
   "execution_count": 241,
   "id": "00dc4ab1",
   "metadata": {
    "ExecuteTime": {
     "end_time": "2022-09-16T09:07:05.231827Z",
     "start_time": "2022-09-16T09:07:05.209827Z"
    }
   },
   "outputs": [],
   "source": [
    "top10_product = purchase['product_id'].value_counts()[:10]"
   ]
  },
  {
   "cell_type": "code",
   "execution_count": 242,
   "id": "53e5504c",
   "metadata": {
    "ExecuteTime": {
     "end_time": "2022-09-16T09:07:05.532857Z",
     "start_time": "2022-09-16T09:07:05.459847Z"
    }
   },
   "outputs": [],
   "source": [
    "products = []\n",
    "for i in range(len(top10_product)):\n",
    "    product = top10_product.index[i]\n",
    "    count = top10_product.values[i]\n",
    "    category_code = purchase.loc[purchase['product_id']==product]['category_code'].unique()[0]\n",
    "    brand = purchase.loc[purchase['product_id']==product]['brand'].unique()[0]\n",
    "    \n",
    "    products.append([product,category_code, brand, count])"
   ]
  },
  {
   "cell_type": "code",
   "execution_count": 244,
   "id": "03b3cc72",
   "metadata": {
    "ExecuteTime": {
     "end_time": "2022-09-16T09:07:28.176476Z",
     "start_time": "2022-09-16T09:07:28.159478Z"
    }
   },
   "outputs": [
    {
     "data": {
      "text/html": [
       "<div>\n",
       "<style scoped>\n",
       "    .dataframe tbody tr th:only-of-type {\n",
       "        vertical-align: middle;\n",
       "    }\n",
       "\n",
       "    .dataframe tbody tr th {\n",
       "        vertical-align: top;\n",
       "    }\n",
       "\n",
       "    .dataframe thead th {\n",
       "        text-align: right;\n",
       "    }\n",
       "</style>\n",
       "<table border=\"1\" class=\"dataframe\">\n",
       "  <thead>\n",
       "    <tr style=\"text-align: right;\">\n",
       "      <th></th>\n",
       "      <th>product_id</th>\n",
       "      <th>category_code</th>\n",
       "      <th>brand</th>\n",
       "      <th>count</th>\n",
       "    </tr>\n",
       "  </thead>\n",
       "  <tbody>\n",
       "    <tr>\n",
       "      <th>0</th>\n",
       "      <td>1004856</td>\n",
       "      <td>electronics.smartphone</td>\n",
       "      <td>samsung</td>\n",
       "      <td>28944</td>\n",
       "    </tr>\n",
       "    <tr>\n",
       "      <th>1</th>\n",
       "      <td>1004767</td>\n",
       "      <td>electronics.smartphone</td>\n",
       "      <td>samsung</td>\n",
       "      <td>21806</td>\n",
       "    </tr>\n",
       "    <tr>\n",
       "      <th>2</th>\n",
       "      <td>1004833</td>\n",
       "      <td>electronics.smartphone</td>\n",
       "      <td>samsung</td>\n",
       "      <td>12697</td>\n",
       "    </tr>\n",
       "    <tr>\n",
       "      <th>3</th>\n",
       "      <td>1005115</td>\n",
       "      <td>electronics.smartphone</td>\n",
       "      <td>apple</td>\n",
       "      <td>12543</td>\n",
       "    </tr>\n",
       "    <tr>\n",
       "      <th>4</th>\n",
       "      <td>4804056</td>\n",
       "      <td>electronics.audio.headphone</td>\n",
       "      <td>apple</td>\n",
       "      <td>12381</td>\n",
       "    </tr>\n",
       "    <tr>\n",
       "      <th>5</th>\n",
       "      <td>1004870</td>\n",
       "      <td>electronics.smartphone</td>\n",
       "      <td>samsung</td>\n",
       "      <td>10615</td>\n",
       "    </tr>\n",
       "    <tr>\n",
       "      <th>6</th>\n",
       "      <td>1002544</td>\n",
       "      <td>electronics.smartphone</td>\n",
       "      <td>apple</td>\n",
       "      <td>10549</td>\n",
       "    </tr>\n",
       "    <tr>\n",
       "      <th>7</th>\n",
       "      <td>1004249</td>\n",
       "      <td>electronics.smartphone</td>\n",
       "      <td>apple</td>\n",
       "      <td>9090</td>\n",
       "    </tr>\n",
       "    <tr>\n",
       "      <th>8</th>\n",
       "      <td>1004836</td>\n",
       "      <td>electronics.smartphone</td>\n",
       "      <td>samsung</td>\n",
       "      <td>7691</td>\n",
       "    </tr>\n",
       "    <tr>\n",
       "      <th>9</th>\n",
       "      <td>1005105</td>\n",
       "      <td>electronics.smartphone</td>\n",
       "      <td>apple</td>\n",
       "      <td>7293</td>\n",
       "    </tr>\n",
       "  </tbody>\n",
       "</table>\n",
       "</div>"
      ],
      "text/plain": [
       "   product_id                category_code    brand  count\n",
       "0     1004856       electronics.smartphone  samsung  28944\n",
       "1     1004767       electronics.smartphone  samsung  21806\n",
       "2     1004833       electronics.smartphone  samsung  12697\n",
       "3     1005115       electronics.smartphone    apple  12543\n",
       "4     4804056  electronics.audio.headphone    apple  12381\n",
       "5     1004870       electronics.smartphone  samsung  10615\n",
       "6     1002544       electronics.smartphone    apple  10549\n",
       "7     1004249       electronics.smartphone    apple   9090\n",
       "8     1004836       electronics.smartphone  samsung   7691\n",
       "9     1005105       electronics.smartphone    apple   7293"
      ]
     },
     "execution_count": 244,
     "metadata": {},
     "output_type": "execute_result"
    }
   ],
   "source": [
    "pd.DataFrame(products, columns=['product_id','category_code','brand','count'])"
   ]
  },
  {
   "cell_type": "markdown",
   "id": "568e8465",
   "metadata": {},
   "source": [
    " "
   ]
  }
 ],
 "metadata": {
  "kernelspec": {
   "display_name": "Python 3 (ipykernel)",
   "language": "python",
   "name": "python3"
  },
  "language_info": {
   "codemirror_mode": {
    "name": "ipython",
    "version": 3
   },
   "file_extension": ".py",
   "mimetype": "text/x-python",
   "name": "python",
   "nbconvert_exporter": "python",
   "pygments_lexer": "ipython3",
   "version": "3.7.13"
  },
  "toc": {
   "base_numbering": 1,
   "nav_menu": {},
   "number_sections": true,
   "sideBar": true,
   "skip_h1_title": false,
   "title_cell": "Table of Contents",
   "title_sidebar": "Contents",
   "toc_cell": false,
   "toc_position": {},
   "toc_section_display": true,
   "toc_window_display": false
  },
  "varInspector": {
   "cols": {
    "lenName": 16,
    "lenType": 16,
    "lenVar": 40
   },
   "kernels_config": {
    "python": {
     "delete_cmd_postfix": "",
     "delete_cmd_prefix": "del ",
     "library": "var_list.py",
     "varRefreshCmd": "print(var_dic_list())"
    },
    "r": {
     "delete_cmd_postfix": ") ",
     "delete_cmd_prefix": "rm(",
     "library": "var_list.r",
     "varRefreshCmd": "cat(var_dic_list()) "
    }
   },
   "types_to_exclude": [
    "module",
    "function",
    "builtin_function_or_method",
    "instance",
    "_Feature"
   ],
   "window_display": false
  }
 },
 "nbformat": 4,
 "nbformat_minor": 5
}
