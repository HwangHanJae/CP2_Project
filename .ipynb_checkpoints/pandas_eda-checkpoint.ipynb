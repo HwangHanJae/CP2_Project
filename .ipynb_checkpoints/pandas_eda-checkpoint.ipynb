{
 "cells": [
  {
   "cell_type": "markdown",
   "id": "3bbf9a2b",
   "metadata": {
    "id": "3bbf9a2b"
   },
   "source": [
    "# 가정\n",
    "국가는 **아랍에미리트**, 이커머스 사이트를 **아마존**이라고 가정\n",
    "\n",
    "- 참고링크1 : https://blog.naver.com/fedex_kr/222697326719\n",
    "- 참고링크2 : https://blog.naver.com/dhzhdapxk/222279313175\n",
    "\n",
    "아랍에미리트의 전자상거래시장의 성장률을 19년도 이후부터 상승하고 있으며,  \n",
    "2017년도 7월 중동 최대 온라인 쇼핑몰인 수크 닷컴을 아마존에서 인수하였음."
   ]
  },
  {
   "cell_type": "markdown",
   "id": "f7225ce8",
   "metadata": {
    "id": "f7225ce8"
   },
   "source": [
    "# 라이브러리 로드"
   ]
  },
  {
   "cell_type": "code",
   "execution_count": null,
   "id": "i1vlOkVBRHW3",
   "metadata": {
    "colab": {
     "base_uri": "https://localhost:8080/"
    },
    "id": "i1vlOkVBRHW3",
    "outputId": "6073c383-9027-4f10-a837-eab909e230e6"
   },
   "outputs": [
    {
     "name": "stdout",
     "output_type": "stream",
     "text": [
      "Looking in indexes: https://pypi.org/simple, https://us-python.pkg.dev/colab-wheels/public/simple/\n",
      "Collecting fastparquet\n",
      "  Downloading fastparquet-0.8.1-cp37-cp37m-manylinux_2_17_x86_64.manylinux2014_x86_64.whl (1.5 MB)\n",
      "\u001b[K     |████████████████████████████████| 1.5 MB 25.2 MB/s \n",
      "\u001b[?25hRequirement already satisfied: pandas>=1.1.0 in /usr/local/lib/python3.7/dist-packages (from fastparquet) (1.3.5)\n",
      "Collecting cramjam>=2.3.0\n",
      "  Downloading cramjam-2.5.0-cp37-cp37m-manylinux_2_5_x86_64.manylinux1_x86_64.whl (1.6 MB)\n",
      "\u001b[K     |████████████████████████████████| 1.6 MB 52.3 MB/s \n",
      "\u001b[?25hRequirement already satisfied: fsspec in /usr/local/lib/python3.7/dist-packages (from fastparquet) (2022.8.2)\n",
      "Requirement already satisfied: numpy>=1.18 in /usr/local/lib/python3.7/dist-packages (from fastparquet) (1.21.6)\n",
      "Requirement already satisfied: pytz>=2017.3 in /usr/local/lib/python3.7/dist-packages (from pandas>=1.1.0->fastparquet) (2022.2.1)\n",
      "Requirement already satisfied: python-dateutil>=2.7.3 in /usr/local/lib/python3.7/dist-packages (from pandas>=1.1.0->fastparquet) (2.8.2)\n",
      "Requirement already satisfied: six>=1.5 in /usr/local/lib/python3.7/dist-packages (from python-dateutil>=2.7.3->pandas>=1.1.0->fastparquet) (1.15.0)\n",
      "Installing collected packages: cramjam, fastparquet\n",
      "Successfully installed cramjam-2.5.0 fastparquet-0.8.1\n"
     ]
    }
   ],
   "source": [
    "#!pip install fastparquet"
   ]
  },
  {
   "cell_type": "code",
   "execution_count": 242,
   "id": "74aaf1e5",
   "metadata": {
    "ExecuteTime": {
     "end_time": "2022-09-21T06:46:30.557837Z",
     "start_time": "2022-09-21T06:46:30.533839Z"
    },
    "id": "74aaf1e5"
   },
   "outputs": [],
   "source": [
    "import pandas as pd\n",
    "import numpy as np\n",
    "from tqdm import tqdm\n",
    "import matplotlib.pyplot as plt\n",
    "import seaborn as sns\n",
    "\n",
    "plt.style.use('ggplot')"
   ]
  },
  {
   "cell_type": "code",
   "execution_count": 243,
   "id": "lC3UcMm9Q2FQ",
   "metadata": {
    "ExecuteTime": {
     "end_time": "2022-09-21T06:46:31.143223Z",
     "start_time": "2022-09-21T06:46:31.130214Z"
    },
    "colab": {
     "base_uri": "https://localhost:8080/"
    },
    "id": "lC3UcMm9Q2FQ",
    "outputId": "b89b7eb6-256f-4c83-a28e-c35408046855"
   },
   "outputs": [],
   "source": [
    "# from google.colab import drive\n",
    "# drive.mount('/content/drive')"
   ]
  },
  {
   "cell_type": "markdown",
   "id": "a81c8af0",
   "metadata": {
    "id": "a81c8af0"
   },
   "source": [
    "# 데이터 로드"
   ]
  },
  {
   "cell_type": "code",
   "execution_count": 244,
   "id": "c393ac89",
   "metadata": {
    "ExecuteTime": {
     "end_time": "2022-09-21T06:46:37.905310Z",
     "start_time": "2022-09-21T06:46:31.670751Z"
    },
    "colab": {
     "base_uri": "https://localhost:8080/",
     "height": 206
    },
    "id": "c393ac89",
    "outputId": "d24390bf-c83e-4a76-d62f-d6b004f59cc3"
   },
   "outputs": [
    {
     "data": {
      "text/html": [
       "<div>\n",
       "<style scoped>\n",
       "    .dataframe tbody tr th:only-of-type {\n",
       "        vertical-align: middle;\n",
       "    }\n",
       "\n",
       "    .dataframe tbody tr th {\n",
       "        vertical-align: top;\n",
       "    }\n",
       "\n",
       "    .dataframe thead th {\n",
       "        text-align: right;\n",
       "    }\n",
       "</style>\n",
       "<table border=\"1\" class=\"dataframe\">\n",
       "  <thead>\n",
       "    <tr style=\"text-align: right;\">\n",
       "      <th></th>\n",
       "      <th>event_time</th>\n",
       "      <th>event_type</th>\n",
       "      <th>product_id</th>\n",
       "      <th>category_id</th>\n",
       "      <th>category_code</th>\n",
       "      <th>brand</th>\n",
       "      <th>price</th>\n",
       "      <th>user_id</th>\n",
       "      <th>user_session</th>\n",
       "    </tr>\n",
       "  </thead>\n",
       "  <tbody>\n",
       "    <tr>\n",
       "      <th>0</th>\n",
       "      <td>2019-10-01 00:00:00 UTC</td>\n",
       "      <td>view</td>\n",
       "      <td>44600062</td>\n",
       "      <td>-251657396</td>\n",
       "      <td>NaN</td>\n",
       "      <td>shiseido</td>\n",
       "      <td>35.790001</td>\n",
       "      <td>541312140</td>\n",
       "      <td>72d76fde-8bb3-4e00-8c23-a032dfed738c</td>\n",
       "    </tr>\n",
       "    <tr>\n",
       "      <th>1</th>\n",
       "      <td>2019-10-01 00:00:00 UTC</td>\n",
       "      <td>view</td>\n",
       "      <td>3900821</td>\n",
       "      <td>-780140327</td>\n",
       "      <td>appliances.environment.water_heater</td>\n",
       "      <td>aqua</td>\n",
       "      <td>33.200001</td>\n",
       "      <td>554748717</td>\n",
       "      <td>9333dfbd-b87a-4708-9857-6336556b0fcc</td>\n",
       "    </tr>\n",
       "    <tr>\n",
       "      <th>2</th>\n",
       "      <td>2019-10-01 00:00:01 UTC</td>\n",
       "      <td>view</td>\n",
       "      <td>17200506</td>\n",
       "      <td>-1904213353</td>\n",
       "      <td>furniture.living_room.sofa</td>\n",
       "      <td>NaN</td>\n",
       "      <td>543.099976</td>\n",
       "      <td>519107250</td>\n",
       "      <td>566511c2-e2e3-422b-b695-cf8e6e792ca8</td>\n",
       "    </tr>\n",
       "    <tr>\n",
       "      <th>3</th>\n",
       "      <td>2019-10-01 00:00:01 UTC</td>\n",
       "      <td>view</td>\n",
       "      <td>1307067</td>\n",
       "      <td>1518338663</td>\n",
       "      <td>computers.notebook</td>\n",
       "      <td>lenovo</td>\n",
       "      <td>251.740005</td>\n",
       "      <td>550050854</td>\n",
       "      <td>7c90fc70-0e80-4590-96f3-13c02c18c713</td>\n",
       "    </tr>\n",
       "    <tr>\n",
       "      <th>4</th>\n",
       "      <td>2019-10-01 00:00:04 UTC</td>\n",
       "      <td>view</td>\n",
       "      <td>1004237</td>\n",
       "      <td>-1769995873</td>\n",
       "      <td>electronics.smartphone</td>\n",
       "      <td>apple</td>\n",
       "      <td>1081.979980</td>\n",
       "      <td>535871217</td>\n",
       "      <td>c6bd7419-2748-4c56-95b4-8cec9ff8b80d</td>\n",
       "    </tr>\n",
       "  </tbody>\n",
       "</table>\n",
       "</div>"
      ],
      "text/plain": [
       "                event_time event_type  product_id  category_id  \\\n",
       "0  2019-10-01 00:00:00 UTC       view    44600062   -251657396   \n",
       "1  2019-10-01 00:00:00 UTC       view     3900821   -780140327   \n",
       "2  2019-10-01 00:00:01 UTC       view    17200506  -1904213353   \n",
       "3  2019-10-01 00:00:01 UTC       view     1307067   1518338663   \n",
       "4  2019-10-01 00:00:04 UTC       view     1004237  -1769995873   \n",
       "\n",
       "                         category_code     brand        price    user_id  \\\n",
       "0                                  NaN  shiseido    35.790001  541312140   \n",
       "1  appliances.environment.water_heater      aqua    33.200001  554748717   \n",
       "2           furniture.living_room.sofa       NaN   543.099976  519107250   \n",
       "3                   computers.notebook    lenovo   251.740005  550050854   \n",
       "4               electronics.smartphone     apple  1081.979980  535871217   \n",
       "\n",
       "                           user_session  \n",
       "0  72d76fde-8bb3-4e00-8c23-a032dfed738c  \n",
       "1  9333dfbd-b87a-4708-9857-6336556b0fcc  \n",
       "2  566511c2-e2e3-422b-b695-cf8e6e792ca8  \n",
       "3  7c90fc70-0e80-4590-96f3-13c02c18c713  \n",
       "4  c6bd7419-2748-4c56-95b4-8cec9ff8b80d  "
      ]
     },
     "execution_count": 244,
     "metadata": {},
     "output_type": "execute_result"
    }
   ],
   "source": [
    "try:\n",
    "  path = 'C:/Users/User/Desktop/AIB_13/CP2/data/'\n",
    "  df = pd.read_parquet(path + 'light_2019-Oct.parquet', engine='fastparquet')\n",
    "except:\n",
    "  path = '/content/drive/MyDrive/CP2/data/'\n",
    "  df = pd.read_parquet(path + 'light_2019-Oct.parquet', engine='fastparquet')\n",
    "\n",
    "df.head()"
   ]
  },
  {
   "cell_type": "markdown",
   "id": "224b90d5",
   "metadata": {
    "id": "224b90d5"
   },
   "source": [
    "## 혹시 모를경우를 대비하여 df 복사"
   ]
  },
  {
   "cell_type": "code",
   "execution_count": 245,
   "id": "0d44defe",
   "metadata": {
    "ExecuteTime": {
     "end_time": "2022-09-21T06:46:50.194886Z",
     "start_time": "2022-09-21T06:46:49.895889Z"
    },
    "colab": {
     "base_uri": "https://localhost:8080/",
     "height": 206
    },
    "id": "0d44defe",
    "outputId": "a6f9db30-2b2b-49b2-a47a-657219e156b4",
    "scrolled": true
   },
   "outputs": [
    {
     "data": {
      "text/html": [
       "<div>\n",
       "<style scoped>\n",
       "    .dataframe tbody tr th:only-of-type {\n",
       "        vertical-align: middle;\n",
       "    }\n",
       "\n",
       "    .dataframe tbody tr th {\n",
       "        vertical-align: top;\n",
       "    }\n",
       "\n",
       "    .dataframe thead th {\n",
       "        text-align: right;\n",
       "    }\n",
       "</style>\n",
       "<table border=\"1\" class=\"dataframe\">\n",
       "  <thead>\n",
       "    <tr style=\"text-align: right;\">\n",
       "      <th></th>\n",
       "      <th>event_time</th>\n",
       "      <th>event_type</th>\n",
       "      <th>product_id</th>\n",
       "      <th>category_id</th>\n",
       "      <th>category_code</th>\n",
       "      <th>brand</th>\n",
       "      <th>price</th>\n",
       "      <th>user_id</th>\n",
       "      <th>user_session</th>\n",
       "    </tr>\n",
       "  </thead>\n",
       "  <tbody>\n",
       "    <tr>\n",
       "      <th>0</th>\n",
       "      <td>2019-10-01 00:00:00 UTC</td>\n",
       "      <td>view</td>\n",
       "      <td>44600062</td>\n",
       "      <td>-251657396</td>\n",
       "      <td>NaN</td>\n",
       "      <td>shiseido</td>\n",
       "      <td>35.790001</td>\n",
       "      <td>541312140</td>\n",
       "      <td>72d76fde-8bb3-4e00-8c23-a032dfed738c</td>\n",
       "    </tr>\n",
       "    <tr>\n",
       "      <th>1</th>\n",
       "      <td>2019-10-01 00:00:00 UTC</td>\n",
       "      <td>view</td>\n",
       "      <td>3900821</td>\n",
       "      <td>-780140327</td>\n",
       "      <td>appliances.environment.water_heater</td>\n",
       "      <td>aqua</td>\n",
       "      <td>33.200001</td>\n",
       "      <td>554748717</td>\n",
       "      <td>9333dfbd-b87a-4708-9857-6336556b0fcc</td>\n",
       "    </tr>\n",
       "    <tr>\n",
       "      <th>2</th>\n",
       "      <td>2019-10-01 00:00:01 UTC</td>\n",
       "      <td>view</td>\n",
       "      <td>17200506</td>\n",
       "      <td>-1904213353</td>\n",
       "      <td>furniture.living_room.sofa</td>\n",
       "      <td>NaN</td>\n",
       "      <td>543.099976</td>\n",
       "      <td>519107250</td>\n",
       "      <td>566511c2-e2e3-422b-b695-cf8e6e792ca8</td>\n",
       "    </tr>\n",
       "    <tr>\n",
       "      <th>3</th>\n",
       "      <td>2019-10-01 00:00:01 UTC</td>\n",
       "      <td>view</td>\n",
       "      <td>1307067</td>\n",
       "      <td>1518338663</td>\n",
       "      <td>computers.notebook</td>\n",
       "      <td>lenovo</td>\n",
       "      <td>251.740005</td>\n",
       "      <td>550050854</td>\n",
       "      <td>7c90fc70-0e80-4590-96f3-13c02c18c713</td>\n",
       "    </tr>\n",
       "    <tr>\n",
       "      <th>4</th>\n",
       "      <td>2019-10-01 00:00:04 UTC</td>\n",
       "      <td>view</td>\n",
       "      <td>1004237</td>\n",
       "      <td>-1769995873</td>\n",
       "      <td>electronics.smartphone</td>\n",
       "      <td>apple</td>\n",
       "      <td>1081.979980</td>\n",
       "      <td>535871217</td>\n",
       "      <td>c6bd7419-2748-4c56-95b4-8cec9ff8b80d</td>\n",
       "    </tr>\n",
       "  </tbody>\n",
       "</table>\n",
       "</div>"
      ],
      "text/plain": [
       "                event_time event_type  product_id  category_id  \\\n",
       "0  2019-10-01 00:00:00 UTC       view    44600062   -251657396   \n",
       "1  2019-10-01 00:00:00 UTC       view     3900821   -780140327   \n",
       "2  2019-10-01 00:00:01 UTC       view    17200506  -1904213353   \n",
       "3  2019-10-01 00:00:01 UTC       view     1307067   1518338663   \n",
       "4  2019-10-01 00:00:04 UTC       view     1004237  -1769995873   \n",
       "\n",
       "                         category_code     brand        price    user_id  \\\n",
       "0                                  NaN  shiseido    35.790001  541312140   \n",
       "1  appliances.environment.water_heater      aqua    33.200001  554748717   \n",
       "2           furniture.living_room.sofa       NaN   543.099976  519107250   \n",
       "3                   computers.notebook    lenovo   251.740005  550050854   \n",
       "4               electronics.smartphone     apple  1081.979980  535871217   \n",
       "\n",
       "                           user_session  \n",
       "0  72d76fde-8bb3-4e00-8c23-a032dfed738c  \n",
       "1  9333dfbd-b87a-4708-9857-6336556b0fcc  \n",
       "2  566511c2-e2e3-422b-b695-cf8e6e792ca8  \n",
       "3  7c90fc70-0e80-4590-96f3-13c02c18c713  \n",
       "4  c6bd7419-2748-4c56-95b4-8cec9ff8b80d  "
      ]
     },
     "execution_count": 245,
     "metadata": {},
     "output_type": "execute_result"
    }
   ],
   "source": [
    "copy_df = df.copy()\n",
    "copy_df.head()"
   ]
  },
  {
   "cell_type": "markdown",
   "id": "68477f2e",
   "metadata": {
    "id": "68477f2e"
   },
   "source": [
    "# 데이터 확인"
   ]
  },
  {
   "cell_type": "code",
   "execution_count": 246,
   "id": "16684524",
   "metadata": {
    "ExecuteTime": {
     "end_time": "2022-09-21T06:46:51.364912Z",
     "start_time": "2022-09-21T06:46:50.767910Z"
    },
    "colab": {
     "base_uri": "https://localhost:8080/"
    },
    "id": "16684524",
    "outputId": "b8ddd316-c314-4bed-b643-3e27404cb12c"
   },
   "outputs": [
    {
     "data": {
      "text/plain": [
       "event_time              0\n",
       "event_type              0\n",
       "product_id              0\n",
       "category_id             0\n",
       "category_code    13515609\n",
       "brand             6117080\n",
       "price                   0\n",
       "user_id                 0\n",
       "user_session            2\n",
       "dtype: int64"
      ]
     },
     "execution_count": 246,
     "metadata": {},
     "output_type": "execute_result"
    }
   ],
   "source": [
    "copy_df.isnull().sum()"
   ]
  },
  {
   "cell_type": "markdown",
   "id": "3530978d",
   "metadata": {
    "id": "3530978d"
   },
   "source": [
    "category_code와 brand 컬럼의 결측치가 존재하는 것으로 확인됩니다."
   ]
  },
  {
   "cell_type": "code",
   "execution_count": 247,
   "id": "72771aed",
   "metadata": {
    "ExecuteTime": {
     "end_time": "2022-09-21T06:46:52.504947Z",
     "start_time": "2022-09-21T06:46:51.935950Z"
    },
    "colab": {
     "base_uri": "https://localhost:8080/"
    },
    "id": "72771aed",
    "outputId": "7320d3a1-82b6-43ba-df2e-c01c88a2f5f4"
   },
   "outputs": [
    {
     "data": {
      "text/plain": [
       "event_time        0.000000\n",
       "event_type        0.000000\n",
       "product_id        0.000000\n",
       "category_id       0.000000\n",
       "category_code    31.839818\n",
       "brand            14.410502\n",
       "price             0.000000\n",
       "user_id           0.000000\n",
       "user_session      0.000005\n",
       "dtype: float64"
      ]
     },
     "execution_count": 247,
     "metadata": {},
     "output_type": "execute_result"
    }
   ],
   "source": [
    "copy_df.isnull().sum() / len(copy_df) * 100"
   ]
  },
  {
   "cell_type": "markdown",
   "id": "ef03a117",
   "metadata": {
    "id": "ef03a117"
   },
   "source": [
    "결측치는\n",
    "- **category_code : 31%**\n",
    "- **brand : 14%**\n",
    "\n",
    "입니다."
   ]
  },
  {
   "cell_type": "markdown",
   "id": "bd9ceda8",
   "metadata": {
    "id": "bd9ceda8"
   },
   "source": [
    "## event_time"
   ]
  },
  {
   "cell_type": "markdown",
   "id": "94846bd5",
   "metadata": {
    "id": "94846bd5"
   },
   "source": [
    "event_time 컬럼은 현재 `str`로 되어 있습니다.  \n",
    "1. 2019-10-01 부터 2019-10-31 까지 수집했으며, 맨 뒤에 UTC가 붙어 삭제처리를 해야합니다.\n",
    "2. 날짜를 쉽게 추출할 수 있도록 datetime으로 변경합니다.  \n",
    "3. GMT+4 국가를 대상으로 진행하기 때문에 UTC 시간에 4시간을 더해줍니다."
   ]
  },
  {
   "cell_type": "code",
   "execution_count": 248,
   "id": "ff9f05c1",
   "metadata": {
    "ExecuteTime": {
     "end_time": "2022-09-21T06:46:55.701049Z",
     "start_time": "2022-09-21T06:46:53.076965Z"
    },
    "id": "ff9f05c1"
   },
   "outputs": [],
   "source": [
    "copy_df['event_time'] = copy_df['event_time'].apply(lambda x : x[:-4])"
   ]
  },
  {
   "cell_type": "code",
   "execution_count": 249,
   "id": "343a74f8",
   "metadata": {
    "ExecuteTime": {
     "end_time": "2022-09-21T06:47:01.718018Z",
     "start_time": "2022-09-21T06:46:56.243595Z"
    },
    "id": "343a74f8"
   },
   "outputs": [],
   "source": [
    "#copy_df['event_time'] = pd.to_datetime(copy_df['event_time'])\n",
    "copy_df['event_time'] = copy_df['event_time'].astype('datetime64')"
   ]
  },
  {
   "cell_type": "code",
   "execution_count": 250,
   "id": "117f9b64",
   "metadata": {
    "ExecuteTime": {
     "end_time": "2022-09-21T06:47:02.798015Z",
     "start_time": "2022-09-21T06:47:02.260015Z"
    }
   },
   "outputs": [
    {
     "data": {
      "text/plain": [
       "42448759   2019-11-01 03:59:58\n",
       "42448760   2019-11-01 03:59:58\n",
       "42448761   2019-11-01 03:59:58\n",
       "42448762   2019-11-01 03:59:59\n",
       "42448763   2019-11-01 03:59:59\n",
       "Name: event_time, dtype: datetime64[ns]"
      ]
     },
     "execution_count": 250,
     "metadata": {},
     "output_type": "execute_result"
    }
   ],
   "source": [
    "import datetime\n",
    "copy_df['event_time'] = copy_df['event_time']+datetime.timedelta(hours=4)\n",
    "copy_df['event_time'].tail()"
   ]
  },
  {
   "cell_type": "markdown",
   "id": "edb31169",
   "metadata": {},
   "source": [
    "11월로 넘어가는 데이터가 존재하기 때문에 제거해줍니다."
   ]
  },
  {
   "cell_type": "code",
   "execution_count": 251,
   "id": "8b499fc7",
   "metadata": {
    "ExecuteTime": {
     "end_time": "2022-09-21T06:47:05.349019Z",
     "start_time": "2022-09-21T06:47:03.369018Z"
    }
   },
   "outputs": [],
   "source": [
    "copy_df = copy_df.loc[copy_df['event_time'] < '2019-11-01']"
   ]
  },
  {
   "cell_type": "markdown",
   "id": "fd7bb7c3",
   "metadata": {
    "id": "fd7bb7c3"
   },
   "source": [
    "## event_type\n",
    "event_time은 사용자가 어떤 행동을 하였는지 확인할 수 있습니다.\n",
    "- view\n",
    "- purchase\n",
    "- cart"
   ]
  },
  {
   "cell_type": "code",
   "execution_count": 252,
   "id": "ac1ca238",
   "metadata": {
    "ExecuteTime": {
     "end_time": "2022-09-21T06:47:06.114017Z",
     "start_time": "2022-09-21T06:47:05.875020Z"
    },
    "colab": {
     "base_uri": "https://localhost:8080/"
    },
    "id": "ac1ca238",
    "outputId": "950ae9c2-df41-492d-8cfc-21514a9c8cdb"
   },
   "outputs": [
    {
     "data": {
      "text/plain": [
       "['view', 'purchase', 'cart']\n",
       "Categories (3, object): ['cart', 'purchase', 'view']"
      ]
     },
     "execution_count": 252,
     "metadata": {},
     "output_type": "execute_result"
    }
   ],
   "source": [
    "copy_df['event_type'].unique()"
   ]
  },
  {
   "cell_type": "code",
   "execution_count": 253,
   "id": "15f12e2f",
   "metadata": {
    "ExecuteTime": {
     "end_time": "2022-09-21T06:47:06.909015Z",
     "start_time": "2022-09-21T06:47:06.670018Z"
    },
    "id": "15f12e2f",
    "outputId": "ab5763d6-41f9-4cea-d605-83b8bfe7eb94"
   },
   "outputs": [
    {
     "data": {
      "text/plain": [
       "view        40730693\n",
       "cart          926012\n",
       "purchase      742225\n",
       "Name: event_type, dtype: int64"
      ]
     },
     "execution_count": 253,
     "metadata": {},
     "output_type": "execute_result"
    }
   ],
   "source": [
    "copy_df['event_type'].value_counts()"
   ]
  },
  {
   "cell_type": "code",
   "execution_count": 254,
   "id": "8f4a0af3",
   "metadata": {
    "ExecuteTime": {
     "end_time": "2022-09-21T06:47:07.749018Z",
     "start_time": "2022-09-21T06:47:07.496018Z"
    }
   },
   "outputs": [
    {
     "data": {
      "text/plain": [
       "view        96.065379\n",
       "cart         2.184046\n",
       "purchase     1.750575\n",
       "Name: event_type, dtype: float64"
      ]
     },
     "execution_count": 254,
     "metadata": {},
     "output_type": "execute_result"
    }
   ],
   "source": [
    "copy_df['event_type'].value_counts(normalize=True) * 100"
   ]
  },
  {
   "cell_type": "markdown",
   "id": "19545051",
   "metadata": {},
   "source": [
    "전체 데이터 중 96%정도가 view, 약 2%가 cart, purchase를 나타내고 있습니다."
   ]
  },
  {
   "cell_type": "markdown",
   "id": "1cb9af47",
   "metadata": {
    "id": "1cb9af47"
   },
   "source": [
    "## product_id\n",
    "제품의 ID를 나타내고 있습니다."
   ]
  },
  {
   "cell_type": "code",
   "execution_count": 255,
   "id": "e64cdd87",
   "metadata": {
    "ExecuteTime": {
     "end_time": "2022-09-21T06:47:08.574959Z",
     "start_time": "2022-09-21T06:47:08.306924Z"
    },
    "colab": {
     "base_uri": "https://localhost:8080/"
    },
    "id": "e64cdd87",
    "outputId": "e2e20095-778c-4c6b-81d2-54485377c9f3"
   },
   "outputs": [
    {
     "data": {
      "text/plain": [
       "166744"
      ]
     },
     "execution_count": 255,
     "metadata": {},
     "output_type": "execute_result"
    }
   ],
   "source": [
    "copy_df['product_id'].nunique()"
   ]
  },
  {
   "cell_type": "markdown",
   "id": "3796119a",
   "metadata": {
    "id": "3796119a"
   },
   "source": [
    "총 16만개 정도의 제품이 있습니다."
   ]
  },
  {
   "cell_type": "markdown",
   "id": "b6ab2a46",
   "metadata": {
    "id": "b6ab2a46"
   },
   "source": [
    "## category_id\n",
    "category_id 컬럼은 int64-> int32로 경량화 하는 작업으로 인하여  \n",
    "int32의 양수의 범위를 넘는 데이터는 음수로 바뀐것으로 추측됩니다."
   ]
  },
  {
   "cell_type": "code",
   "execution_count": 256,
   "id": "435877d3",
   "metadata": {
    "ExecuteTime": {
     "end_time": "2022-09-21T06:47:09.339956Z",
     "start_time": "2022-09-21T06:47:09.100959Z"
    },
    "colab": {
     "base_uri": "https://localhost:8080/"
    },
    "id": "435877d3",
    "outputId": "fa275307-5597-414e-cff3-88838c1a6ba0"
   },
   "outputs": [
    {
     "data": {
      "text/plain": [
       "624"
      ]
     },
     "execution_count": 256,
     "metadata": {},
     "output_type": "execute_result"
    }
   ],
   "source": [
    "copy_df['category_id'].nunique()"
   ]
  },
  {
   "cell_type": "markdown",
   "id": "cbae23a0",
   "metadata": {
    "id": "cbae23a0"
   },
   "source": [
    "총 624개의 category_id가 존재합니다."
   ]
  },
  {
   "cell_type": "code",
   "execution_count": 257,
   "id": "edc2eb41",
   "metadata": {
    "ExecuteTime": {
     "end_time": "2022-09-21T06:47:10.749967Z",
     "start_time": "2022-09-21T06:47:09.881969Z"
    },
    "colab": {
     "base_uri": "https://localhost:8080/"
    },
    "id": "edc2eb41",
    "outputId": "2a645cd8-a74b-4a06-e518-ab1bfb43f3a0"
   },
   "outputs": [
    {
     "data": {
      "text/plain": [
       "372"
      ]
     },
     "execution_count": 257,
     "metadata": {},
     "output_type": "execute_result"
    }
   ],
   "source": [
    "copy_df.loc[copy_df['category_code'].isnull()]['category_id'].nunique()"
   ]
  },
  {
   "cell_type": "markdown",
   "id": "21a985cf",
   "metadata": {
    "id": "21a985cf"
   },
   "source": [
    "category_code가 NULL인 값들만 조회했을 때, 유니크한 category_id는 372개 입니다."
   ]
  },
  {
   "cell_type": "markdown",
   "id": "c54e791c",
   "metadata": {
    "id": "c54e791c"
   },
   "source": [
    "## category_code\n",
    "category_code는 전체 컬럼중 NULL값이 가장 많은 데이터입니다.  \n",
    "NULL값을 채우는 방법에 따라 결과가 달라질 것으로 추측됩니다.  \n",
    "- category_id로 결측치를 채울 수 있는 방법이 있을 수 있습니다."
   ]
  },
  {
   "cell_type": "code",
   "execution_count": 258,
   "id": "bd815998",
   "metadata": {
    "ExecuteTime": {
     "end_time": "2022-09-21T06:47:11.499968Z",
     "start_time": "2022-09-21T06:47:11.276970Z"
    },
    "colab": {
     "base_uri": "https://localhost:8080/"
    },
    "id": "bd815998",
    "outputId": "e32321b8-e9a3-4c29-9aff-0ca7196cbb61"
   },
   "outputs": [
    {
     "data": {
      "text/plain": [
       "126"
      ]
     },
     "execution_count": 258,
     "metadata": {},
     "output_type": "execute_result"
    }
   ],
   "source": [
    "copy_df['category_code'].nunique()"
   ]
  },
  {
   "cell_type": "markdown",
   "id": "a025dac0",
   "metadata": {
    "id": "a025dac0"
   },
   "source": [
    "아직 '.'을 기준으로 category를 분리하지 않았지만, 126개의 유니크한 값들이 존재합니다."
   ]
  },
  {
   "cell_type": "markdown",
   "id": "4f0c4e42",
   "metadata": {
    "id": "4f0c4e42"
   },
   "source": [
    "## brand\n",
    "brand 컬럼 또한 NULL값이 존재하는 컬럼입니다."
   ]
  },
  {
   "cell_type": "code",
   "execution_count": 259,
   "id": "4e09110d",
   "metadata": {
    "ExecuteTime": {
     "end_time": "2022-09-21T06:47:12.234970Z",
     "start_time": "2022-09-21T06:47:12.010970Z"
    },
    "colab": {
     "base_uri": "https://localhost:8080/"
    },
    "id": "4e09110d",
    "outputId": "2a9cdef2-c55e-4147-d087-ae54d41dff73",
    "scrolled": true
   },
   "outputs": [
    {
     "data": {
      "text/plain": [
       "3438"
      ]
     },
     "execution_count": 259,
     "metadata": {},
     "output_type": "execute_result"
    }
   ],
   "source": [
    "copy_df['brand'].nunique()"
   ]
  },
  {
   "cell_type": "markdown",
   "id": "31e00c4f",
   "metadata": {
    "id": "31e00c4f"
   },
   "source": [
    "3천 4백개의 브랜드가 존재합니다."
   ]
  },
  {
   "cell_type": "markdown",
   "id": "804c0d36",
   "metadata": {
    "id": "804c0d36"
   },
   "source": [
    "## price\n",
    "price 컬럼은 수치형 데이터입니다."
   ]
  },
  {
   "cell_type": "code",
   "execution_count": 260,
   "id": "f1783068",
   "metadata": {
    "ExecuteTime": {
     "end_time": "2022-09-21T06:47:26.321065Z",
     "start_time": "2022-09-21T06:47:12.746972Z"
    },
    "colab": {
     "base_uri": "https://localhost:8080/",
     "height": 337
    },
    "id": "f1783068",
    "outputId": "d8582caf-a242-491d-9514-e5c1fd0b1116",
    "scrolled": true
   },
   "outputs": [
    {
     "data": {
      "image/png": "[encoded data removed]",
      "text/plain": [
       "<Figure size 1000x500 with 1 Axes>"
      ]
     },
     "metadata": {},
     "output_type": "display_data"
    }
   ],
   "source": [
    "plt.figure(figsize=(10,5))\n",
    "sns.histplot(data=copy_df, x='price')\n",
    "plt.show()"
   ]
  },
  {
   "cell_type": "markdown",
   "id": "37b4a1dc",
   "metadata": {
    "id": "37b4a1dc"
   },
   "source": [
    "## user_id"
   ]
  },
  {
   "cell_type": "code",
   "execution_count": 261,
   "id": "5d98be92",
   "metadata": {
    "ExecuteTime": {
     "end_time": "2022-09-21T06:47:28.061075Z",
     "start_time": "2022-09-21T06:47:26.908067Z"
    },
    "colab": {
     "base_uri": "https://localhost:8080/"
    },
    "id": "5d98be92",
    "outputId": "1ca04e1c-7581-4b7e-bc0f-54d9ab1cd125"
   },
   "outputs": [
    {
     "data": {
      "text/plain": [
       "3019274"
      ]
     },
     "execution_count": 261,
     "metadata": {},
     "output_type": "execute_result"
    }
   ],
   "source": [
    "copy_df['user_id'].nunique()"
   ]
  },
  {
   "cell_type": "markdown",
   "id": "7b057035",
   "metadata": {
    "id": "7b057035"
   },
   "source": [
    "약 3백만명의 유저들의 데이터가 수집된 것을 확인할 수 있습니다."
   ]
  },
  {
   "cell_type": "markdown",
   "id": "364d7d47",
   "metadata": {
    "id": "364d7d47"
   },
   "source": [
    "## user_session"
   ]
  },
  {
   "cell_type": "code",
   "execution_count": 262,
   "id": "716faab4",
   "metadata": {
    "ExecuteTime": {
     "end_time": "2022-09-21T06:47:29.951076Z",
     "start_time": "2022-09-21T06:47:28.602079Z"
    },
    "colab": {
     "base_uri": "https://localhost:8080/"
    },
    "id": "716faab4",
    "outputId": "764c4464-b2db-4c13-8aad-482b8a1584d4"
   },
   "outputs": [
    {
     "data": {
      "text/plain": [
       "9233890"
      ]
     },
     "execution_count": 262,
     "metadata": {},
     "output_type": "execute_result"
    }
   ],
   "source": [
    "copy_df['user_session'].nunique()"
   ]
  },
  {
   "cell_type": "markdown",
   "id": "47bab7a6",
   "metadata": {
    "id": "47bab7a6"
   },
   "source": [
    "# 전체(10월 한달동안)방문자수는 얼마인가?"
   ]
  },
  {
   "cell_type": "code",
   "execution_count": 263,
   "id": "ca35f353",
   "metadata": {
    "ExecuteTime": {
     "end_time": "2022-09-21T06:47:31.646075Z",
     "start_time": "2022-09-21T06:47:30.477079Z"
    },
    "colab": {
     "base_uri": "https://localhost:8080/"
    },
    "id": "ca35f353",
    "outputId": "3a8e34f4-be74-4a88-8f09-8f813efca916"
   },
   "outputs": [
    {
     "data": {
      "text/plain": [
       "3019274"
      ]
     },
     "execution_count": 263,
     "metadata": {},
     "output_type": "execute_result"
    }
   ],
   "source": [
    "copy_df['user_id'].nunique()"
   ]
  },
  {
   "cell_type": "markdown",
   "id": "fcb8414c",
   "metadata": {
    "id": "fcb8414c"
   },
   "source": [
    "총 3백만명 정도의 유저가 방문한 것으로 확인됩니다."
   ]
  },
  {
   "cell_type": "markdown",
   "id": "2ad7509c",
   "metadata": {
    "id": "2ad7509c"
   },
   "source": [
    "# 전체(10월 한달동안) 매출액은 얼마인가?"
   ]
  },
  {
   "cell_type": "code",
   "execution_count": 264,
   "id": "e0561b3e",
   "metadata": {
    "ExecuteTime": {
     "end_time": "2022-09-21T06:47:32.261075Z",
     "start_time": "2022-09-21T06:47:32.172079Z"
    },
    "colab": {
     "base_uri": "https://localhost:8080/"
    },
    "id": "e0561b3e",
    "outputId": "6193b50b-1bb2-48d6-c224-a6710de33a4f"
   },
   "outputs": [
    {
     "data": {
      "text/plain": [
       "229715570.0"
      ]
     },
     "execution_count": 264,
     "metadata": {},
     "output_type": "execute_result"
    }
   ],
   "source": [
    "copy_df.loc[copy_df['event_type'] == 'purchase', 'price'].sum()"
   ]
  },
  {
   "cell_type": "markdown",
   "id": "58fdccb0",
   "metadata": {
    "id": "58fdccb0"
   },
   "source": [
    "price의 단위가 달러라고 가정해보았을 때, 약 2억 3천만 달러가 판매가 되었습니다.  \n",
    "현재 환율로 환산하면, 약 한화로 3,206억원 정도 입니다."
   ]
  },
  {
   "cell_type": "markdown",
   "id": "e0024d30",
   "metadata": {},
   "source": [
    "## 일별 매출액은 얼마인가?"
   ]
  },
  {
   "cell_type": "code",
   "execution_count": 400,
   "id": "16660858",
   "metadata": {
    "ExecuteTime": {
     "end_time": "2022-09-21T12:01:38.273368Z",
     "start_time": "2022-09-21T12:01:38.059370Z"
    }
   },
   "outputs": [],
   "source": [
    "purchase = copy_df.loc[copy_df['event_type'] == 'purchase']"
   ]
  },
  {
   "cell_type": "code",
   "execution_count": 401,
   "id": "a1840d39",
   "metadata": {
    "ExecuteTime": {
     "end_time": "2022-09-21T12:01:42.404836Z",
     "start_time": "2022-09-21T12:01:42.121301Z"
    }
   },
   "outputs": [
    {
     "data": {
      "image/png": "[encoded data removed]",
      "text/plain": [
       "<Figure size 1000x500 with 1 Axes>"
      ]
     },
     "metadata": {},
     "output_type": "display_data"
    },
    {
     "name": "stdout",
     "output_type": "stream",
     "text": [
      "하루 평균 매출액 :  7410179.096774193\n"
     ]
    }
   ],
   "source": [
    "days = purchase.groupby('day')['price'].sum().index\n",
    "prices = purchase.groupby('day')['price'].sum().values\n",
    "mean = np.sum(prices) / purchase['day'].nunique()\n",
    "plt.figure(figsize=(10,5))\n",
    "plt.axhline(y=mean)\n",
    "sns.barplot(x=days, y=prices)\n",
    "plt.show()\n",
    "print('하루 평균 매출액 : ', mean)"
   ]
  },
  {
   "cell_type": "markdown",
   "id": "6945db5d",
   "metadata": {},
   "source": [
    "# DAU(일별 활동 이용자)는 몇명인가?\n",
    "- DAU(일별 활동 이용자)는 평균적으로 몇명인가"
   ]
  },
  {
   "cell_type": "code",
   "execution_count": 402,
   "id": "ca8ba79f",
   "metadata": {
    "ExecuteTime": {
     "end_time": "2022-09-21T12:02:11.491381Z",
     "start_time": "2022-09-21T12:01:44.536172Z"
    }
   },
   "outputs": [
    {
     "data": {
      "image/png": "[encoded data removed]",
      "text/plain": [
       "<Figure size 1000x500 with 1 Axes>"
      ]
     },
     "metadata": {},
     "output_type": "display_data"
    },
    {
     "name": "stdout",
     "output_type": "stream",
     "text": [
      "평균 DAU :  208760.25806451612\n"
     ]
    }
   ],
   "source": [
    "days = copy_df.groupby('day')['user_id'].nunique().index\n",
    "daus = copy_df.groupby('day')['user_id'].nunique().values\n",
    "mean = np.mean(daus)\n",
    "plt.figure(figsize=(10,5))\n",
    "plt.axhline(y=mean)\n",
    "sns.barplot(x=days, y=daus)\n",
    "plt.show()\n",
    "print('평균 DAU : ', mean)"
   ]
  },
  {
   "cell_type": "markdown",
   "id": "5434863d",
   "metadata": {
    "id": "5434863d"
   },
   "source": [
    "일별 활동 이용자는 평균적으로 20만명정도 됩니다."
   ]
  },
  {
   "cell_type": "markdown",
   "id": "e049f85e",
   "metadata": {
    "id": "e049f85e"
   },
   "source": [
    "# WAU(주별 활동 이용자)는  몇명인가?\n",
    "- WAU는 평균은?"
   ]
  },
  {
   "cell_type": "code",
   "execution_count": 403,
   "id": "05a2b66d",
   "metadata": {
    "ExecuteTime": {
     "end_time": "2022-09-21T12:02:26.686382Z",
     "start_time": "2022-09-21T12:02:12.633382Z"
    },
    "colab": {
     "base_uri": "https://localhost:8080/"
    },
    "id": "05a2b66d",
    "outputId": "f6d92915-618b-4d97-f50d-93feb17c7dbe"
   },
   "outputs": [
    {
     "name": "stdout",
     "output_type": "stream",
     "text": [
      "1주 : 729755\n",
      "2주 : 1047751\n",
      "3주 : 1987427\n",
      "4주 : 1111384\n",
      "5주 : 764606\n",
      "평균 : 1128185\n"
     ]
    }
   ],
   "source": [
    "week1 = copy_df.loc[copy_df['event_time'].dt.day.isin([1,2,3,4,5])]['user_id'].nunique()\n",
    "week2 = copy_df.loc[copy_df['event_time'].dt.day.isin(list(range(6, 12+1)))]['user_id'].nunique()\n",
    "week3 = copy_df.loc[copy_df['event_time'].dt.day.isin(list(range(3, 19+1)))]['user_id'].nunique()\n",
    "week4 = copy_df.loc[copy_df['event_time'].dt.day.isin(list(range(20, 26+1)))]['user_id'].nunique()\n",
    "week5 = copy_df.loc[copy_df['event_time'].dt.day.isin(list(range(27, 31+1)))]['user_id'].nunique()\n",
    "\n",
    "print('1주 :',week1)\n",
    "print('2주 :',week2)\n",
    "print('3주 :',week3)\n",
    "print('4주 :',week4)\n",
    "print('5주 :',week5)\n",
    "waus = [week1, week2, week3, week4, week5]\n",
    "print('평균 :',round(np.mean(waus)))"
   ]
  },
  {
   "cell_type": "code",
   "execution_count": 404,
   "id": "819fb996",
   "metadata": {
    "ExecuteTime": {
     "end_time": "2022-09-21T12:02:27.947380Z",
     "start_time": "2022-09-21T12:02:27.814384Z"
    }
   },
   "outputs": [
    {
     "data": {
      "image/png": "[encoded data removed]",
      "text/plain": [
       "<Figure size 1000x500 with 1 Axes>"
      ]
     },
     "metadata": {},
     "output_type": "display_data"
    }
   ],
   "source": [
    "weeks = ['week1','week2','week3','week4','week5']\n",
    "plt.figure(figsize=(10,5))\n",
    "plt.axhline(y=np.mean(waus))\n",
    "sns.barplot(x=weeks, y=waus)\n",
    "plt.show()"
   ]
  },
  {
   "cell_type": "markdown",
   "id": "zO4agmZaSi1K",
   "metadata": {
    "id": "zO4agmZaSi1K"
   },
   "source": [
    "평균적으로 약 100만명의 사용자가 한주동안 사이트를 이용하며,  \n",
    "3주에 가장 많은 인원이 이용한 것으로 확인됩니다.\n",
    "- 왜 3주에 가장 많은 인원이 이용한 것인지는 모르겠음.."
   ]
  },
  {
   "cell_type": "markdown",
   "id": "818fc3ef",
   "metadata": {
    "id": "818fc3ef"
   },
   "source": [
    "# 1인당 평균 매입액(객단가)는 얼마인가?\n",
    "객단가 : 매출액 / 고객수\n",
    "- 고객 한명의 평균 매입액\n",
    "\n",
    "ex) \n",
    "- A : 4, 4, 5\n",
    "- B : 5\n",
    "- C : 5\n",
    "\n",
    "객단가 : 76000원 정도((4+4+5+5+5)/3)"
   ]
  },
  {
   "cell_type": "code",
   "execution_count": 406,
   "id": "271058fe",
   "metadata": {
    "ExecuteTime": {
     "end_time": "2022-09-21T12:03:16.303134Z",
     "start_time": "2022-09-21T12:03:16.266137Z"
    },
    "colab": {
     "base_uri": "https://localhost:8080/"
    },
    "id": "271058fe",
    "outputId": "67a51a03-a39e-4ada-c086-2060fca65cbc"
   },
   "outputs": [
    {
     "name": "stdout",
     "output_type": "stream",
     "text": [
      "662.1686296892025\n"
     ]
    }
   ],
   "source": [
    "user_number = purchase['user_id'].nunique()\n",
    "purchase_amount = purchase['price'].sum()\n",
    "\n",
    "result = purchase_amount / user_number\n",
    "print(result)"
   ]
  },
  {
   "cell_type": "markdown",
   "id": "49170977",
   "metadata": {
    "ExecuteTime": {
     "end_time": "2022-09-19T12:33:07.221724Z",
     "start_time": "2022-09-19T12:33:07.202721Z"
    },
    "id": "49170977"
   },
   "source": [
    "10월 한달 1인당 평균 매입액(객단가)는 약 662달러로 현재 환율로 환산하면 약 92만원 정도입니다."
   ]
  },
  {
   "cell_type": "markdown",
   "id": "3447a03f",
   "metadata": {},
   "source": [
    "## 가장 객단가가 높은날과 낮은 날은?"
   ]
  },
  {
   "cell_type": "code",
   "execution_count": 407,
   "id": "0eb42c34",
   "metadata": {
    "ExecuteTime": {
     "end_time": "2022-09-21T12:03:19.745912Z",
     "start_time": "2022-09-21T12:03:19.355914Z"
    }
   },
   "outputs": [
    {
     "data": {
      "image/png": "[encoded data removed]",
      "text/plain": [
       "<Figure size 1000x500 with 1 Axes>"
      ]
     },
     "metadata": {},
     "output_type": "display_data"
    }
   ],
   "source": [
    "# 1일 기준 매출액 / 1일 기준 구매한 고객 수\n",
    "result=purchase.groupby('day')['price'].sum() / purchase.groupby('day')['user_id'].nunique()\n",
    "mean = np.sum(values) / purchase['day'].nunique()\n",
    "days = result.index\n",
    "values = result.values\n",
    "plt.figure(figsize=(10,5))\n",
    "plt.axhline(y=mean)\n",
    "sns.barplot(x=days, y=values)\n",
    "plt.show()"
   ]
  },
  {
   "cell_type": "markdown",
   "id": "2da3bbad",
   "metadata": {
    "id": "2da3bbad"
   },
   "source": [
    "# 사용자들은 어떤 제품을 가장 많이 구매하는가?"
   ]
  },
  {
   "cell_type": "markdown",
   "id": "64006789",
   "metadata": {
    "id": "64006789"
   },
   "source": [
    "event_type 중 purchase만 가져와서 확인하겠습니다."
   ]
  },
  {
   "cell_type": "code",
   "execution_count": 409,
   "id": "00dc4ab1",
   "metadata": {
    "ExecuteTime": {
     "end_time": "2022-09-21T12:05:38.873317Z",
     "start_time": "2022-09-21T12:05:38.854319Z"
    },
    "id": "00dc4ab1"
   },
   "outputs": [],
   "source": [
    "top10_product = purchase['product_id'].value_counts()[:10]"
   ]
  },
  {
   "cell_type": "code",
   "execution_count": 410,
   "id": "53e5504c",
   "metadata": {
    "ExecuteTime": {
     "end_time": "2022-09-21T12:05:40.433470Z",
     "start_time": "2022-09-21T12:05:40.342474Z"
    },
    "id": "53e5504c"
   },
   "outputs": [],
   "source": [
    "products = []\n",
    "for i in range(len(top10_product)):\n",
    "    product = top10_product.index[i]\n",
    "    count = top10_product.values[i]\n",
    "    category_code = purchase.loc[purchase['product_id']==product]['category_code'].unique()[0]\n",
    "    brand = purchase.loc[purchase['product_id']==product]['brand'].unique()[0]\n",
    "    \n",
    "    products.append([product,category_code, brand, count])"
   ]
  },
  {
   "cell_type": "code",
   "execution_count": 411,
   "id": "03b3cc72",
   "metadata": {
    "ExecuteTime": {
     "end_time": "2022-09-21T12:05:41.558472Z",
     "start_time": "2022-09-21T12:05:41.545471Z"
    },
    "id": "03b3cc72",
    "outputId": "92f723b7-3380-4221-ff23-aa00206be445"
   },
   "outputs": [
    {
     "data": {
      "text/html": [
       "<div>\n",
       "<style scoped>\n",
       "    .dataframe tbody tr th:only-of-type {\n",
       "        vertical-align: middle;\n",
       "    }\n",
       "\n",
       "    .dataframe tbody tr th {\n",
       "        vertical-align: top;\n",
       "    }\n",
       "\n",
       "    .dataframe thead th {\n",
       "        text-align: right;\n",
       "    }\n",
       "</style>\n",
       "<table border=\"1\" class=\"dataframe\">\n",
       "  <thead>\n",
       "    <tr style=\"text-align: right;\">\n",
       "      <th></th>\n",
       "      <th>product_id</th>\n",
       "      <th>category_code</th>\n",
       "      <th>brand</th>\n",
       "      <th>count</th>\n",
       "    </tr>\n",
       "  </thead>\n",
       "  <tbody>\n",
       "    <tr>\n",
       "      <th>0</th>\n",
       "      <td>1004856</td>\n",
       "      <td>electronics.smartphone</td>\n",
       "      <td>samsung</td>\n",
       "      <td>28922</td>\n",
       "    </tr>\n",
       "    <tr>\n",
       "      <th>1</th>\n",
       "      <td>1004767</td>\n",
       "      <td>electronics.smartphone</td>\n",
       "      <td>samsung</td>\n",
       "      <td>21779</td>\n",
       "    </tr>\n",
       "    <tr>\n",
       "      <th>2</th>\n",
       "      <td>1004833</td>\n",
       "      <td>electronics.smartphone</td>\n",
       "      <td>samsung</td>\n",
       "      <td>12690</td>\n",
       "    </tr>\n",
       "    <tr>\n",
       "      <th>3</th>\n",
       "      <td>1005115</td>\n",
       "      <td>electronics.smartphone</td>\n",
       "      <td>apple</td>\n",
       "      <td>12527</td>\n",
       "    </tr>\n",
       "    <tr>\n",
       "      <th>4</th>\n",
       "      <td>4804056</td>\n",
       "      <td>electronics.audio.headphone</td>\n",
       "      <td>apple</td>\n",
       "      <td>12368</td>\n",
       "    </tr>\n",
       "    <tr>\n",
       "      <th>5</th>\n",
       "      <td>1004870</td>\n",
       "      <td>electronics.smartphone</td>\n",
       "      <td>samsung</td>\n",
       "      <td>10605</td>\n",
       "    </tr>\n",
       "    <tr>\n",
       "      <th>6</th>\n",
       "      <td>1002544</td>\n",
       "      <td>electronics.smartphone</td>\n",
       "      <td>apple</td>\n",
       "      <td>10545</td>\n",
       "    </tr>\n",
       "    <tr>\n",
       "      <th>7</th>\n",
       "      <td>1004249</td>\n",
       "      <td>electronics.smartphone</td>\n",
       "      <td>apple</td>\n",
       "      <td>9081</td>\n",
       "    </tr>\n",
       "    <tr>\n",
       "      <th>8</th>\n",
       "      <td>1004836</td>\n",
       "      <td>electronics.smartphone</td>\n",
       "      <td>samsung</td>\n",
       "      <td>7688</td>\n",
       "    </tr>\n",
       "    <tr>\n",
       "      <th>9</th>\n",
       "      <td>1005105</td>\n",
       "      <td>electronics.smartphone</td>\n",
       "      <td>apple</td>\n",
       "      <td>7281</td>\n",
       "    </tr>\n",
       "  </tbody>\n",
       "</table>\n",
       "</div>"
      ],
      "text/plain": [
       "   product_id                category_code    brand  count\n",
       "0     1004856       electronics.smartphone  samsung  28922\n",
       "1     1004767       electronics.smartphone  samsung  21779\n",
       "2     1004833       electronics.smartphone  samsung  12690\n",
       "3     1005115       electronics.smartphone    apple  12527\n",
       "4     4804056  electronics.audio.headphone    apple  12368\n",
       "5     1004870       electronics.smartphone  samsung  10605\n",
       "6     1002544       electronics.smartphone    apple  10545\n",
       "7     1004249       electronics.smartphone    apple   9081\n",
       "8     1004836       electronics.smartphone  samsung   7688\n",
       "9     1005105       electronics.smartphone    apple   7281"
      ]
     },
     "execution_count": 411,
     "metadata": {},
     "output_type": "execute_result"
    }
   ],
   "source": [
    "pd.DataFrame(products, columns=['product_id','category_code','brand','count'])"
   ]
  },
  {
   "cell_type": "markdown",
   "id": "6310e69f",
   "metadata": {
    "ExecuteTime": {
     "end_time": "2022-09-21T08:00:36.985499Z",
     "start_time": "2022-09-21T08:00:36.972500Z"
    }
   },
   "source": [
    "제품 자체는 삼성, 애플의 스마트폰을 많이 구하는 것으로 보입니다."
   ]
  },
  {
   "cell_type": "markdown",
   "id": "6028836f",
   "metadata": {},
   "source": [
    "# 사용자들은 어떤 브랜드를 가장 많이 구매하는가?"
   ]
  },
  {
   "cell_type": "code",
   "execution_count": 412,
   "id": "ed3a0345",
   "metadata": {
    "ExecuteTime": {
     "end_time": "2022-09-21T12:07:25.239297Z",
     "start_time": "2022-09-21T12:07:25.216300Z"
    }
   },
   "outputs": [
    {
     "data": {
      "text/plain": [
       "samsung     172747\n",
       "apple       142703\n",
       "xiaomi       56571\n",
       "huawei       23489\n",
       "lucente      11573\n",
       "oppo         10885\n",
       "cordiant     10543\n",
       "lg            8727\n",
       "acer          6875\n",
       "sony          6723\n",
       "Name: brand, dtype: int64"
      ]
     },
     "execution_count": 412,
     "metadata": {},
     "output_type": "execute_result"
    }
   ],
   "source": [
    "top10_brand = purchase['brand'].value_counts()[:10]\n",
    "top10_brand"
   ]
  },
  {
   "cell_type": "markdown",
   "id": "f202bd4f",
   "metadata": {},
   "source": [
    "# 사용자들은 어떤 제품군을 가장 많이 구매하는가?"
   ]
  },
  {
   "cell_type": "code",
   "execution_count": 342,
   "id": "62a7b9dc",
   "metadata": {
    "ExecuteTime": {
     "end_time": "2022-09-21T09:15:55.829310Z",
     "start_time": "2022-09-21T09:15:55.819312Z"
    }
   },
   "outputs": [
    {
     "data": {
      "text/plain": [
       "-1769995873    337713\n",
       " 452985123      43997\n",
       " 1551892843     30461\n",
       " 1308623195     21520\n",
       " 2113930099     16143\n",
       " 1518338663     15487\n",
       " 234881301      13177\n",
       "-8387603        12111\n",
       " 1954546537     10538\n",
       " 268435735       8599\n",
       "Name: category_id, dtype: int64"
      ]
     },
     "execution_count": 342,
     "metadata": {},
     "output_type": "execute_result"
    }
   ],
   "source": [
    "top10_category_id = purchase['category_id'].value_counts()[:10]\n",
    "top10_category_id"
   ]
  },
  {
   "cell_type": "code",
   "execution_count": 415,
   "id": "346be2b6",
   "metadata": {
    "ExecuteTime": {
     "end_time": "2022-09-21T12:09:33.889972Z",
     "start_time": "2022-09-21T12:09:33.855973Z"
    }
   },
   "outputs": [],
   "source": [
    "categorys = []\n",
    "for i in range(len(top10_category_id)):\n",
    "    category_id = top10_category_id.index[i]\n",
    "    count = top10_category_id.values[i]\n",
    "    category_code = purchase.loc[purchase['category_id']==category_id,'category_code'].unique()[0]\n",
    "    \n",
    "    \n",
    "    categorys.append([category_id,category_code, count])"
   ]
  },
  {
   "cell_type": "code",
   "execution_count": 416,
   "id": "3a540c62",
   "metadata": {
    "ExecuteTime": {
     "end_time": "2022-09-21T12:09:37.760326Z",
     "start_time": "2022-09-21T12:09:37.739328Z"
    }
   },
   "outputs": [
    {
     "data": {
      "text/html": [
       "<div>\n",
       "<style scoped>\n",
       "    .dataframe tbody tr th:only-of-type {\n",
       "        vertical-align: middle;\n",
       "    }\n",
       "\n",
       "    .dataframe tbody tr th {\n",
       "        vertical-align: top;\n",
       "    }\n",
       "\n",
       "    .dataframe thead th {\n",
       "        text-align: right;\n",
       "    }\n",
       "</style>\n",
       "<table border=\"1\" class=\"dataframe\">\n",
       "  <thead>\n",
       "    <tr style=\"text-align: right;\">\n",
       "      <th></th>\n",
       "      <th>category_id</th>\n",
       "      <th>category_code</th>\n",
       "      <th>count</th>\n",
       "    </tr>\n",
       "  </thead>\n",
       "  <tbody>\n",
       "    <tr>\n",
       "      <th>0</th>\n",
       "      <td>-1769995873</td>\n",
       "      <td>electronics.smartphone</td>\n",
       "      <td>337713</td>\n",
       "    </tr>\n",
       "    <tr>\n",
       "      <th>1</th>\n",
       "      <td>452985123</td>\n",
       "      <td>NaN</td>\n",
       "      <td>43997</td>\n",
       "    </tr>\n",
       "    <tr>\n",
       "      <th>2</th>\n",
       "      <td>1551892843</td>\n",
       "      <td>electronics.audio.headphone</td>\n",
       "      <td>30461</td>\n",
       "    </tr>\n",
       "    <tr>\n",
       "      <th>3</th>\n",
       "      <td>1308623195</td>\n",
       "      <td>electronics.video.tv</td>\n",
       "      <td>21520</td>\n",
       "    </tr>\n",
       "    <tr>\n",
       "      <th>4</th>\n",
       "      <td>2113930099</td>\n",
       "      <td>appliances.kitchen.washer</td>\n",
       "      <td>16143</td>\n",
       "    </tr>\n",
       "    <tr>\n",
       "      <th>5</th>\n",
       "      <td>1518338663</td>\n",
       "      <td>computers.notebook</td>\n",
       "      <td>15487</td>\n",
       "    </tr>\n",
       "    <tr>\n",
       "      <th>6</th>\n",
       "      <td>234881301</td>\n",
       "      <td>electronics.clocks</td>\n",
       "      <td>13177</td>\n",
       "    </tr>\n",
       "    <tr>\n",
       "      <th>7</th>\n",
       "      <td>-8387603</td>\n",
       "      <td>appliances.environment.vacuum</td>\n",
       "      <td>12111</td>\n",
       "    </tr>\n",
       "    <tr>\n",
       "      <th>8</th>\n",
       "      <td>1954546537</td>\n",
       "      <td>NaN</td>\n",
       "      <td>10538</td>\n",
       "    </tr>\n",
       "    <tr>\n",
       "      <th>9</th>\n",
       "      <td>268435735</td>\n",
       "      <td>NaN</td>\n",
       "      <td>8599</td>\n",
       "    </tr>\n",
       "  </tbody>\n",
       "</table>\n",
       "</div>"
      ],
      "text/plain": [
       "   category_id                  category_code   count\n",
       "0  -1769995873         electronics.smartphone  337713\n",
       "1    452985123                            NaN   43997\n",
       "2   1551892843    electronics.audio.headphone   30461\n",
       "3   1308623195           electronics.video.tv   21520\n",
       "4   2113930099      appliances.kitchen.washer   16143\n",
       "5   1518338663             computers.notebook   15487\n",
       "6    234881301             electronics.clocks   13177\n",
       "7     -8387603  appliances.environment.vacuum   12111\n",
       "8   1954546537                            NaN   10538\n",
       "9    268435735                            NaN    8599"
      ]
     },
     "execution_count": 416,
     "metadata": {},
     "output_type": "execute_result"
    }
   ],
   "source": [
    "pd.DataFrame(categorys, columns=['category_id','category_code','count'])"
   ]
  },
  {
   "cell_type": "markdown",
   "id": "2a9a7bd8",
   "metadata": {},
   "source": [
    "# 사용자들이 가장 많이 사이트를 이용한 날은?\n",
    "- view, cart, purchase 포함"
   ]
  },
  {
   "cell_type": "code",
   "execution_count": 424,
   "id": "b4c00c29",
   "metadata": {
    "ExecuteTime": {
     "end_time": "2022-09-21T12:31:36.547357Z",
     "start_time": "2022-09-21T12:31:34.812355Z"
    }
   },
   "outputs": [
    {
     "data": {
      "image/png": "[encoded data removed]",
      "text/plain": [
       "<Figure size 1000x500 with 1 Axes>"
      ]
     },
     "metadata": {},
     "output_type": "display_data"
    }
   ],
   "source": [
    "days = copy_df.groupby('day')['event_type'].count().index\n",
    "counts = copy_df.groupby('day')['event_type'].count().values\n",
    "plt.figure(figsize=(10,5))\n",
    "sns.barplot(x=days, y=counts)\n",
    "plt.show()"
   ]
  },
  {
   "cell_type": "markdown",
   "id": "252849f3",
   "metadata": {},
   "source": [
    "# 사용자들이 가장 많이 제품을 본(view) 날은?"
   ]
  },
  {
   "cell_type": "code",
   "execution_count": 425,
   "id": "079ab93d",
   "metadata": {
    "ExecuteTime": {
     "end_time": "2022-09-21T12:32:57.787183Z",
     "start_time": "2022-09-21T12:32:53.635513Z"
    }
   },
   "outputs": [
    {
     "data": {
      "image/png": "[encoded data removed]",
      "text/plain": [
       "<Figure size 1000x500 with 1 Axes>"
      ]
     },
     "metadata": {},
     "output_type": "display_data"
    }
   ],
   "source": [
    "view = copy_df.loc[copy_df['event_type'] == 'view']\n",
    "days = view.groupby('day')['event_type'].count().index\n",
    "counts = view.groupby('day')['event_type'].count().values\n",
    "plt.figure(figsize=(10,5))\n",
    "sns.barplot(x=days, y=counts)\n",
    "plt.show()"
   ]
  },
  {
   "cell_type": "markdown",
   "id": "433f5278",
   "metadata": {},
   "source": [
    "# 사용자들이 가장 많이 제품을 구매한 날은?"
   ]
  },
  {
   "cell_type": "code",
   "execution_count": 426,
   "id": "8fec7bcd",
   "metadata": {
    "ExecuteTime": {
     "end_time": "2022-09-21T12:33:32.806220Z",
     "start_time": "2022-09-21T12:33:32.345221Z"
    }
   },
   "outputs": [
    {
     "data": {
      "image/png": "[encoded data removed]",
      "text/plain": [
       "<Figure size 1000x500 with 1 Axes>"
      ]
     },
     "metadata": {},
     "output_type": "display_data"
    }
   ],
   "source": [
    "purchase = copy_df.loc[copy_df['event_type'] == 'purchase']\n",
    "days = purchase.groupby('day')['event_type'].count().index\n",
    "counts = purchase.groupby('day')['event_type'].count().values\n",
    "plt.figure(figsize=(10,5))\n",
    "sns.barplot(x=days, y=counts)\n",
    "plt.show()"
   ]
  },
  {
   "cell_type": "markdown",
   "id": "8008d4b7",
   "metadata": {},
   "source": [
    "# 사용자들이 가장 많이 제품을 장바구니에 담은 날은?"
   ]
  },
  {
   "cell_type": "code",
   "execution_count": 427,
   "id": "b97ed30d",
   "metadata": {
    "ExecuteTime": {
     "end_time": "2022-09-21T12:34:19.580940Z",
     "start_time": "2022-09-21T12:34:19.111941Z"
    }
   },
   "outputs": [
    {
     "data": {
      "image/png": "[encoded data removed]",
      "text/plain": [
       "<Figure size 1000x500 with 1 Axes>"
      ]
     },
     "metadata": {},
     "output_type": "display_data"
    }
   ],
   "source": [
    "cart = copy_df.loc[copy_df['event_type'] == 'cart']\n",
    "days = cart.groupby('day')['event_type'].count().index\n",
    "counts = cart.groupby('day')['event_type'].count().values\n",
    "plt.figure(figsize=(10,5))\n",
    "sns.barplot(x=days, y=counts)\n",
    "plt.show()"
   ]
  },
  {
   "cell_type": "markdown",
   "id": "030aa177",
   "metadata": {},
   "source": [
    "# 사용자들이 사이트를 이용하는 시간대\n",
    "- view, cart, purchase 포함"
   ]
  },
  {
   "cell_type": "code",
   "execution_count": 364,
   "id": "85c6d712",
   "metadata": {
    "ExecuteTime": {
     "end_time": "2022-09-21T09:34:38.591814Z",
     "start_time": "2022-09-21T09:34:37.008753Z"
    }
   },
   "outputs": [
    {
     "data": {
      "text/plain": [
       "0    4\n",
       "1    4\n",
       "2    4\n",
       "3    4\n",
       "4    4\n",
       "Name: hour, dtype: int64"
      ]
     },
     "execution_count": 364,
     "metadata": {},
     "output_type": "execute_result"
    }
   ],
   "source": [
    "copy_df['hour'] = copy_df['event_time'].dt.hour\n",
    "copy_df['hour'].head()"
   ]
  },
  {
   "cell_type": "code",
   "execution_count": 219,
   "id": "2e5d317c",
   "metadata": {
    "ExecuteTime": {
     "end_time": "2022-09-21T06:04:07.640396Z",
     "start_time": "2022-09-21T06:04:06.952399Z"
    }
   },
   "outputs": [
    {
     "data": {
      "text/plain": [
       "hour\n",
       "20    3054743\n",
       "19    2980890\n",
       "21    2733718\n",
       "18    2678550\n",
       "12    2390127\n",
       "Name: user_id, dtype: int64"
      ]
     },
     "execution_count": 219,
     "metadata": {},
     "output_type": "execute_result"
    }
   ],
   "source": [
    "copy_df.groupby('hour')['user_id'].count().sort_values(ascending=False)[:5]"
   ]
  },
  {
   "cell_type": "code",
   "execution_count": 220,
   "id": "a0647e4d",
   "metadata": {
    "ExecuteTime": {
     "end_time": "2022-09-21T06:04:09.680931Z",
     "start_time": "2022-09-21T06:04:08.122398Z"
    }
   },
   "outputs": [
    {
     "data": {
      "image/png": "[encoded data removed]",
      "text/plain": [
       "<Figure size 1000x500 with 1 Axes>"
      ]
     },
     "metadata": {},
     "output_type": "display_data"
    }
   ],
   "source": [
    "hours = copy_df.groupby('hour')['user_id'].count().index\n",
    "counts = copy_df.groupby('hour')['user_id'].count().values\n",
    "plt.figure(figsize=(10,5))\n",
    "sns.barplot(x=hours, y=counts)\n",
    "plt.show()"
   ]
  },
  {
   "cell_type": "markdown",
   "id": "406ae804",
   "metadata": {},
   "source": [
    "17 ~ 21시에 이용자의 수가 가장 많습니다.  \n",
    "1 ~ 4시에 이용자의 수가 가장 적습니다."
   ]
  },
  {
   "cell_type": "markdown",
   "id": "affce3d0",
   "metadata": {},
   "source": [
    "# 사용자들이 사이트의 제품을 보는(view) 시간대"
   ]
  },
  {
   "cell_type": "code",
   "execution_count": 374,
   "id": "705491a7",
   "metadata": {
    "ExecuteTime": {
     "end_time": "2022-09-21T09:45:41.887828Z",
     "start_time": "2022-09-21T09:45:39.536778Z"
    }
   },
   "outputs": [],
   "source": [
    "view = copy_df[copy_df['event_type']=='view']"
   ]
  },
  {
   "cell_type": "code",
   "execution_count": 375,
   "id": "66fb5f2d",
   "metadata": {
    "ExecuteTime": {
     "end_time": "2022-09-21T09:45:49.112320Z",
     "start_time": "2022-09-21T09:45:48.365628Z"
    }
   },
   "outputs": [
    {
     "data": {
      "text/plain": [
       "hour\n",
       "20    2972082\n",
       "19    2892601\n",
       "21    2663340\n",
       "18    2590385\n",
       "12    2267899\n",
       "Name: user_id, dtype: int64"
      ]
     },
     "execution_count": 375,
     "metadata": {},
     "output_type": "execute_result"
    }
   ],
   "source": [
    "view.groupby('hour')['user_id'].count().sort_values(ascending=False)[:5]"
   ]
  },
  {
   "cell_type": "code",
   "execution_count": 376,
   "id": "3140c112",
   "metadata": {
    "ExecuteTime": {
     "end_time": "2022-09-21T09:46:02.604621Z",
     "start_time": "2022-09-21T09:46:00.876833Z"
    }
   },
   "outputs": [
    {
     "data": {
      "image/png": "[encoded data removed]",
      "text/plain": [
       "<Figure size 1000x500 with 1 Axes>"
      ]
     },
     "metadata": {},
     "output_type": "display_data"
    }
   ],
   "source": [
    "hours = view.groupby('hour')['user_id'].count().index\n",
    "counts = view.groupby('hour')['user_id'].count().values\n",
    "plt.figure(figsize=(10,5))\n",
    "sns.barplot(x=hours, y=counts)\n",
    "plt.show()"
   ]
  },
  {
   "cell_type": "markdown",
   "id": "6f2d64b6",
   "metadata": {},
   "source": [
    "# 사용자들이 사이트의 제품을 구매하는 시간대"
   ]
  },
  {
   "cell_type": "code",
   "execution_count": 365,
   "id": "e59d6d47",
   "metadata": {
    "ExecuteTime": {
     "end_time": "2022-09-21T09:34:42.866002Z",
     "start_time": "2022-09-21T09:34:42.458003Z"
    }
   },
   "outputs": [],
   "source": [
    "purchase = copy_df.loc[copy_df['event_type'] == 'purchase']"
   ]
  },
  {
   "cell_type": "code",
   "execution_count": 366,
   "id": "ca7eacdc",
   "metadata": {
    "ExecuteTime": {
     "end_time": "2022-09-21T09:34:43.946002Z",
     "start_time": "2022-09-21T09:34:43.918002Z"
    }
   },
   "outputs": [
    {
     "data": {
      "text/plain": [
       "hour\n",
       "12    55197\n",
       "13    55183\n",
       "11    53406\n",
       "10    52005\n",
       "14    51904\n",
       "Name: user_id, dtype: int64"
      ]
     },
     "execution_count": 366,
     "metadata": {},
     "output_type": "execute_result"
    }
   ],
   "source": [
    "purchase.groupby('hour')['user_id'].count().sort_values(ascending=False)[:5]"
   ]
  },
  {
   "cell_type": "code",
   "execution_count": 367,
   "id": "1bd07f18",
   "metadata": {
    "ExecuteTime": {
     "end_time": "2022-09-21T09:34:45.762521Z",
     "start_time": "2022-09-21T09:34:45.530524Z"
    }
   },
   "outputs": [
    {
     "data": {
      "image/png": "[encoded data removed]",
      "text/plain": [
       "<Figure size 1000x500 with 1 Axes>"
      ]
     },
     "metadata": {},
     "output_type": "display_data"
    }
   ],
   "source": [
    "hours = purchase.groupby('hour')['user_id'].count().index\n",
    "counts = purchase.groupby('hour')['user_id'].count().values\n",
    "plt.figure(figsize=(10,5))\n",
    "sns.barplot(x=hours, y=counts)\n",
    "plt.show()"
   ]
  },
  {
   "cell_type": "markdown",
   "id": "7720350e",
   "metadata": {},
   "source": [
    "사용자들이 가장 많이 구매가 일어나는 시간은 10시 ~ 13시 입니다.  \n",
    "가장 적게 구매가 일어나는 시간은 1시 ~ 5시입니다."
   ]
  },
  {
   "cell_type": "markdown",
   "id": "40ee52e4",
   "metadata": {},
   "source": [
    "# 사용자들이 사이트의 제품을 장바구니에 담는 시간대"
   ]
  },
  {
   "cell_type": "code",
   "execution_count": 368,
   "id": "e2ae8942",
   "metadata": {
    "ExecuteTime": {
     "end_time": "2022-09-21T09:36:30.236331Z",
     "start_time": "2022-09-21T09:36:30.040307Z"
    }
   },
   "outputs": [],
   "source": [
    "cart = copy_df.loc[copy_df['event_type'] == 'cart']"
   ]
  },
  {
   "cell_type": "code",
   "execution_count": 369,
   "id": "e7dce68a",
   "metadata": {
    "ExecuteTime": {
     "end_time": "2022-09-21T09:36:49.518371Z",
     "start_time": "2022-09-21T09:36:49.484372Z"
    }
   },
   "outputs": [
    {
     "data": {
      "text/plain": [
       "hour\n",
       "13    67236\n",
       "12    67031\n",
       "11    64566\n",
       "14    63713\n",
       "10    62619\n",
       "Name: user_id, dtype: int64"
      ]
     },
     "execution_count": 369,
     "metadata": {},
     "output_type": "execute_result"
    }
   ],
   "source": [
    "cart.groupby('hour')['user_id'].count().sort_values(ascending=False)[:5]"
   ]
  },
  {
   "cell_type": "code",
   "execution_count": 370,
   "id": "b5661562",
   "metadata": {
    "ExecuteTime": {
     "end_time": "2022-09-21T09:37:02.098023Z",
     "start_time": "2022-09-21T09:37:01.844021Z"
    }
   },
   "outputs": [
    {
     "data": {
      "image/png": "[encoded data removed]",
      "text/plain": [
       "<Figure size 1000x500 with 1 Axes>"
      ]
     },
     "metadata": {},
     "output_type": "display_data"
    }
   ],
   "source": [
    "hours = cart.groupby('hour')['user_id'].count().index\n",
    "counts = cart.groupby('hour')['user_id'].count().values\n",
    "plt.figure(figsize=(10,5))\n",
    "sns.barplot(x=hours, y=counts)\n",
    "plt.show()"
   ]
  },
  {
   "cell_type": "markdown",
   "id": "505efd59",
   "metadata": {},
   "source": [
    "카트에 담는 시간과 구매하는 시간의 패턴은 유사합니다."
   ]
  },
  {
   "cell_type": "markdown",
   "id": "d87d5bb0",
   "metadata": {},
   "source": [
    "# 전환율(CVR)\n",
    "전환수 / 전체 사용자"
   ]
  },
  {
   "cell_type": "markdown",
   "id": "a8e38e98",
   "metadata": {},
   "source": [
    "## 전체 방문자 -> cart, purchase"
   ]
  },
  {
   "cell_type": "code",
   "execution_count": 468,
   "id": "5c98197b",
   "metadata": {
    "ExecuteTime": {
     "end_time": "2022-09-21T13:48:38.667159Z",
     "start_time": "2022-09-21T13:48:38.318146Z"
    }
   },
   "outputs": [],
   "source": [
    "cart_purchase = copy_df.loc[copy_df['event_type'].isin(['cart', 'purchase'])]"
   ]
  },
  {
   "cell_type": "code",
   "execution_count": 469,
   "id": "0cea77b2",
   "metadata": {
    "ExecuteTime": {
     "end_time": "2022-09-21T13:48:42.674468Z",
     "start_time": "2022-09-21T13:48:39.869161Z"
    }
   },
   "outputs": [
    {
     "data": {
      "text/plain": [
       "15.937341228388016"
      ]
     },
     "execution_count": 469,
     "metadata": {},
     "output_type": "execute_result"
    }
   ],
   "source": [
    "cart_purchase = cart_purchase.loc[cart_purchase['user_id'].isin(copy_df['user_id'].unique())]\n",
    "(cart_purchase['user_id'].nunique() / copy_df['user_id'].nunique()) * 100"
   ]
  },
  {
   "cell_type": "markdown",
   "id": "de801423",
   "metadata": {},
   "source": [
    "전체 방문자에서 구매 혹은 장바구니로 전환된 사용자의 전환율을 약 15%입니다."
   ]
  },
  {
   "cell_type": "markdown",
   "id": "b17a2821",
   "metadata": {},
   "source": [
    "## 전체 방문자 -> only cart"
   ]
  },
  {
   "cell_type": "code",
   "execution_count": 470,
   "id": "8a9eebc8",
   "metadata": {
    "ExecuteTime": {
     "end_time": "2022-09-21T13:48:44.070894Z",
     "start_time": "2022-09-21T13:48:43.845898Z"
    }
   },
   "outputs": [],
   "source": [
    "only_cart = copy_df.loc[copy_df['event_type'] == 'cart']"
   ]
  },
  {
   "cell_type": "code",
   "execution_count": 471,
   "id": "f77058f9",
   "metadata": {
    "ExecuteTime": {
     "end_time": "2022-09-21T13:48:47.778364Z",
     "start_time": "2022-09-21T13:48:45.214897Z"
    }
   },
   "outputs": [
    {
     "data": {
      "text/plain": [
       "11.160100077038388"
      ]
     },
     "execution_count": 471,
     "metadata": {},
     "output_type": "execute_result"
    }
   ],
   "source": [
    "only_cart = only_cart.loc[only_cart['user_id'].isin(copy_df['user_id'].unique())]\n",
    "(only_cart['user_id'].nunique() / copy_df['user_id'].nunique()) * 100"
   ]
  },
  {
   "cell_type": "markdown",
   "id": "0ee01dc8",
   "metadata": {},
   "source": [
    "전체 방문자에서 장바구니로만 전환된 사용자의 전환율은 약 11%입니다."
   ]
  },
  {
   "cell_type": "markdown",
   "id": "9fa6d8ec",
   "metadata": {},
   "source": [
    "## 전체 방문자 -> only purchase"
   ]
  },
  {
   "cell_type": "code",
   "execution_count": 472,
   "id": "860cff07",
   "metadata": {
    "ExecuteTime": {
     "end_time": "2022-09-21T13:48:49.129363Z",
     "start_time": "2022-09-21T13:48:48.949365Z"
    }
   },
   "outputs": [],
   "source": [
    "only_purchase = copy_df.loc[copy_df['event_type'] == 'purchase']"
   ]
  },
  {
   "cell_type": "code",
   "execution_count": 473,
   "id": "6acb573c",
   "metadata": {
    "ExecuteTime": {
     "end_time": "2022-09-21T13:48:52.882557Z",
     "start_time": "2022-09-21T13:48:50.286962Z"
    }
   },
   "outputs": [
    {
     "data": {
      "text/plain": [
       "11.489980703970556"
      ]
     },
     "execution_count": 473,
     "metadata": {},
     "output_type": "execute_result"
    }
   ],
   "source": [
    "only_purchase = only_purchase.loc[only_purchase['user_id'].isin(copy_df['user_id'].unique())]\n",
    "(only_purchase['user_id'].nunique() / copy_df['user_id'].nunique()) * 100"
   ]
  },
  {
   "cell_type": "markdown",
   "id": "b4c4f769",
   "metadata": {},
   "source": [
    "전체 방문자에서 구매로만 전환된 사용자의 전환율은 약 11%입니다."
   ]
  },
  {
   "cell_type": "markdown",
   "id": "8cc60167",
   "metadata": {},
   "source": [
    "##  view-> only cart"
   ]
  },
  {
   "cell_type": "code",
   "execution_count": 492,
   "id": "3473cf3b",
   "metadata": {
    "ExecuteTime": {
     "end_time": "2022-09-21T14:04:29.627832Z",
     "start_time": "2022-09-21T14:04:25.668279Z"
    }
   },
   "outputs": [],
   "source": [
    "view = copy_df.loc[copy_df['event_type'] == 'view']\n",
    "cart = copy_df.loc[copy_df['event_type']=='cart']\n",
    "cart = cart.loc[cart['user_id'].isin(view['user_id'].unique())]"
   ]
  },
  {
   "cell_type": "code",
   "execution_count": 493,
   "id": "d7a21350",
   "metadata": {
    "ExecuteTime": {
     "end_time": "2022-09-21T14:04:31.969387Z",
     "start_time": "2022-09-21T14:04:30.756387Z"
    }
   },
   "outputs": [
    {
     "data": {
      "text/plain": [
       "11.156742569679338"
      ]
     },
     "execution_count": 493,
     "metadata": {},
     "output_type": "execute_result"
    }
   ],
   "source": [
    "(cart['user_id'].nunique() / view['user_id'].nunique()) * 100"
   ]
  },
  {
   "cell_type": "markdown",
   "id": "e7d1c2f3",
   "metadata": {},
   "source": [
    "view에서 장바구니에 담은 사용자의 전환율은 11%정도입니다."
   ]
  },
  {
   "cell_type": "markdown",
   "id": "f6be894f",
   "metadata": {},
   "source": [
    "## view -> only purchase"
   ]
  },
  {
   "cell_type": "code",
   "execution_count": 494,
   "id": "d7ca9432",
   "metadata": {
    "ExecuteTime": {
     "end_time": "2022-09-21T14:04:59.665277Z",
     "start_time": "2022-09-21T14:04:55.825749Z"
    }
   },
   "outputs": [],
   "source": [
    "view = copy_df.loc[copy_df['event_type'] == 'view']\n",
    "purchase = copy_df.loc[copy_df['event_type']=='purchase']\n",
    "purchase = purchase.loc[purchase['user_id'].isin(view['user_id'].unique())]"
   ]
  },
  {
   "cell_type": "code",
   "execution_count": 495,
   "id": "ea53424a",
   "metadata": {
    "ExecuteTime": {
     "end_time": "2022-09-21T14:05:02.006391Z",
     "start_time": "2022-09-21T14:05:00.808279Z"
    }
   },
   "outputs": [
    {
     "data": {
      "text/plain": [
       "11.48852843017625"
      ]
     },
     "execution_count": 495,
     "metadata": {},
     "output_type": "execute_result"
    }
   ],
   "source": [
    "(purchase['user_id'].nunique() / view['user_id'].nunique()) * 100"
   ]
  },
  {
   "cell_type": "markdown",
   "id": "824b9252",
   "metadata": {},
   "source": [
    "view에서 구매만 이루어진 사용자의 전환율은 11%정도 입니다."
   ]
  },
  {
   "cell_type": "markdown",
   "id": "df31966f",
   "metadata": {},
   "source": [
    "## view -> cart, purchase"
   ]
  },
  {
   "cell_type": "code",
   "execution_count": 496,
   "id": "3c428ddf",
   "metadata": {
    "ExecuteTime": {
     "end_time": "2022-09-21T14:06:00.151135Z",
     "start_time": "2022-09-21T14:05:56.166126Z"
    }
   },
   "outputs": [],
   "source": [
    "view = copy_df.loc[copy_df['event_type'] == 'view']\n",
    "cart_purchase = copy_df.loc[copy_df['event_type'].isin(['cart','purchase'])]\n",
    "cart_purchase = cart_purchase.loc[cart_purchase['user_id'].isin(view['user_id'].unique())]\n"
   ]
  },
  {
   "cell_type": "code",
   "execution_count": 497,
   "id": "a0a236af",
   "metadata": {
    "ExecuteTime": {
     "end_time": "2022-09-21T14:06:02.521406Z",
     "start_time": "2022-09-21T14:06:01.293344Z"
    }
   },
   "outputs": [
    {
     "data": {
      "text/plain": [
       "15.932941960494396"
      ]
     },
     "execution_count": 497,
     "metadata": {},
     "output_type": "execute_result"
    }
   ],
   "source": [
    "(cart_purchase['user_id'].nunique() / view['user_id'].nunique()) * 100"
   ]
  },
  {
   "cell_type": "markdown",
   "id": "5bc3bd19",
   "metadata": {},
   "source": [
    "view에서 구매 혹은 장바구니로 전환된 사용자의 전환율을 약 15%입니다."
   ]
  },
  {
   "cell_type": "markdown",
   "id": "1355873c",
   "metadata": {},
   "source": [
    "## cart -> purchase"
   ]
  },
  {
   "cell_type": "code",
   "execution_count": 503,
   "id": "9d48152e",
   "metadata": {
    "ExecuteTime": {
     "end_time": "2022-09-21T14:16:15.918746Z",
     "start_time": "2022-09-21T14:16:15.448744Z"
    }
   },
   "outputs": [],
   "source": [
    "cart = copy_df.loc[copy_df['event_type']=='cart']\n",
    "only_purchase = copy_df.loc[copy_df['event_type'] =='purchase']\n",
    "only_purchase = only_purchase.loc[only_purchase['user_id'].isin(cart['user_id'].unique())]"
   ]
  },
  {
   "cell_type": "code",
   "execution_count": 504,
   "id": "c797401a",
   "metadata": {
    "ExecuteTime": {
     "end_time": "2022-09-21T14:16:17.163742Z",
     "start_time": "2022-09-21T14:16:17.120744Z"
    }
   },
   "outputs": [
    {
     "data": {
      "text/plain": [
       "60.1494566023849"
      ]
     },
     "execution_count": 504,
     "metadata": {},
     "output_type": "execute_result"
    }
   ],
   "source": [
    "(only_purchase['user_id'].nunique() / cart['user_id'].nunique()) * 100"
   ]
  },
  {
   "cell_type": "markdown",
   "id": "c9d4bf71",
   "metadata": {},
   "source": [
    "장바구니에서 구매로 전환된 사용자의 전환율은 약 60%입니다."
   ]
  },
  {
   "cell_type": "markdown",
   "id": "e3934a12",
   "metadata": {},
   "source": [
    "# 사이트를 재 방문한 사용자는 무엇을 사러 오는가?\n",
    "- 재방문 정의\n",
    "  - (10월)한달에 \n"
   ]
  },
  {
   "cell_type": "code",
   "execution_count": 139,
   "id": "1a6a8352",
   "metadata": {
    "ExecuteTime": {
     "end_time": "2022-09-21T04:50:09.139686Z",
     "start_time": "2022-09-21T04:50:09.119688Z"
    }
   },
   "outputs": [
    {
     "data": {
      "text/html": [
       "<div>\n",
       "<style scoped>\n",
       "    .dataframe tbody tr th:only-of-type {\n",
       "        vertical-align: middle;\n",
       "    }\n",
       "\n",
       "    .dataframe tbody tr th {\n",
       "        vertical-align: top;\n",
       "    }\n",
       "\n",
       "    .dataframe thead th {\n",
       "        text-align: right;\n",
       "    }\n",
       "</style>\n",
       "<table border=\"1\" class=\"dataframe\">\n",
       "  <thead>\n",
       "    <tr style=\"text-align: right;\">\n",
       "      <th></th>\n",
       "      <th>event_time</th>\n",
       "      <th>event_type</th>\n",
       "      <th>product_id</th>\n",
       "      <th>category_id</th>\n",
       "      <th>category_code</th>\n",
       "      <th>brand</th>\n",
       "      <th>price</th>\n",
       "      <th>user_id</th>\n",
       "      <th>user_session</th>\n",
       "      <th>hour</th>\n",
       "      <th>day</th>\n",
       "    </tr>\n",
       "  </thead>\n",
       "  <tbody>\n",
       "    <tr>\n",
       "      <th>0</th>\n",
       "      <td>2019-10-01 00:00:00</td>\n",
       "      <td>view</td>\n",
       "      <td>44600062</td>\n",
       "      <td>-251657396</td>\n",
       "      <td>NaN</td>\n",
       "      <td>shiseido</td>\n",
       "      <td>35.790001</td>\n",
       "      <td>541312140</td>\n",
       "      <td>72d76fde-8bb3-4e00-8c23-a032dfed738c</td>\n",
       "      <td>0</td>\n",
       "      <td>1</td>\n",
       "    </tr>\n",
       "    <tr>\n",
       "      <th>1</th>\n",
       "      <td>2019-10-01 00:00:00</td>\n",
       "      <td>view</td>\n",
       "      <td>3900821</td>\n",
       "      <td>-780140327</td>\n",
       "      <td>appliances.environment.water_heater</td>\n",
       "      <td>aqua</td>\n",
       "      <td>33.200001</td>\n",
       "      <td>554748717</td>\n",
       "      <td>9333dfbd-b87a-4708-9857-6336556b0fcc</td>\n",
       "      <td>0</td>\n",
       "      <td>1</td>\n",
       "    </tr>\n",
       "    <tr>\n",
       "      <th>2</th>\n",
       "      <td>2019-10-01 00:00:01</td>\n",
       "      <td>view</td>\n",
       "      <td>17200506</td>\n",
       "      <td>-1904213353</td>\n",
       "      <td>furniture.living_room.sofa</td>\n",
       "      <td>NaN</td>\n",
       "      <td>543.099976</td>\n",
       "      <td>519107250</td>\n",
       "      <td>566511c2-e2e3-422b-b695-cf8e6e792ca8</td>\n",
       "      <td>0</td>\n",
       "      <td>1</td>\n",
       "    </tr>\n",
       "    <tr>\n",
       "      <th>3</th>\n",
       "      <td>2019-10-01 00:00:01</td>\n",
       "      <td>view</td>\n",
       "      <td>1307067</td>\n",
       "      <td>1518338663</td>\n",
       "      <td>computers.notebook</td>\n",
       "      <td>lenovo</td>\n",
       "      <td>251.740005</td>\n",
       "      <td>550050854</td>\n",
       "      <td>7c90fc70-0e80-4590-96f3-13c02c18c713</td>\n",
       "      <td>0</td>\n",
       "      <td>1</td>\n",
       "    </tr>\n",
       "    <tr>\n",
       "      <th>4</th>\n",
       "      <td>2019-10-01 00:00:04</td>\n",
       "      <td>view</td>\n",
       "      <td>1004237</td>\n",
       "      <td>-1769995873</td>\n",
       "      <td>electronics.smartphone</td>\n",
       "      <td>apple</td>\n",
       "      <td>1081.979980</td>\n",
       "      <td>535871217</td>\n",
       "      <td>c6bd7419-2748-4c56-95b4-8cec9ff8b80d</td>\n",
       "      <td>0</td>\n",
       "      <td>1</td>\n",
       "    </tr>\n",
       "  </tbody>\n",
       "</table>\n",
       "</div>"
      ],
      "text/plain": [
       "           event_time event_type  product_id  category_id  \\\n",
       "0 2019-10-01 00:00:00       view    44600062   -251657396   \n",
       "1 2019-10-01 00:00:00       view     3900821   -780140327   \n",
       "2 2019-10-01 00:00:01       view    17200506  -1904213353   \n",
       "3 2019-10-01 00:00:01       view     1307067   1518338663   \n",
       "4 2019-10-01 00:00:04       view     1004237  -1769995873   \n",
       "\n",
       "                         category_code     brand        price    user_id  \\\n",
       "0                                  NaN  shiseido    35.790001  541312140   \n",
       "1  appliances.environment.water_heater      aqua    33.200001  554748717   \n",
       "2           furniture.living_room.sofa       NaN   543.099976  519107250   \n",
       "3                   computers.notebook    lenovo   251.740005  550050854   \n",
       "4               electronics.smartphone     apple  1081.979980  535871217   \n",
       "\n",
       "                           user_session  hour  day  \n",
       "0  72d76fde-8bb3-4e00-8c23-a032dfed738c     0    1  \n",
       "1  9333dfbd-b87a-4708-9857-6336556b0fcc     0    1  \n",
       "2  566511c2-e2e3-422b-b695-cf8e6e792ca8     0    1  \n",
       "3  7c90fc70-0e80-4590-96f3-13c02c18c713     0    1  \n",
       "4  c6bd7419-2748-4c56-95b4-8cec9ff8b80d     0    1  "
      ]
     },
     "execution_count": 139,
     "metadata": {},
     "output_type": "execute_result"
    }
   ],
   "source": [
    "copy_df.loc[copy_df['user_id']]"
   ]
  },
  {
   "cell_type": "code",
   "execution_count": 122,
   "id": "3253643c",
   "metadata": {
    "ExecuteTime": {
     "end_time": "2022-09-21T04:38:20.770086Z",
     "start_time": "2022-09-21T04:38:08.874259Z"
    }
   },
   "outputs": [
    {
     "data": {
      "text/html": [
       "<div>\n",
       "<style scoped>\n",
       "    .dataframe tbody tr th:only-of-type {\n",
       "        vertical-align: middle;\n",
       "    }\n",
       "\n",
       "    .dataframe tbody tr th {\n",
       "        vertical-align: top;\n",
       "    }\n",
       "\n",
       "    .dataframe thead th {\n",
       "        text-align: right;\n",
       "    }\n",
       "</style>\n",
       "<table border=\"1\" class=\"dataframe\">\n",
       "  <thead>\n",
       "    <tr style=\"text-align: right;\">\n",
       "      <th></th>\n",
       "      <th></th>\n",
       "      <th>user_id</th>\n",
       "    </tr>\n",
       "    <tr>\n",
       "      <th>user_id</th>\n",
       "      <th>day</th>\n",
       "      <th></th>\n",
       "    </tr>\n",
       "  </thead>\n",
       "  <tbody>\n",
       "    <tr>\n",
       "      <th>33869381</th>\n",
       "      <th>23</th>\n",
       "      <td>1</td>\n",
       "    </tr>\n",
       "    <tr>\n",
       "      <th>64078358</th>\n",
       "      <th>13</th>\n",
       "      <td>1</td>\n",
       "    </tr>\n",
       "    <tr>\n",
       "      <th>183503497</th>\n",
       "      <th>2</th>\n",
       "      <td>1</td>\n",
       "    </tr>\n",
       "    <tr>\n",
       "      <th rowspan=\"2\" valign=\"top\">184265397</th>\n",
       "      <th>4</th>\n",
       "      <td>4</td>\n",
       "    </tr>\n",
       "    <tr>\n",
       "      <th>15</th>\n",
       "      <td>2</td>\n",
       "    </tr>\n",
       "    <tr>\n",
       "      <th>...</th>\n",
       "      <th>...</th>\n",
       "      <td>...</td>\n",
       "    </tr>\n",
       "    <tr>\n",
       "      <th>566280663</th>\n",
       "      <th>31</th>\n",
       "      <td>2</td>\n",
       "    </tr>\n",
       "    <tr>\n",
       "      <th>566280676</th>\n",
       "      <th>31</th>\n",
       "      <td>1</td>\n",
       "    </tr>\n",
       "    <tr>\n",
       "      <th>566280697</th>\n",
       "      <th>31</th>\n",
       "      <td>1</td>\n",
       "    </tr>\n",
       "    <tr>\n",
       "      <th>566280780</th>\n",
       "      <th>31</th>\n",
       "      <td>1</td>\n",
       "    </tr>\n",
       "    <tr>\n",
       "      <th>566280860</th>\n",
       "      <th>31</th>\n",
       "      <td>1</td>\n",
       "    </tr>\n",
       "  </tbody>\n",
       "</table>\n",
       "<p>6473723 rows × 1 columns</p>\n",
       "</div>"
      ],
      "text/plain": [
       "               user_id\n",
       "user_id   day         \n",
       "33869381  23         1\n",
       "64078358  13         1\n",
       "183503497 2          1\n",
       "184265397 4          4\n",
       "          15         2\n",
       "...                ...\n",
       "566280663 31         2\n",
       "566280676 31         1\n",
       "566280697 31         1\n",
       "566280780 31         1\n",
       "566280860 31         1\n",
       "\n",
       "[6473723 rows x 1 columns]"
      ]
     },
     "execution_count": 122,
     "metadata": {},
     "output_type": "execute_result"
    }
   ],
   "source": [
    "temp = pd.DataFrame(copy_df.groupby(['user_id','day'])['user_id'].count()).sort_index()\n",
    "temp"
   ]
  },
  {
   "cell_type": "code",
   "execution_count": 133,
   "id": "8c141ba4",
   "metadata": {
    "ExecuteTime": {
     "end_time": "2022-09-21T04:41:26.709282Z",
     "start_time": "2022-09-21T04:41:26.453296Z"
    }
   },
   "outputs": [
    {
     "data": {
      "text/html": [
       "<div>\n",
       "<style scoped>\n",
       "    .dataframe tbody tr th:only-of-type {\n",
       "        vertical-align: middle;\n",
       "    }\n",
       "\n",
       "    .dataframe tbody tr th {\n",
       "        vertical-align: top;\n",
       "    }\n",
       "\n",
       "    .dataframe thead th {\n",
       "        text-align: right;\n",
       "    }\n",
       "</style>\n",
       "<table border=\"1\" class=\"dataframe\">\n",
       "  <thead>\n",
       "    <tr style=\"text-align: right;\">\n",
       "      <th></th>\n",
       "      <th>user_id</th>\n",
       "      <th>day</th>\n",
       "      <th>count</th>\n",
       "    </tr>\n",
       "  </thead>\n",
       "  <tbody>\n",
       "    <tr>\n",
       "      <th>3</th>\n",
       "      <td>184265397</td>\n",
       "      <td>4</td>\n",
       "      <td>4</td>\n",
       "    </tr>\n",
       "    <tr>\n",
       "      <th>4</th>\n",
       "      <td>184265397</td>\n",
       "      <td>15</td>\n",
       "      <td>2</td>\n",
       "    </tr>\n",
       "  </tbody>\n",
       "</table>\n",
       "</div>"
      ],
      "text/plain": [
       "     user_id  day  count\n",
       "3  184265397    4      4\n",
       "4  184265397   15      2"
      ]
     },
     "execution_count": 133,
     "metadata": {},
     "output_type": "execute_result"
    }
   ],
   "source": [
    "temp = temp.rename(columns={'user_id' : 'count'}).reset_index()\n"
   ]
  },
  {
   "cell_type": "code",
   "execution_count": 146,
   "id": "b8f71c06",
   "metadata": {
    "ExecuteTime": {
     "end_time": "2022-09-21T05:03:06.757643Z",
     "start_time": "2022-09-21T05:03:06.341647Z"
    }
   },
   "outputs": [],
   "source": [
    "user_id_dup = temp.loc[temp['user_id'].duplicated()]['user_id'].values"
   ]
  },
  {
   "cell_type": "code",
   "execution_count": 155,
   "id": "07c42b7d",
   "metadata": {
    "ExecuteTime": {
     "end_time": "2022-09-21T05:06:26.766611Z",
     "start_time": "2022-09-21T05:06:25.559201Z"
    }
   },
   "outputs": [
    {
     "data": {
      "text/plain": [
       "3022290"
      ]
     },
     "execution_count": 155,
     "metadata": {},
     "output_type": "execute_result"
    }
   ],
   "source": [
    "copy_df['user_id'].nunique()"
   ]
  },
  {
   "cell_type": "code",
   "execution_count": 156,
   "id": "e522cd35",
   "metadata": {
    "ExecuteTime": {
     "end_time": "2022-09-21T05:06:44.304347Z",
     "start_time": "2022-09-21T05:06:43.771349Z"
    }
   },
   "outputs": [
    {
     "data": {
      "text/plain": [
       "1279795"
      ]
     },
     "execution_count": 156,
     "metadata": {},
     "output_type": "execute_result"
    }
   ],
   "source": [
    "temp.loc[temp['user_id'].isin(user_id_dup)]['user_id'].nunique()"
   ]
  },
  {
   "cell_type": "code",
   "execution_count": 159,
   "id": "b88f719b",
   "metadata": {
    "ExecuteTime": {
     "end_time": "2022-09-21T05:07:38.434988Z",
     "start_time": "2022-09-21T05:07:37.493006Z"
    }
   },
   "outputs": [],
   "source": [
    "re_user_id = set(temp.loc[temp['user_id'].isin(user_id_dup)]['user_id'].values)"
   ]
  },
  {
   "cell_type": "code",
   "execution_count": 162,
   "id": "972a4afd",
   "metadata": {
    "ExecuteTime": {
     "end_time": "2022-09-21T05:09:08.942578Z",
     "start_time": "2022-09-21T05:09:05.361290Z"
    }
   },
   "outputs": [
    {
     "data": {
      "text/html": [
       "<div>\n",
       "<style scoped>\n",
       "    .dataframe tbody tr th:only-of-type {\n",
       "        vertical-align: middle;\n",
       "    }\n",
       "\n",
       "    .dataframe tbody tr th {\n",
       "        vertical-align: top;\n",
       "    }\n",
       "\n",
       "    .dataframe thead th {\n",
       "        text-align: right;\n",
       "    }\n",
       "</style>\n",
       "<table border=\"1\" class=\"dataframe\">\n",
       "  <thead>\n",
       "    <tr style=\"text-align: right;\">\n",
       "      <th></th>\n",
       "      <th>event_time</th>\n",
       "      <th>event_type</th>\n",
       "      <th>product_id</th>\n",
       "      <th>category_id</th>\n",
       "      <th>category_code</th>\n",
       "      <th>brand</th>\n",
       "      <th>price</th>\n",
       "      <th>user_id</th>\n",
       "      <th>user_session</th>\n",
       "      <th>hour</th>\n",
       "      <th>day</th>\n",
       "    </tr>\n",
       "  </thead>\n",
       "  <tbody>\n",
       "    <tr>\n",
       "      <th>0</th>\n",
       "      <td>2019-10-01 00:00:00</td>\n",
       "      <td>view</td>\n",
       "      <td>44600062</td>\n",
       "      <td>-251657396</td>\n",
       "      <td>NaN</td>\n",
       "      <td>shiseido</td>\n",
       "      <td>35.790001</td>\n",
       "      <td>541312140</td>\n",
       "      <td>72d76fde-8bb3-4e00-8c23-a032dfed738c</td>\n",
       "      <td>0</td>\n",
       "      <td>1</td>\n",
       "    </tr>\n",
       "    <tr>\n",
       "      <th>3</th>\n",
       "      <td>2019-10-01 00:00:01</td>\n",
       "      <td>view</td>\n",
       "      <td>1307067</td>\n",
       "      <td>1518338663</td>\n",
       "      <td>computers.notebook</td>\n",
       "      <td>lenovo</td>\n",
       "      <td>251.740005</td>\n",
       "      <td>550050854</td>\n",
       "      <td>7c90fc70-0e80-4590-96f3-13c02c18c713</td>\n",
       "      <td>0</td>\n",
       "      <td>1</td>\n",
       "    </tr>\n",
       "    <tr>\n",
       "      <th>4</th>\n",
       "      <td>2019-10-01 00:00:04</td>\n",
       "      <td>view</td>\n",
       "      <td>1004237</td>\n",
       "      <td>-1769995873</td>\n",
       "      <td>electronics.smartphone</td>\n",
       "      <td>apple</td>\n",
       "      <td>1081.979980</td>\n",
       "      <td>535871217</td>\n",
       "      <td>c6bd7419-2748-4c56-95b4-8cec9ff8b80d</td>\n",
       "      <td>0</td>\n",
       "      <td>1</td>\n",
       "    </tr>\n",
       "    <tr>\n",
       "      <th>5</th>\n",
       "      <td>2019-10-01 00:00:05</td>\n",
       "      <td>view</td>\n",
       "      <td>1480613</td>\n",
       "      <td>-603979045</td>\n",
       "      <td>computers.desktop</td>\n",
       "      <td>pulser</td>\n",
       "      <td>908.619995</td>\n",
       "      <td>512742880</td>\n",
       "      <td>0d0d91c2-c9c2-4e81-90a5-86594dec0db9</td>\n",
       "      <td>0</td>\n",
       "      <td>1</td>\n",
       "    </tr>\n",
       "    <tr>\n",
       "      <th>8</th>\n",
       "      <td>2019-10-01 00:00:10</td>\n",
       "      <td>view</td>\n",
       "      <td>28719074</td>\n",
       "      <td>-511704111</td>\n",
       "      <td>apparel.shoes.keds</td>\n",
       "      <td>baden</td>\n",
       "      <td>102.709999</td>\n",
       "      <td>520571932</td>\n",
       "      <td>ac1cd4e5-a3ce-4224-a2d7-ff660a105880</td>\n",
       "      <td>0</td>\n",
       "      <td>1</td>\n",
       "    </tr>\n",
       "  </tbody>\n",
       "</table>\n",
       "</div>"
      ],
      "text/plain": [
       "           event_time event_type  product_id  category_id  \\\n",
       "0 2019-10-01 00:00:00       view    44600062   -251657396   \n",
       "3 2019-10-01 00:00:01       view     1307067   1518338663   \n",
       "4 2019-10-01 00:00:04       view     1004237  -1769995873   \n",
       "5 2019-10-01 00:00:05       view     1480613   -603979045   \n",
       "8 2019-10-01 00:00:10       view    28719074   -511704111   \n",
       "\n",
       "            category_code     brand        price    user_id  \\\n",
       "0                     NaN  shiseido    35.790001  541312140   \n",
       "3      computers.notebook    lenovo   251.740005  550050854   \n",
       "4  electronics.smartphone     apple  1081.979980  535871217   \n",
       "5       computers.desktop    pulser   908.619995  512742880   \n",
       "8      apparel.shoes.keds     baden   102.709999  520571932   \n",
       "\n",
       "                           user_session  hour  day  \n",
       "0  72d76fde-8bb3-4e00-8c23-a032dfed738c     0    1  \n",
       "3  7c90fc70-0e80-4590-96f3-13c02c18c713     0    1  \n",
       "4  c6bd7419-2748-4c56-95b4-8cec9ff8b80d     0    1  \n",
       "5  0d0d91c2-c9c2-4e81-90a5-86594dec0db9     0    1  \n",
       "8  ac1cd4e5-a3ce-4224-a2d7-ff660a105880     0    1  "
      ]
     },
     "execution_count": 162,
     "metadata": {},
     "output_type": "execute_result"
    }
   ],
   "source": [
    "re_df = copy_df[copy_df['user_id'].isin(list(re_user_id))]\n",
    "re_df.head()"
   ]
  },
  {
   "cell_type": "code",
   "execution_count": 167,
   "id": "236c00c2",
   "metadata": {
    "ExecuteTime": {
     "end_time": "2022-09-21T05:12:56.672122Z",
     "start_time": "2022-09-21T05:12:56.581110Z"
    }
   },
   "outputs": [
    {
     "data": {
      "text/plain": [
       "1004856    22259\n",
       "1004767    17457\n",
       "4804056    10900\n",
       "1005115    10476\n",
       "1004833    10184\n",
       "Name: product_id, dtype: int64"
      ]
     },
     "execution_count": 167,
     "metadata": {},
     "output_type": "execute_result"
    }
   ],
   "source": [
    "re_df.loc[re_df['event_type']=='purchase','product_id'].value_counts()[:5]"
   ]
  },
  {
   "cell_type": "code",
   "execution_count": 165,
   "id": "33b4bb1e",
   "metadata": {
    "ExecuteTime": {
     "end_time": "2022-09-21T05:10:52.365158Z",
     "start_time": "2022-09-21T05:10:52.183161Z"
    }
   },
   "outputs": [
    {
     "data": {
      "text/html": [
       "<div>\n",
       "<style scoped>\n",
       "    .dataframe tbody tr th:only-of-type {\n",
       "        vertical-align: middle;\n",
       "    }\n",
       "\n",
       "    .dataframe tbody tr th {\n",
       "        vertical-align: top;\n",
       "    }\n",
       "\n",
       "    .dataframe thead th {\n",
       "        text-align: right;\n",
       "    }\n",
       "</style>\n",
       "<table border=\"1\" class=\"dataframe\">\n",
       "  <thead>\n",
       "    <tr style=\"text-align: right;\">\n",
       "      <th></th>\n",
       "      <th>event_time</th>\n",
       "      <th>event_type</th>\n",
       "      <th>product_id</th>\n",
       "      <th>category_id</th>\n",
       "      <th>category_code</th>\n",
       "      <th>brand</th>\n",
       "      <th>price</th>\n",
       "      <th>user_id</th>\n",
       "      <th>user_session</th>\n",
       "      <th>hour</th>\n",
       "      <th>day</th>\n",
       "    </tr>\n",
       "  </thead>\n",
       "  <tbody>\n",
       "    <tr>\n",
       "      <th>79</th>\n",
       "      <td>2019-10-01 00:01:06</td>\n",
       "      <td>view</td>\n",
       "      <td>1004856</td>\n",
       "      <td>-1769995873</td>\n",
       "      <td>electronics.smartphone</td>\n",
       "      <td>samsung</td>\n",
       "      <td>130.759995</td>\n",
       "      <td>555447788</td>\n",
       "      <td>94c1a98c-41a3-401e-ad99-439beac4495c</td>\n",
       "      <td>0</td>\n",
       "      <td>1</td>\n",
       "    </tr>\n",
       "    <tr>\n",
       "      <th>91</th>\n",
       "      <td>2019-10-01 00:01:17</td>\n",
       "      <td>view</td>\n",
       "      <td>1004856</td>\n",
       "      <td>-1769995873</td>\n",
       "      <td>electronics.smartphone</td>\n",
       "      <td>samsung</td>\n",
       "      <td>130.759995</td>\n",
       "      <td>515757896</td>\n",
       "      <td>4938043e-e50f-44ad-944d-958d04df62d6</td>\n",
       "      <td>0</td>\n",
       "      <td>1</td>\n",
       "    </tr>\n",
       "    <tr>\n",
       "      <th>129</th>\n",
       "      <td>2019-10-01 00:01:46</td>\n",
       "      <td>view</td>\n",
       "      <td>1004856</td>\n",
       "      <td>-1769995873</td>\n",
       "      <td>electronics.smartphone</td>\n",
       "      <td>samsung</td>\n",
       "      <td>130.759995</td>\n",
       "      <td>543272936</td>\n",
       "      <td>8187d148-3c41-46d4-b0c0-9c08cd9dc564</td>\n",
       "      <td>0</td>\n",
       "      <td>1</td>\n",
       "    </tr>\n",
       "    <tr>\n",
       "      <th>142</th>\n",
       "      <td>2019-10-01 00:01:59</td>\n",
       "      <td>view</td>\n",
       "      <td>1004856</td>\n",
       "      <td>-1769995873</td>\n",
       "      <td>electronics.smartphone</td>\n",
       "      <td>samsung</td>\n",
       "      <td>130.759995</td>\n",
       "      <td>513457407</td>\n",
       "      <td>d6f9a1f2-f96f-4220-b393-ec697a3183c5</td>\n",
       "      <td>0</td>\n",
       "      <td>1</td>\n",
       "    </tr>\n",
       "    <tr>\n",
       "      <th>162</th>\n",
       "      <td>2019-10-01 00:02:14</td>\n",
       "      <td>purchase</td>\n",
       "      <td>1004856</td>\n",
       "      <td>-1769995873</td>\n",
       "      <td>electronics.smartphone</td>\n",
       "      <td>samsung</td>\n",
       "      <td>130.759995</td>\n",
       "      <td>543272936</td>\n",
       "      <td>8187d148-3c41-46d4-b0c0-9c08cd9dc564</td>\n",
       "      <td>0</td>\n",
       "      <td>1</td>\n",
       "    </tr>\n",
       "    <tr>\n",
       "      <th>...</th>\n",
       "      <td>...</td>\n",
       "      <td>...</td>\n",
       "      <td>...</td>\n",
       "      <td>...</td>\n",
       "      <td>...</td>\n",
       "      <td>...</td>\n",
       "      <td>...</td>\n",
       "      <td>...</td>\n",
       "      <td>...</td>\n",
       "      <td>...</td>\n",
       "      <td>...</td>\n",
       "    </tr>\n",
       "    <tr>\n",
       "      <th>42447398</th>\n",
       "      <td>2019-10-31 23:49:12</td>\n",
       "      <td>view</td>\n",
       "      <td>1004856</td>\n",
       "      <td>-1769995873</td>\n",
       "      <td>electronics.smartphone</td>\n",
       "      <td>samsung</td>\n",
       "      <td>128.419998</td>\n",
       "      <td>514008422</td>\n",
       "      <td>9492815f-ad0c-4e5c-a59f-e7c14dbf495f</td>\n",
       "      <td>23</td>\n",
       "      <td>31</td>\n",
       "    </tr>\n",
       "    <tr>\n",
       "      <th>42447453</th>\n",
       "      <td>2019-10-31 23:49:35</td>\n",
       "      <td>view</td>\n",
       "      <td>1004856</td>\n",
       "      <td>-1769995873</td>\n",
       "      <td>electronics.smartphone</td>\n",
       "      <td>samsung</td>\n",
       "      <td>128.419998</td>\n",
       "      <td>538050614</td>\n",
       "      <td>733b1bee-1f17-44ba-a64f-282459c78f0e</td>\n",
       "      <td>23</td>\n",
       "      <td>31</td>\n",
       "    </tr>\n",
       "    <tr>\n",
       "      <th>42447457</th>\n",
       "      <td>2019-10-31 23:49:37</td>\n",
       "      <td>view</td>\n",
       "      <td>1004856</td>\n",
       "      <td>-1769995873</td>\n",
       "      <td>electronics.smartphone</td>\n",
       "      <td>samsung</td>\n",
       "      <td>128.419998</td>\n",
       "      <td>566265908</td>\n",
       "      <td>52c2c76c-b79e-4794-86ff-badc76d35f5a</td>\n",
       "      <td>23</td>\n",
       "      <td>31</td>\n",
       "    </tr>\n",
       "    <tr>\n",
       "      <th>42447633</th>\n",
       "      <td>2019-10-31 23:51:07</td>\n",
       "      <td>view</td>\n",
       "      <td>1004856</td>\n",
       "      <td>-1769995873</td>\n",
       "      <td>electronics.smartphone</td>\n",
       "      <td>samsung</td>\n",
       "      <td>128.419998</td>\n",
       "      <td>514008422</td>\n",
       "      <td>9492815f-ad0c-4e5c-a59f-e7c14dbf495f</td>\n",
       "      <td>23</td>\n",
       "      <td>31</td>\n",
       "    </tr>\n",
       "    <tr>\n",
       "      <th>42448234</th>\n",
       "      <td>2019-10-31 23:55:44</td>\n",
       "      <td>view</td>\n",
       "      <td>1004856</td>\n",
       "      <td>-1769995873</td>\n",
       "      <td>electronics.smartphone</td>\n",
       "      <td>samsung</td>\n",
       "      <td>128.419998</td>\n",
       "      <td>519277091</td>\n",
       "      <td>62fadce6-aa4a-4dde-92fc-c04c22982df5</td>\n",
       "      <td>23</td>\n",
       "      <td>31</td>\n",
       "    </tr>\n",
       "  </tbody>\n",
       "</table>\n",
       "<p>500354 rows × 11 columns</p>\n",
       "</div>"
      ],
      "text/plain": [
       "                  event_time event_type  product_id  category_id  \\\n",
       "79       2019-10-01 00:01:06       view     1004856  -1769995873   \n",
       "91       2019-10-01 00:01:17       view     1004856  -1769995873   \n",
       "129      2019-10-01 00:01:46       view     1004856  -1769995873   \n",
       "142      2019-10-01 00:01:59       view     1004856  -1769995873   \n",
       "162      2019-10-01 00:02:14   purchase     1004856  -1769995873   \n",
       "...                      ...        ...         ...          ...   \n",
       "42447398 2019-10-31 23:49:12       view     1004856  -1769995873   \n",
       "42447453 2019-10-31 23:49:35       view     1004856  -1769995873   \n",
       "42447457 2019-10-31 23:49:37       view     1004856  -1769995873   \n",
       "42447633 2019-10-31 23:51:07       view     1004856  -1769995873   \n",
       "42448234 2019-10-31 23:55:44       view     1004856  -1769995873   \n",
       "\n",
       "                   category_code    brand       price    user_id  \\\n",
       "79        electronics.smartphone  samsung  130.759995  555447788   \n",
       "91        electronics.smartphone  samsung  130.759995  515757896   \n",
       "129       electronics.smartphone  samsung  130.759995  543272936   \n",
       "142       electronics.smartphone  samsung  130.759995  513457407   \n",
       "162       electronics.smartphone  samsung  130.759995  543272936   \n",
       "...                          ...      ...         ...        ...   \n",
       "42447398  electronics.smartphone  samsung  128.419998  514008422   \n",
       "42447453  electronics.smartphone  samsung  128.419998  538050614   \n",
       "42447457  electronics.smartphone  samsung  128.419998  566265908   \n",
       "42447633  electronics.smartphone  samsung  128.419998  514008422   \n",
       "42448234  electronics.smartphone  samsung  128.419998  519277091   \n",
       "\n",
       "                                  user_session  hour  day  \n",
       "79        94c1a98c-41a3-401e-ad99-439beac4495c     0    1  \n",
       "91        4938043e-e50f-44ad-944d-958d04df62d6     0    1  \n",
       "129       8187d148-3c41-46d4-b0c0-9c08cd9dc564     0    1  \n",
       "142       d6f9a1f2-f96f-4220-b393-ec697a3183c5     0    1  \n",
       "162       8187d148-3c41-46d4-b0c0-9c08cd9dc564     0    1  \n",
       "...                                        ...   ...  ...  \n",
       "42447398  9492815f-ad0c-4e5c-a59f-e7c14dbf495f    23   31  \n",
       "42447453  733b1bee-1f17-44ba-a64f-282459c78f0e    23   31  \n",
       "42447457  52c2c76c-b79e-4794-86ff-badc76d35f5a    23   31  \n",
       "42447633  9492815f-ad0c-4e5c-a59f-e7c14dbf495f    23   31  \n",
       "42448234  62fadce6-aa4a-4dde-92fc-c04c22982df5    23   31  \n",
       "\n",
       "[500354 rows x 11 columns]"
      ]
     },
     "execution_count": 165,
     "metadata": {},
     "output_type": "execute_result"
    }
   ],
   "source": [
    "copy_df[copy_df['product_id']==1004856]"
   ]
  },
  {
   "cell_type": "code",
   "execution_count": null,
   "id": "d9bab780",
   "metadata": {},
   "outputs": [],
   "source": []
  },
  {
   "cell_type": "markdown",
   "id": "mDAL0EoGTcIp",
   "metadata": {
    "id": "mDAL0EoGTcIp"
   },
   "source": [
    "# 코호트분석\n",
    "- 참고링크1(https://workingwithpython.com/pythoncohortanalysis/)\n",
    "\n",
    "1. 우리 사이트에 들어온 고객들은 우리 사이트를 계속 이용하는가?(사용자 유지율 파악)\n",
    "  -  view, cart, purchase 모두 포함\n",
    "2. 우리 사이트에서 구매했던 고객들은 계속 우리 사이트에서 구매를 하는가?\n",
    "  - purchase만 추출"
   ]
  },
  {
   "cell_type": "markdown",
   "id": "Tpx8Pb59QF66",
   "metadata": {
    "id": "Tpx8Pb59QF66"
   },
   "source": [
    "## 1.사용자 유지율 파악\n",
    "- 우리 사이트에 들어온 고객들은 우리 사이트를 계속 이용하는가?\n",
    "- view, cart, purchase 포함"
   ]
  },
  {
   "cell_type": "markdown",
   "id": "K5tziqo_PEJf",
   "metadata": {
    "id": "K5tziqo_PEJf"
   },
   "source": [
    "코호트 분석에 사용할 '동일한 경험', '동일한 시간'이 데이터에 표현되도록 \n",
    "\n",
    "코호트 분석에 사용할 피처만 가지고 오겠습니다."
   ]
  },
  {
   "cell_type": "markdown",
   "id": "-mqitIxrRIXR",
   "metadata": {
    "id": "-mqitIxrRIXR"
   },
   "source": [
    "### 사용할 피처만 가지고 오기"
   ]
  },
  {
   "cell_type": "code",
   "execution_count": 224,
   "id": "QQu-okc3S5-l",
   "metadata": {
    "ExecuteTime": {
     "end_time": "2022-09-21T06:12:07.450283Z",
     "start_time": "2022-09-21T06:12:07.062284Z"
    },
    "colab": {
     "base_uri": "https://localhost:8080/",
     "height": 206
    },
    "id": "QQu-okc3S5-l",
    "outputId": "54c77c26-960e-4010-914f-d338496943b8"
   },
   "outputs": [
    {
     "data": {
      "text/html": [
       "<div>\n",
       "<style scoped>\n",
       "    .dataframe tbody tr th:only-of-type {\n",
       "        vertical-align: middle;\n",
       "    }\n",
       "\n",
       "    .dataframe tbody tr th {\n",
       "        vertical-align: top;\n",
       "    }\n",
       "\n",
       "    .dataframe thead th {\n",
       "        text-align: right;\n",
       "    }\n",
       "</style>\n",
       "<table border=\"1\" class=\"dataframe\">\n",
       "  <thead>\n",
       "    <tr style=\"text-align: right;\">\n",
       "      <th></th>\n",
       "      <th>product_id</th>\n",
       "      <th>event_time</th>\n",
       "      <th>user_id</th>\n",
       "    </tr>\n",
       "  </thead>\n",
       "  <tbody>\n",
       "    <tr>\n",
       "      <th>0</th>\n",
       "      <td>44600062</td>\n",
       "      <td>2019-10-01 04:00:00</td>\n",
       "      <td>541312140</td>\n",
       "    </tr>\n",
       "    <tr>\n",
       "      <th>1</th>\n",
       "      <td>3900821</td>\n",
       "      <td>2019-10-01 04:00:00</td>\n",
       "      <td>554748717</td>\n",
       "    </tr>\n",
       "    <tr>\n",
       "      <th>2</th>\n",
       "      <td>17200506</td>\n",
       "      <td>2019-10-01 04:00:01</td>\n",
       "      <td>519107250</td>\n",
       "    </tr>\n",
       "    <tr>\n",
       "      <th>3</th>\n",
       "      <td>1307067</td>\n",
       "      <td>2019-10-01 04:00:01</td>\n",
       "      <td>550050854</td>\n",
       "    </tr>\n",
       "    <tr>\n",
       "      <th>4</th>\n",
       "      <td>1004237</td>\n",
       "      <td>2019-10-01 04:00:04</td>\n",
       "      <td>535871217</td>\n",
       "    </tr>\n",
       "  </tbody>\n",
       "</table>\n",
       "</div>"
      ],
      "text/plain": [
       "   product_id          event_time    user_id\n",
       "0    44600062 2019-10-01 04:00:00  541312140\n",
       "1     3900821 2019-10-01 04:00:00  554748717\n",
       "2    17200506 2019-10-01 04:00:01  519107250\n",
       "3     1307067 2019-10-01 04:00:01  550050854\n",
       "4     1004237 2019-10-01 04:00:04  535871217"
      ]
     },
     "execution_count": 224,
     "metadata": {},
     "output_type": "execute_result"
    }
   ],
   "source": [
    "cohort_data = copy_df[['product_id', 'event_time','user_id']]\n",
    "cohort_data.head()"
   ]
  },
  {
   "cell_type": "markdown",
   "id": "dBuPfIwyQZe5",
   "metadata": {
    "id": "dBuPfIwyQZe5"
   },
   "source": [
    "코호트 분석에서 데이터를 집계하기 위해서는 보통 **월 단위**가 진행되지만  \n",
    "현재 10월의 데이터만 있기 때문에 **일 단위**로 진행하겠습니다."
   ]
  },
  {
   "cell_type": "markdown",
   "id": "AtnVQybLRKVy",
   "metadata": {
    "id": "AtnVQybLRKVy"
   },
   "source": [
    "### 단위기간을 파악하기 위하여 '일'만 가지고 오기"
   ]
  },
  {
   "cell_type": "code",
   "execution_count": 225,
   "id": "xCQUq7XFS58A",
   "metadata": {
    "ExecuteTime": {
     "end_time": "2022-09-21T06:12:09.700284Z",
     "start_time": "2022-09-21T06:12:08.047284Z"
    },
    "colab": {
     "base_uri": "https://localhost:8080/",
     "height": 310
    },
    "id": "xCQUq7XFS58A",
    "outputId": "42cffae3-b696-4a2a-c11b-2c2ed8a78767"
   },
   "outputs": [
    {
     "name": "stderr",
     "output_type": "stream",
     "text": [
      "C:\\Users\\User\\anaconda3\\envs\\CP2\\lib\\site-packages\\ipykernel_launcher.py:1: SettingWithCopyWarning: \n",
      "A value is trying to be set on a copy of a slice from a DataFrame.\n",
      "Try using .loc[row_indexer,col_indexer] = value instead\n",
      "\n",
      "See the caveats in the documentation: https://pandas.pydata.org/pandas-docs/stable/user_guide/indexing.html#returning-a-view-versus-a-copy\n",
      "  \"\"\"Entry point for launching an IPython kernel.\n"
     ]
    },
    {
     "data": {
      "text/html": [
       "<div>\n",
       "<style scoped>\n",
       "    .dataframe tbody tr th:only-of-type {\n",
       "        vertical-align: middle;\n",
       "    }\n",
       "\n",
       "    .dataframe tbody tr th {\n",
       "        vertical-align: top;\n",
       "    }\n",
       "\n",
       "    .dataframe thead th {\n",
       "        text-align: right;\n",
       "    }\n",
       "</style>\n",
       "<table border=\"1\" class=\"dataframe\">\n",
       "  <thead>\n",
       "    <tr style=\"text-align: right;\">\n",
       "      <th></th>\n",
       "      <th>product_id</th>\n",
       "      <th>event_time</th>\n",
       "      <th>user_id</th>\n",
       "      <th>event_period</th>\n",
       "    </tr>\n",
       "  </thead>\n",
       "  <tbody>\n",
       "    <tr>\n",
       "      <th>0</th>\n",
       "      <td>44600062</td>\n",
       "      <td>2019-10-01 04:00:00</td>\n",
       "      <td>541312140</td>\n",
       "      <td>1</td>\n",
       "    </tr>\n",
       "    <tr>\n",
       "      <th>1</th>\n",
       "      <td>3900821</td>\n",
       "      <td>2019-10-01 04:00:00</td>\n",
       "      <td>554748717</td>\n",
       "      <td>1</td>\n",
       "    </tr>\n",
       "    <tr>\n",
       "      <th>2</th>\n",
       "      <td>17200506</td>\n",
       "      <td>2019-10-01 04:00:01</td>\n",
       "      <td>519107250</td>\n",
       "      <td>1</td>\n",
       "    </tr>\n",
       "    <tr>\n",
       "      <th>3</th>\n",
       "      <td>1307067</td>\n",
       "      <td>2019-10-01 04:00:01</td>\n",
       "      <td>550050854</td>\n",
       "      <td>1</td>\n",
       "    </tr>\n",
       "    <tr>\n",
       "      <th>4</th>\n",
       "      <td>1004237</td>\n",
       "      <td>2019-10-01 04:00:04</td>\n",
       "      <td>535871217</td>\n",
       "      <td>1</td>\n",
       "    </tr>\n",
       "  </tbody>\n",
       "</table>\n",
       "</div>"
      ],
      "text/plain": [
       "   product_id          event_time    user_id  event_period\n",
       "0    44600062 2019-10-01 04:00:00  541312140             1\n",
       "1     3900821 2019-10-01 04:00:00  554748717             1\n",
       "2    17200506 2019-10-01 04:00:01  519107250             1\n",
       "3     1307067 2019-10-01 04:00:01  550050854             1\n",
       "4     1004237 2019-10-01 04:00:04  535871217             1"
      ]
     },
     "execution_count": 225,
     "metadata": {},
     "output_type": "execute_result"
    }
   ],
   "source": [
    "cohort_data['event_period'] = cohort_data['event_time'].dt.day\n",
    "cohort_data.head()"
   ]
  },
  {
   "cell_type": "markdown",
   "id": "Wgmej1ssRQYD",
   "metadata": {
    "id": "Wgmej1ssRQYD"
   },
   "source": [
    "### 유저의 (10월)첫번째 방문을 토대로 유저별 코호트 그룹 설정하기\n",
    "\n",
    "코호트 분석의 전제조건 중 '동일한 경험'을 만드는 과정입니다.\n",
    "\n",
    "여기서 '동일한 경험'이란 (10월)첫 번째 방문입니다."
   ]
  },
  {
   "cell_type": "code",
   "execution_count": 226,
   "id": "acERw-rnS55V",
   "metadata": {
    "ExecuteTime": {
     "end_time": "2022-09-21T06:12:10.615284Z",
     "start_time": "2022-09-21T06:12:10.211285Z"
    },
    "colab": {
     "base_uri": "https://localhost:8080/",
     "height": 237
    },
    "id": "acERw-rnS55V",
    "outputId": "ac3b8a7e-5d88-430d-8b47-15018f5a220c"
   },
   "outputs": [
    {
     "data": {
      "text/html": [
       "<div>\n",
       "<style scoped>\n",
       "    .dataframe tbody tr th:only-of-type {\n",
       "        vertical-align: middle;\n",
       "    }\n",
       "\n",
       "    .dataframe tbody tr th {\n",
       "        vertical-align: top;\n",
       "    }\n",
       "\n",
       "    .dataframe thead th {\n",
       "        text-align: right;\n",
       "    }\n",
       "</style>\n",
       "<table border=\"1\" class=\"dataframe\">\n",
       "  <thead>\n",
       "    <tr style=\"text-align: right;\">\n",
       "      <th></th>\n",
       "      <th>product_id</th>\n",
       "      <th>event_time</th>\n",
       "      <th>event_period</th>\n",
       "    </tr>\n",
       "    <tr>\n",
       "      <th>user_id</th>\n",
       "      <th></th>\n",
       "      <th></th>\n",
       "      <th></th>\n",
       "    </tr>\n",
       "  </thead>\n",
       "  <tbody>\n",
       "    <tr>\n",
       "      <th>541312140</th>\n",
       "      <td>44600062</td>\n",
       "      <td>2019-10-01 04:00:00</td>\n",
       "      <td>1</td>\n",
       "    </tr>\n",
       "    <tr>\n",
       "      <th>554748717</th>\n",
       "      <td>3900821</td>\n",
       "      <td>2019-10-01 04:00:00</td>\n",
       "      <td>1</td>\n",
       "    </tr>\n",
       "    <tr>\n",
       "      <th>519107250</th>\n",
       "      <td>17200506</td>\n",
       "      <td>2019-10-01 04:00:01</td>\n",
       "      <td>1</td>\n",
       "    </tr>\n",
       "    <tr>\n",
       "      <th>550050854</th>\n",
       "      <td>1307067</td>\n",
       "      <td>2019-10-01 04:00:01</td>\n",
       "      <td>1</td>\n",
       "    </tr>\n",
       "    <tr>\n",
       "      <th>535871217</th>\n",
       "      <td>1004237</td>\n",
       "      <td>2019-10-01 04:00:04</td>\n",
       "      <td>1</td>\n",
       "    </tr>\n",
       "  </tbody>\n",
       "</table>\n",
       "</div>"
      ],
      "text/plain": [
       "           product_id          event_time  event_period\n",
       "user_id                                                \n",
       "541312140    44600062 2019-10-01 04:00:00             1\n",
       "554748717     3900821 2019-10-01 04:00:00             1\n",
       "519107250    17200506 2019-10-01 04:00:01             1\n",
       "550050854     1307067 2019-10-01 04:00:01             1\n",
       "535871217     1004237 2019-10-01 04:00:04             1"
      ]
     },
     "execution_count": 226,
     "metadata": {},
     "output_type": "execute_result"
    }
   ],
   "source": [
    "cohort_data = cohort_data.set_index('user_id')\n",
    "cohort_data.head()"
   ]
  },
  {
   "cell_type": "code",
   "execution_count": 227,
   "id": "qY4qHhXDR9nL",
   "metadata": {
    "ExecuteTime": {
     "end_time": "2022-09-21T06:12:11.335283Z",
     "start_time": "2022-09-21T06:12:11.111286Z"
    },
    "id": "qY4qHhXDR9nL",
    "outputId": "1ad8aa47-685f-42c1-91c7-c393640c2a71"
   },
   "outputs": [
    {
     "data": {
      "text/plain": [
       "dtype('<M8[ns]')"
      ]
     },
     "execution_count": 227,
     "metadata": {},
     "output_type": "execute_result"
    }
   ],
   "source": [
    "#cohort_data['event_time'] = pd.to_datetime(cohort_data['event_time'], format='%Y-%m-%d %H:%M:%S', errors='raise')\n",
    "cohort_data['event_time'] =cohort_data['event_time'].astype('datetime64')\n",
    "cohort_data['event_time'].dtype"
   ]
  },
  {
   "cell_type": "code",
   "execution_count": 228,
   "id": "CH-M44MpS5xw",
   "metadata": {
    "ExecuteTime": {
     "end_time": "2022-09-21T06:12:15.640284Z",
     "start_time": "2022-09-21T06:12:11.877285Z"
    },
    "colab": {
     "base_uri": "https://localhost:8080/",
     "height": 487
    },
    "id": "CH-M44MpS5xw",
    "outputId": "fab93015-fa24-4029-f218-727bfe408a85"
   },
   "outputs": [
    {
     "data": {
      "text/plain": [
       "user_id\n",
       "33869381    2019-10-24 00:04:08\n",
       "64078358    2019-10-13 04:13:46\n",
       "183503497   2019-10-03 01:43:00\n",
       "184265397   2019-10-04 21:44:37\n",
       "195082191   2019-10-10 07:35:36\n",
       "Name: event_time, dtype: datetime64[ns]"
      ]
     },
     "execution_count": 228,
     "metadata": {},
     "output_type": "execute_result"
    }
   ],
   "source": [
    "first_event = cohort_data.groupby('user_id')['event_time'].min()\n",
    "first_event.head()"
   ]
  },
  {
   "cell_type": "markdown",
   "id": "2fdf7782",
   "metadata": {
    "id": "2fdf7782"
   },
   "source": [
    "user_id별로 데이터가 그룹화되며, event_time 칼럼 값을 따로 추출하며, min()을 사용하여  \n",
    "각 user_id별 첫 방문일자가 추출됩니다."
   ]
  },
  {
   "cell_type": "code",
   "execution_count": 229,
   "id": "b24896d3",
   "metadata": {
    "ExecuteTime": {
     "end_time": "2022-09-21T06:12:16.300283Z",
     "start_time": "2022-09-21T06:12:16.182284Z"
    },
    "id": "b24896d3",
    "outputId": "be737f3f-bdbc-47cb-b5a8-6afac02aeb75"
   },
   "outputs": [
    {
     "data": {
      "text/plain": [
       "user_id\n",
       "33869381     24\n",
       "64078358     13\n",
       "183503497     3\n",
       "184265397     4\n",
       "195082191    10\n",
       "Name: event_time, dtype: int64"
      ]
     },
     "execution_count": 229,
     "metadata": {},
     "output_type": "execute_result"
    }
   ],
   "source": [
    "first_event = first_event.dt.day\n",
    "first_event.head()"
   ]
  },
  {
   "cell_type": "code",
   "execution_count": 230,
   "id": "a3e1d8bf",
   "metadata": {
    "ExecuteTime": {
     "end_time": "2022-09-21T06:12:19.795283Z",
     "start_time": "2022-09-21T06:12:16.796284Z"
    },
    "id": "a3e1d8bf",
    "outputId": "28f64166-b167-44f9-82d1-5b395fb4589f"
   },
   "outputs": [
    {
     "data": {
      "text/html": [
       "<div>\n",
       "<style scoped>\n",
       "    .dataframe tbody tr th:only-of-type {\n",
       "        vertical-align: middle;\n",
       "    }\n",
       "\n",
       "    .dataframe tbody tr th {\n",
       "        vertical-align: top;\n",
       "    }\n",
       "\n",
       "    .dataframe thead th {\n",
       "        text-align: right;\n",
       "    }\n",
       "</style>\n",
       "<table border=\"1\" class=\"dataframe\">\n",
       "  <thead>\n",
       "    <tr style=\"text-align: right;\">\n",
       "      <th></th>\n",
       "      <th>user_id</th>\n",
       "      <th>product_id</th>\n",
       "      <th>event_time</th>\n",
       "      <th>event_period</th>\n",
       "      <th>first_event</th>\n",
       "    </tr>\n",
       "  </thead>\n",
       "  <tbody>\n",
       "    <tr>\n",
       "      <th>0</th>\n",
       "      <td>541312140</td>\n",
       "      <td>44600062</td>\n",
       "      <td>2019-10-01 04:00:00</td>\n",
       "      <td>1</td>\n",
       "      <td>1</td>\n",
       "    </tr>\n",
       "    <tr>\n",
       "      <th>1</th>\n",
       "      <td>554748717</td>\n",
       "      <td>3900821</td>\n",
       "      <td>2019-10-01 04:00:00</td>\n",
       "      <td>1</td>\n",
       "      <td>1</td>\n",
       "    </tr>\n",
       "    <tr>\n",
       "      <th>2</th>\n",
       "      <td>519107250</td>\n",
       "      <td>17200506</td>\n",
       "      <td>2019-10-01 04:00:01</td>\n",
       "      <td>1</td>\n",
       "      <td>1</td>\n",
       "    </tr>\n",
       "    <tr>\n",
       "      <th>3</th>\n",
       "      <td>550050854</td>\n",
       "      <td>1307067</td>\n",
       "      <td>2019-10-01 04:00:01</td>\n",
       "      <td>1</td>\n",
       "      <td>1</td>\n",
       "    </tr>\n",
       "    <tr>\n",
       "      <th>4</th>\n",
       "      <td>535871217</td>\n",
       "      <td>1004237</td>\n",
       "      <td>2019-10-01 04:00:04</td>\n",
       "      <td>1</td>\n",
       "      <td>1</td>\n",
       "    </tr>\n",
       "  </tbody>\n",
       "</table>\n",
       "</div>"
      ],
      "text/plain": [
       "     user_id  product_id          event_time  event_period  first_event\n",
       "0  541312140    44600062 2019-10-01 04:00:00             1            1\n",
       "1  554748717     3900821 2019-10-01 04:00:00             1            1\n",
       "2  519107250    17200506 2019-10-01 04:00:01             1            1\n",
       "3  550050854     1307067 2019-10-01 04:00:01             1            1\n",
       "4  535871217     1004237 2019-10-01 04:00:04             1            1"
      ]
     },
     "execution_count": 230,
     "metadata": {},
     "output_type": "execute_result"
    }
   ],
   "source": [
    "cohort_data['first_event'] = first_event\n",
    "cohort_data = cohort_data.reset_index()\n",
    "cohort_data.head()"
   ]
  },
  {
   "cell_type": "markdown",
   "id": "b94b10ff",
   "metadata": {
    "id": "b94b10ff"
   },
   "source": [
    "### 코호트 그룹과 방문기간으로 데이터 집계하기"
   ]
  },
  {
   "cell_type": "code",
   "execution_count": 231,
   "id": "ee52e36f",
   "metadata": {
    "ExecuteTime": {
     "end_time": "2022-09-21T06:12:20.290466Z",
     "start_time": "2022-09-21T06:12:20.276465Z"
    },
    "id": "ee52e36f"
   },
   "outputs": [],
   "source": [
    "grouped = cohort_data.groupby(['first_event','event_period'])"
   ]
  },
  {
   "cell_type": "markdown",
   "id": "bff61a74",
   "metadata": {
    "id": "bff61a74"
   },
   "source": [
    "groupby 함수에 첫 방문일자 first_event와 방문별 기간을 나타내는 event_period를 함께 전달하여  \n",
    "첫 방문일자와 방문기간을 기준으로 데이터를 그룹화합니다. "
   ]
  },
  {
   "cell_type": "code",
   "execution_count": 232,
   "id": "8ba29f8c",
   "metadata": {
    "ExecuteTime": {
     "end_time": "2022-09-21T06:12:34.213005Z",
     "start_time": "2022-09-21T06:12:20.772465Z"
    },
    "id": "8ba29f8c",
    "outputId": "3162a546-467a-44f5-b984-c151a4667c4b"
   },
   "outputs": [
    {
     "data": {
      "text/plain": [
       "first_event  event_period\n",
       "1            1               185152\n",
       "             2                32480\n",
       "             3                25149\n",
       "             4                27229\n",
       "             5                22793\n",
       "Name: user_id, dtype: int64"
      ]
     },
     "execution_count": 232,
     "metadata": {},
     "output_type": "execute_result"
    }
   ],
   "source": [
    "cohorts = grouped['user_id'].nunique()\n",
    "cohorts.head()"
   ]
  },
  {
   "cell_type": "markdown",
   "id": "ea9614e6",
   "metadata": {
    "id": "ea9614e6"
   },
   "source": [
    "uesr_id를 집계하며, nunique()함수를 사용하여, 고객이 여러번 방문했더라도  \n",
    "한번만 집계하게 되어, 일별 순방문자수를 파악할 수 있습니다."
   ]
  },
  {
   "cell_type": "code",
   "execution_count": 233,
   "id": "aad2ab87",
   "metadata": {
    "ExecuteTime": {
     "end_time": "2022-09-21T06:12:34.723006Z",
     "start_time": "2022-09-21T06:12:34.710005Z"
    },
    "id": "aad2ab87",
    "outputId": "27668282-fdd4-4a3e-b090-a089d1196a84"
   },
   "outputs": [
    {
     "data": {
      "text/html": [
       "<div>\n",
       "<style scoped>\n",
       "    .dataframe tbody tr th:only-of-type {\n",
       "        vertical-align: middle;\n",
       "    }\n",
       "\n",
       "    .dataframe tbody tr th {\n",
       "        vertical-align: top;\n",
       "    }\n",
       "\n",
       "    .dataframe thead th {\n",
       "        text-align: right;\n",
       "    }\n",
       "</style>\n",
       "<table border=\"1\" class=\"dataframe\">\n",
       "  <thead>\n",
       "    <tr style=\"text-align: right;\">\n",
       "      <th></th>\n",
       "      <th>first_event</th>\n",
       "      <th>event_period</th>\n",
       "      <th>user_id</th>\n",
       "    </tr>\n",
       "  </thead>\n",
       "  <tbody>\n",
       "    <tr>\n",
       "      <th>0</th>\n",
       "      <td>1</td>\n",
       "      <td>1</td>\n",
       "      <td>185152</td>\n",
       "    </tr>\n",
       "    <tr>\n",
       "      <th>1</th>\n",
       "      <td>1</td>\n",
       "      <td>2</td>\n",
       "      <td>32480</td>\n",
       "    </tr>\n",
       "    <tr>\n",
       "      <th>2</th>\n",
       "      <td>1</td>\n",
       "      <td>3</td>\n",
       "      <td>25149</td>\n",
       "    </tr>\n",
       "    <tr>\n",
       "      <th>3</th>\n",
       "      <td>1</td>\n",
       "      <td>4</td>\n",
       "      <td>27229</td>\n",
       "    </tr>\n",
       "    <tr>\n",
       "      <th>4</th>\n",
       "      <td>1</td>\n",
       "      <td>5</td>\n",
       "      <td>22793</td>\n",
       "    </tr>\n",
       "  </tbody>\n",
       "</table>\n",
       "</div>"
      ],
      "text/plain": [
       "   first_event  event_period  user_id\n",
       "0            1             1   185152\n",
       "1            1             2    32480\n",
       "2            1             3    25149\n",
       "3            1             4    27229\n",
       "4            1             5    22793"
      ]
     },
     "execution_count": 233,
     "metadata": {},
     "output_type": "execute_result"
    }
   ],
   "source": [
    "cohorts = cohorts.reset_index()\n",
    "cohorts.head()"
   ]
  },
  {
   "cell_type": "code",
   "execution_count": 234,
   "id": "41c5895e",
   "metadata": {
    "ExecuteTime": {
     "end_time": "2022-09-21T06:12:35.218005Z",
     "start_time": "2022-09-21T06:12:35.204006Z"
    },
    "id": "41c5895e",
    "outputId": "e75ee944-702f-4cfa-83e9-ffff9c9d933c"
   },
   "outputs": [
    {
     "data": {
      "text/html": [
       "<div>\n",
       "<style scoped>\n",
       "    .dataframe tbody tr th:only-of-type {\n",
       "        vertical-align: middle;\n",
       "    }\n",
       "\n",
       "    .dataframe tbody tr th {\n",
       "        vertical-align: top;\n",
       "    }\n",
       "\n",
       "    .dataframe thead th {\n",
       "        text-align: right;\n",
       "    }\n",
       "</style>\n",
       "<table border=\"1\" class=\"dataframe\">\n",
       "  <thead>\n",
       "    <tr style=\"text-align: right;\">\n",
       "      <th></th>\n",
       "      <th>first_event</th>\n",
       "      <th>event_period</th>\n",
       "      <th>total_users</th>\n",
       "    </tr>\n",
       "  </thead>\n",
       "  <tbody>\n",
       "    <tr>\n",
       "      <th>0</th>\n",
       "      <td>1</td>\n",
       "      <td>1</td>\n",
       "      <td>185152</td>\n",
       "    </tr>\n",
       "    <tr>\n",
       "      <th>1</th>\n",
       "      <td>1</td>\n",
       "      <td>2</td>\n",
       "      <td>32480</td>\n",
       "    </tr>\n",
       "    <tr>\n",
       "      <th>2</th>\n",
       "      <td>1</td>\n",
       "      <td>3</td>\n",
       "      <td>25149</td>\n",
       "    </tr>\n",
       "    <tr>\n",
       "      <th>3</th>\n",
       "      <td>1</td>\n",
       "      <td>4</td>\n",
       "      <td>27229</td>\n",
       "    </tr>\n",
       "    <tr>\n",
       "      <th>4</th>\n",
       "      <td>1</td>\n",
       "      <td>5</td>\n",
       "      <td>22793</td>\n",
       "    </tr>\n",
       "  </tbody>\n",
       "</table>\n",
       "</div>"
      ],
      "text/plain": [
       "   first_event  event_period  total_users\n",
       "0            1             1       185152\n",
       "1            1             2        32480\n",
       "2            1             3        25149\n",
       "3            1             4        27229\n",
       "4            1             5        22793"
      ]
     },
     "execution_count": 234,
     "metadata": {},
     "output_type": "execute_result"
    }
   ],
   "source": [
    "cohorts = cohorts.rename({'user_id' : 'total_users'}, axis=1)\n",
    "cohorts.head()"
   ]
  },
  {
   "cell_type": "code",
   "execution_count": 235,
   "id": "66245ced",
   "metadata": {
    "ExecuteTime": {
     "end_time": "2022-09-21T06:12:35.713005Z",
     "start_time": "2022-09-21T06:12:35.699008Z"
    },
    "id": "66245ced",
    "outputId": "a439103f-9cd2-4f17-97ac-113fe772e4a7"
   },
   "outputs": [
    {
     "data": {
      "text/plain": [
       "1    31\n",
       "2    30\n",
       "3    29\n",
       "4    28\n",
       "5    27\n",
       "Name: first_event, dtype: int64"
      ]
     },
     "execution_count": 235,
     "metadata": {},
     "output_type": "execute_result"
    }
   ],
   "source": [
    "each_period = cohorts['first_event'].value_counts().sort_index()\n",
    "each_period.head()"
   ]
  },
  {
   "cell_type": "markdown",
   "id": "3e71a007",
   "metadata": {
    "id": "3e71a007"
   },
   "source": [
    "### 기간별 레이블 붙이기"
   ]
  },
  {
   "cell_type": "code",
   "execution_count": 236,
   "id": "c7f08e49",
   "metadata": {
    "ExecuteTime": {
     "end_time": "2022-09-21T06:12:36.253005Z",
     "start_time": "2022-09-21T06:12:36.239007Z"
    },
    "id": "c7f08e49",
    "outputId": "20b234ae-9576-4ad9-9114-ea01ba94e534"
   },
   "outputs": [
    {
     "name": "stderr",
     "output_type": "stream",
     "text": [
      "100%|██████████████████████████████████████████████████████████████████████████████████████████| 31/31 [00:00<?, ?it/s]\n"
     ]
    }
   ],
   "source": [
    "cohort_period = []\n",
    "for x in tqdm(each_period):\n",
    "    for y in range(x):\n",
    "        cohort_period.append(y)"
   ]
  },
  {
   "cell_type": "code",
   "execution_count": 237,
   "id": "81262f90",
   "metadata": {
    "ExecuteTime": {
     "end_time": "2022-09-21T06:12:36.763005Z",
     "start_time": "2022-09-21T06:12:36.749007Z"
    },
    "id": "81262f90",
    "outputId": "f8a8b02a-4542-479c-8d3c-6c00f2622e5c"
   },
   "outputs": [
    {
     "data": {
      "text/html": [
       "<div>\n",
       "<style scoped>\n",
       "    .dataframe tbody tr th:only-of-type {\n",
       "        vertical-align: middle;\n",
       "    }\n",
       "\n",
       "    .dataframe tbody tr th {\n",
       "        vertical-align: top;\n",
       "    }\n",
       "\n",
       "    .dataframe thead th {\n",
       "        text-align: right;\n",
       "    }\n",
       "</style>\n",
       "<table border=\"1\" class=\"dataframe\">\n",
       "  <thead>\n",
       "    <tr style=\"text-align: right;\">\n",
       "      <th></th>\n",
       "      <th>first_event</th>\n",
       "      <th>event_period</th>\n",
       "      <th>total_users</th>\n",
       "      <th>cohort_period</th>\n",
       "    </tr>\n",
       "  </thead>\n",
       "  <tbody>\n",
       "    <tr>\n",
       "      <th>0</th>\n",
       "      <td>1</td>\n",
       "      <td>1</td>\n",
       "      <td>185152</td>\n",
       "      <td>0</td>\n",
       "    </tr>\n",
       "    <tr>\n",
       "      <th>1</th>\n",
       "      <td>1</td>\n",
       "      <td>2</td>\n",
       "      <td>32480</td>\n",
       "      <td>1</td>\n",
       "    </tr>\n",
       "    <tr>\n",
       "      <th>2</th>\n",
       "      <td>1</td>\n",
       "      <td>3</td>\n",
       "      <td>25149</td>\n",
       "      <td>2</td>\n",
       "    </tr>\n",
       "    <tr>\n",
       "      <th>3</th>\n",
       "      <td>1</td>\n",
       "      <td>4</td>\n",
       "      <td>27229</td>\n",
       "      <td>3</td>\n",
       "    </tr>\n",
       "    <tr>\n",
       "      <th>4</th>\n",
       "      <td>1</td>\n",
       "      <td>5</td>\n",
       "      <td>22793</td>\n",
       "      <td>4</td>\n",
       "    </tr>\n",
       "    <tr>\n",
       "      <th>5</th>\n",
       "      <td>1</td>\n",
       "      <td>6</td>\n",
       "      <td>21470</td>\n",
       "      <td>5</td>\n",
       "    </tr>\n",
       "    <tr>\n",
       "      <th>6</th>\n",
       "      <td>1</td>\n",
       "      <td>7</td>\n",
       "      <td>20960</td>\n",
       "      <td>6</td>\n",
       "    </tr>\n",
       "    <tr>\n",
       "      <th>7</th>\n",
       "      <td>1</td>\n",
       "      <td>8</td>\n",
       "      <td>21781</td>\n",
       "      <td>7</td>\n",
       "    </tr>\n",
       "    <tr>\n",
       "      <th>8</th>\n",
       "      <td>1</td>\n",
       "      <td>9</td>\n",
       "      <td>20803</td>\n",
       "      <td>8</td>\n",
       "    </tr>\n",
       "    <tr>\n",
       "      <th>9</th>\n",
       "      <td>1</td>\n",
       "      <td>10</td>\n",
       "      <td>20100</td>\n",
       "      <td>9</td>\n",
       "    </tr>\n",
       "  </tbody>\n",
       "</table>\n",
       "</div>"
      ],
      "text/plain": [
       "   first_event  event_period  total_users  cohort_period\n",
       "0            1             1       185152              0\n",
       "1            1             2        32480              1\n",
       "2            1             3        25149              2\n",
       "3            1             4        27229              3\n",
       "4            1             5        22793              4\n",
       "5            1             6        21470              5\n",
       "6            1             7        20960              6\n",
       "7            1             8        21781              7\n",
       "8            1             9        20803              8\n",
       "9            1            10        20100              9"
      ]
     },
     "execution_count": 237,
     "metadata": {},
     "output_type": "execute_result"
    }
   ],
   "source": [
    "cohorts['cohort_period'] = cohort_period\n",
    "cohorts.head(10)"
   ]
  },
  {
   "cell_type": "code",
   "execution_count": 238,
   "id": "81e3ede8",
   "metadata": {
    "ExecuteTime": {
     "end_time": "2022-09-21T06:12:37.288005Z",
     "start_time": "2022-09-21T06:12:37.259008Z"
    },
    "id": "81e3ede8",
    "outputId": "c94d84db-bb64-4b24-add2-92764b113657"
   },
   "outputs": [
    {
     "data": {
      "text/html": [
       "<div>\n",
       "<style scoped>\n",
       "    .dataframe tbody tr th:only-of-type {\n",
       "        vertical-align: middle;\n",
       "    }\n",
       "\n",
       "    .dataframe tbody tr th {\n",
       "        vertical-align: top;\n",
       "    }\n",
       "\n",
       "    .dataframe thead th {\n",
       "        text-align: right;\n",
       "    }\n",
       "</style>\n",
       "<table border=\"1\" class=\"dataframe\">\n",
       "  <thead>\n",
       "    <tr style=\"text-align: right;\">\n",
       "      <th></th>\n",
       "      <th></th>\n",
       "      <th>event_period</th>\n",
       "      <th>total_users</th>\n",
       "    </tr>\n",
       "    <tr>\n",
       "      <th>first_event</th>\n",
       "      <th>cohort_period</th>\n",
       "      <th></th>\n",
       "      <th></th>\n",
       "    </tr>\n",
       "  </thead>\n",
       "  <tbody>\n",
       "    <tr>\n",
       "      <th rowspan=\"5\" valign=\"top\">1</th>\n",
       "      <th>0</th>\n",
       "      <td>1</td>\n",
       "      <td>185152</td>\n",
       "    </tr>\n",
       "    <tr>\n",
       "      <th>1</th>\n",
       "      <td>2</td>\n",
       "      <td>32480</td>\n",
       "    </tr>\n",
       "    <tr>\n",
       "      <th>2</th>\n",
       "      <td>3</td>\n",
       "      <td>25149</td>\n",
       "    </tr>\n",
       "    <tr>\n",
       "      <th>3</th>\n",
       "      <td>4</td>\n",
       "      <td>27229</td>\n",
       "    </tr>\n",
       "    <tr>\n",
       "      <th>4</th>\n",
       "      <td>5</td>\n",
       "      <td>22793</td>\n",
       "    </tr>\n",
       "  </tbody>\n",
       "</table>\n",
       "</div>"
      ],
      "text/plain": [
       "                           event_period  total_users\n",
       "first_event cohort_period                           \n",
       "1           0                         1       185152\n",
       "            1                         2        32480\n",
       "            2                         3        25149\n",
       "            3                         4        27229\n",
       "            4                         5        22793"
      ]
     },
     "execution_count": 238,
     "metadata": {},
     "output_type": "execute_result"
    }
   ],
   "source": [
    "cohorts = cohorts.set_index(['first_event','cohort_period'])\n",
    "cohorts.head()"
   ]
  },
  {
   "cell_type": "code",
   "execution_count": 239,
   "id": "7e9727b8",
   "metadata": {
    "ExecuteTime": {
     "end_time": "2022-09-21T06:12:37.828006Z",
     "start_time": "2022-09-21T06:12:37.785006Z"
    },
    "id": "7e9727b8",
    "outputId": "05fec060-bb69-4765-d0aa-00ae7bc3f33f"
   },
   "outputs": [
    {
     "data": {
      "text/html": [
       "<div>\n",
       "<style scoped>\n",
       "    .dataframe tbody tr th:only-of-type {\n",
       "        vertical-align: middle;\n",
       "    }\n",
       "\n",
       "    .dataframe tbody tr th {\n",
       "        vertical-align: top;\n",
       "    }\n",
       "\n",
       "    .dataframe thead th {\n",
       "        text-align: right;\n",
       "    }\n",
       "</style>\n",
       "<table border=\"1\" class=\"dataframe\">\n",
       "  <thead>\n",
       "    <tr style=\"text-align: right;\">\n",
       "      <th>cohort_period</th>\n",
       "      <th>0</th>\n",
       "      <th>1</th>\n",
       "      <th>2</th>\n",
       "      <th>3</th>\n",
       "      <th>4</th>\n",
       "      <th>5</th>\n",
       "      <th>6</th>\n",
       "      <th>7</th>\n",
       "      <th>8</th>\n",
       "      <th>9</th>\n",
       "      <th>...</th>\n",
       "      <th>21</th>\n",
       "      <th>22</th>\n",
       "      <th>23</th>\n",
       "      <th>24</th>\n",
       "      <th>25</th>\n",
       "      <th>26</th>\n",
       "      <th>27</th>\n",
       "      <th>28</th>\n",
       "      <th>29</th>\n",
       "      <th>30</th>\n",
       "    </tr>\n",
       "    <tr>\n",
       "      <th>first_event</th>\n",
       "      <th></th>\n",
       "      <th></th>\n",
       "      <th></th>\n",
       "      <th></th>\n",
       "      <th></th>\n",
       "      <th></th>\n",
       "      <th></th>\n",
       "      <th></th>\n",
       "      <th></th>\n",
       "      <th></th>\n",
       "      <th></th>\n",
       "      <th></th>\n",
       "      <th></th>\n",
       "      <th></th>\n",
       "      <th></th>\n",
       "      <th></th>\n",
       "      <th></th>\n",
       "      <th></th>\n",
       "      <th></th>\n",
       "      <th></th>\n",
       "      <th></th>\n",
       "    </tr>\n",
       "  </thead>\n",
       "  <tbody>\n",
       "    <tr>\n",
       "      <th>1</th>\n",
       "      <td>185152.0</td>\n",
       "      <td>32480.0</td>\n",
       "      <td>25149.0</td>\n",
       "      <td>27229.0</td>\n",
       "      <td>22793.0</td>\n",
       "      <td>21470.0</td>\n",
       "      <td>20960.0</td>\n",
       "      <td>21781.0</td>\n",
       "      <td>20803.0</td>\n",
       "      <td>20100.0</td>\n",
       "      <td>...</td>\n",
       "      <td>16422.0</td>\n",
       "      <td>16241.0</td>\n",
       "      <td>15398.0</td>\n",
       "      <td>16926.0</td>\n",
       "      <td>14931.0</td>\n",
       "      <td>14820.0</td>\n",
       "      <td>14881.0</td>\n",
       "      <td>14341.0</td>\n",
       "      <td>13925.0</td>\n",
       "      <td>14265.0</td>\n",
       "    </tr>\n",
       "    <tr>\n",
       "      <th>2</th>\n",
       "      <td>153339.0</td>\n",
       "      <td>21032.0</td>\n",
       "      <td>20127.0</td>\n",
       "      <td>16190.0</td>\n",
       "      <td>15219.0</td>\n",
       "      <td>14584.0</td>\n",
       "      <td>15320.0</td>\n",
       "      <td>14916.0</td>\n",
       "      <td>14053.0</td>\n",
       "      <td>15625.0</td>\n",
       "      <td>...</td>\n",
       "      <td>11439.0</td>\n",
       "      <td>10632.0</td>\n",
       "      <td>11644.0</td>\n",
       "      <td>10430.0</td>\n",
       "      <td>10317.0</td>\n",
       "      <td>10452.0</td>\n",
       "      <td>10010.0</td>\n",
       "      <td>9993.0</td>\n",
       "      <td>10304.0</td>\n",
       "      <td>NaN</td>\n",
       "    </tr>\n",
       "    <tr>\n",
       "      <th>3</th>\n",
       "      <td>124489.0</td>\n",
       "      <td>18541.0</td>\n",
       "      <td>13133.0</td>\n",
       "      <td>11823.0</td>\n",
       "      <td>11408.0</td>\n",
       "      <td>11945.0</td>\n",
       "      <td>11391.0</td>\n",
       "      <td>10732.0</td>\n",
       "      <td>11755.0</td>\n",
       "      <td>10544.0</td>\n",
       "      <td>...</td>\n",
       "      <td>8212.0</td>\n",
       "      <td>9095.0</td>\n",
       "      <td>7955.0</td>\n",
       "      <td>7981.0</td>\n",
       "      <td>8048.0</td>\n",
       "      <td>7564.0</td>\n",
       "      <td>7440.0</td>\n",
       "      <td>7686.0</td>\n",
       "      <td>NaN</td>\n",
       "      <td>NaN</td>\n",
       "    </tr>\n",
       "    <tr>\n",
       "      <th>4</th>\n",
       "      <td>142589.0</td>\n",
       "      <td>17763.0</td>\n",
       "      <td>13299.0</td>\n",
       "      <td>12022.0</td>\n",
       "      <td>12589.0</td>\n",
       "      <td>11757.0</td>\n",
       "      <td>11319.0</td>\n",
       "      <td>13085.0</td>\n",
       "      <td>11291.0</td>\n",
       "      <td>12152.0</td>\n",
       "      <td>...</td>\n",
       "      <td>9802.0</td>\n",
       "      <td>8462.0</td>\n",
       "      <td>8302.0</td>\n",
       "      <td>8160.0</td>\n",
       "      <td>7762.0</td>\n",
       "      <td>7646.0</td>\n",
       "      <td>8038.0</td>\n",
       "      <td>NaN</td>\n",
       "      <td>NaN</td>\n",
       "      <td>NaN</td>\n",
       "    </tr>\n",
       "    <tr>\n",
       "      <th>5</th>\n",
       "      <td>124186.0</td>\n",
       "      <td>14585.0</td>\n",
       "      <td>10089.0</td>\n",
       "      <td>9854.0</td>\n",
       "      <td>9272.0</td>\n",
       "      <td>8638.0</td>\n",
       "      <td>9896.0</td>\n",
       "      <td>9110.0</td>\n",
       "      <td>9558.0</td>\n",
       "      <td>8525.0</td>\n",
       "      <td>...</td>\n",
       "      <td>6848.0</td>\n",
       "      <td>6843.0</td>\n",
       "      <td>6113.0</td>\n",
       "      <td>6050.0</td>\n",
       "      <td>5821.0</td>\n",
       "      <td>6072.0</td>\n",
       "      <td>NaN</td>\n",
       "      <td>NaN</td>\n",
       "      <td>NaN</td>\n",
       "      <td>NaN</td>\n",
       "    </tr>\n",
       "  </tbody>\n",
       "</table>\n",
       "<p>5 rows × 31 columns</p>\n",
       "</div>"
      ],
      "text/plain": [
       "cohort_period        0        1        2        3        4        5        6   \\\n",
       "first_event                                                                     \n",
       "1              185152.0  32480.0  25149.0  27229.0  22793.0  21470.0  20960.0   \n",
       "2              153339.0  21032.0  20127.0  16190.0  15219.0  14584.0  15320.0   \n",
       "3              124489.0  18541.0  13133.0  11823.0  11408.0  11945.0  11391.0   \n",
       "4              142589.0  17763.0  13299.0  12022.0  12589.0  11757.0  11319.0   \n",
       "5              124186.0  14585.0  10089.0   9854.0   9272.0   8638.0   9896.0   \n",
       "\n",
       "cohort_period       7        8        9   ...       21       22       23  \\\n",
       "first_event                               ...                              \n",
       "1              21781.0  20803.0  20100.0  ...  16422.0  16241.0  15398.0   \n",
       "2              14916.0  14053.0  15625.0  ...  11439.0  10632.0  11644.0   \n",
       "3              10732.0  11755.0  10544.0  ...   8212.0   9095.0   7955.0   \n",
       "4              13085.0  11291.0  12152.0  ...   9802.0   8462.0   8302.0   \n",
       "5               9110.0   9558.0   8525.0  ...   6848.0   6843.0   6113.0   \n",
       "\n",
       "cohort_period       24       25       26       27       28       29       30  \n",
       "first_event                                                                   \n",
       "1              16926.0  14931.0  14820.0  14881.0  14341.0  13925.0  14265.0  \n",
       "2              10430.0  10317.0  10452.0  10010.0   9993.0  10304.0      NaN  \n",
       "3               7981.0   8048.0   7564.0   7440.0   7686.0      NaN      NaN  \n",
       "4               8160.0   7762.0   7646.0   8038.0      NaN      NaN      NaN  \n",
       "5               6050.0   5821.0   6072.0      NaN      NaN      NaN      NaN  \n",
       "\n",
       "[5 rows x 31 columns]"
      ]
     },
     "execution_count": 239,
     "metadata": {},
     "output_type": "execute_result"
    }
   ],
   "source": [
    "cohorts = cohorts['total_users'].unstack(1)\n",
    "cohorts.head()"
   ]
  },
  {
   "cell_type": "markdown",
   "id": "81f7b20a",
   "metadata": {
    "id": "81f7b20a"
   },
   "source": [
    "### 코호트별 사용자 유지율 구하기"
   ]
  },
  {
   "cell_type": "code",
   "execution_count": 240,
   "id": "7bd24fbc",
   "metadata": {
    "ExecuteTime": {
     "end_time": "2022-09-21T06:12:38.383005Z",
     "start_time": "2022-09-21T06:12:38.355007Z"
    },
    "id": "7bd24fbc",
    "outputId": "76cc51f6-a7ff-4b33-8cc8-64acece87530"
   },
   "outputs": [
    {
     "data": {
      "text/html": [
       "<div>\n",
       "<style scoped>\n",
       "    .dataframe tbody tr th:only-of-type {\n",
       "        vertical-align: middle;\n",
       "    }\n",
       "\n",
       "    .dataframe tbody tr th {\n",
       "        vertical-align: top;\n",
       "    }\n",
       "\n",
       "    .dataframe thead th {\n",
       "        text-align: right;\n",
       "    }\n",
       "</style>\n",
       "<table border=\"1\" class=\"dataframe\">\n",
       "  <thead>\n",
       "    <tr style=\"text-align: right;\">\n",
       "      <th>cohort_period</th>\n",
       "      <th>0</th>\n",
       "      <th>1</th>\n",
       "      <th>2</th>\n",
       "      <th>3</th>\n",
       "      <th>4</th>\n",
       "      <th>5</th>\n",
       "      <th>6</th>\n",
       "      <th>7</th>\n",
       "      <th>8</th>\n",
       "      <th>9</th>\n",
       "      <th>...</th>\n",
       "      <th>21</th>\n",
       "      <th>22</th>\n",
       "      <th>23</th>\n",
       "      <th>24</th>\n",
       "      <th>25</th>\n",
       "      <th>26</th>\n",
       "      <th>27</th>\n",
       "      <th>28</th>\n",
       "      <th>29</th>\n",
       "      <th>30</th>\n",
       "    </tr>\n",
       "    <tr>\n",
       "      <th>first_event</th>\n",
       "      <th></th>\n",
       "      <th></th>\n",
       "      <th></th>\n",
       "      <th></th>\n",
       "      <th></th>\n",
       "      <th></th>\n",
       "      <th></th>\n",
       "      <th></th>\n",
       "      <th></th>\n",
       "      <th></th>\n",
       "      <th></th>\n",
       "      <th></th>\n",
       "      <th></th>\n",
       "      <th></th>\n",
       "      <th></th>\n",
       "      <th></th>\n",
       "      <th></th>\n",
       "      <th></th>\n",
       "      <th></th>\n",
       "      <th></th>\n",
       "      <th></th>\n",
       "    </tr>\n",
       "  </thead>\n",
       "  <tbody>\n",
       "    <tr>\n",
       "      <th>1</th>\n",
       "      <td>1.0</td>\n",
       "      <td>0.175423</td>\n",
       "      <td>0.135829</td>\n",
       "      <td>0.147063</td>\n",
       "      <td>0.123104</td>\n",
       "      <td>0.115959</td>\n",
       "      <td>0.113204</td>\n",
       "      <td>0.117638</td>\n",
       "      <td>0.112356</td>\n",
       "      <td>0.108559</td>\n",
       "      <td>...</td>\n",
       "      <td>0.088695</td>\n",
       "      <td>0.087717</td>\n",
       "      <td>0.083164</td>\n",
       "      <td>0.091417</td>\n",
       "      <td>0.080642</td>\n",
       "      <td>0.080042</td>\n",
       "      <td>0.080372</td>\n",
       "      <td>0.077455</td>\n",
       "      <td>0.075208</td>\n",
       "      <td>0.077045</td>\n",
       "    </tr>\n",
       "    <tr>\n",
       "      <th>2</th>\n",
       "      <td>1.0</td>\n",
       "      <td>0.137160</td>\n",
       "      <td>0.131258</td>\n",
       "      <td>0.105583</td>\n",
       "      <td>0.099251</td>\n",
       "      <td>0.095110</td>\n",
       "      <td>0.099909</td>\n",
       "      <td>0.097275</td>\n",
       "      <td>0.091647</td>\n",
       "      <td>0.101898</td>\n",
       "      <td>...</td>\n",
       "      <td>0.074599</td>\n",
       "      <td>0.069337</td>\n",
       "      <td>0.075936</td>\n",
       "      <td>0.068019</td>\n",
       "      <td>0.067282</td>\n",
       "      <td>0.068163</td>\n",
       "      <td>0.065280</td>\n",
       "      <td>0.065169</td>\n",
       "      <td>0.067198</td>\n",
       "      <td>NaN</td>\n",
       "    </tr>\n",
       "    <tr>\n",
       "      <th>3</th>\n",
       "      <td>1.0</td>\n",
       "      <td>0.148937</td>\n",
       "      <td>0.105495</td>\n",
       "      <td>0.094972</td>\n",
       "      <td>0.091639</td>\n",
       "      <td>0.095952</td>\n",
       "      <td>0.091502</td>\n",
       "      <td>0.086208</td>\n",
       "      <td>0.094426</td>\n",
       "      <td>0.084698</td>\n",
       "      <td>...</td>\n",
       "      <td>0.065966</td>\n",
       "      <td>0.073059</td>\n",
       "      <td>0.063901</td>\n",
       "      <td>0.064110</td>\n",
       "      <td>0.064648</td>\n",
       "      <td>0.060760</td>\n",
       "      <td>0.059764</td>\n",
       "      <td>0.061740</td>\n",
       "      <td>NaN</td>\n",
       "      <td>NaN</td>\n",
       "    </tr>\n",
       "    <tr>\n",
       "      <th>4</th>\n",
       "      <td>1.0</td>\n",
       "      <td>0.124575</td>\n",
       "      <td>0.093268</td>\n",
       "      <td>0.084312</td>\n",
       "      <td>0.088289</td>\n",
       "      <td>0.082454</td>\n",
       "      <td>0.079382</td>\n",
       "      <td>0.091767</td>\n",
       "      <td>0.079186</td>\n",
       "      <td>0.085224</td>\n",
       "      <td>...</td>\n",
       "      <td>0.068743</td>\n",
       "      <td>0.059345</td>\n",
       "      <td>0.058223</td>\n",
       "      <td>0.057227</td>\n",
       "      <td>0.054436</td>\n",
       "      <td>0.053623</td>\n",
       "      <td>0.056372</td>\n",
       "      <td>NaN</td>\n",
       "      <td>NaN</td>\n",
       "      <td>NaN</td>\n",
       "    </tr>\n",
       "    <tr>\n",
       "      <th>5</th>\n",
       "      <td>1.0</td>\n",
       "      <td>0.117445</td>\n",
       "      <td>0.081241</td>\n",
       "      <td>0.079349</td>\n",
       "      <td>0.074662</td>\n",
       "      <td>0.069557</td>\n",
       "      <td>0.079687</td>\n",
       "      <td>0.073358</td>\n",
       "      <td>0.076965</td>\n",
       "      <td>0.068647</td>\n",
       "      <td>...</td>\n",
       "      <td>0.055143</td>\n",
       "      <td>0.055103</td>\n",
       "      <td>0.049225</td>\n",
       "      <td>0.048717</td>\n",
       "      <td>0.046873</td>\n",
       "      <td>0.048894</td>\n",
       "      <td>NaN</td>\n",
       "      <td>NaN</td>\n",
       "      <td>NaN</td>\n",
       "      <td>NaN</td>\n",
       "    </tr>\n",
       "  </tbody>\n",
       "</table>\n",
       "<p>5 rows × 31 columns</p>\n",
       "</div>"
      ],
      "text/plain": [
       "cohort_period   0         1         2         3         4         5   \\\n",
       "first_event                                                            \n",
       "1              1.0  0.175423  0.135829  0.147063  0.123104  0.115959   \n",
       "2              1.0  0.137160  0.131258  0.105583  0.099251  0.095110   \n",
       "3              1.0  0.148937  0.105495  0.094972  0.091639  0.095952   \n",
       "4              1.0  0.124575  0.093268  0.084312  0.088289  0.082454   \n",
       "5              1.0  0.117445  0.081241  0.079349  0.074662  0.069557   \n",
       "\n",
       "cohort_period        6         7         8         9   ...        21  \\\n",
       "first_event                                            ...             \n",
       "1              0.113204  0.117638  0.112356  0.108559  ...  0.088695   \n",
       "2              0.099909  0.097275  0.091647  0.101898  ...  0.074599   \n",
       "3              0.091502  0.086208  0.094426  0.084698  ...  0.065966   \n",
       "4              0.079382  0.091767  0.079186  0.085224  ...  0.068743   \n",
       "5              0.079687  0.073358  0.076965  0.068647  ...  0.055143   \n",
       "\n",
       "cohort_period        22        23        24        25        26        27  \\\n",
       "first_event                                                                 \n",
       "1              0.087717  0.083164  0.091417  0.080642  0.080042  0.080372   \n",
       "2              0.069337  0.075936  0.068019  0.067282  0.068163  0.065280   \n",
       "3              0.073059  0.063901  0.064110  0.064648  0.060760  0.059764   \n",
       "4              0.059345  0.058223  0.057227  0.054436  0.053623  0.056372   \n",
       "5              0.055103  0.049225  0.048717  0.046873  0.048894       NaN   \n",
       "\n",
       "cohort_period        28        29        30  \n",
       "first_event                                  \n",
       "1              0.077455  0.075208  0.077045  \n",
       "2              0.065169  0.067198       NaN  \n",
       "3              0.061740       NaN       NaN  \n",
       "4                   NaN       NaN       NaN  \n",
       "5                   NaN       NaN       NaN  \n",
       "\n",
       "[5 rows x 31 columns]"
      ]
     },
     "execution_count": 240,
     "metadata": {},
     "output_type": "execute_result"
    }
   ],
   "source": [
    "user_retention = cohorts.divide(cohorts[0], axis=0)\n",
    "user_retention.head()"
   ]
  },
  {
   "cell_type": "markdown",
   "id": "4442feaf",
   "metadata": {
    "id": "4442feaf"
   },
   "source": [
    "### 시각화"
   ]
  },
  {
   "cell_type": "code",
   "execution_count": 241,
   "id": "95d8b332",
   "metadata": {
    "ExecuteTime": {
     "end_time": "2022-09-21T06:12:40.604159Z",
     "start_time": "2022-09-21T06:12:38.940005Z"
    },
    "id": "95d8b332",
    "outputId": "89196d70-d319-40e9-cabf-bb7a3f92d1c7"
   },
   "outputs": [
    {
     "data": {
      "image/png": "[encoded data removed]",
      "text/plain": [
       "<Figure size 2500x1000 with 2 Axes>"
      ]
     },
     "metadata": {},
     "output_type": "display_data"
    }
   ],
   "source": [
    "plt.figure(figsize=(25, 10))\n",
    "plt.title('Cohort Analysis')\n",
    "sns.heatmap(user_retention, annot=True, fmt='.0%')\n",
    "plt.show()"
   ]
  },
  {
   "cell_type": "markdown",
   "id": "ffec57b7",
   "metadata": {
    "id": "ffec57b7"
   },
   "source": [
    "## 2. 사용자 재구매율 파악\n",
    "- 우리 사이트에서 구매했던 고객들은 계속 우리 사이트에서 구매를 하는가?\n",
    "    - 1일날 구매했던 고객들이 30일날에도 구매하는가?"
   ]
  },
  {
   "cell_type": "code",
   "execution_count": 508,
   "id": "8a3dcf91",
   "metadata": {
    "ExecuteTime": {
     "end_time": "2022-09-21T14:29:32.405997Z",
     "start_time": "2022-09-21T14:29:32.172998Z"
    },
    "id": "8a3dcf91"
   },
   "outputs": [],
   "source": [
    "purchase = copy_df.loc[copy_df['event_type'] == 'purchase']"
   ]
  },
  {
   "cell_type": "code",
   "execution_count": 511,
   "id": "4635e744",
   "metadata": {
    "ExecuteTime": {
     "end_time": "2022-09-21T14:31:43.090283Z",
     "start_time": "2022-09-21T14:31:43.060283Z"
    },
    "id": "4635e744"
   },
   "outputs": [],
   "source": [
    "df = purchase[['product_id','event_time','user_id','day']]"
   ]
  },
  {
   "cell_type": "markdown",
   "id": "7a959f44",
   "metadata": {},
   "source": [
    "필요한 컬럼만 추출합니다."
   ]
  },
  {
   "cell_type": "code",
   "execution_count": 515,
   "id": "f1922d7c",
   "metadata": {
    "ExecuteTime": {
     "end_time": "2022-09-21T14:32:24.973921Z",
     "start_time": "2022-09-21T14:32:24.950922Z"
    },
    "id": "f1922d7c"
   },
   "outputs": [
    {
     "data": {
      "text/html": [
       "<div>\n",
       "<style scoped>\n",
       "    .dataframe tbody tr th:only-of-type {\n",
       "        vertical-align: middle;\n",
       "    }\n",
       "\n",
       "    .dataframe tbody tr th {\n",
       "        vertical-align: top;\n",
       "    }\n",
       "\n",
       "    .dataframe thead th {\n",
       "        text-align: right;\n",
       "    }\n",
       "</style>\n",
       "<table border=\"1\" class=\"dataframe\">\n",
       "  <thead>\n",
       "    <tr style=\"text-align: right;\">\n",
       "      <th></th>\n",
       "      <th>product_id</th>\n",
       "      <th>event_time</th>\n",
       "      <th>day</th>\n",
       "    </tr>\n",
       "    <tr>\n",
       "      <th>user_id</th>\n",
       "      <th></th>\n",
       "      <th></th>\n",
       "      <th></th>\n",
       "    </tr>\n",
       "  </thead>\n",
       "  <tbody>\n",
       "    <tr>\n",
       "      <th>543272936</th>\n",
       "      <td>1004856</td>\n",
       "      <td>2019-10-01 04:02:14</td>\n",
       "      <td>1</td>\n",
       "    </tr>\n",
       "    <tr>\n",
       "      <th>551377651</th>\n",
       "      <td>1002532</td>\n",
       "      <td>2019-10-01 04:04:37</td>\n",
       "      <td>1</td>\n",
       "    </tr>\n",
       "    <tr>\n",
       "      <th>514591159</th>\n",
       "      <td>5100816</td>\n",
       "      <td>2019-10-01 04:06:02</td>\n",
       "      <td>1</td>\n",
       "    </tr>\n",
       "    <tr>\n",
       "      <th>555332717</th>\n",
       "      <td>13800054</td>\n",
       "      <td>2019-10-01 04:07:07</td>\n",
       "      <td>1</td>\n",
       "    </tr>\n",
       "    <tr>\n",
       "      <th>524601178</th>\n",
       "      <td>4804055</td>\n",
       "      <td>2019-10-01 04:09:26</td>\n",
       "      <td>1</td>\n",
       "    </tr>\n",
       "  </tbody>\n",
       "</table>\n",
       "</div>"
      ],
      "text/plain": [
       "           product_id          event_time  day\n",
       "user_id                                       \n",
       "543272936     1004856 2019-10-01 04:02:14    1\n",
       "551377651     1002532 2019-10-01 04:04:37    1\n",
       "514591159     5100816 2019-10-01 04:06:02    1\n",
       "555332717    13800054 2019-10-01 04:07:07    1\n",
       "524601178     4804055 2019-10-01 04:09:26    1"
      ]
     },
     "execution_count": 515,
     "metadata": {},
     "output_type": "execute_result"
    }
   ],
   "source": [
    "df = df.set_index('user_id')\n",
    "df.head()"
   ]
  },
  {
   "cell_type": "markdown",
   "id": "352670cf",
   "metadata": {},
   "source": [
    "'user_id'를 기준으로 인덱스를 재설정합니다."
   ]
  },
  {
   "cell_type": "code",
   "execution_count": 516,
   "id": "ad565877",
   "metadata": {
    "ExecuteTime": {
     "end_time": "2022-09-21T14:33:03.428303Z",
     "start_time": "2022-09-21T14:33:03.277307Z"
    },
    "id": "ad565877"
   },
   "outputs": [
    {
     "data": {
      "text/plain": [
       "user_id\n",
       "264649825   2019-10-06 19:29:00\n",
       "303160429   2019-10-13 17:25:29\n",
       "340041246   2019-10-03 15:59:28\n",
       "371877401   2019-10-09 19:51:08\n",
       "384989212   2019-10-18 15:19:59\n",
       "Name: event_time, dtype: datetime64[ns]"
      ]
     },
     "execution_count": 516,
     "metadata": {},
     "output_type": "execute_result"
    }
   ],
   "source": [
    "first_purchase = df.groupby(df.index)['event_time'].min()\n",
    "first_purchase.head()"
   ]
  },
  {
   "cell_type": "markdown",
   "id": "17ae22e3",
   "metadata": {
    "id": "47e7e3a9"
   },
   "source": [
    "user_id를 기준으로 가장 처음 주문했던 일자를 추출합니다."
   ]
  },
  {
   "cell_type": "code",
   "execution_count": 518,
   "id": "6b69b9dc",
   "metadata": {
    "ExecuteTime": {
     "end_time": "2022-09-21T14:34:22.833755Z",
     "start_time": "2022-09-21T14:34:22.807755Z"
    }
   },
   "outputs": [
    {
     "data": {
      "text/plain": [
       "user_id\n",
       "264649825     6\n",
       "303160429    13\n",
       "340041246     3\n",
       "371877401     9\n",
       "384989212    18\n",
       "Name: event_time, dtype: int64"
      ]
     },
     "execution_count": 518,
     "metadata": {},
     "output_type": "execute_result"
    }
   ],
   "source": [
    "first_purchase = first_purchase.dt.day\n",
    "first_purchase.head()"
   ]
  },
  {
   "cell_type": "markdown",
   "id": "7a78a9e7",
   "metadata": {},
   "source": [
    "추출한 일자 중 '일'만 가져옵니다."
   ]
  },
  {
   "cell_type": "code",
   "execution_count": 519,
   "id": "ce43d7e6",
   "metadata": {
    "ExecuteTime": {
     "end_time": "2022-09-21T14:34:56.755495Z",
     "start_time": "2022-09-21T14:34:56.662495Z"
    }
   },
   "outputs": [
    {
     "data": {
      "text/html": [
       "<div>\n",
       "<style scoped>\n",
       "    .dataframe tbody tr th:only-of-type {\n",
       "        vertical-align: middle;\n",
       "    }\n",
       "\n",
       "    .dataframe tbody tr th {\n",
       "        vertical-align: top;\n",
       "    }\n",
       "\n",
       "    .dataframe thead th {\n",
       "        text-align: right;\n",
       "    }\n",
       "</style>\n",
       "<table border=\"1\" class=\"dataframe\">\n",
       "  <thead>\n",
       "    <tr style=\"text-align: right;\">\n",
       "      <th></th>\n",
       "      <th>user_id</th>\n",
       "      <th>product_id</th>\n",
       "      <th>event_time</th>\n",
       "      <th>day</th>\n",
       "      <th>first_purchase</th>\n",
       "    </tr>\n",
       "  </thead>\n",
       "  <tbody>\n",
       "    <tr>\n",
       "      <th>0</th>\n",
       "      <td>543272936</td>\n",
       "      <td>1004856</td>\n",
       "      <td>2019-10-01 04:02:14</td>\n",
       "      <td>1</td>\n",
       "      <td>1</td>\n",
       "    </tr>\n",
       "    <tr>\n",
       "      <th>1</th>\n",
       "      <td>551377651</td>\n",
       "      <td>1002532</td>\n",
       "      <td>2019-10-01 04:04:37</td>\n",
       "      <td>1</td>\n",
       "      <td>1</td>\n",
       "    </tr>\n",
       "    <tr>\n",
       "      <th>2</th>\n",
       "      <td>514591159</td>\n",
       "      <td>5100816</td>\n",
       "      <td>2019-10-01 04:06:02</td>\n",
       "      <td>1</td>\n",
       "      <td>1</td>\n",
       "    </tr>\n",
       "    <tr>\n",
       "      <th>3</th>\n",
       "      <td>555332717</td>\n",
       "      <td>13800054</td>\n",
       "      <td>2019-10-01 04:07:07</td>\n",
       "      <td>1</td>\n",
       "      <td>1</td>\n",
       "    </tr>\n",
       "    <tr>\n",
       "      <th>4</th>\n",
       "      <td>524601178</td>\n",
       "      <td>4804055</td>\n",
       "      <td>2019-10-01 04:09:26</td>\n",
       "      <td>1</td>\n",
       "      <td>1</td>\n",
       "    </tr>\n",
       "  </tbody>\n",
       "</table>\n",
       "</div>"
      ],
      "text/plain": [
       "     user_id  product_id          event_time  day  first_purchase\n",
       "0  543272936     1004856 2019-10-01 04:02:14    1               1\n",
       "1  551377651     1002532 2019-10-01 04:04:37    1               1\n",
       "2  514591159     5100816 2019-10-01 04:06:02    1               1\n",
       "3  555332717    13800054 2019-10-01 04:07:07    1               1\n",
       "4  524601178     4804055 2019-10-01 04:09:26    1               1"
      ]
     },
     "execution_count": 519,
     "metadata": {},
     "output_type": "execute_result"
    }
   ],
   "source": [
    "df['first_purchase'] = first_purchase\n",
    "df = df.reset_index()\n",
    "df.head()"
   ]
  },
  {
   "cell_type": "code",
   "execution_count": 522,
   "id": "32bfb65c",
   "metadata": {
    "ExecuteTime": {
     "end_time": "2022-09-21T14:36:37.780279Z",
     "start_time": "2022-09-21T14:36:37.771282Z"
    }
   },
   "outputs": [],
   "source": [
    "grouped = df.groupby(['first_purchase','day'])"
   ]
  },
  {
   "cell_type": "markdown",
   "id": "69beb297",
   "metadata": {},
   "source": [
    "첫 구매 일과 '일'을 기준으로 그룹화 합니다."
   ]
  },
  {
   "cell_type": "code",
   "execution_count": 523,
   "id": "bdfb3b83",
   "metadata": {
    "ExecuteTime": {
     "end_time": "2022-09-21T14:37:06.556057Z",
     "start_time": "2022-09-21T14:37:06.383058Z"
    }
   },
   "outputs": [
    {
     "data": {
      "text/plain": [
       "first_purchase  day\n",
       "1               1      13704\n",
       "                2       1520\n",
       "                3       1217\n",
       "                4       1315\n",
       "                5       1036\n",
       "Name: user_id, dtype: int64"
      ]
     },
     "execution_count": 523,
     "metadata": {},
     "output_type": "execute_result"
    }
   ],
   "source": [
    "cohorts = grouped['user_id'].nunique()\n",
    "cohorts.head()"
   ]
  },
  {
   "cell_type": "code",
   "execution_count": 524,
   "id": "a2a2da22",
   "metadata": {
    "ExecuteTime": {
     "end_time": "2022-09-21T14:38:00.798341Z",
     "start_time": "2022-09-21T14:38:00.780340Z"
    }
   },
   "outputs": [
    {
     "data": {
      "text/html": [
       "<div>\n",
       "<style scoped>\n",
       "    .dataframe tbody tr th:only-of-type {\n",
       "        vertical-align: middle;\n",
       "    }\n",
       "\n",
       "    .dataframe tbody tr th {\n",
       "        vertical-align: top;\n",
       "    }\n",
       "\n",
       "    .dataframe thead th {\n",
       "        text-align: right;\n",
       "    }\n",
       "</style>\n",
       "<table border=\"1\" class=\"dataframe\">\n",
       "  <thead>\n",
       "    <tr style=\"text-align: right;\">\n",
       "      <th></th>\n",
       "      <th>first_purchase</th>\n",
       "      <th>day</th>\n",
       "      <th>total_users</th>\n",
       "    </tr>\n",
       "  </thead>\n",
       "  <tbody>\n",
       "    <tr>\n",
       "      <th>0</th>\n",
       "      <td>1</td>\n",
       "      <td>1</td>\n",
       "      <td>13704</td>\n",
       "    </tr>\n",
       "    <tr>\n",
       "      <th>1</th>\n",
       "      <td>1</td>\n",
       "      <td>2</td>\n",
       "      <td>1520</td>\n",
       "    </tr>\n",
       "    <tr>\n",
       "      <th>2</th>\n",
       "      <td>1</td>\n",
       "      <td>3</td>\n",
       "      <td>1217</td>\n",
       "    </tr>\n",
       "    <tr>\n",
       "      <th>3</th>\n",
       "      <td>1</td>\n",
       "      <td>4</td>\n",
       "      <td>1315</td>\n",
       "    </tr>\n",
       "    <tr>\n",
       "      <th>4</th>\n",
       "      <td>1</td>\n",
       "      <td>5</td>\n",
       "      <td>1036</td>\n",
       "    </tr>\n",
       "  </tbody>\n",
       "</table>\n",
       "</div>"
      ],
      "text/plain": [
       "   first_purchase  day  total_users\n",
       "0               1    1        13704\n",
       "1               1    2         1520\n",
       "2               1    3         1217\n",
       "3               1    4         1315\n",
       "4               1    5         1036"
      ]
     },
     "execution_count": 524,
     "metadata": {},
     "output_type": "execute_result"
    }
   ],
   "source": [
    "cohorts = cohorts.reset_index()\n",
    "cohorts = cohorts.rename({'user_id' : 'total_users'}, axis=1)\n",
    "cohorts.head()"
   ]
  },
  {
   "cell_type": "code",
   "execution_count": 526,
   "id": "312ed9d5",
   "metadata": {
    "ExecuteTime": {
     "end_time": "2022-09-21T14:38:50.995499Z",
     "start_time": "2022-09-21T14:38:50.977503Z"
    }
   },
   "outputs": [],
   "source": [
    "each_period = cohorts['first_purchase'].value_counts().sort_index()"
   ]
  },
  {
   "cell_type": "code",
   "execution_count": 527,
   "id": "8d13231b",
   "metadata": {
    "ExecuteTime": {
     "end_time": "2022-09-21T14:39:21.535091Z",
     "start_time": "2022-09-21T14:39:21.526090Z"
    }
   },
   "outputs": [],
   "source": [
    "cohort_period = []\n",
    "for x in each_period:\n",
    "    for y in range(x):\n",
    "        cohort_period.append(y)"
   ]
  },
  {
   "cell_type": "code",
   "execution_count": 528,
   "id": "68d92496",
   "metadata": {
    "ExecuteTime": {
     "end_time": "2022-09-21T14:39:38.230663Z",
     "start_time": "2022-09-21T14:39:38.221663Z"
    }
   },
   "outputs": [
    {
     "data": {
      "text/html": [
       "<div>\n",
       "<style scoped>\n",
       "    .dataframe tbody tr th:only-of-type {\n",
       "        vertical-align: middle;\n",
       "    }\n",
       "\n",
       "    .dataframe tbody tr th {\n",
       "        vertical-align: top;\n",
       "    }\n",
       "\n",
       "    .dataframe thead th {\n",
       "        text-align: right;\n",
       "    }\n",
       "</style>\n",
       "<table border=\"1\" class=\"dataframe\">\n",
       "  <thead>\n",
       "    <tr style=\"text-align: right;\">\n",
       "      <th></th>\n",
       "      <th>first_purchase</th>\n",
       "      <th>day</th>\n",
       "      <th>total_users</th>\n",
       "      <th>cohort_period</th>\n",
       "    </tr>\n",
       "  </thead>\n",
       "  <tbody>\n",
       "    <tr>\n",
       "      <th>0</th>\n",
       "      <td>1</td>\n",
       "      <td>1</td>\n",
       "      <td>13704</td>\n",
       "      <td>0</td>\n",
       "    </tr>\n",
       "    <tr>\n",
       "      <th>1</th>\n",
       "      <td>1</td>\n",
       "      <td>2</td>\n",
       "      <td>1520</td>\n",
       "      <td>1</td>\n",
       "    </tr>\n",
       "    <tr>\n",
       "      <th>2</th>\n",
       "      <td>1</td>\n",
       "      <td>3</td>\n",
       "      <td>1217</td>\n",
       "      <td>2</td>\n",
       "    </tr>\n",
       "    <tr>\n",
       "      <th>3</th>\n",
       "      <td>1</td>\n",
       "      <td>4</td>\n",
       "      <td>1315</td>\n",
       "      <td>3</td>\n",
       "    </tr>\n",
       "    <tr>\n",
       "      <th>4</th>\n",
       "      <td>1</td>\n",
       "      <td>5</td>\n",
       "      <td>1036</td>\n",
       "      <td>4</td>\n",
       "    </tr>\n",
       "    <tr>\n",
       "      <th>5</th>\n",
       "      <td>1</td>\n",
       "      <td>6</td>\n",
       "      <td>937</td>\n",
       "      <td>5</td>\n",
       "    </tr>\n",
       "    <tr>\n",
       "      <th>6</th>\n",
       "      <td>1</td>\n",
       "      <td>7</td>\n",
       "      <td>941</td>\n",
       "      <td>6</td>\n",
       "    </tr>\n",
       "    <tr>\n",
       "      <th>7</th>\n",
       "      <td>1</td>\n",
       "      <td>8</td>\n",
       "      <td>921</td>\n",
       "      <td>7</td>\n",
       "    </tr>\n",
       "    <tr>\n",
       "      <th>8</th>\n",
       "      <td>1</td>\n",
       "      <td>9</td>\n",
       "      <td>857</td>\n",
       "      <td>8</td>\n",
       "    </tr>\n",
       "    <tr>\n",
       "      <th>9</th>\n",
       "      <td>1</td>\n",
       "      <td>10</td>\n",
       "      <td>828</td>\n",
       "      <td>9</td>\n",
       "    </tr>\n",
       "    <tr>\n",
       "      <th>10</th>\n",
       "      <td>1</td>\n",
       "      <td>11</td>\n",
       "      <td>846</td>\n",
       "      <td>10</td>\n",
       "    </tr>\n",
       "    <tr>\n",
       "      <th>11</th>\n",
       "      <td>1</td>\n",
       "      <td>12</td>\n",
       "      <td>708</td>\n",
       "      <td>11</td>\n",
       "    </tr>\n",
       "    <tr>\n",
       "      <th>12</th>\n",
       "      <td>1</td>\n",
       "      <td>13</td>\n",
       "      <td>766</td>\n",
       "      <td>12</td>\n",
       "    </tr>\n",
       "    <tr>\n",
       "      <th>13</th>\n",
       "      <td>1</td>\n",
       "      <td>14</td>\n",
       "      <td>925</td>\n",
       "      <td>13</td>\n",
       "    </tr>\n",
       "    <tr>\n",
       "      <th>14</th>\n",
       "      <td>1</td>\n",
       "      <td>15</td>\n",
       "      <td>812</td>\n",
       "      <td>14</td>\n",
       "    </tr>\n",
       "    <tr>\n",
       "      <th>15</th>\n",
       "      <td>1</td>\n",
       "      <td>16</td>\n",
       "      <td>835</td>\n",
       "      <td>15</td>\n",
       "    </tr>\n",
       "    <tr>\n",
       "      <th>16</th>\n",
       "      <td>1</td>\n",
       "      <td>17</td>\n",
       "      <td>776</td>\n",
       "      <td>16</td>\n",
       "    </tr>\n",
       "    <tr>\n",
       "      <th>17</th>\n",
       "      <td>1</td>\n",
       "      <td>18</td>\n",
       "      <td>703</td>\n",
       "      <td>17</td>\n",
       "    </tr>\n",
       "    <tr>\n",
       "      <th>18</th>\n",
       "      <td>1</td>\n",
       "      <td>19</td>\n",
       "      <td>643</td>\n",
       "      <td>18</td>\n",
       "    </tr>\n",
       "    <tr>\n",
       "      <th>19</th>\n",
       "      <td>1</td>\n",
       "      <td>20</td>\n",
       "      <td>595</td>\n",
       "      <td>19</td>\n",
       "    </tr>\n",
       "  </tbody>\n",
       "</table>\n",
       "</div>"
      ],
      "text/plain": [
       "    first_purchase  day  total_users  cohort_period\n",
       "0                1    1        13704              0\n",
       "1                1    2         1520              1\n",
       "2                1    3         1217              2\n",
       "3                1    4         1315              3\n",
       "4                1    5         1036              4\n",
       "5                1    6          937              5\n",
       "6                1    7          941              6\n",
       "7                1    8          921              7\n",
       "8                1    9          857              8\n",
       "9                1   10          828              9\n",
       "10               1   11          846             10\n",
       "11               1   12          708             11\n",
       "12               1   13          766             12\n",
       "13               1   14          925             13\n",
       "14               1   15          812             14\n",
       "15               1   16          835             15\n",
       "16               1   17          776             16\n",
       "17               1   18          703             17\n",
       "18               1   19          643             18\n",
       "19               1   20          595             19"
      ]
     },
     "execution_count": 528,
     "metadata": {},
     "output_type": "execute_result"
    }
   ],
   "source": [
    "cohorts['cohort_period'] = cohort_period\n",
    "cohorts.head(20)"
   ]
  },
  {
   "cell_type": "code",
   "execution_count": 529,
   "id": "93a77ce4",
   "metadata": {
    "ExecuteTime": {
     "end_time": "2022-09-21T14:40:08.857644Z",
     "start_time": "2022-09-21T14:40:08.834646Z"
    }
   },
   "outputs": [
    {
     "data": {
      "text/html": [
       "<div>\n",
       "<style scoped>\n",
       "    .dataframe tbody tr th:only-of-type {\n",
       "        vertical-align: middle;\n",
       "    }\n",
       "\n",
       "    .dataframe tbody tr th {\n",
       "        vertical-align: top;\n",
       "    }\n",
       "\n",
       "    .dataframe thead th {\n",
       "        text-align: right;\n",
       "    }\n",
       "</style>\n",
       "<table border=\"1\" class=\"dataframe\">\n",
       "  <thead>\n",
       "    <tr style=\"text-align: right;\">\n",
       "      <th></th>\n",
       "      <th></th>\n",
       "      <th>day</th>\n",
       "      <th>total_users</th>\n",
       "    </tr>\n",
       "    <tr>\n",
       "      <th>first_purchase</th>\n",
       "      <th>cohort_period</th>\n",
       "      <th></th>\n",
       "      <th></th>\n",
       "    </tr>\n",
       "  </thead>\n",
       "  <tbody>\n",
       "    <tr>\n",
       "      <th rowspan=\"5\" valign=\"top\">1</th>\n",
       "      <th>0</th>\n",
       "      <td>1</td>\n",
       "      <td>13704</td>\n",
       "    </tr>\n",
       "    <tr>\n",
       "      <th>1</th>\n",
       "      <td>2</td>\n",
       "      <td>1520</td>\n",
       "    </tr>\n",
       "    <tr>\n",
       "      <th>2</th>\n",
       "      <td>3</td>\n",
       "      <td>1217</td>\n",
       "    </tr>\n",
       "    <tr>\n",
       "      <th>3</th>\n",
       "      <td>4</td>\n",
       "      <td>1315</td>\n",
       "    </tr>\n",
       "    <tr>\n",
       "      <th>4</th>\n",
       "      <td>5</td>\n",
       "      <td>1036</td>\n",
       "    </tr>\n",
       "  </tbody>\n",
       "</table>\n",
       "</div>"
      ],
      "text/plain": [
       "                              day  total_users\n",
       "first_purchase cohort_period                  \n",
       "1              0                1        13704\n",
       "               1                2         1520\n",
       "               2                3         1217\n",
       "               3                4         1315\n",
       "               4                5         1036"
      ]
     },
     "execution_count": 529,
     "metadata": {},
     "output_type": "execute_result"
    }
   ],
   "source": [
    "cohorts = cohorts.set_index(['first_purchase','cohort_period'])\n",
    "cohorts.head()"
   ]
  },
  {
   "cell_type": "code",
   "execution_count": 531,
   "id": "aa3d1e39",
   "metadata": {
    "ExecuteTime": {
     "end_time": "2022-09-21T14:40:58.082737Z",
     "start_time": "2022-09-21T14:40:58.073739Z"
    }
   },
   "outputs": [],
   "source": [
    "cohorts = cohorts['total_users'].unstack(1)\n",
    "cohorts"
   ]
  },
  {
   "cell_type": "code",
   "execution_count": 532,
   "id": "b836ff55",
   "metadata": {
    "ExecuteTime": {
     "end_time": "2022-09-21T14:41:07.283091Z",
     "start_time": "2022-09-21T14:41:07.277089Z"
    }
   },
   "outputs": [
    {
     "data": {
      "text/plain": [
       "first_purchase\n",
       "1     13704.0\n",
       "2     12403.0\n",
       "3     11280.0\n",
       "4     15682.0\n",
       "5     13044.0\n",
       "6     12281.0\n",
       "7     11134.0\n",
       "8     11841.0\n",
       "9     11371.0\n",
       "10    10718.0\n",
       "11    12819.0\n",
       "12    12631.0\n",
       "13    14703.0\n",
       "14    11956.0\n",
       "15    11148.0\n",
       "16    13851.0\n",
       "17    11560.0\n",
       "18    10824.0\n",
       "19    10650.0\n",
       "20    11078.0\n",
       "21    10607.0\n",
       "22    10586.0\n",
       "23    10173.0\n",
       "24     9757.0\n",
       "25     9628.0\n",
       "26     9409.0\n",
       "27     9703.0\n",
       "28     8314.0\n",
       "29     8008.0\n",
       "30     8174.0\n",
       "31     7877.0\n",
       "Name: 0, dtype: float64"
      ]
     },
     "execution_count": 532,
     "metadata": {},
     "output_type": "execute_result"
    }
   ],
   "source": [
    "cohorts[0]"
   ]
  },
  {
   "cell_type": "code",
   "execution_count": 534,
   "id": "e2960af0",
   "metadata": {
    "ExecuteTime": {
     "end_time": "2022-09-21T14:41:42.381321Z",
     "start_time": "2022-09-21T14:41:42.370323Z"
    }
   },
   "outputs": [],
   "source": [
    "user_retention = cohorts.divide(cohorts[0], axis=0)\n",
    "user_retention"
   ]
  },
  {
   "cell_type": "markdown",
   "id": "17d47b58",
   "metadata": {},
   "source": [
    "### 시각화"
   ]
  },
  {
   "cell_type": "code",
   "execution_count": 536,
   "id": "d63dac4b",
   "metadata": {
    "ExecuteTime": {
     "end_time": "2022-09-21T14:41:59.673513Z",
     "start_time": "2022-09-21T14:41:58.098354Z"
    }
   },
   "outputs": [
    {
     "data": {
      "image/png": "[encoded data removed]",
      "text/plain": [
       "<Figure size 2000x800 with 2 Axes>"
      ]
     },
     "metadata": {},
     "output_type": "display_data"
    }
   ],
   "source": [
    "plt.figure(figsize=(20,8))\n",
    "plt.title('Cohort Analysis')\n",
    "sns.heatmap(user_retention, annot=True, fmt='.0%')\n",
    "plt.show()"
   ]
  },
  {
   "cell_type": "code",
   "execution_count": null,
   "id": "ee3d912d",
   "metadata": {},
   "outputs": [],
   "source": []
  }
 ],
 "metadata": {
  "colab": {
   "collapsed_sections": [
    "2da3bbad",
    "mDAL0EoGTcIp"
   ],
   "provenance": [],
   "toc_visible": true
  },
  "kernelspec": {
   "display_name": "Python 3 (ipykernel)",
   "language": "python",
   "name": "python3"
  },
  "language_info": {
   "codemirror_mode": {
    "name": "ipython",
    "version": 3
   },
   "file_extension": ".py",
   "mimetype": "text/x-python",
   "name": "python",
   "nbconvert_exporter": "python",
   "pygments_lexer": "ipython3",
   "version": "3.7.13"
  },
  "toc": {
   "base_numbering": 1,
   "nav_menu": {},
   "number_sections": true,
   "sideBar": true,
   "skip_h1_title": false,
   "title_cell": "Table of Contents",
   "title_sidebar": "Contents",
   "toc_cell": false,
   "toc_position": {
    "height": "1117.33px",
    "left": "55px",
    "top": "126.323px",
    "width": "511.989px"
   },
   "toc_section_display": true,
   "toc_window_display": true
  },
  "varInspector": {
   "cols": {
    "lenName": 16,
    "lenType": 16,
    "lenVar": 40
   },
   "kernels_config": {
    "python": {
     "delete_cmd_postfix": "",
     "delete_cmd_prefix": "del ",
     "library": "var_list.py",
     "varRefreshCmd": "print(var_dic_list())"
    },
    "r": {
     "delete_cmd_postfix": ") ",
     "delete_cmd_prefix": "rm(",
     "library": "var_list.r",
     "varRefreshCmd": "cat(var_dic_list()) "
    }
   },
   "types_to_exclude": [
    "module",
    "function",
    "builtin_function_or_method",
    "instance",
    "_Feature"
   ],
   "window_display": false
  }
 },
 "nbformat": 4,
 "nbformat_minor": 5
}
