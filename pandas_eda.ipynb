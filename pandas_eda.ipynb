{
  "cells": [
    {
      "cell_type": "markdown",
      "id": "3bbf9a2b",
      "metadata": {
        "id": "3bbf9a2b"
      },
      "source": [
        "# 가정\n",
        "국가는 **아랍에미리트**, 이커머스 사이트를 **아마존**이라고 가정\n",
        "\n",
        "- 참고링크1 : https://blog.naver.com/fedex_kr/222697326719\n",
        "- 참고링크2 : https://blog.naver.com/dhzhdapxk/222279313175\n",
        "\n",
        "아랍에미리트의 전자상거래시장의 성장률을 19년도 이후부터 상승하고 있으며,  \n",
        "2017년도 7월 중동 최대 온라인 쇼핑몰인 수크 닷컴을 아마존에서 인수하였음."
      ]
    },
    {
      "cell_type": "markdown",
      "id": "f7225ce8",
      "metadata": {
        "id": "f7225ce8"
      },
      "source": [
        "# 라이브러리 로드"
      ]
    },
    {
      "cell_type": "code",
      "source": [
        "!pip install fastparquet"
      ],
      "metadata": {
        "id": "i1vlOkVBRHW3",
        "colab": {
          "base_uri": "https://localhost:8080/"
        },
        "outputId": "6073c383-9027-4f10-a837-eab909e230e6"
      },
      "id": "i1vlOkVBRHW3",
      "execution_count": 1,
      "outputs": [
        {
          "output_type": "stream",
          "name": "stdout",
          "text": [
            "Looking in indexes: https://pypi.org/simple, https://us-python.pkg.dev/colab-wheels/public/simple/\n",
            "Collecting fastparquet\n",
            "  Downloading fastparquet-0.8.1-cp37-cp37m-manylinux_2_17_x86_64.manylinux2014_x86_64.whl (1.5 MB)\n",
            "\u001b[K     |████████████████████████████████| 1.5 MB 25.2 MB/s \n",
            "\u001b[?25hRequirement already satisfied: pandas>=1.1.0 in /usr/local/lib/python3.7/dist-packages (from fastparquet) (1.3.5)\n",
            "Collecting cramjam>=2.3.0\n",
            "  Downloading cramjam-2.5.0-cp37-cp37m-manylinux_2_5_x86_64.manylinux1_x86_64.whl (1.6 MB)\n",
            "\u001b[K     |████████████████████████████████| 1.6 MB 52.3 MB/s \n",
            "\u001b[?25hRequirement already satisfied: fsspec in /usr/local/lib/python3.7/dist-packages (from fastparquet) (2022.8.2)\n",
            "Requirement already satisfied: numpy>=1.18 in /usr/local/lib/python3.7/dist-packages (from fastparquet) (1.21.6)\n",
            "Requirement already satisfied: pytz>=2017.3 in /usr/local/lib/python3.7/dist-packages (from pandas>=1.1.0->fastparquet) (2022.2.1)\n",
            "Requirement already satisfied: python-dateutil>=2.7.3 in /usr/local/lib/python3.7/dist-packages (from pandas>=1.1.0->fastparquet) (2.8.2)\n",
            "Requirement already satisfied: six>=1.5 in /usr/local/lib/python3.7/dist-packages (from python-dateutil>=2.7.3->pandas>=1.1.0->fastparquet) (1.15.0)\n",
            "Installing collected packages: cramjam, fastparquet\n",
            "Successfully installed cramjam-2.5.0 fastparquet-0.8.1\n"
          ]
        }
      ]
    },
    {
      "cell_type": "code",
      "execution_count": 2,
      "id": "74aaf1e5",
      "metadata": {
        "ExecuteTime": {
          "end_time": "2022-09-19T11:26:15.784379Z",
          "start_time": "2022-09-19T11:26:14.148481Z"
        },
        "id": "74aaf1e5"
      },
      "outputs": [],
      "source": [
        "import pandas as pd\n",
        "import numpy as np\n",
        "from tqdm import tqdm\n",
        "import matplotlib.pyplot as plt\n",
        "import seaborn as sns\n",
        "\n",
        "plt.style.use('ggplot')"
      ]
    },
    {
      "cell_type": "code",
      "source": [
        "from google.colab import drive\n",
        "drive.mount('/content/drive')"
      ],
      "metadata": {
        "colab": {
          "base_uri": "https://localhost:8080/"
        },
        "id": "lC3UcMm9Q2FQ",
        "outputId": "b89b7eb6-256f-4c83-a28e-c35408046855"
      },
      "id": "lC3UcMm9Q2FQ",
      "execution_count": 3,
      "outputs": [
        {
          "output_type": "stream",
          "name": "stdout",
          "text": [
            "Mounted at /content/drive\n"
          ]
        }
      ]
    },
    {
      "cell_type": "markdown",
      "id": "a81c8af0",
      "metadata": {
        "id": "a81c8af0"
      },
      "source": [
        "# 데이터 로드"
      ]
    },
    {
      "cell_type": "code",
      "execution_count": 4,
      "id": "c393ac89",
      "metadata": {
        "ExecuteTime": {
          "end_time": "2022-09-19T11:26:25.394465Z",
          "start_time": "2022-09-19T11:26:19.240559Z"
        },
        "colab": {
          "base_uri": "https://localhost:8080/",
          "height": 206
        },
        "id": "c393ac89",
        "outputId": "d24390bf-c83e-4a76-d62f-d6b004f59cc3"
      },
      "outputs": [
        {
          "output_type": "execute_result",
          "data": {
            "text/plain": [
              "                event_time event_type  product_id  category_id  \\\n",
              "0  2019-10-01 00:00:00 UTC       view    44600062   -251657396   \n",
              "1  2019-10-01 00:00:00 UTC       view     3900821   -780140327   \n",
              "2  2019-10-01 00:00:01 UTC       view    17200506  -1904213353   \n",
              "3  2019-10-01 00:00:01 UTC       view     1307067   1518338663   \n",
              "4  2019-10-01 00:00:04 UTC       view     1004237  -1769995873   \n",
              "\n",
              "                         category_code     brand        price    user_id  \\\n",
              "0                                  NaN  shiseido    35.790001  541312140   \n",
              "1  appliances.environment.water_heater      aqua    33.200001  554748717   \n",
              "2           furniture.living_room.sofa       NaN   543.099976  519107250   \n",
              "3                   computers.notebook    lenovo   251.740005  550050854   \n",
              "4               electronics.smartphone     apple  1081.979980  535871217   \n",
              "\n",
              "                           user_session  \n",
              "0  72d76fde-8bb3-4e00-8c23-a032dfed738c  \n",
              "1  9333dfbd-b87a-4708-9857-6336556b0fcc  \n",
              "2  566511c2-e2e3-422b-b695-cf8e6e792ca8  \n",
              "3  7c90fc70-0e80-4590-96f3-13c02c18c713  \n",
              "4  c6bd7419-2748-4c56-95b4-8cec9ff8b80d  "
            ],
            "text/html": [
              "\n",
              "  <div id=\"df-072b4759-b0b9-46e2-84d9-2356dbf00af0\">\n",
              "    <div class=\"colab-df-container\">\n",
              "      <div>\n",
              "<style scoped>\n",
              "    .dataframe tbody tr th:only-of-type {\n",
              "        vertical-align: middle;\n",
              "    }\n",
              "\n",
              "    .dataframe tbody tr th {\n",
              "        vertical-align: top;\n",
              "    }\n",
              "\n",
              "    .dataframe thead th {\n",
              "        text-align: right;\n",
              "    }\n",
              "</style>\n",
              "<table border=\"1\" class=\"dataframe\">\n",
              "  <thead>\n",
              "    <tr style=\"text-align: right;\">\n",
              "      <th></th>\n",
              "      <th>event_time</th>\n",
              "      <th>event_type</th>\n",
              "      <th>product_id</th>\n",
              "      <th>category_id</th>\n",
              "      <th>category_code</th>\n",
              "      <th>brand</th>\n",
              "      <th>price</th>\n",
              "      <th>user_id</th>\n",
              "      <th>user_session</th>\n",
              "    </tr>\n",
              "  </thead>\n",
              "  <tbody>\n",
              "    <tr>\n",
              "      <th>0</th>\n",
              "      <td>2019-10-01 00:00:00 UTC</td>\n",
              "      <td>view</td>\n",
              "      <td>44600062</td>\n",
              "      <td>-251657396</td>\n",
              "      <td>NaN</td>\n",
              "      <td>shiseido</td>\n",
              "      <td>35.790001</td>\n",
              "      <td>541312140</td>\n",
              "      <td>72d76fde-8bb3-4e00-8c23-a032dfed738c</td>\n",
              "    </tr>\n",
              "    <tr>\n",
              "      <th>1</th>\n",
              "      <td>2019-10-01 00:00:00 UTC</td>\n",
              "      <td>view</td>\n",
              "      <td>3900821</td>\n",
              "      <td>-780140327</td>\n",
              "      <td>appliances.environment.water_heater</td>\n",
              "      <td>aqua</td>\n",
              "      <td>33.200001</td>\n",
              "      <td>554748717</td>\n",
              "      <td>9333dfbd-b87a-4708-9857-6336556b0fcc</td>\n",
              "    </tr>\n",
              "    <tr>\n",
              "      <th>2</th>\n",
              "      <td>2019-10-01 00:00:01 UTC</td>\n",
              "      <td>view</td>\n",
              "      <td>17200506</td>\n",
              "      <td>-1904213353</td>\n",
              "      <td>furniture.living_room.sofa</td>\n",
              "      <td>NaN</td>\n",
              "      <td>543.099976</td>\n",
              "      <td>519107250</td>\n",
              "      <td>566511c2-e2e3-422b-b695-cf8e6e792ca8</td>\n",
              "    </tr>\n",
              "    <tr>\n",
              "      <th>3</th>\n",
              "      <td>2019-10-01 00:00:01 UTC</td>\n",
              "      <td>view</td>\n",
              "      <td>1307067</td>\n",
              "      <td>1518338663</td>\n",
              "      <td>computers.notebook</td>\n",
              "      <td>lenovo</td>\n",
              "      <td>251.740005</td>\n",
              "      <td>550050854</td>\n",
              "      <td>7c90fc70-0e80-4590-96f3-13c02c18c713</td>\n",
              "    </tr>\n",
              "    <tr>\n",
              "      <th>4</th>\n",
              "      <td>2019-10-01 00:00:04 UTC</td>\n",
              "      <td>view</td>\n",
              "      <td>1004237</td>\n",
              "      <td>-1769995873</td>\n",
              "      <td>electronics.smartphone</td>\n",
              "      <td>apple</td>\n",
              "      <td>1081.979980</td>\n",
              "      <td>535871217</td>\n",
              "      <td>c6bd7419-2748-4c56-95b4-8cec9ff8b80d</td>\n",
              "    </tr>\n",
              "  </tbody>\n",
              "</table>\n",
              "</div>\n",
              "      <button class=\"colab-df-convert\" onclick=\"convertToInteractive('df-072b4759-b0b9-46e2-84d9-2356dbf00af0')\"\n",
              "              title=\"Convert this dataframe to an interactive table.\"\n",
              "              style=\"display:none;\">\n",
              "        \n",
              "  <svg xmlns=\"http://www.w3.org/2000/svg\" height=\"24px\"viewBox=\"0 0 24 24\"\n",
              "       width=\"24px\">\n",
              "    <path d=\"M0 0h24v24H0V0z\" fill=\"none\"/>\n",
              "    <path d=\"M18.56 5.44l.94 2.06.94-2.06 2.06-.94-2.06-.94-.94-2.06-.94 2.06-2.06.94zm-11 1L8.5 8.5l.94-2.06 2.06-.94-2.06-.94L8.5 2.5l-.94 2.06-2.06.94zm10 10l.94 2.06.94-2.06 2.06-.94-2.06-.94-.94-2.06-.94 2.06-2.06.94z\"/><path d=\"M17.41 7.96l-1.37-1.37c-.4-.4-.92-.59-1.43-.59-.52 0-1.04.2-1.43.59L10.3 9.45l-7.72 7.72c-.78.78-.78 2.05 0 2.83L4 21.41c.39.39.9.59 1.41.59.51 0 1.02-.2 1.41-.59l7.78-7.78 2.81-2.81c.8-.78.8-2.07 0-2.86zM5.41 20L4 18.59l7.72-7.72 1.47 1.35L5.41 20z\"/>\n",
              "  </svg>\n",
              "      </button>\n",
              "      \n",
              "  <style>\n",
              "    .colab-df-container {\n",
              "      display:flex;\n",
              "      flex-wrap:wrap;\n",
              "      gap: 12px;\n",
              "    }\n",
              "\n",
              "    .colab-df-convert {\n",
              "      background-color: #E8F0FE;\n",
              "      border: none;\n",
              "      border-radius: 50%;\n",
              "      cursor: pointer;\n",
              "      display: none;\n",
              "      fill: #1967D2;\n",
              "      height: 32px;\n",
              "      padding: 0 0 0 0;\n",
              "      width: 32px;\n",
              "    }\n",
              "\n",
              "    .colab-df-convert:hover {\n",
              "      background-color: #E2EBFA;\n",
              "      box-shadow: 0px 1px 2px rgba(60, 64, 67, 0.3), 0px 1px 3px 1px rgba(60, 64, 67, 0.15);\n",
              "      fill: #174EA6;\n",
              "    }\n",
              "\n",
              "    [theme=dark] .colab-df-convert {\n",
              "      background-color: #3B4455;\n",
              "      fill: #D2E3FC;\n",
              "    }\n",
              "\n",
              "    [theme=dark] .colab-df-convert:hover {\n",
              "      background-color: #434B5C;\n",
              "      box-shadow: 0px 1px 3px 1px rgba(0, 0, 0, 0.15);\n",
              "      filter: drop-shadow(0px 1px 2px rgba(0, 0, 0, 0.3));\n",
              "      fill: #FFFFFF;\n",
              "    }\n",
              "  </style>\n",
              "\n",
              "      <script>\n",
              "        const buttonEl =\n",
              "          document.querySelector('#df-072b4759-b0b9-46e2-84d9-2356dbf00af0 button.colab-df-convert');\n",
              "        buttonEl.style.display =\n",
              "          google.colab.kernel.accessAllowed ? 'block' : 'none';\n",
              "\n",
              "        async function convertToInteractive(key) {\n",
              "          const element = document.querySelector('#df-072b4759-b0b9-46e2-84d9-2356dbf00af0');\n",
              "          const dataTable =\n",
              "            await google.colab.kernel.invokeFunction('convertToInteractive',\n",
              "                                                     [key], {});\n",
              "          if (!dataTable) return;\n",
              "\n",
              "          const docLinkHtml = 'Like what you see? Visit the ' +\n",
              "            '<a target=\"_blank\" href=https://colab.research.google.com/notebooks/data_table.ipynb>data table notebook</a>'\n",
              "            + ' to learn more about interactive tables.';\n",
              "          element.innerHTML = '';\n",
              "          dataTable['output_type'] = 'display_data';\n",
              "          await google.colab.output.renderOutput(dataTable, element);\n",
              "          const docLink = document.createElement('div');\n",
              "          docLink.innerHTML = docLinkHtml;\n",
              "          element.appendChild(docLink);\n",
              "        }\n",
              "      </script>\n",
              "    </div>\n",
              "  </div>\n",
              "  "
            ]
          },
          "metadata": {},
          "execution_count": 4
        }
      ],
      "source": [
        "try:\n",
        "  path = 'C:/Users/User/Desktop/AIB_13/CP2/data/'\n",
        "  df = pd.read_parquet(path + 'light_2019-Oct.parquet', engine='fastparquet')\n",
        "except:\n",
        "  path = '/content/drive/MyDrive/CP2/data/'\n",
        "  df = pd.read_parquet(path + 'light_2019-Oct.parquet', engine='fastparquet')\n",
        "\n",
        "df.head()"
      ]
    },
    {
      "cell_type": "markdown",
      "id": "224b90d5",
      "metadata": {
        "id": "224b90d5"
      },
      "source": [
        "## 혹시 모를경우를 대비하여 df 복사"
      ]
    },
    {
      "cell_type": "code",
      "execution_count": 5,
      "id": "0d44defe",
      "metadata": {
        "ExecuteTime": {
          "end_time": "2022-09-19T11:26:37.065202Z",
          "start_time": "2022-09-19T11:26:36.842204Z"
        },
        "scrolled": true,
        "colab": {
          "base_uri": "https://localhost:8080/",
          "height": 206
        },
        "id": "0d44defe",
        "outputId": "a6f9db30-2b2b-49b2-a47a-657219e156b4"
      },
      "outputs": [
        {
          "output_type": "execute_result",
          "data": {
            "text/plain": [
              "                event_time event_type  product_id  category_id  \\\n",
              "0  2019-10-01 00:00:00 UTC       view    44600062   -251657396   \n",
              "1  2019-10-01 00:00:00 UTC       view     3900821   -780140327   \n",
              "2  2019-10-01 00:00:01 UTC       view    17200506  -1904213353   \n",
              "3  2019-10-01 00:00:01 UTC       view     1307067   1518338663   \n",
              "4  2019-10-01 00:00:04 UTC       view     1004237  -1769995873   \n",
              "\n",
              "                         category_code     brand        price    user_id  \\\n",
              "0                                  NaN  shiseido    35.790001  541312140   \n",
              "1  appliances.environment.water_heater      aqua    33.200001  554748717   \n",
              "2           furniture.living_room.sofa       NaN   543.099976  519107250   \n",
              "3                   computers.notebook    lenovo   251.740005  550050854   \n",
              "4               electronics.smartphone     apple  1081.979980  535871217   \n",
              "\n",
              "                           user_session  \n",
              "0  72d76fde-8bb3-4e00-8c23-a032dfed738c  \n",
              "1  9333dfbd-b87a-4708-9857-6336556b0fcc  \n",
              "2  566511c2-e2e3-422b-b695-cf8e6e792ca8  \n",
              "3  7c90fc70-0e80-4590-96f3-13c02c18c713  \n",
              "4  c6bd7419-2748-4c56-95b4-8cec9ff8b80d  "
            ],
            "text/html": [
              "\n",
              "  <div id=\"df-200b1628-6fbb-40af-96db-7b479ab6f83c\">\n",
              "    <div class=\"colab-df-container\">\n",
              "      <div>\n",
              "<style scoped>\n",
              "    .dataframe tbody tr th:only-of-type {\n",
              "        vertical-align: middle;\n",
              "    }\n",
              "\n",
              "    .dataframe tbody tr th {\n",
              "        vertical-align: top;\n",
              "    }\n",
              "\n",
              "    .dataframe thead th {\n",
              "        text-align: right;\n",
              "    }\n",
              "</style>\n",
              "<table border=\"1\" class=\"dataframe\">\n",
              "  <thead>\n",
              "    <tr style=\"text-align: right;\">\n",
              "      <th></th>\n",
              "      <th>event_time</th>\n",
              "      <th>event_type</th>\n",
              "      <th>product_id</th>\n",
              "      <th>category_id</th>\n",
              "      <th>category_code</th>\n",
              "      <th>brand</th>\n",
              "      <th>price</th>\n",
              "      <th>user_id</th>\n",
              "      <th>user_session</th>\n",
              "    </tr>\n",
              "  </thead>\n",
              "  <tbody>\n",
              "    <tr>\n",
              "      <th>0</th>\n",
              "      <td>2019-10-01 00:00:00 UTC</td>\n",
              "      <td>view</td>\n",
              "      <td>44600062</td>\n",
              "      <td>-251657396</td>\n",
              "      <td>NaN</td>\n",
              "      <td>shiseido</td>\n",
              "      <td>35.790001</td>\n",
              "      <td>541312140</td>\n",
              "      <td>72d76fde-8bb3-4e00-8c23-a032dfed738c</td>\n",
              "    </tr>\n",
              "    <tr>\n",
              "      <th>1</th>\n",
              "      <td>2019-10-01 00:00:00 UTC</td>\n",
              "      <td>view</td>\n",
              "      <td>3900821</td>\n",
              "      <td>-780140327</td>\n",
              "      <td>appliances.environment.water_heater</td>\n",
              "      <td>aqua</td>\n",
              "      <td>33.200001</td>\n",
              "      <td>554748717</td>\n",
              "      <td>9333dfbd-b87a-4708-9857-6336556b0fcc</td>\n",
              "    </tr>\n",
              "    <tr>\n",
              "      <th>2</th>\n",
              "      <td>2019-10-01 00:00:01 UTC</td>\n",
              "      <td>view</td>\n",
              "      <td>17200506</td>\n",
              "      <td>-1904213353</td>\n",
              "      <td>furniture.living_room.sofa</td>\n",
              "      <td>NaN</td>\n",
              "      <td>543.099976</td>\n",
              "      <td>519107250</td>\n",
              "      <td>566511c2-e2e3-422b-b695-cf8e6e792ca8</td>\n",
              "    </tr>\n",
              "    <tr>\n",
              "      <th>3</th>\n",
              "      <td>2019-10-01 00:00:01 UTC</td>\n",
              "      <td>view</td>\n",
              "      <td>1307067</td>\n",
              "      <td>1518338663</td>\n",
              "      <td>computers.notebook</td>\n",
              "      <td>lenovo</td>\n",
              "      <td>251.740005</td>\n",
              "      <td>550050854</td>\n",
              "      <td>7c90fc70-0e80-4590-96f3-13c02c18c713</td>\n",
              "    </tr>\n",
              "    <tr>\n",
              "      <th>4</th>\n",
              "      <td>2019-10-01 00:00:04 UTC</td>\n",
              "      <td>view</td>\n",
              "      <td>1004237</td>\n",
              "      <td>-1769995873</td>\n",
              "      <td>electronics.smartphone</td>\n",
              "      <td>apple</td>\n",
              "      <td>1081.979980</td>\n",
              "      <td>535871217</td>\n",
              "      <td>c6bd7419-2748-4c56-95b4-8cec9ff8b80d</td>\n",
              "    </tr>\n",
              "  </tbody>\n",
              "</table>\n",
              "</div>\n",
              "      <button class=\"colab-df-convert\" onclick=\"convertToInteractive('df-200b1628-6fbb-40af-96db-7b479ab6f83c')\"\n",
              "              title=\"Convert this dataframe to an interactive table.\"\n",
              "              style=\"display:none;\">\n",
              "        \n",
              "  <svg xmlns=\"http://www.w3.org/2000/svg\" height=\"24px\"viewBox=\"0 0 24 24\"\n",
              "       width=\"24px\">\n",
              "    <path d=\"M0 0h24v24H0V0z\" fill=\"none\"/>\n",
              "    <path d=\"M18.56 5.44l.94 2.06.94-2.06 2.06-.94-2.06-.94-.94-2.06-.94 2.06-2.06.94zm-11 1L8.5 8.5l.94-2.06 2.06-.94-2.06-.94L8.5 2.5l-.94 2.06-2.06.94zm10 10l.94 2.06.94-2.06 2.06-.94-2.06-.94-.94-2.06-.94 2.06-2.06.94z\"/><path d=\"M17.41 7.96l-1.37-1.37c-.4-.4-.92-.59-1.43-.59-.52 0-1.04.2-1.43.59L10.3 9.45l-7.72 7.72c-.78.78-.78 2.05 0 2.83L4 21.41c.39.39.9.59 1.41.59.51 0 1.02-.2 1.41-.59l7.78-7.78 2.81-2.81c.8-.78.8-2.07 0-2.86zM5.41 20L4 18.59l7.72-7.72 1.47 1.35L5.41 20z\"/>\n",
              "  </svg>\n",
              "      </button>\n",
              "      \n",
              "  <style>\n",
              "    .colab-df-container {\n",
              "      display:flex;\n",
              "      flex-wrap:wrap;\n",
              "      gap: 12px;\n",
              "    }\n",
              "\n",
              "    .colab-df-convert {\n",
              "      background-color: #E8F0FE;\n",
              "      border: none;\n",
              "      border-radius: 50%;\n",
              "      cursor: pointer;\n",
              "      display: none;\n",
              "      fill: #1967D2;\n",
              "      height: 32px;\n",
              "      padding: 0 0 0 0;\n",
              "      width: 32px;\n",
              "    }\n",
              "\n",
              "    .colab-df-convert:hover {\n",
              "      background-color: #E2EBFA;\n",
              "      box-shadow: 0px 1px 2px rgba(60, 64, 67, 0.3), 0px 1px 3px 1px rgba(60, 64, 67, 0.15);\n",
              "      fill: #174EA6;\n",
              "    }\n",
              "\n",
              "    [theme=dark] .colab-df-convert {\n",
              "      background-color: #3B4455;\n",
              "      fill: #D2E3FC;\n",
              "    }\n",
              "\n",
              "    [theme=dark] .colab-df-convert:hover {\n",
              "      background-color: #434B5C;\n",
              "      box-shadow: 0px 1px 3px 1px rgba(0, 0, 0, 0.15);\n",
              "      filter: drop-shadow(0px 1px 2px rgba(0, 0, 0, 0.3));\n",
              "      fill: #FFFFFF;\n",
              "    }\n",
              "  </style>\n",
              "\n",
              "      <script>\n",
              "        const buttonEl =\n",
              "          document.querySelector('#df-200b1628-6fbb-40af-96db-7b479ab6f83c button.colab-df-convert');\n",
              "        buttonEl.style.display =\n",
              "          google.colab.kernel.accessAllowed ? 'block' : 'none';\n",
              "\n",
              "        async function convertToInteractive(key) {\n",
              "          const element = document.querySelector('#df-200b1628-6fbb-40af-96db-7b479ab6f83c');\n",
              "          const dataTable =\n",
              "            await google.colab.kernel.invokeFunction('convertToInteractive',\n",
              "                                                     [key], {});\n",
              "          if (!dataTable) return;\n",
              "\n",
              "          const docLinkHtml = 'Like what you see? Visit the ' +\n",
              "            '<a target=\"_blank\" href=https://colab.research.google.com/notebooks/data_table.ipynb>data table notebook</a>'\n",
              "            + ' to learn more about interactive tables.';\n",
              "          element.innerHTML = '';\n",
              "          dataTable['output_type'] = 'display_data';\n",
              "          await google.colab.output.renderOutput(dataTable, element);\n",
              "          const docLink = document.createElement('div');\n",
              "          docLink.innerHTML = docLinkHtml;\n",
              "          element.appendChild(docLink);\n",
              "        }\n",
              "      </script>\n",
              "    </div>\n",
              "  </div>\n",
              "  "
            ]
          },
          "metadata": {},
          "execution_count": 5
        }
      ],
      "source": [
        "copy_df = df.copy()\n",
        "copy_df.head()"
      ]
    },
    {
      "cell_type": "markdown",
      "id": "68477f2e",
      "metadata": {
        "id": "68477f2e"
      },
      "source": [
        "# 데이터 확인"
      ]
    },
    {
      "cell_type": "code",
      "execution_count": 6,
      "id": "16684524",
      "metadata": {
        "ExecuteTime": {
          "end_time": "2022-09-19T11:26:37.695204Z",
          "start_time": "2022-09-19T11:26:37.097205Z"
        },
        "colab": {
          "base_uri": "https://localhost:8080/"
        },
        "id": "16684524",
        "outputId": "b8ddd316-c314-4bed-b643-3e27404cb12c"
      },
      "outputs": [
        {
          "output_type": "execute_result",
          "data": {
            "text/plain": [
              "event_time              0\n",
              "event_type              0\n",
              "product_id              0\n",
              "category_id             0\n",
              "category_code    13515609\n",
              "brand             6117080\n",
              "price                   0\n",
              "user_id                 0\n",
              "user_session            2\n",
              "dtype: int64"
            ]
          },
          "metadata": {},
          "execution_count": 6
        }
      ],
      "source": [
        "copy_df.isnull().sum()"
      ]
    },
    {
      "cell_type": "markdown",
      "id": "3530978d",
      "metadata": {
        "id": "3530978d"
      },
      "source": [
        "category_code와 brand 컬럼의 결측치가 존재하는 것으로 확인됩니다."
      ]
    },
    {
      "cell_type": "code",
      "execution_count": 7,
      "id": "72771aed",
      "metadata": {
        "ExecuteTime": {
          "end_time": "2022-09-19T11:26:38.280204Z",
          "start_time": "2022-09-19T11:26:37.727205Z"
        },
        "colab": {
          "base_uri": "https://localhost:8080/"
        },
        "id": "72771aed",
        "outputId": "7320d3a1-82b6-43ba-df2e-c01c88a2f5f4"
      },
      "outputs": [
        {
          "output_type": "execute_result",
          "data": {
            "text/plain": [
              "event_time        0.000000\n",
              "event_type        0.000000\n",
              "product_id        0.000000\n",
              "category_id       0.000000\n",
              "category_code    31.839818\n",
              "brand            14.410502\n",
              "price             0.000000\n",
              "user_id           0.000000\n",
              "user_session      0.000005\n",
              "dtype: float64"
            ]
          },
          "metadata": {},
          "execution_count": 7
        }
      ],
      "source": [
        "copy_df.isnull().sum() / len(copy_df) * 100"
      ]
    },
    {
      "cell_type": "markdown",
      "id": "ef03a117",
      "metadata": {
        "id": "ef03a117"
      },
      "source": [
        "결측치는\n",
        "- **category_code : 31%**\n",
        "- **brand : 14%**\n",
        "\n",
        "입니다."
      ]
    },
    {
      "cell_type": "markdown",
      "id": "bd9ceda8",
      "metadata": {
        "id": "bd9ceda8"
      },
      "source": [
        "## event_time"
      ]
    },
    {
      "cell_type": "markdown",
      "id": "94846bd5",
      "metadata": {
        "id": "94846bd5"
      },
      "source": [
        "event_time 컬럼은 현재 `str`로 되어 있습니다.  \n",
        "1. 2019-10-01 부터 2019-10-31 까지 수집했으며, 맨 뒤에 UTC가 붙어 삭제처리를 해야합니다.\n",
        "2. 날짜를 쉽게 추출할 수 있도록 datetime으로 변경합니다."
      ]
    },
    {
      "cell_type": "code",
      "execution_count": 8,
      "id": "ff9f05c1",
      "metadata": {
        "ExecuteTime": {
          "end_time": "2022-09-19T11:26:40.920203Z",
          "start_time": "2022-09-19T11:26:38.312204Z"
        },
        "id": "ff9f05c1"
      },
      "outputs": [],
      "source": [
        "copy_df['event_time'] = copy_df['event_time'].apply(lambda x : x[:-4])"
      ]
    },
    {
      "cell_type": "code",
      "execution_count": 9,
      "id": "343a74f8",
      "metadata": {
        "ExecuteTime": {
          "end_time": "2022-09-19T11:26:45.201042Z",
          "start_time": "2022-09-19T11:26:40.952205Z"
        },
        "id": "343a74f8"
      },
      "outputs": [],
      "source": [
        "copy_df['event_time'] = pd.to_datetime(copy_df['event_time'])"
      ]
    },
    {
      "cell_type": "markdown",
      "id": "fd7bb7c3",
      "metadata": {
        "id": "fd7bb7c3"
      },
      "source": [
        "## event_type\n",
        "event_time은 사용자가 어떤 행동을 하였는지 확인할 수 있습니다.\n",
        "- view\n",
        "- purchase\n",
        "- cart"
      ]
    },
    {
      "cell_type": "code",
      "execution_count": 10,
      "id": "ac1ca238",
      "metadata": {
        "ExecuteTime": {
          "end_time": "2022-09-19T11:26:45.531613Z",
          "start_time": "2022-09-19T11:26:45.293044Z"
        },
        "colab": {
          "base_uri": "https://localhost:8080/"
        },
        "id": "ac1ca238",
        "outputId": "950ae9c2-df41-492d-8cfc-21514a9c8cdb"
      },
      "outputs": [
        {
          "output_type": "execute_result",
          "data": {
            "text/plain": [
              "['view', 'purchase', 'cart']\n",
              "Categories (3, object): ['cart', 'purchase', 'view']"
            ]
          },
          "metadata": {},
          "execution_count": 10
        }
      ],
      "source": [
        "copy_df['event_type'].unique()"
      ]
    },
    {
      "cell_type": "markdown",
      "id": "1cb9af47",
      "metadata": {
        "id": "1cb9af47"
      },
      "source": [
        "## product_id\n",
        "제품의 ID를 나타내고 있습니다."
      ]
    },
    {
      "cell_type": "code",
      "execution_count": 11,
      "id": "e64cdd87",
      "metadata": {
        "ExecuteTime": {
          "end_time": "2022-09-19T11:26:45.848231Z",
          "start_time": "2022-09-19T11:26:45.563471Z"
        },
        "colab": {
          "base_uri": "https://localhost:8080/"
        },
        "id": "e64cdd87",
        "outputId": "e2e20095-778c-4c6b-81d2-54485377c9f3"
      },
      "outputs": [
        {
          "output_type": "execute_result",
          "data": {
            "text/plain": [
              "166794"
            ]
          },
          "metadata": {},
          "execution_count": 11
        }
      ],
      "source": [
        "copy_df['product_id'].nunique()"
      ]
    },
    {
      "cell_type": "markdown",
      "id": "3796119a",
      "metadata": {
        "id": "3796119a"
      },
      "source": [
        "총 16만개 정도의 제품이 있습니다."
      ]
    },
    {
      "cell_type": "markdown",
      "id": "b6ab2a46",
      "metadata": {
        "id": "b6ab2a46"
      },
      "source": [
        "## category_id\n",
        "category_id 컬럼은 int64-> int32로 경량화 하는 작업으로 인하여  \n",
        "int32의 양수의 범위를 넘는 데이터는 음수로 바뀐것으로 추측됩니다."
      ]
    },
    {
      "cell_type": "code",
      "execution_count": 12,
      "id": "435877d3",
      "metadata": {
        "ExecuteTime": {
          "end_time": "2022-09-19T11:26:46.118232Z",
          "start_time": "2022-09-19T11:26:45.879232Z"
        },
        "colab": {
          "base_uri": "https://localhost:8080/"
        },
        "id": "435877d3",
        "outputId": "fa275307-5597-414e-cff3-88838c1a6ba0"
      },
      "outputs": [
        {
          "output_type": "execute_result",
          "data": {
            "text/plain": [
              "624"
            ]
          },
          "metadata": {},
          "execution_count": 12
        }
      ],
      "source": [
        "copy_df['category_id'].nunique()"
      ]
    },
    {
      "cell_type": "markdown",
      "id": "cbae23a0",
      "metadata": {
        "id": "cbae23a0"
      },
      "source": [
        "총 624개의 category_id가 존재합니다."
      ]
    },
    {
      "cell_type": "markdown",
      "id": "c54e791c",
      "metadata": {
        "id": "c54e791c"
      },
      "source": [
        "## category_code\n",
        "category_code는 전체 컬럼중 NULL값이 가장 많은 데이터입니다.  \n",
        "NULL값을 채우는 방법에 따라 결과가 달라질 것으로 추측됩니다.  \n",
        "- category_id로 결측치를 채울 수 있는 방법이 있을 수 있습니다.\n",
        "\n",
        "category별로 '.'으로 분리 할 수있는 형태로 보이며, 전처리를 해야할 것 같습니다."
      ]
    },
    {
      "cell_type": "code",
      "execution_count": 13,
      "id": "bd815998",
      "metadata": {
        "ExecuteTime": {
          "end_time": "2022-09-19T11:26:46.388232Z",
          "start_time": "2022-09-19T11:26:46.150233Z"
        },
        "colab": {
          "base_uri": "https://localhost:8080/"
        },
        "id": "bd815998",
        "outputId": "e32321b8-e9a3-4c29-9aff-0ca7196cbb61"
      },
      "outputs": [
        {
          "output_type": "execute_result",
          "data": {
            "text/plain": [
              "126"
            ]
          },
          "metadata": {},
          "execution_count": 13
        }
      ],
      "source": [
        "copy_df['category_code'].nunique()"
      ]
    },
    {
      "cell_type": "markdown",
      "id": "a025dac0",
      "metadata": {
        "id": "a025dac0"
      },
      "source": [
        "아직 '.'을 기준으로 category를 분리하지 않았지만, 126개의 유니크한 값들이 존재합니다."
      ]
    },
    {
      "cell_type": "code",
      "execution_count": 14,
      "id": "edc2eb41",
      "metadata": {
        "ExecuteTime": {
          "end_time": "2022-09-19T11:26:47.318263Z",
          "start_time": "2022-09-19T11:26:46.420234Z"
        },
        "colab": {
          "base_uri": "https://localhost:8080/"
        },
        "id": "edc2eb41",
        "outputId": "2a645cd8-a74b-4a06-e518-ab1bfb43f3a0"
      },
      "outputs": [
        {
          "output_type": "execute_result",
          "data": {
            "text/plain": [
              "372"
            ]
          },
          "metadata": {},
          "execution_count": 14
        }
      ],
      "source": [
        "copy_df.loc[copy_df['category_code'].isnull()]['category_id'].nunique()"
      ]
    },
    {
      "cell_type": "markdown",
      "id": "21a985cf",
      "metadata": {
        "id": "21a985cf"
      },
      "source": [
        "category_code가 NULL인 값들만 조회했을 때, 유니크한 category_id는 372개 입니다."
      ]
    },
    {
      "cell_type": "code",
      "execution_count": 15,
      "id": "b59e7813",
      "metadata": {
        "ExecuteTime": {
          "end_time": "2022-09-19T11:26:48.099393Z",
          "start_time": "2022-09-19T11:26:47.350262Z"
        },
        "colab": {
          "base_uri": "https://localhost:8080/",
          "height": 424
        },
        "id": "b59e7813",
        "outputId": "afc49e3b-3d0c-4773-a1d5-02e5c1e6a975"
      },
      "outputs": [
        {
          "output_type": "execute_result",
          "data": {
            "text/plain": [
              "                  event_time event_type  product_id  category_id  \\\n",
              "0        2019-10-01 00:00:00       view    44600062   -251657396   \n",
              "6        2019-10-01 00:00:08       view    17300353    746586423   \n",
              "7        2019-10-01 00:00:08       view    31500053    629146159   \n",
              "13       2019-10-01 00:00:15       view    44600062   -251657396   \n",
              "15       2019-10-01 00:00:17       view    23100006    -58719491   \n",
              "...                      ...        ...         ...          ...   \n",
              "42448750 2019-10-31 23:59:55       view    42200036   1325400745   \n",
              "42448755 2019-10-31 23:59:58       view    12800151   -318766863   \n",
              "42448756 2019-10-31 23:59:58       view     5100816    268435735   \n",
              "42448760 2019-10-31 23:59:58       view    10800172   1887437177   \n",
              "42448763 2019-10-31 23:59:59       view    13300120   -234880513   \n",
              "\n",
              "         category_code      brand       price    user_id  \\\n",
              "0                  NaN   shiseido   35.790001  541312140   \n",
              "6                  NaN      creed  380.959991  555447699   \n",
              "7                  NaN   luminarc   41.160000  550978835   \n",
              "13                 NaN   shiseido   35.790001  541312140   \n",
              "15                 NaN        NaN  357.790009  513642368   \n",
              "...                ...        ...         ...        ...   \n",
              "42448750           NaN        NaN   17.500000  515474976   \n",
              "42448755           NaN       sony    8.490000  544578298   \n",
              "42448756           NaN     xiaomi   29.580000  543653226   \n",
              "42448760           NaN    redmond   61.750000  527322328   \n",
              "42448763           NaN  swisshome  155.729996  525266378   \n",
              "\n",
              "                                  user_session  \n",
              "0         72d76fde-8bb3-4e00-8c23-a032dfed738c  \n",
              "6         4fe811e9-91de-46da-90c3-bbd87ed3a65d  \n",
              "7         6280d577-25c8-4147-99a7-abc6048498d6  \n",
              "13        72d76fde-8bb3-4e00-8c23-a032dfed738c  \n",
              "15        17566c27-0a8f-4506-9f30-c6a2ccbf583b  \n",
              "...                                        ...  \n",
              "42448750  222c370b-0fac-4287-982b-e340f5eaf3a1  \n",
              "42448755  fb46b2fb-493b-477c-8d18-ea1c24c04020  \n",
              "42448756  ab310b47-1eb2-45f8-8e5b-21ab2010925a  \n",
              "42448760  5054190a-46cb-4211-a8f1-16fc1a060ed8  \n",
              "42448763  6e57d2d7-6022-46e6-81d6-fa77f14cefd8  \n",
              "\n",
              "[13515609 rows x 9 columns]"
            ],
            "text/html": [
              "\n",
              "  <div id=\"df-203255fd-26f1-45ce-8bfa-ba99244d0e38\">\n",
              "    <div class=\"colab-df-container\">\n",
              "      <div>\n",
              "<style scoped>\n",
              "    .dataframe tbody tr th:only-of-type {\n",
              "        vertical-align: middle;\n",
              "    }\n",
              "\n",
              "    .dataframe tbody tr th {\n",
              "        vertical-align: top;\n",
              "    }\n",
              "\n",
              "    .dataframe thead th {\n",
              "        text-align: right;\n",
              "    }\n",
              "</style>\n",
              "<table border=\"1\" class=\"dataframe\">\n",
              "  <thead>\n",
              "    <tr style=\"text-align: right;\">\n",
              "      <th></th>\n",
              "      <th>event_time</th>\n",
              "      <th>event_type</th>\n",
              "      <th>product_id</th>\n",
              "      <th>category_id</th>\n",
              "      <th>category_code</th>\n",
              "      <th>brand</th>\n",
              "      <th>price</th>\n",
              "      <th>user_id</th>\n",
              "      <th>user_session</th>\n",
              "    </tr>\n",
              "  </thead>\n",
              "  <tbody>\n",
              "    <tr>\n",
              "      <th>0</th>\n",
              "      <td>2019-10-01 00:00:00</td>\n",
              "      <td>view</td>\n",
              "      <td>44600062</td>\n",
              "      <td>-251657396</td>\n",
              "      <td>NaN</td>\n",
              "      <td>shiseido</td>\n",
              "      <td>35.790001</td>\n",
              "      <td>541312140</td>\n",
              "      <td>72d76fde-8bb3-4e00-8c23-a032dfed738c</td>\n",
              "    </tr>\n",
              "    <tr>\n",
              "      <th>6</th>\n",
              "      <td>2019-10-01 00:00:08</td>\n",
              "      <td>view</td>\n",
              "      <td>17300353</td>\n",
              "      <td>746586423</td>\n",
              "      <td>NaN</td>\n",
              "      <td>creed</td>\n",
              "      <td>380.959991</td>\n",
              "      <td>555447699</td>\n",
              "      <td>4fe811e9-91de-46da-90c3-bbd87ed3a65d</td>\n",
              "    </tr>\n",
              "    <tr>\n",
              "      <th>7</th>\n",
              "      <td>2019-10-01 00:00:08</td>\n",
              "      <td>view</td>\n",
              "      <td>31500053</td>\n",
              "      <td>629146159</td>\n",
              "      <td>NaN</td>\n",
              "      <td>luminarc</td>\n",
              "      <td>41.160000</td>\n",
              "      <td>550978835</td>\n",
              "      <td>6280d577-25c8-4147-99a7-abc6048498d6</td>\n",
              "    </tr>\n",
              "    <tr>\n",
              "      <th>13</th>\n",
              "      <td>2019-10-01 00:00:15</td>\n",
              "      <td>view</td>\n",
              "      <td>44600062</td>\n",
              "      <td>-251657396</td>\n",
              "      <td>NaN</td>\n",
              "      <td>shiseido</td>\n",
              "      <td>35.790001</td>\n",
              "      <td>541312140</td>\n",
              "      <td>72d76fde-8bb3-4e00-8c23-a032dfed738c</td>\n",
              "    </tr>\n",
              "    <tr>\n",
              "      <th>15</th>\n",
              "      <td>2019-10-01 00:00:17</td>\n",
              "      <td>view</td>\n",
              "      <td>23100006</td>\n",
              "      <td>-58719491</td>\n",
              "      <td>NaN</td>\n",
              "      <td>NaN</td>\n",
              "      <td>357.790009</td>\n",
              "      <td>513642368</td>\n",
              "      <td>17566c27-0a8f-4506-9f30-c6a2ccbf583b</td>\n",
              "    </tr>\n",
              "    <tr>\n",
              "      <th>...</th>\n",
              "      <td>...</td>\n",
              "      <td>...</td>\n",
              "      <td>...</td>\n",
              "      <td>...</td>\n",
              "      <td>...</td>\n",
              "      <td>...</td>\n",
              "      <td>...</td>\n",
              "      <td>...</td>\n",
              "      <td>...</td>\n",
              "    </tr>\n",
              "    <tr>\n",
              "      <th>42448750</th>\n",
              "      <td>2019-10-31 23:59:55</td>\n",
              "      <td>view</td>\n",
              "      <td>42200036</td>\n",
              "      <td>1325400745</td>\n",
              "      <td>NaN</td>\n",
              "      <td>NaN</td>\n",
              "      <td>17.500000</td>\n",
              "      <td>515474976</td>\n",
              "      <td>222c370b-0fac-4287-982b-e340f5eaf3a1</td>\n",
              "    </tr>\n",
              "    <tr>\n",
              "      <th>42448755</th>\n",
              "      <td>2019-10-31 23:59:58</td>\n",
              "      <td>view</td>\n",
              "      <td>12800151</td>\n",
              "      <td>-318766863</td>\n",
              "      <td>NaN</td>\n",
              "      <td>sony</td>\n",
              "      <td>8.490000</td>\n",
              "      <td>544578298</td>\n",
              "      <td>fb46b2fb-493b-477c-8d18-ea1c24c04020</td>\n",
              "    </tr>\n",
              "    <tr>\n",
              "      <th>42448756</th>\n",
              "      <td>2019-10-31 23:59:58</td>\n",
              "      <td>view</td>\n",
              "      <td>5100816</td>\n",
              "      <td>268435735</td>\n",
              "      <td>NaN</td>\n",
              "      <td>xiaomi</td>\n",
              "      <td>29.580000</td>\n",
              "      <td>543653226</td>\n",
              "      <td>ab310b47-1eb2-45f8-8e5b-21ab2010925a</td>\n",
              "    </tr>\n",
              "    <tr>\n",
              "      <th>42448760</th>\n",
              "      <td>2019-10-31 23:59:58</td>\n",
              "      <td>view</td>\n",
              "      <td>10800172</td>\n",
              "      <td>1887437177</td>\n",
              "      <td>NaN</td>\n",
              "      <td>redmond</td>\n",
              "      <td>61.750000</td>\n",
              "      <td>527322328</td>\n",
              "      <td>5054190a-46cb-4211-a8f1-16fc1a060ed8</td>\n",
              "    </tr>\n",
              "    <tr>\n",
              "      <th>42448763</th>\n",
              "      <td>2019-10-31 23:59:59</td>\n",
              "      <td>view</td>\n",
              "      <td>13300120</td>\n",
              "      <td>-234880513</td>\n",
              "      <td>NaN</td>\n",
              "      <td>swisshome</td>\n",
              "      <td>155.729996</td>\n",
              "      <td>525266378</td>\n",
              "      <td>6e57d2d7-6022-46e6-81d6-fa77f14cefd8</td>\n",
              "    </tr>\n",
              "  </tbody>\n",
              "</table>\n",
              "<p>13515609 rows × 9 columns</p>\n",
              "</div>\n",
              "      <button class=\"colab-df-convert\" onclick=\"convertToInteractive('df-203255fd-26f1-45ce-8bfa-ba99244d0e38')\"\n",
              "              title=\"Convert this dataframe to an interactive table.\"\n",
              "              style=\"display:none;\">\n",
              "        \n",
              "  <svg xmlns=\"http://www.w3.org/2000/svg\" height=\"24px\"viewBox=\"0 0 24 24\"\n",
              "       width=\"24px\">\n",
              "    <path d=\"M0 0h24v24H0V0z\" fill=\"none\"/>\n",
              "    <path d=\"M18.56 5.44l.94 2.06.94-2.06 2.06-.94-2.06-.94-.94-2.06-.94 2.06-2.06.94zm-11 1L8.5 8.5l.94-2.06 2.06-.94-2.06-.94L8.5 2.5l-.94 2.06-2.06.94zm10 10l.94 2.06.94-2.06 2.06-.94-2.06-.94-.94-2.06-.94 2.06-2.06.94z\"/><path d=\"M17.41 7.96l-1.37-1.37c-.4-.4-.92-.59-1.43-.59-.52 0-1.04.2-1.43.59L10.3 9.45l-7.72 7.72c-.78.78-.78 2.05 0 2.83L4 21.41c.39.39.9.59 1.41.59.51 0 1.02-.2 1.41-.59l7.78-7.78 2.81-2.81c.8-.78.8-2.07 0-2.86zM5.41 20L4 18.59l7.72-7.72 1.47 1.35L5.41 20z\"/>\n",
              "  </svg>\n",
              "      </button>\n",
              "      \n",
              "  <style>\n",
              "    .colab-df-container {\n",
              "      display:flex;\n",
              "      flex-wrap:wrap;\n",
              "      gap: 12px;\n",
              "    }\n",
              "\n",
              "    .colab-df-convert {\n",
              "      background-color: #E8F0FE;\n",
              "      border: none;\n",
              "      border-radius: 50%;\n",
              "      cursor: pointer;\n",
              "      display: none;\n",
              "      fill: #1967D2;\n",
              "      height: 32px;\n",
              "      padding: 0 0 0 0;\n",
              "      width: 32px;\n",
              "    }\n",
              "\n",
              "    .colab-df-convert:hover {\n",
              "      background-color: #E2EBFA;\n",
              "      box-shadow: 0px 1px 2px rgba(60, 64, 67, 0.3), 0px 1px 3px 1px rgba(60, 64, 67, 0.15);\n",
              "      fill: #174EA6;\n",
              "    }\n",
              "\n",
              "    [theme=dark] .colab-df-convert {\n",
              "      background-color: #3B4455;\n",
              "      fill: #D2E3FC;\n",
              "    }\n",
              "\n",
              "    [theme=dark] .colab-df-convert:hover {\n",
              "      background-color: #434B5C;\n",
              "      box-shadow: 0px 1px 3px 1px rgba(0, 0, 0, 0.15);\n",
              "      filter: drop-shadow(0px 1px 2px rgba(0, 0, 0, 0.3));\n",
              "      fill: #FFFFFF;\n",
              "    }\n",
              "  </style>\n",
              "\n",
              "      <script>\n",
              "        const buttonEl =\n",
              "          document.querySelector('#df-203255fd-26f1-45ce-8bfa-ba99244d0e38 button.colab-df-convert');\n",
              "        buttonEl.style.display =\n",
              "          google.colab.kernel.accessAllowed ? 'block' : 'none';\n",
              "\n",
              "        async function convertToInteractive(key) {\n",
              "          const element = document.querySelector('#df-203255fd-26f1-45ce-8bfa-ba99244d0e38');\n",
              "          const dataTable =\n",
              "            await google.colab.kernel.invokeFunction('convertToInteractive',\n",
              "                                                     [key], {});\n",
              "          if (!dataTable) return;\n",
              "\n",
              "          const docLinkHtml = 'Like what you see? Visit the ' +\n",
              "            '<a target=\"_blank\" href=https://colab.research.google.com/notebooks/data_table.ipynb>data table notebook</a>'\n",
              "            + ' to learn more about interactive tables.';\n",
              "          element.innerHTML = '';\n",
              "          dataTable['output_type'] = 'display_data';\n",
              "          await google.colab.output.renderOutput(dataTable, element);\n",
              "          const docLink = document.createElement('div');\n",
              "          docLink.innerHTML = docLinkHtml;\n",
              "          element.appendChild(docLink);\n",
              "        }\n",
              "      </script>\n",
              "    </div>\n",
              "  </div>\n",
              "  "
            ]
          },
          "metadata": {},
          "execution_count": 15
        }
      ],
      "source": [
        "copy_df.loc[copy_df['category_code'].isnull()]"
      ]
    },
    {
      "cell_type": "markdown",
      "id": "4f0c4e42",
      "metadata": {
        "id": "4f0c4e42"
      },
      "source": [
        "## brand\n",
        "brand 컬럼 또한 NULL값이 존재하는 컬럼입니다."
      ]
    },
    {
      "cell_type": "code",
      "execution_count": 16,
      "id": "4e09110d",
      "metadata": {
        "ExecuteTime": {
          "end_time": "2022-09-19T11:26:48.399085Z",
          "start_time": "2022-09-19T11:26:48.132570Z"
        },
        "scrolled": true,
        "colab": {
          "base_uri": "https://localhost:8080/"
        },
        "id": "4e09110d",
        "outputId": "2a9cdef2-c55e-4147-d087-ae54d41dff73"
      },
      "outputs": [
        {
          "output_type": "execute_result",
          "data": {
            "text/plain": [
              "3444"
            ]
          },
          "metadata": {},
          "execution_count": 16
        }
      ],
      "source": [
        "copy_df['brand'].nunique()"
      ]
    },
    {
      "cell_type": "markdown",
      "id": "31e00c4f",
      "metadata": {
        "id": "31e00c4f"
      },
      "source": [
        "3천 4백개의 브랜드가 존재합니다."
      ]
    },
    {
      "cell_type": "markdown",
      "id": "804c0d36",
      "metadata": {
        "id": "804c0d36"
      },
      "source": [
        "## price\n",
        "price 컬럼은 수치형 데이터입니다."
      ]
    },
    {
      "cell_type": "code",
      "execution_count": 17,
      "id": "f1783068",
      "metadata": {
        "ExecuteTime": {
          "end_time": "2022-09-19T11:27:02.813418Z",
          "start_time": "2022-09-19T11:26:48.432085Z"
        },
        "scrolled": true,
        "id": "f1783068",
        "outputId": "d8582caf-a242-491d-9514-e5c1fd0b1116",
        "colab": {
          "base_uri": "https://localhost:8080/",
          "height": 337
        }
      },
      "outputs": [
        {
          "output_type": "display_data",
          "data": {
            "text/plain": [
              "<Figure size 720x360 with 1 Axes>"
            ],
            "image/png": "[encoded data removed]"
          },
          "metadata": {}
        }
      ],
      "source": [
        "plt.figure(figsize=(10,5))\n",
        "sns.histplot(data=copy_df, x='price')\n",
        "plt.show()"
      ]
    },
    {
      "cell_type": "markdown",
      "id": "37b4a1dc",
      "metadata": {
        "id": "37b4a1dc"
      },
      "source": [
        "## user_id"
      ]
    },
    {
      "cell_type": "code",
      "execution_count": 18,
      "id": "5d98be92",
      "metadata": {
        "ExecuteTime": {
          "end_time": "2022-09-19T11:27:04.043418Z",
          "start_time": "2022-09-19T11:27:02.845419Z"
        },
        "colab": {
          "base_uri": "https://localhost:8080/"
        },
        "id": "5d98be92",
        "outputId": "1ca04e1c-7581-4b7e-bc0f-54d9ab1cd125"
      },
      "outputs": [
        {
          "output_type": "execute_result",
          "data": {
            "text/plain": [
              "3022290"
            ]
          },
          "metadata": {},
          "execution_count": 18
        }
      ],
      "source": [
        "copy_df['user_id'].nunique()"
      ]
    },
    {
      "cell_type": "markdown",
      "id": "7b057035",
      "metadata": {
        "id": "7b057035"
      },
      "source": [
        "약 3백만명의 유저들의 데이터가 수집된 것을 확인할 수 있습니다."
      ]
    },
    {
      "cell_type": "markdown",
      "id": "364d7d47",
      "metadata": {
        "id": "364d7d47"
      },
      "source": [
        "## user_session"
      ]
    },
    {
      "cell_type": "code",
      "execution_count": 19,
      "id": "716faab4",
      "metadata": {
        "ExecuteTime": {
          "end_time": "2022-09-19T11:27:05.486295Z",
          "start_time": "2022-09-19T11:27:04.075418Z"
        },
        "colab": {
          "base_uri": "https://localhost:8080/"
        },
        "id": "716faab4",
        "outputId": "764c4464-b2db-4c13-8aad-482b8a1584d4"
      },
      "outputs": [
        {
          "output_type": "execute_result",
          "data": {
            "text/plain": [
              "9244421"
            ]
          },
          "metadata": {},
          "execution_count": 19
        }
      ],
      "source": [
        "copy_df['user_session'].nunique()"
      ]
    },
    {
      "cell_type": "markdown",
      "id": "47bab7a6",
      "metadata": {
        "id": "47bab7a6"
      },
      "source": [
        "# 전체(10월 한달동안)방문자수는 얼마인가?"
      ]
    },
    {
      "cell_type": "code",
      "execution_count": 20,
      "id": "ca35f353",
      "metadata": {
        "ExecuteTime": {
          "end_time": "2022-09-19T11:28:15.431439Z",
          "start_time": "2022-09-19T11:28:14.222438Z"
        },
        "colab": {
          "base_uri": "https://localhost:8080/"
        },
        "id": "ca35f353",
        "outputId": "3a8e34f4-be74-4a88-8f09-8f813efca916"
      },
      "outputs": [
        {
          "output_type": "execute_result",
          "data": {
            "text/plain": [
              "3022290"
            ]
          },
          "metadata": {},
          "execution_count": 20
        }
      ],
      "source": [
        "copy_df['user_id'].nunique()"
      ]
    },
    {
      "cell_type": "markdown",
      "id": "fcb8414c",
      "metadata": {
        "id": "fcb8414c"
      },
      "source": [
        "총 3백만명 정도의 유저가 방문한 것으로 확인됩니다."
      ]
    },
    {
      "cell_type": "markdown",
      "id": "2ad7509c",
      "metadata": {
        "id": "2ad7509c"
      },
      "source": [
        "# 전체(10월 한달동안) 매출액은 얼마인가?"
      ]
    },
    {
      "cell_type": "code",
      "execution_count": 21,
      "id": "e0561b3e",
      "metadata": {
        "ExecuteTime": {
          "end_time": "2022-09-19T11:31:04.440074Z",
          "start_time": "2022-09-19T11:31:04.353073Z"
        },
        "colab": {
          "base_uri": "https://localhost:8080/"
        },
        "id": "e0561b3e",
        "outputId": "6193b50b-1bb2-48d6-c224-a6710de33a4f"
      },
      "outputs": [
        {
          "output_type": "execute_result",
          "data": {
            "text/plain": [
              "229957500.0"
            ]
          },
          "metadata": {},
          "execution_count": 21
        }
      ],
      "source": [
        "copy_df.loc[copy_df['event_type'] == 'purchase', 'price'].sum()"
      ]
    },
    {
      "cell_type": "markdown",
      "id": "58fdccb0",
      "metadata": {
        "id": "58fdccb0"
      },
      "source": [
        "price의 단위가 달러라고 가정해보았을 때, 약 2억 3천만 달러가 판매가 되었습니다.  \n",
        "현재 환율로 환산하면, 약 한화로 3,206억원 정도 입니다."
      ]
    },
    {
      "cell_type": "markdown",
      "id": "b931c893",
      "metadata": {
        "id": "b931c893"
      },
      "source": [
        "# DAU(일별 활동 이용자)는 평균적으로 몇명인가?"
      ]
    },
    {
      "cell_type": "code",
      "execution_count": 22,
      "id": "c93b2fb3",
      "metadata": {
        "ExecuteTime": {
          "end_time": "2022-09-19T12:19:56.750245Z",
          "start_time": "2022-09-19T12:19:05.204428Z"
        },
        "colab": {
          "base_uri": "https://localhost:8080/"
        },
        "id": "c93b2fb3",
        "outputId": "cd7a2be6-0c38-4c7d-d929-37ac30b849ad"
      },
      "outputs": [
        {
          "output_type": "stream",
          "name": "stderr",
          "text": [
            "100%|██████████| 31/31 [02:11<00:00,  4.25s/it]\n"
          ]
        }
      ],
      "source": [
        "daus = []\n",
        "for day in tqdm(range(1, 32,1)):\n",
        "    dau = copy_df.loc[copy_df['event_time'].dt.day == day]['user_id'].nunique()\n",
        "    daus.append(dau)"
      ]
    },
    {
      "cell_type": "code",
      "execution_count": 23,
      "id": "1c69c2ee",
      "metadata": {
        "ExecuteTime": {
          "end_time": "2022-09-19T12:21:35.705579Z",
          "start_time": "2022-09-19T12:21:35.690579Z"
        },
        "colab": {
          "base_uri": "https://localhost:8080/"
        },
        "id": "1c69c2ee",
        "outputId": "9d862497-59f6-4d83-9547-dffd34454533"
      },
      "outputs": [
        {
          "output_type": "stream",
          "name": "stdout",
          "text": [
            "208830\n"
          ]
        }
      ],
      "source": [
        "print(round(np.mean(daus)))"
      ]
    },
    {
      "cell_type": "markdown",
      "id": "5434863d",
      "metadata": {
        "id": "5434863d"
      },
      "source": [
        "일별 활동 이용자는 평균적으로 20만명정도 됩니다."
      ]
    },
    {
      "cell_type": "markdown",
      "id": "e049f85e",
      "metadata": {
        "id": "e049f85e"
      },
      "source": [
        "# WAU는 평균적으로 몇명인가?"
      ]
    },
    {
      "cell_type": "code",
      "execution_count": 24,
      "id": "05a2b66d",
      "metadata": {
        "ExecuteTime": {
          "end_time": "2022-09-19T12:58:12.181442Z",
          "start_time": "2022-09-19T12:57:59.032444Z"
        },
        "colab": {
          "base_uri": "https://localhost:8080/"
        },
        "id": "05a2b66d",
        "outputId": "f6d92915-618b-4d97-f50d-93feb17c7dbe"
      },
      "outputs": [
        {
          "output_type": "stream",
          "name": "stdout",
          "text": [
            "1주 : 734691\n",
            "2주 : 1047455\n",
            "3주 : 1989498\n",
            "4주 : 1111053\n",
            "5주 : 764234\n",
            "평균 : 1129386\n"
          ]
        }
      ],
      "source": [
        "week1 = copy_df.loc[copy_df['event_time'].dt.day.isin([1,2,3,4,5])]['user_id'].nunique()\n",
        "week2 = copy_df.loc[copy_df['event_time'].dt.day.isin(list(range(6, 12+1)))]['user_id'].nunique()\n",
        "week3 = copy_df.loc[copy_df['event_time'].dt.day.isin(list(range(3, 19+1)))]['user_id'].nunique()\n",
        "week4 = copy_df.loc[copy_df['event_time'].dt.day.isin(list(range(20, 26+1)))]['user_id'].nunique()\n",
        "week5 = copy_df.loc[copy_df['event_time'].dt.day.isin(list(range(27, 31+1)))]['user_id'].nunique()\n",
        "\n",
        "print('1주 :',week1)\n",
        "print('2주 :',week2)\n",
        "print('3주 :',week3)\n",
        "print('4주 :',week4)\n",
        "print('5주 :',week5)\n",
        "waus = [week1, week2, week3, week4, week5]\n",
        "print('평균 :',round(np.mean(waus)))"
      ]
    },
    {
      "cell_type": "markdown",
      "source": [
        "평균적으로 약 100만명의 사용자가 한주동안 사이트를 이용하며,  \n",
        "3주에 가장 많은 인원이 이용한 것으로 확인됩니다.\n",
        "- 왜 3주에 가장 많은 인원이 이용한 것인지는 모르겠음.."
      ],
      "metadata": {
        "id": "zO4agmZaSi1K"
      },
      "id": "zO4agmZaSi1K"
    },
    {
      "cell_type": "markdown",
      "id": "818fc3ef",
      "metadata": {
        "id": "818fc3ef"
      },
      "source": [
        "# 1인당 평균 매입액(객단가)는 얼마인가?\n",
        "객단가 : 매출액 / 고객수\n",
        "- 고객 한명의 평균 매입액\n",
        "\n",
        "ex) \n",
        "- A : 4, 4, 5\n",
        "- B : 5\n",
        "- C : 5\n",
        "\n",
        "객단가 : 76000원 정도((4+4+5+5+5)/3)"
      ]
    },
    {
      "cell_type": "code",
      "execution_count": 25,
      "id": "271058fe",
      "metadata": {
        "ExecuteTime": {
          "end_time": "2022-09-19T12:32:35.455954Z",
          "start_time": "2022-09-19T12:32:34.133955Z"
        },
        "colab": {
          "base_uri": "https://localhost:8080/"
        },
        "id": "271058fe",
        "outputId": "67a51a03-a39e-4ada-c086-2060fca65cbc"
      },
      "outputs": [
        {
          "output_type": "stream",
          "name": "stdout",
          "text": [
            "76.08717363323838\n"
          ]
        }
      ],
      "source": [
        "user_number = copy_df['user_id'].nunique()\n",
        "purchase_amount = copy_df.loc[copy_df['event_type'] == 'purchase', 'price'].sum()\n",
        "\n",
        "result = purchase_amount / user_number\n",
        "print(result)"
      ]
    },
    {
      "cell_type": "markdown",
      "id": "49170977",
      "metadata": {
        "ExecuteTime": {
          "end_time": "2022-09-19T12:33:07.221724Z",
          "start_time": "2022-09-19T12:33:07.202721Z"
        },
        "id": "49170977"
      },
      "source": [
        "10월 한달 1인당 평균 매입액(객단가)는 약 76달러로 현재 환율로 환산하면 약 10만원 정도입니다."
      ]
    },
    {
      "cell_type": "markdown",
      "source": [
        "# 코호트분석\n",
        "- 참고링크1(https://workingwithpython.com/pythoncohortanalysis/)\n",
        "\n",
        "1. 우리 사이트에 들어온 고객들은 우리 사이트를 계속 이용하는가?(사용자 유지율 파악)\n",
        "  -  view, cart, purchase 모두 포함\n",
        "2. 우리 사이트에서 구매했던 고객들은 계속 우리 사이트에서 구매를 하는가?\n",
        "  - purchase만 추출"
      ],
      "metadata": {
        "id": "mDAL0EoGTcIp"
      },
      "id": "mDAL0EoGTcIp"
    },
    {
      "cell_type": "markdown",
      "source": [
        "## 1.사용자 유지율 파악\n",
        "- 우리 사이트에 들어온 고객들은 우리 사이트를 계속 이용하는가?\n",
        "- view, cart, purchase 포함"
      ],
      "metadata": {
        "id": "Tpx8Pb59QF66"
      },
      "id": "Tpx8Pb59QF66"
    },
    {
      "cell_type": "markdown",
      "source": [
        "코호트 분석에 사용할 '동일한 경험', '동일한 시간'이 데이터에 표현되도록 \n",
        "\n",
        "코호트 분석에 사용할 피처만 가지고 오겠습니다."
      ],
      "metadata": {
        "id": "K5tziqo_PEJf"
      },
      "id": "K5tziqo_PEJf"
    },
    {
      "cell_type": "markdown",
      "source": [
        "### 사용할 피처만 가지고 오기"
      ],
      "metadata": {
        "id": "-mqitIxrRIXR"
      },
      "id": "-mqitIxrRIXR"
    },
    {
      "cell_type": "code",
      "source": [
        "cohort_data = copy_df[['product_id', 'event_time','user_id']]\n",
        "cohort_data.head()"
      ],
      "metadata": {
        "id": "QQu-okc3S5-l",
        "colab": {
          "base_uri": "https://localhost:8080/",
          "height": 206
        },
        "outputId": "54c77c26-960e-4010-914f-d338496943b8"
      },
      "id": "QQu-okc3S5-l",
      "execution_count": 27,
      "outputs": [
        {
          "output_type": "execute_result",
          "data": {
            "text/plain": [
              "   product_id          event_time    user_id\n",
              "0    44600062 2019-10-01 00:00:00  541312140\n",
              "1     3900821 2019-10-01 00:00:00  554748717\n",
              "2    17200506 2019-10-01 00:00:01  519107250\n",
              "3     1307067 2019-10-01 00:00:01  550050854\n",
              "4     1004237 2019-10-01 00:00:04  535871217"
            ],
            "text/html": [
              "\n",
              "  <div id=\"df-31852f6c-3608-43a1-a12e-fc4e02728b62\">\n",
              "    <div class=\"colab-df-container\">\n",
              "      <div>\n",
              "<style scoped>\n",
              "    .dataframe tbody tr th:only-of-type {\n",
              "        vertical-align: middle;\n",
              "    }\n",
              "\n",
              "    .dataframe tbody tr th {\n",
              "        vertical-align: top;\n",
              "    }\n",
              "\n",
              "    .dataframe thead th {\n",
              "        text-align: right;\n",
              "    }\n",
              "</style>\n",
              "<table border=\"1\" class=\"dataframe\">\n",
              "  <thead>\n",
              "    <tr style=\"text-align: right;\">\n",
              "      <th></th>\n",
              "      <th>product_id</th>\n",
              "      <th>event_time</th>\n",
              "      <th>user_id</th>\n",
              "    </tr>\n",
              "  </thead>\n",
              "  <tbody>\n",
              "    <tr>\n",
              "      <th>0</th>\n",
              "      <td>44600062</td>\n",
              "      <td>2019-10-01 00:00:00</td>\n",
              "      <td>541312140</td>\n",
              "    </tr>\n",
              "    <tr>\n",
              "      <th>1</th>\n",
              "      <td>3900821</td>\n",
              "      <td>2019-10-01 00:00:00</td>\n",
              "      <td>554748717</td>\n",
              "    </tr>\n",
              "    <tr>\n",
              "      <th>2</th>\n",
              "      <td>17200506</td>\n",
              "      <td>2019-10-01 00:00:01</td>\n",
              "      <td>519107250</td>\n",
              "    </tr>\n",
              "    <tr>\n",
              "      <th>3</th>\n",
              "      <td>1307067</td>\n",
              "      <td>2019-10-01 00:00:01</td>\n",
              "      <td>550050854</td>\n",
              "    </tr>\n",
              "    <tr>\n",
              "      <th>4</th>\n",
              "      <td>1004237</td>\n",
              "      <td>2019-10-01 00:00:04</td>\n",
              "      <td>535871217</td>\n",
              "    </tr>\n",
              "  </tbody>\n",
              "</table>\n",
              "</div>\n",
              "      <button class=\"colab-df-convert\" onclick=\"convertToInteractive('df-31852f6c-3608-43a1-a12e-fc4e02728b62')\"\n",
              "              title=\"Convert this dataframe to an interactive table.\"\n",
              "              style=\"display:none;\">\n",
              "        \n",
              "  <svg xmlns=\"http://www.w3.org/2000/svg\" height=\"24px\"viewBox=\"0 0 24 24\"\n",
              "       width=\"24px\">\n",
              "    <path d=\"M0 0h24v24H0V0z\" fill=\"none\"/>\n",
              "    <path d=\"M18.56 5.44l.94 2.06.94-2.06 2.06-.94-2.06-.94-.94-2.06-.94 2.06-2.06.94zm-11 1L8.5 8.5l.94-2.06 2.06-.94-2.06-.94L8.5 2.5l-.94 2.06-2.06.94zm10 10l.94 2.06.94-2.06 2.06-.94-2.06-.94-.94-2.06-.94 2.06-2.06.94z\"/><path d=\"M17.41 7.96l-1.37-1.37c-.4-.4-.92-.59-1.43-.59-.52 0-1.04.2-1.43.59L10.3 9.45l-7.72 7.72c-.78.78-.78 2.05 0 2.83L4 21.41c.39.39.9.59 1.41.59.51 0 1.02-.2 1.41-.59l7.78-7.78 2.81-2.81c.8-.78.8-2.07 0-2.86zM5.41 20L4 18.59l7.72-7.72 1.47 1.35L5.41 20z\"/>\n",
              "  </svg>\n",
              "      </button>\n",
              "      \n",
              "  <style>\n",
              "    .colab-df-container {\n",
              "      display:flex;\n",
              "      flex-wrap:wrap;\n",
              "      gap: 12px;\n",
              "    }\n",
              "\n",
              "    .colab-df-convert {\n",
              "      background-color: #E8F0FE;\n",
              "      border: none;\n",
              "      border-radius: 50%;\n",
              "      cursor: pointer;\n",
              "      display: none;\n",
              "      fill: #1967D2;\n",
              "      height: 32px;\n",
              "      padding: 0 0 0 0;\n",
              "      width: 32px;\n",
              "    }\n",
              "\n",
              "    .colab-df-convert:hover {\n",
              "      background-color: #E2EBFA;\n",
              "      box-shadow: 0px 1px 2px rgba(60, 64, 67, 0.3), 0px 1px 3px 1px rgba(60, 64, 67, 0.15);\n",
              "      fill: #174EA6;\n",
              "    }\n",
              "\n",
              "    [theme=dark] .colab-df-convert {\n",
              "      background-color: #3B4455;\n",
              "      fill: #D2E3FC;\n",
              "    }\n",
              "\n",
              "    [theme=dark] .colab-df-convert:hover {\n",
              "      background-color: #434B5C;\n",
              "      box-shadow: 0px 1px 3px 1px rgba(0, 0, 0, 0.15);\n",
              "      filter: drop-shadow(0px 1px 2px rgba(0, 0, 0, 0.3));\n",
              "      fill: #FFFFFF;\n",
              "    }\n",
              "  </style>\n",
              "\n",
              "      <script>\n",
              "        const buttonEl =\n",
              "          document.querySelector('#df-31852f6c-3608-43a1-a12e-fc4e02728b62 button.colab-df-convert');\n",
              "        buttonEl.style.display =\n",
              "          google.colab.kernel.accessAllowed ? 'block' : 'none';\n",
              "\n",
              "        async function convertToInteractive(key) {\n",
              "          const element = document.querySelector('#df-31852f6c-3608-43a1-a12e-fc4e02728b62');\n",
              "          const dataTable =\n",
              "            await google.colab.kernel.invokeFunction('convertToInteractive',\n",
              "                                                     [key], {});\n",
              "          if (!dataTable) return;\n",
              "\n",
              "          const docLinkHtml = 'Like what you see? Visit the ' +\n",
              "            '<a target=\"_blank\" href=https://colab.research.google.com/notebooks/data_table.ipynb>data table notebook</a>'\n",
              "            + ' to learn more about interactive tables.';\n",
              "          element.innerHTML = '';\n",
              "          dataTable['output_type'] = 'display_data';\n",
              "          await google.colab.output.renderOutput(dataTable, element);\n",
              "          const docLink = document.createElement('div');\n",
              "          docLink.innerHTML = docLinkHtml;\n",
              "          element.appendChild(docLink);\n",
              "        }\n",
              "      </script>\n",
              "    </div>\n",
              "  </div>\n",
              "  "
            ]
          },
          "metadata": {},
          "execution_count": 27
        }
      ]
    },
    {
      "cell_type": "markdown",
      "source": [
        "코호트 분석에서 데이터를 집계하기 위해서는 보통 **월 단위**가 진행되지만  \n",
        "현재 10월의 데이터만 있기 때문에 **일 단위**로 진행하겠습니다."
      ],
      "metadata": {
        "id": "dBuPfIwyQZe5"
      },
      "id": "dBuPfIwyQZe5"
    },
    {
      "cell_type": "markdown",
      "source": [
        "### 단위기간을 파악하기 위하여 '일'만 가지고 오기"
      ],
      "metadata": {
        "id": "AtnVQybLRKVy"
      },
      "id": "AtnVQybLRKVy"
    },
    {
      "cell_type": "code",
      "source": [
        "cohort_data['event_period'] = cohort_data['event_time'].dt.day\n",
        "cohort_data.head()"
      ],
      "metadata": {
        "id": "xCQUq7XFS58A",
        "colab": {
          "base_uri": "https://localhost:8080/",
          "height": 310
        },
        "outputId": "42cffae3-b696-4a2a-c11b-2c2ed8a78767"
      },
      "id": "xCQUq7XFS58A",
      "execution_count": 31,
      "outputs": [
        {
          "output_type": "stream",
          "name": "stderr",
          "text": [
            "/usr/local/lib/python3.7/dist-packages/ipykernel_launcher.py:1: SettingWithCopyWarning: \n",
            "A value is trying to be set on a copy of a slice from a DataFrame.\n",
            "Try using .loc[row_indexer,col_indexer] = value instead\n",
            "\n",
            "See the caveats in the documentation: https://pandas.pydata.org/pandas-docs/stable/user_guide/indexing.html#returning-a-view-versus-a-copy\n",
            "  \"\"\"Entry point for launching an IPython kernel.\n"
          ]
        },
        {
          "output_type": "execute_result",
          "data": {
            "text/plain": [
              "   product_id          event_time    user_id  event_period\n",
              "0    44600062 2019-10-01 00:00:00  541312140             1\n",
              "1     3900821 2019-10-01 00:00:00  554748717             1\n",
              "2    17200506 2019-10-01 00:00:01  519107250             1\n",
              "3     1307067 2019-10-01 00:00:01  550050854             1\n",
              "4     1004237 2019-10-01 00:00:04  535871217             1"
            ],
            "text/html": [
              "\n",
              "  <div id=\"df-4f363df8-8744-4d37-ac04-29ee3be1fad1\">\n",
              "    <div class=\"colab-df-container\">\n",
              "      <div>\n",
              "<style scoped>\n",
              "    .dataframe tbody tr th:only-of-type {\n",
              "        vertical-align: middle;\n",
              "    }\n",
              "\n",
              "    .dataframe tbody tr th {\n",
              "        vertical-align: top;\n",
              "    }\n",
              "\n",
              "    .dataframe thead th {\n",
              "        text-align: right;\n",
              "    }\n",
              "</style>\n",
              "<table border=\"1\" class=\"dataframe\">\n",
              "  <thead>\n",
              "    <tr style=\"text-align: right;\">\n",
              "      <th></th>\n",
              "      <th>product_id</th>\n",
              "      <th>event_time</th>\n",
              "      <th>user_id</th>\n",
              "      <th>event_period</th>\n",
              "    </tr>\n",
              "  </thead>\n",
              "  <tbody>\n",
              "    <tr>\n",
              "      <th>0</th>\n",
              "      <td>44600062</td>\n",
              "      <td>2019-10-01 00:00:00</td>\n",
              "      <td>541312140</td>\n",
              "      <td>1</td>\n",
              "    </tr>\n",
              "    <tr>\n",
              "      <th>1</th>\n",
              "      <td>3900821</td>\n",
              "      <td>2019-10-01 00:00:00</td>\n",
              "      <td>554748717</td>\n",
              "      <td>1</td>\n",
              "    </tr>\n",
              "    <tr>\n",
              "      <th>2</th>\n",
              "      <td>17200506</td>\n",
              "      <td>2019-10-01 00:00:01</td>\n",
              "      <td>519107250</td>\n",
              "      <td>1</td>\n",
              "    </tr>\n",
              "    <tr>\n",
              "      <th>3</th>\n",
              "      <td>1307067</td>\n",
              "      <td>2019-10-01 00:00:01</td>\n",
              "      <td>550050854</td>\n",
              "      <td>1</td>\n",
              "    </tr>\n",
              "    <tr>\n",
              "      <th>4</th>\n",
              "      <td>1004237</td>\n",
              "      <td>2019-10-01 00:00:04</td>\n",
              "      <td>535871217</td>\n",
              "      <td>1</td>\n",
              "    </tr>\n",
              "  </tbody>\n",
              "</table>\n",
              "</div>\n",
              "      <button class=\"colab-df-convert\" onclick=\"convertToInteractive('df-4f363df8-8744-4d37-ac04-29ee3be1fad1')\"\n",
              "              title=\"Convert this dataframe to an interactive table.\"\n",
              "              style=\"display:none;\">\n",
              "        \n",
              "  <svg xmlns=\"http://www.w3.org/2000/svg\" height=\"24px\"viewBox=\"0 0 24 24\"\n",
              "       width=\"24px\">\n",
              "    <path d=\"M0 0h24v24H0V0z\" fill=\"none\"/>\n",
              "    <path d=\"M18.56 5.44l.94 2.06.94-2.06 2.06-.94-2.06-.94-.94-2.06-.94 2.06-2.06.94zm-11 1L8.5 8.5l.94-2.06 2.06-.94-2.06-.94L8.5 2.5l-.94 2.06-2.06.94zm10 10l.94 2.06.94-2.06 2.06-.94-2.06-.94-.94-2.06-.94 2.06-2.06.94z\"/><path d=\"M17.41 7.96l-1.37-1.37c-.4-.4-.92-.59-1.43-.59-.52 0-1.04.2-1.43.59L10.3 9.45l-7.72 7.72c-.78.78-.78 2.05 0 2.83L4 21.41c.39.39.9.59 1.41.59.51 0 1.02-.2 1.41-.59l7.78-7.78 2.81-2.81c.8-.78.8-2.07 0-2.86zM5.41 20L4 18.59l7.72-7.72 1.47 1.35L5.41 20z\"/>\n",
              "  </svg>\n",
              "      </button>\n",
              "      \n",
              "  <style>\n",
              "    .colab-df-container {\n",
              "      display:flex;\n",
              "      flex-wrap:wrap;\n",
              "      gap: 12px;\n",
              "    }\n",
              "\n",
              "    .colab-df-convert {\n",
              "      background-color: #E8F0FE;\n",
              "      border: none;\n",
              "      border-radius: 50%;\n",
              "      cursor: pointer;\n",
              "      display: none;\n",
              "      fill: #1967D2;\n",
              "      height: 32px;\n",
              "      padding: 0 0 0 0;\n",
              "      width: 32px;\n",
              "    }\n",
              "\n",
              "    .colab-df-convert:hover {\n",
              "      background-color: #E2EBFA;\n",
              "      box-shadow: 0px 1px 2px rgba(60, 64, 67, 0.3), 0px 1px 3px 1px rgba(60, 64, 67, 0.15);\n",
              "      fill: #174EA6;\n",
              "    }\n",
              "\n",
              "    [theme=dark] .colab-df-convert {\n",
              "      background-color: #3B4455;\n",
              "      fill: #D2E3FC;\n",
              "    }\n",
              "\n",
              "    [theme=dark] .colab-df-convert:hover {\n",
              "      background-color: #434B5C;\n",
              "      box-shadow: 0px 1px 3px 1px rgba(0, 0, 0, 0.15);\n",
              "      filter: drop-shadow(0px 1px 2px rgba(0, 0, 0, 0.3));\n",
              "      fill: #FFFFFF;\n",
              "    }\n",
              "  </style>\n",
              "\n",
              "      <script>\n",
              "        const buttonEl =\n",
              "          document.querySelector('#df-4f363df8-8744-4d37-ac04-29ee3be1fad1 button.colab-df-convert');\n",
              "        buttonEl.style.display =\n",
              "          google.colab.kernel.accessAllowed ? 'block' : 'none';\n",
              "\n",
              "        async function convertToInteractive(key) {\n",
              "          const element = document.querySelector('#df-4f363df8-8744-4d37-ac04-29ee3be1fad1');\n",
              "          const dataTable =\n",
              "            await google.colab.kernel.invokeFunction('convertToInteractive',\n",
              "                                                     [key], {});\n",
              "          if (!dataTable) return;\n",
              "\n",
              "          const docLinkHtml = 'Like what you see? Visit the ' +\n",
              "            '<a target=\"_blank\" href=https://colab.research.google.com/notebooks/data_table.ipynb>data table notebook</a>'\n",
              "            + ' to learn more about interactive tables.';\n",
              "          element.innerHTML = '';\n",
              "          dataTable['output_type'] = 'display_data';\n",
              "          await google.colab.output.renderOutput(dataTable, element);\n",
              "          const docLink = document.createElement('div');\n",
              "          docLink.innerHTML = docLinkHtml;\n",
              "          element.appendChild(docLink);\n",
              "        }\n",
              "      </script>\n",
              "    </div>\n",
              "  </div>\n",
              "  "
            ]
          },
          "metadata": {},
          "execution_count": 31
        }
      ]
    },
    {
      "cell_type": "markdown",
      "source": [
        "### 유저의 (10월)첫번째 방문을 토대로 유저별 코호트 그룹 설정하기\n",
        "\n",
        "코호트 분석의 전제조건 중 '동일한 경험'을 만드는 과정입니다.\n",
        "\n",
        "여기서 '동일한 경험'이란 (10월)첫 번째 방문입니다."
      ],
      "metadata": {
        "id": "Wgmej1ssRQYD"
      },
      "id": "Wgmej1ssRQYD"
    },
    {
      "cell_type": "code",
      "source": [
        "cohort_data = cohort_data.set_index('user_id')\n",
        "cohort_data.head()"
      ],
      "metadata": {
        "id": "acERw-rnS55V",
        "colab": {
          "base_uri": "https://localhost:8080/",
          "height": 237
        },
        "outputId": "ac3b8a7e-5d88-430d-8b47-15018f5a220c"
      },
      "id": "acERw-rnS55V",
      "execution_count": 33,
      "outputs": [
        {
          "output_type": "execute_result",
          "data": {
            "text/plain": [
              "           product_id          event_time  event_period\n",
              "user_id                                                \n",
              "541312140    44600062 2019-10-01 00:00:00             1\n",
              "554748717     3900821 2019-10-01 00:00:00             1\n",
              "519107250    17200506 2019-10-01 00:00:01             1\n",
              "550050854     1307067 2019-10-01 00:00:01             1\n",
              "535871217     1004237 2019-10-01 00:00:04             1"
            ],
            "text/html": [
              "\n",
              "  <div id=\"df-a57e75fa-9720-411a-b40b-950063f4ea19\">\n",
              "    <div class=\"colab-df-container\">\n",
              "      <div>\n",
              "<style scoped>\n",
              "    .dataframe tbody tr th:only-of-type {\n",
              "        vertical-align: middle;\n",
              "    }\n",
              "\n",
              "    .dataframe tbody tr th {\n",
              "        vertical-align: top;\n",
              "    }\n",
              "\n",
              "    .dataframe thead th {\n",
              "        text-align: right;\n",
              "    }\n",
              "</style>\n",
              "<table border=\"1\" class=\"dataframe\">\n",
              "  <thead>\n",
              "    <tr style=\"text-align: right;\">\n",
              "      <th></th>\n",
              "      <th>product_id</th>\n",
              "      <th>event_time</th>\n",
              "      <th>event_period</th>\n",
              "    </tr>\n",
              "    <tr>\n",
              "      <th>user_id</th>\n",
              "      <th></th>\n",
              "      <th></th>\n",
              "      <th></th>\n",
              "    </tr>\n",
              "  </thead>\n",
              "  <tbody>\n",
              "    <tr>\n",
              "      <th>541312140</th>\n",
              "      <td>44600062</td>\n",
              "      <td>2019-10-01 00:00:00</td>\n",
              "      <td>1</td>\n",
              "    </tr>\n",
              "    <tr>\n",
              "      <th>554748717</th>\n",
              "      <td>3900821</td>\n",
              "      <td>2019-10-01 00:00:00</td>\n",
              "      <td>1</td>\n",
              "    </tr>\n",
              "    <tr>\n",
              "      <th>519107250</th>\n",
              "      <td>17200506</td>\n",
              "      <td>2019-10-01 00:00:01</td>\n",
              "      <td>1</td>\n",
              "    </tr>\n",
              "    <tr>\n",
              "      <th>550050854</th>\n",
              "      <td>1307067</td>\n",
              "      <td>2019-10-01 00:00:01</td>\n",
              "      <td>1</td>\n",
              "    </tr>\n",
              "    <tr>\n",
              "      <th>535871217</th>\n",
              "      <td>1004237</td>\n",
              "      <td>2019-10-01 00:00:04</td>\n",
              "      <td>1</td>\n",
              "    </tr>\n",
              "  </tbody>\n",
              "</table>\n",
              "</div>\n",
              "      <button class=\"colab-df-convert\" onclick=\"convertToInteractive('df-a57e75fa-9720-411a-b40b-950063f4ea19')\"\n",
              "              title=\"Convert this dataframe to an interactive table.\"\n",
              "              style=\"display:none;\">\n",
              "        \n",
              "  <svg xmlns=\"http://www.w3.org/2000/svg\" height=\"24px\"viewBox=\"0 0 24 24\"\n",
              "       width=\"24px\">\n",
              "    <path d=\"M0 0h24v24H0V0z\" fill=\"none\"/>\n",
              "    <path d=\"M18.56 5.44l.94 2.06.94-2.06 2.06-.94-2.06-.94-.94-2.06-.94 2.06-2.06.94zm-11 1L8.5 8.5l.94-2.06 2.06-.94-2.06-.94L8.5 2.5l-.94 2.06-2.06.94zm10 10l.94 2.06.94-2.06 2.06-.94-2.06-.94-.94-2.06-.94 2.06-2.06.94z\"/><path d=\"M17.41 7.96l-1.37-1.37c-.4-.4-.92-.59-1.43-.59-.52 0-1.04.2-1.43.59L10.3 9.45l-7.72 7.72c-.78.78-.78 2.05 0 2.83L4 21.41c.39.39.9.59 1.41.59.51 0 1.02-.2 1.41-.59l7.78-7.78 2.81-2.81c.8-.78.8-2.07 0-2.86zM5.41 20L4 18.59l7.72-7.72 1.47 1.35L5.41 20z\"/>\n",
              "  </svg>\n",
              "      </button>\n",
              "      \n",
              "  <style>\n",
              "    .colab-df-container {\n",
              "      display:flex;\n",
              "      flex-wrap:wrap;\n",
              "      gap: 12px;\n",
              "    }\n",
              "\n",
              "    .colab-df-convert {\n",
              "      background-color: #E8F0FE;\n",
              "      border: none;\n",
              "      border-radius: 50%;\n",
              "      cursor: pointer;\n",
              "      display: none;\n",
              "      fill: #1967D2;\n",
              "      height: 32px;\n",
              "      padding: 0 0 0 0;\n",
              "      width: 32px;\n",
              "    }\n",
              "\n",
              "    .colab-df-convert:hover {\n",
              "      background-color: #E2EBFA;\n",
              "      box-shadow: 0px 1px 2px rgba(60, 64, 67, 0.3), 0px 1px 3px 1px rgba(60, 64, 67, 0.15);\n",
              "      fill: #174EA6;\n",
              "    }\n",
              "\n",
              "    [theme=dark] .colab-df-convert {\n",
              "      background-color: #3B4455;\n",
              "      fill: #D2E3FC;\n",
              "    }\n",
              "\n",
              "    [theme=dark] .colab-df-convert:hover {\n",
              "      background-color: #434B5C;\n",
              "      box-shadow: 0px 1px 3px 1px rgba(0, 0, 0, 0.15);\n",
              "      filter: drop-shadow(0px 1px 2px rgba(0, 0, 0, 0.3));\n",
              "      fill: #FFFFFF;\n",
              "    }\n",
              "  </style>\n",
              "\n",
              "      <script>\n",
              "        const buttonEl =\n",
              "          document.querySelector('#df-a57e75fa-9720-411a-b40b-950063f4ea19 button.colab-df-convert');\n",
              "        buttonEl.style.display =\n",
              "          google.colab.kernel.accessAllowed ? 'block' : 'none';\n",
              "\n",
              "        async function convertToInteractive(key) {\n",
              "          const element = document.querySelector('#df-a57e75fa-9720-411a-b40b-950063f4ea19');\n",
              "          const dataTable =\n",
              "            await google.colab.kernel.invokeFunction('convertToInteractive',\n",
              "                                                     [key], {});\n",
              "          if (!dataTable) return;\n",
              "\n",
              "          const docLinkHtml = 'Like what you see? Visit the ' +\n",
              "            '<a target=\"_blank\" href=https://colab.research.google.com/notebooks/data_table.ipynb>data table notebook</a>'\n",
              "            + ' to learn more about interactive tables.';\n",
              "          element.innerHTML = '';\n",
              "          dataTable['output_type'] = 'display_data';\n",
              "          await google.colab.output.renderOutput(dataTable, element);\n",
              "          const docLink = document.createElement('div');\n",
              "          docLink.innerHTML = docLinkHtml;\n",
              "          element.appendChild(docLink);\n",
              "        }\n",
              "      </script>\n",
              "    </div>\n",
              "  </div>\n",
              "  "
            ]
          },
          "metadata": {},
          "execution_count": 33
        }
      ]
    },
    {
      "cell_type": "code",
      "source": [
        "pd.to_datetime(cohort_data['event_time'], format='%Y-%m-%d %H:%M:%S', errors='raise')"
      ],
      "metadata": {
        "id": "qY4qHhXDR9nL"
      },
      "id": "qY4qHhXDR9nL",
      "execution_count": null,
      "outputs": []
    },
    {
      "cell_type": "code",
      "source": [
        "first_event = cohort_data.groupby('user_id')['event_time'].min()\n"
      ],
      "metadata": {
        "id": "CH-M44MpS5xw",
        "colab": {
          "base_uri": "https://localhost:8080/",
          "height": 487
        },
        "outputId": "fab93015-fa24-4029-f218-727bfe408a85"
      },
      "id": "CH-M44MpS5xw",
      "execution_count": 34,
      "outputs": [
        {
          "output_type": "error",
          "ename": "TypeError",
          "evalue": "ignored",
          "traceback": [
            "\u001b[0;31m---------------------------------------------------------------------------\u001b[0m",
            "\u001b[0;31mNotImplementedError\u001b[0m                       Traceback (most recent call last)",
            "\u001b[0;32m/usr/local/lib/python3.7/dist-packages/pandas/core/groupby/generic.py\u001b[0m in \u001b[0;36marray_func\u001b[0;34m(values)\u001b[0m\n\u001b[1;32m    340\u001b[0m                 result = self.grouper._cython_operation(\n\u001b[0;32m--> 341\u001b[0;31m                     \u001b[0;34m\"aggregate\"\u001b[0m\u001b[0;34m,\u001b[0m \u001b[0mvalues\u001b[0m\u001b[0;34m,\u001b[0m \u001b[0mhow\u001b[0m\u001b[0;34m,\u001b[0m \u001b[0maxis\u001b[0m\u001b[0;34m=\u001b[0m\u001b[0mdata\u001b[0m\u001b[0;34m.\u001b[0m\u001b[0mndim\u001b[0m \u001b[0;34m-\u001b[0m \u001b[0;36m1\u001b[0m\u001b[0;34m,\u001b[0m \u001b[0mmin_count\u001b[0m\u001b[0;34m=\u001b[0m\u001b[0mmin_count\u001b[0m\u001b[0;34m\u001b[0m\u001b[0;34m\u001b[0m\u001b[0m\n\u001b[0m\u001b[1;32m    342\u001b[0m                 )\n",
            "\u001b[0;32m/usr/local/lib/python3.7/dist-packages/pandas/core/groupby/ops.py\u001b[0m in \u001b[0;36m_cython_operation\u001b[0;34m(self, kind, values, how, axis, min_count, **kwargs)\u001b[0m\n\u001b[1;32m   1015\u001b[0m             \u001b[0mngroups\u001b[0m\u001b[0;34m=\u001b[0m\u001b[0mngroups\u001b[0m\u001b[0;34m,\u001b[0m\u001b[0;34m\u001b[0m\u001b[0;34m\u001b[0m\u001b[0m\n\u001b[0;32m-> 1016\u001b[0;31m             \u001b[0;34m**\u001b[0m\u001b[0mkwargs\u001b[0m\u001b[0;34m,\u001b[0m\u001b[0;34m\u001b[0m\u001b[0;34m\u001b[0m\u001b[0m\n\u001b[0m\u001b[1;32m   1017\u001b[0m         )\n",
            "\u001b[0;32m/usr/local/lib/python3.7/dist-packages/pandas/core/groupby/ops.py\u001b[0m in \u001b[0;36mcython_operation\u001b[0;34m(self, values, axis, min_count, comp_ids, ngroups, **kwargs)\u001b[0m\n\u001b[1;32m    658\u001b[0m         \u001b[0;31m# if not raise NotImplementedError\u001b[0m\u001b[0;34m\u001b[0m\u001b[0;34m\u001b[0m\u001b[0;34m\u001b[0m\u001b[0m\n\u001b[0;32m--> 659\u001b[0;31m         \u001b[0mself\u001b[0m\u001b[0;34m.\u001b[0m\u001b[0m_disallow_invalid_ops\u001b[0m\u001b[0;34m(\u001b[0m\u001b[0mdtype\u001b[0m\u001b[0;34m,\u001b[0m \u001b[0mis_numeric\u001b[0m\u001b[0;34m)\u001b[0m\u001b[0;34m\u001b[0m\u001b[0;34m\u001b[0m\u001b[0m\n\u001b[0m\u001b[1;32m    660\u001b[0m \u001b[0;34m\u001b[0m\u001b[0m\n",
            "\u001b[0;32m/usr/local/lib/python3.7/dist-packages/pandas/core/groupby/ops.py\u001b[0m in \u001b[0;36m_disallow_invalid_ops\u001b[0;34m(self, dtype, is_numeric)\u001b[0m\n\u001b[1;32m    234\u001b[0m                 \u001b[0;32mraise\u001b[0m \u001b[0mTypeError\u001b[0m\u001b[0;34m(\u001b[0m\u001b[0;34mf\"{dtype} type does not support {how} operations\"\u001b[0m\u001b[0;34m)\u001b[0m\u001b[0;34m\u001b[0m\u001b[0;34m\u001b[0m\u001b[0m\n\u001b[0;32m--> 235\u001b[0;31m             \u001b[0;32mraise\u001b[0m \u001b[0mNotImplementedError\u001b[0m\u001b[0;34m(\u001b[0m\u001b[0;34mf\"{dtype} dtype not supported\"\u001b[0m\u001b[0;34m)\u001b[0m\u001b[0;34m\u001b[0m\u001b[0;34m\u001b[0m\u001b[0m\n\u001b[0m\u001b[1;32m    236\u001b[0m \u001b[0;34m\u001b[0m\u001b[0m\n",
            "\u001b[0;31mNotImplementedError\u001b[0m: category dtype not supported",
            "\nDuring handling of the above exception, another exception occurred:\n",
            "\u001b[0;31mTypeError\u001b[0m                                 Traceback (most recent call last)",
            "\u001b[0;32m<ipython-input-34-ae21e0e32842>\u001b[0m in \u001b[0;36m<module>\u001b[0;34m\u001b[0m\n\u001b[0;32m----> 1\u001b[0;31m \u001b[0mcohort_data\u001b[0m\u001b[0;34m.\u001b[0m\u001b[0mgroupby\u001b[0m\u001b[0;34m(\u001b[0m\u001b[0;34m'user_id'\u001b[0m\u001b[0;34m)\u001b[0m\u001b[0;34m[\u001b[0m\u001b[0;34m'event_time'\u001b[0m\u001b[0;34m]\u001b[0m\u001b[0;34m.\u001b[0m\u001b[0mmin\u001b[0m\u001b[0;34m(\u001b[0m\u001b[0;34m)\u001b[0m\u001b[0;34m\u001b[0m\u001b[0;34m\u001b[0m\u001b[0m\n\u001b[0m",
            "\u001b[0;32m/usr/local/lib/python3.7/dist-packages/pandas/core/groupby/groupby.py\u001b[0m in \u001b[0;36mmin\u001b[0;34m(self, numeric_only, min_count)\u001b[0m\n\u001b[1;32m   1871\u001b[0m     \u001b[0;32mdef\u001b[0m \u001b[0mmin\u001b[0m\u001b[0;34m(\u001b[0m\u001b[0mself\u001b[0m\u001b[0;34m,\u001b[0m \u001b[0mnumeric_only\u001b[0m\u001b[0;34m:\u001b[0m \u001b[0mbool\u001b[0m \u001b[0;34m=\u001b[0m \u001b[0;32mFalse\u001b[0m\u001b[0;34m,\u001b[0m \u001b[0mmin_count\u001b[0m\u001b[0;34m:\u001b[0m \u001b[0mint\u001b[0m \u001b[0;34m=\u001b[0m \u001b[0;34m-\u001b[0m\u001b[0;36m1\u001b[0m\u001b[0;34m)\u001b[0m\u001b[0;34m:\u001b[0m\u001b[0;34m\u001b[0m\u001b[0;34m\u001b[0m\u001b[0m\n\u001b[1;32m   1872\u001b[0m         return self._agg_general(\n\u001b[0;32m-> 1873\u001b[0;31m             \u001b[0mnumeric_only\u001b[0m\u001b[0;34m=\u001b[0m\u001b[0mnumeric_only\u001b[0m\u001b[0;34m,\u001b[0m \u001b[0mmin_count\u001b[0m\u001b[0;34m=\u001b[0m\u001b[0mmin_count\u001b[0m\u001b[0;34m,\u001b[0m \u001b[0malias\u001b[0m\u001b[0;34m=\u001b[0m\u001b[0;34m\"min\"\u001b[0m\u001b[0;34m,\u001b[0m \u001b[0mnpfunc\u001b[0m\u001b[0;34m=\u001b[0m\u001b[0mnp\u001b[0m\u001b[0;34m.\u001b[0m\u001b[0mmin\u001b[0m\u001b[0;34m\u001b[0m\u001b[0;34m\u001b[0m\u001b[0m\n\u001b[0m\u001b[1;32m   1874\u001b[0m         )\n\u001b[1;32m   1875\u001b[0m \u001b[0;34m\u001b[0m\u001b[0m\n",
            "\u001b[0;32m/usr/local/lib/python3.7/dist-packages/pandas/core/groupby/groupby.py\u001b[0m in \u001b[0;36m_agg_general\u001b[0;34m(self, numeric_only, min_count, alias, npfunc)\u001b[0m\n\u001b[1;32m   1366\u001b[0m                 \u001b[0malt\u001b[0m\u001b[0;34m=\u001b[0m\u001b[0mnpfunc\u001b[0m\u001b[0;34m,\u001b[0m\u001b[0;34m\u001b[0m\u001b[0;34m\u001b[0m\u001b[0m\n\u001b[1;32m   1367\u001b[0m                 \u001b[0mnumeric_only\u001b[0m\u001b[0;34m=\u001b[0m\u001b[0mnumeric_only\u001b[0m\u001b[0;34m,\u001b[0m\u001b[0;34m\u001b[0m\u001b[0;34m\u001b[0m\u001b[0m\n\u001b[0;32m-> 1368\u001b[0;31m                 \u001b[0mmin_count\u001b[0m\u001b[0;34m=\u001b[0m\u001b[0mmin_count\u001b[0m\u001b[0;34m,\u001b[0m\u001b[0;34m\u001b[0m\u001b[0;34m\u001b[0m\u001b[0m\n\u001b[0m\u001b[1;32m   1369\u001b[0m             )\n\u001b[1;32m   1370\u001b[0m             \u001b[0;32mreturn\u001b[0m \u001b[0mresult\u001b[0m\u001b[0;34m.\u001b[0m\u001b[0m__finalize__\u001b[0m\u001b[0;34m(\u001b[0m\u001b[0mself\u001b[0m\u001b[0;34m.\u001b[0m\u001b[0mobj\u001b[0m\u001b[0;34m,\u001b[0m \u001b[0mmethod\u001b[0m\u001b[0;34m=\u001b[0m\u001b[0;34m\"groupby\"\u001b[0m\u001b[0;34m)\u001b[0m\u001b[0;34m\u001b[0m\u001b[0;34m\u001b[0m\u001b[0m\n",
            "\u001b[0;32m/usr/local/lib/python3.7/dist-packages/pandas/core/groupby/generic.py\u001b[0m in \u001b[0;36m_cython_agg_general\u001b[0;34m(self, how, alt, numeric_only, min_count)\u001b[0m\n\u001b[1;32m    350\u001b[0m             \u001b[0;32mreturn\u001b[0m \u001b[0mresult\u001b[0m\u001b[0;34m\u001b[0m\u001b[0;34m\u001b[0m\u001b[0m\n\u001b[1;32m    351\u001b[0m \u001b[0;34m\u001b[0m\u001b[0m\n\u001b[0;32m--> 352\u001b[0;31m         \u001b[0mresult\u001b[0m \u001b[0;34m=\u001b[0m \u001b[0marray_func\u001b[0m\u001b[0;34m(\u001b[0m\u001b[0mobjvals\u001b[0m\u001b[0;34m)\u001b[0m\u001b[0;34m\u001b[0m\u001b[0;34m\u001b[0m\u001b[0m\n\u001b[0m\u001b[1;32m    353\u001b[0m \u001b[0;34m\u001b[0m\u001b[0m\n\u001b[1;32m    354\u001b[0m         ser = self.obj._constructor(\n",
            "\u001b[0;32m/usr/local/lib/python3.7/dist-packages/pandas/core/groupby/generic.py\u001b[0m in \u001b[0;36marray_func\u001b[0;34m(values)\u001b[0m\n\u001b[1;32m    346\u001b[0m                 \u001b[0;31m# try to python agg\u001b[0m\u001b[0;34m\u001b[0m\u001b[0;34m\u001b[0m\u001b[0;34m\u001b[0m\u001b[0m\n\u001b[1;32m    347\u001b[0m                 \u001b[0;31m# TODO: shouldn't min_count matter?\u001b[0m\u001b[0;34m\u001b[0m\u001b[0;34m\u001b[0m\u001b[0;34m\u001b[0m\u001b[0m\n\u001b[0;32m--> 348\u001b[0;31m                 \u001b[0mresult\u001b[0m \u001b[0;34m=\u001b[0m \u001b[0mself\u001b[0m\u001b[0;34m.\u001b[0m\u001b[0m_agg_py_fallback\u001b[0m\u001b[0;34m(\u001b[0m\u001b[0mvalues\u001b[0m\u001b[0;34m,\u001b[0m \u001b[0mndim\u001b[0m\u001b[0;34m=\u001b[0m\u001b[0mdata\u001b[0m\u001b[0;34m.\u001b[0m\u001b[0mndim\u001b[0m\u001b[0;34m,\u001b[0m \u001b[0malt\u001b[0m\u001b[0;34m=\u001b[0m\u001b[0malt\u001b[0m\u001b[0;34m)\u001b[0m\u001b[0;34m\u001b[0m\u001b[0;34m\u001b[0m\u001b[0m\n\u001b[0m\u001b[1;32m    349\u001b[0m \u001b[0;34m\u001b[0m\u001b[0m\n\u001b[1;32m    350\u001b[0m             \u001b[0;32mreturn\u001b[0m \u001b[0mresult\u001b[0m\u001b[0;34m\u001b[0m\u001b[0;34m\u001b[0m\u001b[0m\n",
            "\u001b[0;32m/usr/local/lib/python3.7/dist-packages/pandas/core/groupby/groupby.py\u001b[0m in \u001b[0;36m_agg_py_fallback\u001b[0;34m(self, values, ndim, alt)\u001b[0m\n\u001b[1;32m   1396\u001b[0m         \u001b[0;31m#  should always be preserved by the implemented aggregations\u001b[0m\u001b[0;34m\u001b[0m\u001b[0;34m\u001b[0m\u001b[0;34m\u001b[0m\u001b[0m\n\u001b[1;32m   1397\u001b[0m         \u001b[0;31m# TODO: Is this exactly right; see WrappedCythonOp get_result_dtype?\u001b[0m\u001b[0;34m\u001b[0m\u001b[0;34m\u001b[0m\u001b[0;34m\u001b[0m\u001b[0m\n\u001b[0;32m-> 1398\u001b[0;31m         \u001b[0mres_values\u001b[0m \u001b[0;34m=\u001b[0m \u001b[0mself\u001b[0m\u001b[0;34m.\u001b[0m\u001b[0mgrouper\u001b[0m\u001b[0;34m.\u001b[0m\u001b[0magg_series\u001b[0m\u001b[0;34m(\u001b[0m\u001b[0mser\u001b[0m\u001b[0;34m,\u001b[0m \u001b[0malt\u001b[0m\u001b[0;34m,\u001b[0m \u001b[0mpreserve_dtype\u001b[0m\u001b[0;34m=\u001b[0m\u001b[0;32mTrue\u001b[0m\u001b[0;34m)\u001b[0m\u001b[0;34m\u001b[0m\u001b[0;34m\u001b[0m\u001b[0m\n\u001b[0m\u001b[1;32m   1399\u001b[0m \u001b[0;34m\u001b[0m\u001b[0m\n\u001b[1;32m   1400\u001b[0m         \u001b[0;32mif\u001b[0m \u001b[0misinstance\u001b[0m\u001b[0;34m(\u001b[0m\u001b[0mvalues\u001b[0m\u001b[0;34m,\u001b[0m \u001b[0mCategorical\u001b[0m\u001b[0;34m)\u001b[0m\u001b[0;34m:\u001b[0m\u001b[0;34m\u001b[0m\u001b[0;34m\u001b[0m\u001b[0m\n",
            "\u001b[0;32m/usr/local/lib/python3.7/dist-packages/pandas/core/groupby/ops.py\u001b[0m in \u001b[0;36magg_series\u001b[0;34m(self, obj, func, preserve_dtype)\u001b[0m\n\u001b[1;32m   1045\u001b[0m             \u001b[0;31m# In the datetime64tz case it would incorrectly cast to tz-naive\u001b[0m\u001b[0;34m\u001b[0m\u001b[0;34m\u001b[0m\u001b[0;34m\u001b[0m\u001b[0m\n\u001b[1;32m   1046\u001b[0m             \u001b[0;31m# TODO: can we get a performant workaround for EAs backed by ndarray?\u001b[0m\u001b[0;34m\u001b[0m\u001b[0;34m\u001b[0m\u001b[0;34m\u001b[0m\u001b[0m\n\u001b[0;32m-> 1047\u001b[0;31m             \u001b[0mresult\u001b[0m \u001b[0;34m=\u001b[0m \u001b[0mself\u001b[0m\u001b[0;34m.\u001b[0m\u001b[0m_aggregate_series_pure_python\u001b[0m\u001b[0;34m(\u001b[0m\u001b[0mobj\u001b[0m\u001b[0;34m,\u001b[0m \u001b[0mfunc\u001b[0m\u001b[0;34m)\u001b[0m\u001b[0;34m\u001b[0m\u001b[0;34m\u001b[0m\u001b[0m\n\u001b[0m\u001b[1;32m   1048\u001b[0m \u001b[0;34m\u001b[0m\u001b[0m\n\u001b[1;32m   1049\u001b[0m             \u001b[0;31m# we can preserve a little bit more aggressively with EA dtype\u001b[0m\u001b[0;34m\u001b[0m\u001b[0;34m\u001b[0m\u001b[0;34m\u001b[0m\u001b[0m\n",
            "\u001b[0;32m/usr/local/lib/python3.7/dist-packages/pandas/core/groupby/ops.py\u001b[0m in \u001b[0;36m_aggregate_series_pure_python\u001b[0;34m(self, obj, func)\u001b[0m\n\u001b[1;32m   1102\u001b[0m             \u001b[0;31m# Each step of this loop corresponds to\u001b[0m\u001b[0;34m\u001b[0m\u001b[0;34m\u001b[0m\u001b[0;34m\u001b[0m\u001b[0m\n\u001b[1;32m   1103\u001b[0m             \u001b[0;31m#  libreduction._BaseGrouper._apply_to_group\u001b[0m\u001b[0;34m\u001b[0m\u001b[0;34m\u001b[0m\u001b[0;34m\u001b[0m\u001b[0m\n\u001b[0;32m-> 1104\u001b[0;31m             \u001b[0mres\u001b[0m \u001b[0;34m=\u001b[0m \u001b[0mfunc\u001b[0m\u001b[0;34m(\u001b[0m\u001b[0mgroup\u001b[0m\u001b[0;34m)\u001b[0m\u001b[0;34m\u001b[0m\u001b[0;34m\u001b[0m\u001b[0m\n\u001b[0m\u001b[1;32m   1105\u001b[0m             \u001b[0mres\u001b[0m \u001b[0;34m=\u001b[0m \u001b[0mlibreduction\u001b[0m\u001b[0;34m.\u001b[0m\u001b[0mextract_result\u001b[0m\u001b[0;34m(\u001b[0m\u001b[0mres\u001b[0m\u001b[0;34m)\u001b[0m\u001b[0;34m\u001b[0m\u001b[0;34m\u001b[0m\u001b[0m\n\u001b[1;32m   1106\u001b[0m \u001b[0;34m\u001b[0m\u001b[0m\n",
            "\u001b[0;32m<__array_function__ internals>\u001b[0m in \u001b[0;36mamin\u001b[0;34m(*args, **kwargs)\u001b[0m\n",
            "\u001b[0;32m/usr/local/lib/python3.7/dist-packages/numpy/core/fromnumeric.py\u001b[0m in \u001b[0;36mamin\u001b[0;34m(a, axis, out, keepdims, initial, where)\u001b[0m\n\u001b[1;32m   2878\u001b[0m     \"\"\"\n\u001b[1;32m   2879\u001b[0m     return _wrapreduction(a, np.minimum, 'min', axis, None, out,\n\u001b[0;32m-> 2880\u001b[0;31m                           keepdims=keepdims, initial=initial, where=where)\n\u001b[0m\u001b[1;32m   2881\u001b[0m \u001b[0;34m\u001b[0m\u001b[0m\n\u001b[1;32m   2882\u001b[0m \u001b[0;34m\u001b[0m\u001b[0m\n",
            "\u001b[0;32m/usr/local/lib/python3.7/dist-packages/numpy/core/fromnumeric.py\u001b[0m in \u001b[0;36m_wrapreduction\u001b[0;34m(obj, ufunc, method, axis, dtype, out, **kwargs)\u001b[0m\n\u001b[1;32m     82\u001b[0m                 \u001b[0;32mreturn\u001b[0m \u001b[0mreduction\u001b[0m\u001b[0;34m(\u001b[0m\u001b[0maxis\u001b[0m\u001b[0;34m=\u001b[0m\u001b[0maxis\u001b[0m\u001b[0;34m,\u001b[0m \u001b[0mdtype\u001b[0m\u001b[0;34m=\u001b[0m\u001b[0mdtype\u001b[0m\u001b[0;34m,\u001b[0m \u001b[0mout\u001b[0m\u001b[0;34m=\u001b[0m\u001b[0mout\u001b[0m\u001b[0;34m,\u001b[0m \u001b[0;34m**\u001b[0m\u001b[0mpasskwargs\u001b[0m\u001b[0;34m)\u001b[0m\u001b[0;34m\u001b[0m\u001b[0;34m\u001b[0m\u001b[0m\n\u001b[1;32m     83\u001b[0m             \u001b[0;32melse\u001b[0m\u001b[0;34m:\u001b[0m\u001b[0;34m\u001b[0m\u001b[0;34m\u001b[0m\u001b[0m\n\u001b[0;32m---> 84\u001b[0;31m                 \u001b[0;32mreturn\u001b[0m \u001b[0mreduction\u001b[0m\u001b[0;34m(\u001b[0m\u001b[0maxis\u001b[0m\u001b[0;34m=\u001b[0m\u001b[0maxis\u001b[0m\u001b[0;34m,\u001b[0m \u001b[0mout\u001b[0m\u001b[0;34m=\u001b[0m\u001b[0mout\u001b[0m\u001b[0;34m,\u001b[0m \u001b[0;34m**\u001b[0m\u001b[0mpasskwargs\u001b[0m\u001b[0;34m)\u001b[0m\u001b[0;34m\u001b[0m\u001b[0;34m\u001b[0m\u001b[0m\n\u001b[0m\u001b[1;32m     85\u001b[0m \u001b[0;34m\u001b[0m\u001b[0m\n\u001b[1;32m     86\u001b[0m     \u001b[0;32mreturn\u001b[0m \u001b[0mufunc\u001b[0m\u001b[0;34m.\u001b[0m\u001b[0mreduce\u001b[0m\u001b[0;34m(\u001b[0m\u001b[0mobj\u001b[0m\u001b[0;34m,\u001b[0m \u001b[0maxis\u001b[0m\u001b[0;34m,\u001b[0m \u001b[0mdtype\u001b[0m\u001b[0;34m,\u001b[0m \u001b[0mout\u001b[0m\u001b[0;34m,\u001b[0m \u001b[0;34m**\u001b[0m\u001b[0mpasskwargs\u001b[0m\u001b[0;34m)\u001b[0m\u001b[0;34m\u001b[0m\u001b[0;34m\u001b[0m\u001b[0m\n",
            "\u001b[0;32m/usr/local/lib/python3.7/dist-packages/pandas/core/generic.py\u001b[0m in \u001b[0;36mmin\u001b[0;34m(self, axis, skipna, level, numeric_only, **kwargs)\u001b[0m\n\u001b[1;32m  10834\u001b[0m         )\n\u001b[1;32m  10835\u001b[0m         \u001b[0;32mdef\u001b[0m \u001b[0mmin\u001b[0m\u001b[0;34m(\u001b[0m\u001b[0mself\u001b[0m\u001b[0;34m,\u001b[0m \u001b[0maxis\u001b[0m\u001b[0;34m=\u001b[0m\u001b[0;32mNone\u001b[0m\u001b[0;34m,\u001b[0m \u001b[0mskipna\u001b[0m\u001b[0;34m=\u001b[0m\u001b[0;32mNone\u001b[0m\u001b[0;34m,\u001b[0m \u001b[0mlevel\u001b[0m\u001b[0;34m=\u001b[0m\u001b[0;32mNone\u001b[0m\u001b[0;34m,\u001b[0m \u001b[0mnumeric_only\u001b[0m\u001b[0;34m=\u001b[0m\u001b[0;32mNone\u001b[0m\u001b[0;34m,\u001b[0m \u001b[0;34m**\u001b[0m\u001b[0mkwargs\u001b[0m\u001b[0;34m)\u001b[0m\u001b[0;34m:\u001b[0m\u001b[0;34m\u001b[0m\u001b[0;34m\u001b[0m\u001b[0m\n\u001b[0;32m> 10836\u001b[0;31m             \u001b[0;32mreturn\u001b[0m \u001b[0mNDFrame\u001b[0m\u001b[0;34m.\u001b[0m\u001b[0mmin\u001b[0m\u001b[0;34m(\u001b[0m\u001b[0mself\u001b[0m\u001b[0;34m,\u001b[0m \u001b[0maxis\u001b[0m\u001b[0;34m,\u001b[0m \u001b[0mskipna\u001b[0m\u001b[0;34m,\u001b[0m \u001b[0mlevel\u001b[0m\u001b[0;34m,\u001b[0m \u001b[0mnumeric_only\u001b[0m\u001b[0;34m,\u001b[0m \u001b[0;34m**\u001b[0m\u001b[0mkwargs\u001b[0m\u001b[0;34m)\u001b[0m\u001b[0;34m\u001b[0m\u001b[0;34m\u001b[0m\u001b[0m\n\u001b[0m\u001b[1;32m  10837\u001b[0m \u001b[0;34m\u001b[0m\u001b[0m\n\u001b[1;32m  10838\u001b[0m         \u001b[0msetattr\u001b[0m\u001b[0;34m(\u001b[0m\u001b[0mcls\u001b[0m\u001b[0;34m,\u001b[0m \u001b[0;34m\"min\"\u001b[0m\u001b[0;34m,\u001b[0m \u001b[0mmin\u001b[0m\u001b[0;34m)\u001b[0m\u001b[0;34m\u001b[0m\u001b[0;34m\u001b[0m\u001b[0m\n",
            "\u001b[0;32m/usr/local/lib/python3.7/dist-packages/pandas/core/generic.py\u001b[0m in \u001b[0;36mmin\u001b[0;34m(self, axis, skipna, level, numeric_only, **kwargs)\u001b[0m\n\u001b[1;32m  10358\u001b[0m     \u001b[0;32mdef\u001b[0m \u001b[0mmin\u001b[0m\u001b[0;34m(\u001b[0m\u001b[0mself\u001b[0m\u001b[0;34m,\u001b[0m \u001b[0maxis\u001b[0m\u001b[0;34m=\u001b[0m\u001b[0;32mNone\u001b[0m\u001b[0;34m,\u001b[0m \u001b[0mskipna\u001b[0m\u001b[0;34m=\u001b[0m\u001b[0;32mNone\u001b[0m\u001b[0;34m,\u001b[0m \u001b[0mlevel\u001b[0m\u001b[0;34m=\u001b[0m\u001b[0;32mNone\u001b[0m\u001b[0;34m,\u001b[0m \u001b[0mnumeric_only\u001b[0m\u001b[0;34m=\u001b[0m\u001b[0;32mNone\u001b[0m\u001b[0;34m,\u001b[0m \u001b[0;34m**\u001b[0m\u001b[0mkwargs\u001b[0m\u001b[0;34m)\u001b[0m\u001b[0;34m:\u001b[0m\u001b[0;34m\u001b[0m\u001b[0;34m\u001b[0m\u001b[0m\n\u001b[1;32m  10359\u001b[0m         return self._stat_function(\n\u001b[0;32m> 10360\u001b[0;31m             \u001b[0;34m\"min\"\u001b[0m\u001b[0;34m,\u001b[0m \u001b[0mnanops\u001b[0m\u001b[0;34m.\u001b[0m\u001b[0mnanmin\u001b[0m\u001b[0;34m,\u001b[0m \u001b[0maxis\u001b[0m\u001b[0;34m,\u001b[0m \u001b[0mskipna\u001b[0m\u001b[0;34m,\u001b[0m \u001b[0mlevel\u001b[0m\u001b[0;34m,\u001b[0m \u001b[0mnumeric_only\u001b[0m\u001b[0;34m,\u001b[0m \u001b[0;34m**\u001b[0m\u001b[0mkwargs\u001b[0m\u001b[0;34m\u001b[0m\u001b[0;34m\u001b[0m\u001b[0m\n\u001b[0m\u001b[1;32m  10361\u001b[0m         )\n\u001b[1;32m  10362\u001b[0m \u001b[0;34m\u001b[0m\u001b[0m\n",
            "\u001b[0;32m/usr/local/lib/python3.7/dist-packages/pandas/core/generic.py\u001b[0m in \u001b[0;36m_stat_function\u001b[0;34m(self, name, func, axis, skipna, level, numeric_only, **kwargs)\u001b[0m\n\u001b[1;32m  10353\u001b[0m             )\n\u001b[1;32m  10354\u001b[0m         return self._reduce(\n\u001b[0;32m> 10355\u001b[0;31m             \u001b[0mfunc\u001b[0m\u001b[0;34m,\u001b[0m \u001b[0mname\u001b[0m\u001b[0;34m=\u001b[0m\u001b[0mname\u001b[0m\u001b[0;34m,\u001b[0m \u001b[0maxis\u001b[0m\u001b[0;34m=\u001b[0m\u001b[0maxis\u001b[0m\u001b[0;34m,\u001b[0m \u001b[0mskipna\u001b[0m\u001b[0;34m=\u001b[0m\u001b[0mskipna\u001b[0m\u001b[0;34m,\u001b[0m \u001b[0mnumeric_only\u001b[0m\u001b[0;34m=\u001b[0m\u001b[0mnumeric_only\u001b[0m\u001b[0;34m\u001b[0m\u001b[0;34m\u001b[0m\u001b[0m\n\u001b[0m\u001b[1;32m  10356\u001b[0m         )\n\u001b[1;32m  10357\u001b[0m \u001b[0;34m\u001b[0m\u001b[0m\n",
            "\u001b[0;32m/usr/local/lib/python3.7/dist-packages/pandas/core/series.py\u001b[0m in \u001b[0;36m_reduce\u001b[0;34m(self, op, name, axis, skipna, numeric_only, filter_type, **kwds)\u001b[0m\n\u001b[1;32m   4381\u001b[0m         \u001b[0;32mif\u001b[0m \u001b[0misinstance\u001b[0m\u001b[0;34m(\u001b[0m\u001b[0mdelegate\u001b[0m\u001b[0;34m,\u001b[0m \u001b[0mExtensionArray\u001b[0m\u001b[0;34m)\u001b[0m\u001b[0;34m:\u001b[0m\u001b[0;34m\u001b[0m\u001b[0;34m\u001b[0m\u001b[0m\n\u001b[1;32m   4382\u001b[0m             \u001b[0;31m# dispatch to ExtensionArray interface\u001b[0m\u001b[0;34m\u001b[0m\u001b[0;34m\u001b[0m\u001b[0;34m\u001b[0m\u001b[0m\n\u001b[0;32m-> 4383\u001b[0;31m             \u001b[0;32mreturn\u001b[0m \u001b[0mdelegate\u001b[0m\u001b[0;34m.\u001b[0m\u001b[0m_reduce\u001b[0m\u001b[0;34m(\u001b[0m\u001b[0mname\u001b[0m\u001b[0;34m,\u001b[0m \u001b[0mskipna\u001b[0m\u001b[0;34m=\u001b[0m\u001b[0mskipna\u001b[0m\u001b[0;34m,\u001b[0m \u001b[0;34m**\u001b[0m\u001b[0mkwds\u001b[0m\u001b[0;34m)\u001b[0m\u001b[0;34m\u001b[0m\u001b[0;34m\u001b[0m\u001b[0m\n\u001b[0m\u001b[1;32m   4384\u001b[0m \u001b[0;34m\u001b[0m\u001b[0m\n\u001b[1;32m   4385\u001b[0m         \u001b[0;32melse\u001b[0m\u001b[0;34m:\u001b[0m\u001b[0;34m\u001b[0m\u001b[0;34m\u001b[0m\u001b[0m\n",
            "\u001b[0;32m/usr/local/lib/python3.7/dist-packages/pandas/core/arrays/_mixins.py\u001b[0m in \u001b[0;36m_reduce\u001b[0;34m(self, name, skipna, **kwargs)\u001b[0m\n\u001b[1;32m    255\u001b[0m         \u001b[0mmeth\u001b[0m \u001b[0;34m=\u001b[0m \u001b[0mgetattr\u001b[0m\u001b[0;34m(\u001b[0m\u001b[0mself\u001b[0m\u001b[0;34m,\u001b[0m \u001b[0mname\u001b[0m\u001b[0;34m,\u001b[0m \u001b[0;32mNone\u001b[0m\u001b[0;34m)\u001b[0m\u001b[0;34m\u001b[0m\u001b[0;34m\u001b[0m\u001b[0m\n\u001b[1;32m    256\u001b[0m         \u001b[0;32mif\u001b[0m \u001b[0mmeth\u001b[0m\u001b[0;34m:\u001b[0m\u001b[0;34m\u001b[0m\u001b[0;34m\u001b[0m\u001b[0m\n\u001b[0;32m--> 257\u001b[0;31m             \u001b[0;32mreturn\u001b[0m \u001b[0mmeth\u001b[0m\u001b[0;34m(\u001b[0m\u001b[0mskipna\u001b[0m\u001b[0;34m=\u001b[0m\u001b[0mskipna\u001b[0m\u001b[0;34m,\u001b[0m \u001b[0;34m**\u001b[0m\u001b[0mkwargs\u001b[0m\u001b[0;34m)\u001b[0m\u001b[0;34m\u001b[0m\u001b[0;34m\u001b[0m\u001b[0m\n\u001b[0m\u001b[1;32m    258\u001b[0m         \u001b[0;32melse\u001b[0m\u001b[0;34m:\u001b[0m\u001b[0;34m\u001b[0m\u001b[0;34m\u001b[0m\u001b[0m\n\u001b[1;32m    259\u001b[0m             \u001b[0mmsg\u001b[0m \u001b[0;34m=\u001b[0m \u001b[0;34mf\"'{type(self).__name__}' does not implement reduction '{name}'\"\u001b[0m\u001b[0;34m\u001b[0m\u001b[0;34m\u001b[0m\u001b[0m\n",
            "\u001b[0;32m/usr/local/lib/python3.7/dist-packages/pandas/util/_decorators.py\u001b[0m in \u001b[0;36mwrapper\u001b[0;34m(*args, **kwargs)\u001b[0m\n\u001b[1;32m    205\u001b[0m                 \u001b[0;32melse\u001b[0m\u001b[0;34m:\u001b[0m\u001b[0;34m\u001b[0m\u001b[0;34m\u001b[0m\u001b[0m\n\u001b[1;32m    206\u001b[0m                     \u001b[0mkwargs\u001b[0m\u001b[0;34m[\u001b[0m\u001b[0mnew_arg_name\u001b[0m\u001b[0;34m]\u001b[0m \u001b[0;34m=\u001b[0m \u001b[0mnew_arg_value\u001b[0m\u001b[0;34m\u001b[0m\u001b[0;34m\u001b[0m\u001b[0m\n\u001b[0;32m--> 207\u001b[0;31m             \u001b[0;32mreturn\u001b[0m \u001b[0mfunc\u001b[0m\u001b[0;34m(\u001b[0m\u001b[0;34m*\u001b[0m\u001b[0margs\u001b[0m\u001b[0;34m,\u001b[0m \u001b[0;34m**\u001b[0m\u001b[0mkwargs\u001b[0m\u001b[0;34m)\u001b[0m\u001b[0;34m\u001b[0m\u001b[0;34m\u001b[0m\u001b[0m\n\u001b[0m\u001b[1;32m    208\u001b[0m \u001b[0;34m\u001b[0m\u001b[0m\n\u001b[1;32m    209\u001b[0m         \u001b[0;32mreturn\u001b[0m \u001b[0mcast\u001b[0m\u001b[0;34m(\u001b[0m\u001b[0mF\u001b[0m\u001b[0;34m,\u001b[0m \u001b[0mwrapper\u001b[0m\u001b[0;34m)\u001b[0m\u001b[0;34m\u001b[0m\u001b[0;34m\u001b[0m\u001b[0m\n",
            "\u001b[0;32m/usr/local/lib/python3.7/dist-packages/pandas/core/arrays/categorical.py\u001b[0m in \u001b[0;36mmin\u001b[0;34m(self, skipna, **kwargs)\u001b[0m\n\u001b[1;32m   2109\u001b[0m         \u001b[0mnv\u001b[0m\u001b[0;34m.\u001b[0m\u001b[0mvalidate_minmax_axis\u001b[0m\u001b[0;34m(\u001b[0m\u001b[0mkwargs\u001b[0m\u001b[0;34m.\u001b[0m\u001b[0mget\u001b[0m\u001b[0;34m(\u001b[0m\u001b[0;34m\"axis\"\u001b[0m\u001b[0;34m,\u001b[0m \u001b[0;36m0\u001b[0m\u001b[0;34m)\u001b[0m\u001b[0;34m)\u001b[0m\u001b[0;34m\u001b[0m\u001b[0;34m\u001b[0m\u001b[0m\n\u001b[1;32m   2110\u001b[0m         \u001b[0mnv\u001b[0m\u001b[0;34m.\u001b[0m\u001b[0mvalidate_min\u001b[0m\u001b[0;34m(\u001b[0m\u001b[0;34m(\u001b[0m\u001b[0;34m)\u001b[0m\u001b[0;34m,\u001b[0m \u001b[0mkwargs\u001b[0m\u001b[0;34m)\u001b[0m\u001b[0;34m\u001b[0m\u001b[0;34m\u001b[0m\u001b[0m\n\u001b[0;32m-> 2111\u001b[0;31m         \u001b[0mself\u001b[0m\u001b[0;34m.\u001b[0m\u001b[0mcheck_for_ordered\u001b[0m\u001b[0;34m(\u001b[0m\u001b[0;34m\"min\"\u001b[0m\u001b[0;34m)\u001b[0m\u001b[0;34m\u001b[0m\u001b[0;34m\u001b[0m\u001b[0m\n\u001b[0m\u001b[1;32m   2112\u001b[0m \u001b[0;34m\u001b[0m\u001b[0m\n\u001b[1;32m   2113\u001b[0m         \u001b[0;32mif\u001b[0m \u001b[0;32mnot\u001b[0m \u001b[0mlen\u001b[0m\u001b[0;34m(\u001b[0m\u001b[0mself\u001b[0m\u001b[0;34m.\u001b[0m\u001b[0m_codes\u001b[0m\u001b[0;34m)\u001b[0m\u001b[0;34m:\u001b[0m\u001b[0;34m\u001b[0m\u001b[0;34m\u001b[0m\u001b[0m\n",
            "\u001b[0;32m/usr/local/lib/python3.7/dist-packages/pandas/core/arrays/categorical.py\u001b[0m in \u001b[0;36mcheck_for_ordered\u001b[0;34m(self, op)\u001b[0m\n\u001b[1;32m   1645\u001b[0m         \u001b[0;32mif\u001b[0m \u001b[0;32mnot\u001b[0m \u001b[0mself\u001b[0m\u001b[0;34m.\u001b[0m\u001b[0mordered\u001b[0m\u001b[0;34m:\u001b[0m\u001b[0;34m\u001b[0m\u001b[0;34m\u001b[0m\u001b[0m\n\u001b[1;32m   1646\u001b[0m             raise TypeError(\n\u001b[0;32m-> 1647\u001b[0;31m                 \u001b[0;34mf\"Categorical is not ordered for operation {op}\\n\"\u001b[0m\u001b[0;34m\u001b[0m\u001b[0;34m\u001b[0m\u001b[0m\n\u001b[0m\u001b[1;32m   1648\u001b[0m                 \u001b[0;34m\"you can use .as_ordered() to change the \"\u001b[0m\u001b[0;34m\u001b[0m\u001b[0;34m\u001b[0m\u001b[0m\n\u001b[1;32m   1649\u001b[0m                 \u001b[0;34m\"Categorical to an ordered one\\n\"\u001b[0m\u001b[0;34m\u001b[0m\u001b[0;34m\u001b[0m\u001b[0m\n",
            "\u001b[0;31mTypeError\u001b[0m: Categorical is not ordered for operation min\nyou can use .as_ordered() to change the Categorical to an ordered one\n"
          ]
        }
      ]
    },
    {
      "cell_type": "code",
      "source": [],
      "metadata": {
        "id": "pEHFW0xrS5u9"
      },
      "id": "pEHFW0xrS5u9",
      "execution_count": null,
      "outputs": []
    },
    {
      "cell_type": "markdown",
      "id": "2da3bbad",
      "metadata": {
        "id": "2da3bbad"
      },
      "source": [
        "# 사람들이 어떤 제품을 가장 많이 구매하는가?"
      ]
    },
    {
      "cell_type": "markdown",
      "id": "64006789",
      "metadata": {
        "id": "64006789"
      },
      "source": [
        "event_type 중 purchase만 가져와서 확인하겠습니다."
      ]
    },
    {
      "cell_type": "code",
      "execution_count": null,
      "id": "15460d94",
      "metadata": {
        "ExecuteTime": {
          "end_time": "2022-09-16T08:07:58.248989Z",
          "start_time": "2022-09-16T08:07:58.112967Z"
        },
        "id": "15460d94",
        "outputId": "4979d06c-fa15-40b3-eeec-bdc629d699c1"
      },
      "outputs": [
        {
          "data": {
            "text/plain": [
              "(742849, 9)"
            ]
          },
          "execution_count": 165,
          "metadata": {},
          "output_type": "execute_result"
        }
      ],
      "source": [
        "purchase = copy_df.loc[copy_df['event_type'] == 'purchase']\n",
        "purchase.shape"
      ]
    },
    {
      "cell_type": "code",
      "execution_count": null,
      "id": "fdd37f9b",
      "metadata": {
        "ExecuteTime": {
          "end_time": "2022-09-16T08:08:07.805661Z",
          "start_time": "2022-09-16T08:08:07.781661Z"
        },
        "id": "fdd37f9b",
        "outputId": "f0307bde-6b66-4000-9323-cd45c6bc3483"
      },
      "outputs": [
        {
          "data": {
            "text/html": [
              "<div>\n",
              "<style scoped>\n",
              "    .dataframe tbody tr th:only-of-type {\n",
              "        vertical-align: middle;\n",
              "    }\n",
              "\n",
              "    .dataframe tbody tr th {\n",
              "        vertical-align: top;\n",
              "    }\n",
              "\n",
              "    .dataframe thead th {\n",
              "        text-align: right;\n",
              "    }\n",
              "</style>\n",
              "<table border=\"1\" class=\"dataframe\">\n",
              "  <thead>\n",
              "    <tr style=\"text-align: right;\">\n",
              "      <th></th>\n",
              "      <th>event_time</th>\n",
              "      <th>event_type</th>\n",
              "      <th>product_id</th>\n",
              "      <th>category_id</th>\n",
              "      <th>category_code</th>\n",
              "      <th>brand</th>\n",
              "      <th>price</th>\n",
              "      <th>user_id</th>\n",
              "      <th>user_session</th>\n",
              "    </tr>\n",
              "  </thead>\n",
              "  <tbody>\n",
              "    <tr>\n",
              "      <th>162</th>\n",
              "      <td>2019-10-01 00:02:14</td>\n",
              "      <td>purchase</td>\n",
              "      <td>1004856</td>\n",
              "      <td>-1769995873</td>\n",
              "      <td>electronics.smartphone</td>\n",
              "      <td>samsung</td>\n",
              "      <td>130.759995</td>\n",
              "      <td>543272936</td>\n",
              "      <td>8187d148-3c41-46d4-b0c0-9c08cd9dc564</td>\n",
              "    </tr>\n",
              "    <tr>\n",
              "      <th>308</th>\n",
              "      <td>2019-10-01 00:04:37</td>\n",
              "      <td>purchase</td>\n",
              "      <td>1002532</td>\n",
              "      <td>-1769995873</td>\n",
              "      <td>electronics.smartphone</td>\n",
              "      <td>apple</td>\n",
              "      <td>642.690002</td>\n",
              "      <td>551377651</td>\n",
              "      <td>3c80f0d6-e9ec-4181-8c5c-837a30be2d68</td>\n",
              "    </tr>\n",
              "    <tr>\n",
              "      <th>379</th>\n",
              "      <td>2019-10-01 00:06:02</td>\n",
              "      <td>purchase</td>\n",
              "      <td>5100816</td>\n",
              "      <td>268435735</td>\n",
              "      <td>NaN</td>\n",
              "      <td>xiaomi</td>\n",
              "      <td>29.510000</td>\n",
              "      <td>514591159</td>\n",
              "      <td>0e5dfc4b-2a55-43e6-8c05-97e1f07fbb56</td>\n",
              "    </tr>\n",
              "    <tr>\n",
              "      <th>442</th>\n",
              "      <td>2019-10-01 00:07:07</td>\n",
              "      <td>purchase</td>\n",
              "      <td>13800054</td>\n",
              "      <td>16777737</td>\n",
              "      <td>furniture.bathroom.toilet</td>\n",
              "      <td>santeri</td>\n",
              "      <td>54.419998</td>\n",
              "      <td>555332717</td>\n",
              "      <td>1dea3ee2-2ded-42e8-8e7a-4e2ad6ae942f</td>\n",
              "    </tr>\n",
              "    <tr>\n",
              "      <th>574</th>\n",
              "      <td>2019-10-01 00:09:26</td>\n",
              "      <td>purchase</td>\n",
              "      <td>4804055</td>\n",
              "      <td>1551892843</td>\n",
              "      <td>electronics.audio.headphone</td>\n",
              "      <td>apple</td>\n",
              "      <td>189.910004</td>\n",
              "      <td>524601178</td>\n",
              "      <td>2af9b570-0942-4dcd-8f25-4d84fba82553</td>\n",
              "    </tr>\n",
              "  </tbody>\n",
              "</table>\n",
              "</div>"
            ],
            "text/plain": [
              "             event_time event_type  product_id  category_id  \\\n",
              "162 2019-10-01 00:02:14   purchase     1004856  -1769995873   \n",
              "308 2019-10-01 00:04:37   purchase     1002532  -1769995873   \n",
              "379 2019-10-01 00:06:02   purchase     5100816    268435735   \n",
              "442 2019-10-01 00:07:07   purchase    13800054     16777737   \n",
              "574 2019-10-01 00:09:26   purchase     4804055   1551892843   \n",
              "\n",
              "                   category_code    brand       price    user_id  \\\n",
              "162       electronics.smartphone  samsung  130.759995  543272936   \n",
              "308       electronics.smartphone    apple  642.690002  551377651   \n",
              "379                          NaN   xiaomi   29.510000  514591159   \n",
              "442    furniture.bathroom.toilet  santeri   54.419998  555332717   \n",
              "574  electronics.audio.headphone    apple  189.910004  524601178   \n",
              "\n",
              "                             user_session  \n",
              "162  8187d148-3c41-46d4-b0c0-9c08cd9dc564  \n",
              "308  3c80f0d6-e9ec-4181-8c5c-837a30be2d68  \n",
              "379  0e5dfc4b-2a55-43e6-8c05-97e1f07fbb56  \n",
              "442  1dea3ee2-2ded-42e8-8e7a-4e2ad6ae942f  \n",
              "574  2af9b570-0942-4dcd-8f25-4d84fba82553  "
            ]
          },
          "execution_count": 166,
          "metadata": {},
          "output_type": "execute_result"
        }
      ],
      "source": [
        "purchase.head()"
      ]
    },
    {
      "cell_type": "code",
      "execution_count": null,
      "id": "00dc4ab1",
      "metadata": {
        "ExecuteTime": {
          "end_time": "2022-09-16T09:07:05.231827Z",
          "start_time": "2022-09-16T09:07:05.209827Z"
        },
        "id": "00dc4ab1"
      },
      "outputs": [],
      "source": [
        "top10_product = purchase['product_id'].value_counts()[:10]"
      ]
    },
    {
      "cell_type": "code",
      "execution_count": null,
      "id": "53e5504c",
      "metadata": {
        "ExecuteTime": {
          "end_time": "2022-09-16T09:07:05.532857Z",
          "start_time": "2022-09-16T09:07:05.459847Z"
        },
        "id": "53e5504c"
      },
      "outputs": [],
      "source": [
        "products = []\n",
        "for i in range(len(top10_product)):\n",
        "    product = top10_product.index[i]\n",
        "    count = top10_product.values[i]\n",
        "    category_code = purchase.loc[purchase['product_id']==product]['category_code'].unique()[0]\n",
        "    brand = purchase.loc[purchase['product_id']==product]['brand'].unique()[0]\n",
        "    \n",
        "    products.append([product,category_code, brand, count])"
      ]
    },
    {
      "cell_type": "code",
      "execution_count": null,
      "id": "03b3cc72",
      "metadata": {
        "ExecuteTime": {
          "end_time": "2022-09-16T09:07:28.176476Z",
          "start_time": "2022-09-16T09:07:28.159478Z"
        },
        "id": "03b3cc72",
        "outputId": "92f723b7-3380-4221-ff23-aa00206be445"
      },
      "outputs": [
        {
          "data": {
            "text/html": [
              "<div>\n",
              "<style scoped>\n",
              "    .dataframe tbody tr th:only-of-type {\n",
              "        vertical-align: middle;\n",
              "    }\n",
              "\n",
              "    .dataframe tbody tr th {\n",
              "        vertical-align: top;\n",
              "    }\n",
              "\n",
              "    .dataframe thead th {\n",
              "        text-align: right;\n",
              "    }\n",
              "</style>\n",
              "<table border=\"1\" class=\"dataframe\">\n",
              "  <thead>\n",
              "    <tr style=\"text-align: right;\">\n",
              "      <th></th>\n",
              "      <th>product_id</th>\n",
              "      <th>category_code</th>\n",
              "      <th>brand</th>\n",
              "      <th>count</th>\n",
              "    </tr>\n",
              "  </thead>\n",
              "  <tbody>\n",
              "    <tr>\n",
              "      <th>0</th>\n",
              "      <td>1004856</td>\n",
              "      <td>electronics.smartphone</td>\n",
              "      <td>samsung</td>\n",
              "      <td>28944</td>\n",
              "    </tr>\n",
              "    <tr>\n",
              "      <th>1</th>\n",
              "      <td>1004767</td>\n",
              "      <td>electronics.smartphone</td>\n",
              "      <td>samsung</td>\n",
              "      <td>21806</td>\n",
              "    </tr>\n",
              "    <tr>\n",
              "      <th>2</th>\n",
              "      <td>1004833</td>\n",
              "      <td>electronics.smartphone</td>\n",
              "      <td>samsung</td>\n",
              "      <td>12697</td>\n",
              "    </tr>\n",
              "    <tr>\n",
              "      <th>3</th>\n",
              "      <td>1005115</td>\n",
              "      <td>electronics.smartphone</td>\n",
              "      <td>apple</td>\n",
              "      <td>12543</td>\n",
              "    </tr>\n",
              "    <tr>\n",
              "      <th>4</th>\n",
              "      <td>4804056</td>\n",
              "      <td>electronics.audio.headphone</td>\n",
              "      <td>apple</td>\n",
              "      <td>12381</td>\n",
              "    </tr>\n",
              "    <tr>\n",
              "      <th>5</th>\n",
              "      <td>1004870</td>\n",
              "      <td>electronics.smartphone</td>\n",
              "      <td>samsung</td>\n",
              "      <td>10615</td>\n",
              "    </tr>\n",
              "    <tr>\n",
              "      <th>6</th>\n",
              "      <td>1002544</td>\n",
              "      <td>electronics.smartphone</td>\n",
              "      <td>apple</td>\n",
              "      <td>10549</td>\n",
              "    </tr>\n",
              "    <tr>\n",
              "      <th>7</th>\n",
              "      <td>1004249</td>\n",
              "      <td>electronics.smartphone</td>\n",
              "      <td>apple</td>\n",
              "      <td>9090</td>\n",
              "    </tr>\n",
              "    <tr>\n",
              "      <th>8</th>\n",
              "      <td>1004836</td>\n",
              "      <td>electronics.smartphone</td>\n",
              "      <td>samsung</td>\n",
              "      <td>7691</td>\n",
              "    </tr>\n",
              "    <tr>\n",
              "      <th>9</th>\n",
              "      <td>1005105</td>\n",
              "      <td>electronics.smartphone</td>\n",
              "      <td>apple</td>\n",
              "      <td>7293</td>\n",
              "    </tr>\n",
              "  </tbody>\n",
              "</table>\n",
              "</div>"
            ],
            "text/plain": [
              "   product_id                category_code    brand  count\n",
              "0     1004856       electronics.smartphone  samsung  28944\n",
              "1     1004767       electronics.smartphone  samsung  21806\n",
              "2     1004833       electronics.smartphone  samsung  12697\n",
              "3     1005115       electronics.smartphone    apple  12543\n",
              "4     4804056  electronics.audio.headphone    apple  12381\n",
              "5     1004870       electronics.smartphone  samsung  10615\n",
              "6     1002544       electronics.smartphone    apple  10549\n",
              "7     1004249       electronics.smartphone    apple   9090\n",
              "8     1004836       electronics.smartphone  samsung   7691\n",
              "9     1005105       electronics.smartphone    apple   7293"
            ]
          },
          "execution_count": 244,
          "metadata": {},
          "output_type": "execute_result"
        }
      ],
      "source": [
        "pd.DataFrame(products, columns=['product_id','category_code','brand','count'])"
      ]
    },
    {
      "cell_type": "markdown",
      "id": "568e8465",
      "metadata": {
        "id": "568e8465"
      },
      "source": [
        " "
      ]
    }
  ],
  "metadata": {
    "kernelspec": {
      "display_name": "Python 3 (ipykernel)",
      "language": "python",
      "name": "python3"
    },
    "language_info": {
      "codemirror_mode": {
        "name": "ipython",
        "version": 3
      },
      "file_extension": ".py",
      "mimetype": "text/x-python",
      "name": "python",
      "nbconvert_exporter": "python",
      "pygments_lexer": "ipython3",
      "version": "3.7.13"
    },
    "toc": {
      "base_numbering": 1,
      "nav_menu": {},
      "number_sections": true,
      "sideBar": true,
      "skip_h1_title": false,
      "title_cell": "Table of Contents",
      "title_sidebar": "Contents",
      "toc_cell": false,
      "toc_position": {},
      "toc_section_display": true,
      "toc_window_display": false
    },
    "varInspector": {
      "cols": {
        "lenName": 16,
        "lenType": 16,
        "lenVar": 40
      },
      "kernels_config": {
        "python": {
          "delete_cmd_postfix": "",
          "delete_cmd_prefix": "del ",
          "library": "var_list.py",
          "varRefreshCmd": "print(var_dic_list())"
        },
        "r": {
          "delete_cmd_postfix": ") ",
          "delete_cmd_prefix": "rm(",
          "library": "var_list.r",
          "varRefreshCmd": "cat(var_dic_list()) "
        }
      },
      "types_to_exclude": [
        "module",
        "function",
        "builtin_function_or_method",
        "instance",
        "_Feature"
      ],
      "window_display": false
    },
    "colab": {
      "provenance": [],
      "collapsed_sections": []
    }
  },
  "nbformat": 4,
  "nbformat_minor": 5
}