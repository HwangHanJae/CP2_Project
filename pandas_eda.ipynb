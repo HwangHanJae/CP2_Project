{
 "cells": [
  {
   "cell_type": "markdown",
   "id": "3bbf9a2b",
   "metadata": {
    "id": "3bbf9a2b"
   },
   "source": [
    "# 가정\n",
    "국가는 **아랍에미리트**, 이커머스 사이트를 **아마존**이라고 가정\n",
    "\n",
    "- 참고링크1 : https://blog.naver.com/fedex_kr/222697326719\n",
    "- 참고링크2 : https://blog.naver.com/dhzhdapxk/222279313175\n",
    "\n",
    "아랍에미리트의 전자상거래시장의 성장률을 19년도 이후부터 상승하고 있으며,  \n",
    "2017년도 7월 중동 최대 온라인 쇼핑몰인 수크 닷컴을 아마존에서 인수하였음."
   ]
  },
  {
   "cell_type": "markdown",
   "id": "f7225ce8",
   "metadata": {
    "id": "f7225ce8"
   },
   "source": [
    "# 라이브러리 로드"
   ]
  },
  {
   "cell_type": "code",
   "execution_count": 1,
   "id": "i1vlOkVBRHW3",
   "metadata": {
    "colab": {
     "base_uri": "https://localhost:8080/"
    },
    "id": "i1vlOkVBRHW3",
    "outputId": "6073c383-9027-4f10-a837-eab909e230e6"
   },
   "outputs": [
    {
     "name": "stdout",
     "output_type": "stream",
     "text": [
      "Looking in indexes: https://pypi.org/simple, https://us-python.pkg.dev/colab-wheels/public/simple/\n",
      "Collecting fastparquet\n",
      "  Downloading fastparquet-0.8.1-cp37-cp37m-manylinux_2_17_x86_64.manylinux2014_x86_64.whl (1.5 MB)\n",
      "\u001b[K     |████████████████████████████████| 1.5 MB 25.2 MB/s \n",
      "\u001b[?25hRequirement already satisfied: pandas>=1.1.0 in /usr/local/lib/python3.7/dist-packages (from fastparquet) (1.3.5)\n",
      "Collecting cramjam>=2.3.0\n",
      "  Downloading cramjam-2.5.0-cp37-cp37m-manylinux_2_5_x86_64.manylinux1_x86_64.whl (1.6 MB)\n",
      "\u001b[K     |████████████████████████████████| 1.6 MB 52.3 MB/s \n",
      "\u001b[?25hRequirement already satisfied: fsspec in /usr/local/lib/python3.7/dist-packages (from fastparquet) (2022.8.2)\n",
      "Requirement already satisfied: numpy>=1.18 in /usr/local/lib/python3.7/dist-packages (from fastparquet) (1.21.6)\n",
      "Requirement already satisfied: pytz>=2017.3 in /usr/local/lib/python3.7/dist-packages (from pandas>=1.1.0->fastparquet) (2022.2.1)\n",
      "Requirement already satisfied: python-dateutil>=2.7.3 in /usr/local/lib/python3.7/dist-packages (from pandas>=1.1.0->fastparquet) (2.8.2)\n",
      "Requirement already satisfied: six>=1.5 in /usr/local/lib/python3.7/dist-packages (from python-dateutil>=2.7.3->pandas>=1.1.0->fastparquet) (1.15.0)\n",
      "Installing collected packages: cramjam, fastparquet\n",
      "Successfully installed cramjam-2.5.0 fastparquet-0.8.1\n"
     ]
    }
   ],
   "source": [
    "#!pip install fastparquet"
   ]
  },
  {
   "cell_type": "code",
   "execution_count": 1,
   "id": "74aaf1e5",
   "metadata": {
    "ExecuteTime": {
     "end_time": "2022-09-20T14:29:22.262629Z",
     "start_time": "2022-09-20T14:29:20.300028Z"
    },
    "id": "74aaf1e5"
   },
   "outputs": [],
   "source": [
    "import pandas as pd\n",
    "import numpy as np\n",
    "from tqdm import tqdm\n",
    "import matplotlib.pyplot as plt\n",
    "import seaborn as sns\n",
    "\n",
    "plt.style.use('ggplot')"
   ]
  },
  {
   "cell_type": "code",
   "execution_count": 3,
   "id": "lC3UcMm9Q2FQ",
   "metadata": {
    "colab": {
     "base_uri": "https://localhost:8080/"
    },
    "id": "lC3UcMm9Q2FQ",
    "outputId": "b89b7eb6-256f-4c83-a28e-c35408046855"
   },
   "outputs": [
    {
     "name": "stdout",
     "output_type": "stream",
     "text": [
      "Mounted at /content/drive\n"
     ]
    }
   ],
   "source": [
    "# from google.colab import drive\n",
    "# drive.mount('/content/drive')"
   ]
  },
  {
   "cell_type": "markdown",
   "id": "a81c8af0",
   "metadata": {
    "id": "a81c8af0"
   },
   "source": [
    "# 데이터 로드"
   ]
  },
  {
   "cell_type": "code",
   "execution_count": 2,
   "id": "c393ac89",
   "metadata": {
    "ExecuteTime": {
     "end_time": "2022-09-20T14:29:30.475299Z",
     "start_time": "2022-09-20T14:29:24.710389Z"
    },
    "colab": {
     "base_uri": "https://localhost:8080/",
     "height": 206
    },
    "id": "c393ac89",
    "outputId": "d24390bf-c83e-4a76-d62f-d6b004f59cc3"
   },
   "outputs": [
    {
     "data": {
      "text/html": [
       "<div>\n",
       "<style scoped>\n",
       "    .dataframe tbody tr th:only-of-type {\n",
       "        vertical-align: middle;\n",
       "    }\n",
       "\n",
       "    .dataframe tbody tr th {\n",
       "        vertical-align: top;\n",
       "    }\n",
       "\n",
       "    .dataframe thead th {\n",
       "        text-align: right;\n",
       "    }\n",
       "</style>\n",
       "<table border=\"1\" class=\"dataframe\">\n",
       "  <thead>\n",
       "    <tr style=\"text-align: right;\">\n",
       "      <th></th>\n",
       "      <th>event_time</th>\n",
       "      <th>event_type</th>\n",
       "      <th>product_id</th>\n",
       "      <th>category_id</th>\n",
       "      <th>category_code</th>\n",
       "      <th>brand</th>\n",
       "      <th>price</th>\n",
       "      <th>user_id</th>\n",
       "      <th>user_session</th>\n",
       "    </tr>\n",
       "  </thead>\n",
       "  <tbody>\n",
       "    <tr>\n",
       "      <th>0</th>\n",
       "      <td>2019-10-01 00:00:00 UTC</td>\n",
       "      <td>view</td>\n",
       "      <td>44600062</td>\n",
       "      <td>-251657396</td>\n",
       "      <td>NaN</td>\n",
       "      <td>shiseido</td>\n",
       "      <td>35.790001</td>\n",
       "      <td>541312140</td>\n",
       "      <td>72d76fde-8bb3-4e00-8c23-a032dfed738c</td>\n",
       "    </tr>\n",
       "    <tr>\n",
       "      <th>1</th>\n",
       "      <td>2019-10-01 00:00:00 UTC</td>\n",
       "      <td>view</td>\n",
       "      <td>3900821</td>\n",
       "      <td>-780140327</td>\n",
       "      <td>appliances.environment.water_heater</td>\n",
       "      <td>aqua</td>\n",
       "      <td>33.200001</td>\n",
       "      <td>554748717</td>\n",
       "      <td>9333dfbd-b87a-4708-9857-6336556b0fcc</td>\n",
       "    </tr>\n",
       "    <tr>\n",
       "      <th>2</th>\n",
       "      <td>2019-10-01 00:00:01 UTC</td>\n",
       "      <td>view</td>\n",
       "      <td>17200506</td>\n",
       "      <td>-1904213353</td>\n",
       "      <td>furniture.living_room.sofa</td>\n",
       "      <td>NaN</td>\n",
       "      <td>543.099976</td>\n",
       "      <td>519107250</td>\n",
       "      <td>566511c2-e2e3-422b-b695-cf8e6e792ca8</td>\n",
       "    </tr>\n",
       "    <tr>\n",
       "      <th>3</th>\n",
       "      <td>2019-10-01 00:00:01 UTC</td>\n",
       "      <td>view</td>\n",
       "      <td>1307067</td>\n",
       "      <td>1518338663</td>\n",
       "      <td>computers.notebook</td>\n",
       "      <td>lenovo</td>\n",
       "      <td>251.740005</td>\n",
       "      <td>550050854</td>\n",
       "      <td>7c90fc70-0e80-4590-96f3-13c02c18c713</td>\n",
       "    </tr>\n",
       "    <tr>\n",
       "      <th>4</th>\n",
       "      <td>2019-10-01 00:00:04 UTC</td>\n",
       "      <td>view</td>\n",
       "      <td>1004237</td>\n",
       "      <td>-1769995873</td>\n",
       "      <td>electronics.smartphone</td>\n",
       "      <td>apple</td>\n",
       "      <td>1081.979980</td>\n",
       "      <td>535871217</td>\n",
       "      <td>c6bd7419-2748-4c56-95b4-8cec9ff8b80d</td>\n",
       "    </tr>\n",
       "  </tbody>\n",
       "</table>\n",
       "</div>"
      ],
      "text/plain": [
       "                event_time event_type  product_id  category_id  \\\n",
       "0  2019-10-01 00:00:00 UTC       view    44600062   -251657396   \n",
       "1  2019-10-01 00:00:00 UTC       view     3900821   -780140327   \n",
       "2  2019-10-01 00:00:01 UTC       view    17200506  -1904213353   \n",
       "3  2019-10-01 00:00:01 UTC       view     1307067   1518338663   \n",
       "4  2019-10-01 00:00:04 UTC       view     1004237  -1769995873   \n",
       "\n",
       "                         category_code     brand        price    user_id  \\\n",
       "0                                  NaN  shiseido    35.790001  541312140   \n",
       "1  appliances.environment.water_heater      aqua    33.200001  554748717   \n",
       "2           furniture.living_room.sofa       NaN   543.099976  519107250   \n",
       "3                   computers.notebook    lenovo   251.740005  550050854   \n",
       "4               electronics.smartphone     apple  1081.979980  535871217   \n",
       "\n",
       "                           user_session  \n",
       "0  72d76fde-8bb3-4e00-8c23-a032dfed738c  \n",
       "1  9333dfbd-b87a-4708-9857-6336556b0fcc  \n",
       "2  566511c2-e2e3-422b-b695-cf8e6e792ca8  \n",
       "3  7c90fc70-0e80-4590-96f3-13c02c18c713  \n",
       "4  c6bd7419-2748-4c56-95b4-8cec9ff8b80d  "
      ]
     },
     "execution_count": 2,
     "metadata": {},
     "output_type": "execute_result"
    }
   ],
   "source": [
    "try:\n",
    "  path = 'C:/Users/User/Desktop/AIB_13/CP2/data/'\n",
    "  df = pd.read_parquet(path + 'light_2019-Oct.parquet', engine='fastparquet')\n",
    "except:\n",
    "  path = '/content/drive/MyDrive/CP2/data/'\n",
    "  df = pd.read_parquet(path + 'light_2019-Oct.parquet', engine='fastparquet')\n",
    "\n",
    "df.head()"
   ]
  },
  {
   "cell_type": "markdown",
   "id": "224b90d5",
   "metadata": {
    "id": "224b90d5"
   },
   "source": [
    "## 혹시 모를경우를 대비하여 df 복사"
   ]
  },
  {
   "cell_type": "code",
   "execution_count": 3,
   "id": "0d44defe",
   "metadata": {
    "ExecuteTime": {
     "end_time": "2022-09-20T14:29:42.012607Z",
     "start_time": "2022-09-20T14:29:41.834610Z"
    },
    "colab": {
     "base_uri": "https://localhost:8080/",
     "height": 206
    },
    "id": "0d44defe",
    "outputId": "a6f9db30-2b2b-49b2-a47a-657219e156b4",
    "scrolled": true
   },
   "outputs": [
    {
     "data": {
      "text/html": [
       "<div>\n",
       "<style scoped>\n",
       "    .dataframe tbody tr th:only-of-type {\n",
       "        vertical-align: middle;\n",
       "    }\n",
       "\n",
       "    .dataframe tbody tr th {\n",
       "        vertical-align: top;\n",
       "    }\n",
       "\n",
       "    .dataframe thead th {\n",
       "        text-align: right;\n",
       "    }\n",
       "</style>\n",
       "<table border=\"1\" class=\"dataframe\">\n",
       "  <thead>\n",
       "    <tr style=\"text-align: right;\">\n",
       "      <th></th>\n",
       "      <th>event_time</th>\n",
       "      <th>event_type</th>\n",
       "      <th>product_id</th>\n",
       "      <th>category_id</th>\n",
       "      <th>category_code</th>\n",
       "      <th>brand</th>\n",
       "      <th>price</th>\n",
       "      <th>user_id</th>\n",
       "      <th>user_session</th>\n",
       "    </tr>\n",
       "  </thead>\n",
       "  <tbody>\n",
       "    <tr>\n",
       "      <th>0</th>\n",
       "      <td>2019-10-01 00:00:00 UTC</td>\n",
       "      <td>view</td>\n",
       "      <td>44600062</td>\n",
       "      <td>-251657396</td>\n",
       "      <td>NaN</td>\n",
       "      <td>shiseido</td>\n",
       "      <td>35.790001</td>\n",
       "      <td>541312140</td>\n",
       "      <td>72d76fde-8bb3-4e00-8c23-a032dfed738c</td>\n",
       "    </tr>\n",
       "    <tr>\n",
       "      <th>1</th>\n",
       "      <td>2019-10-01 00:00:00 UTC</td>\n",
       "      <td>view</td>\n",
       "      <td>3900821</td>\n",
       "      <td>-780140327</td>\n",
       "      <td>appliances.environment.water_heater</td>\n",
       "      <td>aqua</td>\n",
       "      <td>33.200001</td>\n",
       "      <td>554748717</td>\n",
       "      <td>9333dfbd-b87a-4708-9857-6336556b0fcc</td>\n",
       "    </tr>\n",
       "    <tr>\n",
       "      <th>2</th>\n",
       "      <td>2019-10-01 00:00:01 UTC</td>\n",
       "      <td>view</td>\n",
       "      <td>17200506</td>\n",
       "      <td>-1904213353</td>\n",
       "      <td>furniture.living_room.sofa</td>\n",
       "      <td>NaN</td>\n",
       "      <td>543.099976</td>\n",
       "      <td>519107250</td>\n",
       "      <td>566511c2-e2e3-422b-b695-cf8e6e792ca8</td>\n",
       "    </tr>\n",
       "    <tr>\n",
       "      <th>3</th>\n",
       "      <td>2019-10-01 00:00:01 UTC</td>\n",
       "      <td>view</td>\n",
       "      <td>1307067</td>\n",
       "      <td>1518338663</td>\n",
       "      <td>computers.notebook</td>\n",
       "      <td>lenovo</td>\n",
       "      <td>251.740005</td>\n",
       "      <td>550050854</td>\n",
       "      <td>7c90fc70-0e80-4590-96f3-13c02c18c713</td>\n",
       "    </tr>\n",
       "    <tr>\n",
       "      <th>4</th>\n",
       "      <td>2019-10-01 00:00:04 UTC</td>\n",
       "      <td>view</td>\n",
       "      <td>1004237</td>\n",
       "      <td>-1769995873</td>\n",
       "      <td>electronics.smartphone</td>\n",
       "      <td>apple</td>\n",
       "      <td>1081.979980</td>\n",
       "      <td>535871217</td>\n",
       "      <td>c6bd7419-2748-4c56-95b4-8cec9ff8b80d</td>\n",
       "    </tr>\n",
       "  </tbody>\n",
       "</table>\n",
       "</div>"
      ],
      "text/plain": [
       "                event_time event_type  product_id  category_id  \\\n",
       "0  2019-10-01 00:00:00 UTC       view    44600062   -251657396   \n",
       "1  2019-10-01 00:00:00 UTC       view     3900821   -780140327   \n",
       "2  2019-10-01 00:00:01 UTC       view    17200506  -1904213353   \n",
       "3  2019-10-01 00:00:01 UTC       view     1307067   1518338663   \n",
       "4  2019-10-01 00:00:04 UTC       view     1004237  -1769995873   \n",
       "\n",
       "                         category_code     brand        price    user_id  \\\n",
       "0                                  NaN  shiseido    35.790001  541312140   \n",
       "1  appliances.environment.water_heater      aqua    33.200001  554748717   \n",
       "2           furniture.living_room.sofa       NaN   543.099976  519107250   \n",
       "3                   computers.notebook    lenovo   251.740005  550050854   \n",
       "4               electronics.smartphone     apple  1081.979980  535871217   \n",
       "\n",
       "                           user_session  \n",
       "0  72d76fde-8bb3-4e00-8c23-a032dfed738c  \n",
       "1  9333dfbd-b87a-4708-9857-6336556b0fcc  \n",
       "2  566511c2-e2e3-422b-b695-cf8e6e792ca8  \n",
       "3  7c90fc70-0e80-4590-96f3-13c02c18c713  \n",
       "4  c6bd7419-2748-4c56-95b4-8cec9ff8b80d  "
      ]
     },
     "execution_count": 3,
     "metadata": {},
     "output_type": "execute_result"
    }
   ],
   "source": [
    "copy_df = df.copy()\n",
    "copy_df.head()"
   ]
  },
  {
   "cell_type": "markdown",
   "id": "68477f2e",
   "metadata": {
    "id": "68477f2e"
   },
   "source": [
    "# 데이터 확인"
   ]
  },
  {
   "cell_type": "code",
   "execution_count": 4,
   "id": "16684524",
   "metadata": {
    "ExecuteTime": {
     "end_time": "2022-09-20T14:29:42.582592Z",
     "start_time": "2022-09-20T14:29:42.044622Z"
    },
    "colab": {
     "base_uri": "https://localhost:8080/"
    },
    "id": "16684524",
    "outputId": "b8ddd316-c314-4bed-b643-3e27404cb12c"
   },
   "outputs": [
    {
     "data": {
      "text/plain": [
       "event_time              0\n",
       "event_type              0\n",
       "product_id              0\n",
       "category_id             0\n",
       "category_code    13515609\n",
       "brand             6117080\n",
       "price                   0\n",
       "user_id                 0\n",
       "user_session            2\n",
       "dtype: int64"
      ]
     },
     "execution_count": 4,
     "metadata": {},
     "output_type": "execute_result"
    }
   ],
   "source": [
    "copy_df.isnull().sum()"
   ]
  },
  {
   "cell_type": "markdown",
   "id": "3530978d",
   "metadata": {
    "id": "3530978d"
   },
   "source": [
    "category_code와 brand 컬럼의 결측치가 존재하는 것으로 확인됩니다."
   ]
  },
  {
   "cell_type": "code",
   "execution_count": 5,
   "id": "72771aed",
   "metadata": {
    "ExecuteTime": {
     "end_time": "2022-09-20T14:29:43.167574Z",
     "start_time": "2022-09-20T14:29:42.614610Z"
    },
    "colab": {
     "base_uri": "https://localhost:8080/"
    },
    "id": "72771aed",
    "outputId": "7320d3a1-82b6-43ba-df2e-c01c88a2f5f4"
   },
   "outputs": [
    {
     "data": {
      "text/plain": [
       "event_time        0.000000\n",
       "event_type        0.000000\n",
       "product_id        0.000000\n",
       "category_id       0.000000\n",
       "category_code    31.839818\n",
       "brand            14.410502\n",
       "price             0.000000\n",
       "user_id           0.000000\n",
       "user_session      0.000005\n",
       "dtype: float64"
      ]
     },
     "execution_count": 5,
     "metadata": {},
     "output_type": "execute_result"
    }
   ],
   "source": [
    "copy_df.isnull().sum() / len(copy_df) * 100"
   ]
  },
  {
   "cell_type": "markdown",
   "id": "ef03a117",
   "metadata": {
    "id": "ef03a117"
   },
   "source": [
    "결측치는\n",
    "- **category_code : 31%**\n",
    "- **brand : 14%**\n",
    "\n",
    "입니다."
   ]
  },
  {
   "cell_type": "markdown",
   "id": "bd9ceda8",
   "metadata": {
    "id": "bd9ceda8"
   },
   "source": [
    "## event_time"
   ]
  },
  {
   "cell_type": "markdown",
   "id": "94846bd5",
   "metadata": {
    "id": "94846bd5"
   },
   "source": [
    "event_time 컬럼은 현재 `str`로 되어 있습니다.  \n",
    "1. 2019-10-01 부터 2019-10-31 까지 수집했으며, 맨 뒤에 UTC가 붙어 삭제처리를 해야합니다.\n",
    "2. 날짜를 쉽게 추출할 수 있도록 datetime으로 변경합니다."
   ]
  },
  {
   "cell_type": "code",
   "execution_count": 6,
   "id": "ff9f05c1",
   "metadata": {
    "ExecuteTime": {
     "end_time": "2022-09-20T14:29:45.687507Z",
     "start_time": "2022-09-20T14:29:43.198578Z"
    },
    "id": "ff9f05c1"
   },
   "outputs": [],
   "source": [
    "copy_df['event_time'] = copy_df['event_time'].apply(lambda x : x[:-4])"
   ]
  },
  {
   "cell_type": "code",
   "execution_count": 7,
   "id": "343a74f8",
   "metadata": {
    "ExecuteTime": {
     "end_time": "2022-09-20T14:29:49.753433Z",
     "start_time": "2022-09-20T14:29:45.720525Z"
    },
    "id": "343a74f8"
   },
   "outputs": [],
   "source": [
    "copy_df['event_time'] = pd.to_datetime(copy_df['event_time'])"
   ]
  },
  {
   "cell_type": "markdown",
   "id": "fd7bb7c3",
   "metadata": {
    "id": "fd7bb7c3"
   },
   "source": [
    "## event_type\n",
    "event_time은 사용자가 어떤 행동을 하였는지 확인할 수 있습니다.\n",
    "- view\n",
    "- purchase\n",
    "- cart"
   ]
  },
  {
   "cell_type": "code",
   "execution_count": 8,
   "id": "ac1ca238",
   "metadata": {
    "ExecuteTime": {
     "end_time": "2022-09-20T14:29:50.068437Z",
     "start_time": "2022-09-20T14:29:49.845435Z"
    },
    "colab": {
     "base_uri": "https://localhost:8080/"
    },
    "id": "ac1ca238",
    "outputId": "950ae9c2-df41-492d-8cfc-21514a9c8cdb"
   },
   "outputs": [
    {
     "data": {
      "text/plain": [
       "['view', 'purchase', 'cart']\n",
       "Categories (3, object): ['cart', 'purchase', 'view']"
      ]
     },
     "execution_count": 8,
     "metadata": {},
     "output_type": "execute_result"
    }
   ],
   "source": [
    "copy_df['event_type'].unique()"
   ]
  },
  {
   "cell_type": "markdown",
   "id": "1cb9af47",
   "metadata": {
    "id": "1cb9af47"
   },
   "source": [
    "## product_id\n",
    "제품의 ID를 나타내고 있습니다."
   ]
  },
  {
   "cell_type": "code",
   "execution_count": 9,
   "id": "e64cdd87",
   "metadata": {
    "ExecuteTime": {
     "end_time": "2022-09-20T14:29:50.368434Z",
     "start_time": "2022-09-20T14:29:50.099436Z"
    },
    "colab": {
     "base_uri": "https://localhost:8080/"
    },
    "id": "e64cdd87",
    "outputId": "e2e20095-778c-4c6b-81d2-54485377c9f3"
   },
   "outputs": [
    {
     "data": {
      "text/plain": [
       "166794"
      ]
     },
     "execution_count": 9,
     "metadata": {},
     "output_type": "execute_result"
    }
   ],
   "source": [
    "copy_df['product_id'].nunique()"
   ]
  },
  {
   "cell_type": "markdown",
   "id": "3796119a",
   "metadata": {
    "id": "3796119a"
   },
   "source": [
    "총 16만개 정도의 제품이 있습니다."
   ]
  },
  {
   "cell_type": "markdown",
   "id": "b6ab2a46",
   "metadata": {
    "id": "b6ab2a46"
   },
   "source": [
    "## category_id\n",
    "category_id 컬럼은 int64-> int32로 경량화 하는 작업으로 인하여  \n",
    "int32의 양수의 범위를 넘는 데이터는 음수로 바뀐것으로 추측됩니다."
   ]
  },
  {
   "cell_type": "code",
   "execution_count": 10,
   "id": "435877d3",
   "metadata": {
    "ExecuteTime": {
     "end_time": "2022-09-20T14:29:50.638433Z",
     "start_time": "2022-09-20T14:29:50.399434Z"
    },
    "colab": {
     "base_uri": "https://localhost:8080/"
    },
    "id": "435877d3",
    "outputId": "fa275307-5597-414e-cff3-88838c1a6ba0"
   },
   "outputs": [
    {
     "data": {
      "text/plain": [
       "624"
      ]
     },
     "execution_count": 10,
     "metadata": {},
     "output_type": "execute_result"
    }
   ],
   "source": [
    "copy_df['category_id'].nunique()"
   ]
  },
  {
   "cell_type": "markdown",
   "id": "cbae23a0",
   "metadata": {
    "id": "cbae23a0"
   },
   "source": [
    "총 624개의 category_id가 존재합니다."
   ]
  },
  {
   "cell_type": "markdown",
   "id": "c54e791c",
   "metadata": {
    "id": "c54e791c"
   },
   "source": [
    "## category_code\n",
    "category_code는 전체 컬럼중 NULL값이 가장 많은 데이터입니다.  \n",
    "NULL값을 채우는 방법에 따라 결과가 달라질 것으로 추측됩니다.  \n",
    "- category_id로 결측치를 채울 수 있는 방법이 있을 수 있습니다.\n",
    "\n",
    "category별로 '.'으로 분리 할 수있는 형태로 보이며, 전처리를 해야할 것 같습니다."
   ]
  },
  {
   "cell_type": "code",
   "execution_count": 11,
   "id": "bd815998",
   "metadata": {
    "ExecuteTime": {
     "end_time": "2022-09-20T14:29:50.908435Z",
     "start_time": "2022-09-20T14:29:50.669436Z"
    },
    "colab": {
     "base_uri": "https://localhost:8080/"
    },
    "id": "bd815998",
    "outputId": "e32321b8-e9a3-4c29-9aff-0ca7196cbb61"
   },
   "outputs": [
    {
     "data": {
      "text/plain": [
       "126"
      ]
     },
     "execution_count": 11,
     "metadata": {},
     "output_type": "execute_result"
    }
   ],
   "source": [
    "copy_df['category_code'].nunique()"
   ]
  },
  {
   "cell_type": "markdown",
   "id": "a025dac0",
   "metadata": {
    "id": "a025dac0"
   },
   "source": [
    "아직 '.'을 기준으로 category를 분리하지 않았지만, 126개의 유니크한 값들이 존재합니다."
   ]
  },
  {
   "cell_type": "code",
   "execution_count": 12,
   "id": "edc2eb41",
   "metadata": {
    "ExecuteTime": {
     "end_time": "2022-09-20T14:29:51.748433Z",
     "start_time": "2022-09-20T14:29:50.940436Z"
    },
    "colab": {
     "base_uri": "https://localhost:8080/"
    },
    "id": "edc2eb41",
    "outputId": "2a645cd8-a74b-4a06-e518-ab1bfb43f3a0"
   },
   "outputs": [
    {
     "data": {
      "text/plain": [
       "372"
      ]
     },
     "execution_count": 12,
     "metadata": {},
     "output_type": "execute_result"
    }
   ],
   "source": [
    "copy_df.loc[copy_df['category_code'].isnull()]['category_id'].nunique()"
   ]
  },
  {
   "cell_type": "markdown",
   "id": "21a985cf",
   "metadata": {
    "id": "21a985cf"
   },
   "source": [
    "category_code가 NULL인 값들만 조회했을 때, 유니크한 category_id는 372개 입니다."
   ]
  },
  {
   "cell_type": "code",
   "execution_count": 13,
   "id": "b59e7813",
   "metadata": {
    "ExecuteTime": {
     "end_time": "2022-09-20T14:29:52.438434Z",
     "start_time": "2022-09-20T14:29:51.780434Z"
    },
    "colab": {
     "base_uri": "https://localhost:8080/",
     "height": 424
    },
    "id": "b59e7813",
    "outputId": "afc49e3b-3d0c-4773-a1d5-02e5c1e6a975"
   },
   "outputs": [
    {
     "data": {
      "text/html": [
       "<div>\n",
       "<style scoped>\n",
       "    .dataframe tbody tr th:only-of-type {\n",
       "        vertical-align: middle;\n",
       "    }\n",
       "\n",
       "    .dataframe tbody tr th {\n",
       "        vertical-align: top;\n",
       "    }\n",
       "\n",
       "    .dataframe thead th {\n",
       "        text-align: right;\n",
       "    }\n",
       "</style>\n",
       "<table border=\"1\" class=\"dataframe\">\n",
       "  <thead>\n",
       "    <tr style=\"text-align: right;\">\n",
       "      <th></th>\n",
       "      <th>event_time</th>\n",
       "      <th>event_type</th>\n",
       "      <th>product_id</th>\n",
       "      <th>category_id</th>\n",
       "      <th>category_code</th>\n",
       "      <th>brand</th>\n",
       "      <th>price</th>\n",
       "      <th>user_id</th>\n",
       "      <th>user_session</th>\n",
       "    </tr>\n",
       "  </thead>\n",
       "  <tbody>\n",
       "    <tr>\n",
       "      <th>0</th>\n",
       "      <td>2019-10-01 00:00:00</td>\n",
       "      <td>view</td>\n",
       "      <td>44600062</td>\n",
       "      <td>-251657396</td>\n",
       "      <td>NaN</td>\n",
       "      <td>shiseido</td>\n",
       "      <td>35.790001</td>\n",
       "      <td>541312140</td>\n",
       "      <td>72d76fde-8bb3-4e00-8c23-a032dfed738c</td>\n",
       "    </tr>\n",
       "    <tr>\n",
       "      <th>6</th>\n",
       "      <td>2019-10-01 00:00:08</td>\n",
       "      <td>view</td>\n",
       "      <td>17300353</td>\n",
       "      <td>746586423</td>\n",
       "      <td>NaN</td>\n",
       "      <td>creed</td>\n",
       "      <td>380.959991</td>\n",
       "      <td>555447699</td>\n",
       "      <td>4fe811e9-91de-46da-90c3-bbd87ed3a65d</td>\n",
       "    </tr>\n",
       "    <tr>\n",
       "      <th>7</th>\n",
       "      <td>2019-10-01 00:00:08</td>\n",
       "      <td>view</td>\n",
       "      <td>31500053</td>\n",
       "      <td>629146159</td>\n",
       "      <td>NaN</td>\n",
       "      <td>luminarc</td>\n",
       "      <td>41.160000</td>\n",
       "      <td>550978835</td>\n",
       "      <td>6280d577-25c8-4147-99a7-abc6048498d6</td>\n",
       "    </tr>\n",
       "    <tr>\n",
       "      <th>13</th>\n",
       "      <td>2019-10-01 00:00:15</td>\n",
       "      <td>view</td>\n",
       "      <td>44600062</td>\n",
       "      <td>-251657396</td>\n",
       "      <td>NaN</td>\n",
       "      <td>shiseido</td>\n",
       "      <td>35.790001</td>\n",
       "      <td>541312140</td>\n",
       "      <td>72d76fde-8bb3-4e00-8c23-a032dfed738c</td>\n",
       "    </tr>\n",
       "    <tr>\n",
       "      <th>15</th>\n",
       "      <td>2019-10-01 00:00:17</td>\n",
       "      <td>view</td>\n",
       "      <td>23100006</td>\n",
       "      <td>-58719491</td>\n",
       "      <td>NaN</td>\n",
       "      <td>NaN</td>\n",
       "      <td>357.790009</td>\n",
       "      <td>513642368</td>\n",
       "      <td>17566c27-0a8f-4506-9f30-c6a2ccbf583b</td>\n",
       "    </tr>\n",
       "    <tr>\n",
       "      <th>...</th>\n",
       "      <td>...</td>\n",
       "      <td>...</td>\n",
       "      <td>...</td>\n",
       "      <td>...</td>\n",
       "      <td>...</td>\n",
       "      <td>...</td>\n",
       "      <td>...</td>\n",
       "      <td>...</td>\n",
       "      <td>...</td>\n",
       "    </tr>\n",
       "    <tr>\n",
       "      <th>42448750</th>\n",
       "      <td>2019-10-31 23:59:55</td>\n",
       "      <td>view</td>\n",
       "      <td>42200036</td>\n",
       "      <td>1325400745</td>\n",
       "      <td>NaN</td>\n",
       "      <td>NaN</td>\n",
       "      <td>17.500000</td>\n",
       "      <td>515474976</td>\n",
       "      <td>222c370b-0fac-4287-982b-e340f5eaf3a1</td>\n",
       "    </tr>\n",
       "    <tr>\n",
       "      <th>42448755</th>\n",
       "      <td>2019-10-31 23:59:58</td>\n",
       "      <td>view</td>\n",
       "      <td>12800151</td>\n",
       "      <td>-318766863</td>\n",
       "      <td>NaN</td>\n",
       "      <td>sony</td>\n",
       "      <td>8.490000</td>\n",
       "      <td>544578298</td>\n",
       "      <td>fb46b2fb-493b-477c-8d18-ea1c24c04020</td>\n",
       "    </tr>\n",
       "    <tr>\n",
       "      <th>42448756</th>\n",
       "      <td>2019-10-31 23:59:58</td>\n",
       "      <td>view</td>\n",
       "      <td>5100816</td>\n",
       "      <td>268435735</td>\n",
       "      <td>NaN</td>\n",
       "      <td>xiaomi</td>\n",
       "      <td>29.580000</td>\n",
       "      <td>543653226</td>\n",
       "      <td>ab310b47-1eb2-45f8-8e5b-21ab2010925a</td>\n",
       "    </tr>\n",
       "    <tr>\n",
       "      <th>42448760</th>\n",
       "      <td>2019-10-31 23:59:58</td>\n",
       "      <td>view</td>\n",
       "      <td>10800172</td>\n",
       "      <td>1887437177</td>\n",
       "      <td>NaN</td>\n",
       "      <td>redmond</td>\n",
       "      <td>61.750000</td>\n",
       "      <td>527322328</td>\n",
       "      <td>5054190a-46cb-4211-a8f1-16fc1a060ed8</td>\n",
       "    </tr>\n",
       "    <tr>\n",
       "      <th>42448763</th>\n",
       "      <td>2019-10-31 23:59:59</td>\n",
       "      <td>view</td>\n",
       "      <td>13300120</td>\n",
       "      <td>-234880513</td>\n",
       "      <td>NaN</td>\n",
       "      <td>swisshome</td>\n",
       "      <td>155.729996</td>\n",
       "      <td>525266378</td>\n",
       "      <td>6e57d2d7-6022-46e6-81d6-fa77f14cefd8</td>\n",
       "    </tr>\n",
       "  </tbody>\n",
       "</table>\n",
       "<p>13515609 rows × 9 columns</p>\n",
       "</div>"
      ],
      "text/plain": [
       "                  event_time event_type  product_id  category_id  \\\n",
       "0        2019-10-01 00:00:00       view    44600062   -251657396   \n",
       "6        2019-10-01 00:00:08       view    17300353    746586423   \n",
       "7        2019-10-01 00:00:08       view    31500053    629146159   \n",
       "13       2019-10-01 00:00:15       view    44600062   -251657396   \n",
       "15       2019-10-01 00:00:17       view    23100006    -58719491   \n",
       "...                      ...        ...         ...          ...   \n",
       "42448750 2019-10-31 23:59:55       view    42200036   1325400745   \n",
       "42448755 2019-10-31 23:59:58       view    12800151   -318766863   \n",
       "42448756 2019-10-31 23:59:58       view     5100816    268435735   \n",
       "42448760 2019-10-31 23:59:58       view    10800172   1887437177   \n",
       "42448763 2019-10-31 23:59:59       view    13300120   -234880513   \n",
       "\n",
       "         category_code      brand       price    user_id  \\\n",
       "0                  NaN   shiseido   35.790001  541312140   \n",
       "6                  NaN      creed  380.959991  555447699   \n",
       "7                  NaN   luminarc   41.160000  550978835   \n",
       "13                 NaN   shiseido   35.790001  541312140   \n",
       "15                 NaN        NaN  357.790009  513642368   \n",
       "...                ...        ...         ...        ...   \n",
       "42448750           NaN        NaN   17.500000  515474976   \n",
       "42448755           NaN       sony    8.490000  544578298   \n",
       "42448756           NaN     xiaomi   29.580000  543653226   \n",
       "42448760           NaN    redmond   61.750000  527322328   \n",
       "42448763           NaN  swisshome  155.729996  525266378   \n",
       "\n",
       "                                  user_session  \n",
       "0         72d76fde-8bb3-4e00-8c23-a032dfed738c  \n",
       "6         4fe811e9-91de-46da-90c3-bbd87ed3a65d  \n",
       "7         6280d577-25c8-4147-99a7-abc6048498d6  \n",
       "13        72d76fde-8bb3-4e00-8c23-a032dfed738c  \n",
       "15        17566c27-0a8f-4506-9f30-c6a2ccbf583b  \n",
       "...                                        ...  \n",
       "42448750  222c370b-0fac-4287-982b-e340f5eaf3a1  \n",
       "42448755  fb46b2fb-493b-477c-8d18-ea1c24c04020  \n",
       "42448756  ab310b47-1eb2-45f8-8e5b-21ab2010925a  \n",
       "42448760  5054190a-46cb-4211-a8f1-16fc1a060ed8  \n",
       "42448763  6e57d2d7-6022-46e6-81d6-fa77f14cefd8  \n",
       "\n",
       "[13515609 rows x 9 columns]"
      ]
     },
     "execution_count": 13,
     "metadata": {},
     "output_type": "execute_result"
    }
   ],
   "source": [
    "copy_df.loc[copy_df['category_code'].isnull()]"
   ]
  },
  {
   "cell_type": "markdown",
   "id": "4f0c4e42",
   "metadata": {
    "id": "4f0c4e42"
   },
   "source": [
    "## brand\n",
    "brand 컬럼 또한 NULL값이 존재하는 컬럼입니다."
   ]
  },
  {
   "cell_type": "code",
   "execution_count": 14,
   "id": "4e09110d",
   "metadata": {
    "ExecuteTime": {
     "end_time": "2022-09-20T14:29:52.709433Z",
     "start_time": "2022-09-20T14:29:52.471437Z"
    },
    "colab": {
     "base_uri": "https://localhost:8080/"
    },
    "id": "4e09110d",
    "outputId": "2a9cdef2-c55e-4147-d087-ae54d41dff73",
    "scrolled": true
   },
   "outputs": [
    {
     "data": {
      "text/plain": [
       "3444"
      ]
     },
     "execution_count": 14,
     "metadata": {},
     "output_type": "execute_result"
    }
   ],
   "source": [
    "copy_df['brand'].nunique()"
   ]
  },
  {
   "cell_type": "markdown",
   "id": "31e00c4f",
   "metadata": {
    "id": "31e00c4f"
   },
   "source": [
    "3천 4백개의 브랜드가 존재합니다."
   ]
  },
  {
   "cell_type": "markdown",
   "id": "804c0d36",
   "metadata": {
    "id": "804c0d36"
   },
   "source": [
    "## price\n",
    "price 컬럼은 수치형 데이터입니다."
   ]
  },
  {
   "cell_type": "code",
   "execution_count": 17,
   "id": "f1783068",
   "metadata": {
    "ExecuteTime": {
     "end_time": "2022-09-19T11:27:02.813418Z",
     "start_time": "2022-09-19T11:26:48.432085Z"
    },
    "colab": {
     "base_uri": "https://localhost:8080/",
     "height": 337
    },
    "id": "f1783068",
    "outputId": "d8582caf-a242-491d-9514-e5c1fd0b1116",
    "scrolled": true
   },
   "outputs": [
    {
     "data": {
      "image/png": "[encoded data removed]",
      "text/plain": [
       "<Figure size 720x360 with 1 Axes>"
      ]
     },
     "metadata": {},
     "output_type": "display_data"
    }
   ],
   "source": [
    "plt.figure(figsize=(10,5))\n",
    "sns.histplot(data=copy_df, x='price')\n",
    "plt.show()"
   ]
  },
  {
   "cell_type": "markdown",
   "id": "37b4a1dc",
   "metadata": {
    "id": "37b4a1dc"
   },
   "source": [
    "## user_id"
   ]
  },
  {
   "cell_type": "code",
   "execution_count": 15,
   "id": "5d98be92",
   "metadata": {
    "ExecuteTime": {
     "end_time": "2022-09-20T14:29:53.894434Z",
     "start_time": "2022-09-20T14:29:52.742441Z"
    },
    "colab": {
     "base_uri": "https://localhost:8080/"
    },
    "id": "5d98be92",
    "outputId": "1ca04e1c-7581-4b7e-bc0f-54d9ab1cd125"
   },
   "outputs": [
    {
     "data": {
      "text/plain": [
       "3022290"
      ]
     },
     "execution_count": 15,
     "metadata": {},
     "output_type": "execute_result"
    }
   ],
   "source": [
    "copy_df['user_id'].nunique()"
   ]
  },
  {
   "cell_type": "markdown",
   "id": "7b057035",
   "metadata": {
    "id": "7b057035"
   },
   "source": [
    "약 3백만명의 유저들의 데이터가 수집된 것을 확인할 수 있습니다."
   ]
  },
  {
   "cell_type": "markdown",
   "id": "364d7d47",
   "metadata": {
    "id": "364d7d47"
   },
   "source": [
    "## user_session"
   ]
  },
  {
   "cell_type": "code",
   "execution_count": 16,
   "id": "716faab4",
   "metadata": {
    "ExecuteTime": {
     "end_time": "2022-09-20T14:29:55.289436Z",
     "start_time": "2022-09-20T14:29:53.928435Z"
    },
    "colab": {
     "base_uri": "https://localhost:8080/"
    },
    "id": "716faab4",
    "outputId": "764c4464-b2db-4c13-8aad-482b8a1584d4"
   },
   "outputs": [
    {
     "data": {
      "text/plain": [
       "9244421"
      ]
     },
     "execution_count": 16,
     "metadata": {},
     "output_type": "execute_result"
    }
   ],
   "source": [
    "copy_df['user_session'].nunique()"
   ]
  },
  {
   "cell_type": "markdown",
   "id": "47bab7a6",
   "metadata": {
    "id": "47bab7a6"
   },
   "source": [
    "# 전체(10월 한달동안)방문자수는 얼마인가?"
   ]
  },
  {
   "cell_type": "code",
   "execution_count": 17,
   "id": "ca35f353",
   "metadata": {
    "ExecuteTime": {
     "end_time": "2022-09-20T14:29:56.474443Z",
     "start_time": "2022-09-20T14:29:55.320444Z"
    },
    "colab": {
     "base_uri": "https://localhost:8080/"
    },
    "id": "ca35f353",
    "outputId": "3a8e34f4-be74-4a88-8f09-8f813efca916"
   },
   "outputs": [
    {
     "data": {
      "text/plain": [
       "3022290"
      ]
     },
     "execution_count": 17,
     "metadata": {},
     "output_type": "execute_result"
    }
   ],
   "source": [
    "copy_df['user_id'].nunique()"
   ]
  },
  {
   "cell_type": "markdown",
   "id": "fcb8414c",
   "metadata": {
    "id": "fcb8414c"
   },
   "source": [
    "총 3백만명 정도의 유저가 방문한 것으로 확인됩니다."
   ]
  },
  {
   "cell_type": "markdown",
   "id": "2ad7509c",
   "metadata": {
    "id": "2ad7509c"
   },
   "source": [
    "# 전체(10월 한달동안) 매출액은 얼마인가?"
   ]
  },
  {
   "cell_type": "code",
   "execution_count": 18,
   "id": "e0561b3e",
   "metadata": {
    "ExecuteTime": {
     "end_time": "2022-09-20T14:29:56.594441Z",
     "start_time": "2022-09-20T14:29:56.505442Z"
    },
    "colab": {
     "base_uri": "https://localhost:8080/"
    },
    "id": "e0561b3e",
    "outputId": "6193b50b-1bb2-48d6-c224-a6710de33a4f"
   },
   "outputs": [
    {
     "data": {
      "text/plain": [
       "229957500.0"
      ]
     },
     "execution_count": 18,
     "metadata": {},
     "output_type": "execute_result"
    }
   ],
   "source": [
    "copy_df.loc[copy_df['event_type'] == 'purchase', 'price'].sum()"
   ]
  },
  {
   "cell_type": "markdown",
   "id": "58fdccb0",
   "metadata": {
    "id": "58fdccb0"
   },
   "source": [
    "price의 단위가 달러라고 가정해보았을 때, 약 2억 3천만 달러가 판매가 되었습니다.  \n",
    "현재 환율로 환산하면, 약 한화로 3,206억원 정도 입니다."
   ]
  },
  {
   "cell_type": "markdown",
   "id": "b931c893",
   "metadata": {
    "id": "b931c893"
   },
   "source": [
    "# DAU(일별 활동 이용자)는 평균적으로 몇명인가?"
   ]
  },
  {
   "cell_type": "code",
   "execution_count": 22,
   "id": "c93b2fb3",
   "metadata": {
    "ExecuteTime": {
     "end_time": "2022-09-19T12:19:56.750245Z",
     "start_time": "2022-09-19T12:19:05.204428Z"
    },
    "colab": {
     "base_uri": "https://localhost:8080/"
    },
    "id": "c93b2fb3",
    "outputId": "cd7a2be6-0c38-4c7d-d929-37ac30b849ad"
   },
   "outputs": [
    {
     "name": "stderr",
     "output_type": "stream",
     "text": [
      "100%|██████████| 31/31 [02:11<00:00,  4.25s/it]\n"
     ]
    }
   ],
   "source": [
    "daus = []\n",
    "for day in tqdm(range(1, 32,1)):\n",
    "    dau = copy_df.loc[copy_df['event_time'].dt.day == day]['user_id'].nunique()\n",
    "    daus.append(dau)"
   ]
  },
  {
   "cell_type": "code",
   "execution_count": 23,
   "id": "1c69c2ee",
   "metadata": {
    "ExecuteTime": {
     "end_time": "2022-09-19T12:21:35.705579Z",
     "start_time": "2022-09-19T12:21:35.690579Z"
    },
    "colab": {
     "base_uri": "https://localhost:8080/"
    },
    "id": "1c69c2ee",
    "outputId": "9d862497-59f6-4d83-9547-dffd34454533"
   },
   "outputs": [
    {
     "name": "stdout",
     "output_type": "stream",
     "text": [
      "208830\n"
     ]
    }
   ],
   "source": [
    "print(round(np.mean(daus)))"
   ]
  },
  {
   "cell_type": "markdown",
   "id": "5434863d",
   "metadata": {
    "id": "5434863d"
   },
   "source": [
    "일별 활동 이용자는 평균적으로 20만명정도 됩니다."
   ]
  },
  {
   "cell_type": "markdown",
   "id": "e049f85e",
   "metadata": {
    "id": "e049f85e"
   },
   "source": [
    "# WAU는 평균적으로 몇명인가?"
   ]
  },
  {
   "cell_type": "code",
   "execution_count": 24,
   "id": "05a2b66d",
   "metadata": {
    "ExecuteTime": {
     "end_time": "2022-09-19T12:58:12.181442Z",
     "start_time": "2022-09-19T12:57:59.032444Z"
    },
    "colab": {
     "base_uri": "https://localhost:8080/"
    },
    "id": "05a2b66d",
    "outputId": "f6d92915-618b-4d97-f50d-93feb17c7dbe"
   },
   "outputs": [
    {
     "name": "stdout",
     "output_type": "stream",
     "text": [
      "1주 : 734691\n",
      "2주 : 1047455\n",
      "3주 : 1989498\n",
      "4주 : 1111053\n",
      "5주 : 764234\n",
      "평균 : 1129386\n"
     ]
    }
   ],
   "source": [
    "week1 = copy_df.loc[copy_df['event_time'].dt.day.isin([1,2,3,4,5])]['user_id'].nunique()\n",
    "week2 = copy_df.loc[copy_df['event_time'].dt.day.isin(list(range(6, 12+1)))]['user_id'].nunique()\n",
    "week3 = copy_df.loc[copy_df['event_time'].dt.day.isin(list(range(3, 19+1)))]['user_id'].nunique()\n",
    "week4 = copy_df.loc[copy_df['event_time'].dt.day.isin(list(range(20, 26+1)))]['user_id'].nunique()\n",
    "week5 = copy_df.loc[copy_df['event_time'].dt.day.isin(list(range(27, 31+1)))]['user_id'].nunique()\n",
    "\n",
    "print('1주 :',week1)\n",
    "print('2주 :',week2)\n",
    "print('3주 :',week3)\n",
    "print('4주 :',week4)\n",
    "print('5주 :',week5)\n",
    "waus = [week1, week2, week3, week4, week5]\n",
    "print('평균 :',round(np.mean(waus)))"
   ]
  },
  {
   "cell_type": "markdown",
   "id": "zO4agmZaSi1K",
   "metadata": {
    "id": "zO4agmZaSi1K"
   },
   "source": [
    "평균적으로 약 100만명의 사용자가 한주동안 사이트를 이용하며,  \n",
    "3주에 가장 많은 인원이 이용한 것으로 확인됩니다.\n",
    "- 왜 3주에 가장 많은 인원이 이용한 것인지는 모르겠음.."
   ]
  },
  {
   "cell_type": "markdown",
   "id": "818fc3ef",
   "metadata": {
    "id": "818fc3ef"
   },
   "source": [
    "# 1인당 평균 매입액(객단가)는 얼마인가?\n",
    "객단가 : 매출액 / 고객수\n",
    "- 고객 한명의 평균 매입액\n",
    "\n",
    "ex) \n",
    "- A : 4, 4, 5\n",
    "- B : 5\n",
    "- C : 5\n",
    "\n",
    "객단가 : 76000원 정도((4+4+5+5+5)/3)"
   ]
  },
  {
   "cell_type": "code",
   "execution_count": 25,
   "id": "271058fe",
   "metadata": {
    "ExecuteTime": {
     "end_time": "2022-09-19T12:32:35.455954Z",
     "start_time": "2022-09-19T12:32:34.133955Z"
    },
    "colab": {
     "base_uri": "https://localhost:8080/"
    },
    "id": "271058fe",
    "outputId": "67a51a03-a39e-4ada-c086-2060fca65cbc"
   },
   "outputs": [
    {
     "name": "stdout",
     "output_type": "stream",
     "text": [
      "76.08717363323838\n"
     ]
    }
   ],
   "source": [
    "user_number = copy_df['user_id'].nunique()\n",
    "purchase_amount = copy_df.loc[copy_df['event_type'] == 'purchase', 'price'].sum()\n",
    "\n",
    "result = purchase_amount / user_number\n",
    "print(result)"
   ]
  },
  {
   "cell_type": "markdown",
   "id": "49170977",
   "metadata": {
    "ExecuteTime": {
     "end_time": "2022-09-19T12:33:07.221724Z",
     "start_time": "2022-09-19T12:33:07.202721Z"
    },
    "id": "49170977"
   },
   "source": [
    "10월 한달 1인당 평균 매입액(객단가)는 약 76달러로 현재 환율로 환산하면 약 10만원 정도입니다."
   ]
  },
  {
   "cell_type": "markdown",
   "id": "mDAL0EoGTcIp",
   "metadata": {
    "id": "mDAL0EoGTcIp"
   },
   "source": [
    "# 코호트분석\n",
    "- 참고링크1(https://workingwithpython.com/pythoncohortanalysis/)\n",
    "\n",
    "1. 우리 사이트에 들어온 고객들은 우리 사이트를 계속 이용하는가?(사용자 유지율 파악)\n",
    "  -  view, cart, purchase 모두 포함\n",
    "2. 우리 사이트에서 구매했던 고객들은 계속 우리 사이트에서 구매를 하는가?\n",
    "  - purchase만 추출"
   ]
  },
  {
   "cell_type": "markdown",
   "id": "Tpx8Pb59QF66",
   "metadata": {
    "id": "Tpx8Pb59QF66"
   },
   "source": [
    "## 1.사용자 유지율 파악\n",
    "- 우리 사이트에 들어온 고객들은 우리 사이트를 계속 이용하는가?\n",
    "- view, cart, purchase 포함"
   ]
  },
  {
   "cell_type": "markdown",
   "id": "K5tziqo_PEJf",
   "metadata": {
    "id": "K5tziqo_PEJf"
   },
   "source": [
    "코호트 분석에 사용할 '동일한 경험', '동일한 시간'이 데이터에 표현되도록 \n",
    "\n",
    "코호트 분석에 사용할 피처만 가지고 오겠습니다."
   ]
  },
  {
   "cell_type": "markdown",
   "id": "-mqitIxrRIXR",
   "metadata": {
    "id": "-mqitIxrRIXR"
   },
   "source": [
    "### 사용할 피처만 가지고 오기"
   ]
  },
  {
   "cell_type": "code",
   "execution_count": 19,
   "id": "QQu-okc3S5-l",
   "metadata": {
    "ExecuteTime": {
     "end_time": "2022-09-20T14:29:59.614007Z",
     "start_time": "2022-09-20T14:29:59.314919Z"
    },
    "colab": {
     "base_uri": "https://localhost:8080/",
     "height": 206
    },
    "id": "QQu-okc3S5-l",
    "outputId": "54c77c26-960e-4010-914f-d338496943b8"
   },
   "outputs": [
    {
     "data": {
      "text/html": [
       "<div>\n",
       "<style scoped>\n",
       "    .dataframe tbody tr th:only-of-type {\n",
       "        vertical-align: middle;\n",
       "    }\n",
       "\n",
       "    .dataframe tbody tr th {\n",
       "        vertical-align: top;\n",
       "    }\n",
       "\n",
       "    .dataframe thead th {\n",
       "        text-align: right;\n",
       "    }\n",
       "</style>\n",
       "<table border=\"1\" class=\"dataframe\">\n",
       "  <thead>\n",
       "    <tr style=\"text-align: right;\">\n",
       "      <th></th>\n",
       "      <th>product_id</th>\n",
       "      <th>event_time</th>\n",
       "      <th>user_id</th>\n",
       "    </tr>\n",
       "  </thead>\n",
       "  <tbody>\n",
       "    <tr>\n",
       "      <th>0</th>\n",
       "      <td>44600062</td>\n",
       "      <td>2019-10-01 00:00:00</td>\n",
       "      <td>541312140</td>\n",
       "    </tr>\n",
       "    <tr>\n",
       "      <th>1</th>\n",
       "      <td>3900821</td>\n",
       "      <td>2019-10-01 00:00:00</td>\n",
       "      <td>554748717</td>\n",
       "    </tr>\n",
       "    <tr>\n",
       "      <th>2</th>\n",
       "      <td>17200506</td>\n",
       "      <td>2019-10-01 00:00:01</td>\n",
       "      <td>519107250</td>\n",
       "    </tr>\n",
       "    <tr>\n",
       "      <th>3</th>\n",
       "      <td>1307067</td>\n",
       "      <td>2019-10-01 00:00:01</td>\n",
       "      <td>550050854</td>\n",
       "    </tr>\n",
       "    <tr>\n",
       "      <th>4</th>\n",
       "      <td>1004237</td>\n",
       "      <td>2019-10-01 00:00:04</td>\n",
       "      <td>535871217</td>\n",
       "    </tr>\n",
       "  </tbody>\n",
       "</table>\n",
       "</div>"
      ],
      "text/plain": [
       "   product_id          event_time    user_id\n",
       "0    44600062 2019-10-01 00:00:00  541312140\n",
       "1     3900821 2019-10-01 00:00:00  554748717\n",
       "2    17200506 2019-10-01 00:00:01  519107250\n",
       "3     1307067 2019-10-01 00:00:01  550050854\n",
       "4     1004237 2019-10-01 00:00:04  535871217"
      ]
     },
     "execution_count": 19,
     "metadata": {},
     "output_type": "execute_result"
    }
   ],
   "source": [
    "cohort_data = copy_df[['product_id', 'event_time','user_id']]\n",
    "cohort_data.head()"
   ]
  },
  {
   "cell_type": "markdown",
   "id": "dBuPfIwyQZe5",
   "metadata": {
    "id": "dBuPfIwyQZe5"
   },
   "source": [
    "코호트 분석에서 데이터를 집계하기 위해서는 보통 **월 단위**가 진행되지만  \n",
    "현재 10월의 데이터만 있기 때문에 **일 단위**로 진행하겠습니다."
   ]
  },
  {
   "cell_type": "markdown",
   "id": "AtnVQybLRKVy",
   "metadata": {
    "id": "AtnVQybLRKVy"
   },
   "source": [
    "### 단위기간을 파악하기 위하여 '일'만 가지고 오기"
   ]
  },
  {
   "cell_type": "code",
   "execution_count": 20,
   "id": "xCQUq7XFS58A",
   "metadata": {
    "ExecuteTime": {
     "end_time": "2022-09-20T14:30:20.908606Z",
     "start_time": "2022-09-20T14:30:19.197149Z"
    },
    "colab": {
     "base_uri": "https://localhost:8080/",
     "height": 310
    },
    "id": "xCQUq7XFS58A",
    "outputId": "42cffae3-b696-4a2a-c11b-2c2ed8a78767"
   },
   "outputs": [
    {
     "name": "stderr",
     "output_type": "stream",
     "text": [
      "C:\\Users\\User\\anaconda3\\envs\\CP2\\lib\\site-packages\\ipykernel_launcher.py:1: SettingWithCopyWarning: \n",
      "A value is trying to be set on a copy of a slice from a DataFrame.\n",
      "Try using .loc[row_indexer,col_indexer] = value instead\n",
      "\n",
      "See the caveats in the documentation: https://pandas.pydata.org/pandas-docs/stable/user_guide/indexing.html#returning-a-view-versus-a-copy\n",
      "  \"\"\"Entry point for launching an IPython kernel.\n"
     ]
    },
    {
     "data": {
      "text/html": [
       "<div>\n",
       "<style scoped>\n",
       "    .dataframe tbody tr th:only-of-type {\n",
       "        vertical-align: middle;\n",
       "    }\n",
       "\n",
       "    .dataframe tbody tr th {\n",
       "        vertical-align: top;\n",
       "    }\n",
       "\n",
       "    .dataframe thead th {\n",
       "        text-align: right;\n",
       "    }\n",
       "</style>\n",
       "<table border=\"1\" class=\"dataframe\">\n",
       "  <thead>\n",
       "    <tr style=\"text-align: right;\">\n",
       "      <th></th>\n",
       "      <th>product_id</th>\n",
       "      <th>event_time</th>\n",
       "      <th>user_id</th>\n",
       "      <th>event_period</th>\n",
       "    </tr>\n",
       "  </thead>\n",
       "  <tbody>\n",
       "    <tr>\n",
       "      <th>0</th>\n",
       "      <td>44600062</td>\n",
       "      <td>2019-10-01 00:00:00</td>\n",
       "      <td>541312140</td>\n",
       "      <td>1</td>\n",
       "    </tr>\n",
       "    <tr>\n",
       "      <th>1</th>\n",
       "      <td>3900821</td>\n",
       "      <td>2019-10-01 00:00:00</td>\n",
       "      <td>554748717</td>\n",
       "      <td>1</td>\n",
       "    </tr>\n",
       "    <tr>\n",
       "      <th>2</th>\n",
       "      <td>17200506</td>\n",
       "      <td>2019-10-01 00:00:01</td>\n",
       "      <td>519107250</td>\n",
       "      <td>1</td>\n",
       "    </tr>\n",
       "    <tr>\n",
       "      <th>3</th>\n",
       "      <td>1307067</td>\n",
       "      <td>2019-10-01 00:00:01</td>\n",
       "      <td>550050854</td>\n",
       "      <td>1</td>\n",
       "    </tr>\n",
       "    <tr>\n",
       "      <th>4</th>\n",
       "      <td>1004237</td>\n",
       "      <td>2019-10-01 00:00:04</td>\n",
       "      <td>535871217</td>\n",
       "      <td>1</td>\n",
       "    </tr>\n",
       "  </tbody>\n",
       "</table>\n",
       "</div>"
      ],
      "text/plain": [
       "   product_id          event_time    user_id  event_period\n",
       "0    44600062 2019-10-01 00:00:00  541312140             1\n",
       "1     3900821 2019-10-01 00:00:00  554748717             1\n",
       "2    17200506 2019-10-01 00:00:01  519107250             1\n",
       "3     1307067 2019-10-01 00:00:01  550050854             1\n",
       "4     1004237 2019-10-01 00:00:04  535871217             1"
      ]
     },
     "execution_count": 20,
     "metadata": {},
     "output_type": "execute_result"
    }
   ],
   "source": [
    "cohort_data['event_period'] = cohort_data['event_time'].dt.day\n",
    "cohort_data.head()"
   ]
  },
  {
   "cell_type": "markdown",
   "id": "Wgmej1ssRQYD",
   "metadata": {
    "id": "Wgmej1ssRQYD"
   },
   "source": [
    "### 유저의 (10월)첫번째 방문을 토대로 유저별 코호트 그룹 설정하기\n",
    "\n",
    "코호트 분석의 전제조건 중 '동일한 경험'을 만드는 과정입니다.\n",
    "\n",
    "여기서 '동일한 경험'이란 (10월)첫 번째 방문입니다."
   ]
  },
  {
   "cell_type": "code",
   "execution_count": 21,
   "id": "acERw-rnS55V",
   "metadata": {
    "ExecuteTime": {
     "end_time": "2022-09-20T14:30:26.654740Z",
     "start_time": "2022-09-20T14:30:26.405742Z"
    },
    "colab": {
     "base_uri": "https://localhost:8080/",
     "height": 237
    },
    "id": "acERw-rnS55V",
    "outputId": "ac3b8a7e-5d88-430d-8b47-15018f5a220c"
   },
   "outputs": [
    {
     "data": {
      "text/html": [
       "<div>\n",
       "<style scoped>\n",
       "    .dataframe tbody tr th:only-of-type {\n",
       "        vertical-align: middle;\n",
       "    }\n",
       "\n",
       "    .dataframe tbody tr th {\n",
       "        vertical-align: top;\n",
       "    }\n",
       "\n",
       "    .dataframe thead th {\n",
       "        text-align: right;\n",
       "    }\n",
       "</style>\n",
       "<table border=\"1\" class=\"dataframe\">\n",
       "  <thead>\n",
       "    <tr style=\"text-align: right;\">\n",
       "      <th></th>\n",
       "      <th>product_id</th>\n",
       "      <th>event_time</th>\n",
       "      <th>event_period</th>\n",
       "    </tr>\n",
       "    <tr>\n",
       "      <th>user_id</th>\n",
       "      <th></th>\n",
       "      <th></th>\n",
       "      <th></th>\n",
       "    </tr>\n",
       "  </thead>\n",
       "  <tbody>\n",
       "    <tr>\n",
       "      <th>541312140</th>\n",
       "      <td>44600062</td>\n",
       "      <td>2019-10-01 00:00:00</td>\n",
       "      <td>1</td>\n",
       "    </tr>\n",
       "    <tr>\n",
       "      <th>554748717</th>\n",
       "      <td>3900821</td>\n",
       "      <td>2019-10-01 00:00:00</td>\n",
       "      <td>1</td>\n",
       "    </tr>\n",
       "    <tr>\n",
       "      <th>519107250</th>\n",
       "      <td>17200506</td>\n",
       "      <td>2019-10-01 00:00:01</td>\n",
       "      <td>1</td>\n",
       "    </tr>\n",
       "    <tr>\n",
       "      <th>550050854</th>\n",
       "      <td>1307067</td>\n",
       "      <td>2019-10-01 00:00:01</td>\n",
       "      <td>1</td>\n",
       "    </tr>\n",
       "    <tr>\n",
       "      <th>535871217</th>\n",
       "      <td>1004237</td>\n",
       "      <td>2019-10-01 00:00:04</td>\n",
       "      <td>1</td>\n",
       "    </tr>\n",
       "  </tbody>\n",
       "</table>\n",
       "</div>"
      ],
      "text/plain": [
       "           product_id          event_time  event_period\n",
       "user_id                                                \n",
       "541312140    44600062 2019-10-01 00:00:00             1\n",
       "554748717     3900821 2019-10-01 00:00:00             1\n",
       "519107250    17200506 2019-10-01 00:00:01             1\n",
       "550050854     1307067 2019-10-01 00:00:01             1\n",
       "535871217     1004237 2019-10-01 00:00:04             1"
      ]
     },
     "execution_count": 21,
     "metadata": {},
     "output_type": "execute_result"
    }
   ],
   "source": [
    "cohort_data = cohort_data.set_index('user_id')\n",
    "cohort_data.head()"
   ]
  },
  {
   "cell_type": "code",
   "execution_count": 27,
   "id": "qY4qHhXDR9nL",
   "metadata": {
    "ExecuteTime": {
     "end_time": "2022-09-20T14:35:10.559748Z",
     "start_time": "2022-09-20T14:35:10.342750Z"
    },
    "id": "qY4qHhXDR9nL"
   },
   "outputs": [
    {
     "data": {
      "text/plain": [
       "dtype('<M8[ns]')"
      ]
     },
     "execution_count": 27,
     "metadata": {},
     "output_type": "execute_result"
    }
   ],
   "source": [
    "#cohort_data['event_time'] = pd.to_datetime(cohort_data['event_time'], format='%Y-%m-%d %H:%M:%S', errors='raise')\n",
    "cohort_data['event_time'] =cohort_data['event_time'].astype('datetime64')\n",
    "cohort_data['event_time'].dtype"
   ]
  },
  {
   "cell_type": "code",
   "execution_count": 28,
   "id": "CH-M44MpS5xw",
   "metadata": {
    "ExecuteTime": {
     "end_time": "2022-09-20T14:35:18.246272Z",
     "start_time": "2022-09-20T14:35:14.652518Z"
    },
    "colab": {
     "base_uri": "https://localhost:8080/",
     "height": 487
    },
    "id": "CH-M44MpS5xw",
    "outputId": "fab93015-fa24-4029-f218-727bfe408a85"
   },
   "outputs": [
    {
     "data": {
      "text/plain": [
       "user_id\n",
       "33869381    2019-10-23 20:04:08\n",
       "64078358    2019-10-13 00:13:46\n",
       "183503497   2019-10-02 21:43:00\n",
       "184265397   2019-10-04 17:44:37\n",
       "195082191   2019-10-10 03:35:36\n",
       "Name: event_time, dtype: datetime64[ns]"
      ]
     },
     "execution_count": 28,
     "metadata": {},
     "output_type": "execute_result"
    }
   ],
   "source": [
    "first_event = cohort_data.groupby('user_id')['event_time'].min()\n",
    "first_event.head()"
   ]
  },
  {
   "cell_type": "markdown",
   "id": "2fdf7782",
   "metadata": {
    "id": "pEHFW0xrS5u9"
   },
   "source": [
    "user_id별로 데이터가 그룹화되며, event_time 칼럼 값을 따로 추출하며, min()을 사용하여  \n",
    "각 user_id별 첫 방문일자가 추출됩니다."
   ]
  },
  {
   "cell_type": "code",
   "execution_count": 30,
   "id": "b24896d3",
   "metadata": {
    "ExecuteTime": {
     "end_time": "2022-09-20T14:37:04.781627Z",
     "start_time": "2022-09-20T14:37:04.667627Z"
    }
   },
   "outputs": [
    {
     "data": {
      "text/plain": [
       "user_id\n",
       "33869381     23\n",
       "64078358     13\n",
       "183503497     2\n",
       "184265397     4\n",
       "195082191    10\n",
       "Name: event_time, dtype: int64"
      ]
     },
     "execution_count": 30,
     "metadata": {},
     "output_type": "execute_result"
    }
   ],
   "source": [
    "first_event = first_event.dt.day\n",
    "first_event.head()"
   ]
  },
  {
   "cell_type": "code",
   "execution_count": 32,
   "id": "a3e1d8bf",
   "metadata": {
    "ExecuteTime": {
     "end_time": "2022-09-20T14:37:52.481507Z",
     "start_time": "2022-09-20T14:37:49.785471Z"
    }
   },
   "outputs": [
    {
     "data": {
      "text/html": [
       "<div>\n",
       "<style scoped>\n",
       "    .dataframe tbody tr th:only-of-type {\n",
       "        vertical-align: middle;\n",
       "    }\n",
       "\n",
       "    .dataframe tbody tr th {\n",
       "        vertical-align: top;\n",
       "    }\n",
       "\n",
       "    .dataframe thead th {\n",
       "        text-align: right;\n",
       "    }\n",
       "</style>\n",
       "<table border=\"1\" class=\"dataframe\">\n",
       "  <thead>\n",
       "    <tr style=\"text-align: right;\">\n",
       "      <th></th>\n",
       "      <th>user_id</th>\n",
       "      <th>product_id</th>\n",
       "      <th>event_time</th>\n",
       "      <th>event_period</th>\n",
       "      <th>first_event</th>\n",
       "    </tr>\n",
       "  </thead>\n",
       "  <tbody>\n",
       "    <tr>\n",
       "      <th>0</th>\n",
       "      <td>541312140</td>\n",
       "      <td>44600062</td>\n",
       "      <td>2019-10-01 00:00:00</td>\n",
       "      <td>1</td>\n",
       "      <td>1</td>\n",
       "    </tr>\n",
       "    <tr>\n",
       "      <th>1</th>\n",
       "      <td>554748717</td>\n",
       "      <td>3900821</td>\n",
       "      <td>2019-10-01 00:00:00</td>\n",
       "      <td>1</td>\n",
       "      <td>1</td>\n",
       "    </tr>\n",
       "    <tr>\n",
       "      <th>2</th>\n",
       "      <td>519107250</td>\n",
       "      <td>17200506</td>\n",
       "      <td>2019-10-01 00:00:01</td>\n",
       "      <td>1</td>\n",
       "      <td>1</td>\n",
       "    </tr>\n",
       "    <tr>\n",
       "      <th>3</th>\n",
       "      <td>550050854</td>\n",
       "      <td>1307067</td>\n",
       "      <td>2019-10-01 00:00:01</td>\n",
       "      <td>1</td>\n",
       "      <td>1</td>\n",
       "    </tr>\n",
       "    <tr>\n",
       "      <th>4</th>\n",
       "      <td>535871217</td>\n",
       "      <td>1004237</td>\n",
       "      <td>2019-10-01 00:00:04</td>\n",
       "      <td>1</td>\n",
       "      <td>1</td>\n",
       "    </tr>\n",
       "  </tbody>\n",
       "</table>\n",
       "</div>"
      ],
      "text/plain": [
       "     user_id  product_id          event_time  event_period  first_event\n",
       "0  541312140    44600062 2019-10-01 00:00:00             1            1\n",
       "1  554748717     3900821 2019-10-01 00:00:00             1            1\n",
       "2  519107250    17200506 2019-10-01 00:00:01             1            1\n",
       "3  550050854     1307067 2019-10-01 00:00:01             1            1\n",
       "4  535871217     1004237 2019-10-01 00:00:04             1            1"
      ]
     },
     "execution_count": 32,
     "metadata": {},
     "output_type": "execute_result"
    }
   ],
   "source": [
    "cohort_data['first_event'] = first_event\n",
    "cohort_data = cohort_data.reset_index()\n",
    "cohort_data.head()"
   ]
  },
  {
   "cell_type": "markdown",
   "id": "b94b10ff",
   "metadata": {},
   "source": [
    "### 코호트 그룹과 방문기간으로 데이터 집계하기"
   ]
  },
  {
   "cell_type": "code",
   "execution_count": 33,
   "id": "ee52e36f",
   "metadata": {
    "ExecuteTime": {
     "end_time": "2022-09-20T14:41:01.377695Z",
     "start_time": "2022-09-20T14:41:01.360697Z"
    }
   },
   "outputs": [],
   "source": [
    "grouped = cohort_data.groupby(['first_event','event_period'])"
   ]
  },
  {
   "cell_type": "markdown",
   "id": "bff61a74",
   "metadata": {},
   "source": [
    "groupby 함수에 첫 방문일자 first_event와 방문별 기간을 나타내는 event_period를 함께 전달하여  \n",
    "첫 방문일자와 방문기간을 기준으로 데이터를 그룹화합니다. "
   ]
  },
  {
   "cell_type": "code",
   "execution_count": 35,
   "id": "8ba29f8c",
   "metadata": {
    "ExecuteTime": {
     "end_time": "2022-09-20T14:42:54.695870Z",
     "start_time": "2022-09-20T14:42:43.740994Z"
    }
   },
   "outputs": [
    {
     "data": {
      "text/plain": [
       "first_event  event_period\n",
       "1            1               190188\n",
       "             2                32862\n",
       "             3                25730\n",
       "             4                27956\n",
       "             5                23299\n",
       "Name: user_id, dtype: int64"
      ]
     },
     "execution_count": 35,
     "metadata": {},
     "output_type": "execute_result"
    }
   ],
   "source": [
    "cohorts = grouped['user_id'].nunique()\n",
    "cohorts.head()"
   ]
  },
  {
   "cell_type": "markdown",
   "id": "ea9614e6",
   "metadata": {},
   "source": [
    "uesr_id를 집계하며, nunique()함수를 사용하여, 고객이 여러번 방문했더라도  \n",
    "한번만 집계하게 되어, 일별 순방문자수를 파악할 수 있습니다."
   ]
  },
  {
   "cell_type": "code",
   "execution_count": 37,
   "id": "aad2ab87",
   "metadata": {
    "ExecuteTime": {
     "end_time": "2022-09-20T14:44:12.582715Z",
     "start_time": "2022-09-20T14:44:12.563718Z"
    }
   },
   "outputs": [
    {
     "data": {
      "text/html": [
       "<div>\n",
       "<style scoped>\n",
       "    .dataframe tbody tr th:only-of-type {\n",
       "        vertical-align: middle;\n",
       "    }\n",
       "\n",
       "    .dataframe tbody tr th {\n",
       "        vertical-align: top;\n",
       "    }\n",
       "\n",
       "    .dataframe thead th {\n",
       "        text-align: right;\n",
       "    }\n",
       "</style>\n",
       "<table border=\"1\" class=\"dataframe\">\n",
       "  <thead>\n",
       "    <tr style=\"text-align: right;\">\n",
       "      <th></th>\n",
       "      <th>first_event</th>\n",
       "      <th>event_period</th>\n",
       "      <th>user_id</th>\n",
       "    </tr>\n",
       "  </thead>\n",
       "  <tbody>\n",
       "    <tr>\n",
       "      <th>0</th>\n",
       "      <td>1</td>\n",
       "      <td>1</td>\n",
       "      <td>190188</td>\n",
       "    </tr>\n",
       "    <tr>\n",
       "      <th>1</th>\n",
       "      <td>1</td>\n",
       "      <td>2</td>\n",
       "      <td>32862</td>\n",
       "    </tr>\n",
       "    <tr>\n",
       "      <th>2</th>\n",
       "      <td>1</td>\n",
       "      <td>3</td>\n",
       "      <td>25730</td>\n",
       "    </tr>\n",
       "    <tr>\n",
       "      <th>3</th>\n",
       "      <td>1</td>\n",
       "      <td>4</td>\n",
       "      <td>27956</td>\n",
       "    </tr>\n",
       "    <tr>\n",
       "      <th>4</th>\n",
       "      <td>1</td>\n",
       "      <td>5</td>\n",
       "      <td>23299</td>\n",
       "    </tr>\n",
       "  </tbody>\n",
       "</table>\n",
       "</div>"
      ],
      "text/plain": [
       "   first_event  event_period  user_id\n",
       "0            1             1   190188\n",
       "1            1             2    32862\n",
       "2            1             3    25730\n",
       "3            1             4    27956\n",
       "4            1             5    23299"
      ]
     },
     "execution_count": 37,
     "metadata": {},
     "output_type": "execute_result"
    }
   ],
   "source": [
    "cohorts = cohorts.reset_index()\n",
    "cohorts.head()"
   ]
  },
  {
   "cell_type": "code",
   "execution_count": 39,
   "id": "41c5895e",
   "metadata": {
    "ExecuteTime": {
     "end_time": "2022-09-20T14:44:50.785921Z",
     "start_time": "2022-09-20T14:44:50.772923Z"
    }
   },
   "outputs": [
    {
     "data": {
      "text/html": [
       "<div>\n",
       "<style scoped>\n",
       "    .dataframe tbody tr th:only-of-type {\n",
       "        vertical-align: middle;\n",
       "    }\n",
       "\n",
       "    .dataframe tbody tr th {\n",
       "        vertical-align: top;\n",
       "    }\n",
       "\n",
       "    .dataframe thead th {\n",
       "        text-align: right;\n",
       "    }\n",
       "</style>\n",
       "<table border=\"1\" class=\"dataframe\">\n",
       "  <thead>\n",
       "    <tr style=\"text-align: right;\">\n",
       "      <th></th>\n",
       "      <th>first_event</th>\n",
       "      <th>event_period</th>\n",
       "      <th>total_users</th>\n",
       "    </tr>\n",
       "  </thead>\n",
       "  <tbody>\n",
       "    <tr>\n",
       "      <th>0</th>\n",
       "      <td>1</td>\n",
       "      <td>1</td>\n",
       "      <td>190188</td>\n",
       "    </tr>\n",
       "    <tr>\n",
       "      <th>1</th>\n",
       "      <td>1</td>\n",
       "      <td>2</td>\n",
       "      <td>32862</td>\n",
       "    </tr>\n",
       "    <tr>\n",
       "      <th>2</th>\n",
       "      <td>1</td>\n",
       "      <td>3</td>\n",
       "      <td>25730</td>\n",
       "    </tr>\n",
       "    <tr>\n",
       "      <th>3</th>\n",
       "      <td>1</td>\n",
       "      <td>4</td>\n",
       "      <td>27956</td>\n",
       "    </tr>\n",
       "    <tr>\n",
       "      <th>4</th>\n",
       "      <td>1</td>\n",
       "      <td>5</td>\n",
       "      <td>23299</td>\n",
       "    </tr>\n",
       "  </tbody>\n",
       "</table>\n",
       "</div>"
      ],
      "text/plain": [
       "   first_event  event_period  total_users\n",
       "0            1             1       190188\n",
       "1            1             2        32862\n",
       "2            1             3        25730\n",
       "3            1             4        27956\n",
       "4            1             5        23299"
      ]
     },
     "execution_count": 39,
     "metadata": {},
     "output_type": "execute_result"
    }
   ],
   "source": [
    "cohorts = cohorts.rename({'user_id' : 'total_users'}, axis=1)\n",
    "cohorts.head()"
   ]
  },
  {
   "cell_type": "code",
   "execution_count": 41,
   "id": "66245ced",
   "metadata": {
    "ExecuteTime": {
     "end_time": "2022-09-20T14:46:03.323786Z",
     "start_time": "2022-09-20T14:46:03.304785Z"
    }
   },
   "outputs": [
    {
     "data": {
      "text/plain": [
       "1    31\n",
       "2    30\n",
       "3    29\n",
       "4    28\n",
       "5    27\n",
       "Name: first_event, dtype: int64"
      ]
     },
     "execution_count": 41,
     "metadata": {},
     "output_type": "execute_result"
    }
   ],
   "source": [
    "each_period = cohorts['first_event'].value_counts().sort_index()\n",
    "each_period.head()"
   ]
  },
  {
   "cell_type": "markdown",
   "id": "3e71a007",
   "metadata": {},
   "source": [
    "### 기간별 레이블 붙이기"
   ]
  },
  {
   "cell_type": "code",
   "execution_count": 42,
   "id": "c7f08e49",
   "metadata": {
    "ExecuteTime": {
     "end_time": "2022-09-20T14:47:23.197915Z",
     "start_time": "2022-09-20T14:47:23.155917Z"
    }
   },
   "outputs": [
    {
     "name": "stderr",
     "output_type": "stream",
     "text": [
      "100%|██████████████████████████████████████████████████████████████████████████████████████████| 31/31 [00:00<?, ?it/s]\n"
     ]
    }
   ],
   "source": [
    "cohort_period = []\n",
    "for x in tqdm(each_period):\n",
    "    for y in range(x):\n",
    "        cohort_period.append(y)"
   ]
  },
  {
   "cell_type": "code",
   "execution_count": 43,
   "id": "81262f90",
   "metadata": {
    "ExecuteTime": {
     "end_time": "2022-09-20T14:47:48.406234Z",
     "start_time": "2022-09-20T14:47:48.389237Z"
    }
   },
   "outputs": [
    {
     "data": {
      "text/html": [
       "<div>\n",
       "<style scoped>\n",
       "    .dataframe tbody tr th:only-of-type {\n",
       "        vertical-align: middle;\n",
       "    }\n",
       "\n",
       "    .dataframe tbody tr th {\n",
       "        vertical-align: top;\n",
       "    }\n",
       "\n",
       "    .dataframe thead th {\n",
       "        text-align: right;\n",
       "    }\n",
       "</style>\n",
       "<table border=\"1\" class=\"dataframe\">\n",
       "  <thead>\n",
       "    <tr style=\"text-align: right;\">\n",
       "      <th></th>\n",
       "      <th>first_event</th>\n",
       "      <th>event_period</th>\n",
       "      <th>total_users</th>\n",
       "      <th>cohort_period</th>\n",
       "    </tr>\n",
       "  </thead>\n",
       "  <tbody>\n",
       "    <tr>\n",
       "      <th>0</th>\n",
       "      <td>1</td>\n",
       "      <td>1</td>\n",
       "      <td>190188</td>\n",
       "      <td>0</td>\n",
       "    </tr>\n",
       "    <tr>\n",
       "      <th>1</th>\n",
       "      <td>1</td>\n",
       "      <td>2</td>\n",
       "      <td>32862</td>\n",
       "      <td>1</td>\n",
       "    </tr>\n",
       "    <tr>\n",
       "      <th>2</th>\n",
       "      <td>1</td>\n",
       "      <td>3</td>\n",
       "      <td>25730</td>\n",
       "      <td>2</td>\n",
       "    </tr>\n",
       "    <tr>\n",
       "      <th>3</th>\n",
       "      <td>1</td>\n",
       "      <td>4</td>\n",
       "      <td>27956</td>\n",
       "      <td>3</td>\n",
       "    </tr>\n",
       "    <tr>\n",
       "      <th>4</th>\n",
       "      <td>1</td>\n",
       "      <td>5</td>\n",
       "      <td>23299</td>\n",
       "      <td>4</td>\n",
       "    </tr>\n",
       "    <tr>\n",
       "      <th>5</th>\n",
       "      <td>1</td>\n",
       "      <td>6</td>\n",
       "      <td>21905</td>\n",
       "      <td>5</td>\n",
       "    </tr>\n",
       "    <tr>\n",
       "      <th>6</th>\n",
       "      <td>1</td>\n",
       "      <td>7</td>\n",
       "      <td>21404</td>\n",
       "      <td>6</td>\n",
       "    </tr>\n",
       "    <tr>\n",
       "      <th>7</th>\n",
       "      <td>1</td>\n",
       "      <td>8</td>\n",
       "      <td>22402</td>\n",
       "      <td>7</td>\n",
       "    </tr>\n",
       "    <tr>\n",
       "      <th>8</th>\n",
       "      <td>1</td>\n",
       "      <td>9</td>\n",
       "      <td>21313</td>\n",
       "      <td>8</td>\n",
       "    </tr>\n",
       "    <tr>\n",
       "      <th>9</th>\n",
       "      <td>1</td>\n",
       "      <td>10</td>\n",
       "      <td>20702</td>\n",
       "      <td>9</td>\n",
       "    </tr>\n",
       "  </tbody>\n",
       "</table>\n",
       "</div>"
      ],
      "text/plain": [
       "   first_event  event_period  total_users  cohort_period\n",
       "0            1             1       190188              0\n",
       "1            1             2        32862              1\n",
       "2            1             3        25730              2\n",
       "3            1             4        27956              3\n",
       "4            1             5        23299              4\n",
       "5            1             6        21905              5\n",
       "6            1             7        21404              6\n",
       "7            1             8        22402              7\n",
       "8            1             9        21313              8\n",
       "9            1            10        20702              9"
      ]
     },
     "execution_count": 43,
     "metadata": {},
     "output_type": "execute_result"
    }
   ],
   "source": [
    "cohorts['cohort_period'] = cohort_period\n",
    "cohorts.head(10)"
   ]
  },
  {
   "cell_type": "code",
   "execution_count": 45,
   "id": "81e3ede8",
   "metadata": {
    "ExecuteTime": {
     "end_time": "2022-09-20T14:48:34.750863Z",
     "start_time": "2022-09-20T14:48:34.731864Z"
    }
   },
   "outputs": [
    {
     "data": {
      "text/html": [
       "<div>\n",
       "<style scoped>\n",
       "    .dataframe tbody tr th:only-of-type {\n",
       "        vertical-align: middle;\n",
       "    }\n",
       "\n",
       "    .dataframe tbody tr th {\n",
       "        vertical-align: top;\n",
       "    }\n",
       "\n",
       "    .dataframe thead th {\n",
       "        text-align: right;\n",
       "    }\n",
       "</style>\n",
       "<table border=\"1\" class=\"dataframe\">\n",
       "  <thead>\n",
       "    <tr style=\"text-align: right;\">\n",
       "      <th></th>\n",
       "      <th></th>\n",
       "      <th>event_period</th>\n",
       "      <th>total_users</th>\n",
       "    </tr>\n",
       "    <tr>\n",
       "      <th>first_event</th>\n",
       "      <th>cohort_period</th>\n",
       "      <th></th>\n",
       "      <th></th>\n",
       "    </tr>\n",
       "  </thead>\n",
       "  <tbody>\n",
       "    <tr>\n",
       "      <th rowspan=\"5\" valign=\"top\">1</th>\n",
       "      <th>0</th>\n",
       "      <td>1</td>\n",
       "      <td>190188</td>\n",
       "    </tr>\n",
       "    <tr>\n",
       "      <th>1</th>\n",
       "      <td>2</td>\n",
       "      <td>32862</td>\n",
       "    </tr>\n",
       "    <tr>\n",
       "      <th>2</th>\n",
       "      <td>3</td>\n",
       "      <td>25730</td>\n",
       "    </tr>\n",
       "    <tr>\n",
       "      <th>3</th>\n",
       "      <td>4</td>\n",
       "      <td>27956</td>\n",
       "    </tr>\n",
       "    <tr>\n",
       "      <th>4</th>\n",
       "      <td>5</td>\n",
       "      <td>23299</td>\n",
       "    </tr>\n",
       "  </tbody>\n",
       "</table>\n",
       "</div>"
      ],
      "text/plain": [
       "                           event_period  total_users\n",
       "first_event cohort_period                           \n",
       "1           0                         1       190188\n",
       "            1                         2        32862\n",
       "            2                         3        25730\n",
       "            3                         4        27956\n",
       "            4                         5        23299"
      ]
     },
     "execution_count": 45,
     "metadata": {},
     "output_type": "execute_result"
    }
   ],
   "source": [
    "cohorts = cohorts.set_index(['first_event','cohort_period'])\n",
    "cohorts.head()"
   ]
  },
  {
   "cell_type": "code",
   "execution_count": 48,
   "id": "7e9727b8",
   "metadata": {
    "ExecuteTime": {
     "end_time": "2022-09-20T14:50:23.573126Z",
     "start_time": "2022-09-20T14:50:23.537126Z"
    }
   },
   "outputs": [
    {
     "data": {
      "text/html": [
       "<div>\n",
       "<style scoped>\n",
       "    .dataframe tbody tr th:only-of-type {\n",
       "        vertical-align: middle;\n",
       "    }\n",
       "\n",
       "    .dataframe tbody tr th {\n",
       "        vertical-align: top;\n",
       "    }\n",
       "\n",
       "    .dataframe thead th {\n",
       "        text-align: right;\n",
       "    }\n",
       "</style>\n",
       "<table border=\"1\" class=\"dataframe\">\n",
       "  <thead>\n",
       "    <tr style=\"text-align: right;\">\n",
       "      <th>cohort_period</th>\n",
       "      <th>0</th>\n",
       "      <th>1</th>\n",
       "      <th>2</th>\n",
       "      <th>3</th>\n",
       "      <th>4</th>\n",
       "      <th>5</th>\n",
       "      <th>6</th>\n",
       "      <th>7</th>\n",
       "      <th>8</th>\n",
       "      <th>9</th>\n",
       "      <th>...</th>\n",
       "      <th>21</th>\n",
       "      <th>22</th>\n",
       "      <th>23</th>\n",
       "      <th>24</th>\n",
       "      <th>25</th>\n",
       "      <th>26</th>\n",
       "      <th>27</th>\n",
       "      <th>28</th>\n",
       "      <th>29</th>\n",
       "      <th>30</th>\n",
       "    </tr>\n",
       "    <tr>\n",
       "      <th>first_event</th>\n",
       "      <th></th>\n",
       "      <th></th>\n",
       "      <th></th>\n",
       "      <th></th>\n",
       "      <th></th>\n",
       "      <th></th>\n",
       "      <th></th>\n",
       "      <th></th>\n",
       "      <th></th>\n",
       "      <th></th>\n",
       "      <th></th>\n",
       "      <th></th>\n",
       "      <th></th>\n",
       "      <th></th>\n",
       "      <th></th>\n",
       "      <th></th>\n",
       "      <th></th>\n",
       "      <th></th>\n",
       "      <th></th>\n",
       "      <th></th>\n",
       "      <th></th>\n",
       "    </tr>\n",
       "  </thead>\n",
       "  <tbody>\n",
       "    <tr>\n",
       "      <th>1</th>\n",
       "      <td>190188.0</td>\n",
       "      <td>32862.0</td>\n",
       "      <td>25730.0</td>\n",
       "      <td>27956.0</td>\n",
       "      <td>23299.0</td>\n",
       "      <td>21905.0</td>\n",
       "      <td>21404.0</td>\n",
       "      <td>22402.0</td>\n",
       "      <td>21313.0</td>\n",
       "      <td>20702.0</td>\n",
       "      <td>...</td>\n",
       "      <td>16791.0</td>\n",
       "      <td>16619.0</td>\n",
       "      <td>15744.0</td>\n",
       "      <td>17392.0</td>\n",
       "      <td>15357.0</td>\n",
       "      <td>15118.0</td>\n",
       "      <td>15236.0</td>\n",
       "      <td>14706.0</td>\n",
       "      <td>14296.0</td>\n",
       "      <td>14666.0</td>\n",
       "    </tr>\n",
       "    <tr>\n",
       "      <th>2</th>\n",
       "      <td>152103.0</td>\n",
       "      <td>20676.0</td>\n",
       "      <td>19952.0</td>\n",
       "      <td>16039.0</td>\n",
       "      <td>14938.0</td>\n",
       "      <td>14363.0</td>\n",
       "      <td>15183.0</td>\n",
       "      <td>14697.0</td>\n",
       "      <td>13937.0</td>\n",
       "      <td>15395.0</td>\n",
       "      <td>...</td>\n",
       "      <td>11308.0</td>\n",
       "      <td>10495.0</td>\n",
       "      <td>11592.0</td>\n",
       "      <td>10264.0</td>\n",
       "      <td>10216.0</td>\n",
       "      <td>10304.0</td>\n",
       "      <td>9844.0</td>\n",
       "      <td>9917.0</td>\n",
       "      <td>10205.0</td>\n",
       "      <td>NaN</td>\n",
       "    </tr>\n",
       "    <tr>\n",
       "      <th>3</th>\n",
       "      <td>124262.0</td>\n",
       "      <td>18286.0</td>\n",
       "      <td>13023.0</td>\n",
       "      <td>11690.0</td>\n",
       "      <td>11267.0</td>\n",
       "      <td>11870.0</td>\n",
       "      <td>11373.0</td>\n",
       "      <td>10689.0</td>\n",
       "      <td>11639.0</td>\n",
       "      <td>10543.0</td>\n",
       "      <td>...</td>\n",
       "      <td>8160.0</td>\n",
       "      <td>9055.0</td>\n",
       "      <td>7925.0</td>\n",
       "      <td>7921.0</td>\n",
       "      <td>7941.0</td>\n",
       "      <td>7482.0</td>\n",
       "      <td>7393.0</td>\n",
       "      <td>7682.0</td>\n",
       "      <td>NaN</td>\n",
       "      <td>NaN</td>\n",
       "    </tr>\n",
       "    <tr>\n",
       "      <th>4</th>\n",
       "      <td>143216.0</td>\n",
       "      <td>17675.0</td>\n",
       "      <td>13224.0</td>\n",
       "      <td>12067.0</td>\n",
       "      <td>12653.0</td>\n",
       "      <td>11801.0</td>\n",
       "      <td>11379.0</td>\n",
       "      <td>13091.0</td>\n",
       "      <td>11344.0</td>\n",
       "      <td>12162.0</td>\n",
       "      <td>...</td>\n",
       "      <td>9853.0</td>\n",
       "      <td>8512.0</td>\n",
       "      <td>8281.0</td>\n",
       "      <td>8155.0</td>\n",
       "      <td>7807.0</td>\n",
       "      <td>7646.0</td>\n",
       "      <td>8091.0</td>\n",
       "      <td>NaN</td>\n",
       "      <td>NaN</td>\n",
       "      <td>NaN</td>\n",
       "    </tr>\n",
       "    <tr>\n",
       "      <th>5</th>\n",
       "      <td>124922.0</td>\n",
       "      <td>14433.0</td>\n",
       "      <td>10078.0</td>\n",
       "      <td>9886.0</td>\n",
       "      <td>9264.0</td>\n",
       "      <td>8634.0</td>\n",
       "      <td>9871.0</td>\n",
       "      <td>9106.0</td>\n",
       "      <td>9538.0</td>\n",
       "      <td>8488.0</td>\n",
       "      <td>...</td>\n",
       "      <td>6839.0</td>\n",
       "      <td>6733.0</td>\n",
       "      <td>6088.0</td>\n",
       "      <td>6015.0</td>\n",
       "      <td>5809.0</td>\n",
       "      <td>6039.0</td>\n",
       "      <td>NaN</td>\n",
       "      <td>NaN</td>\n",
       "      <td>NaN</td>\n",
       "      <td>NaN</td>\n",
       "    </tr>\n",
       "  </tbody>\n",
       "</table>\n",
       "<p>5 rows × 31 columns</p>\n",
       "</div>"
      ],
      "text/plain": [
       "cohort_period        0        1        2        3        4        5        6   \\\n",
       "first_event                                                                     \n",
       "1              190188.0  32862.0  25730.0  27956.0  23299.0  21905.0  21404.0   \n",
       "2              152103.0  20676.0  19952.0  16039.0  14938.0  14363.0  15183.0   \n",
       "3              124262.0  18286.0  13023.0  11690.0  11267.0  11870.0  11373.0   \n",
       "4              143216.0  17675.0  13224.0  12067.0  12653.0  11801.0  11379.0   \n",
       "5              124922.0  14433.0  10078.0   9886.0   9264.0   8634.0   9871.0   \n",
       "\n",
       "cohort_period       7        8        9   ...       21       22       23  \\\n",
       "first_event                               ...                              \n",
       "1              22402.0  21313.0  20702.0  ...  16791.0  16619.0  15744.0   \n",
       "2              14697.0  13937.0  15395.0  ...  11308.0  10495.0  11592.0   \n",
       "3              10689.0  11639.0  10543.0  ...   8160.0   9055.0   7925.0   \n",
       "4              13091.0  11344.0  12162.0  ...   9853.0   8512.0   8281.0   \n",
       "5               9106.0   9538.0   8488.0  ...   6839.0   6733.0   6088.0   \n",
       "\n",
       "cohort_period       24       25       26       27       28       29       30  \n",
       "first_event                                                                   \n",
       "1              17392.0  15357.0  15118.0  15236.0  14706.0  14296.0  14666.0  \n",
       "2              10264.0  10216.0  10304.0   9844.0   9917.0  10205.0      NaN  \n",
       "3               7921.0   7941.0   7482.0   7393.0   7682.0      NaN      NaN  \n",
       "4               8155.0   7807.0   7646.0   8091.0      NaN      NaN      NaN  \n",
       "5               6015.0   5809.0   6039.0      NaN      NaN      NaN      NaN  \n",
       "\n",
       "[5 rows x 31 columns]"
      ]
     },
     "execution_count": 48,
     "metadata": {},
     "output_type": "execute_result"
    }
   ],
   "source": [
    "cohorts = cohorts['total_users'].unstack(1)\n",
    "cohorts.head()"
   ]
  },
  {
   "cell_type": "markdown",
   "id": "81f7b20a",
   "metadata": {},
   "source": [
    "### 코호트별 사용자 유지율 구하기"
   ]
  },
  {
   "cell_type": "code",
   "execution_count": 53,
   "id": "7bd24fbc",
   "metadata": {
    "ExecuteTime": {
     "end_time": "2022-09-20T14:51:04.385154Z",
     "start_time": "2022-09-20T14:51:04.366157Z"
    }
   },
   "outputs": [
    {
     "data": {
      "text/html": [
       "<div>\n",
       "<style scoped>\n",
       "    .dataframe tbody tr th:only-of-type {\n",
       "        vertical-align: middle;\n",
       "    }\n",
       "\n",
       "    .dataframe tbody tr th {\n",
       "        vertical-align: top;\n",
       "    }\n",
       "\n",
       "    .dataframe thead th {\n",
       "        text-align: right;\n",
       "    }\n",
       "</style>\n",
       "<table border=\"1\" class=\"dataframe\">\n",
       "  <thead>\n",
       "    <tr style=\"text-align: right;\">\n",
       "      <th>cohort_period</th>\n",
       "      <th>0</th>\n",
       "      <th>1</th>\n",
       "      <th>2</th>\n",
       "      <th>3</th>\n",
       "      <th>4</th>\n",
       "      <th>5</th>\n",
       "      <th>6</th>\n",
       "      <th>7</th>\n",
       "      <th>8</th>\n",
       "      <th>9</th>\n",
       "      <th>...</th>\n",
       "      <th>21</th>\n",
       "      <th>22</th>\n",
       "      <th>23</th>\n",
       "      <th>24</th>\n",
       "      <th>25</th>\n",
       "      <th>26</th>\n",
       "      <th>27</th>\n",
       "      <th>28</th>\n",
       "      <th>29</th>\n",
       "      <th>30</th>\n",
       "    </tr>\n",
       "    <tr>\n",
       "      <th>first_event</th>\n",
       "      <th></th>\n",
       "      <th></th>\n",
       "      <th></th>\n",
       "      <th></th>\n",
       "      <th></th>\n",
       "      <th></th>\n",
       "      <th></th>\n",
       "      <th></th>\n",
       "      <th></th>\n",
       "      <th></th>\n",
       "      <th></th>\n",
       "      <th></th>\n",
       "      <th></th>\n",
       "      <th></th>\n",
       "      <th></th>\n",
       "      <th></th>\n",
       "      <th></th>\n",
       "      <th></th>\n",
       "      <th></th>\n",
       "      <th></th>\n",
       "      <th></th>\n",
       "    </tr>\n",
       "  </thead>\n",
       "  <tbody>\n",
       "    <tr>\n",
       "      <th>1</th>\n",
       "      <td>1.0</td>\n",
       "      <td>0.172787</td>\n",
       "      <td>0.135287</td>\n",
       "      <td>0.146991</td>\n",
       "      <td>0.122505</td>\n",
       "      <td>0.115176</td>\n",
       "      <td>0.112541</td>\n",
       "      <td>0.117789</td>\n",
       "      <td>0.112063</td>\n",
       "      <td>0.108850</td>\n",
       "      <td>...</td>\n",
       "      <td>0.088286</td>\n",
       "      <td>0.087382</td>\n",
       "      <td>0.082781</td>\n",
       "      <td>0.091446</td>\n",
       "      <td>0.080746</td>\n",
       "      <td>0.079490</td>\n",
       "      <td>0.080110</td>\n",
       "      <td>0.077323</td>\n",
       "      <td>0.075168</td>\n",
       "      <td>0.077113</td>\n",
       "    </tr>\n",
       "    <tr>\n",
       "      <th>2</th>\n",
       "      <td>1.0</td>\n",
       "      <td>0.135934</td>\n",
       "      <td>0.131174</td>\n",
       "      <td>0.105448</td>\n",
       "      <td>0.098210</td>\n",
       "      <td>0.094429</td>\n",
       "      <td>0.099821</td>\n",
       "      <td>0.096625</td>\n",
       "      <td>0.091629</td>\n",
       "      <td>0.101214</td>\n",
       "      <td>...</td>\n",
       "      <td>0.074344</td>\n",
       "      <td>0.068999</td>\n",
       "      <td>0.076212</td>\n",
       "      <td>0.067481</td>\n",
       "      <td>0.067165</td>\n",
       "      <td>0.067744</td>\n",
       "      <td>0.064719</td>\n",
       "      <td>0.065199</td>\n",
       "      <td>0.067093</td>\n",
       "      <td>NaN</td>\n",
       "    </tr>\n",
       "    <tr>\n",
       "      <th>3</th>\n",
       "      <td>1.0</td>\n",
       "      <td>0.147157</td>\n",
       "      <td>0.104803</td>\n",
       "      <td>0.094075</td>\n",
       "      <td>0.090671</td>\n",
       "      <td>0.095524</td>\n",
       "      <td>0.091524</td>\n",
       "      <td>0.086020</td>\n",
       "      <td>0.093665</td>\n",
       "      <td>0.084845</td>\n",
       "      <td>...</td>\n",
       "      <td>0.065668</td>\n",
       "      <td>0.072870</td>\n",
       "      <td>0.063777</td>\n",
       "      <td>0.063744</td>\n",
       "      <td>0.063905</td>\n",
       "      <td>0.060211</td>\n",
       "      <td>0.059495</td>\n",
       "      <td>0.061821</td>\n",
       "      <td>NaN</td>\n",
       "      <td>NaN</td>\n",
       "    </tr>\n",
       "    <tr>\n",
       "      <th>4</th>\n",
       "      <td>1.0</td>\n",
       "      <td>0.123415</td>\n",
       "      <td>0.092336</td>\n",
       "      <td>0.084257</td>\n",
       "      <td>0.088349</td>\n",
       "      <td>0.082400</td>\n",
       "      <td>0.079453</td>\n",
       "      <td>0.091407</td>\n",
       "      <td>0.079209</td>\n",
       "      <td>0.084921</td>\n",
       "      <td>...</td>\n",
       "      <td>0.068798</td>\n",
       "      <td>0.059435</td>\n",
       "      <td>0.057822</td>\n",
       "      <td>0.056942</td>\n",
       "      <td>0.054512</td>\n",
       "      <td>0.053388</td>\n",
       "      <td>0.056495</td>\n",
       "      <td>NaN</td>\n",
       "      <td>NaN</td>\n",
       "      <td>NaN</td>\n",
       "    </tr>\n",
       "    <tr>\n",
       "      <th>5</th>\n",
       "      <td>1.0</td>\n",
       "      <td>0.115536</td>\n",
       "      <td>0.080674</td>\n",
       "      <td>0.079137</td>\n",
       "      <td>0.074158</td>\n",
       "      <td>0.069115</td>\n",
       "      <td>0.079017</td>\n",
       "      <td>0.072893</td>\n",
       "      <td>0.076352</td>\n",
       "      <td>0.067946</td>\n",
       "      <td>...</td>\n",
       "      <td>0.054746</td>\n",
       "      <td>0.053898</td>\n",
       "      <td>0.048734</td>\n",
       "      <td>0.048150</td>\n",
       "      <td>0.046501</td>\n",
       "      <td>0.048342</td>\n",
       "      <td>NaN</td>\n",
       "      <td>NaN</td>\n",
       "      <td>NaN</td>\n",
       "      <td>NaN</td>\n",
       "    </tr>\n",
       "  </tbody>\n",
       "</table>\n",
       "<p>5 rows × 31 columns</p>\n",
       "</div>"
      ],
      "text/plain": [
       "cohort_period   0         1         2         3         4         5   \\\n",
       "first_event                                                            \n",
       "1              1.0  0.172787  0.135287  0.146991  0.122505  0.115176   \n",
       "2              1.0  0.135934  0.131174  0.105448  0.098210  0.094429   \n",
       "3              1.0  0.147157  0.104803  0.094075  0.090671  0.095524   \n",
       "4              1.0  0.123415  0.092336  0.084257  0.088349  0.082400   \n",
       "5              1.0  0.115536  0.080674  0.079137  0.074158  0.069115   \n",
       "\n",
       "cohort_period        6         7         8         9   ...        21  \\\n",
       "first_event                                            ...             \n",
       "1              0.112541  0.117789  0.112063  0.108850  ...  0.088286   \n",
       "2              0.099821  0.096625  0.091629  0.101214  ...  0.074344   \n",
       "3              0.091524  0.086020  0.093665  0.084845  ...  0.065668   \n",
       "4              0.079453  0.091407  0.079209  0.084921  ...  0.068798   \n",
       "5              0.079017  0.072893  0.076352  0.067946  ...  0.054746   \n",
       "\n",
       "cohort_period        22        23        24        25        26        27  \\\n",
       "first_event                                                                 \n",
       "1              0.087382  0.082781  0.091446  0.080746  0.079490  0.080110   \n",
       "2              0.068999  0.076212  0.067481  0.067165  0.067744  0.064719   \n",
       "3              0.072870  0.063777  0.063744  0.063905  0.060211  0.059495   \n",
       "4              0.059435  0.057822  0.056942  0.054512  0.053388  0.056495   \n",
       "5              0.053898  0.048734  0.048150  0.046501  0.048342       NaN   \n",
       "\n",
       "cohort_period        28        29        30  \n",
       "first_event                                  \n",
       "1              0.077323  0.075168  0.077113  \n",
       "2              0.065199  0.067093       NaN  \n",
       "3              0.061821       NaN       NaN  \n",
       "4                   NaN       NaN       NaN  \n",
       "5                   NaN       NaN       NaN  \n",
       "\n",
       "[5 rows x 31 columns]"
      ]
     },
     "execution_count": 53,
     "metadata": {},
     "output_type": "execute_result"
    }
   ],
   "source": [
    "user_retention = cohorts.divide(cohorts[0], axis=0)\n",
    "user_retention.head()"
   ]
  },
  {
   "cell_type": "markdown",
   "id": "4442feaf",
   "metadata": {},
   "source": [
    "# 시각화"
   ]
  },
  {
   "cell_type": "code",
   "execution_count": 57,
   "id": "95d8b332",
   "metadata": {
    "ExecuteTime": {
     "end_time": "2022-09-20T14:52:59.716724Z",
     "start_time": "2022-09-20T14:52:58.148125Z"
    }
   },
   "outputs": [
    {
     "data": {
      "image/png": "[encoded data removed]",
      "text/plain": [
       "<Figure size 2500x1000 with 2 Axes>"
      ]
     },
     "metadata": {},
     "output_type": "display_data"
    }
   ],
   "source": [
    "plt.figure(figsize=(25, 10))\n",
    "plt.title('Cohort Analysis')\n",
    "sns.heatmap(user_retention, annot=True, fmt='.0%')\n",
    "plt.show()"
   ]
  },
  {
   "cell_type": "code",
   "execution_count": null,
   "id": "706c8603",
   "metadata": {},
   "outputs": [],
   "source": []
  },
  {
   "cell_type": "code",
   "execution_count": null,
   "id": "8a3dcf91",
   "metadata": {},
   "outputs": [],
   "source": []
  },
  {
   "cell_type": "code",
   "execution_count": null,
   "id": "4635e744",
   "metadata": {},
   "outputs": [],
   "source": []
  },
  {
   "cell_type": "code",
   "execution_count": null,
   "id": "f1922d7c",
   "metadata": {},
   "outputs": [],
   "source": []
  },
  {
   "cell_type": "markdown",
   "id": "2da3bbad",
   "metadata": {
    "id": "2da3bbad"
   },
   "source": [
    "# 사람들이 어떤 제품을 가장 많이 구매하는가?"
   ]
  },
  {
   "cell_type": "markdown",
   "id": "64006789",
   "metadata": {
    "id": "64006789"
   },
   "source": [
    "event_type 중 purchase만 가져와서 확인하겠습니다."
   ]
  },
  {
   "cell_type": "code",
   "execution_count": null,
   "id": "15460d94",
   "metadata": {
    "ExecuteTime": {
     "end_time": "2022-09-16T08:07:58.248989Z",
     "start_time": "2022-09-16T08:07:58.112967Z"
    },
    "id": "15460d94",
    "outputId": "4979d06c-fa15-40b3-eeec-bdc629d699c1"
   },
   "outputs": [
    {
     "data": {
      "text/plain": [
       "(742849, 9)"
      ]
     },
     "execution_count": 165,
     "metadata": {},
     "output_type": "execute_result"
    }
   ],
   "source": [
    "purchase = copy_df.loc[copy_df['event_type'] == 'purchase']\n",
    "purchase.shape"
   ]
  },
  {
   "cell_type": "code",
   "execution_count": null,
   "id": "fdd37f9b",
   "metadata": {
    "ExecuteTime": {
     "end_time": "2022-09-16T08:08:07.805661Z",
     "start_time": "2022-09-16T08:08:07.781661Z"
    },
    "id": "fdd37f9b",
    "outputId": "f0307bde-6b66-4000-9323-cd45c6bc3483"
   },
   "outputs": [
    {
     "data": {
      "text/html": [
       "<div>\n",
       "<style scoped>\n",
       "    .dataframe tbody tr th:only-of-type {\n",
       "        vertical-align: middle;\n",
       "    }\n",
       "\n",
       "    .dataframe tbody tr th {\n",
       "        vertical-align: top;\n",
       "    }\n",
       "\n",
       "    .dataframe thead th {\n",
       "        text-align: right;\n",
       "    }\n",
       "</style>\n",
       "<table border=\"1\" class=\"dataframe\">\n",
       "  <thead>\n",
       "    <tr style=\"text-align: right;\">\n",
       "      <th></th>\n",
       "      <th>event_time</th>\n",
       "      <th>event_type</th>\n",
       "      <th>product_id</th>\n",
       "      <th>category_id</th>\n",
       "      <th>category_code</th>\n",
       "      <th>brand</th>\n",
       "      <th>price</th>\n",
       "      <th>user_id</th>\n",
       "      <th>user_session</th>\n",
       "    </tr>\n",
       "  </thead>\n",
       "  <tbody>\n",
       "    <tr>\n",
       "      <th>162</th>\n",
       "      <td>2019-10-01 00:02:14</td>\n",
       "      <td>purchase</td>\n",
       "      <td>1004856</td>\n",
       "      <td>-1769995873</td>\n",
       "      <td>electronics.smartphone</td>\n",
       "      <td>samsung</td>\n",
       "      <td>130.759995</td>\n",
       "      <td>543272936</td>\n",
       "      <td>8187d148-3c41-46d4-b0c0-9c08cd9dc564</td>\n",
       "    </tr>\n",
       "    <tr>\n",
       "      <th>308</th>\n",
       "      <td>2019-10-01 00:04:37</td>\n",
       "      <td>purchase</td>\n",
       "      <td>1002532</td>\n",
       "      <td>-1769995873</td>\n",
       "      <td>electronics.smartphone</td>\n",
       "      <td>apple</td>\n",
       "      <td>642.690002</td>\n",
       "      <td>551377651</td>\n",
       "      <td>3c80f0d6-e9ec-4181-8c5c-837a30be2d68</td>\n",
       "    </tr>\n",
       "    <tr>\n",
       "      <th>379</th>\n",
       "      <td>2019-10-01 00:06:02</td>\n",
       "      <td>purchase</td>\n",
       "      <td>5100816</td>\n",
       "      <td>268435735</td>\n",
       "      <td>NaN</td>\n",
       "      <td>xiaomi</td>\n",
       "      <td>29.510000</td>\n",
       "      <td>514591159</td>\n",
       "      <td>0e5dfc4b-2a55-43e6-8c05-97e1f07fbb56</td>\n",
       "    </tr>\n",
       "    <tr>\n",
       "      <th>442</th>\n",
       "      <td>2019-10-01 00:07:07</td>\n",
       "      <td>purchase</td>\n",
       "      <td>13800054</td>\n",
       "      <td>16777737</td>\n",
       "      <td>furniture.bathroom.toilet</td>\n",
       "      <td>santeri</td>\n",
       "      <td>54.419998</td>\n",
       "      <td>555332717</td>\n",
       "      <td>1dea3ee2-2ded-42e8-8e7a-4e2ad6ae942f</td>\n",
       "    </tr>\n",
       "    <tr>\n",
       "      <th>574</th>\n",
       "      <td>2019-10-01 00:09:26</td>\n",
       "      <td>purchase</td>\n",
       "      <td>4804055</td>\n",
       "      <td>1551892843</td>\n",
       "      <td>electronics.audio.headphone</td>\n",
       "      <td>apple</td>\n",
       "      <td>189.910004</td>\n",
       "      <td>524601178</td>\n",
       "      <td>2af9b570-0942-4dcd-8f25-4d84fba82553</td>\n",
       "    </tr>\n",
       "  </tbody>\n",
       "</table>\n",
       "</div>"
      ],
      "text/plain": [
       "             event_time event_type  product_id  category_id  \\\n",
       "162 2019-10-01 00:02:14   purchase     1004856  -1769995873   \n",
       "308 2019-10-01 00:04:37   purchase     1002532  -1769995873   \n",
       "379 2019-10-01 00:06:02   purchase     5100816    268435735   \n",
       "442 2019-10-01 00:07:07   purchase    13800054     16777737   \n",
       "574 2019-10-01 00:09:26   purchase     4804055   1551892843   \n",
       "\n",
       "                   category_code    brand       price    user_id  \\\n",
       "162       electronics.smartphone  samsung  130.759995  543272936   \n",
       "308       electronics.smartphone    apple  642.690002  551377651   \n",
       "379                          NaN   xiaomi   29.510000  514591159   \n",
       "442    furniture.bathroom.toilet  santeri   54.419998  555332717   \n",
       "574  electronics.audio.headphone    apple  189.910004  524601178   \n",
       "\n",
       "                             user_session  \n",
       "162  8187d148-3c41-46d4-b0c0-9c08cd9dc564  \n",
       "308  3c80f0d6-e9ec-4181-8c5c-837a30be2d68  \n",
       "379  0e5dfc4b-2a55-43e6-8c05-97e1f07fbb56  \n",
       "442  1dea3ee2-2ded-42e8-8e7a-4e2ad6ae942f  \n",
       "574  2af9b570-0942-4dcd-8f25-4d84fba82553  "
      ]
     },
     "execution_count": 166,
     "metadata": {},
     "output_type": "execute_result"
    }
   ],
   "source": [
    "purchase.head()"
   ]
  },
  {
   "cell_type": "code",
   "execution_count": null,
   "id": "00dc4ab1",
   "metadata": {
    "ExecuteTime": {
     "end_time": "2022-09-16T09:07:05.231827Z",
     "start_time": "2022-09-16T09:07:05.209827Z"
    },
    "id": "00dc4ab1"
   },
   "outputs": [],
   "source": [
    "top10_product = purchase['product_id'].value_counts()[:10]"
   ]
  },
  {
   "cell_type": "code",
   "execution_count": null,
   "id": "53e5504c",
   "metadata": {
    "ExecuteTime": {
     "end_time": "2022-09-16T09:07:05.532857Z",
     "start_time": "2022-09-16T09:07:05.459847Z"
    },
    "id": "53e5504c"
   },
   "outputs": [],
   "source": [
    "products = []\n",
    "for i in range(len(top10_product)):\n",
    "    product = top10_product.index[i]\n",
    "    count = top10_product.values[i]\n",
    "    category_code = purchase.loc[purchase['product_id']==product]['category_code'].unique()[0]\n",
    "    brand = purchase.loc[purchase['product_id']==product]['brand'].unique()[0]\n",
    "    \n",
    "    products.append([product,category_code, brand, count])"
   ]
  },
  {
   "cell_type": "code",
   "execution_count": null,
   "id": "03b3cc72",
   "metadata": {
    "ExecuteTime": {
     "end_time": "2022-09-16T09:07:28.176476Z",
     "start_time": "2022-09-16T09:07:28.159478Z"
    },
    "id": "03b3cc72",
    "outputId": "92f723b7-3380-4221-ff23-aa00206be445"
   },
   "outputs": [
    {
     "data": {
      "text/html": [
       "<div>\n",
       "<style scoped>\n",
       "    .dataframe tbody tr th:only-of-type {\n",
       "        vertical-align: middle;\n",
       "    }\n",
       "\n",
       "    .dataframe tbody tr th {\n",
       "        vertical-align: top;\n",
       "    }\n",
       "\n",
       "    .dataframe thead th {\n",
       "        text-align: right;\n",
       "    }\n",
       "</style>\n",
       "<table border=\"1\" class=\"dataframe\">\n",
       "  <thead>\n",
       "    <tr style=\"text-align: right;\">\n",
       "      <th></th>\n",
       "      <th>product_id</th>\n",
       "      <th>category_code</th>\n",
       "      <th>brand</th>\n",
       "      <th>count</th>\n",
       "    </tr>\n",
       "  </thead>\n",
       "  <tbody>\n",
       "    <tr>\n",
       "      <th>0</th>\n",
       "      <td>1004856</td>\n",
       "      <td>electronics.smartphone</td>\n",
       "      <td>samsung</td>\n",
       "      <td>28944</td>\n",
       "    </tr>\n",
       "    <tr>\n",
       "      <th>1</th>\n",
       "      <td>1004767</td>\n",
       "      <td>electronics.smartphone</td>\n",
       "      <td>samsung</td>\n",
       "      <td>21806</td>\n",
       "    </tr>\n",
       "    <tr>\n",
       "      <th>2</th>\n",
       "      <td>1004833</td>\n",
       "      <td>electronics.smartphone</td>\n",
       "      <td>samsung</td>\n",
       "      <td>12697</td>\n",
       "    </tr>\n",
       "    <tr>\n",
       "      <th>3</th>\n",
       "      <td>1005115</td>\n",
       "      <td>electronics.smartphone</td>\n",
       "      <td>apple</td>\n",
       "      <td>12543</td>\n",
       "    </tr>\n",
       "    <tr>\n",
       "      <th>4</th>\n",
       "      <td>4804056</td>\n",
       "      <td>electronics.audio.headphone</td>\n",
       "      <td>apple</td>\n",
       "      <td>12381</td>\n",
       "    </tr>\n",
       "    <tr>\n",
       "      <th>5</th>\n",
       "      <td>1004870</td>\n",
       "      <td>electronics.smartphone</td>\n",
       "      <td>samsung</td>\n",
       "      <td>10615</td>\n",
       "    </tr>\n",
       "    <tr>\n",
       "      <th>6</th>\n",
       "      <td>1002544</td>\n",
       "      <td>electronics.smartphone</td>\n",
       "      <td>apple</td>\n",
       "      <td>10549</td>\n",
       "    </tr>\n",
       "    <tr>\n",
       "      <th>7</th>\n",
       "      <td>1004249</td>\n",
       "      <td>electronics.smartphone</td>\n",
       "      <td>apple</td>\n",
       "      <td>9090</td>\n",
       "    </tr>\n",
       "    <tr>\n",
       "      <th>8</th>\n",
       "      <td>1004836</td>\n",
       "      <td>electronics.smartphone</td>\n",
       "      <td>samsung</td>\n",
       "      <td>7691</td>\n",
       "    </tr>\n",
       "    <tr>\n",
       "      <th>9</th>\n",
       "      <td>1005105</td>\n",
       "      <td>electronics.smartphone</td>\n",
       "      <td>apple</td>\n",
       "      <td>7293</td>\n",
       "    </tr>\n",
       "  </tbody>\n",
       "</table>\n",
       "</div>"
      ],
      "text/plain": [
       "   product_id                category_code    brand  count\n",
       "0     1004856       electronics.smartphone  samsung  28944\n",
       "1     1004767       electronics.smartphone  samsung  21806\n",
       "2     1004833       electronics.smartphone  samsung  12697\n",
       "3     1005115       electronics.smartphone    apple  12543\n",
       "4     4804056  electronics.audio.headphone    apple  12381\n",
       "5     1004870       electronics.smartphone  samsung  10615\n",
       "6     1002544       electronics.smartphone    apple  10549\n",
       "7     1004249       electronics.smartphone    apple   9090\n",
       "8     1004836       electronics.smartphone  samsung   7691\n",
       "9     1005105       electronics.smartphone    apple   7293"
      ]
     },
     "execution_count": 244,
     "metadata": {},
     "output_type": "execute_result"
    }
   ],
   "source": [
    "pd.DataFrame(products, columns=['product_id','category_code','brand','count'])"
   ]
  },
  {
   "cell_type": "markdown",
   "id": "568e8465",
   "metadata": {
    "id": "568e8465"
   },
   "source": [
    " "
   ]
  }
 ],
 "metadata": {
  "colab": {
   "collapsed_sections": [],
   "provenance": []
  },
  "kernelspec": {
   "display_name": "Python 3 (ipykernel)",
   "language": "python",
   "name": "python3"
  },
  "language_info": {
   "codemirror_mode": {
    "name": "ipython",
    "version": 3
   },
   "file_extension": ".py",
   "mimetype": "text/x-python",
   "name": "python",
   "nbconvert_exporter": "python",
   "pygments_lexer": "ipython3",
   "version": "3.7.13"
  },
  "toc": {
   "base_numbering": 1,
   "nav_menu": {},
   "number_sections": true,
   "sideBar": true,
   "skip_h1_title": false,
   "title_cell": "Table of Contents",
   "title_sidebar": "Contents",
   "toc_cell": false,
   "toc_position": {},
   "toc_section_display": true,
   "toc_window_display": false
  },
  "varInspector": {
   "cols": {
    "lenName": 16,
    "lenType": 16,
    "lenVar": 40
   },
   "kernels_config": {
    "python": {
     "delete_cmd_postfix": "",
     "delete_cmd_prefix": "del ",
     "library": "var_list.py",
     "varRefreshCmd": "print(var_dic_list())"
    },
    "r": {
     "delete_cmd_postfix": ") ",
     "delete_cmd_prefix": "rm(",
     "library": "var_list.r",
     "varRefreshCmd": "cat(var_dic_list()) "
    }
   },
   "types_to_exclude": [
    "module",
    "function",
    "builtin_function_or_method",
    "instance",
    "_Feature"
   ],
   "window_display": false
  }
 },
 "nbformat": 4,
 "nbformat_minor": 5
}
