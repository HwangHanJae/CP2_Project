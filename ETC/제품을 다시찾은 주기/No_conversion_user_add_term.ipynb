{
 "cells": [
  {
   "cell_type": "code",
   "execution_count": 1,
   "metadata": {
    "ExecuteTime": {
     "end_time": "2022-10-06T06:50:16.034378Z",
     "start_time": "2022-10-06T06:50:12.108185Z"
    },
    "colab": {
     "base_uri": "https://localhost:8080/"
    },
    "executionInfo": {
     "elapsed": 4996,
     "status": "ok",
     "timestamp": 1665034609218,
     "user": {
      "displayName": "황한재",
      "userId": "14227530291133837934"
     },
     "user_tz": -540
    },
    "id": "7Xt6ssXNxNSJ",
    "outputId": "572a36a1-2e53-4c5e-a55a-ad612f1eb401"
   },
   "outputs": [
    {
     "name": "stdout",
     "output_type": "stream",
     "text": [
      "Collecting implicit\n",
      "  Downloading implicit-0.6.1-cp39-cp39-macosx_10_9_x86_64.whl (1.0 MB)\n",
      "\u001b[K     |████████████████████████████████| 1.0 MB 9.3 MB/s eta 0:00:01\n",
      "\u001b[?25hRequirement already satisfied: numpy in /Users/hanjaewon/opt/anaconda3/lib/python3.9/site-packages (from implicit) (1.20.3)\n",
      "Requirement already satisfied: scipy>=0.16 in /Users/hanjaewon/opt/anaconda3/lib/python3.9/site-packages (from implicit) (1.7.1)\n",
      "Requirement already satisfied: tqdm>=4.27 in /Users/hanjaewon/opt/anaconda3/lib/python3.9/site-packages (from implicit) (4.62.3)\n",
      "Installing collected packages: implicit\n",
      "Successfully installed implicit-0.6.1\n",
      "Collecting fastparquet\n",
      "  Downloading fastparquet-0.8.3-cp39-cp39-macosx_10_9_universal2.whl (777 kB)\n",
      "\u001b[K     |████████████████████████████████| 777 kB 8.5 MB/s eta 0:00:01\n",
      "\u001b[?25hRequirement already satisfied: pandas>=1.1.0 in /Users/hanjaewon/opt/anaconda3/lib/python3.9/site-packages (from fastparquet) (1.3.4)\n",
      "Requirement already satisfied: numpy>=1.18 in /Users/hanjaewon/opt/anaconda3/lib/python3.9/site-packages (from fastparquet) (1.20.3)\n",
      "Collecting cramjam>=2.3.0\n",
      "  Downloading cramjam-2.5.0-cp39-cp39-macosx_10_9_x86_64.macosx_11_0_arm64.macosx_10_9_universal2.whl (2.7 MB)\n",
      "\u001b[K     |████████████████████████████████| 2.7 MB 10.2 MB/s eta 0:00:01\n",
      "\u001b[?25hRequirement already satisfied: packaging in /Users/hanjaewon/opt/anaconda3/lib/python3.9/site-packages (from fastparquet) (21.2)\n",
      "Requirement already satisfied: fsspec in /Users/hanjaewon/opt/anaconda3/lib/python3.9/site-packages (from fastparquet) (2021.8.1)\n",
      "Requirement already satisfied: python-dateutil>=2.7.3 in /Users/hanjaewon/opt/anaconda3/lib/python3.9/site-packages (from pandas>=1.1.0->fastparquet) (2.8.1)\n",
      "Requirement already satisfied: pytz>=2017.3 in /Users/hanjaewon/opt/anaconda3/lib/python3.9/site-packages (from pandas>=1.1.0->fastparquet) (2021.3)\n",
      "Requirement already satisfied: six>=1.5 in /Users/hanjaewon/opt/anaconda3/lib/python3.9/site-packages (from python-dateutil>=2.7.3->pandas>=1.1.0->fastparquet) (1.15.0)\n",
      "Requirement already satisfied: pyparsing<3,>=2.0.2 in /Users/hanjaewon/opt/anaconda3/lib/python3.9/site-packages (from packaging->fastparquet) (2.4.7)\n",
      "Installing collected packages: cramjam, fastparquet\n",
      "Successfully installed cramjam-2.5.0 fastparquet-0.8.3\n"
     ]
    }
   ],
   "source": [
    "!pip install implicit\n",
    "!pip install fastparquet"
   ]
  },
  {
   "cell_type": "code",
   "execution_count": 2,
   "metadata": {
    "ExecuteTime": {
     "end_time": "2022-10-06T06:50:22.035781Z",
     "start_time": "2022-10-06T06:50:18.298155Z"
    },
    "executionInfo": {
     "elapsed": 654,
     "status": "ok",
     "timestamp": 1665034609869,
     "user": {
      "displayName": "황한재",
      "userId": "14227530291133837934"
     },
     "user_tz": -540
    },
    "id": "57IR2mR4xCT3"
   },
   "outputs": [],
   "source": [
    "import pandas as pd\n",
    "import numpy as np\n",
    "import scipy.sparse as sparse\n",
    "import random\n",
    "import implicit\n",
    "import datetime\n",
    "\n",
    "from tqdm import tqdm"
   ]
  },
  {
   "cell_type": "code",
   "execution_count": 3,
   "metadata": {
    "ExecuteTime": {
     "end_time": "2022-10-06T06:50:36.378498Z",
     "start_time": "2022-10-06T06:50:29.814725Z"
    },
    "executionInfo": {
     "elapsed": 5097,
     "status": "ok",
     "timestamp": 1665034614965,
     "user": {
      "displayName": "황한재",
      "userId": "14227530291133837934"
     },
     "user_tz": -540
    },
    "id": "jY-PBqOaxOb1"
   },
   "outputs": [],
   "source": [
    "#try:\n",
    "#  path = 'C:/Users/User/Desktop/AIB_13/CP2/data/'\n",
    "#  df = pd.read_parquet(path + 'light_2019-Oct.parquet', engine='fastparquet')\n",
    "#except:\n",
    "#  path = '/content/drive/MyDrive/CP2/data/'\n",
    "#  df = pd.read_parquet(path + 'light_2019-Oct.parquet', engine='fastparquet')\n",
    "\n",
    "df = pd.read_parquet('light_2019-Oct.parquet', engine='fastparquet')"
   ]
  },
  {
   "cell_type": "code",
   "execution_count": 4,
   "metadata": {
    "ExecuteTime": {
     "end_time": "2022-10-06T06:50:44.961505Z",
     "start_time": "2022-10-06T06:50:40.412393Z"
    },
    "colab": {
     "base_uri": "https://localhost:8080/"
    },
    "executionInfo": {
     "elapsed": 6504,
     "status": "ok",
     "timestamp": 1665034621467,
     "user": {
      "displayName": "황한재",
      "userId": "14227530291133837934"
     },
     "user_tz": -540
    },
    "id": "sZNiCS1CxYpK",
    "outputId": "1831765a-1947-4e9f-d0e1-5a0a6a855164"
   },
   "outputs": [
    {
     "data": {
      "text/plain": [
       "dtype('<M8[ns]')"
      ]
     },
     "execution_count": 4,
     "metadata": {},
     "output_type": "execute_result"
    }
   ],
   "source": [
    "df['event_time'] = df['event_time'].apply(lambda x : x[:-4]).astype('datetime64')\n",
    "df['event_time'].dtype"
   ]
  },
  {
   "cell_type": "code",
   "execution_count": 5,
   "metadata": {
    "ExecuteTime": {
     "end_time": "2022-10-06T06:50:57.187212Z",
     "start_time": "2022-10-06T06:50:56.687254Z"
    },
    "colab": {
     "base_uri": "https://localhost:8080/"
    },
    "executionInfo": {
     "elapsed": 786,
     "status": "ok",
     "timestamp": 1665034622250,
     "user": {
      "displayName": "황한재",
      "userId": "14227530291133837934"
     },
     "user_tz": -540
    },
    "id": "2pCarGxrxZYe",
    "outputId": "adc57156-c519-4c0a-aabd-88204ff1b866"
   },
   "outputs": [
    {
     "data": {
      "text/plain": [
       "42448759   2019-11-01 03:59:58\n",
       "42448760   2019-11-01 03:59:58\n",
       "42448761   2019-11-01 03:59:58\n",
       "42448762   2019-11-01 03:59:59\n",
       "42448763   2019-11-01 03:59:59\n",
       "Name: event_time, dtype: datetime64[ns]"
      ]
     },
     "execution_count": 5,
     "metadata": {},
     "output_type": "execute_result"
    }
   ],
   "source": [
    "df['event_time'] = df['event_time'] + datetime.timedelta(hours=4)\n",
    "df['event_time'].tail()"
   ]
  },
  {
   "cell_type": "code",
   "execution_count": 6,
   "metadata": {
    "ExecuteTime": {
     "end_time": "2022-10-06T06:50:58.227140Z",
     "start_time": "2022-10-06T06:50:58.198772Z"
    },
    "colab": {
     "base_uri": "https://localhost:8080/",
     "height": 206
    },
    "executionInfo": {
     "elapsed": 6,
     "status": "ok",
     "timestamp": 1665034623475,
     "user": {
      "displayName": "황한재",
      "userId": "14227530291133837934"
     },
     "user_tz": -540
    },
    "id": "HPAWCT5-xbKU",
    "outputId": "2bab7708-dd99-4fa9-e917-054c6939679d"
   },
   "outputs": [
    {
     "data": {
      "text/html": [
       "<div>\n",
       "<style scoped>\n",
       "    .dataframe tbody tr th:only-of-type {\n",
       "        vertical-align: middle;\n",
       "    }\n",
       "\n",
       "    .dataframe tbody tr th {\n",
       "        vertical-align: top;\n",
       "    }\n",
       "\n",
       "    .dataframe thead th {\n",
       "        text-align: right;\n",
       "    }\n",
       "</style>\n",
       "<table border=\"1\" class=\"dataframe\">\n",
       "  <thead>\n",
       "    <tr style=\"text-align: right;\">\n",
       "      <th></th>\n",
       "      <th>event_time</th>\n",
       "      <th>event_type</th>\n",
       "      <th>product_id</th>\n",
       "      <th>category_id</th>\n",
       "      <th>category_code</th>\n",
       "      <th>brand</th>\n",
       "      <th>price</th>\n",
       "      <th>user_id</th>\n",
       "      <th>user_session</th>\n",
       "    </tr>\n",
       "  </thead>\n",
       "  <tbody>\n",
       "    <tr>\n",
       "      <th>0</th>\n",
       "      <td>2019-10-01 04:00:00</td>\n",
       "      <td>view</td>\n",
       "      <td>44600062</td>\n",
       "      <td>-251657396</td>\n",
       "      <td>NaN</td>\n",
       "      <td>shiseido</td>\n",
       "      <td>35.790001</td>\n",
       "      <td>541312140</td>\n",
       "      <td>72d76fde-8bb3-4e00-8c23-a032dfed738c</td>\n",
       "    </tr>\n",
       "    <tr>\n",
       "      <th>1</th>\n",
       "      <td>2019-10-01 04:00:00</td>\n",
       "      <td>view</td>\n",
       "      <td>3900821</td>\n",
       "      <td>-780140327</td>\n",
       "      <td>appliances.environment.water_heater</td>\n",
       "      <td>aqua</td>\n",
       "      <td>33.200001</td>\n",
       "      <td>554748717</td>\n",
       "      <td>9333dfbd-b87a-4708-9857-6336556b0fcc</td>\n",
       "    </tr>\n",
       "    <tr>\n",
       "      <th>2</th>\n",
       "      <td>2019-10-01 04:00:01</td>\n",
       "      <td>view</td>\n",
       "      <td>17200506</td>\n",
       "      <td>-1904213353</td>\n",
       "      <td>furniture.living_room.sofa</td>\n",
       "      <td>NaN</td>\n",
       "      <td>543.099976</td>\n",
       "      <td>519107250</td>\n",
       "      <td>566511c2-e2e3-422b-b695-cf8e6e792ca8</td>\n",
       "    </tr>\n",
       "    <tr>\n",
       "      <th>3</th>\n",
       "      <td>2019-10-01 04:00:01</td>\n",
       "      <td>view</td>\n",
       "      <td>1307067</td>\n",
       "      <td>1518338663</td>\n",
       "      <td>computers.notebook</td>\n",
       "      <td>lenovo</td>\n",
       "      <td>251.740005</td>\n",
       "      <td>550050854</td>\n",
       "      <td>7c90fc70-0e80-4590-96f3-13c02c18c713</td>\n",
       "    </tr>\n",
       "    <tr>\n",
       "      <th>4</th>\n",
       "      <td>2019-10-01 04:00:04</td>\n",
       "      <td>view</td>\n",
       "      <td>1004237</td>\n",
       "      <td>-1769995873</td>\n",
       "      <td>electronics.smartphone</td>\n",
       "      <td>apple</td>\n",
       "      <td>1081.979980</td>\n",
       "      <td>535871217</td>\n",
       "      <td>c6bd7419-2748-4c56-95b4-8cec9ff8b80d</td>\n",
       "    </tr>\n",
       "  </tbody>\n",
       "</table>\n",
       "</div>"
      ],
      "text/plain": [
       "           event_time event_type  product_id  category_id  \\\n",
       "0 2019-10-01 04:00:00       view    44600062   -251657396   \n",
       "1 2019-10-01 04:00:00       view     3900821   -780140327   \n",
       "2 2019-10-01 04:00:01       view    17200506  -1904213353   \n",
       "3 2019-10-01 04:00:01       view     1307067   1518338663   \n",
       "4 2019-10-01 04:00:04       view     1004237  -1769995873   \n",
       "\n",
       "                         category_code     brand        price    user_id  \\\n",
       "0                                  NaN  shiseido    35.790001  541312140   \n",
       "1  appliances.environment.water_heater      aqua    33.200001  554748717   \n",
       "2           furniture.living_room.sofa       NaN   543.099976  519107250   \n",
       "3                   computers.notebook    lenovo   251.740005  550050854   \n",
       "4               electronics.smartphone     apple  1081.979980  535871217   \n",
       "\n",
       "                           user_session  \n",
       "0  72d76fde-8bb3-4e00-8c23-a032dfed738c  \n",
       "1  9333dfbd-b87a-4708-9857-6336556b0fcc  \n",
       "2  566511c2-e2e3-422b-b695-cf8e6e792ca8  \n",
       "3  7c90fc70-0e80-4590-96f3-13c02c18c713  \n",
       "4  c6bd7419-2748-4c56-95b4-8cec9ff8b80d  "
      ]
     },
     "execution_count": 6,
     "metadata": {},
     "output_type": "execute_result"
    }
   ],
   "source": [
    "df.head()"
   ]
  },
  {
   "cell_type": "code",
   "execution_count": 7,
   "metadata": {
    "ExecuteTime": {
     "end_time": "2022-10-06T06:51:01.044197Z",
     "start_time": "2022-10-06T06:51:00.799723Z"
    },
    "executionInfo": {
     "elapsed": 5,
     "status": "ok",
     "timestamp": 1665034623476,
     "user": {
      "displayName": "황한재",
      "userId": "14227530291133837934"
     },
     "user_tz": -540
    },
    "id": "f9WX5_sCxk7-"
   },
   "outputs": [],
   "source": [
    "drop_user_id = df.loc[df['event_type'] != 'view', 'user_id']"
   ]
  },
  {
   "cell_type": "code",
   "execution_count": 8,
   "metadata": {
    "ExecuteTime": {
     "end_time": "2022-10-06T06:51:04.666183Z",
     "start_time": "2022-10-06T06:51:02.547665Z"
    },
    "colab": {
     "base_uri": "https://localhost:8080/",
     "height": 250
    },
    "executionInfo": {
     "elapsed": 2139,
     "status": "ok",
     "timestamp": 1665034625610,
     "user": {
      "displayName": "황한재",
      "userId": "14227530291133837934"
     },
     "user_tz": -540
    },
    "id": "WFRIUUxoxqKd",
    "outputId": "62133e66-dbea-4c22-ae80-1867422f578c"
   },
   "outputs": [
    {
     "data": {
      "text/html": [
       "<div>\n",
       "<style scoped>\n",
       "    .dataframe tbody tr th:only-of-type {\n",
       "        vertical-align: middle;\n",
       "    }\n",
       "\n",
       "    .dataframe tbody tr th {\n",
       "        vertical-align: top;\n",
       "    }\n",
       "\n",
       "    .dataframe thead th {\n",
       "        text-align: right;\n",
       "    }\n",
       "</style>\n",
       "<table border=\"1\" class=\"dataframe\">\n",
       "  <thead>\n",
       "    <tr style=\"text-align: right;\">\n",
       "      <th></th>\n",
       "      <th>index</th>\n",
       "      <th>event_time</th>\n",
       "      <th>event_type</th>\n",
       "      <th>product_id</th>\n",
       "      <th>category_id</th>\n",
       "      <th>category_code</th>\n",
       "      <th>brand</th>\n",
       "      <th>price</th>\n",
       "      <th>user_id</th>\n",
       "      <th>user_session</th>\n",
       "    </tr>\n",
       "  </thead>\n",
       "  <tbody>\n",
       "    <tr>\n",
       "      <th>0</th>\n",
       "      <td>1</td>\n",
       "      <td>2019-10-01 04:00:00</td>\n",
       "      <td>view</td>\n",
       "      <td>3900821</td>\n",
       "      <td>-780140327</td>\n",
       "      <td>appliances.environment.water_heater</td>\n",
       "      <td>aqua</td>\n",
       "      <td>33.200001</td>\n",
       "      <td>554748717</td>\n",
       "      <td>9333dfbd-b87a-4708-9857-6336556b0fcc</td>\n",
       "    </tr>\n",
       "    <tr>\n",
       "      <th>1</th>\n",
       "      <td>2</td>\n",
       "      <td>2019-10-01 04:00:01</td>\n",
       "      <td>view</td>\n",
       "      <td>17200506</td>\n",
       "      <td>-1904213353</td>\n",
       "      <td>furniture.living_room.sofa</td>\n",
       "      <td>NaN</td>\n",
       "      <td>543.099976</td>\n",
       "      <td>519107250</td>\n",
       "      <td>566511c2-e2e3-422b-b695-cf8e6e792ca8</td>\n",
       "    </tr>\n",
       "    <tr>\n",
       "      <th>2</th>\n",
       "      <td>3</td>\n",
       "      <td>2019-10-01 04:00:01</td>\n",
       "      <td>view</td>\n",
       "      <td>1307067</td>\n",
       "      <td>1518338663</td>\n",
       "      <td>computers.notebook</td>\n",
       "      <td>lenovo</td>\n",
       "      <td>251.740005</td>\n",
       "      <td>550050854</td>\n",
       "      <td>7c90fc70-0e80-4590-96f3-13c02c18c713</td>\n",
       "    </tr>\n",
       "    <tr>\n",
       "      <th>3</th>\n",
       "      <td>4</td>\n",
       "      <td>2019-10-01 04:00:04</td>\n",
       "      <td>view</td>\n",
       "      <td>1004237</td>\n",
       "      <td>-1769995873</td>\n",
       "      <td>electronics.smartphone</td>\n",
       "      <td>apple</td>\n",
       "      <td>1081.979980</td>\n",
       "      <td>535871217</td>\n",
       "      <td>c6bd7419-2748-4c56-95b4-8cec9ff8b80d</td>\n",
       "    </tr>\n",
       "    <tr>\n",
       "      <th>4</th>\n",
       "      <td>6</td>\n",
       "      <td>2019-10-01 04:00:08</td>\n",
       "      <td>view</td>\n",
       "      <td>17300353</td>\n",
       "      <td>746586423</td>\n",
       "      <td>NaN</td>\n",
       "      <td>creed</td>\n",
       "      <td>380.959991</td>\n",
       "      <td>555447699</td>\n",
       "      <td>4fe811e9-91de-46da-90c3-bbd87ed3a65d</td>\n",
       "    </tr>\n",
       "  </tbody>\n",
       "</table>\n",
       "</div>"
      ],
      "text/plain": [
       "   index          event_time event_type  product_id  category_id  \\\n",
       "0      1 2019-10-01 04:00:00       view     3900821   -780140327   \n",
       "1      2 2019-10-01 04:00:01       view    17200506  -1904213353   \n",
       "2      3 2019-10-01 04:00:01       view     1307067   1518338663   \n",
       "3      4 2019-10-01 04:00:04       view     1004237  -1769995873   \n",
       "4      6 2019-10-01 04:00:08       view    17300353    746586423   \n",
       "\n",
       "                         category_code   brand        price    user_id  \\\n",
       "0  appliances.environment.water_heater    aqua    33.200001  554748717   \n",
       "1           furniture.living_room.sofa     NaN   543.099976  519107250   \n",
       "2                   computers.notebook  lenovo   251.740005  550050854   \n",
       "3               electronics.smartphone   apple  1081.979980  535871217   \n",
       "4                                  NaN   creed   380.959991  555447699   \n",
       "\n",
       "                           user_session  \n",
       "0  9333dfbd-b87a-4708-9857-6336556b0fcc  \n",
       "1  566511c2-e2e3-422b-b695-cf8e6e792ca8  \n",
       "2  7c90fc70-0e80-4590-96f3-13c02c18c713  \n",
       "3  c6bd7419-2748-4c56-95b4-8cec9ff8b80d  \n",
       "4  4fe811e9-91de-46da-90c3-bbd87ed3a65d  "
      ]
     },
     "execution_count": 8,
     "metadata": {},
     "output_type": "execute_result"
    }
   ],
   "source": [
    "df = df.loc[~df['user_id'].isin(drop_user_id)].reset_index()\n",
    "\n",
    "df.head()"
   ]
  },
  {
   "cell_type": "code",
   "execution_count": 9,
   "metadata": {
    "ExecuteTime": {
     "end_time": "2022-10-06T06:51:05.700656Z",
     "start_time": "2022-10-06T06:51:05.538732Z"
    },
    "executionInfo": {
     "elapsed": 4,
     "status": "ok",
     "timestamp": 1665034625610,
     "user": {
      "displayName": "황한재",
      "userId": "14227530291133837934"
     },
     "user_tz": -540
    },
    "id": "JFZzhADzxvKJ"
   },
   "outputs": [],
   "source": [
    "data = df[['user_id','user_session','product_id','event_time']]"
   ]
  },
  {
   "cell_type": "code",
   "execution_count": 10,
   "metadata": {
    "ExecuteTime": {
     "end_time": "2022-10-06T06:51:19.046298Z",
     "start_time": "2022-10-06T06:51:08.533455Z"
    },
    "colab": {
     "base_uri": "https://localhost:8080/",
     "height": 455
    },
    "executionInfo": {
     "elapsed": 19373,
     "status": "ok",
     "timestamp": 1665034700017,
     "user": {
      "displayName": "황한재",
      "userId": "14227530291133837934"
     },
     "user_tz": -540
    },
    "id": "pS0jChFix1dD",
    "outputId": "86cff48a-1b39-4ac3-fb8b-f31e2940d161"
   },
   "outputs": [
    {
     "data": {
      "text/html": [
       "<div>\n",
       "<style scoped>\n",
       "    .dataframe tbody tr th:only-of-type {\n",
       "        vertical-align: middle;\n",
       "    }\n",
       "\n",
       "    .dataframe tbody tr th {\n",
       "        vertical-align: top;\n",
       "    }\n",
       "\n",
       "    .dataframe thead th {\n",
       "        text-align: right;\n",
       "    }\n",
       "</style>\n",
       "<table border=\"1\" class=\"dataframe\">\n",
       "  <thead>\n",
       "    <tr style=\"text-align: right;\">\n",
       "      <th></th>\n",
       "      <th></th>\n",
       "      <th></th>\n",
       "      <th>event_time</th>\n",
       "    </tr>\n",
       "    <tr>\n",
       "      <th>user_id</th>\n",
       "      <th>user_session</th>\n",
       "      <th>product_id</th>\n",
       "      <th></th>\n",
       "    </tr>\n",
       "  </thead>\n",
       "  <tbody>\n",
       "    <tr>\n",
       "      <th>554748717</th>\n",
       "      <th>9333dfbd-b87a-4708-9857-6336556b0fcc</th>\n",
       "      <th>3900821</th>\n",
       "      <td>2019-10-01 04:00:00</td>\n",
       "    </tr>\n",
       "    <tr>\n",
       "      <th>519107250</th>\n",
       "      <th>566511c2-e2e3-422b-b695-cf8e6e792ca8</th>\n",
       "      <th>17200506</th>\n",
       "      <td>2019-10-01 04:00:01</td>\n",
       "    </tr>\n",
       "    <tr>\n",
       "      <th>550050854</th>\n",
       "      <th>7c90fc70-0e80-4590-96f3-13c02c18c713</th>\n",
       "      <th>1307067</th>\n",
       "      <td>2019-10-01 04:00:01</td>\n",
       "    </tr>\n",
       "    <tr>\n",
       "      <th>535871217</th>\n",
       "      <th>c6bd7419-2748-4c56-95b4-8cec9ff8b80d</th>\n",
       "      <th>1004237</th>\n",
       "      <td>2019-10-01 04:00:04</td>\n",
       "    </tr>\n",
       "    <tr>\n",
       "      <th>555447699</th>\n",
       "      <th>4fe811e9-91de-46da-90c3-bbd87ed3a65d</th>\n",
       "      <th>17300353</th>\n",
       "      <td>2019-10-01 04:00:08</td>\n",
       "    </tr>\n",
       "    <tr>\n",
       "      <th>...</th>\n",
       "      <th>...</th>\n",
       "      <th>...</th>\n",
       "      <td>...</td>\n",
       "    </tr>\n",
       "    <tr>\n",
       "      <th>537931532</th>\n",
       "      <th>22c57267-da98-4f28-9a9c-18bb5b385193</th>\n",
       "      <th>2300275</th>\n",
       "      <td>2019-11-01 03:59:58</td>\n",
       "    </tr>\n",
       "    <tr>\n",
       "      <th>527322328</th>\n",
       "      <th>5054190a-46cb-4211-a8f1-16fc1a060ed8</th>\n",
       "      <th>10800172</th>\n",
       "      <td>2019-11-01 03:59:58</td>\n",
       "    </tr>\n",
       "    <tr>\n",
       "      <th>566280422</th>\n",
       "      <th>05b6c62b-992f-4e8e-91f7-961bcb4719cd</th>\n",
       "      <th>5701038</th>\n",
       "      <td>2019-11-01 03:59:58</td>\n",
       "    </tr>\n",
       "    <tr>\n",
       "      <th>513118352</th>\n",
       "      <th>4c14bf2a-2820-4504-929d-046356a5a204</th>\n",
       "      <th>21407424</th>\n",
       "      <td>2019-11-01 03:59:59</td>\n",
       "    </tr>\n",
       "    <tr>\n",
       "      <th>525266378</th>\n",
       "      <th>6e57d2d7-6022-46e6-81d6-fa77f14cefd8</th>\n",
       "      <th>13300120</th>\n",
       "      <td>2019-11-01 03:59:59</td>\n",
       "    </tr>\n",
       "  </tbody>\n",
       "</table>\n",
       "<p>24015563 rows × 1 columns</p>\n",
       "</div>"
      ],
      "text/plain": [
       "                                                                   event_time\n",
       "user_id   user_session                         product_id                    \n",
       "554748717 9333dfbd-b87a-4708-9857-6336556b0fcc 3900821    2019-10-01 04:00:00\n",
       "519107250 566511c2-e2e3-422b-b695-cf8e6e792ca8 17200506   2019-10-01 04:00:01\n",
       "550050854 7c90fc70-0e80-4590-96f3-13c02c18c713 1307067    2019-10-01 04:00:01\n",
       "535871217 c6bd7419-2748-4c56-95b4-8cec9ff8b80d 1004237    2019-10-01 04:00:04\n",
       "555447699 4fe811e9-91de-46da-90c3-bbd87ed3a65d 17300353   2019-10-01 04:00:08\n",
       "...                                                                       ...\n",
       "537931532 22c57267-da98-4f28-9a9c-18bb5b385193 2300275    2019-11-01 03:59:58\n",
       "527322328 5054190a-46cb-4211-a8f1-16fc1a060ed8 10800172   2019-11-01 03:59:58\n",
       "566280422 05b6c62b-992f-4e8e-91f7-961bcb4719cd 5701038    2019-11-01 03:59:58\n",
       "513118352 4c14bf2a-2820-4504-929d-046356a5a204 21407424   2019-11-01 03:59:59\n",
       "525266378 6e57d2d7-6022-46e6-81d6-fa77f14cefd8 13300120   2019-11-01 03:59:59\n",
       "\n",
       "[24015563 rows x 1 columns]"
      ]
     },
     "execution_count": 10,
     "metadata": {},
     "output_type": "execute_result"
    }
   ],
   "source": [
    "data.set_index(['user_id','user_session','product_id'])"
   ]
  },
  {
   "cell_type": "code",
   "execution_count": 11,
   "metadata": {
    "ExecuteTime": {
     "end_time": "2022-10-06T06:51:22.193704Z",
     "start_time": "2022-10-06T06:51:22.181942Z"
    },
    "executionInfo": {
     "elapsed": 857,
     "status": "ok",
     "timestamp": 1665037762171,
     "user": {
      "displayName": "황한재",
      "userId": "14227530291133837934"
     },
     "user_tz": -540
    },
    "id": "AVYna9rS3waI"
   },
   "outputs": [],
   "source": [
    "def func(user_id):\n",
    "  results = []\n",
    "  temp = data.loc[data['user_id'] == user_id]\n",
    "  user_sessions = temp['user_session'].unique()\n",
    "  for user_session in user_sessions:\n",
    "    temp2 = temp.loc[temp['user_session'] == user_session]\n",
    "    product_ids = temp2['product_id'].unique()\n",
    "    for product_id in product_ids:\n",
    "      temp3 = temp2.loc[temp2['product_id'] == product_id]\n",
    "     \n",
    "      #display(temp3)\n",
    "      if temp3.shape[0] == 1:\n",
    "        return [user_id, product_id, None]\n",
    "      else:\n",
    "        \n",
    "        #display(temp3['event_time'].diff().sum() / (temp3['event_time'].diff().shape[0]-1))\n",
    "        result = temp3['event_time'].diff().sum() / (temp3['event_time'].diff().shape[0]-1)\n",
    "        results.append([user_id, product_id, result])\n",
    "  return results"
   ]
  },
  {
   "cell_type": "code",
   "execution_count": 12,
   "metadata": {
    "ExecuteTime": {
     "end_time": "2022-10-06T06:51:32.475440Z",
     "start_time": "2022-10-06T06:51:31.847447Z"
    },
    "colab": {
     "base_uri": "https://localhost:8080/"
    },
    "executionInfo": {
     "elapsed": 10,
     "status": "ok",
     "timestamp": 1665037763571,
     "user": {
      "displayName": "황한재",
      "userId": "14227530291133837934"
     },
     "user_tz": -540
    },
    "id": "C_H853NhyboH",
    "outputId": "cc011d51-1fdd-4a69-eb92-3491bbb7f2e3"
   },
   "outputs": [
    {
     "name": "stdout",
     "output_type": "stream",
     "text": [
      "[184265397, 6902133, Timedelta('0 days 00:00:41')]\n",
      "[184265397, 6902303, Timedelta('0 days 00:00:14')]\n",
      "[184265397, 27400002, Timedelta('0 days 00:00:29')]\n"
     ]
    }
   ],
   "source": [
    "user_id = 184265397\n",
    "lst = func(user_id)\n",
    "for value in lst:\n",
    "  if type(value) == list:\n",
    "    print(value)\n",
    "  else:\n",
    "    print(lst)\n",
    "    break"
   ]
  },
  {
   "cell_type": "code",
   "execution_count": 13,
   "metadata": {
    "ExecuteTime": {
     "end_time": "2022-10-06T06:51:34.607135Z",
     "start_time": "2022-10-06T06:51:34.582813Z"
    },
    "colab": {
     "base_uri": "https://localhost:8080/"
    },
    "executionInfo": {
     "elapsed": 9,
     "status": "ok",
     "timestamp": 1665037763571,
     "user": {
      "displayName": "황한재",
      "userId": "14227530291133837934"
     },
     "user_tz": -540
    },
    "id": "L5fdFxDx0Eal",
    "outputId": "34833526-450a-430b-ac39-df8903afca8e"
   },
   "outputs": [
    {
     "data": {
      "text/plain": [
       "[33869381, 7002639, None]"
      ]
     },
     "execution_count": 13,
     "metadata": {},
     "output_type": "execute_result"
    }
   ],
   "source": [
    "user_id = 33869381\n",
    "func(user_id)"
   ]
  },
  {
   "cell_type": "code",
   "execution_count": 14,
   "metadata": {
    "ExecuteTime": {
     "end_time": "2022-10-06T06:51:35.507814Z",
     "start_time": "2022-10-06T06:51:35.485480Z"
    },
    "colab": {
     "base_uri": "https://localhost:8080/"
    },
    "executionInfo": {
     "elapsed": 7,
     "status": "ok",
     "timestamp": 1665037763571,
     "user": {
      "displayName": "황한재",
      "userId": "14227530291133837934"
     },
     "user_tz": -540
    },
    "id": "pCxqcepQ2PVR",
    "outputId": "a331f903-ae64-4b65-ddb0-3dce52798809"
   },
   "outputs": [
    {
     "data": {
      "text/plain": [
       "[566243205, 1004739, None]"
      ]
     },
     "execution_count": 14,
     "metadata": {},
     "output_type": "execute_result"
    }
   ],
   "source": [
    "user_id = 566243205\n",
    "func(user_id)"
   ]
  },
  {
   "cell_type": "code",
   "execution_count": 15,
   "metadata": {
    "ExecuteTime": {
     "end_time": "2022-10-06T06:51:36.571387Z",
     "start_time": "2022-10-06T06:51:36.546511Z"
    },
    "colab": {
     "base_uri": "https://localhost:8080/"
    },
    "executionInfo": {
     "elapsed": 7,
     "status": "ok",
     "timestamp": 1665037763572,
     "user": {
      "displayName": "황한재",
      "userId": "14227530291133837934"
     },
     "user_tz": -540
    },
    "id": "MLqhmng734ZQ",
    "outputId": "863ba8e8-9b3a-4b17-85e2-07af8561be0c"
   },
   "outputs": [
    {
     "data": {
      "text/plain": [
       "[[554006311, 4802036, Timedelta('0 days 12:13:28.816666666')]]"
      ]
     },
     "execution_count": 15,
     "metadata": {},
     "output_type": "execute_result"
    }
   ],
   "source": [
    "user_id = 554006311\n",
    "func(user_id)"
   ]
  },
  {
   "cell_type": "code",
   "execution_count": 16,
   "metadata": {
    "ExecuteTime": {
     "end_time": "2022-10-06T06:51:39.257203Z",
     "start_time": "2022-10-06T06:51:38.736079Z"
    },
    "executionInfo": {
     "elapsed": 6,
     "status": "ok",
     "timestamp": 1665037763572,
     "user": {
      "displayName": "황한재",
      "userId": "14227530291133837934"
     },
     "user_tz": -540
    },
    "id": "RuV-0Qt8349X"
   },
   "outputs": [],
   "source": [
    "user_ids = df['user_id'].unique()"
   ]
  },
  {
   "cell_type": "code",
   "execution_count": null,
   "metadata": {
    "ExecuteTime": {
     "start_time": "2022-10-06T06:53:15.434Z"
    },
    "colab": {
     "base_uri": "https://localhost:8080/"
    },
    "executionInfo": {
     "elapsed": 18761,
     "status": "ok",
     "timestamp": 1665037862502,
     "user": {
      "displayName": "황한재",
      "userId": "14227530291133837934"
     },
     "user_tz": -540
    },
    "id": "tcsOFIE-6YF5",
    "outputId": "333b28f5-3efa-4e13-b29f-a5e222f821bf"
   },
   "outputs": [
    {
     "name": "stderr",
     "output_type": "stream",
     "text": [
      "  3%|█                               | 82799/2540832 [09:42<4:41:32, 145.51it/s]"
     ]
    }
   ],
   "source": [
    "frame = []\n",
    "for user_id in tqdm(user_ids):\n",
    "  lst = func(user_id)\n",
    "\n",
    "  for value in lst:\n",
    "    if type(value) == list:\n",
    "      frame.append(value)\n",
    "    else:\n",
    "      frame.append(lst)\n",
    "      break"
   ]
  },
  {
   "cell_type": "code",
   "execution_count": 18,
   "metadata": {
    "ExecuteTime": {
     "end_time": "2022-10-06T06:51:56.185172Z",
     "start_time": "2022-10-06T06:51:56.172134Z"
    },
    "executionInfo": {
     "elapsed": 774,
     "status": "ok",
     "timestamp": 1665038088753,
     "user": {
      "displayName": "황한재",
      "userId": "14227530291133837934"
     },
     "user_tz": -540
    },
    "id": "P0ecEi9C8_CW"
   },
   "outputs": [],
   "source": [
    "result_frame = pd.DataFrame(frame, columns=['user_id','product_id','term'])"
   ]
  },
  {
   "cell_type": "code",
   "execution_count": 19,
   "metadata": {
    "ExecuteTime": {
     "end_time": "2022-10-06T06:51:58.946745Z",
     "start_time": "2022-10-06T06:51:58.934611Z"
    },
    "colab": {
     "base_uri": "https://localhost:8080/"
    },
    "executionInfo": {
     "elapsed": 3,
     "status": "ok",
     "timestamp": 1665038138986,
     "user": {
      "displayName": "황한재",
      "userId": "14227530291133837934"
     },
     "user_tz": -540
    },
    "id": "STSq4Nw79NXP",
    "outputId": "abb8fc78-6e5e-436a-bee5-a5440ff5c890"
   },
   "outputs": [
    {
     "data": {
      "text/plain": [
       "Timedelta('0 days 00:01:47')"
      ]
     },
     "execution_count": 19,
     "metadata": {},
     "output_type": "execute_result"
    }
   ],
   "source": [
    "result_frame.to_parquet('add_term.parquet')"
   ]
  },
  {
   "cell_type": "code",
   "execution_count": null,
   "metadata": {
    "id": "raoQEvzFASXI"
   },
   "outputs": [],
   "source": []
  }
 ],
 "metadata": {
  "accelerator": "GPU",
  "colab": {
   "authorship_tag": "ABX9TyNDY0tWdesyiPBOq8DUebUP",
   "collapsed_sections": [],
   "machine_shape": "hm",
   "mount_file_id": "1Feep-X__k_xV-WGJR5uGpyF1fuHN2_6W",
   "provenance": []
  },
  "gpuClass": "standard",
  "kernelspec": {
   "display_name": "Python 3 (ipykernel)",
   "language": "python",
   "name": "python3"
  },
  "language_info": {
   "codemirror_mode": {
    "name": "ipython",
    "version": 3
   },
   "file_extension": ".py",
   "mimetype": "text/x-python",
   "name": "python",
   "nbconvert_exporter": "python",
   "pygments_lexer": "ipython3",
   "version": "3.9.7"
  },
  "toc": {
   "base_numbering": 1,
   "nav_menu": {},
   "number_sections": true,
   "sideBar": true,
   "skip_h1_title": false,
   "title_cell": "Table of Contents",
   "title_sidebar": "Contents",
   "toc_cell": false,
   "toc_position": {},
   "toc_section_display": true,
   "toc_window_display": false
  }
 },
 "nbformat": 4,
 "nbformat_minor": 1
}
